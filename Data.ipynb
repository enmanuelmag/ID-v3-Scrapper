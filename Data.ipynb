{
 "cells": [
  {
   "cell_type": "code",
   "execution_count": 1,
   "metadata": {},
   "outputs": [],
   "source": [
    "import pandas as pd\n",
    "import os"
   ]
  },
  {
   "cell_type": "code",
   "execution_count": 2,
   "metadata": {},
   "outputs": [],
   "source": [
    "FILE = './data/tiktok_violencia_guayaquil.csv'\n",
    "\n",
    "df = pd.read_csv(FILE, delimiter='\\t')"
   ]
  },
  {
   "cell_type": "code",
   "execution_count": 3,
   "metadata": {},
   "outputs": [
    {
     "name": "stdout",
     "output_type": "stream",
     "text": [
      "Total comments: 15802\n"
     ]
    }
   ],
   "source": [
    "df['scrapped_comments'] = df['comments_text'].apply(lambda x: len(str(x).split('|')))\n",
    "total_comments = df['scrapped_comments'].sum()\n",
    "print(f'Total comments: {total_comments}')"
   ]
  },
  {
   "cell_type": "code",
   "execution_count": 4,
   "metadata": {},
   "outputs": [],
   "source": [
    "#df.to_csv(FILE, sep='\\t', index=False)"
   ]
  },
  {
   "cell_type": "code",
   "execution_count": 11,
   "metadata": {},
   "outputs": [
    {
     "name": "stdout",
     "output_type": "stream",
     "text": [
      "Processing tiktok_violencia_guayaquilv1.csv\n",
      "Processing tiktok_violencia_guayaquil_little.csv\n",
      "Processing tiktok_violencia_guayaquil1.csv\n",
      "Processing tiktok_violencia_guayaquil_Enmanuel.csv\n",
      "Total comments: 17195\n"
     ]
    },
    {
     "name": "stderr",
     "output_type": "stream",
     "text": [
      "/var/folders/wy/yk4g6s5x4zbbmw664n4m40040000gn/T/ipykernel_17769/602670469.py:8: FutureWarning: The behavior of DataFrame concatenation with empty or all-NA entries is deprecated. In a future version, this will no longer exclude empty or all-NA columns when determining the result dtypes. To retain the old behavior, exclude the relevant entries before the concat operation.\n",
      "  df_merge = pd.concat([df_merge, pd.read_csv(f'{MERGE_DIR}/{file}', delimiter='\\t')])\n"
     ]
    }
   ],
   "source": [
    "MERGE_DIR = './merge'\n",
    "\n",
    "df_merge = pd.DataFrame(columns='link\tdescription\tusername\tdate\tlinks\tcomments\tshares\tcomments_text'.split('\\t'))\n",
    "\n",
    "for file in os.listdir(MERGE_DIR):\n",
    "    if file.endswith('.csv'):\n",
    "        print(f'Processing {file}')\n",
    "        df_merge = pd.concat([df_merge, pd.read_csv(f'{MERGE_DIR}/{file}', delimiter='\\t')])\n",
    "\n",
    "df_merge = df_merge.drop_duplicates(subset='link')\n",
    "\n",
    "df_merge['scrapped_comments'] = df_merge['comments_text'].apply(lambda x: len(str(x).split('|')))\n",
    "total_comments = df_merge['scrapped_comments'].sum()\n",
    "print(f'Total comments: {total_comments}')"
   ]
  },
  {
   "cell_type": "code",
   "execution_count": 16,
   "metadata": {},
   "outputs": [
    {
     "name": "stdout",
     "output_type": "stream",
     "text": [
      "Total comments: 23465\n"
     ]
    }
   ],
   "source": [
    "FILE = './data/append.xlsx'\n",
    "\n",
    "df = pd.read_excel(FILE)\n",
    "\n",
    "df = df.drop_duplicates(subset='link')\n",
    "\n",
    "df['scrapped_comments'] = df['comments_text'].apply(lambda x: len(str(x).split('|')))\n",
    "total_comments = df['scrapped_comments'].sum()\n",
    "print(f'Total comments: {total_comments}')"
   ]
  }
 ],
 "metadata": {
  "kernelspec": {
   "display_name": "scrapping",
   "language": "python",
   "name": "python3"
  },
  "language_info": {
   "codemirror_mode": {
    "name": "ipython",
    "version": 3
   },
   "file_extension": ".py",
   "mimetype": "text/x-python",
   "name": "python",
   "nbconvert_exporter": "python",
   "pygments_lexer": "ipython3",
   "version": "3.11.11"
  }
 },
 "nbformat": 4,
 "nbformat_minor": 2
}
