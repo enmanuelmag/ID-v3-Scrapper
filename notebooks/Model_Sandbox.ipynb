{
 "cells": [
  {
   "cell_type": "code",
   "execution_count": null,
   "metadata": {},
   "outputs": [],
   "source": [
    "%load_ext autoreload\n",
    "%reload_ext autoreload\n",
    "\n",
    "%autoreload 2\n",
    "\n",
    "import mlflow as mlf\n",
    "import sys\n",
    "import os\n",
    "sys.path.append('../')\n",
    "\n",
    "from model.utils import load_model, load_dataset\n",
    "from model.train import train_model"
   ]
  },
  {
   "cell_type": "markdown",
   "metadata": {},
   "source": [
    "## Smoke tests for rebertuito model"
   ]
  },
  {
   "cell_type": "code",
   "execution_count": null,
   "metadata": {},
   "outputs": [],
   "source": [
    "ds_path = os.path.abspath(os.path.join('..', 'model', 'tweets_parsed.csv'))\n",
    "\n",
    "ds = load_dataset(ds_path, force=False)\n",
    "for key in ds.keys():\n",
    "  for v in ds[key]:\n",
    "    print(key, v)\n",
    "    break\n",
    "\n",
    "model, tokenizer = load_model(base_model='pysentimiento/robertuito-base-uncased')"
   ]
  },
  {
   "cell_type": "markdown",
   "metadata": {},
   "source": [
    "## Smoke test for ReBERTuito+BLSTM"
   ]
  },
  {
   "cell_type": "code",
   "execution_count": null,
   "metadata": {},
   "outputs": [],
   "source": [
    "ds_path = os.path.abspath(os.path.join('..', 'model', 'tweets_parsed.csv'))\n",
    "\n",
    "ds = load_dataset(ds_path, force=False)\n",
    "for key in ds.keys():\n",
    "  for v in ds[key]:\n",
    "    print(key, v)\n",
    "    break\n",
    "\n",
    "model, tokenizer = load_model(base_model='pysentimiento/robertuito-base-uncased', blstm=True)"
   ]
  },
  {
   "cell_type": "markdown",
   "metadata": {},
   "source": [
    "Smoke test train"
   ]
  },
  {
   "cell_type": "code",
   "execution_count": null,
   "metadata": {},
   "outputs": [],
   "source": [
    "train_model(limit=8)"
   ]
  },
  {
   "cell_type": "markdown",
   "metadata": {},
   "source": [
    "## Analysis runs"
   ]
  },
  {
   "cell_type": "code",
   "execution_count": null,
   "metadata": {},
   "outputs": [],
   "source": [
    "import mlflow as mlf\n",
    "from transformers import (\n",
    "    AutoModelForSequenceClassification,\n",
    ")\n",
    "\n",
    "runs_path = os.path.abspath(os.path.join('..', 'model', 'mlruns'))\n",
    "\n",
    "print(runs_path)\n",
    "\n",
    "mlf.set_tracking_uri('file:/ ' + runs_path)\n",
    "\n",
    "columns = ['run_id', 'status', 'metrics.train_runtime', 'metrics.eval_macro_recall', 'metrics.eval_macro_precision', 'metrics.eval_macro_f1', 'metrics.train_loss', 'artifact_uri']\n",
    "\n",
    "runs = mlf.search_runs(\n",
    "  filter_string='status=\"FINISHED\"',\n",
    "  order_by=['metrics.eval_macro_f1 DESC']\n",
    ")\n",
    "\n",
    "runs[columns]"
   ]
  },
  {
   "cell_type": "code",
   "execution_count": null,
   "metadata": {},
   "outputs": [],
   "source": [
    "#load model with best f1 score\n",
    "best_run = runs.iloc[0]\n",
    "\n",
    "best_run['run_id']"
   ]
  },
  {
   "cell_type": "code",
   "execution_count": 11,
   "metadata": {},
   "outputs": [],
   "source": [
    "_model = AutoModelForSequenceClassification.from_pretrained(f'{best_run[\"artifact_uri\"]}/model'.replace('file:///', ''))\n",
    "_model"
   ]
  }
 ],
 "metadata": {
  "kernelspec": {
   "display_name": "torch",
   "language": "python",
   "name": "python3"
  },
  "language_info": {
   "codemirror_mode": {
    "name": "ipython",
    "version": 3
   },
   "file_extension": ".py",
   "mimetype": "text/x-python",
   "name": "python",
   "nbconvert_exporter": "python",
   "pygments_lexer": "ipython3",
   "version": "3.11.11"
  }
 },
 "nbformat": 4,
 "nbformat_minor": 2
}
