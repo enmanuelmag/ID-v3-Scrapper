{
 "cells": [
  {
   "cell_type": "markdown",
   "metadata": {},
   "source": [
    "# Smokes tests"
   ]
  },
  {
   "cell_type": "code",
   "execution_count": 1,
   "metadata": {},
   "outputs": [],
   "source": [
    "%load_ext autoreload\n",
    "%reload_ext autoreload\n",
    "\n",
    "%autoreload 2\n",
    "\n",
    "import mlflow as mlf\n",
    "import sys\n",
    "import os\n",
    "sys.path.append('../')\n",
    "\n",
    "from model.utils import load_model, load_dataset\n",
    "from model.train import train_model"
   ]
  },
  {
   "cell_type": "code",
   "execution_count": 3,
   "metadata": {},
   "outputs": [
    {
     "name": "stdout",
     "output_type": "stream",
     "text": [
      "Max length configurado para RoBERTa: 1000000000000000019884624838656\n"
     ]
    }
   ],
   "source": [
    "from transformers import AutoTokenizer\n",
    "\n",
    "tokenizer = AutoTokenizer.from_pretrained('pysentimiento/robertuito-base-uncased')\n",
    "max_length = tokenizer.model_max_length\n",
    "print(f\"Max length configurado para RoBERTa: {max_length}\")"
   ]
  },
  {
   "cell_type": "markdown",
   "metadata": {},
   "source": [
    "## Smoke tests for rebertuito model"
   ]
  },
  {
   "cell_type": "code",
   "execution_count": null,
   "metadata": {},
   "outputs": [],
   "source": [
    "ds_path = os.path.abspath(os.path.join('..', 'model', 'tweets_parsed_pruned.csv'))\n",
    "\n",
    "ds = load_dataset(ds_path, force=False)\n",
    "for key in ds.keys():\n",
    "  for v in ds[key]:\n",
    "    print(key, v)\n",
    "    break\n",
    "\n",
    "model, tokenizer = load_model(base_model='pysentimiento/robertuito-base-uncased')"
   ]
  },
  {
   "cell_type": "markdown",
   "metadata": {},
   "source": [
    "## Smoke test for ReBERTuito+BLSTM"
   ]
  },
  {
   "cell_type": "code",
   "execution_count": null,
   "metadata": {},
   "outputs": [],
   "source": [
    "ds_path = os.path.abspath(os.path.join('..', 'model', 'tweets_parsed_pruned.csv'))\n",
    "\n",
    "ds = load_dataset(ds_path, force=False)\n",
    "for key in ds.keys():\n",
    "  for v in ds[key]:\n",
    "    print(key, v)\n",
    "    break\n",
    "\n",
    "train_arg = {\n",
    "    \"epochs\": 6,\n",
    "    \"batch_size\": 92,\n",
    "    \"accumulation_steps\": 1,\n",
    "    \"warmup_ratio\": 0.1,\n",
    "    \"learning_rate\": 5e-5,\n",
    "    \"weight_decay\": 0.01,\n",
    "    \"blstm\": True,\n",
    "    \"lstm_hidden_dim\": 128,\n",
    "    \"lstm_num_layers\": 2,\n",
    "}\n",
    "\n",
    "model, tokenizer = load_model(base_model='pysentimiento/robertuito-base-uncased', train_arg=train_arg)\n",
    "\n",
    "dataset = ds.map(\n",
    "    lambda x: tokenizer(\n",
    "        x[\"text\"],\n",
    "        padding=True if not train_arg.get(\"blstm\", False) else \"max_length\",\n",
    "        truncation=True,\n",
    "    ),\n",
    "    batched=True,\n",
    ")\n",
    "\n",
    "train_dataloader = dataset[\"train\"].batch(92)"
   ]
  },
  {
   "cell_type": "code",
   "execution_count": null,
   "metadata": {},
   "outputs": [],
   "source": [
    "train_model(limit=8)"
   ]
  },
  {
   "cell_type": "markdown",
   "metadata": {},
   "source": [
    "# Analysis runs"
   ]
  },
  {
   "cell_type": "code",
   "execution_count": null,
   "metadata": {},
   "outputs": [],
   "source": [
    "\n",
    "import os\n",
    "import sys\n",
    "sys.path.append('../model')\n",
    "\n",
    "import mlflow as mlf\n",
    "from transformers import (\n",
    "    AutoModelForSequenceClassification\n",
    ")\n",
    "\n",
    "runs_path = os.path.abspath(os.path.join('..', 'model', 'mlruns'))\n",
    "\n",
    "mlf.set_tracking_uri('file:/ ' + runs_path)\n",
    "\n",
    "columns = [\n",
    "  'run_id', 'status', 'params.lstm_hidden_dim', 'params.lstm_num_layers',\n",
    "  'metrics.train_runtime', 'metrics.eval_macro_f1', 'metrics.train_loss', 'metrics.eval_macro_recall', 'metrics.eval_macro_precision',\n",
    "  'artifact_uri',\n",
    "\n",
    "]\n",
    "\n",
    "runs = mlf.search_runs(\n",
    "  filter_string='status=\"FINISHED\"',\n",
    "  order_by=['metrics.eval_macro_f1 DESC']\n",
    ")[columns]\n",
    "\n",
    "runs"
   ]
  },
  {
   "cell_type": "markdown",
   "metadata": {},
   "source": [
    "## Import best Robertuito model"
   ]
  },
  {
   "cell_type": "code",
   "execution_count": 11,
   "metadata": {},
   "outputs": [],
   "source": [
    "run_torch = runs[runs['run_id'] == '0dfbb860725d4bcaa12549371f948a64'].iloc[0]\n",
    "roubertuito = AutoModelForSequenceClassification.from_pretrained(f'{run_torch[\"artifact_uri\"]}/model'.replace('file:///', ''))\n",
    "roubertuito"
   ]
  },
  {
   "cell_type": "markdown",
   "metadata": {},
   "source": [
    "## Import Robertuito+BiLSTM model"
   ]
  },
  {
   "cell_type": "code",
   "execution_count": null,
   "metadata": {},
   "outputs": [],
   "source": [
    "run_torch = runs[runs['run_id'] == 'd7710812eef0481fbf6f78716417717b'].iloc[0]\n",
    "robertuito_blstm = mlf.pytorch.load_model(run_torch['artifact_uri'] + '/model')\n",
    "robertuito_blstm"
   ]
  }
 ],
 "metadata": {
  "kernelspec": {
   "display_name": "torch",
   "language": "python",
   "name": "python3"
  },
  "language_info": {
   "codemirror_mode": {
    "name": "ipython",
    "version": 3
   },
   "file_extension": ".py",
   "mimetype": "text/x-python",
   "name": "python",
   "nbconvert_exporter": "python",
   "pygments_lexer": "ipython3",
   "version": "3.11.11"
  }
 },
 "nbformat": 4,
 "nbformat_minor": 2
}
