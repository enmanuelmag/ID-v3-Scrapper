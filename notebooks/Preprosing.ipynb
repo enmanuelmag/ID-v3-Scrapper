{
 "cells": [
  {
   "cell_type": "code",
   "execution_count": 2,
   "metadata": {},
   "outputs": [],
   "source": [
    "import pandas as pd\n",
    "import os\n",
    "from tqdm import trange, tqdm\n",
    "\n",
    "tqdm.pandas(desc=\"Processing row\")"
   ]
  },
  {
   "cell_type": "code",
   "execution_count": 4,
   "metadata": {},
   "outputs": [
    {
     "name": "stdout",
     "output_type": "stream",
     "text": [
      "Loading betsentiment-ES-tweets-sentiment-teams.csv...\n",
      "Loaded betsentiment-ES-tweets-sentiment-teams.csv with 132707 tweets (columns: tweet_date_created, tweet_id, tweet_text, language, sentiment, sentiment_score)\n",
      "Loading betsentiment-ES-tweets-sentiment-worldcup.csv...\n",
      "Loaded betsentiment-ES-tweets-sentiment-worldcup.csv with 198460 tweets (columns: tweet_date_created, tweet_id, tweet_text, language, sentiment, sentiment_score)\n"
     ]
    }
   ],
   "source": [
    "DIR_TWEETS = '../model/raw/'\n",
    "\n",
    "df = pd.DataFrame()\n",
    "\n",
    "for file in os.listdir(DIR_TWEETS):\n",
    "    print(f'Loading {file}...')\n",
    "    _df = pd.read_csv(DIR_TWEETS + file, encoding='latin-1')\n",
    "    df = pd.concat([df, _df])\n",
    "    df.columns = _df.columns\n",
    "    print(f'Loaded {file} with {len(_df)} tweets (columns: {\", \".join(_df.columns)})')\n"
   ]
  },
  {
   "cell_type": "code",
   "execution_count": 5,
   "metadata": {},
   "outputs": [
    {
     "data": {
      "text/plain": [
       "(331167, 6)"
      ]
     },
     "execution_count": 5,
     "metadata": {},
     "output_type": "execute_result"
    }
   ],
   "source": [
    "df.shape"
   ]
  },
  {
   "cell_type": "code",
   "execution_count": 6,
   "metadata": {},
   "outputs": [],
   "source": [
    "scores_names = {\n",
    "    'Neutral': 'NEU',\n",
    "    'Positive': 'POS',\n",
    "    'Negative': 'NEG',\n",
    "}\n",
    "\n",
    "def parse_scores_to_columns(_df):\n",
    "\n",
    "    df_scores = pd.DataFrame(columns=['NEU', 'POS', 'NEG'])\n",
    "\n",
    "    for _, row in tqdm(_df.iterrows(), total=len(_df), desc='Processing rows'):\n",
    "\n",
    "        try:\n",
    "            score_dict = eval(row['sentiment_score'])\n",
    "        except:\n",
    "            score_dict = {'Neutral': 0, 'Positive': 0, 'Negative': 0, 'Mixed': 0}\n",
    "\n",
    "        mixed = score_dict['Mixed'] / 3\n",
    "        neu = (score_dict['Neutral'] + mixed) / 2\n",
    "        pos = (score_dict['Positive'] + mixed) / 2\n",
    "        neg = (score_dict['Negative'] + mixed) / 2\n",
    "\n",
    "        df_scores.loc[len(df_scores)] = [neu, pos, neg] \n",
    "\n",
    "    return df_scores\n"
   ]
  },
  {
   "cell_type": "code",
   "execution_count": 7,
   "metadata": {},
   "outputs": [
    {
     "name": "stderr",
     "output_type": "stream",
     "text": [
      "Processing rows: 100%|██████████| 331167/331167 [17:45<00:00, 310.85it/s]\n"
     ]
    }
   ],
   "source": [
    "df_scores = parse_scores_to_columns(df)"
   ]
  },
  {
   "cell_type": "code",
   "execution_count": 8,
   "metadata": {},
   "outputs": [],
   "source": [
    "# add columns df_scores to df\n",
    "for column in df_scores.columns:\n",
    "    df[column] = df_scores[column]\n",
    "\n",
    "df = df[df['sentiment'] != 'MIXED']\n",
    "df = df.dropna(subset=['sentiment'])\n",
    "\n",
    "df_just_negative = df[df['sentiment'] == 'NEGATIVE']\n",
    "df_just_positive = df[df['sentiment'] == 'POSITIVE']\n",
    "df_just_neutral = df[df['sentiment'] == 'NEUTRAL']\n",
    "\n",
    "df_just_negative = df_just_negative.sample(n=31086, random_state=42)\n",
    "df_just_positive = df_just_positive.sample(n=31086, random_state=42)\n",
    "df_just_neutral = df_just_neutral.sample(n=31086, random_state=42)\n",
    "\n",
    "df = pd.concat([df_just_negative, df_just_positive, df_just_neutral])\n",
    "\n",
    "df['lang'] = 'es'\n",
    "\n",
    "df.to_csv('../model/tweets_parsed_pruned.csv', index=False)\n"
   ]
  },
  {
   "cell_type": "code",
   "execution_count": 3,
   "metadata": {},
   "outputs": [],
   "source": [
    "_df = pd.read_csv('../model/data/parsed/tweets_parsed_pruned.csv')"
   ]
  }
 ],
 "metadata": {
  "kernelspec": {
   "display_name": "torch",
   "language": "python",
   "name": "python3"
  },
  "language_info": {
   "codemirror_mode": {
    "name": "ipython",
    "version": 3
   },
   "file_extension": ".py",
   "mimetype": "text/x-python",
   "name": "python",
   "nbconvert_exporter": "python",
   "pygments_lexer": "ipython3",
   "version": "3.11.11"
  }
 },
 "nbformat": 4,
 "nbformat_minor": 2
}
