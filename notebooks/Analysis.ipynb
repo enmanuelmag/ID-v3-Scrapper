{
 "cells": [
  {
   "cell_type": "code",
   "execution_count": 63,
   "metadata": {},
   "outputs": [
    {
     "name": "stdout",
     "output_type": "stream",
     "text": [
      "The autoreload extension is already loaded. To reload it, use:\n",
      "  %reload_ext autoreload\n"
     ]
    }
   ],
   "source": [
    "%load_ext autoreload\n",
    "#%reload_ext autoreload\n",
    "\n",
    "%autoreload 2\n",
    "\n",
    "import sys\n",
    "import logging\n",
    "\n",
    "sys.path.append(\"../model\")\n",
    "\n",
    "import re\n",
    "import os\n",
    "import pandas as pd\n",
    "import mlflow as mlf\n",
    "from tqdm.auto import tqdm\n",
    "\n",
    "tqdm.pandas()\n",
    "\n",
    "from pysentimiento.preprocessing import preprocess_tweet\n",
    "from analyzer_blstm import (\n",
    "    AnalyzerForSequenceClassification,\n",
    "    create_analyzer_blstm,\n",
    ")\n",
    "\n",
    "logging.getLogger(\"Utils\").setLevel(logging.DEBUG)\n",
    "\n",
    "\n",
    "ROBERTUITO_RUN_ID = \"52089d0757e64bf588f2c75e439ae4e0\"  # FINAL\n",
    "\n",
    "ROBERTUITO_BLSTM_RUN_ID = \"631eeac0d2d84a24a6b41a7ff6cc3ba4\"  # FINAL\n",
    "\n",
    "MIN_TEXT_LENGTH = 4\n",
    "\n",
    "PIVOT_DATE = \"2025-01-10\"\n",
    "\n",
    "PRE_CONTEXT = \"Aumento de violencia en ciudades del Ecuador, se presentan mas robos, asesinatos, secuestros, terrorismo en canales de TV, problemas de inseguridad, jueces que liberan a delincuentes, amotinamientos en cárceles, etc\""
   ]
  },
  {
   "cell_type": "code",
   "execution_count": 64,
   "metadata": {},
   "outputs": [],
   "source": [
    "def str_to_date_tiktok(text: str, pivot_date=PIVOT_DATE) -> pd.Timestamp:\n",
    "    text = str(text).strip()\n",
    "\n",
    "    def _parse_date(_text: str) -> pd.Timestamp:\n",
    "        formats = [\"%d-%m-%Y\", \"%d/%m/%Y\", \"%Y-%m-%d\", \"%Y/%m/%d\"]\n",
    "        for fmt in formats:\n",
    "            try:\n",
    "                return pd.to_datetime(_text, format=fmt, errors=\"raise\")\n",
    "            except ValueError:\n",
    "                continue\n",
    "\n",
    "    if text and re.match(r\"\\d{4}[-/]\\d{1,2}[-/]\\d{1,2}\", text):\n",
    "        return _parse_date(text)\n",
    "    elif text and re.match(r\"\\d{1,2}[-/]\\d{1,2}[-/]\\d{4}\", text):\n",
    "        return _parse_date(text)\n",
    "    elif text and re.match(r\"\\d{1,2}[-/]\\d{1,2}\", text):\n",
    "        if \"-\" in text:\n",
    "            _, month = text.split(\"-\")\n",
    "        else:\n",
    "            _, month = text.split(\"/\")\n",
    "        if month == 1:\n",
    "            text = f\"{text}-2025\"\n",
    "        else:\n",
    "            text = f\"{text}-2024\"\n",
    "        text = text.replace(\"/\", \"-\")\n",
    "        return pd.to_datetime(text, format=\"%m-%d-%Y\", errors=\"raise\")\n",
    "    elif \"ago\" in text:\n",
    "        pivot_date = pd.to_datetime(pivot_date, errors=\"raise\", format=\"%Y-%m-%d\")\n",
    "        if \"d\" in text:\n",
    "            date = pivot_date - pd.Timedelta(days=int(text.split(\"d ago\")[0]))\n",
    "        elif \"h\" in text:\n",
    "            date = pivot_date - pd.Timedelta(hours=int(text.split(\"h ago\")[0]))\n",
    "        elif \"w\" in text:\n",
    "            date = pivot_date - pd.Timedelta(weeks=int(text.split(\"w ago\")[0]))\n",
    "        elif \"m\" in text:\n",
    "            date = pivot_date - pd.Timedelta(month=int(text.split(\"m ago\")[0]))\n",
    "        else:\n",
    "            date = pivot_date\n",
    "        return date\n",
    "\n",
    "    return pd.NaT\n",
    "\n",
    "\n",
    "def str_to_date_twitter(text: str) -> pd.Timestamp:\n",
    "    text = str(text).strip()\n",
    "\n",
    "    def _parse_timestamp(serial: int) -> pd.Timestamp:\n",
    "        # Fecha base en Excel (1 de enero de 1900)\n",
    "        fecha_base = pd.Timestamp(\"1900-01-01\")\n",
    "\n",
    "        # Convertir el número de serie a una fecha\n",
    "        fecha = fecha_base + pd.Timedelta(days=serial - 2)\n",
    "\n",
    "        # Formatear la fecha en el formato \"dd/mm/yyyy\"\n",
    "        fecha_formateada = fecha.strftime(\"%d/%m/%Y\")\n",
    "\n",
    "        return fecha_formateada\n",
    "\n",
    "    if \"Z\" in text:\n",
    "        return pd.to_datetime(text, format=\"%Y-%m-%dT%H:%M:%S.%fZ\", errors=\"raise\")\n",
    "    elif re.match(r\"\\d{4,6}\", text):\n",
    "        return _parse_timestamp(int(text))\n",
    "\n",
    "    return pd.NaT"
   ]
  },
  {
   "cell_type": "code",
   "execution_count": 65,
   "metadata": {},
   "outputs": [
    {
     "data": {
      "text/plain": [
       "'E:/Media/Python/ID-v3-Scrapper/model/mlruns/0/52089d0757e64bf588f2c75e439ae4e0/artifacts/model'"
      ]
     },
     "execution_count": 65,
     "metadata": {},
     "output_type": "execute_result"
    }
   ],
   "source": [
    "runs_path = os.path.abspath(os.path.join(\"..\", \"model\", \"mlruns\"))\n",
    "mlf.set_tracking_uri(\"file:/ \" + runs_path)\n",
    "\n",
    "columns = [\n",
    "    \"run_id\",\n",
    "    \"status\",\n",
    "    \"params.lstm_hidden_dim\",\n",
    "    \"params.lstm_num_layers\",\n",
    "    \"metrics.train_runtime\",\n",
    "    \"metrics.eval_macro_f1\",\n",
    "    \"metrics.train_loss\",\n",
    "    \"metrics.eval_macro_recall\",\n",
    "    \"metrics.eval_macro_precision\",\n",
    "    \"artifact_uri\",\n",
    "]\n",
    "\n",
    "runs = mlf.search_runs(\n",
    "    filter_string='status=\"FINISHED\"', order_by=[\"metrics.eval_macro_f1 DESC\"]\n",
    ")[columns]\n",
    "\n",
    "# search\n",
    "run_torch = runs[runs[\"run_id\"] == ROBERTUITO_RUN_ID].iloc[0]\n",
    "roubertuito = f'{run_torch[\"artifact_uri\"]}/model'.replace(\"file:///\", \"\")\n",
    "roubertuito"
   ]
  },
  {
   "cell_type": "code",
   "execution_count": 66,
   "metadata": {},
   "outputs": [
    {
     "name": "stderr",
     "output_type": "stream",
     "text": [
      "DEBUG:Utils:Loading model pysentimiento/robertuito-base-uncased\n",
      "DEBUG:Utils:Using device CUDA\n"
     ]
    }
   ],
   "source": [
    "model_analyzer = create_analyzer_blstm(model_path=roubertuito)"
   ]
  },
  {
   "cell_type": "markdown",
   "metadata": {},
   "source": [
    "## Analysis tweets\n"
   ]
  },
  {
   "cell_type": "code",
   "execution_count": 67,
   "metadata": {},
   "outputs": [],
   "source": [
    "def process_analysis_x(\n",
    "    row: pd.Series, model_analyzer: AnalyzerForSequenceClassification\n",
    "):\n",
    "\n",
    "    text = row[\"text\"]\n",
    "\n",
    "    if not text or len(text) < MIN_TEXT_LENGTH:\n",
    "        return {\n",
    "            \"text\": text,\n",
    "            \"analysis\": None,\n",
    "        }\n",
    "\n",
    "    text_analysis = model_analyzer.predict(inputs=text, context=PRE_CONTEXT).probas\n",
    "\n",
    "    max_proba = max(text_analysis.items(), key=lambda x: x[1])[0]\n",
    "\n",
    "    return {\n",
    "        \"text\": text,\n",
    "        \"analysis\": {\n",
    "            \"max_proba\": max_proba,\n",
    "            \"probas\": text_analysis,\n",
    "        },\n",
    "    }"
   ]
  },
  {
   "cell_type": "code",
   "execution_count": 68,
   "metadata": {},
   "outputs": [
    {
     "data": {
      "application/vnd.jupyter.widget-view+json": {
       "model_id": "d72bb98869894be2bb90fc8e5fb2ab47",
       "version_major": 2,
       "version_minor": 0
      },
      "text/plain": [
       "  0%|          | 0/1646 [00:00<?, ?it/s]"
      ]
     },
     "metadata": {},
     "output_type": "display_data"
    }
   ],
   "source": [
    "df_x = pd.read_excel(\"../data/append_tweets.xlsx\")\n",
    "df_x[\"text\"] = df_x[\"text\"].astype(str)\n",
    "df_x[\"date_parsed\"] = df_x[\"timestamp\"].progress_apply(lambda x: str_to_date_twitter(x))"
   ]
  },
  {
   "cell_type": "code",
   "execution_count": 69,
   "metadata": {},
   "outputs": [
    {
     "data": {
      "application/vnd.jupyter.widget-view+json": {
       "model_id": "6e929cede5ba4a5ea1cffcbabb1ea097",
       "version_major": 2,
       "version_minor": 0
      },
      "text/plain": [
       "  0%|          | 0/1646 [00:00<?, ?it/s]"
      ]
     },
     "metadata": {},
     "output_type": "display_data"
    }
   ],
   "source": [
    "analysis = df_x.progress_apply(\n",
    "    lambda row: process_analysis_x(row, model_analyzer), axis=1\n",
    ")\n",
    "\n",
    "df_x[\"analysis\"] = analysis"
   ]
  },
  {
   "cell_type": "code",
   "execution_count": 70,
   "metadata": {},
   "outputs": [],
   "source": [
    "df_x.to_excel(\"../data/append_tweets_analysis_v4_context.xlsx\", index=False)"
   ]
  },
  {
   "cell_type": "markdown",
   "metadata": {},
   "source": [
    "## Analysis tiktoks\n"
   ]
  },
  {
   "cell_type": "code",
   "execution_count": 71,
   "metadata": {},
   "outputs": [],
   "source": [
    "results = {\n",
    "    \"success\": 0,\n",
    "    \"failed\": 0,\n",
    "}\n",
    "\n",
    "\n",
    "def process_analysis_tiktok(\n",
    "    row: pd.Series, model_analyzer: AnalyzerForSequenceClassification\n",
    "):\n",
    "\n",
    "    description_text = row[\"description\"]\n",
    "\n",
    "    comments_text = row[\"comments_text\"].split(\"|\")\n",
    "\n",
    "    comments_text = [\n",
    "        comment for comment in comments_text if len(comment) >= MIN_TEXT_LENGTH\n",
    "    ]\n",
    "\n",
    "    description_analysis = None\n",
    "\n",
    "    if not description_text or len(description_text) < MIN_TEXT_LENGTH:\n",
    "        probas_desc = model_analyzer.predict(description_text).probas\n",
    "\n",
    "        if len(probas_desc) == 0:\n",
    "            results[\"failed\"] += 1\n",
    "            probas_desc = None\n",
    "        else:\n",
    "            results[\"success\"] += 1\n",
    "            max_proba_description = max(probas_desc.items(), key=lambda x: x[1])[0]\n",
    "            description_analysis = {\n",
    "                \"sentiment\": max_proba_description,\n",
    "                \"probas\": probas_desc,\n",
    "            }\n",
    "    else:\n",
    "        description_analysis = None\n",
    "\n",
    "    comments_analysis = []\n",
    "\n",
    "    for comment_text in tqdm(\n",
    "        comments_text, desc=\"Analyzing comments\", leave=False, unit=\"comment\"\n",
    "    ):\n",
    "        if len(comment_text) < MIN_TEXT_LENGTH:\n",
    "            comments_analysis.append({\"text\": comment_text, \"analysis\": None})\n",
    "\n",
    "        context = f\"{description_text}\" if len(description_text) >= MIN_TEXT_LENGTH else PRE_CONTEXT\n",
    "\n",
    "        probas = model_analyzer.predict(inputs=comment_text, context=context).probas\n",
    "\n",
    "        if len(probas) == 0:\n",
    "            comments_analysis.append(\n",
    "                {\n",
    "                    \"text\": comment_text,\n",
    "                    \"analysis\": None,\n",
    "                }\n",
    "            )\n",
    "            results[\"failed\"] += 1\n",
    "        else:\n",
    "            max_proba = max(probas.items(), key=lambda x: x[1])[0]\n",
    "            results[\"success\"] += 1\n",
    "            comments_analysis.append(\n",
    "                {\n",
    "                    \"text\": comment_text,\n",
    "                    \"analysis\": {\n",
    "                        \"sentiment\": max_proba,\n",
    "                        \"probas\": probas if len(probas) > 0 else None,\n",
    "                    },\n",
    "                }\n",
    "            )\n",
    "\n",
    "    return {\n",
    "        \"description\": {\n",
    "            \"text\": description_text,\n",
    "            \"analysis\": description_analysis,\n",
    "        },\n",
    "        \"comments\": comments_analysis,\n",
    "    }"
   ]
  },
  {
   "cell_type": "code",
   "execution_count": 72,
   "metadata": {},
   "outputs": [
    {
     "data": {
      "application/vnd.jupyter.widget-view+json": {
       "model_id": "bbb1342ac89b44aab291ab8a07ea4d58",
       "version_major": 2,
       "version_minor": 0
      },
      "text/plain": [
       "  0%|          | 0/972 [00:00<?, ?it/s]"
      ]
     },
     "metadata": {},
     "output_type": "display_data"
    }
   ],
   "source": [
    "df_tiktok = pd.read_excel(\"../data/append_tik_tok.xlsx\")\n",
    "df_tiktok[\"description\"] = df_tiktok[\"description\"].astype(str)\n",
    "df_tiktok[\"comments_text\"] = df_tiktok[\"comments_text\"].astype(str)\n",
    "df_tiktok[\"date_parsed\"] = df_tiktok[\"date\"].progress_apply(\n",
    "    lambda x: str_to_date_tiktok(x)\n",
    ")"
   ]
  },
  {
   "cell_type": "code",
   "execution_count": 73,
   "metadata": {},
   "outputs": [
    {
     "data": {
      "application/vnd.jupyter.widget-view+json": {
       "model_id": "4c24feb30330411f964a0a7435206a87",
       "version_major": 2,
       "version_minor": 0
      },
      "text/plain": [
       "  0%|          | 0/972 [00:00<?, ?it/s]"
      ]
     },
     "metadata": {},
     "output_type": "display_data"
    },
    {
     "data": {
      "application/vnd.jupyter.widget-view+json": {
       "model_id": "a42de0b67ebc4ed4a048c433f277ba3b",
       "version_major": 2,
       "version_minor": 0
      },
      "text/plain": [
       "Analyzing comments:   0%|          | 0/2 [00:00<?, ?comment/s]"
      ]
     },
     "metadata": {},
     "output_type": "display_data"
    },
    {
     "data": {
      "application/vnd.jupyter.widget-view+json": {
       "model_id": "3010fe5fea1a4b6ba9b658c1dfba5de9",
       "version_major": 2,
       "version_minor": 0
      },
      "text/plain": [
       "Analyzing comments:   0%|          | 0/40 [00:00<?, ?comment/s]"
      ]
     },
     "metadata": {},
     "output_type": "display_data"
    },
    {
     "data": {
      "application/vnd.jupyter.widget-view+json": {
       "model_id": "5d9ae40d5ec2473ea0507b35be3d5f28",
       "version_major": 2,
       "version_minor": 0
      },
      "text/plain": [
       "Analyzing comments:   0%|          | 0/8 [00:00<?, ?comment/s]"
      ]
     },
     "metadata": {},
     "output_type": "display_data"
    },
    {
     "data": {
      "application/vnd.jupyter.widget-view+json": {
       "model_id": "857b691c0ba240f2b5e6ad0e6e0616b6",
       "version_major": 2,
       "version_minor": 0
      },
      "text/plain": [
       "Analyzing comments:   0%|          | 0/29 [00:00<?, ?comment/s]"
      ]
     },
     "metadata": {},
     "output_type": "display_data"
    },
    {
     "data": {
      "application/vnd.jupyter.widget-view+json": {
       "model_id": "241a930c91464c3e8f0b0dd74b4cee26",
       "version_major": 2,
       "version_minor": 0
      },
      "text/plain": [
       "Analyzing comments:   0%|          | 0/14 [00:00<?, ?comment/s]"
      ]
     },
     "metadata": {},
     "output_type": "display_data"
    },
    {
     "data": {
      "application/vnd.jupyter.widget-view+json": {
       "model_id": "fda8dec37d0d49029ec0b0cb3184061f",
       "version_major": 2,
       "version_minor": 0
      },
      "text/plain": [
       "Analyzing comments:   0%|          | 0/26 [00:00<?, ?comment/s]"
      ]
     },
     "metadata": {},
     "output_type": "display_data"
    },
    {
     "data": {
      "application/vnd.jupyter.widget-view+json": {
       "model_id": "0a7592e14c8f48e7a96ade961ff44114",
       "version_major": 2,
       "version_minor": 0
      },
      "text/plain": [
       "Analyzing comments:   0%|          | 0/20 [00:00<?, ?comment/s]"
      ]
     },
     "metadata": {},
     "output_type": "display_data"
    },
    {
     "data": {
      "application/vnd.jupyter.widget-view+json": {
       "model_id": "263cb2e62e78495897903605f61d0bf7",
       "version_major": 2,
       "version_minor": 0
      },
      "text/plain": [
       "Analyzing comments:   0%|          | 0/62 [00:00<?, ?comment/s]"
      ]
     },
     "metadata": {},
     "output_type": "display_data"
    },
    {
     "data": {
      "application/vnd.jupyter.widget-view+json": {
       "model_id": "b863f3968b14453fa11fbc370b8bfc5e",
       "version_major": 2,
       "version_minor": 0
      },
      "text/plain": [
       "Analyzing comments:   0%|          | 0/13 [00:00<?, ?comment/s]"
      ]
     },
     "metadata": {},
     "output_type": "display_data"
    },
    {
     "data": {
      "application/vnd.jupyter.widget-view+json": {
       "model_id": "38be3a311c8248babcef70c82c879703",
       "version_major": 2,
       "version_minor": 0
      },
      "text/plain": [
       "Analyzing comments:   0%|          | 0/43 [00:00<?, ?comment/s]"
      ]
     },
     "metadata": {},
     "output_type": "display_data"
    },
    {
     "data": {
      "application/vnd.jupyter.widget-view+json": {
       "model_id": "13767fdcc39543e7bc21cdcabddc00fe",
       "version_major": 2,
       "version_minor": 0
      },
      "text/plain": [
       "Analyzing comments:   0%|          | 0/83 [00:00<?, ?comment/s]"
      ]
     },
     "metadata": {},
     "output_type": "display_data"
    },
    {
     "data": {
      "application/vnd.jupyter.widget-view+json": {
       "model_id": "293326f596f04f90a5d30a90053f0cfe",
       "version_major": 2,
       "version_minor": 0
      },
      "text/plain": [
       "Analyzing comments:   0%|          | 0/77 [00:00<?, ?comment/s]"
      ]
     },
     "metadata": {},
     "output_type": "display_data"
    },
    {
     "data": {
      "application/vnd.jupyter.widget-view+json": {
       "model_id": "3d34981581754b1c8003fa86e16ad1d0",
       "version_major": 2,
       "version_minor": 0
      },
      "text/plain": [
       "Analyzing comments:   0%|          | 0/46 [00:00<?, ?comment/s]"
      ]
     },
     "metadata": {},
     "output_type": "display_data"
    },
    {
     "data": {
      "application/vnd.jupyter.widget-view+json": {
       "model_id": "d0ca09efe1d04468b6132adaf4a3854b",
       "version_major": 2,
       "version_minor": 0
      },
      "text/plain": [
       "Analyzing comments:   0%|          | 0/61 [00:00<?, ?comment/s]"
      ]
     },
     "metadata": {},
     "output_type": "display_data"
    },
    {
     "data": {
      "application/vnd.jupyter.widget-view+json": {
       "model_id": "ae21b4f1b76f432c87f3c5738749415e",
       "version_major": 2,
       "version_minor": 0
      },
      "text/plain": [
       "Analyzing comments:   0%|          | 0/5 [00:00<?, ?comment/s]"
      ]
     },
     "metadata": {},
     "output_type": "display_data"
    },
    {
     "data": {
      "application/vnd.jupyter.widget-view+json": {
       "model_id": "f1e90266be1b402381ffb7eb1add7d8c",
       "version_major": 2,
       "version_minor": 0
      },
      "text/plain": [
       "Analyzing comments:   0%|          | 0/31 [00:00<?, ?comment/s]"
      ]
     },
     "metadata": {},
     "output_type": "display_data"
    },
    {
     "data": {
      "application/vnd.jupyter.widget-view+json": {
       "model_id": "686fd3f7f85e45f78fd95d28ab180106",
       "version_major": 2,
       "version_minor": 0
      },
      "text/plain": [
       "Analyzing comments:   0%|          | 0/26 [00:00<?, ?comment/s]"
      ]
     },
     "metadata": {},
     "output_type": "display_data"
    },
    {
     "data": {
      "application/vnd.jupyter.widget-view+json": {
       "model_id": "5a7308badb1c4db8b59dfbcf373572cc",
       "version_major": 2,
       "version_minor": 0
      },
      "text/plain": [
       "Analyzing comments:   0%|          | 0/41 [00:00<?, ?comment/s]"
      ]
     },
     "metadata": {},
     "output_type": "display_data"
    },
    {
     "data": {
      "application/vnd.jupyter.widget-view+json": {
       "model_id": "c406209f879247bb8a9081e81c970e95",
       "version_major": 2,
       "version_minor": 0
      },
      "text/plain": [
       "Analyzing comments:   0%|          | 0/1 [00:00<?, ?comment/s]"
      ]
     },
     "metadata": {},
     "output_type": "display_data"
    },
    {
     "data": {
      "application/vnd.jupyter.widget-view+json": {
       "model_id": "36a0d6220a3645629492f3b467180359",
       "version_major": 2,
       "version_minor": 0
      },
      "text/plain": [
       "Analyzing comments:   0%|          | 0/36 [00:00<?, ?comment/s]"
      ]
     },
     "metadata": {},
     "output_type": "display_data"
    },
    {
     "data": {
      "application/vnd.jupyter.widget-view+json": {
       "model_id": "92509e42c1034d109374037479013100",
       "version_major": 2,
       "version_minor": 0
      },
      "text/plain": [
       "Analyzing comments:   0%|          | 0/34 [00:00<?, ?comment/s]"
      ]
     },
     "metadata": {},
     "output_type": "display_data"
    },
    {
     "data": {
      "application/vnd.jupyter.widget-view+json": {
       "model_id": "90b9cc4dd4ea460abb8642e12827e853",
       "version_major": 2,
       "version_minor": 0
      },
      "text/plain": [
       "Analyzing comments:   0%|          | 0/35 [00:00<?, ?comment/s]"
      ]
     },
     "metadata": {},
     "output_type": "display_data"
    },
    {
     "data": {
      "application/vnd.jupyter.widget-view+json": {
       "model_id": "28ab0ade19b040b4bacbc74f3c568ee8",
       "version_major": 2,
       "version_minor": 0
      },
      "text/plain": [
       "Analyzing comments:   0%|          | 0/29 [00:00<?, ?comment/s]"
      ]
     },
     "metadata": {},
     "output_type": "display_data"
    },
    {
     "data": {
      "application/vnd.jupyter.widget-view+json": {
       "model_id": "a9d01e8a652249ab9014859aaf1d4f0f",
       "version_major": 2,
       "version_minor": 0
      },
      "text/plain": [
       "Analyzing comments:   0%|          | 0/25 [00:00<?, ?comment/s]"
      ]
     },
     "metadata": {},
     "output_type": "display_data"
    },
    {
     "data": {
      "application/vnd.jupyter.widget-view+json": {
       "model_id": "d130f06b805d4f51aa93b1cb13e31c27",
       "version_major": 2,
       "version_minor": 0
      },
      "text/plain": [
       "Analyzing comments:   0%|          | 0/18 [00:00<?, ?comment/s]"
      ]
     },
     "metadata": {},
     "output_type": "display_data"
    },
    {
     "data": {
      "application/vnd.jupyter.widget-view+json": {
       "model_id": "1549f1dcae4c4c58a6b00e926702e8ed",
       "version_major": 2,
       "version_minor": 0
      },
      "text/plain": [
       "Analyzing comments:   0%|          | 0/32 [00:00<?, ?comment/s]"
      ]
     },
     "metadata": {},
     "output_type": "display_data"
    },
    {
     "data": {
      "application/vnd.jupyter.widget-view+json": {
       "model_id": "99484025d2f04e9f9d86febe5f156c5f",
       "version_major": 2,
       "version_minor": 0
      },
      "text/plain": [
       "Analyzing comments:   0%|          | 0/16 [00:00<?, ?comment/s]"
      ]
     },
     "metadata": {},
     "output_type": "display_data"
    },
    {
     "data": {
      "application/vnd.jupyter.widget-view+json": {
       "model_id": "19a717bc5cb44d7b82fcf3aa5d63c8ed",
       "version_major": 2,
       "version_minor": 0
      },
      "text/plain": [
       "Analyzing comments:   0%|          | 0/40 [00:00<?, ?comment/s]"
      ]
     },
     "metadata": {},
     "output_type": "display_data"
    },
    {
     "data": {
      "application/vnd.jupyter.widget-view+json": {
       "model_id": "2b56c0356540471c9f29c775c8b325f2",
       "version_major": 2,
       "version_minor": 0
      },
      "text/plain": [
       "Analyzing comments:   0%|          | 0/7 [00:00<?, ?comment/s]"
      ]
     },
     "metadata": {},
     "output_type": "display_data"
    },
    {
     "data": {
      "application/vnd.jupyter.widget-view+json": {
       "model_id": "f1ec6423890544d2ad15c4d1ce2ed31f",
       "version_major": 2,
       "version_minor": 0
      },
      "text/plain": [
       "Analyzing comments:   0%|          | 0/36 [00:00<?, ?comment/s]"
      ]
     },
     "metadata": {},
     "output_type": "display_data"
    },
    {
     "data": {
      "application/vnd.jupyter.widget-view+json": {
       "model_id": "282967424b454b10a917f467064d97d2",
       "version_major": 2,
       "version_minor": 0
      },
      "text/plain": [
       "Analyzing comments:   0%|          | 0/35 [00:00<?, ?comment/s]"
      ]
     },
     "metadata": {},
     "output_type": "display_data"
    },
    {
     "data": {
      "application/vnd.jupyter.widget-view+json": {
       "model_id": "3c6ef439ad4048bb922214750ea560db",
       "version_major": 2,
       "version_minor": 0
      },
      "text/plain": [
       "Analyzing comments:   0%|          | 0/13 [00:00<?, ?comment/s]"
      ]
     },
     "metadata": {},
     "output_type": "display_data"
    },
    {
     "data": {
      "application/vnd.jupyter.widget-view+json": {
       "model_id": "0510dc13b6da4e44a7e0523a40952870",
       "version_major": 2,
       "version_minor": 0
      },
      "text/plain": [
       "Analyzing comments:   0%|          | 0/38 [00:00<?, ?comment/s]"
      ]
     },
     "metadata": {},
     "output_type": "display_data"
    },
    {
     "data": {
      "application/vnd.jupyter.widget-view+json": {
       "model_id": "0774ca28acc845e6a3cbbf67bc950417",
       "version_major": 2,
       "version_minor": 0
      },
      "text/plain": [
       "Analyzing comments:   0%|          | 0/27 [00:00<?, ?comment/s]"
      ]
     },
     "metadata": {},
     "output_type": "display_data"
    },
    {
     "data": {
      "application/vnd.jupyter.widget-view+json": {
       "model_id": "5caebcea27814f1b84b5296e34dd398b",
       "version_major": 2,
       "version_minor": 0
      },
      "text/plain": [
       "Analyzing comments:   0%|          | 0/19 [00:00<?, ?comment/s]"
      ]
     },
     "metadata": {},
     "output_type": "display_data"
    },
    {
     "data": {
      "application/vnd.jupyter.widget-view+json": {
       "model_id": "d832f7b0869e4799919a2f52446b7014",
       "version_major": 2,
       "version_minor": 0
      },
      "text/plain": [
       "Analyzing comments:   0%|          | 0/36 [00:00<?, ?comment/s]"
      ]
     },
     "metadata": {},
     "output_type": "display_data"
    },
    {
     "data": {
      "application/vnd.jupyter.widget-view+json": {
       "model_id": "bac157fe0b48442bbd3faf04c210b2bd",
       "version_major": 2,
       "version_minor": 0
      },
      "text/plain": [
       "Analyzing comments:   0%|          | 0/27 [00:00<?, ?comment/s]"
      ]
     },
     "metadata": {},
     "output_type": "display_data"
    },
    {
     "data": {
      "application/vnd.jupyter.widget-view+json": {
       "model_id": "ce071be6224d4e5891ed784f56a66fe6",
       "version_major": 2,
       "version_minor": 0
      },
      "text/plain": [
       "Analyzing comments:   0%|          | 0/24 [00:00<?, ?comment/s]"
      ]
     },
     "metadata": {},
     "output_type": "display_data"
    },
    {
     "data": {
      "application/vnd.jupyter.widget-view+json": {
       "model_id": "e990a5be237f4a1982d20be1cc7e5cba",
       "version_major": 2,
       "version_minor": 0
      },
      "text/plain": [
       "Analyzing comments:   0%|          | 0/28 [00:00<?, ?comment/s]"
      ]
     },
     "metadata": {},
     "output_type": "display_data"
    },
    {
     "data": {
      "application/vnd.jupyter.widget-view+json": {
       "model_id": "90f120a535664e6482d2ce4bc6e96195",
       "version_major": 2,
       "version_minor": 0
      },
      "text/plain": [
       "Analyzing comments:   0%|          | 0/5 [00:00<?, ?comment/s]"
      ]
     },
     "metadata": {},
     "output_type": "display_data"
    },
    {
     "data": {
      "application/vnd.jupyter.widget-view+json": {
       "model_id": "cfa14ef2006b43de8968febaea6984e7",
       "version_major": 2,
       "version_minor": 0
      },
      "text/plain": [
       "Analyzing comments: 0comment [00:00, ?comment/s]"
      ]
     },
     "metadata": {},
     "output_type": "display_data"
    },
    {
     "data": {
      "application/vnd.jupyter.widget-view+json": {
       "model_id": "cfdddd3b6756489a87693597a92da274",
       "version_major": 2,
       "version_minor": 0
      },
      "text/plain": [
       "Analyzing comments:   0%|          | 0/35 [00:00<?, ?comment/s]"
      ]
     },
     "metadata": {},
     "output_type": "display_data"
    },
    {
     "data": {
      "application/vnd.jupyter.widget-view+json": {
       "model_id": "7e20a77e28a448d0aba9d32071e8c009",
       "version_major": 2,
       "version_minor": 0
      },
      "text/plain": [
       "Analyzing comments:   0%|          | 0/30 [00:00<?, ?comment/s]"
      ]
     },
     "metadata": {},
     "output_type": "display_data"
    },
    {
     "data": {
      "application/vnd.jupyter.widget-view+json": {
       "model_id": "20039fd1ba67444fb52538b6f71093eb",
       "version_major": 2,
       "version_minor": 0
      },
      "text/plain": [
       "Analyzing comments:   0%|          | 0/34 [00:00<?, ?comment/s]"
      ]
     },
     "metadata": {},
     "output_type": "display_data"
    },
    {
     "data": {
      "application/vnd.jupyter.widget-view+json": {
       "model_id": "b62371432d5b4655aeb58268085563e4",
       "version_major": 2,
       "version_minor": 0
      },
      "text/plain": [
       "Analyzing comments:   0%|          | 0/32 [00:00<?, ?comment/s]"
      ]
     },
     "metadata": {},
     "output_type": "display_data"
    },
    {
     "data": {
      "application/vnd.jupyter.widget-view+json": {
       "model_id": "327bde51566e414c90aca39f4e7f2f0f",
       "version_major": 2,
       "version_minor": 0
      },
      "text/plain": [
       "Analyzing comments:   0%|          | 0/23 [00:00<?, ?comment/s]"
      ]
     },
     "metadata": {},
     "output_type": "display_data"
    },
    {
     "data": {
      "application/vnd.jupyter.widget-view+json": {
       "model_id": "e3786fe425e14274868d87041c5a7aa1",
       "version_major": 2,
       "version_minor": 0
      },
      "text/plain": [
       "Analyzing comments: 0comment [00:00, ?comment/s]"
      ]
     },
     "metadata": {},
     "output_type": "display_data"
    },
    {
     "data": {
      "application/vnd.jupyter.widget-view+json": {
       "model_id": "923cbfe3ff784784b04ce9f308903dc5",
       "version_major": 2,
       "version_minor": 0
      },
      "text/plain": [
       "Analyzing comments:   0%|          | 0/34 [00:00<?, ?comment/s]"
      ]
     },
     "metadata": {},
     "output_type": "display_data"
    },
    {
     "data": {
      "application/vnd.jupyter.widget-view+json": {
       "model_id": "340c4ebb3b564e7582889849a41b6b94",
       "version_major": 2,
       "version_minor": 0
      },
      "text/plain": [
       "Analyzing comments:   0%|          | 0/32 [00:00<?, ?comment/s]"
      ]
     },
     "metadata": {},
     "output_type": "display_data"
    },
    {
     "data": {
      "application/vnd.jupyter.widget-view+json": {
       "model_id": "b774932d7a6044bd9caec4e7479d4314",
       "version_major": 2,
       "version_minor": 0
      },
      "text/plain": [
       "Analyzing comments:   0%|          | 0/57 [00:00<?, ?comment/s]"
      ]
     },
     "metadata": {},
     "output_type": "display_data"
    },
    {
     "data": {
      "application/vnd.jupyter.widget-view+json": {
       "model_id": "16533f10ccf44a9883d9794205a5ea4f",
       "version_major": 2,
       "version_minor": 0
      },
      "text/plain": [
       "Analyzing comments:   0%|          | 0/4 [00:00<?, ?comment/s]"
      ]
     },
     "metadata": {},
     "output_type": "display_data"
    },
    {
     "data": {
      "application/vnd.jupyter.widget-view+json": {
       "model_id": "3503ad6a40424571b154cf2fa74b8622",
       "version_major": 2,
       "version_minor": 0
      },
      "text/plain": [
       "Analyzing comments:   0%|          | 0/3 [00:00<?, ?comment/s]"
      ]
     },
     "metadata": {},
     "output_type": "display_data"
    },
    {
     "data": {
      "application/vnd.jupyter.widget-view+json": {
       "model_id": "a2961bec15b44ef19dde0eb0c32b6990",
       "version_major": 2,
       "version_minor": 0
      },
      "text/plain": [
       "Analyzing comments:   0%|          | 0/29 [00:00<?, ?comment/s]"
      ]
     },
     "metadata": {},
     "output_type": "display_data"
    },
    {
     "data": {
      "application/vnd.jupyter.widget-view+json": {
       "model_id": "437c8225df21463b89a3917626e5889b",
       "version_major": 2,
       "version_minor": 0
      },
      "text/plain": [
       "Analyzing comments:   0%|          | 0/19 [00:00<?, ?comment/s]"
      ]
     },
     "metadata": {},
     "output_type": "display_data"
    },
    {
     "data": {
      "application/vnd.jupyter.widget-view+json": {
       "model_id": "ea9e63d4550642ae86e25cb9ee1c90ba",
       "version_major": 2,
       "version_minor": 0
      },
      "text/plain": [
       "Analyzing comments:   0%|          | 0/1 [00:00<?, ?comment/s]"
      ]
     },
     "metadata": {},
     "output_type": "display_data"
    },
    {
     "data": {
      "application/vnd.jupyter.widget-view+json": {
       "model_id": "be9e75178d844368962ff47d80fda918",
       "version_major": 2,
       "version_minor": 0
      },
      "text/plain": [
       "Analyzing comments:   0%|          | 0/35 [00:00<?, ?comment/s]"
      ]
     },
     "metadata": {},
     "output_type": "display_data"
    },
    {
     "data": {
      "application/vnd.jupyter.widget-view+json": {
       "model_id": "cff8d67aba224a9bbf88de48179d0d09",
       "version_major": 2,
       "version_minor": 0
      },
      "text/plain": [
       "Analyzing comments:   0%|          | 0/19 [00:00<?, ?comment/s]"
      ]
     },
     "metadata": {},
     "output_type": "display_data"
    },
    {
     "data": {
      "application/vnd.jupyter.widget-view+json": {
       "model_id": "40f045a28be84acdab1a791ac2367cfe",
       "version_major": 2,
       "version_minor": 0
      },
      "text/plain": [
       "Analyzing comments:   0%|          | 0/25 [00:00<?, ?comment/s]"
      ]
     },
     "metadata": {},
     "output_type": "display_data"
    },
    {
     "data": {
      "application/vnd.jupyter.widget-view+json": {
       "model_id": "eeacd68e9f2448eead3e494230c29007",
       "version_major": 2,
       "version_minor": 0
      },
      "text/plain": [
       "Analyzing comments: 0comment [00:00, ?comment/s]"
      ]
     },
     "metadata": {},
     "output_type": "display_data"
    },
    {
     "data": {
      "application/vnd.jupyter.widget-view+json": {
       "model_id": "07fe0bf2a46e4c53956d730062579d59",
       "version_major": 2,
       "version_minor": 0
      },
      "text/plain": [
       "Analyzing comments:   0%|          | 0/14 [00:00<?, ?comment/s]"
      ]
     },
     "metadata": {},
     "output_type": "display_data"
    },
    {
     "data": {
      "application/vnd.jupyter.widget-view+json": {
       "model_id": "1ecc260df3b14810a30bc9bed3d8e1c2",
       "version_major": 2,
       "version_minor": 0
      },
      "text/plain": [
       "Analyzing comments:   0%|          | 0/58 [00:00<?, ?comment/s]"
      ]
     },
     "metadata": {},
     "output_type": "display_data"
    },
    {
     "data": {
      "application/vnd.jupyter.widget-view+json": {
       "model_id": "57519b017f0b49d5a1376617cdbd6133",
       "version_major": 2,
       "version_minor": 0
      },
      "text/plain": [
       "Analyzing comments:   0%|          | 0/30 [00:00<?, ?comment/s]"
      ]
     },
     "metadata": {},
     "output_type": "display_data"
    },
    {
     "data": {
      "application/vnd.jupyter.widget-view+json": {
       "model_id": "bb9d6c9d1e584f2593297bfecba85fc7",
       "version_major": 2,
       "version_minor": 0
      },
      "text/plain": [
       "Analyzing comments:   0%|          | 0/12 [00:00<?, ?comment/s]"
      ]
     },
     "metadata": {},
     "output_type": "display_data"
    },
    {
     "data": {
      "application/vnd.jupyter.widget-view+json": {
       "model_id": "495b180f9810410e902b83d985cb4fa2",
       "version_major": 2,
       "version_minor": 0
      },
      "text/plain": [
       "Analyzing comments:   0%|          | 0/1 [00:00<?, ?comment/s]"
      ]
     },
     "metadata": {},
     "output_type": "display_data"
    },
    {
     "data": {
      "application/vnd.jupyter.widget-view+json": {
       "model_id": "3e809a7b30ab42eb8a8980f2c08d1f93",
       "version_major": 2,
       "version_minor": 0
      },
      "text/plain": [
       "Analyzing comments:   0%|          | 0/35 [00:00<?, ?comment/s]"
      ]
     },
     "metadata": {},
     "output_type": "display_data"
    },
    {
     "data": {
      "application/vnd.jupyter.widget-view+json": {
       "model_id": "5c95609c0bc44971ac7e92f5a90c6f85",
       "version_major": 2,
       "version_minor": 0
      },
      "text/plain": [
       "Analyzing comments:   0%|          | 0/7 [00:00<?, ?comment/s]"
      ]
     },
     "metadata": {},
     "output_type": "display_data"
    },
    {
     "data": {
      "application/vnd.jupyter.widget-view+json": {
       "model_id": "611c513edb2a460585939296bc84cdb1",
       "version_major": 2,
       "version_minor": 0
      },
      "text/plain": [
       "Analyzing comments:   0%|          | 0/17 [00:00<?, ?comment/s]"
      ]
     },
     "metadata": {},
     "output_type": "display_data"
    },
    {
     "data": {
      "application/vnd.jupyter.widget-view+json": {
       "model_id": "13a555d7ee6d469a98417ebe0044c985",
       "version_major": 2,
       "version_minor": 0
      },
      "text/plain": [
       "Analyzing comments:   0%|          | 0/18 [00:00<?, ?comment/s]"
      ]
     },
     "metadata": {},
     "output_type": "display_data"
    },
    {
     "data": {
      "application/vnd.jupyter.widget-view+json": {
       "model_id": "e8ea55061cfb4734acccb6440d1f254c",
       "version_major": 2,
       "version_minor": 0
      },
      "text/plain": [
       "Analyzing comments:   0%|          | 0/32 [00:00<?, ?comment/s]"
      ]
     },
     "metadata": {},
     "output_type": "display_data"
    },
    {
     "data": {
      "application/vnd.jupyter.widget-view+json": {
       "model_id": "9c84424a72d041f49c2639b8b687aa29",
       "version_major": 2,
       "version_minor": 0
      },
      "text/plain": [
       "Analyzing comments:   0%|          | 0/30 [00:00<?, ?comment/s]"
      ]
     },
     "metadata": {},
     "output_type": "display_data"
    },
    {
     "data": {
      "application/vnd.jupyter.widget-view+json": {
       "model_id": "0a99d11004d84fe88e3f9301770c5610",
       "version_major": 2,
       "version_minor": 0
      },
      "text/plain": [
       "Analyzing comments:   0%|          | 0/7 [00:00<?, ?comment/s]"
      ]
     },
     "metadata": {},
     "output_type": "display_data"
    },
    {
     "data": {
      "application/vnd.jupyter.widget-view+json": {
       "model_id": "6f4be61920ac4398b95ab5ed56ab2a82",
       "version_major": 2,
       "version_minor": 0
      },
      "text/plain": [
       "Analyzing comments:   0%|          | 0/32 [00:00<?, ?comment/s]"
      ]
     },
     "metadata": {},
     "output_type": "display_data"
    },
    {
     "data": {
      "application/vnd.jupyter.widget-view+json": {
       "model_id": "2763050bad3c4f2d990a3f4ad185efe0",
       "version_major": 2,
       "version_minor": 0
      },
      "text/plain": [
       "Analyzing comments:   0%|          | 0/37 [00:00<?, ?comment/s]"
      ]
     },
     "metadata": {},
     "output_type": "display_data"
    },
    {
     "data": {
      "application/vnd.jupyter.widget-view+json": {
       "model_id": "1f4a767a4def481ab12e0d38c57f19d9",
       "version_major": 2,
       "version_minor": 0
      },
      "text/plain": [
       "Analyzing comments:   0%|          | 0/28 [00:00<?, ?comment/s]"
      ]
     },
     "metadata": {},
     "output_type": "display_data"
    },
    {
     "data": {
      "application/vnd.jupyter.widget-view+json": {
       "model_id": "9b5a2699f40b44e2b4b7126e23a8943e",
       "version_major": 2,
       "version_minor": 0
      },
      "text/plain": [
       "Analyzing comments:   0%|          | 0/30 [00:00<?, ?comment/s]"
      ]
     },
     "metadata": {},
     "output_type": "display_data"
    },
    {
     "data": {
      "application/vnd.jupyter.widget-view+json": {
       "model_id": "a4c4656d815d434bab1a99c85efa4473",
       "version_major": 2,
       "version_minor": 0
      },
      "text/plain": [
       "Analyzing comments:   0%|          | 0/21 [00:00<?, ?comment/s]"
      ]
     },
     "metadata": {},
     "output_type": "display_data"
    },
    {
     "data": {
      "application/vnd.jupyter.widget-view+json": {
       "model_id": "201ea51689ff499a9f361033dc8bd5c0",
       "version_major": 2,
       "version_minor": 0
      },
      "text/plain": [
       "Analyzing comments:   0%|          | 0/33 [00:00<?, ?comment/s]"
      ]
     },
     "metadata": {},
     "output_type": "display_data"
    },
    {
     "data": {
      "application/vnd.jupyter.widget-view+json": {
       "model_id": "078aebf9d40441049a1d97ddb8c61d79",
       "version_major": 2,
       "version_minor": 0
      },
      "text/plain": [
       "Analyzing comments:   0%|          | 0/53 [00:00<?, ?comment/s]"
      ]
     },
     "metadata": {},
     "output_type": "display_data"
    },
    {
     "data": {
      "application/vnd.jupyter.widget-view+json": {
       "model_id": "00828ab6be88457ebfa309ff8866c324",
       "version_major": 2,
       "version_minor": 0
      },
      "text/plain": [
       "Analyzing comments:   0%|          | 0/27 [00:00<?, ?comment/s]"
      ]
     },
     "metadata": {},
     "output_type": "display_data"
    },
    {
     "data": {
      "application/vnd.jupyter.widget-view+json": {
       "model_id": "ba6292624cce481e84203cb4f67863d8",
       "version_major": 2,
       "version_minor": 0
      },
      "text/plain": [
       "Analyzing comments:   0%|          | 0/10 [00:00<?, ?comment/s]"
      ]
     },
     "metadata": {},
     "output_type": "display_data"
    },
    {
     "data": {
      "application/vnd.jupyter.widget-view+json": {
       "model_id": "57a5e9f02bff4da2951aa2a97b5194d0",
       "version_major": 2,
       "version_minor": 0
      },
      "text/plain": [
       "Analyzing comments:   0%|          | 0/16 [00:00<?, ?comment/s]"
      ]
     },
     "metadata": {},
     "output_type": "display_data"
    },
    {
     "data": {
      "application/vnd.jupyter.widget-view+json": {
       "model_id": "14b5daac28134669b011e18e621b3c9b",
       "version_major": 2,
       "version_minor": 0
      },
      "text/plain": [
       "Analyzing comments:   0%|          | 0/60 [00:00<?, ?comment/s]"
      ]
     },
     "metadata": {},
     "output_type": "display_data"
    },
    {
     "data": {
      "application/vnd.jupyter.widget-view+json": {
       "model_id": "4b4dd4851da441a68c248db4e4280d08",
       "version_major": 2,
       "version_minor": 0
      },
      "text/plain": [
       "Analyzing comments:   0%|          | 0/34 [00:00<?, ?comment/s]"
      ]
     },
     "metadata": {},
     "output_type": "display_data"
    },
    {
     "data": {
      "application/vnd.jupyter.widget-view+json": {
       "model_id": "8c7361c5aa3949cd83504bc869d01246",
       "version_major": 2,
       "version_minor": 0
      },
      "text/plain": [
       "Analyzing comments:   0%|          | 0/6 [00:00<?, ?comment/s]"
      ]
     },
     "metadata": {},
     "output_type": "display_data"
    },
    {
     "data": {
      "application/vnd.jupyter.widget-view+json": {
       "model_id": "e5c342093c374a96a5393176bf881338",
       "version_major": 2,
       "version_minor": 0
      },
      "text/plain": [
       "Analyzing comments:   0%|          | 0/35 [00:00<?, ?comment/s]"
      ]
     },
     "metadata": {},
     "output_type": "display_data"
    },
    {
     "data": {
      "application/vnd.jupyter.widget-view+json": {
       "model_id": "bcceaa0cb75a4ce7a293b2ef41a0c5a8",
       "version_major": 2,
       "version_minor": 0
      },
      "text/plain": [
       "Analyzing comments: 0comment [00:00, ?comment/s]"
      ]
     },
     "metadata": {},
     "output_type": "display_data"
    },
    {
     "data": {
      "application/vnd.jupyter.widget-view+json": {
       "model_id": "147578c71d9b4acaaf40d85b66a05065",
       "version_major": 2,
       "version_minor": 0
      },
      "text/plain": [
       "Analyzing comments:   0%|          | 0/16 [00:00<?, ?comment/s]"
      ]
     },
     "metadata": {},
     "output_type": "display_data"
    },
    {
     "data": {
      "application/vnd.jupyter.widget-view+json": {
       "model_id": "5ec97a9f4b6d41048b72788e273a2331",
       "version_major": 2,
       "version_minor": 0
      },
      "text/plain": [
       "Analyzing comments:   0%|          | 0/18 [00:00<?, ?comment/s]"
      ]
     },
     "metadata": {},
     "output_type": "display_data"
    },
    {
     "data": {
      "application/vnd.jupyter.widget-view+json": {
       "model_id": "163c29e138dc4bdcb817d3414ff3508b",
       "version_major": 2,
       "version_minor": 0
      },
      "text/plain": [
       "Analyzing comments:   0%|          | 0/35 [00:00<?, ?comment/s]"
      ]
     },
     "metadata": {},
     "output_type": "display_data"
    },
    {
     "data": {
      "application/vnd.jupyter.widget-view+json": {
       "model_id": "22f3c4f1094847b7b1c3c9a529d918b8",
       "version_major": 2,
       "version_minor": 0
      },
      "text/plain": [
       "Analyzing comments:   0%|          | 0/30 [00:00<?, ?comment/s]"
      ]
     },
     "metadata": {},
     "output_type": "display_data"
    },
    {
     "data": {
      "application/vnd.jupyter.widget-view+json": {
       "model_id": "9648c81b5abf4578bbe6b1931c959f07",
       "version_major": 2,
       "version_minor": 0
      },
      "text/plain": [
       "Analyzing comments:   0%|          | 0/18 [00:00<?, ?comment/s]"
      ]
     },
     "metadata": {},
     "output_type": "display_data"
    },
    {
     "data": {
      "application/vnd.jupyter.widget-view+json": {
       "model_id": "b0de32725a4a4556b83b8a44301cf73e",
       "version_major": 2,
       "version_minor": 0
      },
      "text/plain": [
       "Analyzing comments: 0comment [00:00, ?comment/s]"
      ]
     },
     "metadata": {},
     "output_type": "display_data"
    },
    {
     "data": {
      "application/vnd.jupyter.widget-view+json": {
       "model_id": "987aa5ae699e4a47828302630a2bcfd6",
       "version_major": 2,
       "version_minor": 0
      },
      "text/plain": [
       "Analyzing comments:   0%|          | 0/36 [00:00<?, ?comment/s]"
      ]
     },
     "metadata": {},
     "output_type": "display_data"
    },
    {
     "data": {
      "application/vnd.jupyter.widget-view+json": {
       "model_id": "e856c9cd5b89499c930255384baf60fd",
       "version_major": 2,
       "version_minor": 0
      },
      "text/plain": [
       "Analyzing comments:   0%|          | 0/12 [00:00<?, ?comment/s]"
      ]
     },
     "metadata": {},
     "output_type": "display_data"
    },
    {
     "data": {
      "application/vnd.jupyter.widget-view+json": {
       "model_id": "e7893451774d4e82934e29e38df846cc",
       "version_major": 2,
       "version_minor": 0
      },
      "text/plain": [
       "Analyzing comments:   0%|          | 0/19 [00:00<?, ?comment/s]"
      ]
     },
     "metadata": {},
     "output_type": "display_data"
    },
    {
     "data": {
      "application/vnd.jupyter.widget-view+json": {
       "model_id": "4d6784c8d3124253bed47262825c452c",
       "version_major": 2,
       "version_minor": 0
      },
      "text/plain": [
       "Analyzing comments:   0%|          | 0/40 [00:00<?, ?comment/s]"
      ]
     },
     "metadata": {},
     "output_type": "display_data"
    },
    {
     "data": {
      "application/vnd.jupyter.widget-view+json": {
       "model_id": "6f6e60fe1a39463bb92329eb34fd7770",
       "version_major": 2,
       "version_minor": 0
      },
      "text/plain": [
       "Analyzing comments:   0%|          | 0/10 [00:00<?, ?comment/s]"
      ]
     },
     "metadata": {},
     "output_type": "display_data"
    },
    {
     "data": {
      "application/vnd.jupyter.widget-view+json": {
       "model_id": "2d58707777ae46148c977dc10701200b",
       "version_major": 2,
       "version_minor": 0
      },
      "text/plain": [
       "Analyzing comments:   0%|          | 0/38 [00:00<?, ?comment/s]"
      ]
     },
     "metadata": {},
     "output_type": "display_data"
    },
    {
     "data": {
      "application/vnd.jupyter.widget-view+json": {
       "model_id": "48d86a39a40348de8fbf8580977aa480",
       "version_major": 2,
       "version_minor": 0
      },
      "text/plain": [
       "Analyzing comments:   0%|          | 0/33 [00:00<?, ?comment/s]"
      ]
     },
     "metadata": {},
     "output_type": "display_data"
    },
    {
     "data": {
      "application/vnd.jupyter.widget-view+json": {
       "model_id": "41e9bdf9d34c465bbe236e45ae07f14d",
       "version_major": 2,
       "version_minor": 0
      },
      "text/plain": [
       "Analyzing comments:   0%|          | 0/4 [00:00<?, ?comment/s]"
      ]
     },
     "metadata": {},
     "output_type": "display_data"
    },
    {
     "data": {
      "application/vnd.jupyter.widget-view+json": {
       "model_id": "c88a4b3b315b431b86fca21d39a2226b",
       "version_major": 2,
       "version_minor": 0
      },
      "text/plain": [
       "Analyzing comments:   0%|          | 0/2 [00:00<?, ?comment/s]"
      ]
     },
     "metadata": {},
     "output_type": "display_data"
    },
    {
     "data": {
      "application/vnd.jupyter.widget-view+json": {
       "model_id": "2bb905f44b754780b0594ff3162496a0",
       "version_major": 2,
       "version_minor": 0
      },
      "text/plain": [
       "Analyzing comments:   0%|          | 0/14 [00:00<?, ?comment/s]"
      ]
     },
     "metadata": {},
     "output_type": "display_data"
    },
    {
     "data": {
      "application/vnd.jupyter.widget-view+json": {
       "model_id": "e903e6ef7362449ca0561788fe059f76",
       "version_major": 2,
       "version_minor": 0
      },
      "text/plain": [
       "Analyzing comments:   0%|          | 0/19 [00:00<?, ?comment/s]"
      ]
     },
     "metadata": {},
     "output_type": "display_data"
    },
    {
     "data": {
      "application/vnd.jupyter.widget-view+json": {
       "model_id": "e60aa44868dd42c4b48b78b1dcdac9ba",
       "version_major": 2,
       "version_minor": 0
      },
      "text/plain": [
       "Analyzing comments:   0%|          | 0/36 [00:00<?, ?comment/s]"
      ]
     },
     "metadata": {},
     "output_type": "display_data"
    },
    {
     "data": {
      "application/vnd.jupyter.widget-view+json": {
       "model_id": "ea3ac04e42f449508318ebed79be44f5",
       "version_major": 2,
       "version_minor": 0
      },
      "text/plain": [
       "Analyzing comments:   0%|          | 0/40 [00:00<?, ?comment/s]"
      ]
     },
     "metadata": {},
     "output_type": "display_data"
    },
    {
     "data": {
      "application/vnd.jupyter.widget-view+json": {
       "model_id": "6be9a00cfd0d4efdbce0e952a1eb08cf",
       "version_major": 2,
       "version_minor": 0
      },
      "text/plain": [
       "Analyzing comments:   0%|          | 0/24 [00:00<?, ?comment/s]"
      ]
     },
     "metadata": {},
     "output_type": "display_data"
    },
    {
     "data": {
      "application/vnd.jupyter.widget-view+json": {
       "model_id": "5fc348e3c1f54fc0bc591cf93cd8ca24",
       "version_major": 2,
       "version_minor": 0
      },
      "text/plain": [
       "Analyzing comments:   0%|          | 0/36 [00:00<?, ?comment/s]"
      ]
     },
     "metadata": {},
     "output_type": "display_data"
    },
    {
     "data": {
      "application/vnd.jupyter.widget-view+json": {
       "model_id": "0124b4e4843e4881b2285d8b732274f3",
       "version_major": 2,
       "version_minor": 0
      },
      "text/plain": [
       "Analyzing comments:   0%|          | 0/40 [00:00<?, ?comment/s]"
      ]
     },
     "metadata": {},
     "output_type": "display_data"
    },
    {
     "data": {
      "application/vnd.jupyter.widget-view+json": {
       "model_id": "cc7dd302fb364adcbe475015f807bc68",
       "version_major": 2,
       "version_minor": 0
      },
      "text/plain": [
       "Analyzing comments:   0%|          | 0/20 [00:00<?, ?comment/s]"
      ]
     },
     "metadata": {},
     "output_type": "display_data"
    },
    {
     "data": {
      "application/vnd.jupyter.widget-view+json": {
       "model_id": "04153284bf1e422a925a0a7bc69a1b05",
       "version_major": 2,
       "version_minor": 0
      },
      "text/plain": [
       "Analyzing comments:   0%|          | 0/29 [00:00<?, ?comment/s]"
      ]
     },
     "metadata": {},
     "output_type": "display_data"
    },
    {
     "data": {
      "application/vnd.jupyter.widget-view+json": {
       "model_id": "ba772ded54ef43b9a0df9dd7cb8306af",
       "version_major": 2,
       "version_minor": 0
      },
      "text/plain": [
       "Analyzing comments:   0%|          | 0/37 [00:00<?, ?comment/s]"
      ]
     },
     "metadata": {},
     "output_type": "display_data"
    },
    {
     "data": {
      "application/vnd.jupyter.widget-view+json": {
       "model_id": "f16866de442e449b820137eba1e0e9eb",
       "version_major": 2,
       "version_minor": 0
      },
      "text/plain": [
       "Analyzing comments:   0%|          | 0/19 [00:00<?, ?comment/s]"
      ]
     },
     "metadata": {},
     "output_type": "display_data"
    },
    {
     "data": {
      "application/vnd.jupyter.widget-view+json": {
       "model_id": "a4e78dc3216a4ec49a373b7e7c95199a",
       "version_major": 2,
       "version_minor": 0
      },
      "text/plain": [
       "Analyzing comments:   0%|          | 0/24 [00:00<?, ?comment/s]"
      ]
     },
     "metadata": {},
     "output_type": "display_data"
    },
    {
     "data": {
      "application/vnd.jupyter.widget-view+json": {
       "model_id": "1428912f32fb47e99d7e2711dd662395",
       "version_major": 2,
       "version_minor": 0
      },
      "text/plain": [
       "Analyzing comments:   0%|          | 0/39 [00:00<?, ?comment/s]"
      ]
     },
     "metadata": {},
     "output_type": "display_data"
    },
    {
     "data": {
      "application/vnd.jupyter.widget-view+json": {
       "model_id": "bf4bb131fe1f47d39ba7ae8be0e64de9",
       "version_major": 2,
       "version_minor": 0
      },
      "text/plain": [
       "Analyzing comments:   0%|          | 0/37 [00:00<?, ?comment/s]"
      ]
     },
     "metadata": {},
     "output_type": "display_data"
    },
    {
     "data": {
      "application/vnd.jupyter.widget-view+json": {
       "model_id": "84c9973df23440dfa1727f8e4871fbd3",
       "version_major": 2,
       "version_minor": 0
      },
      "text/plain": [
       "Analyzing comments:   0%|          | 0/31 [00:00<?, ?comment/s]"
      ]
     },
     "metadata": {},
     "output_type": "display_data"
    },
    {
     "data": {
      "application/vnd.jupyter.widget-view+json": {
       "model_id": "19d7f5b882634eff9eb74cff595dd2d6",
       "version_major": 2,
       "version_minor": 0
      },
      "text/plain": [
       "Analyzing comments:   0%|          | 0/35 [00:00<?, ?comment/s]"
      ]
     },
     "metadata": {},
     "output_type": "display_data"
    },
    {
     "data": {
      "application/vnd.jupyter.widget-view+json": {
       "model_id": "5b552894d31f4ab4abae566843a265df",
       "version_major": 2,
       "version_minor": 0
      },
      "text/plain": [
       "Analyzing comments:   0%|          | 0/1 [00:00<?, ?comment/s]"
      ]
     },
     "metadata": {},
     "output_type": "display_data"
    },
    {
     "data": {
      "application/vnd.jupyter.widget-view+json": {
       "model_id": "0112b06dedcc4454877e3c9929e69fac",
       "version_major": 2,
       "version_minor": 0
      },
      "text/plain": [
       "Analyzing comments:   0%|          | 0/33 [00:00<?, ?comment/s]"
      ]
     },
     "metadata": {},
     "output_type": "display_data"
    },
    {
     "data": {
      "application/vnd.jupyter.widget-view+json": {
       "model_id": "d88a6200702440ec8b9655e5eb654555",
       "version_major": 2,
       "version_minor": 0
      },
      "text/plain": [
       "Analyzing comments:   0%|          | 0/5 [00:00<?, ?comment/s]"
      ]
     },
     "metadata": {},
     "output_type": "display_data"
    },
    {
     "data": {
      "application/vnd.jupyter.widget-view+json": {
       "model_id": "d94946a81b7644e1900257ea63bf9047",
       "version_major": 2,
       "version_minor": 0
      },
      "text/plain": [
       "Analyzing comments:   0%|          | 0/37 [00:00<?, ?comment/s]"
      ]
     },
     "metadata": {},
     "output_type": "display_data"
    },
    {
     "data": {
      "application/vnd.jupyter.widget-view+json": {
       "model_id": "a705b01b2fb14699b4b42b426caa3019",
       "version_major": 2,
       "version_minor": 0
      },
      "text/plain": [
       "Analyzing comments:   0%|          | 0/13 [00:00<?, ?comment/s]"
      ]
     },
     "metadata": {},
     "output_type": "display_data"
    },
    {
     "data": {
      "application/vnd.jupyter.widget-view+json": {
       "model_id": "9d75394aba834e20a4463d923c825498",
       "version_major": 2,
       "version_minor": 0
      },
      "text/plain": [
       "Analyzing comments:   0%|          | 0/40 [00:00<?, ?comment/s]"
      ]
     },
     "metadata": {},
     "output_type": "display_data"
    },
    {
     "data": {
      "application/vnd.jupyter.widget-view+json": {
       "model_id": "89c4b47353be4819aab4ea9386b2967d",
       "version_major": 2,
       "version_minor": 0
      },
      "text/plain": [
       "Analyzing comments:   0%|          | 0/22 [00:00<?, ?comment/s]"
      ]
     },
     "metadata": {},
     "output_type": "display_data"
    },
    {
     "data": {
      "application/vnd.jupyter.widget-view+json": {
       "model_id": "3afc984a692f40cd935d4f09e0c42e4f",
       "version_major": 2,
       "version_minor": 0
      },
      "text/plain": [
       "Analyzing comments:   0%|          | 0/7 [00:00<?, ?comment/s]"
      ]
     },
     "metadata": {},
     "output_type": "display_data"
    },
    {
     "data": {
      "application/vnd.jupyter.widget-view+json": {
       "model_id": "fc576a922e3247979332cf76b72bc2d4",
       "version_major": 2,
       "version_minor": 0
      },
      "text/plain": [
       "Analyzing comments:   0%|          | 0/36 [00:00<?, ?comment/s]"
      ]
     },
     "metadata": {},
     "output_type": "display_data"
    },
    {
     "data": {
      "application/vnd.jupyter.widget-view+json": {
       "model_id": "008ca7682ff94b85a8eb596e7ced3ac7",
       "version_major": 2,
       "version_minor": 0
      },
      "text/plain": [
       "Analyzing comments:   0%|          | 0/21 [00:00<?, ?comment/s]"
      ]
     },
     "metadata": {},
     "output_type": "display_data"
    },
    {
     "data": {
      "application/vnd.jupyter.widget-view+json": {
       "model_id": "85b0c81bcf9b462fa8bed591fbf42028",
       "version_major": 2,
       "version_minor": 0
      },
      "text/plain": [
       "Analyzing comments:   0%|          | 0/33 [00:00<?, ?comment/s]"
      ]
     },
     "metadata": {},
     "output_type": "display_data"
    },
    {
     "data": {
      "application/vnd.jupyter.widget-view+json": {
       "model_id": "875c020729e749a3a752b0acf5e5097c",
       "version_major": 2,
       "version_minor": 0
      },
      "text/plain": [
       "Analyzing comments:   0%|          | 0/1 [00:00<?, ?comment/s]"
      ]
     },
     "metadata": {},
     "output_type": "display_data"
    },
    {
     "data": {
      "application/vnd.jupyter.widget-view+json": {
       "model_id": "0eaa512ece6846aba697e5069fae6777",
       "version_major": 2,
       "version_minor": 0
      },
      "text/plain": [
       "Analyzing comments:   0%|          | 0/40 [00:00<?, ?comment/s]"
      ]
     },
     "metadata": {},
     "output_type": "display_data"
    },
    {
     "data": {
      "application/vnd.jupyter.widget-view+json": {
       "model_id": "6c3b81a5fec84e689b2d7ad3cd23db88",
       "version_major": 2,
       "version_minor": 0
      },
      "text/plain": [
       "Analyzing comments:   0%|          | 0/41 [00:00<?, ?comment/s]"
      ]
     },
     "metadata": {},
     "output_type": "display_data"
    },
    {
     "data": {
      "application/vnd.jupyter.widget-view+json": {
       "model_id": "57290131139d47d39ef2a4d781778e75",
       "version_major": 2,
       "version_minor": 0
      },
      "text/plain": [
       "Analyzing comments:   0%|          | 0/2 [00:00<?, ?comment/s]"
      ]
     },
     "metadata": {},
     "output_type": "display_data"
    },
    {
     "data": {
      "application/vnd.jupyter.widget-view+json": {
       "model_id": "f89625cc69164c02b533fc4cd1aee619",
       "version_major": 2,
       "version_minor": 0
      },
      "text/plain": [
       "Analyzing comments:   0%|          | 0/39 [00:00<?, ?comment/s]"
      ]
     },
     "metadata": {},
     "output_type": "display_data"
    },
    {
     "data": {
      "application/vnd.jupyter.widget-view+json": {
       "model_id": "bdfaa64e88ed4ad9bff8493f1a8a2681",
       "version_major": 2,
       "version_minor": 0
      },
      "text/plain": [
       "Analyzing comments:   0%|          | 0/34 [00:00<?, ?comment/s]"
      ]
     },
     "metadata": {},
     "output_type": "display_data"
    },
    {
     "data": {
      "application/vnd.jupyter.widget-view+json": {
       "model_id": "04e5afc069f94e049f7757dbae26717f",
       "version_major": 2,
       "version_minor": 0
      },
      "text/plain": [
       "Analyzing comments:   0%|          | 0/37 [00:00<?, ?comment/s]"
      ]
     },
     "metadata": {},
     "output_type": "display_data"
    },
    {
     "data": {
      "application/vnd.jupyter.widget-view+json": {
       "model_id": "765f79be750f40cb99ef88081bbe9dd9",
       "version_major": 2,
       "version_minor": 0
      },
      "text/plain": [
       "Analyzing comments:   0%|          | 0/5 [00:00<?, ?comment/s]"
      ]
     },
     "metadata": {},
     "output_type": "display_data"
    },
    {
     "data": {
      "application/vnd.jupyter.widget-view+json": {
       "model_id": "65c639b290f749ca803ae7e511dfa395",
       "version_major": 2,
       "version_minor": 0
      },
      "text/plain": [
       "Analyzing comments:   0%|          | 0/37 [00:00<?, ?comment/s]"
      ]
     },
     "metadata": {},
     "output_type": "display_data"
    },
    {
     "data": {
      "application/vnd.jupyter.widget-view+json": {
       "model_id": "b9e04ce82ece4bbb8bdc5886c4c3274a",
       "version_major": 2,
       "version_minor": 0
      },
      "text/plain": [
       "Analyzing comments:   0%|          | 0/4 [00:00<?, ?comment/s]"
      ]
     },
     "metadata": {},
     "output_type": "display_data"
    },
    {
     "data": {
      "application/vnd.jupyter.widget-view+json": {
       "model_id": "bf8f325e05204bcba0db84f4cfe981da",
       "version_major": 2,
       "version_minor": 0
      },
      "text/plain": [
       "Analyzing comments:   0%|          | 0/40 [00:00<?, ?comment/s]"
      ]
     },
     "metadata": {},
     "output_type": "display_data"
    },
    {
     "data": {
      "application/vnd.jupyter.widget-view+json": {
       "model_id": "d0e4caa5ca364804a0b67ffde0a2ea63",
       "version_major": 2,
       "version_minor": 0
      },
      "text/plain": [
       "Analyzing comments:   0%|          | 0/36 [00:00<?, ?comment/s]"
      ]
     },
     "metadata": {},
     "output_type": "display_data"
    },
    {
     "data": {
      "application/vnd.jupyter.widget-view+json": {
       "model_id": "4cf0fae7e8f74bb1bb9d628f3bde708c",
       "version_major": 2,
       "version_minor": 0
      },
      "text/plain": [
       "Analyzing comments:   0%|          | 0/18 [00:00<?, ?comment/s]"
      ]
     },
     "metadata": {},
     "output_type": "display_data"
    },
    {
     "data": {
      "application/vnd.jupyter.widget-view+json": {
       "model_id": "8caa7d7c5da2482a909a2cb6d9587963",
       "version_major": 2,
       "version_minor": 0
      },
      "text/plain": [
       "Analyzing comments:   0%|          | 0/31 [00:00<?, ?comment/s]"
      ]
     },
     "metadata": {},
     "output_type": "display_data"
    },
    {
     "data": {
      "application/vnd.jupyter.widget-view+json": {
       "model_id": "ad36e497ae76463794ff644789be4e8a",
       "version_major": 2,
       "version_minor": 0
      },
      "text/plain": [
       "Analyzing comments:   0%|          | 0/17 [00:00<?, ?comment/s]"
      ]
     },
     "metadata": {},
     "output_type": "display_data"
    },
    {
     "data": {
      "application/vnd.jupyter.widget-view+json": {
       "model_id": "b81649e5520f4db4ba1c47fead3a8dc1",
       "version_major": 2,
       "version_minor": 0
      },
      "text/plain": [
       "Analyzing comments:   0%|          | 0/10 [00:00<?, ?comment/s]"
      ]
     },
     "metadata": {},
     "output_type": "display_data"
    },
    {
     "data": {
      "application/vnd.jupyter.widget-view+json": {
       "model_id": "1f834ee4d6f44dbbb7c31e675a39d46b",
       "version_major": 2,
       "version_minor": 0
      },
      "text/plain": [
       "Analyzing comments:   0%|          | 0/39 [00:00<?, ?comment/s]"
      ]
     },
     "metadata": {},
     "output_type": "display_data"
    },
    {
     "data": {
      "application/vnd.jupyter.widget-view+json": {
       "model_id": "8d2aa2d7ecf94bd0a56ea3aa2664c58c",
       "version_major": 2,
       "version_minor": 0
      },
      "text/plain": [
       "Analyzing comments:   0%|          | 0/38 [00:00<?, ?comment/s]"
      ]
     },
     "metadata": {},
     "output_type": "display_data"
    },
    {
     "data": {
      "application/vnd.jupyter.widget-view+json": {
       "model_id": "df95c10a21394eccb34c0d8c43aea9dc",
       "version_major": 2,
       "version_minor": 0
      },
      "text/plain": [
       "Analyzing comments:   0%|          | 0/1 [00:00<?, ?comment/s]"
      ]
     },
     "metadata": {},
     "output_type": "display_data"
    },
    {
     "data": {
      "application/vnd.jupyter.widget-view+json": {
       "model_id": "7217c9be2e8d476ca1bed58f7719f9d3",
       "version_major": 2,
       "version_minor": 0
      },
      "text/plain": [
       "Analyzing comments:   0%|          | 0/16 [00:00<?, ?comment/s]"
      ]
     },
     "metadata": {},
     "output_type": "display_data"
    },
    {
     "data": {
      "application/vnd.jupyter.widget-view+json": {
       "model_id": "60a7e485bbfd4694a2a951be60695fd0",
       "version_major": 2,
       "version_minor": 0
      },
      "text/plain": [
       "Analyzing comments:   0%|          | 0/39 [00:00<?, ?comment/s]"
      ]
     },
     "metadata": {},
     "output_type": "display_data"
    },
    {
     "data": {
      "application/vnd.jupyter.widget-view+json": {
       "model_id": "6d1e7d20a49c4470a55f6b95f50825f2",
       "version_major": 2,
       "version_minor": 0
      },
      "text/plain": [
       "Analyzing comments:   0%|          | 0/3 [00:00<?, ?comment/s]"
      ]
     },
     "metadata": {},
     "output_type": "display_data"
    },
    {
     "data": {
      "application/vnd.jupyter.widget-view+json": {
       "model_id": "be6ae3762273497db4689edff184bf33",
       "version_major": 2,
       "version_minor": 0
      },
      "text/plain": [
       "Analyzing comments:   0%|          | 0/39 [00:00<?, ?comment/s]"
      ]
     },
     "metadata": {},
     "output_type": "display_data"
    },
    {
     "data": {
      "application/vnd.jupyter.widget-view+json": {
       "model_id": "958d1870c6544c87b96915a911900cb3",
       "version_major": 2,
       "version_minor": 0
      },
      "text/plain": [
       "Analyzing comments:   0%|          | 0/39 [00:00<?, ?comment/s]"
      ]
     },
     "metadata": {},
     "output_type": "display_data"
    },
    {
     "data": {
      "application/vnd.jupyter.widget-view+json": {
       "model_id": "0d27a74d039b431a8b4b1c16fe8cb166",
       "version_major": 2,
       "version_minor": 0
      },
      "text/plain": [
       "Analyzing comments:   0%|          | 0/1 [00:00<?, ?comment/s]"
      ]
     },
     "metadata": {},
     "output_type": "display_data"
    },
    {
     "data": {
      "application/vnd.jupyter.widget-view+json": {
       "model_id": "365e07b6e629451db552de2cc237d484",
       "version_major": 2,
       "version_minor": 0
      },
      "text/plain": [
       "Analyzing comments:   0%|          | 0/40 [00:00<?, ?comment/s]"
      ]
     },
     "metadata": {},
     "output_type": "display_data"
    },
    {
     "data": {
      "application/vnd.jupyter.widget-view+json": {
       "model_id": "8f287c75232c4a39b06d7e4a0e03855d",
       "version_major": 2,
       "version_minor": 0
      },
      "text/plain": [
       "Analyzing comments:   0%|          | 0/38 [00:00<?, ?comment/s]"
      ]
     },
     "metadata": {},
     "output_type": "display_data"
    },
    {
     "data": {
      "application/vnd.jupyter.widget-view+json": {
       "model_id": "9908a5dcefd241559f5aa95be5d2ffbb",
       "version_major": 2,
       "version_minor": 0
      },
      "text/plain": [
       "Analyzing comments:   0%|          | 0/16 [00:00<?, ?comment/s]"
      ]
     },
     "metadata": {},
     "output_type": "display_data"
    },
    {
     "data": {
      "application/vnd.jupyter.widget-view+json": {
       "model_id": "20800aebd2484db68dde2d57273cd0df",
       "version_major": 2,
       "version_minor": 0
      },
      "text/plain": [
       "Analyzing comments:   0%|          | 0/45 [00:00<?, ?comment/s]"
      ]
     },
     "metadata": {},
     "output_type": "display_data"
    },
    {
     "data": {
      "application/vnd.jupyter.widget-view+json": {
       "model_id": "072ae08de1fc4409a6af427d092d72da",
       "version_major": 2,
       "version_minor": 0
      },
      "text/plain": [
       "Analyzing comments:   0%|          | 0/28 [00:00<?, ?comment/s]"
      ]
     },
     "metadata": {},
     "output_type": "display_data"
    },
    {
     "data": {
      "application/vnd.jupyter.widget-view+json": {
       "model_id": "9edb2e43ebec4ee1acfcd0d99652c7fe",
       "version_major": 2,
       "version_minor": 0
      },
      "text/plain": [
       "Analyzing comments:   0%|          | 0/30 [00:00<?, ?comment/s]"
      ]
     },
     "metadata": {},
     "output_type": "display_data"
    },
    {
     "data": {
      "application/vnd.jupyter.widget-view+json": {
       "model_id": "679692f54cb047499c6697eb128149e5",
       "version_major": 2,
       "version_minor": 0
      },
      "text/plain": [
       "Analyzing comments:   0%|          | 0/38 [00:00<?, ?comment/s]"
      ]
     },
     "metadata": {},
     "output_type": "display_data"
    },
    {
     "data": {
      "application/vnd.jupyter.widget-view+json": {
       "model_id": "4ab27f9c35984ef28261ab41d9217cf9",
       "version_major": 2,
       "version_minor": 0
      },
      "text/plain": [
       "Analyzing comments:   0%|          | 0/35 [00:00<?, ?comment/s]"
      ]
     },
     "metadata": {},
     "output_type": "display_data"
    },
    {
     "data": {
      "application/vnd.jupyter.widget-view+json": {
       "model_id": "a9ab8422df694bb889d45047d79834da",
       "version_major": 2,
       "version_minor": 0
      },
      "text/plain": [
       "Analyzing comments:   0%|          | 0/32 [00:00<?, ?comment/s]"
      ]
     },
     "metadata": {},
     "output_type": "display_data"
    },
    {
     "data": {
      "application/vnd.jupyter.widget-view+json": {
       "model_id": "948f8d662728498e9bdffbb49467eb11",
       "version_major": 2,
       "version_minor": 0
      },
      "text/plain": [
       "Analyzing comments:   0%|          | 0/33 [00:00<?, ?comment/s]"
      ]
     },
     "metadata": {},
     "output_type": "display_data"
    },
    {
     "data": {
      "application/vnd.jupyter.widget-view+json": {
       "model_id": "dc0c821a252b457cb0f79b016c6f4da6",
       "version_major": 2,
       "version_minor": 0
      },
      "text/plain": [
       "Analyzing comments:   0%|          | 0/26 [00:00<?, ?comment/s]"
      ]
     },
     "metadata": {},
     "output_type": "display_data"
    },
    {
     "data": {
      "application/vnd.jupyter.widget-view+json": {
       "model_id": "4811dbc3f3f945b59cd9fa3b41a9e23e",
       "version_major": 2,
       "version_minor": 0
      },
      "text/plain": [
       "Analyzing comments:   0%|          | 0/47 [00:00<?, ?comment/s]"
      ]
     },
     "metadata": {},
     "output_type": "display_data"
    },
    {
     "data": {
      "application/vnd.jupyter.widget-view+json": {
       "model_id": "5f8ab3a250d94329a6971a88a247e868",
       "version_major": 2,
       "version_minor": 0
      },
      "text/plain": [
       "Analyzing comments:   0%|          | 0/38 [00:00<?, ?comment/s]"
      ]
     },
     "metadata": {},
     "output_type": "display_data"
    },
    {
     "data": {
      "application/vnd.jupyter.widget-view+json": {
       "model_id": "98f59b25a8574a4db561bae295b97bba",
       "version_major": 2,
       "version_minor": 0
      },
      "text/plain": [
       "Analyzing comments:   0%|          | 0/40 [00:00<?, ?comment/s]"
      ]
     },
     "metadata": {},
     "output_type": "display_data"
    },
    {
     "data": {
      "application/vnd.jupyter.widget-view+json": {
       "model_id": "32163f14b2d544d586a29fe97f4591ba",
       "version_major": 2,
       "version_minor": 0
      },
      "text/plain": [
       "Analyzing comments:   0%|          | 0/29 [00:00<?, ?comment/s]"
      ]
     },
     "metadata": {},
     "output_type": "display_data"
    },
    {
     "data": {
      "application/vnd.jupyter.widget-view+json": {
       "model_id": "cbade204391f40059d8370c393936c94",
       "version_major": 2,
       "version_minor": 0
      },
      "text/plain": [
       "Analyzing comments:   0%|          | 0/4 [00:00<?, ?comment/s]"
      ]
     },
     "metadata": {},
     "output_type": "display_data"
    },
    {
     "data": {
      "application/vnd.jupyter.widget-view+json": {
       "model_id": "0dacd3897ed745ec81a5a379437899c7",
       "version_major": 2,
       "version_minor": 0
      },
      "text/plain": [
       "Analyzing comments:   0%|          | 0/30 [00:00<?, ?comment/s]"
      ]
     },
     "metadata": {},
     "output_type": "display_data"
    },
    {
     "data": {
      "application/vnd.jupyter.widget-view+json": {
       "model_id": "e09814863a56400b9585b56fb3f6c02b",
       "version_major": 2,
       "version_minor": 0
      },
      "text/plain": [
       "Analyzing comments: 0comment [00:00, ?comment/s]"
      ]
     },
     "metadata": {},
     "output_type": "display_data"
    },
    {
     "data": {
      "application/vnd.jupyter.widget-view+json": {
       "model_id": "ffbf5faaf25843f8b050f7ed3833baf4",
       "version_major": 2,
       "version_minor": 0
      },
      "text/plain": [
       "Analyzing comments:   0%|          | 0/2 [00:00<?, ?comment/s]"
      ]
     },
     "metadata": {},
     "output_type": "display_data"
    },
    {
     "data": {
      "application/vnd.jupyter.widget-view+json": {
       "model_id": "75febd805a3a4265bb69428308762804",
       "version_major": 2,
       "version_minor": 0
      },
      "text/plain": [
       "Analyzing comments:   0%|          | 0/9 [00:00<?, ?comment/s]"
      ]
     },
     "metadata": {},
     "output_type": "display_data"
    },
    {
     "data": {
      "application/vnd.jupyter.widget-view+json": {
       "model_id": "6ff4135d74a242149e87858f8a717526",
       "version_major": 2,
       "version_minor": 0
      },
      "text/plain": [
       "Analyzing comments:   0%|          | 0/5 [00:00<?, ?comment/s]"
      ]
     },
     "metadata": {},
     "output_type": "display_data"
    },
    {
     "data": {
      "application/vnd.jupyter.widget-view+json": {
       "model_id": "d5ecc881b708405f91b7cda2923c2c7a",
       "version_major": 2,
       "version_minor": 0
      },
      "text/plain": [
       "Analyzing comments:   0%|          | 0/39 [00:00<?, ?comment/s]"
      ]
     },
     "metadata": {},
     "output_type": "display_data"
    },
    {
     "data": {
      "application/vnd.jupyter.widget-view+json": {
       "model_id": "a772c6c6c4754815980cd675fd087782",
       "version_major": 2,
       "version_minor": 0
      },
      "text/plain": [
       "Analyzing comments:   0%|          | 0/39 [00:00<?, ?comment/s]"
      ]
     },
     "metadata": {},
     "output_type": "display_data"
    },
    {
     "data": {
      "application/vnd.jupyter.widget-view+json": {
       "model_id": "26f7a2fe43e54f72bc9a8a9b8a99eb41",
       "version_major": 2,
       "version_minor": 0
      },
      "text/plain": [
       "Analyzing comments:   0%|          | 0/1 [00:00<?, ?comment/s]"
      ]
     },
     "metadata": {},
     "output_type": "display_data"
    },
    {
     "data": {
      "application/vnd.jupyter.widget-view+json": {
       "model_id": "e890eb6136044e56aedb08f8cbb06af8",
       "version_major": 2,
       "version_minor": 0
      },
      "text/plain": [
       "Analyzing comments:   0%|          | 0/36 [00:00<?, ?comment/s]"
      ]
     },
     "metadata": {},
     "output_type": "display_data"
    },
    {
     "data": {
      "application/vnd.jupyter.widget-view+json": {
       "model_id": "8bd3a14d807a4e3c9b4fa16b980a2bab",
       "version_major": 2,
       "version_minor": 0
      },
      "text/plain": [
       "Analyzing comments:   0%|          | 0/31 [00:00<?, ?comment/s]"
      ]
     },
     "metadata": {},
     "output_type": "display_data"
    },
    {
     "data": {
      "application/vnd.jupyter.widget-view+json": {
       "model_id": "70610102e5804a99889cc05ce11c197f",
       "version_major": 2,
       "version_minor": 0
      },
      "text/plain": [
       "Analyzing comments:   0%|          | 0/38 [00:00<?, ?comment/s]"
      ]
     },
     "metadata": {},
     "output_type": "display_data"
    },
    {
     "data": {
      "application/vnd.jupyter.widget-view+json": {
       "model_id": "a517b776e69044cab7a8771d016c8d4d",
       "version_major": 2,
       "version_minor": 0
      },
      "text/plain": [
       "Analyzing comments:   0%|          | 0/29 [00:00<?, ?comment/s]"
      ]
     },
     "metadata": {},
     "output_type": "display_data"
    },
    {
     "data": {
      "application/vnd.jupyter.widget-view+json": {
       "model_id": "28a8aebb881b4ed19bdc1426bc1d88e5",
       "version_major": 2,
       "version_minor": 0
      },
      "text/plain": [
       "Analyzing comments:   0%|          | 0/1 [00:00<?, ?comment/s]"
      ]
     },
     "metadata": {},
     "output_type": "display_data"
    },
    {
     "data": {
      "application/vnd.jupyter.widget-view+json": {
       "model_id": "a329ca6ba2114f37bf7f2bc1a647293d",
       "version_major": 2,
       "version_minor": 0
      },
      "text/plain": [
       "Analyzing comments:   0%|          | 0/37 [00:00<?, ?comment/s]"
      ]
     },
     "metadata": {},
     "output_type": "display_data"
    },
    {
     "data": {
      "application/vnd.jupyter.widget-view+json": {
       "model_id": "9fafffea18d5434da080493884e7bde2",
       "version_major": 2,
       "version_minor": 0
      },
      "text/plain": [
       "Analyzing comments:   0%|          | 0/2 [00:00<?, ?comment/s]"
      ]
     },
     "metadata": {},
     "output_type": "display_data"
    },
    {
     "data": {
      "application/vnd.jupyter.widget-view+json": {
       "model_id": "6df8b25a680143978f7cd0bfc4b82917",
       "version_major": 2,
       "version_minor": 0
      },
      "text/plain": [
       "Analyzing comments:   0%|          | 0/30 [00:00<?, ?comment/s]"
      ]
     },
     "metadata": {},
     "output_type": "display_data"
    },
    {
     "data": {
      "application/vnd.jupyter.widget-view+json": {
       "model_id": "cb79692b23cf47f6be0acf022454eb15",
       "version_major": 2,
       "version_minor": 0
      },
      "text/plain": [
       "Analyzing comments:   0%|          | 0/1 [00:00<?, ?comment/s]"
      ]
     },
     "metadata": {},
     "output_type": "display_data"
    },
    {
     "data": {
      "application/vnd.jupyter.widget-view+json": {
       "model_id": "c27e6ad6183e4d2f9ceb330edd602f30",
       "version_major": 2,
       "version_minor": 0
      },
      "text/plain": [
       "Analyzing comments:   0%|          | 0/2 [00:00<?, ?comment/s]"
      ]
     },
     "metadata": {},
     "output_type": "display_data"
    },
    {
     "data": {
      "application/vnd.jupyter.widget-view+json": {
       "model_id": "78afe8b3e2bf44d78c2d56ee4d86aa71",
       "version_major": 2,
       "version_minor": 0
      },
      "text/plain": [
       "Analyzing comments:   0%|          | 0/33 [00:00<?, ?comment/s]"
      ]
     },
     "metadata": {},
     "output_type": "display_data"
    },
    {
     "data": {
      "application/vnd.jupyter.widget-view+json": {
       "model_id": "d0377014154c4ce4bbfd2b1ba2d74959",
       "version_major": 2,
       "version_minor": 0
      },
      "text/plain": [
       "Analyzing comments:   0%|          | 0/2 [00:00<?, ?comment/s]"
      ]
     },
     "metadata": {},
     "output_type": "display_data"
    },
    {
     "data": {
      "application/vnd.jupyter.widget-view+json": {
       "model_id": "e90bb302472d4321b7ac17950e850bf1",
       "version_major": 2,
       "version_minor": 0
      },
      "text/plain": [
       "Analyzing comments:   0%|          | 0/7 [00:00<?, ?comment/s]"
      ]
     },
     "metadata": {},
     "output_type": "display_data"
    },
    {
     "data": {
      "application/vnd.jupyter.widget-view+json": {
       "model_id": "065ac83208fc46aaa630a27acd9dffaa",
       "version_major": 2,
       "version_minor": 0
      },
      "text/plain": [
       "Analyzing comments:   0%|          | 0/39 [00:00<?, ?comment/s]"
      ]
     },
     "metadata": {},
     "output_type": "display_data"
    },
    {
     "data": {
      "application/vnd.jupyter.widget-view+json": {
       "model_id": "42f6bc45be7c4ff780d2dca4abae61ab",
       "version_major": 2,
       "version_minor": 0
      },
      "text/plain": [
       "Analyzing comments:   0%|          | 0/1 [00:00<?, ?comment/s]"
      ]
     },
     "metadata": {},
     "output_type": "display_data"
    },
    {
     "data": {
      "application/vnd.jupyter.widget-view+json": {
       "model_id": "74a4918e7aff427186ac7a79c6ec5aad",
       "version_major": 2,
       "version_minor": 0
      },
      "text/plain": [
       "Analyzing comments:   0%|          | 0/35 [00:00<?, ?comment/s]"
      ]
     },
     "metadata": {},
     "output_type": "display_data"
    },
    {
     "data": {
      "application/vnd.jupyter.widget-view+json": {
       "model_id": "7af544aaf80c4f6b95fb91b756f83505",
       "version_major": 2,
       "version_minor": 0
      },
      "text/plain": [
       "Analyzing comments:   0%|          | 0/34 [00:00<?, ?comment/s]"
      ]
     },
     "metadata": {},
     "output_type": "display_data"
    },
    {
     "data": {
      "application/vnd.jupyter.widget-view+json": {
       "model_id": "f8c3e4ee959d458aa48fe75fff5c7c5b",
       "version_major": 2,
       "version_minor": 0
      },
      "text/plain": [
       "Analyzing comments:   0%|          | 0/5 [00:00<?, ?comment/s]"
      ]
     },
     "metadata": {},
     "output_type": "display_data"
    },
    {
     "data": {
      "application/vnd.jupyter.widget-view+json": {
       "model_id": "aba1cf2f4fac44309de009ea642b8675",
       "version_major": 2,
       "version_minor": 0
      },
      "text/plain": [
       "Analyzing comments:   0%|          | 0/22 [00:00<?, ?comment/s]"
      ]
     },
     "metadata": {},
     "output_type": "display_data"
    },
    {
     "data": {
      "application/vnd.jupyter.widget-view+json": {
       "model_id": "b1e2eca7e604407799a2e12fdd607c84",
       "version_major": 2,
       "version_minor": 0
      },
      "text/plain": [
       "Analyzing comments:   0%|          | 0/22 [00:00<?, ?comment/s]"
      ]
     },
     "metadata": {},
     "output_type": "display_data"
    },
    {
     "data": {
      "application/vnd.jupyter.widget-view+json": {
       "model_id": "92206b9ec37e4655a23434f836e29afc",
       "version_major": 2,
       "version_minor": 0
      },
      "text/plain": [
       "Analyzing comments:   0%|          | 0/3 [00:00<?, ?comment/s]"
      ]
     },
     "metadata": {},
     "output_type": "display_data"
    },
    {
     "data": {
      "application/vnd.jupyter.widget-view+json": {
       "model_id": "fb8493f431824f25b934e8f18c614d47",
       "version_major": 2,
       "version_minor": 0
      },
      "text/plain": [
       "Analyzing comments:   0%|          | 0/39 [00:00<?, ?comment/s]"
      ]
     },
     "metadata": {},
     "output_type": "display_data"
    },
    {
     "data": {
      "application/vnd.jupyter.widget-view+json": {
       "model_id": "9ca35108be414253a8a912cb9d071313",
       "version_major": 2,
       "version_minor": 0
      },
      "text/plain": [
       "Analyzing comments:   0%|          | 0/14 [00:00<?, ?comment/s]"
      ]
     },
     "metadata": {},
     "output_type": "display_data"
    },
    {
     "data": {
      "application/vnd.jupyter.widget-view+json": {
       "model_id": "c0e82f417f0e40bf9bc7e6aa5624d25b",
       "version_major": 2,
       "version_minor": 0
      },
      "text/plain": [
       "Analyzing comments:   0%|          | 0/43 [00:00<?, ?comment/s]"
      ]
     },
     "metadata": {},
     "output_type": "display_data"
    },
    {
     "data": {
      "application/vnd.jupyter.widget-view+json": {
       "model_id": "e7b7d58d43ca4878aa81430387a5b051",
       "version_major": 2,
       "version_minor": 0
      },
      "text/plain": [
       "Analyzing comments:   0%|          | 0/52 [00:00<?, ?comment/s]"
      ]
     },
     "metadata": {},
     "output_type": "display_data"
    },
    {
     "data": {
      "application/vnd.jupyter.widget-view+json": {
       "model_id": "662de98f63dd469ea53c468ec412f410",
       "version_major": 2,
       "version_minor": 0
      },
      "text/plain": [
       "Analyzing comments:   0%|          | 0/36 [00:00<?, ?comment/s]"
      ]
     },
     "metadata": {},
     "output_type": "display_data"
    },
    {
     "data": {
      "application/vnd.jupyter.widget-view+json": {
       "model_id": "b699fca6481c498e8ea2a9db90e86f06",
       "version_major": 2,
       "version_minor": 0
      },
      "text/plain": [
       "Analyzing comments:   0%|          | 0/1 [00:00<?, ?comment/s]"
      ]
     },
     "metadata": {},
     "output_type": "display_data"
    },
    {
     "data": {
      "application/vnd.jupyter.widget-view+json": {
       "model_id": "28b8f6ef3c42469e96c39cadc9b54465",
       "version_major": 2,
       "version_minor": 0
      },
      "text/plain": [
       "Analyzing comments:   0%|          | 0/36 [00:00<?, ?comment/s]"
      ]
     },
     "metadata": {},
     "output_type": "display_data"
    },
    {
     "data": {
      "application/vnd.jupyter.widget-view+json": {
       "model_id": "2ccf1b08737c4ff8a927a6601c89e6ec",
       "version_major": 2,
       "version_minor": 0
      },
      "text/plain": [
       "Analyzing comments:   0%|          | 0/15 [00:00<?, ?comment/s]"
      ]
     },
     "metadata": {},
     "output_type": "display_data"
    },
    {
     "data": {
      "application/vnd.jupyter.widget-view+json": {
       "model_id": "ca9196c77e90488486e2ac84aaefbd8a",
       "version_major": 2,
       "version_minor": 0
      },
      "text/plain": [
       "Analyzing comments:   0%|          | 0/19 [00:00<?, ?comment/s]"
      ]
     },
     "metadata": {},
     "output_type": "display_data"
    },
    {
     "data": {
      "application/vnd.jupyter.widget-view+json": {
       "model_id": "68d4587beca94c8fb12b4ba5a1ed19d3",
       "version_major": 2,
       "version_minor": 0
      },
      "text/plain": [
       "Analyzing comments:   0%|          | 0/40 [00:00<?, ?comment/s]"
      ]
     },
     "metadata": {},
     "output_type": "display_data"
    },
    {
     "data": {
      "application/vnd.jupyter.widget-view+json": {
       "model_id": "b541b8cf91b14a2b8d985585b76c62a1",
       "version_major": 2,
       "version_minor": 0
      },
      "text/plain": [
       "Analyzing comments:   0%|          | 0/3 [00:00<?, ?comment/s]"
      ]
     },
     "metadata": {},
     "output_type": "display_data"
    },
    {
     "data": {
      "application/vnd.jupyter.widget-view+json": {
       "model_id": "e3b2cd67f465450a8708fd145cc647f7",
       "version_major": 2,
       "version_minor": 0
      },
      "text/plain": [
       "Analyzing comments:   0%|          | 0/19 [00:00<?, ?comment/s]"
      ]
     },
     "metadata": {},
     "output_type": "display_data"
    },
    {
     "data": {
      "application/vnd.jupyter.widget-view+json": {
       "model_id": "7b5cfe402967458fbcd1522266ae8325",
       "version_major": 2,
       "version_minor": 0
      },
      "text/plain": [
       "Analyzing comments:   0%|          | 0/25 [00:00<?, ?comment/s]"
      ]
     },
     "metadata": {},
     "output_type": "display_data"
    },
    {
     "data": {
      "application/vnd.jupyter.widget-view+json": {
       "model_id": "e63aeef6339947968d8a240d3113bc79",
       "version_major": 2,
       "version_minor": 0
      },
      "text/plain": [
       "Analyzing comments:   0%|          | 0/11 [00:00<?, ?comment/s]"
      ]
     },
     "metadata": {},
     "output_type": "display_data"
    },
    {
     "data": {
      "application/vnd.jupyter.widget-view+json": {
       "model_id": "476c378d740a40a095768e4d8c74882c",
       "version_major": 2,
       "version_minor": 0
      },
      "text/plain": [
       "Analyzing comments:   0%|          | 0/4 [00:00<?, ?comment/s]"
      ]
     },
     "metadata": {},
     "output_type": "display_data"
    },
    {
     "data": {
      "application/vnd.jupyter.widget-view+json": {
       "model_id": "ec3fd50fa28941a9b75508c161f55a2a",
       "version_major": 2,
       "version_minor": 0
      },
      "text/plain": [
       "Analyzing comments:   0%|          | 0/39 [00:00<?, ?comment/s]"
      ]
     },
     "metadata": {},
     "output_type": "display_data"
    },
    {
     "data": {
      "application/vnd.jupyter.widget-view+json": {
       "model_id": "8a9560ac28cc48af844f1b9c640a4a20",
       "version_major": 2,
       "version_minor": 0
      },
      "text/plain": [
       "Analyzing comments:   0%|          | 0/25 [00:00<?, ?comment/s]"
      ]
     },
     "metadata": {},
     "output_type": "display_data"
    },
    {
     "data": {
      "application/vnd.jupyter.widget-view+json": {
       "model_id": "cb22d4a121a741e697516198392df440",
       "version_major": 2,
       "version_minor": 0
      },
      "text/plain": [
       "Analyzing comments:   0%|          | 0/40 [00:00<?, ?comment/s]"
      ]
     },
     "metadata": {},
     "output_type": "display_data"
    },
    {
     "data": {
      "application/vnd.jupyter.widget-view+json": {
       "model_id": "4b1efacd49e048f9b028939ccc885250",
       "version_major": 2,
       "version_minor": 0
      },
      "text/plain": [
       "Analyzing comments:   0%|          | 0/32 [00:00<?, ?comment/s]"
      ]
     },
     "metadata": {},
     "output_type": "display_data"
    },
    {
     "data": {
      "application/vnd.jupyter.widget-view+json": {
       "model_id": "0d43ef802aeb428d967bcb5f76169218",
       "version_major": 2,
       "version_minor": 0
      },
      "text/plain": [
       "Analyzing comments:   0%|          | 0/42 [00:00<?, ?comment/s]"
      ]
     },
     "metadata": {},
     "output_type": "display_data"
    },
    {
     "data": {
      "application/vnd.jupyter.widget-view+json": {
       "model_id": "7fe28baf6d5242a7967ce22ec0bcf74f",
       "version_major": 2,
       "version_minor": 0
      },
      "text/plain": [
       "Analyzing comments: 0comment [00:00, ?comment/s]"
      ]
     },
     "metadata": {},
     "output_type": "display_data"
    },
    {
     "data": {
      "application/vnd.jupyter.widget-view+json": {
       "model_id": "6a487a7419994a03a9d330d8326a6098",
       "version_major": 2,
       "version_minor": 0
      },
      "text/plain": [
       "Analyzing comments:   0%|          | 0/29 [00:00<?, ?comment/s]"
      ]
     },
     "metadata": {},
     "output_type": "display_data"
    },
    {
     "data": {
      "application/vnd.jupyter.widget-view+json": {
       "model_id": "8cf9ff6298364fa88fbc252eedbb00df",
       "version_major": 2,
       "version_minor": 0
      },
      "text/plain": [
       "Analyzing comments:   0%|          | 0/20 [00:00<?, ?comment/s]"
      ]
     },
     "metadata": {},
     "output_type": "display_data"
    },
    {
     "data": {
      "application/vnd.jupyter.widget-view+json": {
       "model_id": "d06bb0af7e724473a4627da65a16d7db",
       "version_major": 2,
       "version_minor": 0
      },
      "text/plain": [
       "Analyzing comments:   0%|          | 0/32 [00:00<?, ?comment/s]"
      ]
     },
     "metadata": {},
     "output_type": "display_data"
    },
    {
     "data": {
      "application/vnd.jupyter.widget-view+json": {
       "model_id": "4bce118264f24fa5842080db92d0fc60",
       "version_major": 2,
       "version_minor": 0
      },
      "text/plain": [
       "Analyzing comments:   0%|          | 0/30 [00:00<?, ?comment/s]"
      ]
     },
     "metadata": {},
     "output_type": "display_data"
    },
    {
     "data": {
      "application/vnd.jupyter.widget-view+json": {
       "model_id": "034a672e4e04455fbe39d1df71a073f5",
       "version_major": 2,
       "version_minor": 0
      },
      "text/plain": [
       "Analyzing comments:   0%|          | 0/35 [00:00<?, ?comment/s]"
      ]
     },
     "metadata": {},
     "output_type": "display_data"
    },
    {
     "data": {
      "application/vnd.jupyter.widget-view+json": {
       "model_id": "b92928eb313e49e2aea56c721f2d9539",
       "version_major": 2,
       "version_minor": 0
      },
      "text/plain": [
       "Analyzing comments:   0%|          | 0/40 [00:00<?, ?comment/s]"
      ]
     },
     "metadata": {},
     "output_type": "display_data"
    },
    {
     "data": {
      "application/vnd.jupyter.widget-view+json": {
       "model_id": "fb2831a158d1432aa92c08769a66c16c",
       "version_major": 2,
       "version_minor": 0
      },
      "text/plain": [
       "Analyzing comments:   0%|          | 0/46 [00:00<?, ?comment/s]"
      ]
     },
     "metadata": {},
     "output_type": "display_data"
    },
    {
     "data": {
      "application/vnd.jupyter.widget-view+json": {
       "model_id": "0de5574efc504138a0efd8b53d1d14d3",
       "version_major": 2,
       "version_minor": 0
      },
      "text/plain": [
       "Analyzing comments:   0%|          | 0/41 [00:00<?, ?comment/s]"
      ]
     },
     "metadata": {},
     "output_type": "display_data"
    },
    {
     "data": {
      "application/vnd.jupyter.widget-view+json": {
       "model_id": "d8aba5c91e4b41838137a88dfd73ce11",
       "version_major": 2,
       "version_minor": 0
      },
      "text/plain": [
       "Analyzing comments:   0%|          | 0/38 [00:00<?, ?comment/s]"
      ]
     },
     "metadata": {},
     "output_type": "display_data"
    },
    {
     "data": {
      "application/vnd.jupyter.widget-view+json": {
       "model_id": "ef687d3ab4024eff8fdbb25bdcad8148",
       "version_major": 2,
       "version_minor": 0
      },
      "text/plain": [
       "Analyzing comments:   0%|          | 0/10 [00:00<?, ?comment/s]"
      ]
     },
     "metadata": {},
     "output_type": "display_data"
    },
    {
     "data": {
      "application/vnd.jupyter.widget-view+json": {
       "model_id": "2deb3c7898fc40bdb7b87c9ea3225f5b",
       "version_major": 2,
       "version_minor": 0
      },
      "text/plain": [
       "Analyzing comments:   0%|          | 0/34 [00:00<?, ?comment/s]"
      ]
     },
     "metadata": {},
     "output_type": "display_data"
    },
    {
     "data": {
      "application/vnd.jupyter.widget-view+json": {
       "model_id": "a4bad347171c4c7baa5458d44a2934ca",
       "version_major": 2,
       "version_minor": 0
      },
      "text/plain": [
       "Analyzing comments:   0%|          | 0/9 [00:00<?, ?comment/s]"
      ]
     },
     "metadata": {},
     "output_type": "display_data"
    },
    {
     "data": {
      "application/vnd.jupyter.widget-view+json": {
       "model_id": "8be281ae4c804d54b572c0a7305b1c73",
       "version_major": 2,
       "version_minor": 0
      },
      "text/plain": [
       "Analyzing comments:   0%|          | 0/39 [00:00<?, ?comment/s]"
      ]
     },
     "metadata": {},
     "output_type": "display_data"
    },
    {
     "data": {
      "application/vnd.jupyter.widget-view+json": {
       "model_id": "f78feb8d2aae4cbfb8f6050e89ca1daf",
       "version_major": 2,
       "version_minor": 0
      },
      "text/plain": [
       "Analyzing comments:   0%|          | 0/36 [00:00<?, ?comment/s]"
      ]
     },
     "metadata": {},
     "output_type": "display_data"
    },
    {
     "data": {
      "application/vnd.jupyter.widget-view+json": {
       "model_id": "ad40fbd47990412e8b843a4cbd726a52",
       "version_major": 2,
       "version_minor": 0
      },
      "text/plain": [
       "Analyzing comments:   0%|          | 0/17 [00:00<?, ?comment/s]"
      ]
     },
     "metadata": {},
     "output_type": "display_data"
    },
    {
     "data": {
      "application/vnd.jupyter.widget-view+json": {
       "model_id": "3a049f7dc299459f87104f0cf25ad31f",
       "version_major": 2,
       "version_minor": 0
      },
      "text/plain": [
       "Analyzing comments:   0%|          | 0/22 [00:00<?, ?comment/s]"
      ]
     },
     "metadata": {},
     "output_type": "display_data"
    },
    {
     "data": {
      "application/vnd.jupyter.widget-view+json": {
       "model_id": "1a2e0aa5409b44eeb0d0dc041a7ccd1d",
       "version_major": 2,
       "version_minor": 0
      },
      "text/plain": [
       "Analyzing comments:   0%|          | 0/36 [00:00<?, ?comment/s]"
      ]
     },
     "metadata": {},
     "output_type": "display_data"
    },
    {
     "data": {
      "application/vnd.jupyter.widget-view+json": {
       "model_id": "a3549ed319674679a9708ee2b39599ea",
       "version_major": 2,
       "version_minor": 0
      },
      "text/plain": [
       "Analyzing comments:   0%|          | 0/34 [00:00<?, ?comment/s]"
      ]
     },
     "metadata": {},
     "output_type": "display_data"
    },
    {
     "data": {
      "application/vnd.jupyter.widget-view+json": {
       "model_id": "ffe63c15c7d24c21b9503694b44061d0",
       "version_major": 2,
       "version_minor": 0
      },
      "text/plain": [
       "Analyzing comments:   0%|          | 0/3 [00:00<?, ?comment/s]"
      ]
     },
     "metadata": {},
     "output_type": "display_data"
    },
    {
     "data": {
      "application/vnd.jupyter.widget-view+json": {
       "model_id": "3fa55503d84249f0bfbc81ce9c827591",
       "version_major": 2,
       "version_minor": 0
      },
      "text/plain": [
       "Analyzing comments:   0%|          | 0/5 [00:00<?, ?comment/s]"
      ]
     },
     "metadata": {},
     "output_type": "display_data"
    },
    {
     "data": {
      "application/vnd.jupyter.widget-view+json": {
       "model_id": "47985e3466654405b8569341f770cd58",
       "version_major": 2,
       "version_minor": 0
      },
      "text/plain": [
       "Analyzing comments: 0comment [00:00, ?comment/s]"
      ]
     },
     "metadata": {},
     "output_type": "display_data"
    },
    {
     "data": {
      "application/vnd.jupyter.widget-view+json": {
       "model_id": "57e1de8877ee47a1824be0c7b444365c",
       "version_major": 2,
       "version_minor": 0
      },
      "text/plain": [
       "Analyzing comments:   0%|          | 0/5 [00:00<?, ?comment/s]"
      ]
     },
     "metadata": {},
     "output_type": "display_data"
    },
    {
     "data": {
      "application/vnd.jupyter.widget-view+json": {
       "model_id": "67219f1bc6fa47fcb93cb7eb221252d6",
       "version_major": 2,
       "version_minor": 0
      },
      "text/plain": [
       "Analyzing comments:   0%|          | 0/2 [00:00<?, ?comment/s]"
      ]
     },
     "metadata": {},
     "output_type": "display_data"
    },
    {
     "data": {
      "application/vnd.jupyter.widget-view+json": {
       "model_id": "067744ce6a3f4c5e8f659108d2f7e4dc",
       "version_major": 2,
       "version_minor": 0
      },
      "text/plain": [
       "Analyzing comments:   0%|          | 0/1 [00:00<?, ?comment/s]"
      ]
     },
     "metadata": {},
     "output_type": "display_data"
    },
    {
     "data": {
      "application/vnd.jupyter.widget-view+json": {
       "model_id": "5fce18395fcb42679e8b21075e92f3f8",
       "version_major": 2,
       "version_minor": 0
      },
      "text/plain": [
       "Analyzing comments:   0%|          | 0/46 [00:00<?, ?comment/s]"
      ]
     },
     "metadata": {},
     "output_type": "display_data"
    },
    {
     "data": {
      "application/vnd.jupyter.widget-view+json": {
       "model_id": "7eb931876e4946099a783dcf4f03bf47",
       "version_major": 2,
       "version_minor": 0
      },
      "text/plain": [
       "Analyzing comments:   0%|          | 0/17 [00:00<?, ?comment/s]"
      ]
     },
     "metadata": {},
     "output_type": "display_data"
    },
    {
     "data": {
      "application/vnd.jupyter.widget-view+json": {
       "model_id": "5c82462d59984da6b284b9220e85e54f",
       "version_major": 2,
       "version_minor": 0
      },
      "text/plain": [
       "Analyzing comments:   0%|          | 0/12 [00:00<?, ?comment/s]"
      ]
     },
     "metadata": {},
     "output_type": "display_data"
    },
    {
     "data": {
      "application/vnd.jupyter.widget-view+json": {
       "model_id": "d8c971e08879474a88f5aecda0dc8110",
       "version_major": 2,
       "version_minor": 0
      },
      "text/plain": [
       "Analyzing comments:   0%|          | 0/37 [00:00<?, ?comment/s]"
      ]
     },
     "metadata": {},
     "output_type": "display_data"
    },
    {
     "data": {
      "application/vnd.jupyter.widget-view+json": {
       "model_id": "915c35590b6b4ad0b724c9e87c169a3b",
       "version_major": 2,
       "version_minor": 0
      },
      "text/plain": [
       "Analyzing comments:   0%|          | 0/3 [00:00<?, ?comment/s]"
      ]
     },
     "metadata": {},
     "output_type": "display_data"
    },
    {
     "data": {
      "application/vnd.jupyter.widget-view+json": {
       "model_id": "a4d3774aeb614c25b13e2f03ce56d970",
       "version_major": 2,
       "version_minor": 0
      },
      "text/plain": [
       "Analyzing comments:   0%|          | 0/18 [00:00<?, ?comment/s]"
      ]
     },
     "metadata": {},
     "output_type": "display_data"
    },
    {
     "data": {
      "application/vnd.jupyter.widget-view+json": {
       "model_id": "af488aee5a3d4cf2b889d37834385ce3",
       "version_major": 2,
       "version_minor": 0
      },
      "text/plain": [
       "Analyzing comments:   0%|          | 0/1 [00:00<?, ?comment/s]"
      ]
     },
     "metadata": {},
     "output_type": "display_data"
    },
    {
     "data": {
      "application/vnd.jupyter.widget-view+json": {
       "model_id": "55783b4bf1bb420d968b67f828895040",
       "version_major": 2,
       "version_minor": 0
      },
      "text/plain": [
       "Analyzing comments:   0%|          | 0/26 [00:00<?, ?comment/s]"
      ]
     },
     "metadata": {},
     "output_type": "display_data"
    },
    {
     "data": {
      "application/vnd.jupyter.widget-view+json": {
       "model_id": "1546ed8bca1e4c9db0f1ae45fe8b85be",
       "version_major": 2,
       "version_minor": 0
      },
      "text/plain": [
       "Analyzing comments:   0%|          | 0/9 [00:00<?, ?comment/s]"
      ]
     },
     "metadata": {},
     "output_type": "display_data"
    },
    {
     "data": {
      "application/vnd.jupyter.widget-view+json": {
       "model_id": "ee6915e9fe2142ad8ce13e276eed7cb9",
       "version_major": 2,
       "version_minor": 0
      },
      "text/plain": [
       "Analyzing comments:   0%|          | 0/2 [00:00<?, ?comment/s]"
      ]
     },
     "metadata": {},
     "output_type": "display_data"
    },
    {
     "data": {
      "application/vnd.jupyter.widget-view+json": {
       "model_id": "ac807a866ffe40d1852216186163f589",
       "version_major": 2,
       "version_minor": 0
      },
      "text/plain": [
       "Analyzing comments:   0%|          | 0/18 [00:00<?, ?comment/s]"
      ]
     },
     "metadata": {},
     "output_type": "display_data"
    },
    {
     "data": {
      "application/vnd.jupyter.widget-view+json": {
       "model_id": "42ec09a8d3a0474ebcc94c1c3478a7c3",
       "version_major": 2,
       "version_minor": 0
      },
      "text/plain": [
       "Analyzing comments:   0%|          | 0/36 [00:00<?, ?comment/s]"
      ]
     },
     "metadata": {},
     "output_type": "display_data"
    },
    {
     "data": {
      "application/vnd.jupyter.widget-view+json": {
       "model_id": "835c3bc19b3c420e9376bda4584e9491",
       "version_major": 2,
       "version_minor": 0
      },
      "text/plain": [
       "Analyzing comments:   0%|          | 0/27 [00:00<?, ?comment/s]"
      ]
     },
     "metadata": {},
     "output_type": "display_data"
    },
    {
     "data": {
      "application/vnd.jupyter.widget-view+json": {
       "model_id": "028513d14b904b56b748319de6299336",
       "version_major": 2,
       "version_minor": 0
      },
      "text/plain": [
       "Analyzing comments:   0%|          | 0/38 [00:00<?, ?comment/s]"
      ]
     },
     "metadata": {},
     "output_type": "display_data"
    },
    {
     "data": {
      "application/vnd.jupyter.widget-view+json": {
       "model_id": "ebc751d8fe3b4933aebf477ee37514cf",
       "version_major": 2,
       "version_minor": 0
      },
      "text/plain": [
       "Analyzing comments:   0%|          | 0/30 [00:00<?, ?comment/s]"
      ]
     },
     "metadata": {},
     "output_type": "display_data"
    },
    {
     "data": {
      "application/vnd.jupyter.widget-view+json": {
       "model_id": "8612572a993e4e75a0d9a4f00808312c",
       "version_major": 2,
       "version_minor": 0
      },
      "text/plain": [
       "Analyzing comments:   0%|          | 0/18 [00:00<?, ?comment/s]"
      ]
     },
     "metadata": {},
     "output_type": "display_data"
    },
    {
     "data": {
      "application/vnd.jupyter.widget-view+json": {
       "model_id": "1d6886ca7fa548ccbacf9686cc3dd041",
       "version_major": 2,
       "version_minor": 0
      },
      "text/plain": [
       "Analyzing comments:   0%|          | 0/9 [00:00<?, ?comment/s]"
      ]
     },
     "metadata": {},
     "output_type": "display_data"
    },
    {
     "data": {
      "application/vnd.jupyter.widget-view+json": {
       "model_id": "5317a2de59d64718b0132f55791d8f3f",
       "version_major": 2,
       "version_minor": 0
      },
      "text/plain": [
       "Analyzing comments:   0%|          | 0/36 [00:00<?, ?comment/s]"
      ]
     },
     "metadata": {},
     "output_type": "display_data"
    },
    {
     "data": {
      "application/vnd.jupyter.widget-view+json": {
       "model_id": "78eaf81e7abf417f90e6b6c6c62ebcbe",
       "version_major": 2,
       "version_minor": 0
      },
      "text/plain": [
       "Analyzing comments:   0%|          | 0/2 [00:00<?, ?comment/s]"
      ]
     },
     "metadata": {},
     "output_type": "display_data"
    },
    {
     "data": {
      "application/vnd.jupyter.widget-view+json": {
       "model_id": "3710c3f78da943f682efb00e37758fcc",
       "version_major": 2,
       "version_minor": 0
      },
      "text/plain": [
       "Analyzing comments:   0%|          | 0/30 [00:00<?, ?comment/s]"
      ]
     },
     "metadata": {},
     "output_type": "display_data"
    },
    {
     "data": {
      "application/vnd.jupyter.widget-view+json": {
       "model_id": "2c2a46ecd4d743dea7ae7f557abe1135",
       "version_major": 2,
       "version_minor": 0
      },
      "text/plain": [
       "Analyzing comments:   0%|          | 0/38 [00:00<?, ?comment/s]"
      ]
     },
     "metadata": {},
     "output_type": "display_data"
    },
    {
     "data": {
      "application/vnd.jupyter.widget-view+json": {
       "model_id": "3f4a11b14921493a8ae1c93090375ead",
       "version_major": 2,
       "version_minor": 0
      },
      "text/plain": [
       "Analyzing comments: 0comment [00:00, ?comment/s]"
      ]
     },
     "metadata": {},
     "output_type": "display_data"
    },
    {
     "data": {
      "application/vnd.jupyter.widget-view+json": {
       "model_id": "4c05cc3225624189a13b8e16a07af885",
       "version_major": 2,
       "version_minor": 0
      },
      "text/plain": [
       "Analyzing comments:   0%|          | 0/3 [00:00<?, ?comment/s]"
      ]
     },
     "metadata": {},
     "output_type": "display_data"
    },
    {
     "data": {
      "application/vnd.jupyter.widget-view+json": {
       "model_id": "f8424c1a663c41e2915c89a5940d31d3",
       "version_major": 2,
       "version_minor": 0
      },
      "text/plain": [
       "Analyzing comments:   0%|          | 0/1 [00:00<?, ?comment/s]"
      ]
     },
     "metadata": {},
     "output_type": "display_data"
    },
    {
     "data": {
      "application/vnd.jupyter.widget-view+json": {
       "model_id": "a3a817f2736849d0937822fb617c8755",
       "version_major": 2,
       "version_minor": 0
      },
      "text/plain": [
       "Analyzing comments:   0%|          | 0/21 [00:00<?, ?comment/s]"
      ]
     },
     "metadata": {},
     "output_type": "display_data"
    },
    {
     "data": {
      "application/vnd.jupyter.widget-view+json": {
       "model_id": "156bad89f976408e97647de089a9e8e3",
       "version_major": 2,
       "version_minor": 0
      },
      "text/plain": [
       "Analyzing comments:   0%|          | 0/2 [00:00<?, ?comment/s]"
      ]
     },
     "metadata": {},
     "output_type": "display_data"
    },
    {
     "data": {
      "application/vnd.jupyter.widget-view+json": {
       "model_id": "0d90984a21b64a739deecbd839637742",
       "version_major": 2,
       "version_minor": 0
      },
      "text/plain": [
       "Analyzing comments:   0%|          | 0/15 [00:00<?, ?comment/s]"
      ]
     },
     "metadata": {},
     "output_type": "display_data"
    },
    {
     "data": {
      "application/vnd.jupyter.widget-view+json": {
       "model_id": "e2b4a14cc0b54068b455409a1408e93d",
       "version_major": 2,
       "version_minor": 0
      },
      "text/plain": [
       "Analyzing comments:   0%|          | 0/29 [00:00<?, ?comment/s]"
      ]
     },
     "metadata": {},
     "output_type": "display_data"
    },
    {
     "data": {
      "application/vnd.jupyter.widget-view+json": {
       "model_id": "3a10b390a95e44238c9d3c09a3d6866e",
       "version_major": 2,
       "version_minor": 0
      },
      "text/plain": [
       "Analyzing comments:   0%|          | 0/40 [00:00<?, ?comment/s]"
      ]
     },
     "metadata": {},
     "output_type": "display_data"
    },
    {
     "data": {
      "application/vnd.jupyter.widget-view+json": {
       "model_id": "0108aa79e93a486ba8b12ace7a7bf6d0",
       "version_major": 2,
       "version_minor": 0
      },
      "text/plain": [
       "Analyzing comments:   0%|          | 0/38 [00:00<?, ?comment/s]"
      ]
     },
     "metadata": {},
     "output_type": "display_data"
    },
    {
     "data": {
      "application/vnd.jupyter.widget-view+json": {
       "model_id": "73b929e6d31942998fcea6cebfc02413",
       "version_major": 2,
       "version_minor": 0
      },
      "text/plain": [
       "Analyzing comments:   0%|          | 0/35 [00:00<?, ?comment/s]"
      ]
     },
     "metadata": {},
     "output_type": "display_data"
    },
    {
     "data": {
      "application/vnd.jupyter.widget-view+json": {
       "model_id": "4da8a1ac5ac146f5a16b23ab994a17ab",
       "version_major": 2,
       "version_minor": 0
      },
      "text/plain": [
       "Analyzing comments:   0%|          | 0/18 [00:00<?, ?comment/s]"
      ]
     },
     "metadata": {},
     "output_type": "display_data"
    },
    {
     "data": {
      "application/vnd.jupyter.widget-view+json": {
       "model_id": "b42971fe48984913b8f176f6ffce291b",
       "version_major": 2,
       "version_minor": 0
      },
      "text/plain": [
       "Analyzing comments:   0%|          | 0/6 [00:00<?, ?comment/s]"
      ]
     },
     "metadata": {},
     "output_type": "display_data"
    },
    {
     "data": {
      "application/vnd.jupyter.widget-view+json": {
       "model_id": "74990988c50a4fe0a33064941702843c",
       "version_major": 2,
       "version_minor": 0
      },
      "text/plain": [
       "Analyzing comments:   0%|          | 0/40 [00:00<?, ?comment/s]"
      ]
     },
     "metadata": {},
     "output_type": "display_data"
    },
    {
     "data": {
      "application/vnd.jupyter.widget-view+json": {
       "model_id": "cbe08de5ac0d44e2b9d51b3a237c1846",
       "version_major": 2,
       "version_minor": 0
      },
      "text/plain": [
       "Analyzing comments:   0%|          | 0/21 [00:00<?, ?comment/s]"
      ]
     },
     "metadata": {},
     "output_type": "display_data"
    },
    {
     "data": {
      "application/vnd.jupyter.widget-view+json": {
       "model_id": "d661e24cac7b4afe9cd22b236e64591d",
       "version_major": 2,
       "version_minor": 0
      },
      "text/plain": [
       "Analyzing comments: 0comment [00:00, ?comment/s]"
      ]
     },
     "metadata": {},
     "output_type": "display_data"
    },
    {
     "data": {
      "application/vnd.jupyter.widget-view+json": {
       "model_id": "73bee4e9a66d4cd38100b4b1cef11b36",
       "version_major": 2,
       "version_minor": 0
      },
      "text/plain": [
       "Analyzing comments:   0%|          | 0/37 [00:00<?, ?comment/s]"
      ]
     },
     "metadata": {},
     "output_type": "display_data"
    },
    {
     "data": {
      "application/vnd.jupyter.widget-view+json": {
       "model_id": "b7678764fa16470284be243553627bb6",
       "version_major": 2,
       "version_minor": 0
      },
      "text/plain": [
       "Analyzing comments:   0%|          | 0/37 [00:00<?, ?comment/s]"
      ]
     },
     "metadata": {},
     "output_type": "display_data"
    },
    {
     "data": {
      "application/vnd.jupyter.widget-view+json": {
       "model_id": "8d20e2c04e7e42de9a23cd3794118cd9",
       "version_major": 2,
       "version_minor": 0
      },
      "text/plain": [
       "Analyzing comments:   0%|          | 0/37 [00:00<?, ?comment/s]"
      ]
     },
     "metadata": {},
     "output_type": "display_data"
    },
    {
     "data": {
      "application/vnd.jupyter.widget-view+json": {
       "model_id": "2a47e36c72bd40c5824f444461bddf07",
       "version_major": 2,
       "version_minor": 0
      },
      "text/plain": [
       "Analyzing comments:   0%|          | 0/24 [00:00<?, ?comment/s]"
      ]
     },
     "metadata": {},
     "output_type": "display_data"
    },
    {
     "data": {
      "application/vnd.jupyter.widget-view+json": {
       "model_id": "7fd4a539e11044caa40512c9959ef2ca",
       "version_major": 2,
       "version_minor": 0
      },
      "text/plain": [
       "Analyzing comments:   0%|          | 0/4 [00:00<?, ?comment/s]"
      ]
     },
     "metadata": {},
     "output_type": "display_data"
    },
    {
     "data": {
      "application/vnd.jupyter.widget-view+json": {
       "model_id": "2f7d35d584664a71814261f2713e44ce",
       "version_major": 2,
       "version_minor": 0
      },
      "text/plain": [
       "Analyzing comments:   0%|          | 0/9 [00:00<?, ?comment/s]"
      ]
     },
     "metadata": {},
     "output_type": "display_data"
    },
    {
     "data": {
      "application/vnd.jupyter.widget-view+json": {
       "model_id": "e9f3b3096ea94125879be633e7c6f082",
       "version_major": 2,
       "version_minor": 0
      },
      "text/plain": [
       "Analyzing comments:   0%|          | 0/27 [00:00<?, ?comment/s]"
      ]
     },
     "metadata": {},
     "output_type": "display_data"
    },
    {
     "data": {
      "application/vnd.jupyter.widget-view+json": {
       "model_id": "cc6cce0990a04e9088c4969aac17dd59",
       "version_major": 2,
       "version_minor": 0
      },
      "text/plain": [
       "Analyzing comments:   0%|          | 0/38 [00:00<?, ?comment/s]"
      ]
     },
     "metadata": {},
     "output_type": "display_data"
    },
    {
     "data": {
      "application/vnd.jupyter.widget-view+json": {
       "model_id": "51da1bb3e23a46bea0400b9e36b9c706",
       "version_major": 2,
       "version_minor": 0
      },
      "text/plain": [
       "Analyzing comments:   0%|          | 0/10 [00:00<?, ?comment/s]"
      ]
     },
     "metadata": {},
     "output_type": "display_data"
    },
    {
     "data": {
      "application/vnd.jupyter.widget-view+json": {
       "model_id": "a33c297f3c2648c382841bcfd24a8cdc",
       "version_major": 2,
       "version_minor": 0
      },
      "text/plain": [
       "Analyzing comments:   0%|          | 0/44 [00:00<?, ?comment/s]"
      ]
     },
     "metadata": {},
     "output_type": "display_data"
    },
    {
     "data": {
      "application/vnd.jupyter.widget-view+json": {
       "model_id": "6f9398b1d5784f3c94b6c51b27120cf9",
       "version_major": 2,
       "version_minor": 0
      },
      "text/plain": [
       "Analyzing comments:   0%|          | 0/42 [00:00<?, ?comment/s]"
      ]
     },
     "metadata": {},
     "output_type": "display_data"
    },
    {
     "data": {
      "application/vnd.jupyter.widget-view+json": {
       "model_id": "6124a8bba88b42a89575089b6b5281bc",
       "version_major": 2,
       "version_minor": 0
      },
      "text/plain": [
       "Analyzing comments:   0%|          | 0/41 [00:00<?, ?comment/s]"
      ]
     },
     "metadata": {},
     "output_type": "display_data"
    },
    {
     "data": {
      "application/vnd.jupyter.widget-view+json": {
       "model_id": "8e714ca2be234f96a2c656992c8c39a0",
       "version_major": 2,
       "version_minor": 0
      },
      "text/plain": [
       "Analyzing comments:   0%|          | 0/40 [00:00<?, ?comment/s]"
      ]
     },
     "metadata": {},
     "output_type": "display_data"
    },
    {
     "data": {
      "application/vnd.jupyter.widget-view+json": {
       "model_id": "ea859f06d4014aa5ba26cfdce83b442d",
       "version_major": 2,
       "version_minor": 0
      },
      "text/plain": [
       "Analyzing comments:   0%|          | 0/37 [00:00<?, ?comment/s]"
      ]
     },
     "metadata": {},
     "output_type": "display_data"
    },
    {
     "data": {
      "application/vnd.jupyter.widget-view+json": {
       "model_id": "e6b975ebfac0405d89406e1fa48d6843",
       "version_major": 2,
       "version_minor": 0
      },
      "text/plain": [
       "Analyzing comments:   0%|          | 0/2 [00:00<?, ?comment/s]"
      ]
     },
     "metadata": {},
     "output_type": "display_data"
    },
    {
     "data": {
      "application/vnd.jupyter.widget-view+json": {
       "model_id": "019c36b65fb740559730ca8622a52f97",
       "version_major": 2,
       "version_minor": 0
      },
      "text/plain": [
       "Analyzing comments:   0%|          | 0/60 [00:00<?, ?comment/s]"
      ]
     },
     "metadata": {},
     "output_type": "display_data"
    },
    {
     "data": {
      "application/vnd.jupyter.widget-view+json": {
       "model_id": "e1fd85724a2f41ed9ea460604ab19495",
       "version_major": 2,
       "version_minor": 0
      },
      "text/plain": [
       "Analyzing comments:   0%|          | 0/6 [00:00<?, ?comment/s]"
      ]
     },
     "metadata": {},
     "output_type": "display_data"
    },
    {
     "data": {
      "application/vnd.jupyter.widget-view+json": {
       "model_id": "836cc268d87749f1aee862c3ffbf2549",
       "version_major": 2,
       "version_minor": 0
      },
      "text/plain": [
       "Analyzing comments:   0%|          | 0/1 [00:00<?, ?comment/s]"
      ]
     },
     "metadata": {},
     "output_type": "display_data"
    },
    {
     "data": {
      "application/vnd.jupyter.widget-view+json": {
       "model_id": "3719271a98c5442d89d48f3ed15b18f5",
       "version_major": 2,
       "version_minor": 0
      },
      "text/plain": [
       "Analyzing comments:   0%|          | 0/40 [00:00<?, ?comment/s]"
      ]
     },
     "metadata": {},
     "output_type": "display_data"
    },
    {
     "data": {
      "application/vnd.jupyter.widget-view+json": {
       "model_id": "728a9073acd14c47863c01ca69d34d76",
       "version_major": 2,
       "version_minor": 0
      },
      "text/plain": [
       "Analyzing comments:   0%|          | 0/106 [00:00<?, ?comment/s]"
      ]
     },
     "metadata": {},
     "output_type": "display_data"
    },
    {
     "data": {
      "application/vnd.jupyter.widget-view+json": {
       "model_id": "ce7c22045e1440c1a6d46564c0e62ede",
       "version_major": 2,
       "version_minor": 0
      },
      "text/plain": [
       "Analyzing comments:   0%|          | 0/15 [00:00<?, ?comment/s]"
      ]
     },
     "metadata": {},
     "output_type": "display_data"
    },
    {
     "data": {
      "application/vnd.jupyter.widget-view+json": {
       "model_id": "22beb3405f94439dbc4d28dae5127e01",
       "version_major": 2,
       "version_minor": 0
      },
      "text/plain": [
       "Analyzing comments:   0%|          | 0/48 [00:00<?, ?comment/s]"
      ]
     },
     "metadata": {},
     "output_type": "display_data"
    },
    {
     "data": {
      "application/vnd.jupyter.widget-view+json": {
       "model_id": "85d0370af98d4f478783b0ddfeab5485",
       "version_major": 2,
       "version_minor": 0
      },
      "text/plain": [
       "Analyzing comments:   0%|          | 0/3 [00:00<?, ?comment/s]"
      ]
     },
     "metadata": {},
     "output_type": "display_data"
    },
    {
     "data": {
      "application/vnd.jupyter.widget-view+json": {
       "model_id": "52c38609b9654025947abf3d3b77fbb7",
       "version_major": 2,
       "version_minor": 0
      },
      "text/plain": [
       "Analyzing comments:   0%|          | 0/31 [00:00<?, ?comment/s]"
      ]
     },
     "metadata": {},
     "output_type": "display_data"
    },
    {
     "data": {
      "application/vnd.jupyter.widget-view+json": {
       "model_id": "bcbb40e6107e4af2b153822cd4275f96",
       "version_major": 2,
       "version_minor": 0
      },
      "text/plain": [
       "Analyzing comments:   0%|          | 0/54 [00:00<?, ?comment/s]"
      ]
     },
     "metadata": {},
     "output_type": "display_data"
    },
    {
     "data": {
      "application/vnd.jupyter.widget-view+json": {
       "model_id": "7b4011de679d471ba40e12ac02372398",
       "version_major": 2,
       "version_minor": 0
      },
      "text/plain": [
       "Analyzing comments:   0%|          | 0/22 [00:00<?, ?comment/s]"
      ]
     },
     "metadata": {},
     "output_type": "display_data"
    },
    {
     "data": {
      "application/vnd.jupyter.widget-view+json": {
       "model_id": "172ea9ac1c15445bb41ef63077410b46",
       "version_major": 2,
       "version_minor": 0
      },
      "text/plain": [
       "Analyzing comments:   0%|          | 0/36 [00:00<?, ?comment/s]"
      ]
     },
     "metadata": {},
     "output_type": "display_data"
    },
    {
     "data": {
      "application/vnd.jupyter.widget-view+json": {
       "model_id": "2b83c8671e684f78bae3495a4c9a68b1",
       "version_major": 2,
       "version_minor": 0
      },
      "text/plain": [
       "Analyzing comments:   0%|          | 0/33 [00:00<?, ?comment/s]"
      ]
     },
     "metadata": {},
     "output_type": "display_data"
    },
    {
     "data": {
      "application/vnd.jupyter.widget-view+json": {
       "model_id": "353a190134154055a8456d8b01bc4e10",
       "version_major": 2,
       "version_minor": 0
      },
      "text/plain": [
       "Analyzing comments:   0%|          | 0/33 [00:00<?, ?comment/s]"
      ]
     },
     "metadata": {},
     "output_type": "display_data"
    },
    {
     "data": {
      "application/vnd.jupyter.widget-view+json": {
       "model_id": "976e28cda15844e295035206e5ebf3c0",
       "version_major": 2,
       "version_minor": 0
      },
      "text/plain": [
       "Analyzing comments:   0%|          | 0/2 [00:00<?, ?comment/s]"
      ]
     },
     "metadata": {},
     "output_type": "display_data"
    },
    {
     "data": {
      "application/vnd.jupyter.widget-view+json": {
       "model_id": "92dcd869525147f5bb00a533c9e540f3",
       "version_major": 2,
       "version_minor": 0
      },
      "text/plain": [
       "Analyzing comments:   0%|          | 0/36 [00:00<?, ?comment/s]"
      ]
     },
     "metadata": {},
     "output_type": "display_data"
    },
    {
     "data": {
      "application/vnd.jupyter.widget-view+json": {
       "model_id": "16ab5c6f9b0f498ea72a68eba13ef0d1",
       "version_major": 2,
       "version_minor": 0
      },
      "text/plain": [
       "Analyzing comments:   0%|          | 0/34 [00:00<?, ?comment/s]"
      ]
     },
     "metadata": {},
     "output_type": "display_data"
    },
    {
     "data": {
      "application/vnd.jupyter.widget-view+json": {
       "model_id": "86de344a4bd54552877f3ce7548cd2a6",
       "version_major": 2,
       "version_minor": 0
      },
      "text/plain": [
       "Analyzing comments:   0%|          | 0/30 [00:00<?, ?comment/s]"
      ]
     },
     "metadata": {},
     "output_type": "display_data"
    },
    {
     "data": {
      "application/vnd.jupyter.widget-view+json": {
       "model_id": "60ed0101b8af4a86ba149094c8d2883c",
       "version_major": 2,
       "version_minor": 0
      },
      "text/plain": [
       "Analyzing comments:   0%|          | 0/35 [00:00<?, ?comment/s]"
      ]
     },
     "metadata": {},
     "output_type": "display_data"
    },
    {
     "data": {
      "application/vnd.jupyter.widget-view+json": {
       "model_id": "5c5ed6425ea34cb98f7fca7c3e5deb20",
       "version_major": 2,
       "version_minor": 0
      },
      "text/plain": [
       "Analyzing comments: 0comment [00:00, ?comment/s]"
      ]
     },
     "metadata": {},
     "output_type": "display_data"
    },
    {
     "data": {
      "application/vnd.jupyter.widget-view+json": {
       "model_id": "2c4af456bdd64123b8737b6b5d3e257d",
       "version_major": 2,
       "version_minor": 0
      },
      "text/plain": [
       "Analyzing comments:   0%|          | 0/34 [00:00<?, ?comment/s]"
      ]
     },
     "metadata": {},
     "output_type": "display_data"
    },
    {
     "data": {
      "application/vnd.jupyter.widget-view+json": {
       "model_id": "23be1387c99d4d6890088c0e53fcaa5d",
       "version_major": 2,
       "version_minor": 0
      },
      "text/plain": [
       "Analyzing comments: 0comment [00:00, ?comment/s]"
      ]
     },
     "metadata": {},
     "output_type": "display_data"
    },
    {
     "data": {
      "application/vnd.jupyter.widget-view+json": {
       "model_id": "d2e4d294c5164d0e897c440460030d2c",
       "version_major": 2,
       "version_minor": 0
      },
      "text/plain": [
       "Analyzing comments:   0%|          | 0/33 [00:00<?, ?comment/s]"
      ]
     },
     "metadata": {},
     "output_type": "display_data"
    },
    {
     "data": {
      "application/vnd.jupyter.widget-view+json": {
       "model_id": "1a75bbfb5d1a4923bdaa6ca510194888",
       "version_major": 2,
       "version_minor": 0
      },
      "text/plain": [
       "Analyzing comments:   0%|          | 0/33 [00:00<?, ?comment/s]"
      ]
     },
     "metadata": {},
     "output_type": "display_data"
    },
    {
     "data": {
      "application/vnd.jupyter.widget-view+json": {
       "model_id": "5cf0035c5b2d4dbf8ea08ea7df3dea98",
       "version_major": 2,
       "version_minor": 0
      },
      "text/plain": [
       "Analyzing comments:   0%|          | 0/35 [00:00<?, ?comment/s]"
      ]
     },
     "metadata": {},
     "output_type": "display_data"
    },
    {
     "data": {
      "application/vnd.jupyter.widget-view+json": {
       "model_id": "6f2fb851d15e4bd7b34f1352f64d7331",
       "version_major": 2,
       "version_minor": 0
      },
      "text/plain": [
       "Analyzing comments:   0%|          | 0/39 [00:00<?, ?comment/s]"
      ]
     },
     "metadata": {},
     "output_type": "display_data"
    },
    {
     "data": {
      "application/vnd.jupyter.widget-view+json": {
       "model_id": "d84a1e6451354ac9aa7c1b09c5d9993f",
       "version_major": 2,
       "version_minor": 0
      },
      "text/plain": [
       "Analyzing comments:   0%|          | 0/35 [00:00<?, ?comment/s]"
      ]
     },
     "metadata": {},
     "output_type": "display_data"
    },
    {
     "data": {
      "application/vnd.jupyter.widget-view+json": {
       "model_id": "b8b79a46b7c04669b441a8077479420b",
       "version_major": 2,
       "version_minor": 0
      },
      "text/plain": [
       "Analyzing comments:   0%|          | 0/58 [00:00<?, ?comment/s]"
      ]
     },
     "metadata": {},
     "output_type": "display_data"
    },
    {
     "data": {
      "application/vnd.jupyter.widget-view+json": {
       "model_id": "436f7b15605d4ba588b1f0333f8028c7",
       "version_major": 2,
       "version_minor": 0
      },
      "text/plain": [
       "Analyzing comments:   0%|          | 0/35 [00:00<?, ?comment/s]"
      ]
     },
     "metadata": {},
     "output_type": "display_data"
    },
    {
     "data": {
      "application/vnd.jupyter.widget-view+json": {
       "model_id": "50f47bddfbe5456f9405739fa1f46e2c",
       "version_major": 2,
       "version_minor": 0
      },
      "text/plain": [
       "Analyzing comments:   0%|          | 0/31 [00:00<?, ?comment/s]"
      ]
     },
     "metadata": {},
     "output_type": "display_data"
    },
    {
     "data": {
      "application/vnd.jupyter.widget-view+json": {
       "model_id": "be3920c331574053949fb67b90ebe921",
       "version_major": 2,
       "version_minor": 0
      },
      "text/plain": [
       "Analyzing comments:   0%|          | 0/1 [00:00<?, ?comment/s]"
      ]
     },
     "metadata": {},
     "output_type": "display_data"
    },
    {
     "data": {
      "application/vnd.jupyter.widget-view+json": {
       "model_id": "9b39ffcdbdd04a629968e5f5a532688e",
       "version_major": 2,
       "version_minor": 0
      },
      "text/plain": [
       "Analyzing comments:   0%|          | 0/34 [00:00<?, ?comment/s]"
      ]
     },
     "metadata": {},
     "output_type": "display_data"
    },
    {
     "data": {
      "application/vnd.jupyter.widget-view+json": {
       "model_id": "f2ed22c76c424a6e9d19d7811c7797b0",
       "version_major": 2,
       "version_minor": 0
      },
      "text/plain": [
       "Analyzing comments:   0%|          | 0/39 [00:00<?, ?comment/s]"
      ]
     },
     "metadata": {},
     "output_type": "display_data"
    },
    {
     "data": {
      "application/vnd.jupyter.widget-view+json": {
       "model_id": "b0ceab0143d947699beab3cef0de1356",
       "version_major": 2,
       "version_minor": 0
      },
      "text/plain": [
       "Analyzing comments:   0%|          | 0/14 [00:00<?, ?comment/s]"
      ]
     },
     "metadata": {},
     "output_type": "display_data"
    },
    {
     "data": {
      "application/vnd.jupyter.widget-view+json": {
       "model_id": "f55678cfdda844c6b4da92d0bba84343",
       "version_major": 2,
       "version_minor": 0
      },
      "text/plain": [
       "Analyzing comments:   0%|          | 0/32 [00:00<?, ?comment/s]"
      ]
     },
     "metadata": {},
     "output_type": "display_data"
    },
    {
     "data": {
      "application/vnd.jupyter.widget-view+json": {
       "model_id": "e4f1e53e591a4053a21da8e5852e988f",
       "version_major": 2,
       "version_minor": 0
      },
      "text/plain": [
       "Analyzing comments:   0%|          | 0/18 [00:00<?, ?comment/s]"
      ]
     },
     "metadata": {},
     "output_type": "display_data"
    },
    {
     "data": {
      "application/vnd.jupyter.widget-view+json": {
       "model_id": "96d8839198294bd58a4ec01e589bef27",
       "version_major": 2,
       "version_minor": 0
      },
      "text/plain": [
       "Analyzing comments:   0%|          | 0/2 [00:00<?, ?comment/s]"
      ]
     },
     "metadata": {},
     "output_type": "display_data"
    },
    {
     "data": {
      "application/vnd.jupyter.widget-view+json": {
       "model_id": "ca1d7ad88d16482fa2a5c8be3e20a4c7",
       "version_major": 2,
       "version_minor": 0
      },
      "text/plain": [
       "Analyzing comments:   0%|          | 0/34 [00:00<?, ?comment/s]"
      ]
     },
     "metadata": {},
     "output_type": "display_data"
    },
    {
     "data": {
      "application/vnd.jupyter.widget-view+json": {
       "model_id": "e6cd381ee2b34213b71793705b7b9a3c",
       "version_major": 2,
       "version_minor": 0
      },
      "text/plain": [
       "Analyzing comments:   0%|          | 0/50 [00:00<?, ?comment/s]"
      ]
     },
     "metadata": {},
     "output_type": "display_data"
    },
    {
     "data": {
      "application/vnd.jupyter.widget-view+json": {
       "model_id": "25da28c8dd514213a040eaf1c4ae1fbb",
       "version_major": 2,
       "version_minor": 0
      },
      "text/plain": [
       "Analyzing comments:   0%|          | 0/34 [00:00<?, ?comment/s]"
      ]
     },
     "metadata": {},
     "output_type": "display_data"
    },
    {
     "data": {
      "application/vnd.jupyter.widget-view+json": {
       "model_id": "742fea3fdc724e3886f04da8ba578cfe",
       "version_major": 2,
       "version_minor": 0
      },
      "text/plain": [
       "Analyzing comments:   0%|          | 0/37 [00:00<?, ?comment/s]"
      ]
     },
     "metadata": {},
     "output_type": "display_data"
    },
    {
     "data": {
      "application/vnd.jupyter.widget-view+json": {
       "model_id": "bc8d07e789704bd897d87cbc726e5de9",
       "version_major": 2,
       "version_minor": 0
      },
      "text/plain": [
       "Analyzing comments:   0%|          | 0/35 [00:00<?, ?comment/s]"
      ]
     },
     "metadata": {},
     "output_type": "display_data"
    },
    {
     "data": {
      "application/vnd.jupyter.widget-view+json": {
       "model_id": "04aa6a15607648c3be5a25d51962c390",
       "version_major": 2,
       "version_minor": 0
      },
      "text/plain": [
       "Analyzing comments:   0%|          | 0/1 [00:00<?, ?comment/s]"
      ]
     },
     "metadata": {},
     "output_type": "display_data"
    },
    {
     "data": {
      "application/vnd.jupyter.widget-view+json": {
       "model_id": "b82de3499fbe48cc81cef592ebe0b544",
       "version_major": 2,
       "version_minor": 0
      },
      "text/plain": [
       "Analyzing comments:   0%|          | 0/5 [00:00<?, ?comment/s]"
      ]
     },
     "metadata": {},
     "output_type": "display_data"
    },
    {
     "data": {
      "application/vnd.jupyter.widget-view+json": {
       "model_id": "2cdc2b9e42e54f9294e25031c9502586",
       "version_major": 2,
       "version_minor": 0
      },
      "text/plain": [
       "Analyzing comments:   0%|          | 0/7 [00:00<?, ?comment/s]"
      ]
     },
     "metadata": {},
     "output_type": "display_data"
    },
    {
     "data": {
      "application/vnd.jupyter.widget-view+json": {
       "model_id": "78d93fff31ea4f3c8c8eb133f0e63837",
       "version_major": 2,
       "version_minor": 0
      },
      "text/plain": [
       "Analyzing comments:   0%|          | 0/38 [00:00<?, ?comment/s]"
      ]
     },
     "metadata": {},
     "output_type": "display_data"
    },
    {
     "data": {
      "application/vnd.jupyter.widget-view+json": {
       "model_id": "d5c3bee563204116b9f1ecee98acbe70",
       "version_major": 2,
       "version_minor": 0
      },
      "text/plain": [
       "Analyzing comments:   0%|          | 0/44 [00:00<?, ?comment/s]"
      ]
     },
     "metadata": {},
     "output_type": "display_data"
    },
    {
     "data": {
      "application/vnd.jupyter.widget-view+json": {
       "model_id": "adde542adb854dd081016f58ac79cb13",
       "version_major": 2,
       "version_minor": 0
      },
      "text/plain": [
       "Analyzing comments:   0%|          | 0/38 [00:00<?, ?comment/s]"
      ]
     },
     "metadata": {},
     "output_type": "display_data"
    },
    {
     "data": {
      "application/vnd.jupyter.widget-view+json": {
       "model_id": "d038f7fe3d80469381034117ae5ab2c5",
       "version_major": 2,
       "version_minor": 0
      },
      "text/plain": [
       "Analyzing comments:   0%|          | 0/4 [00:00<?, ?comment/s]"
      ]
     },
     "metadata": {},
     "output_type": "display_data"
    },
    {
     "data": {
      "application/vnd.jupyter.widget-view+json": {
       "model_id": "27733ec880b34dfb939f99615e8818b6",
       "version_major": 2,
       "version_minor": 0
      },
      "text/plain": [
       "Analyzing comments:   0%|          | 0/4 [00:00<?, ?comment/s]"
      ]
     },
     "metadata": {},
     "output_type": "display_data"
    },
    {
     "data": {
      "application/vnd.jupyter.widget-view+json": {
       "model_id": "f09f9ad3e293453eb1bfaafd867e4536",
       "version_major": 2,
       "version_minor": 0
      },
      "text/plain": [
       "Analyzing comments:   0%|          | 0/96 [00:00<?, ?comment/s]"
      ]
     },
     "metadata": {},
     "output_type": "display_data"
    },
    {
     "data": {
      "application/vnd.jupyter.widget-view+json": {
       "model_id": "b00d33c91b534d4a92bfc6f58e723a88",
       "version_major": 2,
       "version_minor": 0
      },
      "text/plain": [
       "Analyzing comments:   0%|          | 0/73 [00:00<?, ?comment/s]"
      ]
     },
     "metadata": {},
     "output_type": "display_data"
    },
    {
     "data": {
      "application/vnd.jupyter.widget-view+json": {
       "model_id": "46ccaed11bc94157880f37d0ec09db81",
       "version_major": 2,
       "version_minor": 0
      },
      "text/plain": [
       "Analyzing comments:   0%|          | 0/120 [00:00<?, ?comment/s]"
      ]
     },
     "metadata": {},
     "output_type": "display_data"
    },
    {
     "data": {
      "application/vnd.jupyter.widget-view+json": {
       "model_id": "978085169a044f3ebc9935ffd9e8b1ef",
       "version_major": 2,
       "version_minor": 0
      },
      "text/plain": [
       "Analyzing comments:   0%|          | 0/5 [00:00<?, ?comment/s]"
      ]
     },
     "metadata": {},
     "output_type": "display_data"
    },
    {
     "data": {
      "application/vnd.jupyter.widget-view+json": {
       "model_id": "996c002aa3734de3a9920f7e63ffdc11",
       "version_major": 2,
       "version_minor": 0
      },
      "text/plain": [
       "Analyzing comments: 0comment [00:00, ?comment/s]"
      ]
     },
     "metadata": {},
     "output_type": "display_data"
    },
    {
     "data": {
      "application/vnd.jupyter.widget-view+json": {
       "model_id": "5d54df2a37e543be950d3cd1dbba3e33",
       "version_major": 2,
       "version_minor": 0
      },
      "text/plain": [
       "Analyzing comments:   0%|          | 0/40 [00:00<?, ?comment/s]"
      ]
     },
     "metadata": {},
     "output_type": "display_data"
    },
    {
     "data": {
      "application/vnd.jupyter.widget-view+json": {
       "model_id": "f500aec5afca4c22809dcf3a5d62cb07",
       "version_major": 2,
       "version_minor": 0
      },
      "text/plain": [
       "Analyzing comments:   0%|          | 0/40 [00:00<?, ?comment/s]"
      ]
     },
     "metadata": {},
     "output_type": "display_data"
    },
    {
     "data": {
      "application/vnd.jupyter.widget-view+json": {
       "model_id": "b771e27033aa422bb7d91236ae9d4679",
       "version_major": 2,
       "version_minor": 0
      },
      "text/plain": [
       "Analyzing comments:   0%|          | 0/19 [00:00<?, ?comment/s]"
      ]
     },
     "metadata": {},
     "output_type": "display_data"
    },
    {
     "data": {
      "application/vnd.jupyter.widget-view+json": {
       "model_id": "350ecadce90d4cc4a1756181e38b13c4",
       "version_major": 2,
       "version_minor": 0
      },
      "text/plain": [
       "Analyzing comments:   0%|          | 0/41 [00:00<?, ?comment/s]"
      ]
     },
     "metadata": {},
     "output_type": "display_data"
    },
    {
     "data": {
      "application/vnd.jupyter.widget-view+json": {
       "model_id": "da447d382c57417baa1ad7fe036e1aef",
       "version_major": 2,
       "version_minor": 0
      },
      "text/plain": [
       "Analyzing comments:   0%|          | 0/38 [00:00<?, ?comment/s]"
      ]
     },
     "metadata": {},
     "output_type": "display_data"
    },
    {
     "data": {
      "application/vnd.jupyter.widget-view+json": {
       "model_id": "7e0bfc3f15ba462da146a86615a6c992",
       "version_major": 2,
       "version_minor": 0
      },
      "text/plain": [
       "Analyzing comments:   0%|          | 0/39 [00:00<?, ?comment/s]"
      ]
     },
     "metadata": {},
     "output_type": "display_data"
    },
    {
     "data": {
      "application/vnd.jupyter.widget-view+json": {
       "model_id": "e9646d70ada74053ad75caf6a5fd3035",
       "version_major": 2,
       "version_minor": 0
      },
      "text/plain": [
       "Analyzing comments:   0%|          | 0/3 [00:00<?, ?comment/s]"
      ]
     },
     "metadata": {},
     "output_type": "display_data"
    },
    {
     "data": {
      "application/vnd.jupyter.widget-view+json": {
       "model_id": "050268e786054b70bcc1662a4310ed64",
       "version_major": 2,
       "version_minor": 0
      },
      "text/plain": [
       "Analyzing comments:   0%|          | 0/40 [00:00<?, ?comment/s]"
      ]
     },
     "metadata": {},
     "output_type": "display_data"
    },
    {
     "data": {
      "application/vnd.jupyter.widget-view+json": {
       "model_id": "b7721c216a9644b9831f447ad669a3ba",
       "version_major": 2,
       "version_minor": 0
      },
      "text/plain": [
       "Analyzing comments:   0%|          | 0/40 [00:00<?, ?comment/s]"
      ]
     },
     "metadata": {},
     "output_type": "display_data"
    },
    {
     "data": {
      "application/vnd.jupyter.widget-view+json": {
       "model_id": "951aefa7758d42fa9274e655c26cf206",
       "version_major": 2,
       "version_minor": 0
      },
      "text/plain": [
       "Analyzing comments:   0%|          | 0/8 [00:00<?, ?comment/s]"
      ]
     },
     "metadata": {},
     "output_type": "display_data"
    },
    {
     "data": {
      "application/vnd.jupyter.widget-view+json": {
       "model_id": "bbe68a659f70405e9205f49a2f4208df",
       "version_major": 2,
       "version_minor": 0
      },
      "text/plain": [
       "Analyzing comments:   0%|          | 0/20 [00:00<?, ?comment/s]"
      ]
     },
     "metadata": {},
     "output_type": "display_data"
    },
    {
     "data": {
      "application/vnd.jupyter.widget-view+json": {
       "model_id": "c90d1152b2e34ce186631b8e48a7d539",
       "version_major": 2,
       "version_minor": 0
      },
      "text/plain": [
       "Analyzing comments:   0%|          | 0/2 [00:00<?, ?comment/s]"
      ]
     },
     "metadata": {},
     "output_type": "display_data"
    },
    {
     "data": {
      "application/vnd.jupyter.widget-view+json": {
       "model_id": "8b6df5babde3416b9d9123c37ef7f223",
       "version_major": 2,
       "version_minor": 0
      },
      "text/plain": [
       "Analyzing comments:   0%|          | 0/15 [00:00<?, ?comment/s]"
      ]
     },
     "metadata": {},
     "output_type": "display_data"
    },
    {
     "data": {
      "application/vnd.jupyter.widget-view+json": {
       "model_id": "4298ef1a4a4444b98268d55aac32fa5a",
       "version_major": 2,
       "version_minor": 0
      },
      "text/plain": [
       "Analyzing comments:   0%|          | 0/16 [00:00<?, ?comment/s]"
      ]
     },
     "metadata": {},
     "output_type": "display_data"
    },
    {
     "data": {
      "application/vnd.jupyter.widget-view+json": {
       "model_id": "a1e362a68da44511b24edbdf50356575",
       "version_major": 2,
       "version_minor": 0
      },
      "text/plain": [
       "Analyzing comments:   0%|          | 0/44 [00:00<?, ?comment/s]"
      ]
     },
     "metadata": {},
     "output_type": "display_data"
    },
    {
     "data": {
      "application/vnd.jupyter.widget-view+json": {
       "model_id": "32cf3edef3d94dcab6c5381360aaf867",
       "version_major": 2,
       "version_minor": 0
      },
      "text/plain": [
       "Analyzing comments:   0%|          | 0/21 [00:00<?, ?comment/s]"
      ]
     },
     "metadata": {},
     "output_type": "display_data"
    },
    {
     "data": {
      "application/vnd.jupyter.widget-view+json": {
       "model_id": "3892994d02b34ab6b43ce2851b0c9117",
       "version_major": 2,
       "version_minor": 0
      },
      "text/plain": [
       "Analyzing comments:   0%|          | 0/11 [00:00<?, ?comment/s]"
      ]
     },
     "metadata": {},
     "output_type": "display_data"
    },
    {
     "data": {
      "application/vnd.jupyter.widget-view+json": {
       "model_id": "467afea8e0fa43469e94794f796decdc",
       "version_major": 2,
       "version_minor": 0
      },
      "text/plain": [
       "Analyzing comments:   0%|          | 0/34 [00:00<?, ?comment/s]"
      ]
     },
     "metadata": {},
     "output_type": "display_data"
    },
    {
     "data": {
      "application/vnd.jupyter.widget-view+json": {
       "model_id": "3b57c0e72cf14059a07e604a357ae743",
       "version_major": 2,
       "version_minor": 0
      },
      "text/plain": [
       "Analyzing comments:   0%|          | 0/14 [00:00<?, ?comment/s]"
      ]
     },
     "metadata": {},
     "output_type": "display_data"
    },
    {
     "data": {
      "application/vnd.jupyter.widget-view+json": {
       "model_id": "ea478e789d4943d0b13f5ef7c7683d34",
       "version_major": 2,
       "version_minor": 0
      },
      "text/plain": [
       "Analyzing comments:   0%|          | 0/41 [00:00<?, ?comment/s]"
      ]
     },
     "metadata": {},
     "output_type": "display_data"
    },
    {
     "data": {
      "application/vnd.jupyter.widget-view+json": {
       "model_id": "aa11640c105743188987d29fd0c37c6b",
       "version_major": 2,
       "version_minor": 0
      },
      "text/plain": [
       "Analyzing comments:   0%|          | 0/40 [00:00<?, ?comment/s]"
      ]
     },
     "metadata": {},
     "output_type": "display_data"
    },
    {
     "data": {
      "application/vnd.jupyter.widget-view+json": {
       "model_id": "5fddf3e78b30454b9f95ec1c71950dd6",
       "version_major": 2,
       "version_minor": 0
      },
      "text/plain": [
       "Analyzing comments:   0%|          | 0/21 [00:00<?, ?comment/s]"
      ]
     },
     "metadata": {},
     "output_type": "display_data"
    },
    {
     "data": {
      "application/vnd.jupyter.widget-view+json": {
       "model_id": "5995aa39404949a5a68f16ffc0983d46",
       "version_major": 2,
       "version_minor": 0
      },
      "text/plain": [
       "Analyzing comments:   0%|          | 0/1 [00:00<?, ?comment/s]"
      ]
     },
     "metadata": {},
     "output_type": "display_data"
    },
    {
     "data": {
      "application/vnd.jupyter.widget-view+json": {
       "model_id": "5b1b8b6ea9d04c4ba37dfb778760ac68",
       "version_major": 2,
       "version_minor": 0
      },
      "text/plain": [
       "Analyzing comments:   0%|          | 0/11 [00:00<?, ?comment/s]"
      ]
     },
     "metadata": {},
     "output_type": "display_data"
    },
    {
     "data": {
      "application/vnd.jupyter.widget-view+json": {
       "model_id": "38dc55642b954c0c894e6f0e96e7205f",
       "version_major": 2,
       "version_minor": 0
      },
      "text/plain": [
       "Analyzing comments:   0%|          | 0/7 [00:00<?, ?comment/s]"
      ]
     },
     "metadata": {},
     "output_type": "display_data"
    },
    {
     "data": {
      "application/vnd.jupyter.widget-view+json": {
       "model_id": "4d46e0420966493dab453134ca6fbd27",
       "version_major": 2,
       "version_minor": 0
      },
      "text/plain": [
       "Analyzing comments:   0%|          | 0/20 [00:00<?, ?comment/s]"
      ]
     },
     "metadata": {},
     "output_type": "display_data"
    },
    {
     "data": {
      "application/vnd.jupyter.widget-view+json": {
       "model_id": "52975822483947e6bb6ecd0eed4e5e23",
       "version_major": 2,
       "version_minor": 0
      },
      "text/plain": [
       "Analyzing comments:   0%|          | 0/20 [00:00<?, ?comment/s]"
      ]
     },
     "metadata": {},
     "output_type": "display_data"
    },
    {
     "data": {
      "application/vnd.jupyter.widget-view+json": {
       "model_id": "ef295e8c01614460afd3dc834331b05b",
       "version_major": 2,
       "version_minor": 0
      },
      "text/plain": [
       "Analyzing comments:   0%|          | 0/14 [00:00<?, ?comment/s]"
      ]
     },
     "metadata": {},
     "output_type": "display_data"
    },
    {
     "data": {
      "application/vnd.jupyter.widget-view+json": {
       "model_id": "245171b573aa4b969264b41444ea427a",
       "version_major": 2,
       "version_minor": 0
      },
      "text/plain": [
       "Analyzing comments:   0%|          | 0/14 [00:00<?, ?comment/s]"
      ]
     },
     "metadata": {},
     "output_type": "display_data"
    },
    {
     "data": {
      "application/vnd.jupyter.widget-view+json": {
       "model_id": "825c95cc6c914109954ff74a27eea20f",
       "version_major": 2,
       "version_minor": 0
      },
      "text/plain": [
       "Analyzing comments:   0%|          | 0/41 [00:00<?, ?comment/s]"
      ]
     },
     "metadata": {},
     "output_type": "display_data"
    },
    {
     "data": {
      "application/vnd.jupyter.widget-view+json": {
       "model_id": "f6fd84508e804a939637f733a9148745",
       "version_major": 2,
       "version_minor": 0
      },
      "text/plain": [
       "Analyzing comments:   0%|          | 0/2 [00:00<?, ?comment/s]"
      ]
     },
     "metadata": {},
     "output_type": "display_data"
    },
    {
     "data": {
      "application/vnd.jupyter.widget-view+json": {
       "model_id": "84c9fd33e85a47dfba60293be6248de1",
       "version_major": 2,
       "version_minor": 0
      },
      "text/plain": [
       "Analyzing comments:   0%|          | 0/25 [00:00<?, ?comment/s]"
      ]
     },
     "metadata": {},
     "output_type": "display_data"
    },
    {
     "data": {
      "application/vnd.jupyter.widget-view+json": {
       "model_id": "2fa5c132befe41099dd8b0f4559bb510",
       "version_major": 2,
       "version_minor": 0
      },
      "text/plain": [
       "Analyzing comments:   0%|          | 0/20 [00:00<?, ?comment/s]"
      ]
     },
     "metadata": {},
     "output_type": "display_data"
    },
    {
     "data": {
      "application/vnd.jupyter.widget-view+json": {
       "model_id": "f8952ed088f44db097e47c15f7389f2d",
       "version_major": 2,
       "version_minor": 0
      },
      "text/plain": [
       "Analyzing comments:   0%|          | 0/5 [00:00<?, ?comment/s]"
      ]
     },
     "metadata": {},
     "output_type": "display_data"
    },
    {
     "data": {
      "application/vnd.jupyter.widget-view+json": {
       "model_id": "80a5d14e607e4e76ac2227d144ceee0c",
       "version_major": 2,
       "version_minor": 0
      },
      "text/plain": [
       "Analyzing comments:   0%|          | 0/37 [00:00<?, ?comment/s]"
      ]
     },
     "metadata": {},
     "output_type": "display_data"
    },
    {
     "data": {
      "application/vnd.jupyter.widget-view+json": {
       "model_id": "197072a009294a86b700502774ea8dc5",
       "version_major": 2,
       "version_minor": 0
      },
      "text/plain": [
       "Analyzing comments:   0%|          | 0/39 [00:00<?, ?comment/s]"
      ]
     },
     "metadata": {},
     "output_type": "display_data"
    },
    {
     "data": {
      "application/vnd.jupyter.widget-view+json": {
       "model_id": "d139ca4750914daea0099d37ecd68a16",
       "version_major": 2,
       "version_minor": 0
      },
      "text/plain": [
       "Analyzing comments:   0%|          | 0/40 [00:00<?, ?comment/s]"
      ]
     },
     "metadata": {},
     "output_type": "display_data"
    },
    {
     "data": {
      "application/vnd.jupyter.widget-view+json": {
       "model_id": "0ce723c6acd443259c5cad3402bbcf61",
       "version_major": 2,
       "version_minor": 0
      },
      "text/plain": [
       "Analyzing comments:   0%|          | 0/39 [00:00<?, ?comment/s]"
      ]
     },
     "metadata": {},
     "output_type": "display_data"
    },
    {
     "data": {
      "application/vnd.jupyter.widget-view+json": {
       "model_id": "3377d09d734b471ebf0238552d136481",
       "version_major": 2,
       "version_minor": 0
      },
      "text/plain": [
       "Analyzing comments:   0%|          | 0/7 [00:00<?, ?comment/s]"
      ]
     },
     "metadata": {},
     "output_type": "display_data"
    },
    {
     "data": {
      "application/vnd.jupyter.widget-view+json": {
       "model_id": "1759c3591f87475b9c13138e34e702ee",
       "version_major": 2,
       "version_minor": 0
      },
      "text/plain": [
       "Analyzing comments:   0%|          | 0/37 [00:00<?, ?comment/s]"
      ]
     },
     "metadata": {},
     "output_type": "display_data"
    },
    {
     "data": {
      "application/vnd.jupyter.widget-view+json": {
       "model_id": "79554eb54ac248ed9b4bdbfaa73eb5c2",
       "version_major": 2,
       "version_minor": 0
      },
      "text/plain": [
       "Analyzing comments:   0%|          | 0/40 [00:00<?, ?comment/s]"
      ]
     },
     "metadata": {},
     "output_type": "display_data"
    },
    {
     "data": {
      "application/vnd.jupyter.widget-view+json": {
       "model_id": "7ea04b1dc8544ea3996c27a55ccd8747",
       "version_major": 2,
       "version_minor": 0
      },
      "text/plain": [
       "Analyzing comments:   0%|          | 0/2 [00:00<?, ?comment/s]"
      ]
     },
     "metadata": {},
     "output_type": "display_data"
    },
    {
     "data": {
      "application/vnd.jupyter.widget-view+json": {
       "model_id": "8fc873fe56f8469eb35113ea83494937",
       "version_major": 2,
       "version_minor": 0
      },
      "text/plain": [
       "Analyzing comments:   0%|          | 0/43 [00:00<?, ?comment/s]"
      ]
     },
     "metadata": {},
     "output_type": "display_data"
    },
    {
     "data": {
      "application/vnd.jupyter.widget-view+json": {
       "model_id": "8c14bf88406a4827ac378730131d6f2f",
       "version_major": 2,
       "version_minor": 0
      },
      "text/plain": [
       "Analyzing comments:   0%|          | 0/46 [00:00<?, ?comment/s]"
      ]
     },
     "metadata": {},
     "output_type": "display_data"
    },
    {
     "data": {
      "application/vnd.jupyter.widget-view+json": {
       "model_id": "1de0389eee8f4602874b3aee15f361b5",
       "version_major": 2,
       "version_minor": 0
      },
      "text/plain": [
       "Analyzing comments:   0%|          | 0/40 [00:00<?, ?comment/s]"
      ]
     },
     "metadata": {},
     "output_type": "display_data"
    },
    {
     "data": {
      "application/vnd.jupyter.widget-view+json": {
       "model_id": "68b7fb62d29a467baf7c7454e14db4d6",
       "version_major": 2,
       "version_minor": 0
      },
      "text/plain": [
       "Analyzing comments:   0%|          | 0/31 [00:00<?, ?comment/s]"
      ]
     },
     "metadata": {},
     "output_type": "display_data"
    },
    {
     "data": {
      "application/vnd.jupyter.widget-view+json": {
       "model_id": "cb6303f606cf42d89387be5466c33176",
       "version_major": 2,
       "version_minor": 0
      },
      "text/plain": [
       "Analyzing comments:   0%|          | 0/15 [00:00<?, ?comment/s]"
      ]
     },
     "metadata": {},
     "output_type": "display_data"
    },
    {
     "data": {
      "application/vnd.jupyter.widget-view+json": {
       "model_id": "e5d59ff87a124abb945762d2523f2000",
       "version_major": 2,
       "version_minor": 0
      },
      "text/plain": [
       "Analyzing comments:   0%|          | 0/12 [00:00<?, ?comment/s]"
      ]
     },
     "metadata": {},
     "output_type": "display_data"
    },
    {
     "data": {
      "application/vnd.jupyter.widget-view+json": {
       "model_id": "ac289dedfe124734adf542712af257e4",
       "version_major": 2,
       "version_minor": 0
      },
      "text/plain": [
       "Analyzing comments:   0%|          | 0/40 [00:00<?, ?comment/s]"
      ]
     },
     "metadata": {},
     "output_type": "display_data"
    },
    {
     "data": {
      "application/vnd.jupyter.widget-view+json": {
       "model_id": "a73081c04d5246d996aaa8fe12fd3011",
       "version_major": 2,
       "version_minor": 0
      },
      "text/plain": [
       "Analyzing comments:   0%|          | 0/51 [00:00<?, ?comment/s]"
      ]
     },
     "metadata": {},
     "output_type": "display_data"
    },
    {
     "data": {
      "application/vnd.jupyter.widget-view+json": {
       "model_id": "94314b5a68944cd3b2683c0806df2d35",
       "version_major": 2,
       "version_minor": 0
      },
      "text/plain": [
       "Analyzing comments:   0%|          | 0/38 [00:00<?, ?comment/s]"
      ]
     },
     "metadata": {},
     "output_type": "display_data"
    },
    {
     "data": {
      "application/vnd.jupyter.widget-view+json": {
       "model_id": "0074cd69f66541f2924ea65ef078dbd7",
       "version_major": 2,
       "version_minor": 0
      },
      "text/plain": [
       "Analyzing comments:   0%|          | 0/1 [00:00<?, ?comment/s]"
      ]
     },
     "metadata": {},
     "output_type": "display_data"
    },
    {
     "data": {
      "application/vnd.jupyter.widget-view+json": {
       "model_id": "96102fffa6db44d09791cd62fb6e42b6",
       "version_major": 2,
       "version_minor": 0
      },
      "text/plain": [
       "Analyzing comments:   0%|          | 0/12 [00:00<?, ?comment/s]"
      ]
     },
     "metadata": {},
     "output_type": "display_data"
    },
    {
     "data": {
      "application/vnd.jupyter.widget-view+json": {
       "model_id": "b4c9144074ba44118ddaa9ab3fa270d8",
       "version_major": 2,
       "version_minor": 0
      },
      "text/plain": [
       "Analyzing comments:   0%|          | 0/1 [00:00<?, ?comment/s]"
      ]
     },
     "metadata": {},
     "output_type": "display_data"
    },
    {
     "data": {
      "application/vnd.jupyter.widget-view+json": {
       "model_id": "5ff5a42b22c84a799194801a7c5090b9",
       "version_major": 2,
       "version_minor": 0
      },
      "text/plain": [
       "Analyzing comments:   0%|          | 0/5 [00:00<?, ?comment/s]"
      ]
     },
     "metadata": {},
     "output_type": "display_data"
    },
    {
     "data": {
      "application/vnd.jupyter.widget-view+json": {
       "model_id": "95fcd0f4993b4e08991a60de3e1f78ef",
       "version_major": 2,
       "version_minor": 0
      },
      "text/plain": [
       "Analyzing comments:   0%|          | 0/7 [00:00<?, ?comment/s]"
      ]
     },
     "metadata": {},
     "output_type": "display_data"
    },
    {
     "data": {
      "application/vnd.jupyter.widget-view+json": {
       "model_id": "698b2c21c8ca4fc0a0089010730c83b2",
       "version_major": 2,
       "version_minor": 0
      },
      "text/plain": [
       "Analyzing comments:   0%|          | 0/38 [00:00<?, ?comment/s]"
      ]
     },
     "metadata": {},
     "output_type": "display_data"
    },
    {
     "data": {
      "application/vnd.jupyter.widget-view+json": {
       "model_id": "0264be30e5c745f28e3f996ef20cea5b",
       "version_major": 2,
       "version_minor": 0
      },
      "text/plain": [
       "Analyzing comments: 0comment [00:00, ?comment/s]"
      ]
     },
     "metadata": {},
     "output_type": "display_data"
    },
    {
     "data": {
      "application/vnd.jupyter.widget-view+json": {
       "model_id": "b7c0433df3164201ba8ee278644cec18",
       "version_major": 2,
       "version_minor": 0
      },
      "text/plain": [
       "Analyzing comments:   0%|          | 0/38 [00:00<?, ?comment/s]"
      ]
     },
     "metadata": {},
     "output_type": "display_data"
    },
    {
     "data": {
      "application/vnd.jupyter.widget-view+json": {
       "model_id": "15f7ffc1c47c4969b752d8b0e0bc7bbc",
       "version_major": 2,
       "version_minor": 0
      },
      "text/plain": [
       "Analyzing comments:   0%|          | 0/38 [00:00<?, ?comment/s]"
      ]
     },
     "metadata": {},
     "output_type": "display_data"
    },
    {
     "data": {
      "application/vnd.jupyter.widget-view+json": {
       "model_id": "f81769cec2a44a9bb4bc51699feb7112",
       "version_major": 2,
       "version_minor": 0
      },
      "text/plain": [
       "Analyzing comments:   0%|          | 0/3 [00:00<?, ?comment/s]"
      ]
     },
     "metadata": {},
     "output_type": "display_data"
    },
    {
     "data": {
      "application/vnd.jupyter.widget-view+json": {
       "model_id": "0f4dfcfd97a042559fc0cefad391a794",
       "version_major": 2,
       "version_minor": 0
      },
      "text/plain": [
       "Analyzing comments:   0%|          | 0/13 [00:00<?, ?comment/s]"
      ]
     },
     "metadata": {},
     "output_type": "display_data"
    },
    {
     "data": {
      "application/vnd.jupyter.widget-view+json": {
       "model_id": "0f536b3f96fe428caa42e5ac2be47d63",
       "version_major": 2,
       "version_minor": 0
      },
      "text/plain": [
       "Analyzing comments:   0%|          | 0/37 [00:00<?, ?comment/s]"
      ]
     },
     "metadata": {},
     "output_type": "display_data"
    },
    {
     "data": {
      "application/vnd.jupyter.widget-view+json": {
       "model_id": "43f380f5356846789ec5106406a4da5e",
       "version_major": 2,
       "version_minor": 0
      },
      "text/plain": [
       "Analyzing comments:   0%|          | 0/3 [00:00<?, ?comment/s]"
      ]
     },
     "metadata": {},
     "output_type": "display_data"
    },
    {
     "data": {
      "application/vnd.jupyter.widget-view+json": {
       "model_id": "7cf3b86413914fe389b29d1cde4d5fdb",
       "version_major": 2,
       "version_minor": 0
      },
      "text/plain": [
       "Analyzing comments:   0%|          | 0/40 [00:00<?, ?comment/s]"
      ]
     },
     "metadata": {},
     "output_type": "display_data"
    },
    {
     "data": {
      "application/vnd.jupyter.widget-view+json": {
       "model_id": "ea7234c3a5824683a4deb86bf7db7d48",
       "version_major": 2,
       "version_minor": 0
      },
      "text/plain": [
       "Analyzing comments:   0%|          | 0/7 [00:00<?, ?comment/s]"
      ]
     },
     "metadata": {},
     "output_type": "display_data"
    },
    {
     "data": {
      "application/vnd.jupyter.widget-view+json": {
       "model_id": "2ed55e63b49a48c6b3b1c6a6a50d4918",
       "version_major": 2,
       "version_minor": 0
      },
      "text/plain": [
       "Analyzing comments:   0%|          | 0/35 [00:00<?, ?comment/s]"
      ]
     },
     "metadata": {},
     "output_type": "display_data"
    },
    {
     "data": {
      "application/vnd.jupyter.widget-view+json": {
       "model_id": "1612872505cf4746a3d590d05a650a8a",
       "version_major": 2,
       "version_minor": 0
      },
      "text/plain": [
       "Analyzing comments:   0%|          | 0/31 [00:00<?, ?comment/s]"
      ]
     },
     "metadata": {},
     "output_type": "display_data"
    },
    {
     "data": {
      "application/vnd.jupyter.widget-view+json": {
       "model_id": "7f3bed59e85e4d83884f9d19275b7691",
       "version_major": 2,
       "version_minor": 0
      },
      "text/plain": [
       "Analyzing comments:   0%|          | 0/16 [00:00<?, ?comment/s]"
      ]
     },
     "metadata": {},
     "output_type": "display_data"
    },
    {
     "data": {
      "application/vnd.jupyter.widget-view+json": {
       "model_id": "17b2eca7cbce4de1a91ccd81de97deca",
       "version_major": 2,
       "version_minor": 0
      },
      "text/plain": [
       "Analyzing comments:   0%|          | 0/2 [00:00<?, ?comment/s]"
      ]
     },
     "metadata": {},
     "output_type": "display_data"
    },
    {
     "data": {
      "application/vnd.jupyter.widget-view+json": {
       "model_id": "8d87ddaf16cc43c7bc377e20086c262c",
       "version_major": 2,
       "version_minor": 0
      },
      "text/plain": [
       "Analyzing comments:   0%|          | 0/17 [00:00<?, ?comment/s]"
      ]
     },
     "metadata": {},
     "output_type": "display_data"
    },
    {
     "data": {
      "application/vnd.jupyter.widget-view+json": {
       "model_id": "f4428e8dca5c4491a94c2b23e9257a3b",
       "version_major": 2,
       "version_minor": 0
      },
      "text/plain": [
       "Analyzing comments:   0%|          | 0/26 [00:00<?, ?comment/s]"
      ]
     },
     "metadata": {},
     "output_type": "display_data"
    },
    {
     "data": {
      "application/vnd.jupyter.widget-view+json": {
       "model_id": "ceee9cf98ea74c81af420bb47408a83a",
       "version_major": 2,
       "version_minor": 0
      },
      "text/plain": [
       "Analyzing comments:   0%|          | 0/12 [00:00<?, ?comment/s]"
      ]
     },
     "metadata": {},
     "output_type": "display_data"
    },
    {
     "data": {
      "application/vnd.jupyter.widget-view+json": {
       "model_id": "b1f32321eba7436199ec5d5ab790d9f4",
       "version_major": 2,
       "version_minor": 0
      },
      "text/plain": [
       "Analyzing comments:   0%|          | 0/36 [00:00<?, ?comment/s]"
      ]
     },
     "metadata": {},
     "output_type": "display_data"
    },
    {
     "data": {
      "application/vnd.jupyter.widget-view+json": {
       "model_id": "9470dec5e09e42279673710d0bc270ab",
       "version_major": 2,
       "version_minor": 0
      },
      "text/plain": [
       "Analyzing comments:   0%|          | 0/34 [00:00<?, ?comment/s]"
      ]
     },
     "metadata": {},
     "output_type": "display_data"
    },
    {
     "data": {
      "application/vnd.jupyter.widget-view+json": {
       "model_id": "5fa10c4dd70047658d1402c5f0f87445",
       "version_major": 2,
       "version_minor": 0
      },
      "text/plain": [
       "Analyzing comments:   0%|          | 0/8 [00:00<?, ?comment/s]"
      ]
     },
     "metadata": {},
     "output_type": "display_data"
    },
    {
     "data": {
      "application/vnd.jupyter.widget-view+json": {
       "model_id": "21a0999b58274038a3c1051e847fad91",
       "version_major": 2,
       "version_minor": 0
      },
      "text/plain": [
       "Analyzing comments:   0%|          | 0/8 [00:00<?, ?comment/s]"
      ]
     },
     "metadata": {},
     "output_type": "display_data"
    },
    {
     "data": {
      "application/vnd.jupyter.widget-view+json": {
       "model_id": "0faac972533649f1b0351593eb0f3bda",
       "version_major": 2,
       "version_minor": 0
      },
      "text/plain": [
       "Analyzing comments:   0%|          | 0/34 [00:00<?, ?comment/s]"
      ]
     },
     "metadata": {},
     "output_type": "display_data"
    },
    {
     "data": {
      "application/vnd.jupyter.widget-view+json": {
       "model_id": "9e1b8e22d45d4d86a96e5901e837b1bb",
       "version_major": 2,
       "version_minor": 0
      },
      "text/plain": [
       "Analyzing comments:   0%|          | 0/4 [00:00<?, ?comment/s]"
      ]
     },
     "metadata": {},
     "output_type": "display_data"
    },
    {
     "data": {
      "application/vnd.jupyter.widget-view+json": {
       "model_id": "50bc7a8af13d4a45960899ef68863810",
       "version_major": 2,
       "version_minor": 0
      },
      "text/plain": [
       "Analyzing comments:   0%|          | 0/3 [00:00<?, ?comment/s]"
      ]
     },
     "metadata": {},
     "output_type": "display_data"
    },
    {
     "data": {
      "application/vnd.jupyter.widget-view+json": {
       "model_id": "d06c7a22ac64429687a84d1c5ae5d3ed",
       "version_major": 2,
       "version_minor": 0
      },
      "text/plain": [
       "Analyzing comments:   0%|          | 0/13 [00:00<?, ?comment/s]"
      ]
     },
     "metadata": {},
     "output_type": "display_data"
    },
    {
     "data": {
      "application/vnd.jupyter.widget-view+json": {
       "model_id": "c34a17dd78d343d09a6e0c9c3a233027",
       "version_major": 2,
       "version_minor": 0
      },
      "text/plain": [
       "Analyzing comments:   0%|          | 0/1 [00:00<?, ?comment/s]"
      ]
     },
     "metadata": {},
     "output_type": "display_data"
    },
    {
     "data": {
      "application/vnd.jupyter.widget-view+json": {
       "model_id": "26750bbe33fc4ebb8a536f7069619f35",
       "version_major": 2,
       "version_minor": 0
      },
      "text/plain": [
       "Analyzing comments:   0%|          | 0/37 [00:00<?, ?comment/s]"
      ]
     },
     "metadata": {},
     "output_type": "display_data"
    },
    {
     "data": {
      "application/vnd.jupyter.widget-view+json": {
       "model_id": "455aef8bdac74e4abd31d55dc327cfaf",
       "version_major": 2,
       "version_minor": 0
      },
      "text/plain": [
       "Analyzing comments:   0%|          | 0/19 [00:00<?, ?comment/s]"
      ]
     },
     "metadata": {},
     "output_type": "display_data"
    },
    {
     "data": {
      "application/vnd.jupyter.widget-view+json": {
       "model_id": "1cb93a5060984977ae068db7a85618c7",
       "version_major": 2,
       "version_minor": 0
      },
      "text/plain": [
       "Analyzing comments:   0%|          | 0/50 [00:00<?, ?comment/s]"
      ]
     },
     "metadata": {},
     "output_type": "display_data"
    },
    {
     "data": {
      "application/vnd.jupyter.widget-view+json": {
       "model_id": "8610b52299b94077a7496d1db67d958a",
       "version_major": 2,
       "version_minor": 0
      },
      "text/plain": [
       "Analyzing comments:   0%|          | 0/11 [00:00<?, ?comment/s]"
      ]
     },
     "metadata": {},
     "output_type": "display_data"
    },
    {
     "data": {
      "application/vnd.jupyter.widget-view+json": {
       "model_id": "a22d78b31fec407eb37f0d520df51a68",
       "version_major": 2,
       "version_minor": 0
      },
      "text/plain": [
       "Analyzing comments:   0%|          | 0/4 [00:00<?, ?comment/s]"
      ]
     },
     "metadata": {},
     "output_type": "display_data"
    },
    {
     "data": {
      "application/vnd.jupyter.widget-view+json": {
       "model_id": "bf722fc2c08c4aa78c6a8765d05f39b5",
       "version_major": 2,
       "version_minor": 0
      },
      "text/plain": [
       "Analyzing comments: 0comment [00:00, ?comment/s]"
      ]
     },
     "metadata": {},
     "output_type": "display_data"
    },
    {
     "data": {
      "application/vnd.jupyter.widget-view+json": {
       "model_id": "bfe73292739947d190be6b69c6f96088",
       "version_major": 2,
       "version_minor": 0
      },
      "text/plain": [
       "Analyzing comments:   0%|          | 0/1 [00:00<?, ?comment/s]"
      ]
     },
     "metadata": {},
     "output_type": "display_data"
    },
    {
     "data": {
      "application/vnd.jupyter.widget-view+json": {
       "model_id": "83d85e8ce11d4d58b26d3ff9482e02e4",
       "version_major": 2,
       "version_minor": 0
      },
      "text/plain": [
       "Analyzing comments:   0%|          | 0/5 [00:00<?, ?comment/s]"
      ]
     },
     "metadata": {},
     "output_type": "display_data"
    },
    {
     "data": {
      "application/vnd.jupyter.widget-view+json": {
       "model_id": "d8c4a1bf6fed4ac39574ecec12f9b1ee",
       "version_major": 2,
       "version_minor": 0
      },
      "text/plain": [
       "Analyzing comments:   0%|          | 0/34 [00:00<?, ?comment/s]"
      ]
     },
     "metadata": {},
     "output_type": "display_data"
    },
    {
     "data": {
      "application/vnd.jupyter.widget-view+json": {
       "model_id": "d378866c7d534a6cbbfb27d933b9ef60",
       "version_major": 2,
       "version_minor": 0
      },
      "text/plain": [
       "Analyzing comments:   0%|          | 0/8 [00:00<?, ?comment/s]"
      ]
     },
     "metadata": {},
     "output_type": "display_data"
    },
    {
     "data": {
      "application/vnd.jupyter.widget-view+json": {
       "model_id": "16172d953ed540648906ffa10d4d83f8",
       "version_major": 2,
       "version_minor": 0
      },
      "text/plain": [
       "Analyzing comments:   0%|          | 0/14 [00:00<?, ?comment/s]"
      ]
     },
     "metadata": {},
     "output_type": "display_data"
    },
    {
     "data": {
      "application/vnd.jupyter.widget-view+json": {
       "model_id": "825cb50e5f6a4528a66c648fe38b96b2",
       "version_major": 2,
       "version_minor": 0
      },
      "text/plain": [
       "Analyzing comments:   0%|          | 0/37 [00:00<?, ?comment/s]"
      ]
     },
     "metadata": {},
     "output_type": "display_data"
    },
    {
     "data": {
      "application/vnd.jupyter.widget-view+json": {
       "model_id": "0be384d4d60f4734b2b4b1de981d2fba",
       "version_major": 2,
       "version_minor": 0
      },
      "text/plain": [
       "Analyzing comments:   0%|          | 0/22 [00:00<?, ?comment/s]"
      ]
     },
     "metadata": {},
     "output_type": "display_data"
    },
    {
     "data": {
      "application/vnd.jupyter.widget-view+json": {
       "model_id": "45f7ce7c3cf24362ac5d56df1340f312",
       "version_major": 2,
       "version_minor": 0
      },
      "text/plain": [
       "Analyzing comments:   0%|          | 0/7 [00:00<?, ?comment/s]"
      ]
     },
     "metadata": {},
     "output_type": "display_data"
    },
    {
     "data": {
      "application/vnd.jupyter.widget-view+json": {
       "model_id": "af28fae8465a49f298f94d5a0db442c5",
       "version_major": 2,
       "version_minor": 0
      },
      "text/plain": [
       "Analyzing comments:   0%|          | 0/15 [00:00<?, ?comment/s]"
      ]
     },
     "metadata": {},
     "output_type": "display_data"
    },
    {
     "data": {
      "application/vnd.jupyter.widget-view+json": {
       "model_id": "7e6da477ea3f4c7d9626abee3e753e8b",
       "version_major": 2,
       "version_minor": 0
      },
      "text/plain": [
       "Analyzing comments:   0%|          | 0/36 [00:00<?, ?comment/s]"
      ]
     },
     "metadata": {},
     "output_type": "display_data"
    },
    {
     "data": {
      "application/vnd.jupyter.widget-view+json": {
       "model_id": "bd627b182ec745fd85034e7b021d8a39",
       "version_major": 2,
       "version_minor": 0
      },
      "text/plain": [
       "Analyzing comments:   0%|          | 0/1 [00:00<?, ?comment/s]"
      ]
     },
     "metadata": {},
     "output_type": "display_data"
    },
    {
     "data": {
      "application/vnd.jupyter.widget-view+json": {
       "model_id": "ad648d255e194c38a7977504bcdf97fa",
       "version_major": 2,
       "version_minor": 0
      },
      "text/plain": [
       "Analyzing comments:   0%|          | 0/1 [00:00<?, ?comment/s]"
      ]
     },
     "metadata": {},
     "output_type": "display_data"
    },
    {
     "data": {
      "application/vnd.jupyter.widget-view+json": {
       "model_id": "b3c49bb115e9469abe0fb0fa47c6948e",
       "version_major": 2,
       "version_minor": 0
      },
      "text/plain": [
       "Analyzing comments:   0%|          | 0/35 [00:00<?, ?comment/s]"
      ]
     },
     "metadata": {},
     "output_type": "display_data"
    },
    {
     "data": {
      "application/vnd.jupyter.widget-view+json": {
       "model_id": "5f6dd1431ae947b4a942baca512781d2",
       "version_major": 2,
       "version_minor": 0
      },
      "text/plain": [
       "Analyzing comments:   0%|          | 0/2 [00:00<?, ?comment/s]"
      ]
     },
     "metadata": {},
     "output_type": "display_data"
    },
    {
     "data": {
      "application/vnd.jupyter.widget-view+json": {
       "model_id": "b8856d6ce17c48959caedf5dfd417020",
       "version_major": 2,
       "version_minor": 0
      },
      "text/plain": [
       "Analyzing comments:   0%|          | 0/23 [00:00<?, ?comment/s]"
      ]
     },
     "metadata": {},
     "output_type": "display_data"
    },
    {
     "data": {
      "application/vnd.jupyter.widget-view+json": {
       "model_id": "8de7619b638f4bbe88c6c9f5cc2baf6f",
       "version_major": 2,
       "version_minor": 0
      },
      "text/plain": [
       "Analyzing comments:   0%|          | 0/2 [00:00<?, ?comment/s]"
      ]
     },
     "metadata": {},
     "output_type": "display_data"
    },
    {
     "data": {
      "application/vnd.jupyter.widget-view+json": {
       "model_id": "4838abd26549463db9872ef7bde61432",
       "version_major": 2,
       "version_minor": 0
      },
      "text/plain": [
       "Analyzing comments:   0%|          | 0/18 [00:00<?, ?comment/s]"
      ]
     },
     "metadata": {},
     "output_type": "display_data"
    },
    {
     "data": {
      "application/vnd.jupyter.widget-view+json": {
       "model_id": "04457180a50241e79c49e58a8151734d",
       "version_major": 2,
       "version_minor": 0
      },
      "text/plain": [
       "Analyzing comments:   0%|          | 0/35 [00:00<?, ?comment/s]"
      ]
     },
     "metadata": {},
     "output_type": "display_data"
    },
    {
     "data": {
      "application/vnd.jupyter.widget-view+json": {
       "model_id": "ecb43af4cf304664b033b8ccfb508884",
       "version_major": 2,
       "version_minor": 0
      },
      "text/plain": [
       "Analyzing comments:   0%|          | 0/3 [00:00<?, ?comment/s]"
      ]
     },
     "metadata": {},
     "output_type": "display_data"
    },
    {
     "data": {
      "application/vnd.jupyter.widget-view+json": {
       "model_id": "c464d0b8073a4827bc7393866bc9eb7e",
       "version_major": 2,
       "version_minor": 0
      },
      "text/plain": [
       "Analyzing comments:   0%|          | 0/14 [00:00<?, ?comment/s]"
      ]
     },
     "metadata": {},
     "output_type": "display_data"
    },
    {
     "data": {
      "application/vnd.jupyter.widget-view+json": {
       "model_id": "7a8f069ecc6344958fc9def2610d8eef",
       "version_major": 2,
       "version_minor": 0
      },
      "text/plain": [
       "Analyzing comments:   0%|          | 0/29 [00:00<?, ?comment/s]"
      ]
     },
     "metadata": {},
     "output_type": "display_data"
    },
    {
     "data": {
      "application/vnd.jupyter.widget-view+json": {
       "model_id": "f5b5222ef3de46e78b4ec48d77390219",
       "version_major": 2,
       "version_minor": 0
      },
      "text/plain": [
       "Analyzing comments:   0%|          | 0/29 [00:00<?, ?comment/s]"
      ]
     },
     "metadata": {},
     "output_type": "display_data"
    },
    {
     "data": {
      "application/vnd.jupyter.widget-view+json": {
       "model_id": "3dd9c0a951d948babcec4359664251ec",
       "version_major": 2,
       "version_minor": 0
      },
      "text/plain": [
       "Analyzing comments:   0%|          | 0/39 [00:00<?, ?comment/s]"
      ]
     },
     "metadata": {},
     "output_type": "display_data"
    },
    {
     "data": {
      "application/vnd.jupyter.widget-view+json": {
       "model_id": "d5ae5625faf24045af23bc17a62597b9",
       "version_major": 2,
       "version_minor": 0
      },
      "text/plain": [
       "Analyzing comments:   0%|          | 0/5 [00:00<?, ?comment/s]"
      ]
     },
     "metadata": {},
     "output_type": "display_data"
    },
    {
     "data": {
      "application/vnd.jupyter.widget-view+json": {
       "model_id": "4b11a8ae139b48078dee1a99d70f981a",
       "version_major": 2,
       "version_minor": 0
      },
      "text/plain": [
       "Analyzing comments:   0%|          | 0/4 [00:00<?, ?comment/s]"
      ]
     },
     "metadata": {},
     "output_type": "display_data"
    },
    {
     "data": {
      "application/vnd.jupyter.widget-view+json": {
       "model_id": "feca39580f92401b88bf13f15033354e",
       "version_major": 2,
       "version_minor": 0
      },
      "text/plain": [
       "Analyzing comments:   0%|          | 0/9 [00:00<?, ?comment/s]"
      ]
     },
     "metadata": {},
     "output_type": "display_data"
    },
    {
     "data": {
      "application/vnd.jupyter.widget-view+json": {
       "model_id": "e7ed1e8938ca4b2eba60e183f2d48132",
       "version_major": 2,
       "version_minor": 0
      },
      "text/plain": [
       "Analyzing comments:   0%|          | 0/38 [00:00<?, ?comment/s]"
      ]
     },
     "metadata": {},
     "output_type": "display_data"
    },
    {
     "data": {
      "application/vnd.jupyter.widget-view+json": {
       "model_id": "45b53263ec23439ba830bc7536eac88d",
       "version_major": 2,
       "version_minor": 0
      },
      "text/plain": [
       "Analyzing comments:   0%|          | 0/4 [00:00<?, ?comment/s]"
      ]
     },
     "metadata": {},
     "output_type": "display_data"
    },
    {
     "data": {
      "application/vnd.jupyter.widget-view+json": {
       "model_id": "1fca7fe5a253486b80555a9692660063",
       "version_major": 2,
       "version_minor": 0
      },
      "text/plain": [
       "Analyzing comments:   0%|          | 0/30 [00:00<?, ?comment/s]"
      ]
     },
     "metadata": {},
     "output_type": "display_data"
    },
    {
     "data": {
      "application/vnd.jupyter.widget-view+json": {
       "model_id": "8f0c04ac1d2042a785fa2a321308cacc",
       "version_major": 2,
       "version_minor": 0
      },
      "text/plain": [
       "Analyzing comments:   0%|          | 0/38 [00:00<?, ?comment/s]"
      ]
     },
     "metadata": {},
     "output_type": "display_data"
    },
    {
     "data": {
      "application/vnd.jupyter.widget-view+json": {
       "model_id": "efad9cdeb4f748a597ab8af1f246acb7",
       "version_major": 2,
       "version_minor": 0
      },
      "text/plain": [
       "Analyzing comments:   0%|          | 0/27 [00:00<?, ?comment/s]"
      ]
     },
     "metadata": {},
     "output_type": "display_data"
    },
    {
     "data": {
      "application/vnd.jupyter.widget-view+json": {
       "model_id": "3e742a981514491c95e80afb1c1fef9a",
       "version_major": 2,
       "version_minor": 0
      },
      "text/plain": [
       "Analyzing comments:   0%|          | 0/36 [00:00<?, ?comment/s]"
      ]
     },
     "metadata": {},
     "output_type": "display_data"
    },
    {
     "data": {
      "application/vnd.jupyter.widget-view+json": {
       "model_id": "302bbe0c186e4a40834a4a7ed6afebf8",
       "version_major": 2,
       "version_minor": 0
      },
      "text/plain": [
       "Analyzing comments:   0%|          | 0/28 [00:00<?, ?comment/s]"
      ]
     },
     "metadata": {},
     "output_type": "display_data"
    },
    {
     "data": {
      "application/vnd.jupyter.widget-view+json": {
       "model_id": "827ecfdc28fd4cabb152f3e59df26d75",
       "version_major": 2,
       "version_minor": 0
      },
      "text/plain": [
       "Analyzing comments:   0%|          | 0/4 [00:00<?, ?comment/s]"
      ]
     },
     "metadata": {},
     "output_type": "display_data"
    },
    {
     "data": {
      "application/vnd.jupyter.widget-view+json": {
       "model_id": "c8d1bd7cf0734b6988ae19a55da49924",
       "version_major": 2,
       "version_minor": 0
      },
      "text/plain": [
       "Analyzing comments:   0%|          | 0/39 [00:00<?, ?comment/s]"
      ]
     },
     "metadata": {},
     "output_type": "display_data"
    },
    {
     "data": {
      "application/vnd.jupyter.widget-view+json": {
       "model_id": "02d318c6c40c4233bc38380fad08b77d",
       "version_major": 2,
       "version_minor": 0
      },
      "text/plain": [
       "Analyzing comments:   0%|          | 0/27 [00:00<?, ?comment/s]"
      ]
     },
     "metadata": {},
     "output_type": "display_data"
    },
    {
     "data": {
      "application/vnd.jupyter.widget-view+json": {
       "model_id": "96e1a0655dd645b1b91b5f0867114ad5",
       "version_major": 2,
       "version_minor": 0
      },
      "text/plain": [
       "Analyzing comments:   0%|          | 0/52 [00:00<?, ?comment/s]"
      ]
     },
     "metadata": {},
     "output_type": "display_data"
    },
    {
     "data": {
      "application/vnd.jupyter.widget-view+json": {
       "model_id": "af45e84cf7874a49b830a1043e606942",
       "version_major": 2,
       "version_minor": 0
      },
      "text/plain": [
       "Analyzing comments:   0%|          | 0/2 [00:00<?, ?comment/s]"
      ]
     },
     "metadata": {},
     "output_type": "display_data"
    },
    {
     "data": {
      "application/vnd.jupyter.widget-view+json": {
       "model_id": "29c35d31f8b645ff87cc657c8bb5beb9",
       "version_major": 2,
       "version_minor": 0
      },
      "text/plain": [
       "Analyzing comments:   0%|          | 0/2 [00:00<?, ?comment/s]"
      ]
     },
     "metadata": {},
     "output_type": "display_data"
    },
    {
     "data": {
      "application/vnd.jupyter.widget-view+json": {
       "model_id": "f3dded61788845b7a3864ab63bdd9932",
       "version_major": 2,
       "version_minor": 0
      },
      "text/plain": [
       "Analyzing comments:   0%|          | 0/38 [00:00<?, ?comment/s]"
      ]
     },
     "metadata": {},
     "output_type": "display_data"
    },
    {
     "data": {
      "application/vnd.jupyter.widget-view+json": {
       "model_id": "8aa70a93d8f24e3092f5ff8b12871261",
       "version_major": 2,
       "version_minor": 0
      },
      "text/plain": [
       "Analyzing comments:   0%|          | 0/2 [00:00<?, ?comment/s]"
      ]
     },
     "metadata": {},
     "output_type": "display_data"
    },
    {
     "data": {
      "application/vnd.jupyter.widget-view+json": {
       "model_id": "09adca2a001b43378540ee4748d54dda",
       "version_major": 2,
       "version_minor": 0
      },
      "text/plain": [
       "Analyzing comments:   0%|          | 0/59 [00:00<?, ?comment/s]"
      ]
     },
     "metadata": {},
     "output_type": "display_data"
    },
    {
     "data": {
      "application/vnd.jupyter.widget-view+json": {
       "model_id": "ebd0bf5247634f15a4c8ad84cf958e15",
       "version_major": 2,
       "version_minor": 0
      },
      "text/plain": [
       "Analyzing comments:   0%|          | 0/28 [00:00<?, ?comment/s]"
      ]
     },
     "metadata": {},
     "output_type": "display_data"
    },
    {
     "data": {
      "application/vnd.jupyter.widget-view+json": {
       "model_id": "005f0432aebd4859a26ed02fbfb94af5",
       "version_major": 2,
       "version_minor": 0
      },
      "text/plain": [
       "Analyzing comments: 0comment [00:00, ?comment/s]"
      ]
     },
     "metadata": {},
     "output_type": "display_data"
    },
    {
     "data": {
      "application/vnd.jupyter.widget-view+json": {
       "model_id": "d8ed705ece504497bbc37db1b135c241",
       "version_major": 2,
       "version_minor": 0
      },
      "text/plain": [
       "Analyzing comments:   0%|          | 0/3 [00:00<?, ?comment/s]"
      ]
     },
     "metadata": {},
     "output_type": "display_data"
    },
    {
     "data": {
      "application/vnd.jupyter.widget-view+json": {
       "model_id": "9189634ab0b8448480c7025265487682",
       "version_major": 2,
       "version_minor": 0
      },
      "text/plain": [
       "Analyzing comments:   0%|          | 0/5 [00:00<?, ?comment/s]"
      ]
     },
     "metadata": {},
     "output_type": "display_data"
    },
    {
     "data": {
      "application/vnd.jupyter.widget-view+json": {
       "model_id": "43dba4438bc943069abf729e6f549dc1",
       "version_major": 2,
       "version_minor": 0
      },
      "text/plain": [
       "Analyzing comments:   0%|          | 0/35 [00:00<?, ?comment/s]"
      ]
     },
     "metadata": {},
     "output_type": "display_data"
    },
    {
     "data": {
      "application/vnd.jupyter.widget-view+json": {
       "model_id": "fc257eceb13c4ada881e3c804338362f",
       "version_major": 2,
       "version_minor": 0
      },
      "text/plain": [
       "Analyzing comments:   0%|          | 0/2 [00:00<?, ?comment/s]"
      ]
     },
     "metadata": {},
     "output_type": "display_data"
    },
    {
     "data": {
      "application/vnd.jupyter.widget-view+json": {
       "model_id": "3b76feda4277497fb1e82b96116d8f61",
       "version_major": 2,
       "version_minor": 0
      },
      "text/plain": [
       "Analyzing comments:   0%|          | 0/27 [00:00<?, ?comment/s]"
      ]
     },
     "metadata": {},
     "output_type": "display_data"
    },
    {
     "data": {
      "application/vnd.jupyter.widget-view+json": {
       "model_id": "8b3de02b3a534554813bb5d198c3480a",
       "version_major": 2,
       "version_minor": 0
      },
      "text/plain": [
       "Analyzing comments:   0%|          | 0/23 [00:00<?, ?comment/s]"
      ]
     },
     "metadata": {},
     "output_type": "display_data"
    },
    {
     "data": {
      "application/vnd.jupyter.widget-view+json": {
       "model_id": "dcee20a5fcee453aac8a929965b49559",
       "version_major": 2,
       "version_minor": 0
      },
      "text/plain": [
       "Analyzing comments:   0%|          | 0/39 [00:00<?, ?comment/s]"
      ]
     },
     "metadata": {},
     "output_type": "display_data"
    },
    {
     "data": {
      "application/vnd.jupyter.widget-view+json": {
       "model_id": "ea693ee23e9e4060818daf8c07ce7ef8",
       "version_major": 2,
       "version_minor": 0
      },
      "text/plain": [
       "Analyzing comments:   0%|          | 0/2 [00:00<?, ?comment/s]"
      ]
     },
     "metadata": {},
     "output_type": "display_data"
    },
    {
     "data": {
      "application/vnd.jupyter.widget-view+json": {
       "model_id": "491ff44a23794e3c8c04ed0875a060de",
       "version_major": 2,
       "version_minor": 0
      },
      "text/plain": [
       "Analyzing comments:   0%|          | 0/3 [00:00<?, ?comment/s]"
      ]
     },
     "metadata": {},
     "output_type": "display_data"
    },
    {
     "data": {
      "application/vnd.jupyter.widget-view+json": {
       "model_id": "ac4f6100b31c4931ac22f3c8371584bc",
       "version_major": 2,
       "version_minor": 0
      },
      "text/plain": [
       "Analyzing comments:   0%|          | 0/43 [00:00<?, ?comment/s]"
      ]
     },
     "metadata": {},
     "output_type": "display_data"
    },
    {
     "data": {
      "application/vnd.jupyter.widget-view+json": {
       "model_id": "2b9d0fb7795a4d738c7f3ee9aa34ded8",
       "version_major": 2,
       "version_minor": 0
      },
      "text/plain": [
       "Analyzing comments:   0%|          | 0/22 [00:00<?, ?comment/s]"
      ]
     },
     "metadata": {},
     "output_type": "display_data"
    },
    {
     "data": {
      "application/vnd.jupyter.widget-view+json": {
       "model_id": "7c7b1bfe718f4ad89bfa613be125c4f2",
       "version_major": 2,
       "version_minor": 0
      },
      "text/plain": [
       "Analyzing comments:   0%|          | 0/50 [00:00<?, ?comment/s]"
      ]
     },
     "metadata": {},
     "output_type": "display_data"
    },
    {
     "data": {
      "application/vnd.jupyter.widget-view+json": {
       "model_id": "4e4e97560c3e4ecca1f0b6947aec0425",
       "version_major": 2,
       "version_minor": 0
      },
      "text/plain": [
       "Analyzing comments:   0%|          | 0/20 [00:00<?, ?comment/s]"
      ]
     },
     "metadata": {},
     "output_type": "display_data"
    },
    {
     "data": {
      "application/vnd.jupyter.widget-view+json": {
       "model_id": "cfd82393259844b49d9f54f4197cc0dd",
       "version_major": 2,
       "version_minor": 0
      },
      "text/plain": [
       "Analyzing comments:   0%|          | 0/17 [00:00<?, ?comment/s]"
      ]
     },
     "metadata": {},
     "output_type": "display_data"
    },
    {
     "data": {
      "application/vnd.jupyter.widget-view+json": {
       "model_id": "ccff6dd45d404bde975387cbc0e7e800",
       "version_major": 2,
       "version_minor": 0
      },
      "text/plain": [
       "Analyzing comments:   0%|          | 0/1 [00:00<?, ?comment/s]"
      ]
     },
     "metadata": {},
     "output_type": "display_data"
    },
    {
     "data": {
      "application/vnd.jupyter.widget-view+json": {
       "model_id": "0add75a3f36a4b74ab929251facdfeff",
       "version_major": 2,
       "version_minor": 0
      },
      "text/plain": [
       "Analyzing comments:   0%|          | 0/9 [00:00<?, ?comment/s]"
      ]
     },
     "metadata": {},
     "output_type": "display_data"
    },
    {
     "data": {
      "application/vnd.jupyter.widget-view+json": {
       "model_id": "9d54995a8dca4da78b8134ce3130b411",
       "version_major": 2,
       "version_minor": 0
      },
      "text/plain": [
       "Analyzing comments:   0%|          | 0/1 [00:00<?, ?comment/s]"
      ]
     },
     "metadata": {},
     "output_type": "display_data"
    },
    {
     "data": {
      "application/vnd.jupyter.widget-view+json": {
       "model_id": "4c074e8c26444d2abe8a3a255eb34f8e",
       "version_major": 2,
       "version_minor": 0
      },
      "text/plain": [
       "Analyzing comments:   0%|          | 0/39 [00:00<?, ?comment/s]"
      ]
     },
     "metadata": {},
     "output_type": "display_data"
    },
    {
     "data": {
      "application/vnd.jupyter.widget-view+json": {
       "model_id": "428aaff336c44f81a08d9badcdbc8939",
       "version_major": 2,
       "version_minor": 0
      },
      "text/plain": [
       "Analyzing comments:   0%|          | 0/23 [00:00<?, ?comment/s]"
      ]
     },
     "metadata": {},
     "output_type": "display_data"
    },
    {
     "data": {
      "application/vnd.jupyter.widget-view+json": {
       "model_id": "df6ad36e9d4c467697a1456fbacd0083",
       "version_major": 2,
       "version_minor": 0
      },
      "text/plain": [
       "Analyzing comments:   0%|          | 0/40 [00:00<?, ?comment/s]"
      ]
     },
     "metadata": {},
     "output_type": "display_data"
    },
    {
     "data": {
      "application/vnd.jupyter.widget-view+json": {
       "model_id": "04861f9785da4ab7867d91e51f111812",
       "version_major": 2,
       "version_minor": 0
      },
      "text/plain": [
       "Analyzing comments:   0%|          | 0/8 [00:00<?, ?comment/s]"
      ]
     },
     "metadata": {},
     "output_type": "display_data"
    },
    {
     "data": {
      "application/vnd.jupyter.widget-view+json": {
       "model_id": "584761e5faa049fd98602c1f488ca819",
       "version_major": 2,
       "version_minor": 0
      },
      "text/plain": [
       "Analyzing comments:   0%|          | 0/39 [00:00<?, ?comment/s]"
      ]
     },
     "metadata": {},
     "output_type": "display_data"
    },
    {
     "data": {
      "application/vnd.jupyter.widget-view+json": {
       "model_id": "95a7adcdaac744838d4ef967c4fe79a5",
       "version_major": 2,
       "version_minor": 0
      },
      "text/plain": [
       "Analyzing comments:   0%|          | 0/29 [00:00<?, ?comment/s]"
      ]
     },
     "metadata": {},
     "output_type": "display_data"
    },
    {
     "data": {
      "application/vnd.jupyter.widget-view+json": {
       "model_id": "b513271def9048a9bbdbeef582b97ccf",
       "version_major": 2,
       "version_minor": 0
      },
      "text/plain": [
       "Analyzing comments:   0%|          | 0/1 [00:00<?, ?comment/s]"
      ]
     },
     "metadata": {},
     "output_type": "display_data"
    },
    {
     "data": {
      "application/vnd.jupyter.widget-view+json": {
       "model_id": "d36c01540bc3433bbba0ca8ad9a14a79",
       "version_major": 2,
       "version_minor": 0
      },
      "text/plain": [
       "Analyzing comments:   0%|          | 0/1 [00:00<?, ?comment/s]"
      ]
     },
     "metadata": {},
     "output_type": "display_data"
    },
    {
     "data": {
      "application/vnd.jupyter.widget-view+json": {
       "model_id": "67b9192880884dc1a91908dfd3525016",
       "version_major": 2,
       "version_minor": 0
      },
      "text/plain": [
       "Analyzing comments:   0%|          | 0/41 [00:00<?, ?comment/s]"
      ]
     },
     "metadata": {},
     "output_type": "display_data"
    },
    {
     "data": {
      "application/vnd.jupyter.widget-view+json": {
       "model_id": "cd8fcf5785514b14a5092e50ca648b2a",
       "version_major": 2,
       "version_minor": 0
      },
      "text/plain": [
       "Analyzing comments:   0%|          | 0/20 [00:00<?, ?comment/s]"
      ]
     },
     "metadata": {},
     "output_type": "display_data"
    },
    {
     "data": {
      "application/vnd.jupyter.widget-view+json": {
       "model_id": "a9796943639740f3931cd95bb4546f41",
       "version_major": 2,
       "version_minor": 0
      },
      "text/plain": [
       "Analyzing comments:   0%|          | 0/43 [00:00<?, ?comment/s]"
      ]
     },
     "metadata": {},
     "output_type": "display_data"
    },
    {
     "data": {
      "application/vnd.jupyter.widget-view+json": {
       "model_id": "ef54ec3dcfa94cd4a67fbd2c4233f615",
       "version_major": 2,
       "version_minor": 0
      },
      "text/plain": [
       "Analyzing comments:   0%|          | 0/48 [00:00<?, ?comment/s]"
      ]
     },
     "metadata": {},
     "output_type": "display_data"
    },
    {
     "data": {
      "application/vnd.jupyter.widget-view+json": {
       "model_id": "3a8ef942117f444481de1756acf1f846",
       "version_major": 2,
       "version_minor": 0
      },
      "text/plain": [
       "Analyzing comments:   0%|          | 0/6 [00:00<?, ?comment/s]"
      ]
     },
     "metadata": {},
     "output_type": "display_data"
    },
    {
     "data": {
      "application/vnd.jupyter.widget-view+json": {
       "model_id": "ca98bce7aafb4fd6a6eb7c1585b7044f",
       "version_major": 2,
       "version_minor": 0
      },
      "text/plain": [
       "Analyzing comments:   0%|          | 0/26 [00:00<?, ?comment/s]"
      ]
     },
     "metadata": {},
     "output_type": "display_data"
    },
    {
     "data": {
      "application/vnd.jupyter.widget-view+json": {
       "model_id": "35f992c83bca4276afb8886a3ff3d9e4",
       "version_major": 2,
       "version_minor": 0
      },
      "text/plain": [
       "Analyzing comments:   0%|          | 0/6 [00:00<?, ?comment/s]"
      ]
     },
     "metadata": {},
     "output_type": "display_data"
    },
    {
     "data": {
      "application/vnd.jupyter.widget-view+json": {
       "model_id": "6fc5979060ab4c1f91ea551a1fe3ec51",
       "version_major": 2,
       "version_minor": 0
      },
      "text/plain": [
       "Analyzing comments:   0%|          | 0/42 [00:00<?, ?comment/s]"
      ]
     },
     "metadata": {},
     "output_type": "display_data"
    },
    {
     "data": {
      "application/vnd.jupyter.widget-view+json": {
       "model_id": "1c0abb606eff48a383fc2efd9e908f9e",
       "version_major": 2,
       "version_minor": 0
      },
      "text/plain": [
       "Analyzing comments:   0%|          | 0/2 [00:00<?, ?comment/s]"
      ]
     },
     "metadata": {},
     "output_type": "display_data"
    },
    {
     "data": {
      "application/vnd.jupyter.widget-view+json": {
       "model_id": "c1904793838241d3b1affc3a7bd7abca",
       "version_major": 2,
       "version_minor": 0
      },
      "text/plain": [
       "Analyzing comments:   0%|          | 0/40 [00:00<?, ?comment/s]"
      ]
     },
     "metadata": {},
     "output_type": "display_data"
    },
    {
     "data": {
      "application/vnd.jupyter.widget-view+json": {
       "model_id": "d71edf2712544cb99b9de57881390884",
       "version_major": 2,
       "version_minor": 0
      },
      "text/plain": [
       "Analyzing comments:   0%|          | 0/9 [00:00<?, ?comment/s]"
      ]
     },
     "metadata": {},
     "output_type": "display_data"
    },
    {
     "data": {
      "application/vnd.jupyter.widget-view+json": {
       "model_id": "fc67c51e03d64f109ea3a3c007c42465",
       "version_major": 2,
       "version_minor": 0
      },
      "text/plain": [
       "Analyzing comments:   0%|          | 0/30 [00:00<?, ?comment/s]"
      ]
     },
     "metadata": {},
     "output_type": "display_data"
    },
    {
     "data": {
      "application/vnd.jupyter.widget-view+json": {
       "model_id": "593440afbd334e9ea17cfec79d4b9193",
       "version_major": 2,
       "version_minor": 0
      },
      "text/plain": [
       "Analyzing comments:   0%|          | 0/24 [00:00<?, ?comment/s]"
      ]
     },
     "metadata": {},
     "output_type": "display_data"
    },
    {
     "data": {
      "application/vnd.jupyter.widget-view+json": {
       "model_id": "180cd2f944ec4d37b82d62723a4b8df5",
       "version_major": 2,
       "version_minor": 0
      },
      "text/plain": [
       "Analyzing comments:   0%|          | 0/41 [00:00<?, ?comment/s]"
      ]
     },
     "metadata": {},
     "output_type": "display_data"
    },
    {
     "data": {
      "application/vnd.jupyter.widget-view+json": {
       "model_id": "f617a46fa85e42c5b23a5bf99b26d9d0",
       "version_major": 2,
       "version_minor": 0
      },
      "text/plain": [
       "Analyzing comments:   0%|          | 0/27 [00:00<?, ?comment/s]"
      ]
     },
     "metadata": {},
     "output_type": "display_data"
    },
    {
     "data": {
      "application/vnd.jupyter.widget-view+json": {
       "model_id": "252e2d6e501946d1bcbc953749555607",
       "version_major": 2,
       "version_minor": 0
      },
      "text/plain": [
       "Analyzing comments:   0%|          | 0/13 [00:00<?, ?comment/s]"
      ]
     },
     "metadata": {},
     "output_type": "display_data"
    },
    {
     "data": {
      "application/vnd.jupyter.widget-view+json": {
       "model_id": "09eddca2fbd64782a277a45096e5b9ac",
       "version_major": 2,
       "version_minor": 0
      },
      "text/plain": [
       "Analyzing comments:   0%|          | 0/38 [00:00<?, ?comment/s]"
      ]
     },
     "metadata": {},
     "output_type": "display_data"
    },
    {
     "data": {
      "application/vnd.jupyter.widget-view+json": {
       "model_id": "53deeac67ebc476ea241f58e66bece6e",
       "version_major": 2,
       "version_minor": 0
      },
      "text/plain": [
       "Analyzing comments:   0%|          | 0/21 [00:00<?, ?comment/s]"
      ]
     },
     "metadata": {},
     "output_type": "display_data"
    },
    {
     "data": {
      "application/vnd.jupyter.widget-view+json": {
       "model_id": "9d8fd698aad1443888a3589f84ec3f52",
       "version_major": 2,
       "version_minor": 0
      },
      "text/plain": [
       "Analyzing comments:   0%|          | 0/15 [00:00<?, ?comment/s]"
      ]
     },
     "metadata": {},
     "output_type": "display_data"
    },
    {
     "data": {
      "application/vnd.jupyter.widget-view+json": {
       "model_id": "0ca4025140ad4e5fa7ed1920ece6b526",
       "version_major": 2,
       "version_minor": 0
      },
      "text/plain": [
       "Analyzing comments:   0%|          | 0/36 [00:00<?, ?comment/s]"
      ]
     },
     "metadata": {},
     "output_type": "display_data"
    },
    {
     "data": {
      "application/vnd.jupyter.widget-view+json": {
       "model_id": "25f802466b664d22bba31422b98c6f9b",
       "version_major": 2,
       "version_minor": 0
      },
      "text/plain": [
       "Analyzing comments:   0%|          | 0/9 [00:00<?, ?comment/s]"
      ]
     },
     "metadata": {},
     "output_type": "display_data"
    },
    {
     "data": {
      "application/vnd.jupyter.widget-view+json": {
       "model_id": "733692d76b6349adb47f403997e788d5",
       "version_major": 2,
       "version_minor": 0
      },
      "text/plain": [
       "Analyzing comments:   0%|          | 0/21 [00:00<?, ?comment/s]"
      ]
     },
     "metadata": {},
     "output_type": "display_data"
    },
    {
     "data": {
      "application/vnd.jupyter.widget-view+json": {
       "model_id": "2237b71b918549108a2588fe83c63f77",
       "version_major": 2,
       "version_minor": 0
      },
      "text/plain": [
       "Analyzing comments:   0%|          | 0/40 [00:00<?, ?comment/s]"
      ]
     },
     "metadata": {},
     "output_type": "display_data"
    },
    {
     "data": {
      "application/vnd.jupyter.widget-view+json": {
       "model_id": "3beb44fa29a34c68819380e6927ed691",
       "version_major": 2,
       "version_minor": 0
      },
      "text/plain": [
       "Analyzing comments:   0%|          | 0/23 [00:00<?, ?comment/s]"
      ]
     },
     "metadata": {},
     "output_type": "display_data"
    },
    {
     "data": {
      "application/vnd.jupyter.widget-view+json": {
       "model_id": "760de42291fd49e7a2cfd564e27ff8ec",
       "version_major": 2,
       "version_minor": 0
      },
      "text/plain": [
       "Analyzing comments:   0%|          | 0/38 [00:00<?, ?comment/s]"
      ]
     },
     "metadata": {},
     "output_type": "display_data"
    },
    {
     "data": {
      "application/vnd.jupyter.widget-view+json": {
       "model_id": "b7c7ceaa5b62481a8d23aab21b8031e8",
       "version_major": 2,
       "version_minor": 0
      },
      "text/plain": [
       "Analyzing comments:   0%|          | 0/60 [00:00<?, ?comment/s]"
      ]
     },
     "metadata": {},
     "output_type": "display_data"
    },
    {
     "data": {
      "application/vnd.jupyter.widget-view+json": {
       "model_id": "f7e4e4ffd453469897d0f5f772a44009",
       "version_major": 2,
       "version_minor": 0
      },
      "text/plain": [
       "Analyzing comments:   0%|          | 0/15 [00:00<?, ?comment/s]"
      ]
     },
     "metadata": {},
     "output_type": "display_data"
    },
    {
     "data": {
      "application/vnd.jupyter.widget-view+json": {
       "model_id": "a0353772b70a411abfcbd88fb4535139",
       "version_major": 2,
       "version_minor": 0
      },
      "text/plain": [
       "Analyzing comments:   0%|          | 0/39 [00:00<?, ?comment/s]"
      ]
     },
     "metadata": {},
     "output_type": "display_data"
    },
    {
     "data": {
      "application/vnd.jupyter.widget-view+json": {
       "model_id": "be23d095bf49415fa7645e1efe523d1b",
       "version_major": 2,
       "version_minor": 0
      },
      "text/plain": [
       "Analyzing comments:   0%|          | 0/9 [00:00<?, ?comment/s]"
      ]
     },
     "metadata": {},
     "output_type": "display_data"
    },
    {
     "data": {
      "application/vnd.jupyter.widget-view+json": {
       "model_id": "dcec0cfb66ba4664a348d9e623d045d8",
       "version_major": 2,
       "version_minor": 0
      },
      "text/plain": [
       "Analyzing comments:   0%|          | 0/18 [00:00<?, ?comment/s]"
      ]
     },
     "metadata": {},
     "output_type": "display_data"
    },
    {
     "data": {
      "application/vnd.jupyter.widget-view+json": {
       "model_id": "ec913d98c5d84378bd4aa13cd20c2ff3",
       "version_major": 2,
       "version_minor": 0
      },
      "text/plain": [
       "Analyzing comments:   0%|          | 0/34 [00:00<?, ?comment/s]"
      ]
     },
     "metadata": {},
     "output_type": "display_data"
    },
    {
     "data": {
      "application/vnd.jupyter.widget-view+json": {
       "model_id": "8a9e375129784104bc5c90c58f7d735b",
       "version_major": 2,
       "version_minor": 0
      },
      "text/plain": [
       "Analyzing comments:   0%|          | 0/13 [00:00<?, ?comment/s]"
      ]
     },
     "metadata": {},
     "output_type": "display_data"
    },
    {
     "data": {
      "application/vnd.jupyter.widget-view+json": {
       "model_id": "2a1d39de002343999653092378668a5e",
       "version_major": 2,
       "version_minor": 0
      },
      "text/plain": [
       "Analyzing comments:   0%|          | 0/9 [00:00<?, ?comment/s]"
      ]
     },
     "metadata": {},
     "output_type": "display_data"
    },
    {
     "data": {
      "application/vnd.jupyter.widget-view+json": {
       "model_id": "c03339d4bc6a4bf8a02d69beefacf605",
       "version_major": 2,
       "version_minor": 0
      },
      "text/plain": [
       "Analyzing comments:   0%|          | 0/2 [00:00<?, ?comment/s]"
      ]
     },
     "metadata": {},
     "output_type": "display_data"
    },
    {
     "data": {
      "application/vnd.jupyter.widget-view+json": {
       "model_id": "24d55deb7f564e6aa52ab4f934b1bb47",
       "version_major": 2,
       "version_minor": 0
      },
      "text/plain": [
       "Analyzing comments:   0%|          | 0/20 [00:00<?, ?comment/s]"
      ]
     },
     "metadata": {},
     "output_type": "display_data"
    },
    {
     "data": {
      "application/vnd.jupyter.widget-view+json": {
       "model_id": "ffd3ee9101bf454ba042168c43551749",
       "version_major": 2,
       "version_minor": 0
      },
      "text/plain": [
       "Analyzing comments:   0%|          | 0/21 [00:00<?, ?comment/s]"
      ]
     },
     "metadata": {},
     "output_type": "display_data"
    },
    {
     "data": {
      "application/vnd.jupyter.widget-view+json": {
       "model_id": "136fa718293a4bcd9a7774fd6c627a1d",
       "version_major": 2,
       "version_minor": 0
      },
      "text/plain": [
       "Analyzing comments:   0%|          | 0/14 [00:00<?, ?comment/s]"
      ]
     },
     "metadata": {},
     "output_type": "display_data"
    },
    {
     "data": {
      "application/vnd.jupyter.widget-view+json": {
       "model_id": "66221edca9444804a25f29c3c076c118",
       "version_major": 2,
       "version_minor": 0
      },
      "text/plain": [
       "Analyzing comments:   0%|          | 0/19 [00:00<?, ?comment/s]"
      ]
     },
     "metadata": {},
     "output_type": "display_data"
    },
    {
     "data": {
      "application/vnd.jupyter.widget-view+json": {
       "model_id": "edc54b3413d44204b19bd45223f19e0b",
       "version_major": 2,
       "version_minor": 0
      },
      "text/plain": [
       "Analyzing comments:   0%|          | 0/13 [00:00<?, ?comment/s]"
      ]
     },
     "metadata": {},
     "output_type": "display_data"
    },
    {
     "data": {
      "application/vnd.jupyter.widget-view+json": {
       "model_id": "3cb60e973ab449be8331aed5577bb782",
       "version_major": 2,
       "version_minor": 0
      },
      "text/plain": [
       "Analyzing comments:   0%|          | 0/20 [00:00<?, ?comment/s]"
      ]
     },
     "metadata": {},
     "output_type": "display_data"
    },
    {
     "data": {
      "application/vnd.jupyter.widget-view+json": {
       "model_id": "88989e0dc4fa4d389563f70c6865238b",
       "version_major": 2,
       "version_minor": 0
      },
      "text/plain": [
       "Analyzing comments:   0%|          | 0/10 [00:00<?, ?comment/s]"
      ]
     },
     "metadata": {},
     "output_type": "display_data"
    },
    {
     "data": {
      "application/vnd.jupyter.widget-view+json": {
       "model_id": "993806be6ed14e02a03514e6238867aa",
       "version_major": 2,
       "version_minor": 0
      },
      "text/plain": [
       "Analyzing comments:   0%|          | 0/21 [00:00<?, ?comment/s]"
      ]
     },
     "metadata": {},
     "output_type": "display_data"
    },
    {
     "data": {
      "application/vnd.jupyter.widget-view+json": {
       "model_id": "dddc65fb38e449e7aca13672c59e11d9",
       "version_major": 2,
       "version_minor": 0
      },
      "text/plain": [
       "Analyzing comments:   0%|          | 0/21 [00:00<?, ?comment/s]"
      ]
     },
     "metadata": {},
     "output_type": "display_data"
    },
    {
     "data": {
      "application/vnd.jupyter.widget-view+json": {
       "model_id": "9b34f1b9cc1b4a28af55656c874a6006",
       "version_major": 2,
       "version_minor": 0
      },
      "text/plain": [
       "Analyzing comments:   0%|          | 0/9 [00:00<?, ?comment/s]"
      ]
     },
     "metadata": {},
     "output_type": "display_data"
    },
    {
     "data": {
      "application/vnd.jupyter.widget-view+json": {
       "model_id": "028622a45b9f46c38587aa965056de40",
       "version_major": 2,
       "version_minor": 0
      },
      "text/plain": [
       "Analyzing comments:   0%|          | 0/20 [00:00<?, ?comment/s]"
      ]
     },
     "metadata": {},
     "output_type": "display_data"
    },
    {
     "data": {
      "application/vnd.jupyter.widget-view+json": {
       "model_id": "2fcddc460f55452ebb89527fac3201dd",
       "version_major": 2,
       "version_minor": 0
      },
      "text/plain": [
       "Analyzing comments:   0%|          | 0/8 [00:00<?, ?comment/s]"
      ]
     },
     "metadata": {},
     "output_type": "display_data"
    },
    {
     "data": {
      "application/vnd.jupyter.widget-view+json": {
       "model_id": "6b9416bca97b485f87f7001df4274d22",
       "version_major": 2,
       "version_minor": 0
      },
      "text/plain": [
       "Analyzing comments:   0%|          | 0/22 [00:00<?, ?comment/s]"
      ]
     },
     "metadata": {},
     "output_type": "display_data"
    },
    {
     "data": {
      "application/vnd.jupyter.widget-view+json": {
       "model_id": "896882508ea94ac28a1b8e2748cb0341",
       "version_major": 2,
       "version_minor": 0
      },
      "text/plain": [
       "Analyzing comments:   0%|          | 0/18 [00:00<?, ?comment/s]"
      ]
     },
     "metadata": {},
     "output_type": "display_data"
    },
    {
     "data": {
      "application/vnd.jupyter.widget-view+json": {
       "model_id": "e5b9af10c2d849839c5e54b08857d9cc",
       "version_major": 2,
       "version_minor": 0
      },
      "text/plain": [
       "Analyzing comments:   0%|          | 0/1 [00:00<?, ?comment/s]"
      ]
     },
     "metadata": {},
     "output_type": "display_data"
    },
    {
     "data": {
      "application/vnd.jupyter.widget-view+json": {
       "model_id": "9066503e8ba7403ca6a91dc257396ec6",
       "version_major": 2,
       "version_minor": 0
      },
      "text/plain": [
       "Analyzing comments:   0%|          | 0/1 [00:00<?, ?comment/s]"
      ]
     },
     "metadata": {},
     "output_type": "display_data"
    },
    {
     "data": {
      "application/vnd.jupyter.widget-view+json": {
       "model_id": "635b33710f2e43f9a2109ba01b0f6ef5",
       "version_major": 2,
       "version_minor": 0
      },
      "text/plain": [
       "Analyzing comments:   0%|          | 0/1 [00:00<?, ?comment/s]"
      ]
     },
     "metadata": {},
     "output_type": "display_data"
    },
    {
     "data": {
      "application/vnd.jupyter.widget-view+json": {
       "model_id": "a67eac8ee992499a985d70a303a1fec0",
       "version_major": 2,
       "version_minor": 0
      },
      "text/plain": [
       "Analyzing comments:   0%|          | 0/40 [00:00<?, ?comment/s]"
      ]
     },
     "metadata": {},
     "output_type": "display_data"
    },
    {
     "data": {
      "application/vnd.jupyter.widget-view+json": {
       "model_id": "e091bce7573b451abe38fa9ff5101ca0",
       "version_major": 2,
       "version_minor": 0
      },
      "text/plain": [
       "Analyzing comments:   0%|          | 0/28 [00:00<?, ?comment/s]"
      ]
     },
     "metadata": {},
     "output_type": "display_data"
    },
    {
     "data": {
      "application/vnd.jupyter.widget-view+json": {
       "model_id": "f0df8eff98af4096adce10e3ee9611eb",
       "version_major": 2,
       "version_minor": 0
      },
      "text/plain": [
       "Analyzing comments: 0comment [00:00, ?comment/s]"
      ]
     },
     "metadata": {},
     "output_type": "display_data"
    },
    {
     "data": {
      "application/vnd.jupyter.widget-view+json": {
       "model_id": "74db0341fbb9485e878cc9c186d2f091",
       "version_major": 2,
       "version_minor": 0
      },
      "text/plain": [
       "Analyzing comments:   0%|          | 0/58 [00:00<?, ?comment/s]"
      ]
     },
     "metadata": {},
     "output_type": "display_data"
    },
    {
     "data": {
      "application/vnd.jupyter.widget-view+json": {
       "model_id": "6f21b7773eab417da7180c0e75ea899b",
       "version_major": 2,
       "version_minor": 0
      },
      "text/plain": [
       "Analyzing comments:   0%|          | 0/24 [00:00<?, ?comment/s]"
      ]
     },
     "metadata": {},
     "output_type": "display_data"
    },
    {
     "data": {
      "application/vnd.jupyter.widget-view+json": {
       "model_id": "952bb7cf8c774923bd966bbf41fbc7b7",
       "version_major": 2,
       "version_minor": 0
      },
      "text/plain": [
       "Analyzing comments:   0%|          | 0/3 [00:00<?, ?comment/s]"
      ]
     },
     "metadata": {},
     "output_type": "display_data"
    },
    {
     "data": {
      "application/vnd.jupyter.widget-view+json": {
       "model_id": "9598382cf6e94fb6857709ef0b672036",
       "version_major": 2,
       "version_minor": 0
      },
      "text/plain": [
       "Analyzing comments:   0%|          | 0/71 [00:00<?, ?comment/s]"
      ]
     },
     "metadata": {},
     "output_type": "display_data"
    },
    {
     "data": {
      "application/vnd.jupyter.widget-view+json": {
       "model_id": "6f66a3c4e4f0455bb743d3bc4bbd768e",
       "version_major": 2,
       "version_minor": 0
      },
      "text/plain": [
       "Analyzing comments:   0%|          | 0/26 [00:00<?, ?comment/s]"
      ]
     },
     "metadata": {},
     "output_type": "display_data"
    },
    {
     "data": {
      "application/vnd.jupyter.widget-view+json": {
       "model_id": "d37a7e06623a4612993e716aa0b3379d",
       "version_major": 2,
       "version_minor": 0
      },
      "text/plain": [
       "Analyzing comments:   0%|          | 0/8 [00:00<?, ?comment/s]"
      ]
     },
     "metadata": {},
     "output_type": "display_data"
    },
    {
     "data": {
      "application/vnd.jupyter.widget-view+json": {
       "model_id": "ae00f99931fe49d9bc5c7108d268c69a",
       "version_major": 2,
       "version_minor": 0
      },
      "text/plain": [
       "Analyzing comments:   0%|          | 0/17 [00:00<?, ?comment/s]"
      ]
     },
     "metadata": {},
     "output_type": "display_data"
    },
    {
     "data": {
      "application/vnd.jupyter.widget-view+json": {
       "model_id": "e65660c2b81e4bf7b90fac328267cbe6",
       "version_major": 2,
       "version_minor": 0
      },
      "text/plain": [
       "Analyzing comments:   0%|          | 0/4 [00:00<?, ?comment/s]"
      ]
     },
     "metadata": {},
     "output_type": "display_data"
    },
    {
     "data": {
      "application/vnd.jupyter.widget-view+json": {
       "model_id": "4721b43a598140bb8c18266303ef211a",
       "version_major": 2,
       "version_minor": 0
      },
      "text/plain": [
       "Analyzing comments:   0%|          | 0/38 [00:00<?, ?comment/s]"
      ]
     },
     "metadata": {},
     "output_type": "display_data"
    },
    {
     "data": {
      "application/vnd.jupyter.widget-view+json": {
       "model_id": "93a4e9d94afa4dc5a8c0134e3a899a4d",
       "version_major": 2,
       "version_minor": 0
      },
      "text/plain": [
       "Analyzing comments:   0%|          | 0/2 [00:00<?, ?comment/s]"
      ]
     },
     "metadata": {},
     "output_type": "display_data"
    },
    {
     "data": {
      "application/vnd.jupyter.widget-view+json": {
       "model_id": "49b1317b1d5045c5b9e0cc82ab5ba90a",
       "version_major": 2,
       "version_minor": 0
      },
      "text/plain": [
       "Analyzing comments:   0%|          | 0/16 [00:00<?, ?comment/s]"
      ]
     },
     "metadata": {},
     "output_type": "display_data"
    },
    {
     "data": {
      "application/vnd.jupyter.widget-view+json": {
       "model_id": "18c46ab4f9004565b3aad7099570de89",
       "version_major": 2,
       "version_minor": 0
      },
      "text/plain": [
       "Analyzing comments:   0%|          | 0/24 [00:00<?, ?comment/s]"
      ]
     },
     "metadata": {},
     "output_type": "display_data"
    },
    {
     "data": {
      "application/vnd.jupyter.widget-view+json": {
       "model_id": "ada93a5ca3f84212aecd8d1c05ca0614",
       "version_major": 2,
       "version_minor": 0
      },
      "text/plain": [
       "Analyzing comments:   0%|          | 0/9 [00:00<?, ?comment/s]"
      ]
     },
     "metadata": {},
     "output_type": "display_data"
    },
    {
     "data": {
      "application/vnd.jupyter.widget-view+json": {
       "model_id": "25b5ec8af157456ea104cb0e2fd6b9d9",
       "version_major": 2,
       "version_minor": 0
      },
      "text/plain": [
       "Analyzing comments:   0%|          | 0/39 [00:00<?, ?comment/s]"
      ]
     },
     "metadata": {},
     "output_type": "display_data"
    },
    {
     "data": {
      "application/vnd.jupyter.widget-view+json": {
       "model_id": "eebf3fa520a0457aae54526b3d603bc6",
       "version_major": 2,
       "version_minor": 0
      },
      "text/plain": [
       "Analyzing comments:   0%|          | 0/2 [00:00<?, ?comment/s]"
      ]
     },
     "metadata": {},
     "output_type": "display_data"
    },
    {
     "data": {
      "application/vnd.jupyter.widget-view+json": {
       "model_id": "fce071198f5541a7af72d4edeffbd612",
       "version_major": 2,
       "version_minor": 0
      },
      "text/plain": [
       "Analyzing comments:   0%|          | 0/1 [00:00<?, ?comment/s]"
      ]
     },
     "metadata": {},
     "output_type": "display_data"
    },
    {
     "data": {
      "application/vnd.jupyter.widget-view+json": {
       "model_id": "fea9a4f7fd0045279ae7dbdbbacd7fda",
       "version_major": 2,
       "version_minor": 0
      },
      "text/plain": [
       "Analyzing comments:   0%|          | 0/2 [00:00<?, ?comment/s]"
      ]
     },
     "metadata": {},
     "output_type": "display_data"
    },
    {
     "data": {
      "application/vnd.jupyter.widget-view+json": {
       "model_id": "af7319b672cd4721a2d0798e5852267a",
       "version_major": 2,
       "version_minor": 0
      },
      "text/plain": [
       "Analyzing comments:   0%|          | 0/1 [00:00<?, ?comment/s]"
      ]
     },
     "metadata": {},
     "output_type": "display_data"
    },
    {
     "data": {
      "application/vnd.jupyter.widget-view+json": {
       "model_id": "5ab5a26f0bd54f58a20553d4289f50c2",
       "version_major": 2,
       "version_minor": 0
      },
      "text/plain": [
       "Analyzing comments:   0%|          | 0/3 [00:00<?, ?comment/s]"
      ]
     },
     "metadata": {},
     "output_type": "display_data"
    },
    {
     "data": {
      "application/vnd.jupyter.widget-view+json": {
       "model_id": "6d1dba8579304d67ac74152128fc21b6",
       "version_major": 2,
       "version_minor": 0
      },
      "text/plain": [
       "Analyzing comments:   0%|          | 0/6 [00:00<?, ?comment/s]"
      ]
     },
     "metadata": {},
     "output_type": "display_data"
    },
    {
     "data": {
      "application/vnd.jupyter.widget-view+json": {
       "model_id": "ce05972d2acd41488b5a03865ca8c113",
       "version_major": 2,
       "version_minor": 0
      },
      "text/plain": [
       "Analyzing comments:   0%|          | 0/1 [00:00<?, ?comment/s]"
      ]
     },
     "metadata": {},
     "output_type": "display_data"
    },
    {
     "data": {
      "application/vnd.jupyter.widget-view+json": {
       "model_id": "da3f4d7858ff4b7c84c9a67bc1076c5d",
       "version_major": 2,
       "version_minor": 0
      },
      "text/plain": [
       "Analyzing comments: 0comment [00:00, ?comment/s]"
      ]
     },
     "metadata": {},
     "output_type": "display_data"
    },
    {
     "data": {
      "application/vnd.jupyter.widget-view+json": {
       "model_id": "ebc3a66c5ed740bb88a8cb1255dd7ad7",
       "version_major": 2,
       "version_minor": 0
      },
      "text/plain": [
       "Analyzing comments:   0%|          | 0/17 [00:00<?, ?comment/s]"
      ]
     },
     "metadata": {},
     "output_type": "display_data"
    },
    {
     "data": {
      "application/vnd.jupyter.widget-view+json": {
       "model_id": "8b49990aa2ce46f99e5a97916e53cbc7",
       "version_major": 2,
       "version_minor": 0
      },
      "text/plain": [
       "Analyzing comments:   0%|          | 0/1 [00:00<?, ?comment/s]"
      ]
     },
     "metadata": {},
     "output_type": "display_data"
    },
    {
     "data": {
      "application/vnd.jupyter.widget-view+json": {
       "model_id": "97ae77596d9d42728ab0b9aa6aeff48c",
       "version_major": 2,
       "version_minor": 0
      },
      "text/plain": [
       "Analyzing comments:   0%|          | 0/33 [00:00<?, ?comment/s]"
      ]
     },
     "metadata": {},
     "output_type": "display_data"
    },
    {
     "data": {
      "application/vnd.jupyter.widget-view+json": {
       "model_id": "5efac4d57c7349508a6cf5c843f87fb6",
       "version_major": 2,
       "version_minor": 0
      },
      "text/plain": [
       "Analyzing comments:   0%|          | 0/41 [00:00<?, ?comment/s]"
      ]
     },
     "metadata": {},
     "output_type": "display_data"
    },
    {
     "data": {
      "application/vnd.jupyter.widget-view+json": {
       "model_id": "631f6d80657f4c7bb8d32f366fc1bf91",
       "version_major": 2,
       "version_minor": 0
      },
      "text/plain": [
       "Analyzing comments:   0%|          | 0/5 [00:00<?, ?comment/s]"
      ]
     },
     "metadata": {},
     "output_type": "display_data"
    },
    {
     "data": {
      "application/vnd.jupyter.widget-view+json": {
       "model_id": "9bbbff43bb2e4356938d46a46f5c5890",
       "version_major": 2,
       "version_minor": 0
      },
      "text/plain": [
       "Analyzing comments:   0%|          | 0/36 [00:00<?, ?comment/s]"
      ]
     },
     "metadata": {},
     "output_type": "display_data"
    },
    {
     "data": {
      "application/vnd.jupyter.widget-view+json": {
       "model_id": "ae95710ae14b4603a55505b556880905",
       "version_major": 2,
       "version_minor": 0
      },
      "text/plain": [
       "Analyzing comments:   0%|          | 0/32 [00:00<?, ?comment/s]"
      ]
     },
     "metadata": {},
     "output_type": "display_data"
    },
    {
     "data": {
      "application/vnd.jupyter.widget-view+json": {
       "model_id": "5a9c6d86445c4a1599e18ff78681676e",
       "version_major": 2,
       "version_minor": 0
      },
      "text/plain": [
       "Analyzing comments:   0%|          | 0/53 [00:00<?, ?comment/s]"
      ]
     },
     "metadata": {},
     "output_type": "display_data"
    },
    {
     "data": {
      "application/vnd.jupyter.widget-view+json": {
       "model_id": "04be491617b34c3d92d460cb31eaffd2",
       "version_major": 2,
       "version_minor": 0
      },
      "text/plain": [
       "Analyzing comments:   0%|          | 0/21 [00:00<?, ?comment/s]"
      ]
     },
     "metadata": {},
     "output_type": "display_data"
    },
    {
     "data": {
      "application/vnd.jupyter.widget-view+json": {
       "model_id": "c2f0cef66f6141698ebd83c5c82db627",
       "version_major": 2,
       "version_minor": 0
      },
      "text/plain": [
       "Analyzing comments:   0%|          | 0/9 [00:00<?, ?comment/s]"
      ]
     },
     "metadata": {},
     "output_type": "display_data"
    },
    {
     "data": {
      "application/vnd.jupyter.widget-view+json": {
       "model_id": "95a82f7660d44dffa2711acce42bc93c",
       "version_major": 2,
       "version_minor": 0
      },
      "text/plain": [
       "Analyzing comments:   0%|          | 0/17 [00:00<?, ?comment/s]"
      ]
     },
     "metadata": {},
     "output_type": "display_data"
    },
    {
     "data": {
      "application/vnd.jupyter.widget-view+json": {
       "model_id": "c5da8971f1db46d987d64691126ef6fa",
       "version_major": 2,
       "version_minor": 0
      },
      "text/plain": [
       "Analyzing comments:   0%|          | 0/1 [00:00<?, ?comment/s]"
      ]
     },
     "metadata": {},
     "output_type": "display_data"
    },
    {
     "data": {
      "application/vnd.jupyter.widget-view+json": {
       "model_id": "06e2f281f64e4eeca56066e7ac7a206c",
       "version_major": 2,
       "version_minor": 0
      },
      "text/plain": [
       "Analyzing comments:   0%|          | 0/2 [00:00<?, ?comment/s]"
      ]
     },
     "metadata": {},
     "output_type": "display_data"
    },
    {
     "data": {
      "application/vnd.jupyter.widget-view+json": {
       "model_id": "0c2cfd6c6559497382e7e48a6216833a",
       "version_major": 2,
       "version_minor": 0
      },
      "text/plain": [
       "Analyzing comments:   0%|          | 0/41 [00:00<?, ?comment/s]"
      ]
     },
     "metadata": {},
     "output_type": "display_data"
    },
    {
     "data": {
      "application/vnd.jupyter.widget-view+json": {
       "model_id": "617b1c3e6c8546dba7434be49801b252",
       "version_major": 2,
       "version_minor": 0
      },
      "text/plain": [
       "Analyzing comments:   0%|          | 0/37 [00:00<?, ?comment/s]"
      ]
     },
     "metadata": {},
     "output_type": "display_data"
    },
    {
     "data": {
      "application/vnd.jupyter.widget-view+json": {
       "model_id": "06535d1b935a4b70883d8392ec3551d6",
       "version_major": 2,
       "version_minor": 0
      },
      "text/plain": [
       "Analyzing comments:   0%|          | 0/5 [00:00<?, ?comment/s]"
      ]
     },
     "metadata": {},
     "output_type": "display_data"
    },
    {
     "data": {
      "application/vnd.jupyter.widget-view+json": {
       "model_id": "0d08cea4ab8342c9acae845326be6b79",
       "version_major": 2,
       "version_minor": 0
      },
      "text/plain": [
       "Analyzing comments:   0%|          | 0/41 [00:00<?, ?comment/s]"
      ]
     },
     "metadata": {},
     "output_type": "display_data"
    },
    {
     "data": {
      "application/vnd.jupyter.widget-view+json": {
       "model_id": "78b02d76f10044aba102a68fa187d80c",
       "version_major": 2,
       "version_minor": 0
      },
      "text/plain": [
       "Analyzing comments:   0%|          | 0/12 [00:00<?, ?comment/s]"
      ]
     },
     "metadata": {},
     "output_type": "display_data"
    },
    {
     "data": {
      "application/vnd.jupyter.widget-view+json": {
       "model_id": "2c806ae40b9f45fda7b8f7124d9f850c",
       "version_major": 2,
       "version_minor": 0
      },
      "text/plain": [
       "Analyzing comments:   0%|          | 0/1 [00:00<?, ?comment/s]"
      ]
     },
     "metadata": {},
     "output_type": "display_data"
    },
    {
     "data": {
      "application/vnd.jupyter.widget-view+json": {
       "model_id": "63d05e49d23449e7afda24dc8e569d58",
       "version_major": 2,
       "version_minor": 0
      },
      "text/plain": [
       "Analyzing comments:   0%|          | 0/34 [00:00<?, ?comment/s]"
      ]
     },
     "metadata": {},
     "output_type": "display_data"
    },
    {
     "data": {
      "application/vnd.jupyter.widget-view+json": {
       "model_id": "61451acdaf5e4861a9c296b378facbdb",
       "version_major": 2,
       "version_minor": 0
      },
      "text/plain": [
       "Analyzing comments:   0%|          | 0/18 [00:00<?, ?comment/s]"
      ]
     },
     "metadata": {},
     "output_type": "display_data"
    },
    {
     "data": {
      "application/vnd.jupyter.widget-view+json": {
       "model_id": "5d989d74100a40aaa4aa9d745da66235",
       "version_major": 2,
       "version_minor": 0
      },
      "text/plain": [
       "Analyzing comments:   0%|          | 0/43 [00:00<?, ?comment/s]"
      ]
     },
     "metadata": {},
     "output_type": "display_data"
    },
    {
     "data": {
      "application/vnd.jupyter.widget-view+json": {
       "model_id": "0414c9d12de94014a617e84ae37bdd5f",
       "version_major": 2,
       "version_minor": 0
      },
      "text/plain": [
       "Analyzing comments:   0%|          | 0/36 [00:00<?, ?comment/s]"
      ]
     },
     "metadata": {},
     "output_type": "display_data"
    },
    {
     "data": {
      "application/vnd.jupyter.widget-view+json": {
       "model_id": "74ad5fca77894b509a07e146191f78ba",
       "version_major": 2,
       "version_minor": 0
      },
      "text/plain": [
       "Analyzing comments:   0%|          | 0/37 [00:00<?, ?comment/s]"
      ]
     },
     "metadata": {},
     "output_type": "display_data"
    },
    {
     "data": {
      "application/vnd.jupyter.widget-view+json": {
       "model_id": "c6556fa111bd46b696ddd44d3c4b13ca",
       "version_major": 2,
       "version_minor": 0
      },
      "text/plain": [
       "Analyzing comments:   0%|          | 0/1 [00:00<?, ?comment/s]"
      ]
     },
     "metadata": {},
     "output_type": "display_data"
    },
    {
     "data": {
      "application/vnd.jupyter.widget-view+json": {
       "model_id": "9742a4811b67423393289d955fcb5281",
       "version_major": 2,
       "version_minor": 0
      },
      "text/plain": [
       "Analyzing comments:   0%|          | 0/36 [00:00<?, ?comment/s]"
      ]
     },
     "metadata": {},
     "output_type": "display_data"
    },
    {
     "data": {
      "application/vnd.jupyter.widget-view+json": {
       "model_id": "4bd16534ca9e405e88b5cd78c8751530",
       "version_major": 2,
       "version_minor": 0
      },
      "text/plain": [
       "Analyzing comments:   0%|          | 0/39 [00:00<?, ?comment/s]"
      ]
     },
     "metadata": {},
     "output_type": "display_data"
    },
    {
     "data": {
      "application/vnd.jupyter.widget-view+json": {
       "model_id": "12519d15ac0c4ba69a528522a2f6df38",
       "version_major": 2,
       "version_minor": 0
      },
      "text/plain": [
       "Analyzing comments:   0%|          | 0/36 [00:00<?, ?comment/s]"
      ]
     },
     "metadata": {},
     "output_type": "display_data"
    },
    {
     "data": {
      "application/vnd.jupyter.widget-view+json": {
       "model_id": "96cf44953b4043a7a72007bec7a64c97",
       "version_major": 2,
       "version_minor": 0
      },
      "text/plain": [
       "Analyzing comments:   0%|          | 0/60 [00:00<?, ?comment/s]"
      ]
     },
     "metadata": {},
     "output_type": "display_data"
    },
    {
     "data": {
      "application/vnd.jupyter.widget-view+json": {
       "model_id": "7a4d5a7d791e42cab308d350ef789ebd",
       "version_major": 2,
       "version_minor": 0
      },
      "text/plain": [
       "Analyzing comments:   0%|          | 0/7 [00:00<?, ?comment/s]"
      ]
     },
     "metadata": {},
     "output_type": "display_data"
    },
    {
     "data": {
      "application/vnd.jupyter.widget-view+json": {
       "model_id": "745878e415ea4d12b3595145d58a24a0",
       "version_major": 2,
       "version_minor": 0
      },
      "text/plain": [
       "Analyzing comments:   0%|          | 0/9 [00:00<?, ?comment/s]"
      ]
     },
     "metadata": {},
     "output_type": "display_data"
    },
    {
     "data": {
      "application/vnd.jupyter.widget-view+json": {
       "model_id": "2ff48289cf9d4cc8bf00d8e69fac8600",
       "version_major": 2,
       "version_minor": 0
      },
      "text/plain": [
       "Analyzing comments:   0%|          | 0/2 [00:00<?, ?comment/s]"
      ]
     },
     "metadata": {},
     "output_type": "display_data"
    },
    {
     "data": {
      "application/vnd.jupyter.widget-view+json": {
       "model_id": "57de6ad0f8e54b05872683c670bae19e",
       "version_major": 2,
       "version_minor": 0
      },
      "text/plain": [
       "Analyzing comments:   0%|          | 0/8 [00:00<?, ?comment/s]"
      ]
     },
     "metadata": {},
     "output_type": "display_data"
    },
    {
     "data": {
      "application/vnd.jupyter.widget-view+json": {
       "model_id": "ab7d5c26bd7349d0b473ba71407b4e67",
       "version_major": 2,
       "version_minor": 0
      },
      "text/plain": [
       "Analyzing comments:   0%|          | 0/43 [00:00<?, ?comment/s]"
      ]
     },
     "metadata": {},
     "output_type": "display_data"
    },
    {
     "data": {
      "application/vnd.jupyter.widget-view+json": {
       "model_id": "982a36dd6e2c4b12b9bbd917b6f44910",
       "version_major": 2,
       "version_minor": 0
      },
      "text/plain": [
       "Analyzing comments:   0%|          | 0/48 [00:00<?, ?comment/s]"
      ]
     },
     "metadata": {},
     "output_type": "display_data"
    },
    {
     "data": {
      "application/vnd.jupyter.widget-view+json": {
       "model_id": "90e058fcd60448fcbe76fa946cd4cf88",
       "version_major": 2,
       "version_minor": 0
      },
      "text/plain": [
       "Analyzing comments:   0%|          | 0/24 [00:00<?, ?comment/s]"
      ]
     },
     "metadata": {},
     "output_type": "display_data"
    },
    {
     "data": {
      "application/vnd.jupyter.widget-view+json": {
       "model_id": "e0d83a367f734c2fa0233b1906bfb73b",
       "version_major": 2,
       "version_minor": 0
      },
      "text/plain": [
       "Analyzing comments:   0%|          | 0/33 [00:00<?, ?comment/s]"
      ]
     },
     "metadata": {},
     "output_type": "display_data"
    },
    {
     "data": {
      "application/vnd.jupyter.widget-view+json": {
       "model_id": "7ddfe64106ff4ed9993455a17f976927",
       "version_major": 2,
       "version_minor": 0
      },
      "text/plain": [
       "Analyzing comments:   0%|          | 0/37 [00:00<?, ?comment/s]"
      ]
     },
     "metadata": {},
     "output_type": "display_data"
    },
    {
     "data": {
      "application/vnd.jupyter.widget-view+json": {
       "model_id": "440055274a6f4a96a4bf372d71271e98",
       "version_major": 2,
       "version_minor": 0
      },
      "text/plain": [
       "Analyzing comments:   0%|          | 0/16 [00:00<?, ?comment/s]"
      ]
     },
     "metadata": {},
     "output_type": "display_data"
    },
    {
     "data": {
      "application/vnd.jupyter.widget-view+json": {
       "model_id": "188ca1777d244725894c1e1b789a6204",
       "version_major": 2,
       "version_minor": 0
      },
      "text/plain": [
       "Analyzing comments:   0%|          | 0/38 [00:00<?, ?comment/s]"
      ]
     },
     "metadata": {},
     "output_type": "display_data"
    },
    {
     "data": {
      "application/vnd.jupyter.widget-view+json": {
       "model_id": "e9fa3a1eddce412f8783c487fbca9a9b",
       "version_major": 2,
       "version_minor": 0
      },
      "text/plain": [
       "Analyzing comments:   0%|          | 0/11 [00:00<?, ?comment/s]"
      ]
     },
     "metadata": {},
     "output_type": "display_data"
    },
    {
     "data": {
      "application/vnd.jupyter.widget-view+json": {
       "model_id": "2ad9d0cda126442cae8988ebc2863bf4",
       "version_major": 2,
       "version_minor": 0
      },
      "text/plain": [
       "Analyzing comments:   0%|          | 0/41 [00:00<?, ?comment/s]"
      ]
     },
     "metadata": {},
     "output_type": "display_data"
    },
    {
     "data": {
      "application/vnd.jupyter.widget-view+json": {
       "model_id": "fdc596c328b443a2bf8575ee36cfeecf",
       "version_major": 2,
       "version_minor": 0
      },
      "text/plain": [
       "Analyzing comments:   0%|          | 0/26 [00:00<?, ?comment/s]"
      ]
     },
     "metadata": {},
     "output_type": "display_data"
    },
    {
     "data": {
      "application/vnd.jupyter.widget-view+json": {
       "model_id": "adb47078f839487698abce65444e6846",
       "version_major": 2,
       "version_minor": 0
      },
      "text/plain": [
       "Analyzing comments:   0%|          | 0/4 [00:00<?, ?comment/s]"
      ]
     },
     "metadata": {},
     "output_type": "display_data"
    },
    {
     "data": {
      "application/vnd.jupyter.widget-view+json": {
       "model_id": "7faf5ffb2bcc47eca64ca393d0c250b2",
       "version_major": 2,
       "version_minor": 0
      },
      "text/plain": [
       "Analyzing comments:   0%|          | 0/9 [00:00<?, ?comment/s]"
      ]
     },
     "metadata": {},
     "output_type": "display_data"
    },
    {
     "data": {
      "application/vnd.jupyter.widget-view+json": {
       "model_id": "bcaf767b305f4ce4b5df450d3d5dfdb1",
       "version_major": 2,
       "version_minor": 0
      },
      "text/plain": [
       "Analyzing comments:   0%|          | 0/11 [00:00<?, ?comment/s]"
      ]
     },
     "metadata": {},
     "output_type": "display_data"
    },
    {
     "data": {
      "application/vnd.jupyter.widget-view+json": {
       "model_id": "9b739ce723c8435399e3e3894b9897a2",
       "version_major": 2,
       "version_minor": 0
      },
      "text/plain": [
       "Analyzing comments:   0%|          | 0/3 [00:00<?, ?comment/s]"
      ]
     },
     "metadata": {},
     "output_type": "display_data"
    },
    {
     "data": {
      "application/vnd.jupyter.widget-view+json": {
       "model_id": "c1622f50d0014d6d9a8ec91f59e35ab1",
       "version_major": 2,
       "version_minor": 0
      },
      "text/plain": [
       "Analyzing comments:   0%|          | 0/12 [00:00<?, ?comment/s]"
      ]
     },
     "metadata": {},
     "output_type": "display_data"
    },
    {
     "data": {
      "application/vnd.jupyter.widget-view+json": {
       "model_id": "1f5498a5d3224b6584c8b6cc8dc249fb",
       "version_major": 2,
       "version_minor": 0
      },
      "text/plain": [
       "Analyzing comments:   0%|          | 0/2 [00:00<?, ?comment/s]"
      ]
     },
     "metadata": {},
     "output_type": "display_data"
    },
    {
     "data": {
      "application/vnd.jupyter.widget-view+json": {
       "model_id": "804b64e3f84e4f9a971a2b43fcc4bc82",
       "version_major": 2,
       "version_minor": 0
      },
      "text/plain": [
       "Analyzing comments:   0%|          | 0/1 [00:00<?, ?comment/s]"
      ]
     },
     "metadata": {},
     "output_type": "display_data"
    },
    {
     "data": {
      "application/vnd.jupyter.widget-view+json": {
       "model_id": "3d95e1c67beb468e87ef91e4a9e7022a",
       "version_major": 2,
       "version_minor": 0
      },
      "text/plain": [
       "Analyzing comments:   0%|          | 0/25 [00:00<?, ?comment/s]"
      ]
     },
     "metadata": {},
     "output_type": "display_data"
    },
    {
     "data": {
      "application/vnd.jupyter.widget-view+json": {
       "model_id": "e0c1c107512b4876aad4820cfdac236b",
       "version_major": 2,
       "version_minor": 0
      },
      "text/plain": [
       "Analyzing comments:   0%|          | 0/37 [00:00<?, ?comment/s]"
      ]
     },
     "metadata": {},
     "output_type": "display_data"
    },
    {
     "data": {
      "application/vnd.jupyter.widget-view+json": {
       "model_id": "447e589d02bf474aa1c664105e22db8d",
       "version_major": 2,
       "version_minor": 0
      },
      "text/plain": [
       "Analyzing comments:   0%|          | 0/32 [00:00<?, ?comment/s]"
      ]
     },
     "metadata": {},
     "output_type": "display_data"
    },
    {
     "data": {
      "application/vnd.jupyter.widget-view+json": {
       "model_id": "26567e1d3ebf4a4e9b0ddf00c96ac6e0",
       "version_major": 2,
       "version_minor": 0
      },
      "text/plain": [
       "Analyzing comments:   0%|          | 0/22 [00:00<?, ?comment/s]"
      ]
     },
     "metadata": {},
     "output_type": "display_data"
    },
    {
     "data": {
      "application/vnd.jupyter.widget-view+json": {
       "model_id": "f061e489e6614a2f979c6bdac7e607f1",
       "version_major": 2,
       "version_minor": 0
      },
      "text/plain": [
       "Analyzing comments:   0%|          | 0/11 [00:00<?, ?comment/s]"
      ]
     },
     "metadata": {},
     "output_type": "display_data"
    },
    {
     "data": {
      "application/vnd.jupyter.widget-view+json": {
       "model_id": "4ddbbbd55b5b432c9cb0453721589419",
       "version_major": 2,
       "version_minor": 0
      },
      "text/plain": [
       "Analyzing comments:   0%|          | 0/59 [00:00<?, ?comment/s]"
      ]
     },
     "metadata": {},
     "output_type": "display_data"
    },
    {
     "data": {
      "application/vnd.jupyter.widget-view+json": {
       "model_id": "7026325febba4c14a65c2634804c5d61",
       "version_major": 2,
       "version_minor": 0
      },
      "text/plain": [
       "Analyzing comments:   0%|          | 0/35 [00:00<?, ?comment/s]"
      ]
     },
     "metadata": {},
     "output_type": "display_data"
    },
    {
     "data": {
      "application/vnd.jupyter.widget-view+json": {
       "model_id": "f21f72852f9448aa9f0bb41f953ff04e",
       "version_major": 2,
       "version_minor": 0
      },
      "text/plain": [
       "Analyzing comments:   0%|          | 0/29 [00:00<?, ?comment/s]"
      ]
     },
     "metadata": {},
     "output_type": "display_data"
    },
    {
     "data": {
      "application/vnd.jupyter.widget-view+json": {
       "model_id": "2397c54b5cd6452487a9cb8ef5aad963",
       "version_major": 2,
       "version_minor": 0
      },
      "text/plain": [
       "Analyzing comments:   0%|          | 0/8 [00:00<?, ?comment/s]"
      ]
     },
     "metadata": {},
     "output_type": "display_data"
    },
    {
     "data": {
      "application/vnd.jupyter.widget-view+json": {
       "model_id": "461b5e003e604b27a750da2518ed6928",
       "version_major": 2,
       "version_minor": 0
      },
      "text/plain": [
       "Analyzing comments:   0%|          | 0/4 [00:00<?, ?comment/s]"
      ]
     },
     "metadata": {},
     "output_type": "display_data"
    },
    {
     "data": {
      "application/vnd.jupyter.widget-view+json": {
       "model_id": "62db0a18182d48b8a646986ca83283b7",
       "version_major": 2,
       "version_minor": 0
      },
      "text/plain": [
       "Analyzing comments:   0%|          | 0/5 [00:00<?, ?comment/s]"
      ]
     },
     "metadata": {},
     "output_type": "display_data"
    },
    {
     "data": {
      "application/vnd.jupyter.widget-view+json": {
       "model_id": "41e4bac818384259b3cc4d2804b653a1",
       "version_major": 2,
       "version_minor": 0
      },
      "text/plain": [
       "Analyzing comments:   0%|          | 0/2 [00:00<?, ?comment/s]"
      ]
     },
     "metadata": {},
     "output_type": "display_data"
    },
    {
     "data": {
      "application/vnd.jupyter.widget-view+json": {
       "model_id": "816a451e3cd2462fbcc135c481e09096",
       "version_major": 2,
       "version_minor": 0
      },
      "text/plain": [
       "Analyzing comments:   0%|          | 0/21 [00:00<?, ?comment/s]"
      ]
     },
     "metadata": {},
     "output_type": "display_data"
    },
    {
     "data": {
      "application/vnd.jupyter.widget-view+json": {
       "model_id": "a79e0980dabf408fa307d5c590085e33",
       "version_major": 2,
       "version_minor": 0
      },
      "text/plain": [
       "Analyzing comments:   0%|          | 0/29 [00:00<?, ?comment/s]"
      ]
     },
     "metadata": {},
     "output_type": "display_data"
    },
    {
     "data": {
      "application/vnd.jupyter.widget-view+json": {
       "model_id": "6d69f7a6c5aa46e8a9d0974e239e9fbf",
       "version_major": 2,
       "version_minor": 0
      },
      "text/plain": [
       "Analyzing comments:   0%|          | 0/1 [00:00<?, ?comment/s]"
      ]
     },
     "metadata": {},
     "output_type": "display_data"
    },
    {
     "data": {
      "application/vnd.jupyter.widget-view+json": {
       "model_id": "e77d6a8a7e68498694220a6aac6b5ae9",
       "version_major": 2,
       "version_minor": 0
      },
      "text/plain": [
       "Analyzing comments:   0%|          | 0/3 [00:00<?, ?comment/s]"
      ]
     },
     "metadata": {},
     "output_type": "display_data"
    },
    {
     "data": {
      "application/vnd.jupyter.widget-view+json": {
       "model_id": "ebce3a1239d74c5b8cb98306363e78da",
       "version_major": 2,
       "version_minor": 0
      },
      "text/plain": [
       "Analyzing comments:   0%|          | 0/6 [00:00<?, ?comment/s]"
      ]
     },
     "metadata": {},
     "output_type": "display_data"
    },
    {
     "data": {
      "application/vnd.jupyter.widget-view+json": {
       "model_id": "56fbecc18bf14bfca2b4e9b3d32fd134",
       "version_major": 2,
       "version_minor": 0
      },
      "text/plain": [
       "Analyzing comments:   0%|          | 0/2 [00:00<?, ?comment/s]"
      ]
     },
     "metadata": {},
     "output_type": "display_data"
    },
    {
     "data": {
      "application/vnd.jupyter.widget-view+json": {
       "model_id": "cf0c5f348eb849e291e87e61b109d3c2",
       "version_major": 2,
       "version_minor": 0
      },
      "text/plain": [
       "Analyzing comments:   0%|          | 0/38 [00:00<?, ?comment/s]"
      ]
     },
     "metadata": {},
     "output_type": "display_data"
    },
    {
     "data": {
      "application/vnd.jupyter.widget-view+json": {
       "model_id": "c9daae117e9147fc8d27d91de4584fc7",
       "version_major": 2,
       "version_minor": 0
      },
      "text/plain": [
       "Analyzing comments:   0%|          | 0/6 [00:00<?, ?comment/s]"
      ]
     },
     "metadata": {},
     "output_type": "display_data"
    },
    {
     "data": {
      "application/vnd.jupyter.widget-view+json": {
       "model_id": "001308b877f34469bbf67656fa6c3b4a",
       "version_major": 2,
       "version_minor": 0
      },
      "text/plain": [
       "Analyzing comments:   0%|          | 0/21 [00:00<?, ?comment/s]"
      ]
     },
     "metadata": {},
     "output_type": "display_data"
    },
    {
     "data": {
      "application/vnd.jupyter.widget-view+json": {
       "model_id": "b193d40d2ae34b14afcd2dc933aae567",
       "version_major": 2,
       "version_minor": 0
      },
      "text/plain": [
       "Analyzing comments:   0%|          | 0/2 [00:00<?, ?comment/s]"
      ]
     },
     "metadata": {},
     "output_type": "display_data"
    },
    {
     "data": {
      "application/vnd.jupyter.widget-view+json": {
       "model_id": "3463de1bafe344879717f7b3469846e0",
       "version_major": 2,
       "version_minor": 0
      },
      "text/plain": [
       "Analyzing comments:   0%|          | 0/4 [00:00<?, ?comment/s]"
      ]
     },
     "metadata": {},
     "output_type": "display_data"
    },
    {
     "data": {
      "application/vnd.jupyter.widget-view+json": {
       "model_id": "6f168536594c4378a0c94fc4cd54d47f",
       "version_major": 2,
       "version_minor": 0
      },
      "text/plain": [
       "Analyzing comments:   0%|          | 0/31 [00:00<?, ?comment/s]"
      ]
     },
     "metadata": {},
     "output_type": "display_data"
    },
    {
     "data": {
      "application/vnd.jupyter.widget-view+json": {
       "model_id": "d50b1642d2374b79860a5952a4f938ee",
       "version_major": 2,
       "version_minor": 0
      },
      "text/plain": [
       "Analyzing comments:   0%|          | 0/37 [00:00<?, ?comment/s]"
      ]
     },
     "metadata": {},
     "output_type": "display_data"
    },
    {
     "data": {
      "application/vnd.jupyter.widget-view+json": {
       "model_id": "4feba90b653c412d840343c99ef169b1",
       "version_major": 2,
       "version_minor": 0
      },
      "text/plain": [
       "Analyzing comments:   0%|          | 0/15 [00:00<?, ?comment/s]"
      ]
     },
     "metadata": {},
     "output_type": "display_data"
    },
    {
     "data": {
      "application/vnd.jupyter.widget-view+json": {
       "model_id": "20648463c4a54e309375d9a29c9c7098",
       "version_major": 2,
       "version_minor": 0
      },
      "text/plain": [
       "Analyzing comments:   0%|          | 0/7 [00:00<?, ?comment/s]"
      ]
     },
     "metadata": {},
     "output_type": "display_data"
    },
    {
     "data": {
      "application/vnd.jupyter.widget-view+json": {
       "model_id": "ab4823d794c247d7aaea72d230076f7b",
       "version_major": 2,
       "version_minor": 0
      },
      "text/plain": [
       "Analyzing comments:   0%|          | 0/2 [00:00<?, ?comment/s]"
      ]
     },
     "metadata": {},
     "output_type": "display_data"
    },
    {
     "data": {
      "application/vnd.jupyter.widget-view+json": {
       "model_id": "0ca970f9c8e14924817b7b96b71492cc",
       "version_major": 2,
       "version_minor": 0
      },
      "text/plain": [
       "Analyzing comments:   0%|          | 0/8 [00:00<?, ?comment/s]"
      ]
     },
     "metadata": {},
     "output_type": "display_data"
    },
    {
     "data": {
      "application/vnd.jupyter.widget-view+json": {
       "model_id": "4e2db6e834f941918ccf6ba36f66180c",
       "version_major": 2,
       "version_minor": 0
      },
      "text/plain": [
       "Analyzing comments:   0%|          | 0/31 [00:00<?, ?comment/s]"
      ]
     },
     "metadata": {},
     "output_type": "display_data"
    },
    {
     "data": {
      "application/vnd.jupyter.widget-view+json": {
       "model_id": "8406ded53b4b48beb0b27d8cee74cfac",
       "version_major": 2,
       "version_minor": 0
      },
      "text/plain": [
       "Analyzing comments:   0%|          | 0/11 [00:00<?, ?comment/s]"
      ]
     },
     "metadata": {},
     "output_type": "display_data"
    },
    {
     "data": {
      "application/vnd.jupyter.widget-view+json": {
       "model_id": "f62b8caa504341099da3a1887a323251",
       "version_major": 2,
       "version_minor": 0
      },
      "text/plain": [
       "Analyzing comments:   0%|          | 0/19 [00:00<?, ?comment/s]"
      ]
     },
     "metadata": {},
     "output_type": "display_data"
    },
    {
     "data": {
      "application/vnd.jupyter.widget-view+json": {
       "model_id": "efadab7fbfd04980b7f5c6d1d7fed7e5",
       "version_major": 2,
       "version_minor": 0
      },
      "text/plain": [
       "Analyzing comments:   0%|          | 0/37 [00:00<?, ?comment/s]"
      ]
     },
     "metadata": {},
     "output_type": "display_data"
    },
    {
     "data": {
      "application/vnd.jupyter.widget-view+json": {
       "model_id": "8d7504402bf54d74a4f90d530a528827",
       "version_major": 2,
       "version_minor": 0
      },
      "text/plain": [
       "Analyzing comments:   0%|          | 0/38 [00:00<?, ?comment/s]"
      ]
     },
     "metadata": {},
     "output_type": "display_data"
    },
    {
     "data": {
      "application/vnd.jupyter.widget-view+json": {
       "model_id": "58210439f2a748a59479a236de098adf",
       "version_major": 2,
       "version_minor": 0
      },
      "text/plain": [
       "Analyzing comments:   0%|          | 0/9 [00:00<?, ?comment/s]"
      ]
     },
     "metadata": {},
     "output_type": "display_data"
    },
    {
     "data": {
      "application/vnd.jupyter.widget-view+json": {
       "model_id": "d71f52cd6b424c22a8b8fc7c70c5b8a1",
       "version_major": 2,
       "version_minor": 0
      },
      "text/plain": [
       "Analyzing comments:   0%|          | 0/30 [00:00<?, ?comment/s]"
      ]
     },
     "metadata": {},
     "output_type": "display_data"
    },
    {
     "data": {
      "application/vnd.jupyter.widget-view+json": {
       "model_id": "79530daf896b45c0984f83809c370f59",
       "version_major": 2,
       "version_minor": 0
      },
      "text/plain": [
       "Analyzing comments:   0%|          | 0/39 [00:00<?, ?comment/s]"
      ]
     },
     "metadata": {},
     "output_type": "display_data"
    },
    {
     "data": {
      "application/vnd.jupyter.widget-view+json": {
       "model_id": "970abce805644dc595df9d61a293e2f1",
       "version_major": 2,
       "version_minor": 0
      },
      "text/plain": [
       "Analyzing comments:   0%|          | 0/6 [00:00<?, ?comment/s]"
      ]
     },
     "metadata": {},
     "output_type": "display_data"
    },
    {
     "data": {
      "application/vnd.jupyter.widget-view+json": {
       "model_id": "d4724a6cb3ad4b9abf9a8c57a3219377",
       "version_major": 2,
       "version_minor": 0
      },
      "text/plain": [
       "Analyzing comments:   0%|          | 0/38 [00:00<?, ?comment/s]"
      ]
     },
     "metadata": {},
     "output_type": "display_data"
    },
    {
     "data": {
      "application/vnd.jupyter.widget-view+json": {
       "model_id": "a321c6b24f23473497e3097912fd238f",
       "version_major": 2,
       "version_minor": 0
      },
      "text/plain": [
       "Analyzing comments:   0%|          | 0/37 [00:00<?, ?comment/s]"
      ]
     },
     "metadata": {},
     "output_type": "display_data"
    },
    {
     "data": {
      "application/vnd.jupyter.widget-view+json": {
       "model_id": "7f80f6d3fa1a45a28de12e8d5c01f82c",
       "version_major": 2,
       "version_minor": 0
      },
      "text/plain": [
       "Analyzing comments:   0%|          | 0/28 [00:00<?, ?comment/s]"
      ]
     },
     "metadata": {},
     "output_type": "display_data"
    },
    {
     "data": {
      "application/vnd.jupyter.widget-view+json": {
       "model_id": "2e7ef7a0294044eca587ea70b5090e73",
       "version_major": 2,
       "version_minor": 0
      },
      "text/plain": [
       "Analyzing comments:   0%|          | 0/5 [00:00<?, ?comment/s]"
      ]
     },
     "metadata": {},
     "output_type": "display_data"
    },
    {
     "data": {
      "application/vnd.jupyter.widget-view+json": {
       "model_id": "59cffa12b3154399abfd60d58d8d14e7",
       "version_major": 2,
       "version_minor": 0
      },
      "text/plain": [
       "Analyzing comments:   0%|          | 0/21 [00:00<?, ?comment/s]"
      ]
     },
     "metadata": {},
     "output_type": "display_data"
    },
    {
     "data": {
      "application/vnd.jupyter.widget-view+json": {
       "model_id": "4423d8b7ff244c07910b61f422457d1a",
       "version_major": 2,
       "version_minor": 0
      },
      "text/plain": [
       "Analyzing comments:   0%|          | 0/9 [00:00<?, ?comment/s]"
      ]
     },
     "metadata": {},
     "output_type": "display_data"
    },
    {
     "data": {
      "application/vnd.jupyter.widget-view+json": {
       "model_id": "1e88913bebbb4107a724c9f4bf30d1ca",
       "version_major": 2,
       "version_minor": 0
      },
      "text/plain": [
       "Analyzing comments:   0%|          | 0/13 [00:00<?, ?comment/s]"
      ]
     },
     "metadata": {},
     "output_type": "display_data"
    },
    {
     "data": {
      "application/vnd.jupyter.widget-view+json": {
       "model_id": "6cdacdd830084d9398f688830b30e42c",
       "version_major": 2,
       "version_minor": 0
      },
      "text/plain": [
       "Analyzing comments:   0%|          | 0/41 [00:00<?, ?comment/s]"
      ]
     },
     "metadata": {},
     "output_type": "display_data"
    },
    {
     "data": {
      "application/vnd.jupyter.widget-view+json": {
       "model_id": "50d70bdb5a384949b4751c74476b0b84",
       "version_major": 2,
       "version_minor": 0
      },
      "text/plain": [
       "Analyzing comments:   0%|          | 0/33 [00:00<?, ?comment/s]"
      ]
     },
     "metadata": {},
     "output_type": "display_data"
    },
    {
     "data": {
      "application/vnd.jupyter.widget-view+json": {
       "model_id": "3258865985a749b3abeb510eb02f0733",
       "version_major": 2,
       "version_minor": 0
      },
      "text/plain": [
       "Analyzing comments:   0%|          | 0/35 [00:00<?, ?comment/s]"
      ]
     },
     "metadata": {},
     "output_type": "display_data"
    },
    {
     "data": {
      "application/vnd.jupyter.widget-view+json": {
       "model_id": "e3d1c4097c2f4da395e78cbc1aa70e06",
       "version_major": 2,
       "version_minor": 0
      },
      "text/plain": [
       "Analyzing comments:   0%|          | 0/1 [00:00<?, ?comment/s]"
      ]
     },
     "metadata": {},
     "output_type": "display_data"
    },
    {
     "data": {
      "application/vnd.jupyter.widget-view+json": {
       "model_id": "6a1ff788bb0e4a91961151b577289bda",
       "version_major": 2,
       "version_minor": 0
      },
      "text/plain": [
       "Analyzing comments:   0%|          | 0/73 [00:00<?, ?comment/s]"
      ]
     },
     "metadata": {},
     "output_type": "display_data"
    },
    {
     "data": {
      "application/vnd.jupyter.widget-view+json": {
       "model_id": "5266070c69514ab48d246ae5738b9791",
       "version_major": 2,
       "version_minor": 0
      },
      "text/plain": [
       "Analyzing comments:   0%|          | 0/27 [00:00<?, ?comment/s]"
      ]
     },
     "metadata": {},
     "output_type": "display_data"
    },
    {
     "data": {
      "application/vnd.jupyter.widget-view+json": {
       "model_id": "1dd67fc6283f40d4800057fa9364d729",
       "version_major": 2,
       "version_minor": 0
      },
      "text/plain": [
       "Analyzing comments:   0%|          | 0/3 [00:00<?, ?comment/s]"
      ]
     },
     "metadata": {},
     "output_type": "display_data"
    },
    {
     "data": {
      "application/vnd.jupyter.widget-view+json": {
       "model_id": "659bde530c654bd28da4e32034ab21e1",
       "version_major": 2,
       "version_minor": 0
      },
      "text/plain": [
       "Analyzing comments:   0%|          | 0/39 [00:00<?, ?comment/s]"
      ]
     },
     "metadata": {},
     "output_type": "display_data"
    },
    {
     "data": {
      "application/vnd.jupyter.widget-view+json": {
       "model_id": "1a77f44f7adc4ed4993492f79cbced0c",
       "version_major": 2,
       "version_minor": 0
      },
      "text/plain": [
       "Analyzing comments:   0%|          | 0/27 [00:00<?, ?comment/s]"
      ]
     },
     "metadata": {},
     "output_type": "display_data"
    },
    {
     "data": {
      "application/vnd.jupyter.widget-view+json": {
       "model_id": "9512b71146314d27834ce3158fc446d9",
       "version_major": 2,
       "version_minor": 0
      },
      "text/plain": [
       "Analyzing comments:   0%|          | 0/41 [00:00<?, ?comment/s]"
      ]
     },
     "metadata": {},
     "output_type": "display_data"
    },
    {
     "data": {
      "application/vnd.jupyter.widget-view+json": {
       "model_id": "2b77f230f454470fb6733396a3eec6bf",
       "version_major": 2,
       "version_minor": 0
      },
      "text/plain": [
       "Analyzing comments:   0%|          | 0/49 [00:00<?, ?comment/s]"
      ]
     },
     "metadata": {},
     "output_type": "display_data"
    },
    {
     "data": {
      "application/vnd.jupyter.widget-view+json": {
       "model_id": "e698ce88d9544019acbfbf613224bfc1",
       "version_major": 2,
       "version_minor": 0
      },
      "text/plain": [
       "Analyzing comments:   0%|          | 0/34 [00:00<?, ?comment/s]"
      ]
     },
     "metadata": {},
     "output_type": "display_data"
    },
    {
     "data": {
      "application/vnd.jupyter.widget-view+json": {
       "model_id": "6a0f4071207849b8b1370ff77d4f052e",
       "version_major": 2,
       "version_minor": 0
      },
      "text/plain": [
       "Analyzing comments:   0%|          | 0/41 [00:00<?, ?comment/s]"
      ]
     },
     "metadata": {},
     "output_type": "display_data"
    },
    {
     "data": {
      "application/vnd.jupyter.widget-view+json": {
       "model_id": "c9c9800b34a1421daa636b1046edb8ed",
       "version_major": 2,
       "version_minor": 0
      },
      "text/plain": [
       "Analyzing comments:   0%|          | 0/14 [00:00<?, ?comment/s]"
      ]
     },
     "metadata": {},
     "output_type": "display_data"
    },
    {
     "data": {
      "application/vnd.jupyter.widget-view+json": {
       "model_id": "6d8b9eaceffe4265b5ceb51821862698",
       "version_major": 2,
       "version_minor": 0
      },
      "text/plain": [
       "Analyzing comments:   0%|          | 0/40 [00:00<?, ?comment/s]"
      ]
     },
     "metadata": {},
     "output_type": "display_data"
    },
    {
     "data": {
      "application/vnd.jupyter.widget-view+json": {
       "model_id": "9900f473ab1c45c590be77767044a9a0",
       "version_major": 2,
       "version_minor": 0
      },
      "text/plain": [
       "Analyzing comments:   0%|          | 0/12 [00:00<?, ?comment/s]"
      ]
     },
     "metadata": {},
     "output_type": "display_data"
    },
    {
     "data": {
      "application/vnd.jupyter.widget-view+json": {
       "model_id": "54c1805968be4cc0ad337ffe83c1fc27",
       "version_major": 2,
       "version_minor": 0
      },
      "text/plain": [
       "Analyzing comments:   0%|          | 0/3 [00:00<?, ?comment/s]"
      ]
     },
     "metadata": {},
     "output_type": "display_data"
    },
    {
     "data": {
      "application/vnd.jupyter.widget-view+json": {
       "model_id": "36b83e04193044998109cb7aa1b73133",
       "version_major": 2,
       "version_minor": 0
      },
      "text/plain": [
       "Analyzing comments:   0%|          | 0/4 [00:00<?, ?comment/s]"
      ]
     },
     "metadata": {},
     "output_type": "display_data"
    },
    {
     "data": {
      "application/vnd.jupyter.widget-view+json": {
       "model_id": "3dd0022ecc634cfdad219d2783b01406",
       "version_major": 2,
       "version_minor": 0
      },
      "text/plain": [
       "Analyzing comments:   0%|          | 0/15 [00:00<?, ?comment/s]"
      ]
     },
     "metadata": {},
     "output_type": "display_data"
    },
    {
     "data": {
      "application/vnd.jupyter.widget-view+json": {
       "model_id": "a2a8284dbb0747ddaa4ce9c3f71023fa",
       "version_major": 2,
       "version_minor": 0
      },
      "text/plain": [
       "Analyzing comments:   0%|          | 0/19 [00:00<?, ?comment/s]"
      ]
     },
     "metadata": {},
     "output_type": "display_data"
    },
    {
     "data": {
      "application/vnd.jupyter.widget-view+json": {
       "model_id": "36beefd9b6a540e3a97ecdb0ff47f008",
       "version_major": 2,
       "version_minor": 0
      },
      "text/plain": [
       "Analyzing comments:   0%|          | 0/40 [00:00<?, ?comment/s]"
      ]
     },
     "metadata": {},
     "output_type": "display_data"
    },
    {
     "data": {
      "application/vnd.jupyter.widget-view+json": {
       "model_id": "c2dd7265a0b1413d9e5cac7d7ea65eed",
       "version_major": 2,
       "version_minor": 0
      },
      "text/plain": [
       "Analyzing comments:   0%|          | 0/56 [00:00<?, ?comment/s]"
      ]
     },
     "metadata": {},
     "output_type": "display_data"
    },
    {
     "data": {
      "application/vnd.jupyter.widget-view+json": {
       "model_id": "a8a1359985084f6b98e83bf1903a512b",
       "version_major": 2,
       "version_minor": 0
      },
      "text/plain": [
       "Analyzing comments:   0%|          | 0/2 [00:00<?, ?comment/s]"
      ]
     },
     "metadata": {},
     "output_type": "display_data"
    },
    {
     "data": {
      "application/vnd.jupyter.widget-view+json": {
       "model_id": "d0f34488d35c49bda52cf0e1cec8da07",
       "version_major": 2,
       "version_minor": 0
      },
      "text/plain": [
       "Analyzing comments:   0%|          | 0/73 [00:00<?, ?comment/s]"
      ]
     },
     "metadata": {},
     "output_type": "display_data"
    },
    {
     "data": {
      "application/vnd.jupyter.widget-view+json": {
       "model_id": "34940f7d91fe40248600d1e4421fda11",
       "version_major": 2,
       "version_minor": 0
      },
      "text/plain": [
       "Analyzing comments:   0%|          | 0/15 [00:00<?, ?comment/s]"
      ]
     },
     "metadata": {},
     "output_type": "display_data"
    },
    {
     "data": {
      "application/vnd.jupyter.widget-view+json": {
       "model_id": "16f9dd6a4fc946cfa25a3ee738dc0256",
       "version_major": 2,
       "version_minor": 0
      },
      "text/plain": [
       "Analyzing comments:   0%|          | 0/42 [00:00<?, ?comment/s]"
      ]
     },
     "metadata": {},
     "output_type": "display_data"
    },
    {
     "data": {
      "application/vnd.jupyter.widget-view+json": {
       "model_id": "33020f02e96149f7a937f859293397cf",
       "version_major": 2,
       "version_minor": 0
      },
      "text/plain": [
       "Analyzing comments:   0%|          | 0/4 [00:00<?, ?comment/s]"
      ]
     },
     "metadata": {},
     "output_type": "display_data"
    },
    {
     "data": {
      "application/vnd.jupyter.widget-view+json": {
       "model_id": "2aae0698599a497a9d61ad8a7637ede6",
       "version_major": 2,
       "version_minor": 0
      },
      "text/plain": [
       "Analyzing comments:   0%|          | 0/34 [00:00<?, ?comment/s]"
      ]
     },
     "metadata": {},
     "output_type": "display_data"
    },
    {
     "data": {
      "application/vnd.jupyter.widget-view+json": {
       "model_id": "f5f2579208df45a0ab374d4cc3a01dd0",
       "version_major": 2,
       "version_minor": 0
      },
      "text/plain": [
       "Analyzing comments:   0%|          | 0/12 [00:00<?, ?comment/s]"
      ]
     },
     "metadata": {},
     "output_type": "display_data"
    },
    {
     "data": {
      "application/vnd.jupyter.widget-view+json": {
       "model_id": "a5c073eb81554ad39930b2e80a127b89",
       "version_major": 2,
       "version_minor": 0
      },
      "text/plain": [
       "Analyzing comments:   0%|          | 0/31 [00:00<?, ?comment/s]"
      ]
     },
     "metadata": {},
     "output_type": "display_data"
    },
    {
     "data": {
      "application/vnd.jupyter.widget-view+json": {
       "model_id": "6d5637c321094e6ab9095080cd007594",
       "version_major": 2,
       "version_minor": 0
      },
      "text/plain": [
       "Analyzing comments:   0%|          | 0/38 [00:00<?, ?comment/s]"
      ]
     },
     "metadata": {},
     "output_type": "display_data"
    },
    {
     "data": {
      "application/vnd.jupyter.widget-view+json": {
       "model_id": "6963422cffe84b0791cba649368cae27",
       "version_major": 2,
       "version_minor": 0
      },
      "text/plain": [
       "Analyzing comments:   0%|          | 0/60 [00:00<?, ?comment/s]"
      ]
     },
     "metadata": {},
     "output_type": "display_data"
    },
    {
     "data": {
      "application/vnd.jupyter.widget-view+json": {
       "model_id": "7d7ca2b3f0814198839fd831d3834ed3",
       "version_major": 2,
       "version_minor": 0
      },
      "text/plain": [
       "Analyzing comments:   0%|          | 0/40 [00:00<?, ?comment/s]"
      ]
     },
     "metadata": {},
     "output_type": "display_data"
    },
    {
     "data": {
      "application/vnd.jupyter.widget-view+json": {
       "model_id": "46dd496a31c04f4da48d73b5709fbac1",
       "version_major": 2,
       "version_minor": 0
      },
      "text/plain": [
       "Analyzing comments:   0%|          | 0/39 [00:00<?, ?comment/s]"
      ]
     },
     "metadata": {},
     "output_type": "display_data"
    },
    {
     "data": {
      "application/vnd.jupyter.widget-view+json": {
       "model_id": "6389870cbe6b433f834209beaed66cad",
       "version_major": 2,
       "version_minor": 0
      },
      "text/plain": [
       "Analyzing comments:   0%|          | 0/15 [00:00<?, ?comment/s]"
      ]
     },
     "metadata": {},
     "output_type": "display_data"
    },
    {
     "data": {
      "application/vnd.jupyter.widget-view+json": {
       "model_id": "b2dffe08347948c2a2f27cb997a3436f",
       "version_major": 2,
       "version_minor": 0
      },
      "text/plain": [
       "Analyzing comments:   0%|          | 0/34 [00:00<?, ?comment/s]"
      ]
     },
     "metadata": {},
     "output_type": "display_data"
    },
    {
     "data": {
      "application/vnd.jupyter.widget-view+json": {
       "model_id": "0c3b72f23d8040debdfc0588d52e1c86",
       "version_major": 2,
       "version_minor": 0
      },
      "text/plain": [
       "Analyzing comments:   0%|          | 0/5 [00:00<?, ?comment/s]"
      ]
     },
     "metadata": {},
     "output_type": "display_data"
    },
    {
     "data": {
      "application/vnd.jupyter.widget-view+json": {
       "model_id": "45b482194b354ef4af006376020d67d3",
       "version_major": 2,
       "version_minor": 0
      },
      "text/plain": [
       "Analyzing comments:   0%|          | 0/3 [00:00<?, ?comment/s]"
      ]
     },
     "metadata": {},
     "output_type": "display_data"
    },
    {
     "data": {
      "application/vnd.jupyter.widget-view+json": {
       "model_id": "0cc9098c4bb14f88b4a81fea4ab6c36b",
       "version_major": 2,
       "version_minor": 0
      },
      "text/plain": [
       "Analyzing comments:   0%|          | 0/4 [00:00<?, ?comment/s]"
      ]
     },
     "metadata": {},
     "output_type": "display_data"
    },
    {
     "data": {
      "application/vnd.jupyter.widget-view+json": {
       "model_id": "3029afb0e3444cf687cc0bed97ade27d",
       "version_major": 2,
       "version_minor": 0
      },
      "text/plain": [
       "Analyzing comments:   0%|          | 0/16 [00:00<?, ?comment/s]"
      ]
     },
     "metadata": {},
     "output_type": "display_data"
    },
    {
     "data": {
      "application/vnd.jupyter.widget-view+json": {
       "model_id": "e1b86e9496544fb99bf107b168e7a29b",
       "version_major": 2,
       "version_minor": 0
      },
      "text/plain": [
       "Analyzing comments:   0%|          | 0/31 [00:00<?, ?comment/s]"
      ]
     },
     "metadata": {},
     "output_type": "display_data"
    },
    {
     "data": {
      "application/vnd.jupyter.widget-view+json": {
       "model_id": "8e4a91e8ea3d40e082b8f6e30c1d0175",
       "version_major": 2,
       "version_minor": 0
      },
      "text/plain": [
       "Analyzing comments:   0%|          | 0/12 [00:00<?, ?comment/s]"
      ]
     },
     "metadata": {},
     "output_type": "display_data"
    },
    {
     "data": {
      "application/vnd.jupyter.widget-view+json": {
       "model_id": "cd8d88d1f9064742b6c74884a3508e72",
       "version_major": 2,
       "version_minor": 0
      },
      "text/plain": [
       "Analyzing comments:   0%|          | 0/3 [00:00<?, ?comment/s]"
      ]
     },
     "metadata": {},
     "output_type": "display_data"
    },
    {
     "data": {
      "application/vnd.jupyter.widget-view+json": {
       "model_id": "3d27204229264b09a18b1ca50c77b2af",
       "version_major": 2,
       "version_minor": 0
      },
      "text/plain": [
       "Analyzing comments:   0%|          | 0/1 [00:00<?, ?comment/s]"
      ]
     },
     "metadata": {},
     "output_type": "display_data"
    },
    {
     "data": {
      "application/vnd.jupyter.widget-view+json": {
       "model_id": "0c0e328e898a48c484e6dfaffc2eff26",
       "version_major": 2,
       "version_minor": 0
      },
      "text/plain": [
       "Analyzing comments:   0%|          | 0/26 [00:00<?, ?comment/s]"
      ]
     },
     "metadata": {},
     "output_type": "display_data"
    },
    {
     "data": {
      "application/vnd.jupyter.widget-view+json": {
       "model_id": "55a5614faf4748ec9d3bb0796ede168f",
       "version_major": 2,
       "version_minor": 0
      },
      "text/plain": [
       "Analyzing comments:   0%|          | 0/28 [00:00<?, ?comment/s]"
      ]
     },
     "metadata": {},
     "output_type": "display_data"
    },
    {
     "data": {
      "application/vnd.jupyter.widget-view+json": {
       "model_id": "04076b1de0e94b5e9a42c925a5d689e7",
       "version_major": 2,
       "version_minor": 0
      },
      "text/plain": [
       "Analyzing comments:   0%|          | 0/28 [00:00<?, ?comment/s]"
      ]
     },
     "metadata": {},
     "output_type": "display_data"
    },
    {
     "data": {
      "application/vnd.jupyter.widget-view+json": {
       "model_id": "3bf010e6c49645fa88715f94d2c0cdc0",
       "version_major": 2,
       "version_minor": 0
      },
      "text/plain": [
       "Analyzing comments:   0%|          | 0/7 [00:00<?, ?comment/s]"
      ]
     },
     "metadata": {},
     "output_type": "display_data"
    },
    {
     "data": {
      "application/vnd.jupyter.widget-view+json": {
       "model_id": "7ecabefbc383411cac7bc0693a5d8b25",
       "version_major": 2,
       "version_minor": 0
      },
      "text/plain": [
       "Analyzing comments:   0%|          | 0/37 [00:00<?, ?comment/s]"
      ]
     },
     "metadata": {},
     "output_type": "display_data"
    },
    {
     "data": {
      "application/vnd.jupyter.widget-view+json": {
       "model_id": "ec80c2a0034f4cbbb805181a0a6143a5",
       "version_major": 2,
       "version_minor": 0
      },
      "text/plain": [
       "Analyzing comments:   0%|          | 0/1 [00:00<?, ?comment/s]"
      ]
     },
     "metadata": {},
     "output_type": "display_data"
    },
    {
     "data": {
      "application/vnd.jupyter.widget-view+json": {
       "model_id": "e5af148ac9104b1d8a4baec81e8c4a7c",
       "version_major": 2,
       "version_minor": 0
      },
      "text/plain": [
       "Analyzing comments:   0%|          | 0/40 [00:00<?, ?comment/s]"
      ]
     },
     "metadata": {},
     "output_type": "display_data"
    },
    {
     "data": {
      "application/vnd.jupyter.widget-view+json": {
       "model_id": "cc9c605fdba64060b13b952f3e405497",
       "version_major": 2,
       "version_minor": 0
      },
      "text/plain": [
       "Analyzing comments:   0%|          | 0/12 [00:00<?, ?comment/s]"
      ]
     },
     "metadata": {},
     "output_type": "display_data"
    },
    {
     "data": {
      "application/vnd.jupyter.widget-view+json": {
       "model_id": "0614ab4080324621ad30d26a0f6f9e4a",
       "version_major": 2,
       "version_minor": 0
      },
      "text/plain": [
       "Analyzing comments:   0%|          | 0/40 [00:00<?, ?comment/s]"
      ]
     },
     "metadata": {},
     "output_type": "display_data"
    },
    {
     "data": {
      "application/vnd.jupyter.widget-view+json": {
       "model_id": "4b11a48853d046fc857244c32066ec29",
       "version_major": 2,
       "version_minor": 0
      },
      "text/plain": [
       "Analyzing comments:   0%|          | 0/35 [00:00<?, ?comment/s]"
      ]
     },
     "metadata": {},
     "output_type": "display_data"
    },
    {
     "data": {
      "application/vnd.jupyter.widget-view+json": {
       "model_id": "2f07836b6bdb437baff6c73aece8be1d",
       "version_major": 2,
       "version_minor": 0
      },
      "text/plain": [
       "Analyzing comments:   0%|          | 0/35 [00:00<?, ?comment/s]"
      ]
     },
     "metadata": {},
     "output_type": "display_data"
    },
    {
     "data": {
      "application/vnd.jupyter.widget-view+json": {
       "model_id": "2a1ea2106353415780d4dd0c635337b6",
       "version_major": 2,
       "version_minor": 0
      },
      "text/plain": [
       "Analyzing comments:   0%|          | 0/33 [00:00<?, ?comment/s]"
      ]
     },
     "metadata": {},
     "output_type": "display_data"
    },
    {
     "data": {
      "application/vnd.jupyter.widget-view+json": {
       "model_id": "c0214df2d6d34a858e7330d49d233d34",
       "version_major": 2,
       "version_minor": 0
      },
      "text/plain": [
       "Analyzing comments:   0%|          | 0/36 [00:00<?, ?comment/s]"
      ]
     },
     "metadata": {},
     "output_type": "display_data"
    },
    {
     "data": {
      "application/vnd.jupyter.widget-view+json": {
       "model_id": "3e811e46a5ce46f9919728294b5a88b7",
       "version_major": 2,
       "version_minor": 0
      },
      "text/plain": [
       "Analyzing comments:   0%|          | 0/16 [00:00<?, ?comment/s]"
      ]
     },
     "metadata": {},
     "output_type": "display_data"
    },
    {
     "data": {
      "application/vnd.jupyter.widget-view+json": {
       "model_id": "b98b155f89024706b645f227a7badccc",
       "version_major": 2,
       "version_minor": 0
      },
      "text/plain": [
       "Analyzing comments:   0%|          | 0/37 [00:00<?, ?comment/s]"
      ]
     },
     "metadata": {},
     "output_type": "display_data"
    },
    {
     "data": {
      "application/vnd.jupyter.widget-view+json": {
       "model_id": "b6d2b94335c14dd6985405edd9c50c45",
       "version_major": 2,
       "version_minor": 0
      },
      "text/plain": [
       "Analyzing comments:   0%|          | 0/4 [00:00<?, ?comment/s]"
      ]
     },
     "metadata": {},
     "output_type": "display_data"
    },
    {
     "data": {
      "application/vnd.jupyter.widget-view+json": {
       "model_id": "efe01d1564d94a598678b0103fb046e0",
       "version_major": 2,
       "version_minor": 0
      },
      "text/plain": [
       "Analyzing comments:   0%|          | 0/29 [00:00<?, ?comment/s]"
      ]
     },
     "metadata": {},
     "output_type": "display_data"
    },
    {
     "data": {
      "application/vnd.jupyter.widget-view+json": {
       "model_id": "fd46a1ab7e3643b4a367da19092e4525",
       "version_major": 2,
       "version_minor": 0
      },
      "text/plain": [
       "Analyzing comments:   0%|          | 0/11 [00:00<?, ?comment/s]"
      ]
     },
     "metadata": {},
     "output_type": "display_data"
    },
    {
     "data": {
      "application/vnd.jupyter.widget-view+json": {
       "model_id": "17de5ffb1be34461a6e28bf045c68792",
       "version_major": 2,
       "version_minor": 0
      },
      "text/plain": [
       "Analyzing comments:   0%|          | 0/2 [00:00<?, ?comment/s]"
      ]
     },
     "metadata": {},
     "output_type": "display_data"
    },
    {
     "data": {
      "application/vnd.jupyter.widget-view+json": {
       "model_id": "b9f1b4ff19b848e59a11a1444bcf2ddc",
       "version_major": 2,
       "version_minor": 0
      },
      "text/plain": [
       "Analyzing comments:   0%|          | 0/60 [00:00<?, ?comment/s]"
      ]
     },
     "metadata": {},
     "output_type": "display_data"
    },
    {
     "data": {
      "application/vnd.jupyter.widget-view+json": {
       "model_id": "e8c4e9b8ee254336acb51e4f7ca9bdf9",
       "version_major": 2,
       "version_minor": 0
      },
      "text/plain": [
       "Analyzing comments:   0%|          | 0/20 [00:00<?, ?comment/s]"
      ]
     },
     "metadata": {},
     "output_type": "display_data"
    },
    {
     "data": {
      "application/vnd.jupyter.widget-view+json": {
       "model_id": "44870934078045498a53f1ab09f63323",
       "version_major": 2,
       "version_minor": 0
      },
      "text/plain": [
       "Analyzing comments:   0%|          | 0/10 [00:00<?, ?comment/s]"
      ]
     },
     "metadata": {},
     "output_type": "display_data"
    },
    {
     "data": {
      "application/vnd.jupyter.widget-view+json": {
       "model_id": "07eff3025c9e4dd5a615f99796f3bb7f",
       "version_major": 2,
       "version_minor": 0
      },
      "text/plain": [
       "Analyzing comments:   0%|          | 0/59 [00:00<?, ?comment/s]"
      ]
     },
     "metadata": {},
     "output_type": "display_data"
    },
    {
     "data": {
      "application/vnd.jupyter.widget-view+json": {
       "model_id": "6b8c3d4cda8343199031ad753bee66f3",
       "version_major": 2,
       "version_minor": 0
      },
      "text/plain": [
       "Analyzing comments:   0%|          | 0/40 [00:00<?, ?comment/s]"
      ]
     },
     "metadata": {},
     "output_type": "display_data"
    },
    {
     "data": {
      "application/vnd.jupyter.widget-view+json": {
       "model_id": "45f12f3b51e0471f8a9f1d9647406ea2",
       "version_major": 2,
       "version_minor": 0
      },
      "text/plain": [
       "Analyzing comments:   0%|          | 0/2 [00:00<?, ?comment/s]"
      ]
     },
     "metadata": {},
     "output_type": "display_data"
    },
    {
     "data": {
      "application/vnd.jupyter.widget-view+json": {
       "model_id": "aab8d1b4ec4c4405b97125d151a2071c",
       "version_major": 2,
       "version_minor": 0
      },
      "text/plain": [
       "Analyzing comments:   0%|          | 0/37 [00:00<?, ?comment/s]"
      ]
     },
     "metadata": {},
     "output_type": "display_data"
    },
    {
     "data": {
      "application/vnd.jupyter.widget-view+json": {
       "model_id": "bcf84b47d92447828e3ad453149069c7",
       "version_major": 2,
       "version_minor": 0
      },
      "text/plain": [
       "Analyzing comments:   0%|          | 0/77 [00:00<?, ?comment/s]"
      ]
     },
     "metadata": {},
     "output_type": "display_data"
    },
    {
     "data": {
      "application/vnd.jupyter.widget-view+json": {
       "model_id": "e9e592506ede4650a654525929567fbc",
       "version_major": 2,
       "version_minor": 0
      },
      "text/plain": [
       "Analyzing comments:   0%|          | 0/4 [00:00<?, ?comment/s]"
      ]
     },
     "metadata": {},
     "output_type": "display_data"
    },
    {
     "data": {
      "application/vnd.jupyter.widget-view+json": {
       "model_id": "832bc83575ef46088a30fec472f3a5e9",
       "version_major": 2,
       "version_minor": 0
      },
      "text/plain": [
       "Analyzing comments:   0%|          | 0/39 [00:00<?, ?comment/s]"
      ]
     },
     "metadata": {},
     "output_type": "display_data"
    },
    {
     "data": {
      "application/vnd.jupyter.widget-view+json": {
       "model_id": "78aae0ff753a457fb51a764de6cb1695",
       "version_major": 2,
       "version_minor": 0
      },
      "text/plain": [
       "Analyzing comments:   0%|          | 0/42 [00:00<?, ?comment/s]"
      ]
     },
     "metadata": {},
     "output_type": "display_data"
    },
    {
     "data": {
      "application/vnd.jupyter.widget-view+json": {
       "model_id": "480a3d282d8e4b6984f05c9ed09455ab",
       "version_major": 2,
       "version_minor": 0
      },
      "text/plain": [
       "Analyzing comments:   0%|          | 0/38 [00:00<?, ?comment/s]"
      ]
     },
     "metadata": {},
     "output_type": "display_data"
    },
    {
     "data": {
      "application/vnd.jupyter.widget-view+json": {
       "model_id": "192d3e950c344d4cbf4a53779c2235c7",
       "version_major": 2,
       "version_minor": 0
      },
      "text/plain": [
       "Analyzing comments:   0%|          | 0/7 [00:00<?, ?comment/s]"
      ]
     },
     "metadata": {},
     "output_type": "display_data"
    },
    {
     "data": {
      "application/vnd.jupyter.widget-view+json": {
       "model_id": "d2983d62e93d4b4d99cc869d2aab0b98",
       "version_major": 2,
       "version_minor": 0
      },
      "text/plain": [
       "Analyzing comments:   0%|          | 0/10 [00:00<?, ?comment/s]"
      ]
     },
     "metadata": {},
     "output_type": "display_data"
    },
    {
     "data": {
      "application/vnd.jupyter.widget-view+json": {
       "model_id": "2c046665c7e3483791c1ab1c19e26a1a",
       "version_major": 2,
       "version_minor": 0
      },
      "text/plain": [
       "Analyzing comments:   0%|          | 0/36 [00:00<?, ?comment/s]"
      ]
     },
     "metadata": {},
     "output_type": "display_data"
    },
    {
     "data": {
      "application/vnd.jupyter.widget-view+json": {
       "model_id": "871aae4a658d4549bc79dc2de4d1fec0",
       "version_major": 2,
       "version_minor": 0
      },
      "text/plain": [
       "Analyzing comments:   0%|          | 0/16 [00:00<?, ?comment/s]"
      ]
     },
     "metadata": {},
     "output_type": "display_data"
    },
    {
     "data": {
      "application/vnd.jupyter.widget-view+json": {
       "model_id": "4c84f8034d4e4cbc8ba481c249a4ce2f",
       "version_major": 2,
       "version_minor": 0
      },
      "text/plain": [
       "Analyzing comments:   0%|          | 0/2 [00:00<?, ?comment/s]"
      ]
     },
     "metadata": {},
     "output_type": "display_data"
    },
    {
     "data": {
      "application/vnd.jupyter.widget-view+json": {
       "model_id": "43687d1e157d4f69abed6e1a91ec860d",
       "version_major": 2,
       "version_minor": 0
      },
      "text/plain": [
       "Analyzing comments:   0%|          | 0/63 [00:00<?, ?comment/s]"
      ]
     },
     "metadata": {},
     "output_type": "display_data"
    },
    {
     "data": {
      "application/vnd.jupyter.widget-view+json": {
       "model_id": "56da9320e1764c9b8fc5c86749454607",
       "version_major": 2,
       "version_minor": 0
      },
      "text/plain": [
       "Analyzing comments:   0%|          | 0/7 [00:00<?, ?comment/s]"
      ]
     },
     "metadata": {},
     "output_type": "display_data"
    },
    {
     "data": {
      "application/vnd.jupyter.widget-view+json": {
       "model_id": "559cc6a6311a43f68da3a0061bbb3801",
       "version_major": 2,
       "version_minor": 0
      },
      "text/plain": [
       "Analyzing comments:   0%|          | 0/35 [00:00<?, ?comment/s]"
      ]
     },
     "metadata": {},
     "output_type": "display_data"
    },
    {
     "data": {
      "application/vnd.jupyter.widget-view+json": {
       "model_id": "c5df065883ba4a29bcc2fbc9129ba31c",
       "version_major": 2,
       "version_minor": 0
      },
      "text/plain": [
       "Analyzing comments:   0%|          | 0/40 [00:00<?, ?comment/s]"
      ]
     },
     "metadata": {},
     "output_type": "display_data"
    },
    {
     "data": {
      "application/vnd.jupyter.widget-view+json": {
       "model_id": "75c8ce4ac6d848228b260f63870b7fd4",
       "version_major": 2,
       "version_minor": 0
      },
      "text/plain": [
       "Analyzing comments:   0%|          | 0/35 [00:00<?, ?comment/s]"
      ]
     },
     "metadata": {},
     "output_type": "display_data"
    },
    {
     "data": {
      "application/vnd.jupyter.widget-view+json": {
       "model_id": "b1b612306c5446baade92cef5242df5b",
       "version_major": 2,
       "version_minor": 0
      },
      "text/plain": [
       "Analyzing comments:   0%|          | 0/4 [00:00<?, ?comment/s]"
      ]
     },
     "metadata": {},
     "output_type": "display_data"
    },
    {
     "data": {
      "application/vnd.jupyter.widget-view+json": {
       "model_id": "4efb3a08ee884ca98b67c453ac2300de",
       "version_major": 2,
       "version_minor": 0
      },
      "text/plain": [
       "Analyzing comments:   0%|          | 0/39 [00:00<?, ?comment/s]"
      ]
     },
     "metadata": {},
     "output_type": "display_data"
    },
    {
     "data": {
      "application/vnd.jupyter.widget-view+json": {
       "model_id": "e8a49747a6014a558c73ac4efff28fcd",
       "version_major": 2,
       "version_minor": 0
      },
      "text/plain": [
       "Analyzing comments:   0%|          | 0/49 [00:00<?, ?comment/s]"
      ]
     },
     "metadata": {},
     "output_type": "display_data"
    },
    {
     "data": {
      "application/vnd.jupyter.widget-view+json": {
       "model_id": "ad4beab1b87e4a46bbc96e190d6ac350",
       "version_major": 2,
       "version_minor": 0
      },
      "text/plain": [
       "Analyzing comments:   0%|          | 0/1 [00:00<?, ?comment/s]"
      ]
     },
     "metadata": {},
     "output_type": "display_data"
    },
    {
     "data": {
      "application/vnd.jupyter.widget-view+json": {
       "model_id": "4f791c31e1134074a707f1d58c1db79c",
       "version_major": 2,
       "version_minor": 0
      },
      "text/plain": [
       "Analyzing comments:   0%|          | 0/40 [00:00<?, ?comment/s]"
      ]
     },
     "metadata": {},
     "output_type": "display_data"
    },
    {
     "data": {
      "application/vnd.jupyter.widget-view+json": {
       "model_id": "0cec2bfb65d14b83b49e560c71f3be21",
       "version_major": 2,
       "version_minor": 0
      },
      "text/plain": [
       "Analyzing comments:   0%|          | 0/27 [00:00<?, ?comment/s]"
      ]
     },
     "metadata": {},
     "output_type": "display_data"
    },
    {
     "data": {
      "application/vnd.jupyter.widget-view+json": {
       "model_id": "85d05b6f9ec94c0a9da7e51925468f54",
       "version_major": 2,
       "version_minor": 0
      },
      "text/plain": [
       "Analyzing comments:   0%|          | 0/5 [00:00<?, ?comment/s]"
      ]
     },
     "metadata": {},
     "output_type": "display_data"
    },
    {
     "data": {
      "application/vnd.jupyter.widget-view+json": {
       "model_id": "17e425d6ef864eb8af093a7bf9db9181",
       "version_major": 2,
       "version_minor": 0
      },
      "text/plain": [
       "Analyzing comments:   0%|          | 0/4 [00:00<?, ?comment/s]"
      ]
     },
     "metadata": {},
     "output_type": "display_data"
    },
    {
     "data": {
      "application/vnd.jupyter.widget-view+json": {
       "model_id": "b872f00c840e469ab628eeb5cb657cf4",
       "version_major": 2,
       "version_minor": 0
      },
      "text/plain": [
       "Analyzing comments:   0%|          | 0/37 [00:00<?, ?comment/s]"
      ]
     },
     "metadata": {},
     "output_type": "display_data"
    },
    {
     "data": {
      "application/vnd.jupyter.widget-view+json": {
       "model_id": "6c6de1168ae145b78f8ba0b7588b1d9a",
       "version_major": 2,
       "version_minor": 0
      },
      "text/plain": [
       "Analyzing comments:   0%|          | 0/39 [00:00<?, ?comment/s]"
      ]
     },
     "metadata": {},
     "output_type": "display_data"
    },
    {
     "data": {
      "application/vnd.jupyter.widget-view+json": {
       "model_id": "7d550b3eb212475c8c054e82bd4eef35",
       "version_major": 2,
       "version_minor": 0
      },
      "text/plain": [
       "Analyzing comments:   0%|          | 0/36 [00:00<?, ?comment/s]"
      ]
     },
     "metadata": {},
     "output_type": "display_data"
    },
    {
     "data": {
      "application/vnd.jupyter.widget-view+json": {
       "model_id": "57821d73d52146eebae38585b5ddea65",
       "version_major": 2,
       "version_minor": 0
      },
      "text/plain": [
       "Analyzing comments:   0%|          | 0/3 [00:00<?, ?comment/s]"
      ]
     },
     "metadata": {},
     "output_type": "display_data"
    },
    {
     "data": {
      "application/vnd.jupyter.widget-view+json": {
       "model_id": "e713633aafba4477a1e8b883eba2f10c",
       "version_major": 2,
       "version_minor": 0
      },
      "text/plain": [
       "Analyzing comments:   0%|          | 0/2 [00:00<?, ?comment/s]"
      ]
     },
     "metadata": {},
     "output_type": "display_data"
    },
    {
     "data": {
      "application/vnd.jupyter.widget-view+json": {
       "model_id": "d3c3eb48cc5a462a9fa7c6b9d34f55f4",
       "version_major": 2,
       "version_minor": 0
      },
      "text/plain": [
       "Analyzing comments:   0%|          | 0/36 [00:00<?, ?comment/s]"
      ]
     },
     "metadata": {},
     "output_type": "display_data"
    },
    {
     "data": {
      "application/vnd.jupyter.widget-view+json": {
       "model_id": "a7c72a4a8d554f26b2c52541f9e7e108",
       "version_major": 2,
       "version_minor": 0
      },
      "text/plain": [
       "Analyzing comments:   0%|          | 0/1 [00:00<?, ?comment/s]"
      ]
     },
     "metadata": {},
     "output_type": "display_data"
    },
    {
     "data": {
      "application/vnd.jupyter.widget-view+json": {
       "model_id": "e5277ca3f48a4c5b9799a69d2519f82b",
       "version_major": 2,
       "version_minor": 0
      },
      "text/plain": [
       "Analyzing comments:   0%|          | 0/63 [00:00<?, ?comment/s]"
      ]
     },
     "metadata": {},
     "output_type": "display_data"
    },
    {
     "data": {
      "application/vnd.jupyter.widget-view+json": {
       "model_id": "35e84f56197448b08aa2dcc46cc55bb0",
       "version_major": 2,
       "version_minor": 0
      },
      "text/plain": [
       "Analyzing comments:   0%|          | 0/37 [00:00<?, ?comment/s]"
      ]
     },
     "metadata": {},
     "output_type": "display_data"
    },
    {
     "data": {
      "application/vnd.jupyter.widget-view+json": {
       "model_id": "cc84ad4b821d4e98b183337dcdbc8bba",
       "version_major": 2,
       "version_minor": 0
      },
      "text/plain": [
       "Analyzing comments:   0%|          | 0/39 [00:00<?, ?comment/s]"
      ]
     },
     "metadata": {},
     "output_type": "display_data"
    },
    {
     "data": {
      "application/vnd.jupyter.widget-view+json": {
       "model_id": "6104dcaca8df4611b082f759eee180f5",
       "version_major": 2,
       "version_minor": 0
      },
      "text/plain": [
       "Analyzing comments:   0%|          | 0/45 [00:00<?, ?comment/s]"
      ]
     },
     "metadata": {},
     "output_type": "display_data"
    },
    {
     "data": {
      "application/vnd.jupyter.widget-view+json": {
       "model_id": "cbcf8043579c4a7f9c25b342f7c58c72",
       "version_major": 2,
       "version_minor": 0
      },
      "text/plain": [
       "Analyzing comments:   0%|          | 0/23 [00:00<?, ?comment/s]"
      ]
     },
     "metadata": {},
     "output_type": "display_data"
    },
    {
     "data": {
      "application/vnd.jupyter.widget-view+json": {
       "model_id": "5031952743bc408c980f6ac40d155109",
       "version_major": 2,
       "version_minor": 0
      },
      "text/plain": [
       "Analyzing comments:   0%|          | 0/18 [00:00<?, ?comment/s]"
      ]
     },
     "metadata": {},
     "output_type": "display_data"
    },
    {
     "data": {
      "application/vnd.jupyter.widget-view+json": {
       "model_id": "d8992aafa6044afa846269b0e7563684",
       "version_major": 2,
       "version_minor": 0
      },
      "text/plain": [
       "Analyzing comments:   0%|          | 0/3 [00:00<?, ?comment/s]"
      ]
     },
     "metadata": {},
     "output_type": "display_data"
    },
    {
     "data": {
      "application/vnd.jupyter.widget-view+json": {
       "model_id": "c9853f6df54c443b9aa5a50e45026519",
       "version_major": 2,
       "version_minor": 0
      },
      "text/plain": [
       "Analyzing comments:   0%|          | 0/34 [00:00<?, ?comment/s]"
      ]
     },
     "metadata": {},
     "output_type": "display_data"
    },
    {
     "data": {
      "application/vnd.jupyter.widget-view+json": {
       "model_id": "67fe9c3a6fd94b698013dd39d56c841a",
       "version_major": 2,
       "version_minor": 0
      },
      "text/plain": [
       "Analyzing comments:   0%|          | 0/36 [00:00<?, ?comment/s]"
      ]
     },
     "metadata": {},
     "output_type": "display_data"
    },
    {
     "data": {
      "application/vnd.jupyter.widget-view+json": {
       "model_id": "09ef7f1ad05547da8dd158e77c95027e",
       "version_major": 2,
       "version_minor": 0
      },
      "text/plain": [
       "Analyzing comments:   0%|          | 0/35 [00:00<?, ?comment/s]"
      ]
     },
     "metadata": {},
     "output_type": "display_data"
    },
    {
     "data": {
      "application/vnd.jupyter.widget-view+json": {
       "model_id": "e0a8d314942c48c5bfaf4491ecf856e7",
       "version_major": 2,
       "version_minor": 0
      },
      "text/plain": [
       "Analyzing comments:   0%|          | 0/31 [00:00<?, ?comment/s]"
      ]
     },
     "metadata": {},
     "output_type": "display_data"
    },
    {
     "data": {
      "application/vnd.jupyter.widget-view+json": {
       "model_id": "4be43fd97f774cc6888137b7d725b565",
       "version_major": 2,
       "version_minor": 0
      },
      "text/plain": [
       "Analyzing comments: 0comment [00:00, ?comment/s]"
      ]
     },
     "metadata": {},
     "output_type": "display_data"
    },
    {
     "data": {
      "application/vnd.jupyter.widget-view+json": {
       "model_id": "0d7ef21dca8f4d26beae2e92c4ad1788",
       "version_major": 2,
       "version_minor": 0
      },
      "text/plain": [
       "Analyzing comments:   0%|          | 0/16 [00:00<?, ?comment/s]"
      ]
     },
     "metadata": {},
     "output_type": "display_data"
    },
    {
     "data": {
      "application/vnd.jupyter.widget-view+json": {
       "model_id": "afa487f44c684639b9c291e98eea18ef",
       "version_major": 2,
       "version_minor": 0
      },
      "text/plain": [
       "Analyzing comments:   0%|          | 0/39 [00:00<?, ?comment/s]"
      ]
     },
     "metadata": {},
     "output_type": "display_data"
    },
    {
     "data": {
      "application/vnd.jupyter.widget-view+json": {
       "model_id": "2015a18ea3e942b0955e684eac034988",
       "version_major": 2,
       "version_minor": 0
      },
      "text/plain": [
       "Analyzing comments:   0%|          | 0/1 [00:00<?, ?comment/s]"
      ]
     },
     "metadata": {},
     "output_type": "display_data"
    },
    {
     "data": {
      "application/vnd.jupyter.widget-view+json": {
       "model_id": "2d171e380b7449f6b1899b25e01e5216",
       "version_major": 2,
       "version_minor": 0
      },
      "text/plain": [
       "Analyzing comments:   0%|          | 0/32 [00:00<?, ?comment/s]"
      ]
     },
     "metadata": {},
     "output_type": "display_data"
    },
    {
     "data": {
      "application/vnd.jupyter.widget-view+json": {
       "model_id": "4f59d8e0fe484d9d8863972a4613b65c",
       "version_major": 2,
       "version_minor": 0
      },
      "text/plain": [
       "Analyzing comments:   0%|          | 0/36 [00:00<?, ?comment/s]"
      ]
     },
     "metadata": {},
     "output_type": "display_data"
    },
    {
     "data": {
      "application/vnd.jupyter.widget-view+json": {
       "model_id": "92624fd94ff84e849b176a84993bb210",
       "version_major": 2,
       "version_minor": 0
      },
      "text/plain": [
       "Analyzing comments:   0%|          | 0/3 [00:00<?, ?comment/s]"
      ]
     },
     "metadata": {},
     "output_type": "display_data"
    },
    {
     "data": {
      "application/vnd.jupyter.widget-view+json": {
       "model_id": "f82adfbfa74746ddbb58cea61e6fd640",
       "version_major": 2,
       "version_minor": 0
      },
      "text/plain": [
       "Analyzing comments:   0%|          | 0/35 [00:00<?, ?comment/s]"
      ]
     },
     "metadata": {},
     "output_type": "display_data"
    },
    {
     "data": {
      "application/vnd.jupyter.widget-view+json": {
       "model_id": "e2124441503b4bb3a5d9540bad9539f8",
       "version_major": 2,
       "version_minor": 0
      },
      "text/plain": [
       "Analyzing comments:   0%|          | 0/8 [00:00<?, ?comment/s]"
      ]
     },
     "metadata": {},
     "output_type": "display_data"
    },
    {
     "data": {
      "application/vnd.jupyter.widget-view+json": {
       "model_id": "37e82f694f41465e94c720c121290b7a",
       "version_major": 2,
       "version_minor": 0
      },
      "text/plain": [
       "Analyzing comments:   0%|          | 0/39 [00:00<?, ?comment/s]"
      ]
     },
     "metadata": {},
     "output_type": "display_data"
    },
    {
     "data": {
      "application/vnd.jupyter.widget-view+json": {
       "model_id": "73301645a34f44a990e9cb814f19dc93",
       "version_major": 2,
       "version_minor": 0
      },
      "text/plain": [
       "Analyzing comments:   0%|          | 0/4 [00:00<?, ?comment/s]"
      ]
     },
     "metadata": {},
     "output_type": "display_data"
    },
    {
     "data": {
      "application/vnd.jupyter.widget-view+json": {
       "model_id": "f31404aea4734199800d5285372ca75e",
       "version_major": 2,
       "version_minor": 0
      },
      "text/plain": [
       "Analyzing comments:   0%|          | 0/11 [00:00<?, ?comment/s]"
      ]
     },
     "metadata": {},
     "output_type": "display_data"
    },
    {
     "data": {
      "application/vnd.jupyter.widget-view+json": {
       "model_id": "5e1748baf2b045d3af6f1db787395154",
       "version_major": 2,
       "version_minor": 0
      },
      "text/plain": [
       "Analyzing comments:   0%|          | 0/33 [00:00<?, ?comment/s]"
      ]
     },
     "metadata": {},
     "output_type": "display_data"
    },
    {
     "data": {
      "application/vnd.jupyter.widget-view+json": {
       "model_id": "825f4aff800c40fdb544cc85423b01ea",
       "version_major": 2,
       "version_minor": 0
      },
      "text/plain": [
       "Analyzing comments:   0%|          | 0/2 [00:00<?, ?comment/s]"
      ]
     },
     "metadata": {},
     "output_type": "display_data"
    },
    {
     "data": {
      "application/vnd.jupyter.widget-view+json": {
       "model_id": "0bff3f5e15154a55abe490fc077a5b45",
       "version_major": 2,
       "version_minor": 0
      },
      "text/plain": [
       "Analyzing comments:   0%|          | 0/49 [00:00<?, ?comment/s]"
      ]
     },
     "metadata": {},
     "output_type": "display_data"
    },
    {
     "data": {
      "application/vnd.jupyter.widget-view+json": {
       "model_id": "e644082d4d504e159bbe0c3f4f07ed72",
       "version_major": 2,
       "version_minor": 0
      },
      "text/plain": [
       "Analyzing comments:   0%|          | 0/65 [00:00<?, ?comment/s]"
      ]
     },
     "metadata": {},
     "output_type": "display_data"
    },
    {
     "data": {
      "application/vnd.jupyter.widget-view+json": {
       "model_id": "86c01059065d4aba9fcd8f4403cbf394",
       "version_major": 2,
       "version_minor": 0
      },
      "text/plain": [
       "Analyzing comments:   0%|          | 0/12 [00:00<?, ?comment/s]"
      ]
     },
     "metadata": {},
     "output_type": "display_data"
    },
    {
     "data": {
      "application/vnd.jupyter.widget-view+json": {
       "model_id": "5a138aac97204202993c43570c88bb5d",
       "version_major": 2,
       "version_minor": 0
      },
      "text/plain": [
       "Analyzing comments:   0%|          | 0/8 [00:00<?, ?comment/s]"
      ]
     },
     "metadata": {},
     "output_type": "display_data"
    },
    {
     "data": {
      "application/vnd.jupyter.widget-view+json": {
       "model_id": "3101da1d7868449696cece0acc79ac1c",
       "version_major": 2,
       "version_minor": 0
      },
      "text/plain": [
       "Analyzing comments:   0%|          | 0/35 [00:00<?, ?comment/s]"
      ]
     },
     "metadata": {},
     "output_type": "display_data"
    },
    {
     "data": {
      "application/vnd.jupyter.widget-view+json": {
       "model_id": "6487c4edd4d74b46bf9b77522af9f02a",
       "version_major": 2,
       "version_minor": 0
      },
      "text/plain": [
       "Analyzing comments:   0%|          | 0/27 [00:00<?, ?comment/s]"
      ]
     },
     "metadata": {},
     "output_type": "display_data"
    },
    {
     "data": {
      "application/vnd.jupyter.widget-view+json": {
       "model_id": "13d21065d80b4a969bd12482f725a796",
       "version_major": 2,
       "version_minor": 0
      },
      "text/plain": [
       "Analyzing comments:   0%|          | 0/38 [00:00<?, ?comment/s]"
      ]
     },
     "metadata": {},
     "output_type": "display_data"
    },
    {
     "data": {
      "application/vnd.jupyter.widget-view+json": {
       "model_id": "65c5e0d44dbe449aa1cb143325b48597",
       "version_major": 2,
       "version_minor": 0
      },
      "text/plain": [
       "Analyzing comments:   0%|          | 0/2 [00:00<?, ?comment/s]"
      ]
     },
     "metadata": {},
     "output_type": "display_data"
    },
    {
     "data": {
      "application/vnd.jupyter.widget-view+json": {
       "model_id": "5a281bb1fc24469bbfde8f0ba02a8b02",
       "version_major": 2,
       "version_minor": 0
      },
      "text/plain": [
       "Analyzing comments:   0%|          | 0/33 [00:00<?, ?comment/s]"
      ]
     },
     "metadata": {},
     "output_type": "display_data"
    },
    {
     "data": {
      "application/vnd.jupyter.widget-view+json": {
       "model_id": "2717b1f31d5e4584b72d974a16537a01",
       "version_major": 2,
       "version_minor": 0
      },
      "text/plain": [
       "Analyzing comments:   0%|          | 0/40 [00:00<?, ?comment/s]"
      ]
     },
     "metadata": {},
     "output_type": "display_data"
    },
    {
     "data": {
      "application/vnd.jupyter.widget-view+json": {
       "model_id": "2a5cdc4d835848878a0c468ac8e8ec32",
       "version_major": 2,
       "version_minor": 0
      },
      "text/plain": [
       "Analyzing comments:   0%|          | 0/12 [00:00<?, ?comment/s]"
      ]
     },
     "metadata": {},
     "output_type": "display_data"
    },
    {
     "data": {
      "application/vnd.jupyter.widget-view+json": {
       "model_id": "e1dac0c4704c4c73b9b94cafa0228d4b",
       "version_major": 2,
       "version_minor": 0
      },
      "text/plain": [
       "Analyzing comments:   0%|          | 0/19 [00:00<?, ?comment/s]"
      ]
     },
     "metadata": {},
     "output_type": "display_data"
    },
    {
     "data": {
      "application/vnd.jupyter.widget-view+json": {
       "model_id": "674aed9a39284249b22cfbaac56c422d",
       "version_major": 2,
       "version_minor": 0
      },
      "text/plain": [
       "Analyzing comments:   0%|          | 0/38 [00:00<?, ?comment/s]"
      ]
     },
     "metadata": {},
     "output_type": "display_data"
    },
    {
     "data": {
      "application/vnd.jupyter.widget-view+json": {
       "model_id": "4d975843f4a04161ad7b8b118cbecc04",
       "version_major": 2,
       "version_minor": 0
      },
      "text/plain": [
       "Analyzing comments:   0%|          | 0/1 [00:00<?, ?comment/s]"
      ]
     },
     "metadata": {},
     "output_type": "display_data"
    },
    {
     "data": {
      "application/vnd.jupyter.widget-view+json": {
       "model_id": "2c79c96f2fe245768f929f144c95cd73",
       "version_major": 2,
       "version_minor": 0
      },
      "text/plain": [
       "Analyzing comments: 0comment [00:00, ?comment/s]"
      ]
     },
     "metadata": {},
     "output_type": "display_data"
    },
    {
     "data": {
      "application/vnd.jupyter.widget-view+json": {
       "model_id": "0e6b321bce344710b5e1b7021efc3ebf",
       "version_major": 2,
       "version_minor": 0
      },
      "text/plain": [
       "Analyzing comments:   0%|          | 0/37 [00:00<?, ?comment/s]"
      ]
     },
     "metadata": {},
     "output_type": "display_data"
    },
    {
     "data": {
      "application/vnd.jupyter.widget-view+json": {
       "model_id": "e4496e7219534b06819b9274552a9d48",
       "version_major": 2,
       "version_minor": 0
      },
      "text/plain": [
       "Analyzing comments:   0%|          | 0/6 [00:00<?, ?comment/s]"
      ]
     },
     "metadata": {},
     "output_type": "display_data"
    },
    {
     "data": {
      "application/vnd.jupyter.widget-view+json": {
       "model_id": "85d212541bc54ba6b488fa2814c5cf4d",
       "version_major": 2,
       "version_minor": 0
      },
      "text/plain": [
       "Analyzing comments:   0%|          | 0/3 [00:00<?, ?comment/s]"
      ]
     },
     "metadata": {},
     "output_type": "display_data"
    },
    {
     "data": {
      "application/vnd.jupyter.widget-view+json": {
       "model_id": "6f296aafbcb3444bb817cc62815957af",
       "version_major": 2,
       "version_minor": 0
      },
      "text/plain": [
       "Analyzing comments:   0%|          | 0/3 [00:00<?, ?comment/s]"
      ]
     },
     "metadata": {},
     "output_type": "display_data"
    },
    {
     "data": {
      "application/vnd.jupyter.widget-view+json": {
       "model_id": "c953c8a9387a447c885a73181514738f",
       "version_major": 2,
       "version_minor": 0
      },
      "text/plain": [
       "Analyzing comments:   0%|          | 0/43 [00:00<?, ?comment/s]"
      ]
     },
     "metadata": {},
     "output_type": "display_data"
    },
    {
     "data": {
      "application/vnd.jupyter.widget-view+json": {
       "model_id": "b61fcb889e0b4a939d15537d8cf7681b",
       "version_major": 2,
       "version_minor": 0
      },
      "text/plain": [
       "Analyzing comments:   0%|          | 0/9 [00:00<?, ?comment/s]"
      ]
     },
     "metadata": {},
     "output_type": "display_data"
    },
    {
     "data": {
      "application/vnd.jupyter.widget-view+json": {
       "model_id": "90a4505bd748473686ff544b6bd17850",
       "version_major": 2,
       "version_minor": 0
      },
      "text/plain": [
       "Analyzing comments:   0%|          | 0/8 [00:00<?, ?comment/s]"
      ]
     },
     "metadata": {},
     "output_type": "display_data"
    },
    {
     "data": {
      "application/vnd.jupyter.widget-view+json": {
       "model_id": "4af1d7bdcb2a405298e9723b1b74b87b",
       "version_major": 2,
       "version_minor": 0
      },
      "text/plain": [
       "Analyzing comments:   0%|          | 0/13 [00:00<?, ?comment/s]"
      ]
     },
     "metadata": {},
     "output_type": "display_data"
    },
    {
     "data": {
      "application/vnd.jupyter.widget-view+json": {
       "model_id": "f1563c3397ed4af7bc8f0f55caa4ec87",
       "version_major": 2,
       "version_minor": 0
      },
      "text/plain": [
       "Analyzing comments:   0%|          | 0/1 [00:00<?, ?comment/s]"
      ]
     },
     "metadata": {},
     "output_type": "display_data"
    },
    {
     "data": {
      "application/vnd.jupyter.widget-view+json": {
       "model_id": "8f69636be45440a29ce60ddb68f23dfe",
       "version_major": 2,
       "version_minor": 0
      },
      "text/plain": [
       "Analyzing comments:   0%|          | 0/1 [00:00<?, ?comment/s]"
      ]
     },
     "metadata": {},
     "output_type": "display_data"
    },
    {
     "data": {
      "application/vnd.jupyter.widget-view+json": {
       "model_id": "c6e7c3b15a964681967485beda6d6681",
       "version_major": 2,
       "version_minor": 0
      },
      "text/plain": [
       "Analyzing comments:   0%|          | 0/43 [00:00<?, ?comment/s]"
      ]
     },
     "metadata": {},
     "output_type": "display_data"
    },
    {
     "data": {
      "application/vnd.jupyter.widget-view+json": {
       "model_id": "ae314926fea0435ab11ac981849c8410",
       "version_major": 2,
       "version_minor": 0
      },
      "text/plain": [
       "Analyzing comments:   0%|          | 0/25 [00:00<?, ?comment/s]"
      ]
     },
     "metadata": {},
     "output_type": "display_data"
    },
    {
     "data": {
      "application/vnd.jupyter.widget-view+json": {
       "model_id": "460c71f1b2ba4972b592f8ff7aebfabc",
       "version_major": 2,
       "version_minor": 0
      },
      "text/plain": [
       "Analyzing comments:   0%|          | 0/33 [00:00<?, ?comment/s]"
      ]
     },
     "metadata": {},
     "output_type": "display_data"
    },
    {
     "data": {
      "application/vnd.jupyter.widget-view+json": {
       "model_id": "ed20cf518bfd4a87bbdd4d093459b4b2",
       "version_major": 2,
       "version_minor": 0
      },
      "text/plain": [
       "Analyzing comments:   0%|          | 0/38 [00:00<?, ?comment/s]"
      ]
     },
     "metadata": {},
     "output_type": "display_data"
    },
    {
     "data": {
      "application/vnd.jupyter.widget-view+json": {
       "model_id": "90b8a3b577444fc59977798a1e654ce2",
       "version_major": 2,
       "version_minor": 0
      },
      "text/plain": [
       "Analyzing comments:   0%|          | 0/1 [00:00<?, ?comment/s]"
      ]
     },
     "metadata": {},
     "output_type": "display_data"
    },
    {
     "data": {
      "application/vnd.jupyter.widget-view+json": {
       "model_id": "5ba9004a985549e3a17cd113e83686da",
       "version_major": 2,
       "version_minor": 0
      },
      "text/plain": [
       "Analyzing comments:   0%|          | 0/15 [00:00<?, ?comment/s]"
      ]
     },
     "metadata": {},
     "output_type": "display_data"
    },
    {
     "data": {
      "application/vnd.jupyter.widget-view+json": {
       "model_id": "48224dd605874a349f111a83751fe314",
       "version_major": 2,
       "version_minor": 0
      },
      "text/plain": [
       "Analyzing comments:   0%|          | 0/18 [00:00<?, ?comment/s]"
      ]
     },
     "metadata": {},
     "output_type": "display_data"
    },
    {
     "data": {
      "application/vnd.jupyter.widget-view+json": {
       "model_id": "aa29c497131f4f4d8a63f1e50cfc3382",
       "version_major": 2,
       "version_minor": 0
      },
      "text/plain": [
       "Analyzing comments:   0%|          | 0/29 [00:00<?, ?comment/s]"
      ]
     },
     "metadata": {},
     "output_type": "display_data"
    },
    {
     "data": {
      "application/vnd.jupyter.widget-view+json": {
       "model_id": "c11009e30c64400c8c91fd2ddff5910d",
       "version_major": 2,
       "version_minor": 0
      },
      "text/plain": [
       "Analyzing comments:   0%|          | 0/12 [00:00<?, ?comment/s]"
      ]
     },
     "metadata": {},
     "output_type": "display_data"
    },
    {
     "data": {
      "application/vnd.jupyter.widget-view+json": {
       "model_id": "be4b577a72fc42daaa76d43936c37077",
       "version_major": 2,
       "version_minor": 0
      },
      "text/plain": [
       "Analyzing comments:   0%|          | 0/20 [00:00<?, ?comment/s]"
      ]
     },
     "metadata": {},
     "output_type": "display_data"
    },
    {
     "data": {
      "application/vnd.jupyter.widget-view+json": {
       "model_id": "b02521e8162d4b76b481a17d12be1516",
       "version_major": 2,
       "version_minor": 0
      },
      "text/plain": [
       "Analyzing comments:   0%|          | 0/2 [00:00<?, ?comment/s]"
      ]
     },
     "metadata": {},
     "output_type": "display_data"
    },
    {
     "data": {
      "application/vnd.jupyter.widget-view+json": {
       "model_id": "7032e782740949989fd48f88a6cdc815",
       "version_major": 2,
       "version_minor": 0
      },
      "text/plain": [
       "Analyzing comments:   0%|          | 0/18 [00:00<?, ?comment/s]"
      ]
     },
     "metadata": {},
     "output_type": "display_data"
    },
    {
     "data": {
      "application/vnd.jupyter.widget-view+json": {
       "model_id": "742be0390edd434691b0555d322b6a6b",
       "version_major": 2,
       "version_minor": 0
      },
      "text/plain": [
       "Analyzing comments:   0%|          | 0/36 [00:00<?, ?comment/s]"
      ]
     },
     "metadata": {},
     "output_type": "display_data"
    },
    {
     "data": {
      "application/vnd.jupyter.widget-view+json": {
       "model_id": "0144d99844b74a95b9de2e10ec366545",
       "version_major": 2,
       "version_minor": 0
      },
      "text/plain": [
       "Analyzing comments:   0%|          | 0/14 [00:00<?, ?comment/s]"
      ]
     },
     "metadata": {},
     "output_type": "display_data"
    },
    {
     "data": {
      "application/vnd.jupyter.widget-view+json": {
       "model_id": "f06d69a2c2e7484bac93febe05daf121",
       "version_major": 2,
       "version_minor": 0
      },
      "text/plain": [
       "Analyzing comments:   0%|          | 0/2 [00:00<?, ?comment/s]"
      ]
     },
     "metadata": {},
     "output_type": "display_data"
    },
    {
     "data": {
      "application/vnd.jupyter.widget-view+json": {
       "model_id": "4ff0adf6de0b4b24a3fb42cc6e663d8d",
       "version_major": 2,
       "version_minor": 0
      },
      "text/plain": [
       "Analyzing comments:   0%|          | 0/10 [00:00<?, ?comment/s]"
      ]
     },
     "metadata": {},
     "output_type": "display_data"
    },
    {
     "data": {
      "application/vnd.jupyter.widget-view+json": {
       "model_id": "1f415a8082a94ce9ac4580ca545d91b0",
       "version_major": 2,
       "version_minor": 0
      },
      "text/plain": [
       "Analyzing comments:   0%|          | 0/6 [00:00<?, ?comment/s]"
      ]
     },
     "metadata": {},
     "output_type": "display_data"
    },
    {
     "data": {
      "application/vnd.jupyter.widget-view+json": {
       "model_id": "dca8c438cce1452f82edf08b4a9ca36c",
       "version_major": 2,
       "version_minor": 0
      },
      "text/plain": [
       "Analyzing comments:   0%|          | 0/39 [00:00<?, ?comment/s]"
      ]
     },
     "metadata": {},
     "output_type": "display_data"
    },
    {
     "data": {
      "application/vnd.jupyter.widget-view+json": {
       "model_id": "0faef521d3da4111b95c2731d82fa098",
       "version_major": 2,
       "version_minor": 0
      },
      "text/plain": [
       "Analyzing comments:   0%|          | 0/8 [00:00<?, ?comment/s]"
      ]
     },
     "metadata": {},
     "output_type": "display_data"
    },
    {
     "data": {
      "application/vnd.jupyter.widget-view+json": {
       "model_id": "b0a0a35f53074afb85c30b4e4d782e1f",
       "version_major": 2,
       "version_minor": 0
      },
      "text/plain": [
       "Analyzing comments:   0%|          | 0/38 [00:00<?, ?comment/s]"
      ]
     },
     "metadata": {},
     "output_type": "display_data"
    },
    {
     "data": {
      "application/vnd.jupyter.widget-view+json": {
       "model_id": "7cf860d9b4404aa98eec5635462e969b",
       "version_major": 2,
       "version_minor": 0
      },
      "text/plain": [
       "Analyzing comments:   0%|          | 0/3 [00:00<?, ?comment/s]"
      ]
     },
     "metadata": {},
     "output_type": "display_data"
    },
    {
     "data": {
      "application/vnd.jupyter.widget-view+json": {
       "model_id": "9cceb14dc1964835aede5bc248067f8a",
       "version_major": 2,
       "version_minor": 0
      },
      "text/plain": [
       "Analyzing comments:   0%|          | 0/38 [00:00<?, ?comment/s]"
      ]
     },
     "metadata": {},
     "output_type": "display_data"
    },
    {
     "data": {
      "application/vnd.jupyter.widget-view+json": {
       "model_id": "06c239745b4f4ed3a0acf38917adcc16",
       "version_major": 2,
       "version_minor": 0
      },
      "text/plain": [
       "Analyzing comments:   0%|          | 0/36 [00:00<?, ?comment/s]"
      ]
     },
     "metadata": {},
     "output_type": "display_data"
    },
    {
     "data": {
      "application/vnd.jupyter.widget-view+json": {
       "model_id": "558b684b780f40d39b896ccbfbd23fba",
       "version_major": 2,
       "version_minor": 0
      },
      "text/plain": [
       "Analyzing comments:   0%|          | 0/6 [00:00<?, ?comment/s]"
      ]
     },
     "metadata": {},
     "output_type": "display_data"
    },
    {
     "data": {
      "application/vnd.jupyter.widget-view+json": {
       "model_id": "aa06803aa5834d7ebfa46c1a71ffbf7d",
       "version_major": 2,
       "version_minor": 0
      },
      "text/plain": [
       "Analyzing comments:   0%|          | 0/33 [00:00<?, ?comment/s]"
      ]
     },
     "metadata": {},
     "output_type": "display_data"
    },
    {
     "data": {
      "application/vnd.jupyter.widget-view+json": {
       "model_id": "5905b1cb15fd4061afd7784ba6eb6e99",
       "version_major": 2,
       "version_minor": 0
      },
      "text/plain": [
       "Analyzing comments:   0%|          | 0/5 [00:00<?, ?comment/s]"
      ]
     },
     "metadata": {},
     "output_type": "display_data"
    },
    {
     "data": {
      "application/vnd.jupyter.widget-view+json": {
       "model_id": "311e8396836a4af48757a5389bceba26",
       "version_major": 2,
       "version_minor": 0
      },
      "text/plain": [
       "Analyzing comments:   0%|          | 0/35 [00:00<?, ?comment/s]"
      ]
     },
     "metadata": {},
     "output_type": "display_data"
    },
    {
     "data": {
      "application/vnd.jupyter.widget-view+json": {
       "model_id": "a17d59de78e9470cb7dd324394d7b768",
       "version_major": 2,
       "version_minor": 0
      },
      "text/plain": [
       "Analyzing comments:   0%|          | 0/41 [00:00<?, ?comment/s]"
      ]
     },
     "metadata": {},
     "output_type": "display_data"
    },
    {
     "data": {
      "application/vnd.jupyter.widget-view+json": {
       "model_id": "4b418d2129234daca8ce0c9594b14328",
       "version_major": 2,
       "version_minor": 0
      },
      "text/plain": [
       "Analyzing comments:   0%|          | 0/3 [00:00<?, ?comment/s]"
      ]
     },
     "metadata": {},
     "output_type": "display_data"
    },
    {
     "data": {
      "application/vnd.jupyter.widget-view+json": {
       "model_id": "3c2d29298b0a469d8e047ec1ec1358aa",
       "version_major": 2,
       "version_minor": 0
      },
      "text/plain": [
       "Analyzing comments:   0%|          | 0/16 [00:00<?, ?comment/s]"
      ]
     },
     "metadata": {},
     "output_type": "display_data"
    },
    {
     "data": {
      "application/vnd.jupyter.widget-view+json": {
       "model_id": "d0196b38d2f9474c86ceac9824bb774d",
       "version_major": 2,
       "version_minor": 0
      },
      "text/plain": [
       "Analyzing comments:   0%|          | 0/37 [00:00<?, ?comment/s]"
      ]
     },
     "metadata": {},
     "output_type": "display_data"
    },
    {
     "data": {
      "application/vnd.jupyter.widget-view+json": {
       "model_id": "05adbb14914544dda284aa0ab7c05b2b",
       "version_major": 2,
       "version_minor": 0
      },
      "text/plain": [
       "Analyzing comments:   0%|          | 0/6 [00:00<?, ?comment/s]"
      ]
     },
     "metadata": {},
     "output_type": "display_data"
    },
    {
     "data": {
      "application/vnd.jupyter.widget-view+json": {
       "model_id": "64b60500bd574fb395cc7c0f28c549b7",
       "version_major": 2,
       "version_minor": 0
      },
      "text/plain": [
       "Analyzing comments:   0%|          | 0/39 [00:00<?, ?comment/s]"
      ]
     },
     "metadata": {},
     "output_type": "display_data"
    },
    {
     "data": {
      "application/vnd.jupyter.widget-view+json": {
       "model_id": "a900e2ecf20d435ea6cd85e30a18144f",
       "version_major": 2,
       "version_minor": 0
      },
      "text/plain": [
       "Analyzing comments: 0comment [00:00, ?comment/s]"
      ]
     },
     "metadata": {},
     "output_type": "display_data"
    },
    {
     "data": {
      "application/vnd.jupyter.widget-view+json": {
       "model_id": "e510595dd2a34beab8a749276367928a",
       "version_major": 2,
       "version_minor": 0
      },
      "text/plain": [
       "Analyzing comments:   0%|          | 0/1 [00:00<?, ?comment/s]"
      ]
     },
     "metadata": {},
     "output_type": "display_data"
    },
    {
     "data": {
      "application/vnd.jupyter.widget-view+json": {
       "model_id": "99909f627b214e6b9def3ec776617f44",
       "version_major": 2,
       "version_minor": 0
      },
      "text/plain": [
       "Analyzing comments:   0%|          | 0/42 [00:00<?, ?comment/s]"
      ]
     },
     "metadata": {},
     "output_type": "display_data"
    },
    {
     "data": {
      "application/vnd.jupyter.widget-view+json": {
       "model_id": "f84f6313971940b889d18c4e58585ff0",
       "version_major": 2,
       "version_minor": 0
      },
      "text/plain": [
       "Analyzing comments:   0%|          | 0/39 [00:00<?, ?comment/s]"
      ]
     },
     "metadata": {},
     "output_type": "display_data"
    },
    {
     "data": {
      "application/vnd.jupyter.widget-view+json": {
       "model_id": "d6f8b1231e5744cd932e30ff62d0445e",
       "version_major": 2,
       "version_minor": 0
      },
      "text/plain": [
       "Analyzing comments: 0comment [00:00, ?comment/s]"
      ]
     },
     "metadata": {},
     "output_type": "display_data"
    },
    {
     "data": {
      "application/vnd.jupyter.widget-view+json": {
       "model_id": "1318c3176fa946d78396e46bda2ce6c7",
       "version_major": 2,
       "version_minor": 0
      },
      "text/plain": [
       "Analyzing comments:   0%|          | 0/27 [00:00<?, ?comment/s]"
      ]
     },
     "metadata": {},
     "output_type": "display_data"
    },
    {
     "data": {
      "application/vnd.jupyter.widget-view+json": {
       "model_id": "1bc883d95fc54c1b99239a919c5f87d9",
       "version_major": 2,
       "version_minor": 0
      },
      "text/plain": [
       "Analyzing comments:   0%|          | 0/4 [00:00<?, ?comment/s]"
      ]
     },
     "metadata": {},
     "output_type": "display_data"
    },
    {
     "data": {
      "application/vnd.jupyter.widget-view+json": {
       "model_id": "b51d6148bf7040d2b9dd1e40cdcf4f45",
       "version_major": 2,
       "version_minor": 0
      },
      "text/plain": [
       "Analyzing comments:   0%|          | 0/17 [00:00<?, ?comment/s]"
      ]
     },
     "metadata": {},
     "output_type": "display_data"
    },
    {
     "data": {
      "application/vnd.jupyter.widget-view+json": {
       "model_id": "5c2a2f14a94b468e988abb32d8724570",
       "version_major": 2,
       "version_minor": 0
      },
      "text/plain": [
       "Analyzing comments:   0%|          | 0/24 [00:00<?, ?comment/s]"
      ]
     },
     "metadata": {},
     "output_type": "display_data"
    },
    {
     "data": {
      "application/vnd.jupyter.widget-view+json": {
       "model_id": "c415ef5c753f40009af5f9dc196ef759",
       "version_major": 2,
       "version_minor": 0
      },
      "text/plain": [
       "Analyzing comments:   0%|          | 0/39 [00:00<?, ?comment/s]"
      ]
     },
     "metadata": {},
     "output_type": "display_data"
    },
    {
     "data": {
      "application/vnd.jupyter.widget-view+json": {
       "model_id": "05d3c5dcdac74b4cab73e502497905bb",
       "version_major": 2,
       "version_minor": 0
      },
      "text/plain": [
       "Analyzing comments:   0%|          | 0/6 [00:00<?, ?comment/s]"
      ]
     },
     "metadata": {},
     "output_type": "display_data"
    },
    {
     "data": {
      "application/vnd.jupyter.widget-view+json": {
       "model_id": "a91e2cd63e534a6cb109c48b709069c7",
       "version_major": 2,
       "version_minor": 0
      },
      "text/plain": [
       "Analyzing comments:   0%|          | 0/28 [00:00<?, ?comment/s]"
      ]
     },
     "metadata": {},
     "output_type": "display_data"
    },
    {
     "data": {
      "application/vnd.jupyter.widget-view+json": {
       "model_id": "846b26b19b784f2086db3a5aed8bb9f0",
       "version_major": 2,
       "version_minor": 0
      },
      "text/plain": [
       "Analyzing comments:   0%|          | 0/30 [00:00<?, ?comment/s]"
      ]
     },
     "metadata": {},
     "output_type": "display_data"
    },
    {
     "data": {
      "application/vnd.jupyter.widget-view+json": {
       "model_id": "c7adaa3e91b94763970ecc4752b4f762",
       "version_major": 2,
       "version_minor": 0
      },
      "text/plain": [
       "Analyzing comments:   0%|          | 0/6 [00:00<?, ?comment/s]"
      ]
     },
     "metadata": {},
     "output_type": "display_data"
    },
    {
     "data": {
      "application/vnd.jupyter.widget-view+json": {
       "model_id": "a22cb5f85ca7406dbdecb6d5c796c284",
       "version_major": 2,
       "version_minor": 0
      },
      "text/plain": [
       "Analyzing comments:   0%|          | 0/2 [00:00<?, ?comment/s]"
      ]
     },
     "metadata": {},
     "output_type": "display_data"
    },
    {
     "data": {
      "application/vnd.jupyter.widget-view+json": {
       "model_id": "70333de59e7549d7997b5ae600ee3fd7",
       "version_major": 2,
       "version_minor": 0
      },
      "text/plain": [
       "Analyzing comments:   0%|          | 0/19 [00:00<?, ?comment/s]"
      ]
     },
     "metadata": {},
     "output_type": "display_data"
    },
    {
     "data": {
      "application/vnd.jupyter.widget-view+json": {
       "model_id": "a702a98bf4f2413a8baf6e821b00ceea",
       "version_major": 2,
       "version_minor": 0
      },
      "text/plain": [
       "Analyzing comments:   0%|          | 0/21 [00:00<?, ?comment/s]"
      ]
     },
     "metadata": {},
     "output_type": "display_data"
    },
    {
     "data": {
      "application/vnd.jupyter.widget-view+json": {
       "model_id": "db17f7013bab4600ae37b56182cb35e9",
       "version_major": 2,
       "version_minor": 0
      },
      "text/plain": [
       "Analyzing comments:   0%|          | 0/36 [00:00<?, ?comment/s]"
      ]
     },
     "metadata": {},
     "output_type": "display_data"
    },
    {
     "data": {
      "application/vnd.jupyter.widget-view+json": {
       "model_id": "0b42a6cb5e9e43b194904db6d371f6e1",
       "version_major": 2,
       "version_minor": 0
      },
      "text/plain": [
       "Analyzing comments:   0%|          | 0/9 [00:00<?, ?comment/s]"
      ]
     },
     "metadata": {},
     "output_type": "display_data"
    },
    {
     "data": {
      "application/vnd.jupyter.widget-view+json": {
       "model_id": "f39b11fdc5a54683a63f3fa927289f66",
       "version_major": 2,
       "version_minor": 0
      },
      "text/plain": [
       "Analyzing comments:   0%|          | 0/24 [00:00<?, ?comment/s]"
      ]
     },
     "metadata": {},
     "output_type": "display_data"
    },
    {
     "data": {
      "application/vnd.jupyter.widget-view+json": {
       "model_id": "c5cffb13043c480c9f944fd35b677ffe",
       "version_major": 2,
       "version_minor": 0
      },
      "text/plain": [
       "Analyzing comments:   0%|          | 0/4 [00:00<?, ?comment/s]"
      ]
     },
     "metadata": {},
     "output_type": "display_data"
    },
    {
     "data": {
      "application/vnd.jupyter.widget-view+json": {
       "model_id": "53c70c2bdcb54adf91f128ac88193f3a",
       "version_major": 2,
       "version_minor": 0
      },
      "text/plain": [
       "Analyzing comments:   0%|          | 0/8 [00:00<?, ?comment/s]"
      ]
     },
     "metadata": {},
     "output_type": "display_data"
    },
    {
     "data": {
      "application/vnd.jupyter.widget-view+json": {
       "model_id": "2d7a05af20d24f689e9e09ccb445bcf3",
       "version_major": 2,
       "version_minor": 0
      },
      "text/plain": [
       "Analyzing comments:   0%|          | 0/5 [00:00<?, ?comment/s]"
      ]
     },
     "metadata": {},
     "output_type": "display_data"
    },
    {
     "data": {
      "application/vnd.jupyter.widget-view+json": {
       "model_id": "b96bfc89ec6a47818c1f64eb8e3c223a",
       "version_major": 2,
       "version_minor": 0
      },
      "text/plain": [
       "Analyzing comments: 0comment [00:00, ?comment/s]"
      ]
     },
     "metadata": {},
     "output_type": "display_data"
    },
    {
     "data": {
      "application/vnd.jupyter.widget-view+json": {
       "model_id": "ea3ce94c29f9410297d70892aa228a5b",
       "version_major": 2,
       "version_minor": 0
      },
      "text/plain": [
       "Analyzing comments:   0%|          | 0/20 [00:00<?, ?comment/s]"
      ]
     },
     "metadata": {},
     "output_type": "display_data"
    },
    {
     "data": {
      "application/vnd.jupyter.widget-view+json": {
       "model_id": "f3350397b6a148ef9b7bb8fe602f74ee",
       "version_major": 2,
       "version_minor": 0
      },
      "text/plain": [
       "Analyzing comments:   0%|          | 0/12 [00:00<?, ?comment/s]"
      ]
     },
     "metadata": {},
     "output_type": "display_data"
    },
    {
     "data": {
      "application/vnd.jupyter.widget-view+json": {
       "model_id": "b4cd8326adeb4fc78e713b958d79954e",
       "version_major": 2,
       "version_minor": 0
      },
      "text/plain": [
       "Analyzing comments:   0%|          | 0/20 [00:00<?, ?comment/s]"
      ]
     },
     "metadata": {},
     "output_type": "display_data"
    },
    {
     "data": {
      "application/vnd.jupyter.widget-view+json": {
       "model_id": "e738dbe330b94261b47f4f105debe545",
       "version_major": 2,
       "version_minor": 0
      },
      "text/plain": [
       "Analyzing comments:   0%|          | 0/20 [00:00<?, ?comment/s]"
      ]
     },
     "metadata": {},
     "output_type": "display_data"
    },
    {
     "data": {
      "application/vnd.jupyter.widget-view+json": {
       "model_id": "279827e1c0f74b3092299f58a051d575",
       "version_major": 2,
       "version_minor": 0
      },
      "text/plain": [
       "Analyzing comments:   0%|          | 0/16 [00:00<?, ?comment/s]"
      ]
     },
     "metadata": {},
     "output_type": "display_data"
    },
    {
     "data": {
      "application/vnd.jupyter.widget-view+json": {
       "model_id": "e0a021e5658d449f8eac49b5ea8e5b30",
       "version_major": 2,
       "version_minor": 0
      },
      "text/plain": [
       "Analyzing comments:   0%|          | 0/19 [00:00<?, ?comment/s]"
      ]
     },
     "metadata": {},
     "output_type": "display_data"
    },
    {
     "data": {
      "application/vnd.jupyter.widget-view+json": {
       "model_id": "a14bc02bfe554092b2ec0e5345a12b6e",
       "version_major": 2,
       "version_minor": 0
      },
      "text/plain": [
       "Analyzing comments:   0%|          | 0/9 [00:00<?, ?comment/s]"
      ]
     },
     "metadata": {},
     "output_type": "display_data"
    },
    {
     "data": {
      "application/vnd.jupyter.widget-view+json": {
       "model_id": "3cdfd7c5be3b4d0ba4e432bc574f121a",
       "version_major": 2,
       "version_minor": 0
      },
      "text/plain": [
       "Analyzing comments:   0%|          | 0/21 [00:00<?, ?comment/s]"
      ]
     },
     "metadata": {},
     "output_type": "display_data"
    },
    {
     "data": {
      "application/vnd.jupyter.widget-view+json": {
       "model_id": "1912b413c1c34f6a8a433adbedd307a7",
       "version_major": 2,
       "version_minor": 0
      },
      "text/plain": [
       "Analyzing comments:   0%|          | 0/12 [00:00<?, ?comment/s]"
      ]
     },
     "metadata": {},
     "output_type": "display_data"
    },
    {
     "data": {
      "application/vnd.jupyter.widget-view+json": {
       "model_id": "594cfb6f7e3249889aacee86af44d8d0",
       "version_major": 2,
       "version_minor": 0
      },
      "text/plain": [
       "Analyzing comments:   0%|          | 0/19 [00:00<?, ?comment/s]"
      ]
     },
     "metadata": {},
     "output_type": "display_data"
    },
    {
     "data": {
      "application/vnd.jupyter.widget-view+json": {
       "model_id": "6369ef8d901448648ebca2bf0a99edef",
       "version_major": 2,
       "version_minor": 0
      },
      "text/plain": [
       "Analyzing comments:   0%|          | 0/25 [00:00<?, ?comment/s]"
      ]
     },
     "metadata": {},
     "output_type": "display_data"
    },
    {
     "data": {
      "application/vnd.jupyter.widget-view+json": {
       "model_id": "b8e42e90a3494cf292250350ac56e909",
       "version_major": 2,
       "version_minor": 0
      },
      "text/plain": [
       "Analyzing comments:   0%|          | 0/3 [00:00<?, ?comment/s]"
      ]
     },
     "metadata": {},
     "output_type": "display_data"
    },
    {
     "data": {
      "application/vnd.jupyter.widget-view+json": {
       "model_id": "300a6acc726a47308fe68e412c3496ea",
       "version_major": 2,
       "version_minor": 0
      },
      "text/plain": [
       "Analyzing comments:   0%|          | 0/4 [00:00<?, ?comment/s]"
      ]
     },
     "metadata": {},
     "output_type": "display_data"
    },
    {
     "data": {
      "application/vnd.jupyter.widget-view+json": {
       "model_id": "62d02548faee4aa9be4a835b63f5f4db",
       "version_major": 2,
       "version_minor": 0
      },
      "text/plain": [
       "Analyzing comments: 0comment [00:00, ?comment/s]"
      ]
     },
     "metadata": {},
     "output_type": "display_data"
    },
    {
     "data": {
      "application/vnd.jupyter.widget-view+json": {
       "model_id": "f127e89544614752933a45be81f4f13b",
       "version_major": 2,
       "version_minor": 0
      },
      "text/plain": [
       "Analyzing comments:   0%|          | 0/3 [00:00<?, ?comment/s]"
      ]
     },
     "metadata": {},
     "output_type": "display_data"
    },
    {
     "data": {
      "application/vnd.jupyter.widget-view+json": {
       "model_id": "a73616f1fa7a43d89911e843cfc10215",
       "version_major": 2,
       "version_minor": 0
      },
      "text/plain": [
       "Analyzing comments:   0%|          | 0/21 [00:00<?, ?comment/s]"
      ]
     },
     "metadata": {},
     "output_type": "display_data"
    },
    {
     "data": {
      "application/vnd.jupyter.widget-view+json": {
       "model_id": "50a209f1dd704600ac5d2aebe7fc78aa",
       "version_major": 2,
       "version_minor": 0
      },
      "text/plain": [
       "Analyzing comments:   0%|          | 0/11 [00:00<?, ?comment/s]"
      ]
     },
     "metadata": {},
     "output_type": "display_data"
    },
    {
     "data": {
      "application/vnd.jupyter.widget-view+json": {
       "model_id": "20fdaf6d10b140a6b3b45c63dca3a189",
       "version_major": 2,
       "version_minor": 0
      },
      "text/plain": [
       "Analyzing comments:   0%|          | 0/19 [00:00<?, ?comment/s]"
      ]
     },
     "metadata": {},
     "output_type": "display_data"
    },
    {
     "data": {
      "application/vnd.jupyter.widget-view+json": {
       "model_id": "17b7ab0766ca4125880e15f2f828b00b",
       "version_major": 2,
       "version_minor": 0
      },
      "text/plain": [
       "Analyzing comments:   0%|          | 0/23 [00:00<?, ?comment/s]"
      ]
     },
     "metadata": {},
     "output_type": "display_data"
    },
    {
     "data": {
      "application/vnd.jupyter.widget-view+json": {
       "model_id": "ed7a98e79ebe4f0d9361b1b932ae375c",
       "version_major": 2,
       "version_minor": 0
      },
      "text/plain": [
       "Analyzing comments:   0%|          | 0/18 [00:00<?, ?comment/s]"
      ]
     },
     "metadata": {},
     "output_type": "display_data"
    },
    {
     "data": {
      "application/vnd.jupyter.widget-view+json": {
       "model_id": "e35e0f02e0f0447eb51a89b163de03af",
       "version_major": 2,
       "version_minor": 0
      },
      "text/plain": [
       "Analyzing comments:   0%|          | 0/29 [00:00<?, ?comment/s]"
      ]
     },
     "metadata": {},
     "output_type": "display_data"
    },
    {
     "data": {
      "application/vnd.jupyter.widget-view+json": {
       "model_id": "4b6db4186bc0494eb232c826a8768a0c",
       "version_major": 2,
       "version_minor": 0
      },
      "text/plain": [
       "Analyzing comments:   0%|          | 0/2 [00:00<?, ?comment/s]"
      ]
     },
     "metadata": {},
     "output_type": "display_data"
    },
    {
     "data": {
      "application/vnd.jupyter.widget-view+json": {
       "model_id": "ae384f17083a4cc8a1fae8c3e2ace898",
       "version_major": 2,
       "version_minor": 0
      },
      "text/plain": [
       "Analyzing comments:   0%|          | 0/27 [00:00<?, ?comment/s]"
      ]
     },
     "metadata": {},
     "output_type": "display_data"
    },
    {
     "data": {
      "application/vnd.jupyter.widget-view+json": {
       "model_id": "7db4f901964c472c88c09eb0fdfc7cb6",
       "version_major": 2,
       "version_minor": 0
      },
      "text/plain": [
       "Analyzing comments:   0%|          | 0/36 [00:00<?, ?comment/s]"
      ]
     },
     "metadata": {},
     "output_type": "display_data"
    },
    {
     "data": {
      "application/vnd.jupyter.widget-view+json": {
       "model_id": "704eadda49d34e81850d82206cf549a1",
       "version_major": 2,
       "version_minor": 0
      },
      "text/plain": [
       "Analyzing comments:   0%|          | 0/40 [00:00<?, ?comment/s]"
      ]
     },
     "metadata": {},
     "output_type": "display_data"
    },
    {
     "data": {
      "application/vnd.jupyter.widget-view+json": {
       "model_id": "4b54930f3fad4680b31a55a99b2a8383",
       "version_major": 2,
       "version_minor": 0
      },
      "text/plain": [
       "Analyzing comments:   0%|          | 0/42 [00:00<?, ?comment/s]"
      ]
     },
     "metadata": {},
     "output_type": "display_data"
    },
    {
     "data": {
      "application/vnd.jupyter.widget-view+json": {
       "model_id": "94b3c289ee934679b3e7db00c404b23f",
       "version_major": 2,
       "version_minor": 0
      },
      "text/plain": [
       "Analyzing comments:   0%|          | 0/13 [00:00<?, ?comment/s]"
      ]
     },
     "metadata": {},
     "output_type": "display_data"
    },
    {
     "data": {
      "application/vnd.jupyter.widget-view+json": {
       "model_id": "849882c48b294967b5d9b018f2927ae3",
       "version_major": 2,
       "version_minor": 0
      },
      "text/plain": [
       "Analyzing comments:   0%|          | 0/6 [00:00<?, ?comment/s]"
      ]
     },
     "metadata": {},
     "output_type": "display_data"
    },
    {
     "data": {
      "application/vnd.jupyter.widget-view+json": {
       "model_id": "436928ac30134c0ab02f2e7ebc0fd024",
       "version_major": 2,
       "version_minor": 0
      },
      "text/plain": [
       "Analyzing comments:   0%|          | 0/13 [00:00<?, ?comment/s]"
      ]
     },
     "metadata": {},
     "output_type": "display_data"
    },
    {
     "data": {
      "application/vnd.jupyter.widget-view+json": {
       "model_id": "f6400fc422c54fbf9d75d0cffc41c11e",
       "version_major": 2,
       "version_minor": 0
      },
      "text/plain": [
       "Analyzing comments:   0%|          | 0/3 [00:00<?, ?comment/s]"
      ]
     },
     "metadata": {},
     "output_type": "display_data"
    },
    {
     "data": {
      "application/vnd.jupyter.widget-view+json": {
       "model_id": "80233c958f6d43078a8e8d095f3af1c1",
       "version_major": 2,
       "version_minor": 0
      },
      "text/plain": [
       "Analyzing comments:   0%|          | 0/34 [00:00<?, ?comment/s]"
      ]
     },
     "metadata": {},
     "output_type": "display_data"
    },
    {
     "data": {
      "application/vnd.jupyter.widget-view+json": {
       "model_id": "f5119c7ac75440c1894ecab522d28690",
       "version_major": 2,
       "version_minor": 0
      },
      "text/plain": [
       "Analyzing comments:   0%|          | 0/31 [00:00<?, ?comment/s]"
      ]
     },
     "metadata": {},
     "output_type": "display_data"
    },
    {
     "data": {
      "application/vnd.jupyter.widget-view+json": {
       "model_id": "90cf81004d014da88ff4e89b73b89e0e",
       "version_major": 2,
       "version_minor": 0
      },
      "text/plain": [
       "Analyzing comments:   0%|          | 0/34 [00:00<?, ?comment/s]"
      ]
     },
     "metadata": {},
     "output_type": "display_data"
    },
    {
     "data": {
      "application/vnd.jupyter.widget-view+json": {
       "model_id": "2d55c49c7e4f4e238b1cdb8917592c0d",
       "version_major": 2,
       "version_minor": 0
      },
      "text/plain": [
       "Analyzing comments:   0%|          | 0/5 [00:00<?, ?comment/s]"
      ]
     },
     "metadata": {},
     "output_type": "display_data"
    },
    {
     "data": {
      "application/vnd.jupyter.widget-view+json": {
       "model_id": "ce39f815e7b444a7a7b2e7c16a93e584",
       "version_major": 2,
       "version_minor": 0
      },
      "text/plain": [
       "Analyzing comments:   0%|          | 0/38 [00:00<?, ?comment/s]"
      ]
     },
     "metadata": {},
     "output_type": "display_data"
    },
    {
     "data": {
      "application/vnd.jupyter.widget-view+json": {
       "model_id": "7b4a1c4d775442b5a2273220a01af6ab",
       "version_major": 2,
       "version_minor": 0
      },
      "text/plain": [
       "Analyzing comments:   0%|          | 0/39 [00:00<?, ?comment/s]"
      ]
     },
     "metadata": {},
     "output_type": "display_data"
    },
    {
     "data": {
      "application/vnd.jupyter.widget-view+json": {
       "model_id": "377d8af547d642ef8a4f0eb8d3908bc3",
       "version_major": 2,
       "version_minor": 0
      },
      "text/plain": [
       "Analyzing comments:   0%|          | 0/16 [00:00<?, ?comment/s]"
      ]
     },
     "metadata": {},
     "output_type": "display_data"
    },
    {
     "data": {
      "application/vnd.jupyter.widget-view+json": {
       "model_id": "a9a96cc3702a44738cd2294e5b36aa84",
       "version_major": 2,
       "version_minor": 0
      },
      "text/plain": [
       "Analyzing comments:   0%|          | 0/1 [00:00<?, ?comment/s]"
      ]
     },
     "metadata": {},
     "output_type": "display_data"
    },
    {
     "data": {
      "application/vnd.jupyter.widget-view+json": {
       "model_id": "f1f4cdebc84d4669bbfbee4b58ba8a4b",
       "version_major": 2,
       "version_minor": 0
      },
      "text/plain": [
       "Analyzing comments:   0%|          | 0/13 [00:00<?, ?comment/s]"
      ]
     },
     "metadata": {},
     "output_type": "display_data"
    },
    {
     "data": {
      "application/vnd.jupyter.widget-view+json": {
       "model_id": "e6d044dc81ba4eafb7f5c222429f5e00",
       "version_major": 2,
       "version_minor": 0
      },
      "text/plain": [
       "Analyzing comments:   0%|          | 0/32 [00:00<?, ?comment/s]"
      ]
     },
     "metadata": {},
     "output_type": "display_data"
    },
    {
     "data": {
      "application/vnd.jupyter.widget-view+json": {
       "model_id": "57114ba2b2e34bc0b53c3bde49b3e79c",
       "version_major": 2,
       "version_minor": 0
      },
      "text/plain": [
       "Analyzing comments:   0%|          | 0/39 [00:00<?, ?comment/s]"
      ]
     },
     "metadata": {},
     "output_type": "display_data"
    },
    {
     "data": {
      "application/vnd.jupyter.widget-view+json": {
       "model_id": "fd56415d624344019372f083319eb2b6",
       "version_major": 2,
       "version_minor": 0
      },
      "text/plain": [
       "Analyzing comments:   0%|          | 0/38 [00:00<?, ?comment/s]"
      ]
     },
     "metadata": {},
     "output_type": "display_data"
    },
    {
     "data": {
      "application/vnd.jupyter.widget-view+json": {
       "model_id": "500763b404fe4ea09b615d92990e9f71",
       "version_major": 2,
       "version_minor": 0
      },
      "text/plain": [
       "Analyzing comments:   0%|          | 0/37 [00:00<?, ?comment/s]"
      ]
     },
     "metadata": {},
     "output_type": "display_data"
    },
    {
     "data": {
      "application/vnd.jupyter.widget-view+json": {
       "model_id": "ddf7a23df90044a29eb4292e58ba856a",
       "version_major": 2,
       "version_minor": 0
      },
      "text/plain": [
       "Analyzing comments:   0%|          | 0/10 [00:00<?, ?comment/s]"
      ]
     },
     "metadata": {},
     "output_type": "display_data"
    },
    {
     "data": {
      "application/vnd.jupyter.widget-view+json": {
       "model_id": "d57e8426a0cc47c79c61910ec93b6142",
       "version_major": 2,
       "version_minor": 0
      },
      "text/plain": [
       "Analyzing comments:   0%|          | 0/39 [00:00<?, ?comment/s]"
      ]
     },
     "metadata": {},
     "output_type": "display_data"
    },
    {
     "data": {
      "application/vnd.jupyter.widget-view+json": {
       "model_id": "a22816434c2f4a3a934e5b676fdb9657",
       "version_major": 2,
       "version_minor": 0
      },
      "text/plain": [
       "Analyzing comments:   0%|          | 0/34 [00:00<?, ?comment/s]"
      ]
     },
     "metadata": {},
     "output_type": "display_data"
    },
    {
     "data": {
      "application/vnd.jupyter.widget-view+json": {
       "model_id": "bf35d744532e4efcb19861fb4b718b87",
       "version_major": 2,
       "version_minor": 0
      },
      "text/plain": [
       "Analyzing comments:   0%|          | 0/9 [00:00<?, ?comment/s]"
      ]
     },
     "metadata": {},
     "output_type": "display_data"
    },
    {
     "data": {
      "application/vnd.jupyter.widget-view+json": {
       "model_id": "728151c1bd404aeb942dfbabd5f5bfb0",
       "version_major": 2,
       "version_minor": 0
      },
      "text/plain": [
       "Analyzing comments:   0%|          | 0/5 [00:00<?, ?comment/s]"
      ]
     },
     "metadata": {},
     "output_type": "display_data"
    },
    {
     "data": {
      "application/vnd.jupyter.widget-view+json": {
       "model_id": "797f2cc8d68842f397ca5a1a62c94083",
       "version_major": 2,
       "version_minor": 0
      },
      "text/plain": [
       "Analyzing comments:   0%|          | 0/41 [00:00<?, ?comment/s]"
      ]
     },
     "metadata": {},
     "output_type": "display_data"
    },
    {
     "data": {
      "application/vnd.jupyter.widget-view+json": {
       "model_id": "284ddfcb771347f6b16caa4a9641f668",
       "version_major": 2,
       "version_minor": 0
      },
      "text/plain": [
       "Analyzing comments:   0%|          | 0/40 [00:00<?, ?comment/s]"
      ]
     },
     "metadata": {},
     "output_type": "display_data"
    },
    {
     "data": {
      "application/vnd.jupyter.widget-view+json": {
       "model_id": "8a2bf3d494b340af8efc7a198f2c0aa8",
       "version_major": 2,
       "version_minor": 0
      },
      "text/plain": [
       "Analyzing comments:   0%|          | 0/1 [00:00<?, ?comment/s]"
      ]
     },
     "metadata": {},
     "output_type": "display_data"
    },
    {
     "data": {
      "application/vnd.jupyter.widget-view+json": {
       "model_id": "191ed288a4984889bfe292f7af0aa92b",
       "version_major": 2,
       "version_minor": 0
      },
      "text/plain": [
       "Analyzing comments:   0%|          | 0/36 [00:00<?, ?comment/s]"
      ]
     },
     "metadata": {},
     "output_type": "display_data"
    },
    {
     "data": {
      "application/vnd.jupyter.widget-view+json": {
       "model_id": "d0bc6aee1bdf44408788d8a7c67c7379",
       "version_major": 2,
       "version_minor": 0
      },
      "text/plain": [
       "Analyzing comments:   0%|          | 0/5 [00:00<?, ?comment/s]"
      ]
     },
     "metadata": {},
     "output_type": "display_data"
    },
    {
     "data": {
      "application/vnd.jupyter.widget-view+json": {
       "model_id": "42f2b07274b04047af0f27dd930170a9",
       "version_major": 2,
       "version_minor": 0
      },
      "text/plain": [
       "Analyzing comments:   0%|          | 0/37 [00:00<?, ?comment/s]"
      ]
     },
     "metadata": {},
     "output_type": "display_data"
    },
    {
     "data": {
      "application/vnd.jupyter.widget-view+json": {
       "model_id": "b8f0204367f14142817bddebb73e58dc",
       "version_major": 2,
       "version_minor": 0
      },
      "text/plain": [
       "Analyzing comments:   0%|          | 0/4 [00:00<?, ?comment/s]"
      ]
     },
     "metadata": {},
     "output_type": "display_data"
    },
    {
     "data": {
      "application/vnd.jupyter.widget-view+json": {
       "model_id": "84dee66bca6d48739bcbb1baf51670aa",
       "version_major": 2,
       "version_minor": 0
      },
      "text/plain": [
       "Analyzing comments: 0comment [00:00, ?comment/s]"
      ]
     },
     "metadata": {},
     "output_type": "display_data"
    },
    {
     "data": {
      "application/vnd.jupyter.widget-view+json": {
       "model_id": "9dd00a1681174904a3a58a509d8b3148",
       "version_major": 2,
       "version_minor": 0
      },
      "text/plain": [
       "Analyzing comments:   0%|          | 0/29 [00:00<?, ?comment/s]"
      ]
     },
     "metadata": {},
     "output_type": "display_data"
    },
    {
     "data": {
      "application/vnd.jupyter.widget-view+json": {
       "model_id": "c74f56b1a7244c2096405014ba2fa0f6",
       "version_major": 2,
       "version_minor": 0
      },
      "text/plain": [
       "Analyzing comments:   0%|          | 0/4 [00:00<?, ?comment/s]"
      ]
     },
     "metadata": {},
     "output_type": "display_data"
    },
    {
     "data": {
      "application/vnd.jupyter.widget-view+json": {
       "model_id": "65856c7b5bb54afa884081505b41c681",
       "version_major": 2,
       "version_minor": 0
      },
      "text/plain": [
       "Analyzing comments:   0%|          | 0/19 [00:00<?, ?comment/s]"
      ]
     },
     "metadata": {},
     "output_type": "display_data"
    },
    {
     "data": {
      "application/vnd.jupyter.widget-view+json": {
       "model_id": "d44629b286ad411b997e377cc691fa90",
       "version_major": 2,
       "version_minor": 0
      },
      "text/plain": [
       "Analyzing comments:   0%|          | 0/18 [00:00<?, ?comment/s]"
      ]
     },
     "metadata": {},
     "output_type": "display_data"
    },
    {
     "data": {
      "application/vnd.jupyter.widget-view+json": {
       "model_id": "c3ca3f76271b47d0bc751dc5bcb8ba3f",
       "version_major": 2,
       "version_minor": 0
      },
      "text/plain": [
       "Analyzing comments:   0%|          | 0/20 [00:00<?, ?comment/s]"
      ]
     },
     "metadata": {},
     "output_type": "display_data"
    },
    {
     "data": {
      "application/vnd.jupyter.widget-view+json": {
       "model_id": "aff6f7e8e53642fdbc513d701dbde9ed",
       "version_major": 2,
       "version_minor": 0
      },
      "text/plain": [
       "Analyzing comments:   0%|          | 0/3 [00:00<?, ?comment/s]"
      ]
     },
     "metadata": {},
     "output_type": "display_data"
    },
    {
     "data": {
      "application/vnd.jupyter.widget-view+json": {
       "model_id": "e459d36ca5584f3aa8efb3751b19eec9",
       "version_major": 2,
       "version_minor": 0
      },
      "text/plain": [
       "Analyzing comments:   0%|          | 0/12 [00:00<?, ?comment/s]"
      ]
     },
     "metadata": {},
     "output_type": "display_data"
    },
    {
     "data": {
      "application/vnd.jupyter.widget-view+json": {
       "model_id": "6b29f9031fc040829e3e6d602d9238b1",
       "version_major": 2,
       "version_minor": 0
      },
      "text/plain": [
       "Analyzing comments:   0%|          | 0/21 [00:00<?, ?comment/s]"
      ]
     },
     "metadata": {},
     "output_type": "display_data"
    },
    {
     "data": {
      "application/vnd.jupyter.widget-view+json": {
       "model_id": "5ca2f88a17994f1b92f421ff1e75d95d",
       "version_major": 2,
       "version_minor": 0
      },
      "text/plain": [
       "Analyzing comments:   0%|          | 0/2 [00:00<?, ?comment/s]"
      ]
     },
     "metadata": {},
     "output_type": "display_data"
    },
    {
     "data": {
      "application/vnd.jupyter.widget-view+json": {
       "model_id": "f10531d033a14f5890a3981c0bbfc98b",
       "version_major": 2,
       "version_minor": 0
      },
      "text/plain": [
       "Analyzing comments:   0%|          | 0/24 [00:00<?, ?comment/s]"
      ]
     },
     "metadata": {},
     "output_type": "display_data"
    },
    {
     "data": {
      "application/vnd.jupyter.widget-view+json": {
       "model_id": "e47b5ae4e1264254ad368813fa72eebe",
       "version_major": 2,
       "version_minor": 0
      },
      "text/plain": [
       "Analyzing comments:   0%|          | 0/22 [00:00<?, ?comment/s]"
      ]
     },
     "metadata": {},
     "output_type": "display_data"
    },
    {
     "data": {
      "application/vnd.jupyter.widget-view+json": {
       "model_id": "fc4fcc72c3b54c7b890c8b2cc1fc0166",
       "version_major": 2,
       "version_minor": 0
      },
      "text/plain": [
       "Analyzing comments:   0%|          | 0/23 [00:00<?, ?comment/s]"
      ]
     },
     "metadata": {},
     "output_type": "display_data"
    },
    {
     "data": {
      "application/vnd.jupyter.widget-view+json": {
       "model_id": "0d655761e26d44f9acb80407e901b6c5",
       "version_major": 2,
       "version_minor": 0
      },
      "text/plain": [
       "Analyzing comments:   0%|          | 0/1 [00:00<?, ?comment/s]"
      ]
     },
     "metadata": {},
     "output_type": "display_data"
    },
    {
     "data": {
      "application/vnd.jupyter.widget-view+json": {
       "model_id": "ba36044ad7414117a59ed496a2e6ebe8",
       "version_major": 2,
       "version_minor": 0
      },
      "text/plain": [
       "Analyzing comments:   0%|          | 0/18 [00:00<?, ?comment/s]"
      ]
     },
     "metadata": {},
     "output_type": "display_data"
    },
    {
     "data": {
      "application/vnd.jupyter.widget-view+json": {
       "model_id": "adf799e35fad4a428a4b77d93ea1db1d",
       "version_major": 2,
       "version_minor": 0
      },
      "text/plain": [
       "Analyzing comments: 0comment [00:00, ?comment/s]"
      ]
     },
     "metadata": {},
     "output_type": "display_data"
    },
    {
     "data": {
      "application/vnd.jupyter.widget-view+json": {
       "model_id": "296fa92d12cc4a33b18baf4501cb5fed",
       "version_major": 2,
       "version_minor": 0
      },
      "text/plain": [
       "Analyzing comments:   0%|          | 0/7 [00:00<?, ?comment/s]"
      ]
     },
     "metadata": {},
     "output_type": "display_data"
    },
    {
     "data": {
      "application/vnd.jupyter.widget-view+json": {
       "model_id": "6b33af6307ae4196b47e91efcf02117d",
       "version_major": 2,
       "version_minor": 0
      },
      "text/plain": [
       "Analyzing comments:   0%|          | 0/20 [00:00<?, ?comment/s]"
      ]
     },
     "metadata": {},
     "output_type": "display_data"
    },
    {
     "data": {
      "application/vnd.jupyter.widget-view+json": {
       "model_id": "d29435efb8684816b40b811259bebc9c",
       "version_major": 2,
       "version_minor": 0
      },
      "text/plain": [
       "Analyzing comments:   0%|          | 0/6 [00:00<?, ?comment/s]"
      ]
     },
     "metadata": {},
     "output_type": "display_data"
    },
    {
     "data": {
      "application/vnd.jupyter.widget-view+json": {
       "model_id": "f9616b91c8b5449089d97eafd03ad142",
       "version_major": 2,
       "version_minor": 0
      },
      "text/plain": [
       "Analyzing comments:   0%|          | 0/18 [00:00<?, ?comment/s]"
      ]
     },
     "metadata": {},
     "output_type": "display_data"
    },
    {
     "data": {
      "application/vnd.jupyter.widget-view+json": {
       "model_id": "6cd3871dad1949ed83dfc67f0abd9cf6",
       "version_major": 2,
       "version_minor": 0
      },
      "text/plain": [
       "Analyzing comments:   0%|          | 0/28 [00:00<?, ?comment/s]"
      ]
     },
     "metadata": {},
     "output_type": "display_data"
    },
    {
     "data": {
      "application/vnd.jupyter.widget-view+json": {
       "model_id": "ea8576761c3c4547b5e007a4c390c821",
       "version_major": 2,
       "version_minor": 0
      },
      "text/plain": [
       "Analyzing comments:   0%|          | 0/3 [00:00<?, ?comment/s]"
      ]
     },
     "metadata": {},
     "output_type": "display_data"
    },
    {
     "data": {
      "application/vnd.jupyter.widget-view+json": {
       "model_id": "690d5abce5bf48cb8b785849f08f7628",
       "version_major": 2,
       "version_minor": 0
      },
      "text/plain": [
       "Analyzing comments:   0%|          | 0/11 [00:00<?, ?comment/s]"
      ]
     },
     "metadata": {},
     "output_type": "display_data"
    },
    {
     "data": {
      "application/vnd.jupyter.widget-view+json": {
       "model_id": "ffeb9dd7ebeb43a5b133818192edffba",
       "version_major": 2,
       "version_minor": 0
      },
      "text/plain": [
       "Analyzing comments:   0%|          | 0/19 [00:00<?, ?comment/s]"
      ]
     },
     "metadata": {},
     "output_type": "display_data"
    },
    {
     "data": {
      "application/vnd.jupyter.widget-view+json": {
       "model_id": "5d457102df60449f9cfd63752ef7db15",
       "version_major": 2,
       "version_minor": 0
      },
      "text/plain": [
       "Analyzing comments:   0%|          | 0/11 [00:00<?, ?comment/s]"
      ]
     },
     "metadata": {},
     "output_type": "display_data"
    },
    {
     "data": {
      "application/vnd.jupyter.widget-view+json": {
       "model_id": "5e6377f4c9764b23b5dd6bbebcef6868",
       "version_major": 2,
       "version_minor": 0
      },
      "text/plain": [
       "Analyzing comments:   0%|          | 0/20 [00:00<?, ?comment/s]"
      ]
     },
     "metadata": {},
     "output_type": "display_data"
    },
    {
     "data": {
      "application/vnd.jupyter.widget-view+json": {
       "model_id": "76463d2ba4224dc39792fd10b8634e55",
       "version_major": 2,
       "version_minor": 0
      },
      "text/plain": [
       "Analyzing comments:   0%|          | 0/20 [00:00<?, ?comment/s]"
      ]
     },
     "metadata": {},
     "output_type": "display_data"
    },
    {
     "data": {
      "application/vnd.jupyter.widget-view+json": {
       "model_id": "94769796029f4390a6d9d1ec5d7472e0",
       "version_major": 2,
       "version_minor": 0
      },
      "text/plain": [
       "Analyzing comments:   0%|          | 0/14 [00:00<?, ?comment/s]"
      ]
     },
     "metadata": {},
     "output_type": "display_data"
    },
    {
     "data": {
      "application/vnd.jupyter.widget-view+json": {
       "model_id": "2ab78117380b4c6fb9c8e9a877817a0d",
       "version_major": 2,
       "version_minor": 0
      },
      "text/plain": [
       "Analyzing comments:   0%|          | 0/5 [00:00<?, ?comment/s]"
      ]
     },
     "metadata": {},
     "output_type": "display_data"
    },
    {
     "data": {
      "application/vnd.jupyter.widget-view+json": {
       "model_id": "d4d5d8d1530d439cabba7f819d89c221",
       "version_major": 2,
       "version_minor": 0
      },
      "text/plain": [
       "Analyzing comments:   0%|          | 0/20 [00:00<?, ?comment/s]"
      ]
     },
     "metadata": {},
     "output_type": "display_data"
    },
    {
     "data": {
      "application/vnd.jupyter.widget-view+json": {
       "model_id": "869dd67c607a416c8962262a37aea2f7",
       "version_major": 2,
       "version_minor": 0
      },
      "text/plain": [
       "Analyzing comments:   0%|          | 0/19 [00:00<?, ?comment/s]"
      ]
     },
     "metadata": {},
     "output_type": "display_data"
    },
    {
     "data": {
      "application/vnd.jupyter.widget-view+json": {
       "model_id": "c9049d0353bd42c59dddb17ef8733f78",
       "version_major": 2,
       "version_minor": 0
      },
      "text/plain": [
       "Analyzing comments:   0%|          | 0/14 [00:00<?, ?comment/s]"
      ]
     },
     "metadata": {},
     "output_type": "display_data"
    },
    {
     "data": {
      "application/vnd.jupyter.widget-view+json": {
       "model_id": "aec561643ec044bd8527148ec29b3881",
       "version_major": 2,
       "version_minor": 0
      },
      "text/plain": [
       "Analyzing comments:   0%|          | 0/1 [00:00<?, ?comment/s]"
      ]
     },
     "metadata": {},
     "output_type": "display_data"
    }
   ],
   "source": [
    "analysis = df_tiktok.progress_apply(\n",
    "    lambda row: process_analysis_tiktok(row, model_analyzer), axis=1\n",
    ")\n",
    "\n",
    "df_tiktok[\"analysis\"] = analysis"
   ]
  },
  {
   "cell_type": "code",
   "execution_count": 74,
   "metadata": {},
   "outputs": [
    {
     "data": {
      "text/plain": [
       "{'success': 22236, 'failed': 0}"
      ]
     },
     "execution_count": 74,
     "metadata": {},
     "output_type": "execute_result"
    }
   ],
   "source": [
    "results"
   ]
  },
  {
   "cell_type": "code",
   "execution_count": 75,
   "metadata": {},
   "outputs": [],
   "source": [
    "df_tiktok.to_excel(\"../data/append_tik_tok_analysis_v4_context.xlsx\", index=False)"
   ]
  }
 ],
 "metadata": {
  "kernelspec": {
   "display_name": "torch",
   "language": "python",
   "name": "python3"
  },
  "language_info": {
   "codemirror_mode": {
    "name": "ipython",
    "version": 3
   },
   "file_extension": ".py",
   "mimetype": "text/x-python",
   "name": "python",
   "nbconvert_exporter": "python",
   "pygments_lexer": "ipython3",
   "version": "3.11.11"
  }
 },
 "nbformat": 4,
 "nbformat_minor": 2
}
