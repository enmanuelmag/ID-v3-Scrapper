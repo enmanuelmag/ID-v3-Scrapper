{
 "cells": [
  {
   "cell_type": "code",
   "execution_count": 1,
   "metadata": {},
   "outputs": [],
   "source": [
    "%load_ext autoreload\n",
    "#%reload_ext autoreload\n",
    "\n",
    "%autoreload 2\n",
    "\n",
    "import sys\n",
    "import logging\n",
    "\n",
    "sys.path.append(\"../model\")\n",
    "\n",
    "import os\n",
    "import pandas as pd\n",
    "import mlflow as mlf\n",
    "from tqdm.auto import tqdm\n",
    "\n",
    "tqdm.pandas()\n",
    "\n",
    "from pysentimiento.preprocessing import preprocess_tweet\n",
    "from analyzer_blstm import (\n",
    "    AnalyzerForSequenceClassification,\n",
    "    create_analyzer_blstm,\n",
    ")\n",
    "\n",
    "logging.getLogger(\"Utils\").setLevel(logging.DEBUG)\n",
    "\n",
    "\n",
    "ROBERTUITO_RUN_ID = \"52089d0757e64bf588f2c75e439ae4e0\"  # FINAL\n",
    "\n",
    "ROBERTUITO_BLSTM_RUN_ID = \"631eeac0d2d84a24a6b41a7ff6cc3ba4\"  # FINAL\n",
    "\n",
    "MIN_TEXT_LENGTH = 4"
   ]
  },
  {
   "cell_type": "code",
   "execution_count": 2,
   "metadata": {},
   "outputs": [
    {
     "name": "stderr",
     "output_type": "stream",
     "text": [
      "DEBUG:Utils:Loading model pysentimiento/robertuito-base-uncased\n",
      "DEBUG:Utils:Using device CUDA\n"
     ]
    }
   ],
   "source": [
    "model_analyzer = create_analyzer_blstm()"
   ]
  },
  {
   "cell_type": "code",
   "execution_count": 3,
   "metadata": {},
   "outputs": [],
   "source": [
    "runs_path = os.path.abspath(os.path.join(\"..\", \"model\", \"mlruns\"))\n",
    "mlf.set_tracking_uri(\"file:/ \" + runs_path)\n",
    "\n",
    "columns = [\n",
    "    \"run_id\",\n",
    "    \"status\",\n",
    "    \"params.lstm_hidden_dim\",\n",
    "    \"params.lstm_num_layers\",\n",
    "    \"metrics.train_runtime\",\n",
    "    \"metrics.eval_macro_f1\",\n",
    "    \"metrics.train_loss\",\n",
    "    \"metrics.eval_macro_recall\",\n",
    "    \"metrics.eval_macro_precision\",\n",
    "    \"artifact_uri\",\n",
    "]\n",
    "\n",
    "runs = mlf.search_runs(\n",
    "    filter_string='status=\"FINISHED\"', order_by=[\"metrics.eval_macro_f1 DESC\"]\n",
    ")[columns]"
   ]
  },
  {
   "cell_type": "markdown",
   "metadata": {},
   "source": [
    "## Analysis tweets\n"
   ]
  },
  {
   "cell_type": "code",
   "execution_count": 4,
   "metadata": {},
   "outputs": [],
   "source": [
    "def process_analysis_x(\n",
    "    row: pd.Series, model_analyzer: AnalyzerForSequenceClassification\n",
    "):\n",
    "\n",
    "    text = row[\"text\"]\n",
    "\n",
    "    if not text or len(text) < MIN_TEXT_LENGTH:\n",
    "        return {\n",
    "            \"text\": text,\n",
    "            \"analysis\": None,\n",
    "        }\n",
    "\n",
    "    text_analysis = model_analyzer.predict(text).probas\n",
    "\n",
    "    max_proba = max(text_analysis.items(), key=lambda x: x[1])[0]\n",
    "\n",
    "    return {\n",
    "        \"text\": text,\n",
    "        \"analysis\": {\n",
    "            \"max_proba\": max_proba,\n",
    "            \"probas\": text_analysis,\n",
    "        },\n",
    "    }"
   ]
  },
  {
   "cell_type": "code",
   "execution_count": 5,
   "metadata": {},
   "outputs": [],
   "source": [
    "df_x = pd.read_excel(\"../data/append_tweets.xlsx\")\n",
    "df_x[\"text\"] = df_x[\"text\"].astype(str)"
   ]
  },
  {
   "cell_type": "code",
   "execution_count": 10,
   "metadata": {},
   "outputs": [
    {
     "data": {
      "application/vnd.jupyter.widget-view+json": {
       "model_id": "50079b476b7a492e9480192ce896b70f",
       "version_major": 2,
       "version_minor": 0
      },
      "text/plain": [
       "  0%|          | 0/1323 [00:00<?, ?it/s]"
      ]
     },
     "metadata": {},
     "output_type": "display_data"
    }
   ],
   "source": [
    "analysis = df_x.progress_apply(\n",
    "    lambda row: process_analysis_x(row, model_analyzer), axis=1\n",
    ")\n",
    "\n",
    "df_x[\"analysis\"] = analysis\n",
    "df_x.to_excel(\"../data/append_tweets_analysis.xlsx\", index=False)"
   ]
  },
  {
   "cell_type": "markdown",
   "metadata": {},
   "source": [
    "## Analysis tiktoks\n"
   ]
  },
  {
   "cell_type": "code",
   "execution_count": 7,
   "metadata": {},
   "outputs": [],
   "source": [
    "def process_analysis_tiktok(\n",
    "    row: pd.Series, model_analyzer: AnalyzerForSequenceClassification\n",
    "):\n",
    "\n",
    "    description_text = row[\"description\"]\n",
    "\n",
    "    comments_text = row[\"comments_text\"].split(\"|\")\n",
    "\n",
    "    comments_text = [\n",
    "        comment for comment in comments_text if len(comment) >= MIN_TEXT_LENGTH\n",
    "    ]\n",
    "\n",
    "    description_analysis = None\n",
    "\n",
    "    if not description_text or len(description_text) < MIN_TEXT_LENGTH:\n",
    "        probas_desc = model_analyzer.predict(description_text).probas\n",
    "\n",
    "        if len(probas_desc) == 0:\n",
    "            probas_desc = None\n",
    "        else:\n",
    "            max_proba_description = max(probas_desc.items(), key=lambda x: x[1])[0]\n",
    "            description_analysis = {\n",
    "                \"sentiment\": max_proba_description,\n",
    "                \"probas\": probas_desc,\n",
    "            }\n",
    "    else:\n",
    "        description_analysis = None\n",
    "\n",
    "    comments_analysis = []\n",
    "\n",
    "    for comment_text in tqdm(\n",
    "        comments_text, desc=\"Analyzing comments\", leave=False, unit=\"comment\"\n",
    "    ):\n",
    "        if len(comment_text) < MIN_TEXT_LENGTH:\n",
    "            comments_analysis.append({\"text\": comment_text, \"analysis\": None})\n",
    "\n",
    "        probas = model_analyzer.predict(comment_text).probas\n",
    "\n",
    "        if len(probas) == 0:\n",
    "            comments_analysis.append(\n",
    "                {\n",
    "                    \"text\": comment_text,\n",
    "                    \"analysis\": None,\n",
    "                }\n",
    "            )\n",
    "        else:\n",
    "            max_proba = max(probas.items(), key=lambda x: x[1])[0]\n",
    "\n",
    "            comments_analysis.append(\n",
    "                {\n",
    "                    \"text\": comment_text,\n",
    "                    \"analysis\": {\n",
    "                        \"sentiment\": max_proba,\n",
    "                        \"probas\": probas if len(probas) > 0 else None,\n",
    "                    },\n",
    "                }\n",
    "            )\n",
    "\n",
    "    return {\n",
    "        \"description\": {\n",
    "            \"text\": description_text,\n",
    "            \"analysis\": description_analysis,\n",
    "        },\n",
    "        \"comments\": comments_analysis,\n",
    "    }"
   ]
  },
  {
   "cell_type": "code",
   "execution_count": 8,
   "metadata": {},
   "outputs": [],
   "source": [
    "df_tiktok = pd.read_excel(\"../data/append_tik_tok.xlsx\")\n",
    "df_tiktok[\"description\"] = df_tiktok[\"description\"].astype(str)\n",
    "df_tiktok[\"comments_text\"] = df_tiktok[\"comments_text\"].astype(str)"
   ]
  },
  {
   "cell_type": "code",
   "execution_count": 9,
   "metadata": {},
   "outputs": [
    {
     "data": {
      "application/vnd.jupyter.widget-view+json": {
       "model_id": "a4da35e329e3452ea96e00c3f6e0ab1e",
       "version_major": 2,
       "version_minor": 0
      },
      "text/plain": [
       "  0%|          | 0/1057 [00:00<?, ?it/s]"
      ]
     },
     "metadata": {},
     "output_type": "display_data"
    },
    {
     "data": {
      "application/vnd.jupyter.widget-view+json": {
       "model_id": "a4cea498df36429c95790608393ccbba",
       "version_major": 2,
       "version_minor": 0
      },
      "text/plain": [
       "Analyzing comments:   0%|          | 0/2 [00:00<?, ?comment/s]"
      ]
     },
     "metadata": {},
     "output_type": "display_data"
    },
    {
     "data": {
      "application/vnd.jupyter.widget-view+json": {
       "model_id": "b686e0e9fecf4af68c662c1b8394000f",
       "version_major": 2,
       "version_minor": 0
      },
      "text/plain": [
       "Analyzing comments:   0%|          | 0/40 [00:00<?, ?comment/s]"
      ]
     },
     "metadata": {},
     "output_type": "display_data"
    },
    {
     "data": {
      "application/vnd.jupyter.widget-view+json": {
       "model_id": "05b89c85ca46421a99f193f541330208",
       "version_major": 2,
       "version_minor": 0
      },
      "text/plain": [
       "Analyzing comments:   0%|          | 0/8 [00:00<?, ?comment/s]"
      ]
     },
     "metadata": {},
     "output_type": "display_data"
    },
    {
     "data": {
      "application/vnd.jupyter.widget-view+json": {
       "model_id": "9c48ddcc6298469faf4357b243a0a9f8",
       "version_major": 2,
       "version_minor": 0
      },
      "text/plain": [
       "Analyzing comments:   0%|          | 0/29 [00:00<?, ?comment/s]"
      ]
     },
     "metadata": {},
     "output_type": "display_data"
    },
    {
     "data": {
      "application/vnd.jupyter.widget-view+json": {
       "model_id": "c5b6b2fa41cd40c48023ab0c1bebb6b8",
       "version_major": 2,
       "version_minor": 0
      },
      "text/plain": [
       "Analyzing comments:   0%|          | 0/14 [00:00<?, ?comment/s]"
      ]
     },
     "metadata": {},
     "output_type": "display_data"
    },
    {
     "data": {
      "application/vnd.jupyter.widget-view+json": {
       "model_id": "2e018f3f8b1948888d8d5f37cf35e66e",
       "version_major": 2,
       "version_minor": 0
      },
      "text/plain": [
       "Analyzing comments:   0%|          | 0/26 [00:00<?, ?comment/s]"
      ]
     },
     "metadata": {},
     "output_type": "display_data"
    },
    {
     "data": {
      "application/vnd.jupyter.widget-view+json": {
       "model_id": "71f5f315e9e84f6a96eb16d25be78715",
       "version_major": 2,
       "version_minor": 0
      },
      "text/plain": [
       "Analyzing comments:   0%|          | 0/20 [00:00<?, ?comment/s]"
      ]
     },
     "metadata": {},
     "output_type": "display_data"
    },
    {
     "data": {
      "application/vnd.jupyter.widget-view+json": {
       "model_id": "947c0e22ddd4455d8ab295f6f3b032e9",
       "version_major": 2,
       "version_minor": 0
      },
      "text/plain": [
       "Analyzing comments:   0%|          | 0/62 [00:00<?, ?comment/s]"
      ]
     },
     "metadata": {},
     "output_type": "display_data"
    },
    {
     "data": {
      "application/vnd.jupyter.widget-view+json": {
       "model_id": "968f712b3c0e49888dcf9850c1ab3c7e",
       "version_major": 2,
       "version_minor": 0
      },
      "text/plain": [
       "Analyzing comments:   0%|          | 0/13 [00:00<?, ?comment/s]"
      ]
     },
     "metadata": {},
     "output_type": "display_data"
    },
    {
     "data": {
      "application/vnd.jupyter.widget-view+json": {
       "model_id": "187abbcb61004826bdb5484edef99ea9",
       "version_major": 2,
       "version_minor": 0
      },
      "text/plain": [
       "Analyzing comments:   0%|          | 0/43 [00:00<?, ?comment/s]"
      ]
     },
     "metadata": {},
     "output_type": "display_data"
    },
    {
     "data": {
      "application/vnd.jupyter.widget-view+json": {
       "model_id": "39a62374ffd94db3ae71ad5bb28ad30f",
       "version_major": 2,
       "version_minor": 0
      },
      "text/plain": [
       "Analyzing comments:   0%|          | 0/83 [00:00<?, ?comment/s]"
      ]
     },
     "metadata": {},
     "output_type": "display_data"
    },
    {
     "data": {
      "application/vnd.jupyter.widget-view+json": {
       "model_id": "4a2629af37544e08ba8d461f6c2ffe02",
       "version_major": 2,
       "version_minor": 0
      },
      "text/plain": [
       "Analyzing comments:   0%|          | 0/77 [00:00<?, ?comment/s]"
      ]
     },
     "metadata": {},
     "output_type": "display_data"
    },
    {
     "data": {
      "application/vnd.jupyter.widget-view+json": {
       "model_id": "b480045655d346e38da189e458261b55",
       "version_major": 2,
       "version_minor": 0
      },
      "text/plain": [
       "Analyzing comments:   0%|          | 0/46 [00:00<?, ?comment/s]"
      ]
     },
     "metadata": {},
     "output_type": "display_data"
    },
    {
     "data": {
      "application/vnd.jupyter.widget-view+json": {
       "model_id": "8fa514e30d2a4d62b36ec3e6268e4669",
       "version_major": 2,
       "version_minor": 0
      },
      "text/plain": [
       "Analyzing comments:   0%|          | 0/61 [00:00<?, ?comment/s]"
      ]
     },
     "metadata": {},
     "output_type": "display_data"
    },
    {
     "data": {
      "application/vnd.jupyter.widget-view+json": {
       "model_id": "7e6bfa4f6ea848638a8835f5273811d7",
       "version_major": 2,
       "version_minor": 0
      },
      "text/plain": [
       "Analyzing comments:   0%|          | 0/5 [00:00<?, ?comment/s]"
      ]
     },
     "metadata": {},
     "output_type": "display_data"
    },
    {
     "data": {
      "application/vnd.jupyter.widget-view+json": {
       "model_id": "175cd2a3b8dd4c569716aa954aebf1de",
       "version_major": 2,
       "version_minor": 0
      },
      "text/plain": [
       "Analyzing comments:   0%|          | 0/31 [00:00<?, ?comment/s]"
      ]
     },
     "metadata": {},
     "output_type": "display_data"
    },
    {
     "data": {
      "application/vnd.jupyter.widget-view+json": {
       "model_id": "7f810272b2cd4adba483e6dd3303c470",
       "version_major": 2,
       "version_minor": 0
      },
      "text/plain": [
       "Analyzing comments:   0%|          | 0/26 [00:00<?, ?comment/s]"
      ]
     },
     "metadata": {},
     "output_type": "display_data"
    },
    {
     "data": {
      "application/vnd.jupyter.widget-view+json": {
       "model_id": "a40f6c0ed59e418aa26ef18f31c7baf2",
       "version_major": 2,
       "version_minor": 0
      },
      "text/plain": [
       "Analyzing comments:   0%|          | 0/41 [00:00<?, ?comment/s]"
      ]
     },
     "metadata": {},
     "output_type": "display_data"
    },
    {
     "data": {
      "application/vnd.jupyter.widget-view+json": {
       "model_id": "cc4709acd1ed4cdf9e5a71553d2a58d6",
       "version_major": 2,
       "version_minor": 0
      },
      "text/plain": [
       "Analyzing comments:   0%|          | 0/1 [00:00<?, ?comment/s]"
      ]
     },
     "metadata": {},
     "output_type": "display_data"
    },
    {
     "data": {
      "application/vnd.jupyter.widget-view+json": {
       "model_id": "ee5d97bcb9aa4c0fa4cf5e9a3230ff87",
       "version_major": 2,
       "version_minor": 0
      },
      "text/plain": [
       "Analyzing comments:   0%|          | 0/36 [00:00<?, ?comment/s]"
      ]
     },
     "metadata": {},
     "output_type": "display_data"
    },
    {
     "data": {
      "application/vnd.jupyter.widget-view+json": {
       "model_id": "27fc51dac9e64995801fc052984a0dcc",
       "version_major": 2,
       "version_minor": 0
      },
      "text/plain": [
       "Analyzing comments:   0%|          | 0/34 [00:00<?, ?comment/s]"
      ]
     },
     "metadata": {},
     "output_type": "display_data"
    },
    {
     "data": {
      "application/vnd.jupyter.widget-view+json": {
       "model_id": "1736d97d2de74697b3cda75b26e36233",
       "version_major": 2,
       "version_minor": 0
      },
      "text/plain": [
       "Analyzing comments:   0%|          | 0/35 [00:00<?, ?comment/s]"
      ]
     },
     "metadata": {},
     "output_type": "display_data"
    },
    {
     "data": {
      "application/vnd.jupyter.widget-view+json": {
       "model_id": "ec1a74f4bdab4b5498417e944e3148fa",
       "version_major": 2,
       "version_minor": 0
      },
      "text/plain": [
       "Analyzing comments:   0%|          | 0/29 [00:00<?, ?comment/s]"
      ]
     },
     "metadata": {},
     "output_type": "display_data"
    },
    {
     "data": {
      "application/vnd.jupyter.widget-view+json": {
       "model_id": "a711290fe5f54acea2d32a941654797e",
       "version_major": 2,
       "version_minor": 0
      },
      "text/plain": [
       "Analyzing comments:   0%|          | 0/25 [00:00<?, ?comment/s]"
      ]
     },
     "metadata": {},
     "output_type": "display_data"
    },
    {
     "data": {
      "application/vnd.jupyter.widget-view+json": {
       "model_id": "38101e40da4e43799455e6ac6ecb606b",
       "version_major": 2,
       "version_minor": 0
      },
      "text/plain": [
       "Analyzing comments:   0%|          | 0/18 [00:00<?, ?comment/s]"
      ]
     },
     "metadata": {},
     "output_type": "display_data"
    },
    {
     "data": {
      "application/vnd.jupyter.widget-view+json": {
       "model_id": "c3109c1af7d543e9870e60bd34f22552",
       "version_major": 2,
       "version_minor": 0
      },
      "text/plain": [
       "Analyzing comments:   0%|          | 0/32 [00:00<?, ?comment/s]"
      ]
     },
     "metadata": {},
     "output_type": "display_data"
    },
    {
     "data": {
      "application/vnd.jupyter.widget-view+json": {
       "model_id": "d8b853543e5644788623e075732371b7",
       "version_major": 2,
       "version_minor": 0
      },
      "text/plain": [
       "Analyzing comments:   0%|          | 0/16 [00:00<?, ?comment/s]"
      ]
     },
     "metadata": {},
     "output_type": "display_data"
    },
    {
     "data": {
      "application/vnd.jupyter.widget-view+json": {
       "model_id": "aae3d9129736441286cf587ac68fdb50",
       "version_major": 2,
       "version_minor": 0
      },
      "text/plain": [
       "Analyzing comments:   0%|          | 0/40 [00:00<?, ?comment/s]"
      ]
     },
     "metadata": {},
     "output_type": "display_data"
    },
    {
     "data": {
      "application/vnd.jupyter.widget-view+json": {
       "model_id": "e0d2cf4fdda0495b99d6a78a44efad8f",
       "version_major": 2,
       "version_minor": 0
      },
      "text/plain": [
       "Analyzing comments:   0%|          | 0/7 [00:00<?, ?comment/s]"
      ]
     },
     "metadata": {},
     "output_type": "display_data"
    },
    {
     "data": {
      "application/vnd.jupyter.widget-view+json": {
       "model_id": "4bc338b0251c46ed983b50c30ef7710d",
       "version_major": 2,
       "version_minor": 0
      },
      "text/plain": [
       "Analyzing comments:   0%|          | 0/36 [00:00<?, ?comment/s]"
      ]
     },
     "metadata": {},
     "output_type": "display_data"
    },
    {
     "data": {
      "application/vnd.jupyter.widget-view+json": {
       "model_id": "559d7be01eaa40978bcd6f2a0febfd46",
       "version_major": 2,
       "version_minor": 0
      },
      "text/plain": [
       "Analyzing comments:   0%|          | 0/35 [00:00<?, ?comment/s]"
      ]
     },
     "metadata": {},
     "output_type": "display_data"
    },
    {
     "data": {
      "application/vnd.jupyter.widget-view+json": {
       "model_id": "d74742aea4a849ecba85afd0022dec76",
       "version_major": 2,
       "version_minor": 0
      },
      "text/plain": [
       "Analyzing comments:   0%|          | 0/13 [00:00<?, ?comment/s]"
      ]
     },
     "metadata": {},
     "output_type": "display_data"
    },
    {
     "data": {
      "application/vnd.jupyter.widget-view+json": {
       "model_id": "b69a95e9dbec4489b1cc2c37c0bb2de7",
       "version_major": 2,
       "version_minor": 0
      },
      "text/plain": [
       "Analyzing comments:   0%|          | 0/38 [00:00<?, ?comment/s]"
      ]
     },
     "metadata": {},
     "output_type": "display_data"
    },
    {
     "data": {
      "application/vnd.jupyter.widget-view+json": {
       "model_id": "c7103a8351a943b1bffb7d16a1cc8930",
       "version_major": 2,
       "version_minor": 0
      },
      "text/plain": [
       "Analyzing comments:   0%|          | 0/27 [00:00<?, ?comment/s]"
      ]
     },
     "metadata": {},
     "output_type": "display_data"
    },
    {
     "data": {
      "application/vnd.jupyter.widget-view+json": {
       "model_id": "44dfe5f1e01a4551a8105d1feeb9e7c0",
       "version_major": 2,
       "version_minor": 0
      },
      "text/plain": [
       "Analyzing comments:   0%|          | 0/19 [00:00<?, ?comment/s]"
      ]
     },
     "metadata": {},
     "output_type": "display_data"
    },
    {
     "data": {
      "application/vnd.jupyter.widget-view+json": {
       "model_id": "adcfd868ff48439398f599b74ae43b08",
       "version_major": 2,
       "version_minor": 0
      },
      "text/plain": [
       "Analyzing comments:   0%|          | 0/36 [00:00<?, ?comment/s]"
      ]
     },
     "metadata": {},
     "output_type": "display_data"
    },
    {
     "data": {
      "application/vnd.jupyter.widget-view+json": {
       "model_id": "bd683b9d68984bbc9d75e86ca7f103dd",
       "version_major": 2,
       "version_minor": 0
      },
      "text/plain": [
       "Analyzing comments:   0%|          | 0/27 [00:00<?, ?comment/s]"
      ]
     },
     "metadata": {},
     "output_type": "display_data"
    },
    {
     "data": {
      "application/vnd.jupyter.widget-view+json": {
       "model_id": "ccabf725736e412a99a10fbb2c083b41",
       "version_major": 2,
       "version_minor": 0
      },
      "text/plain": [
       "Analyzing comments:   0%|          | 0/24 [00:00<?, ?comment/s]"
      ]
     },
     "metadata": {},
     "output_type": "display_data"
    },
    {
     "data": {
      "application/vnd.jupyter.widget-view+json": {
       "model_id": "3da8d8d4a1c046039ba89ef12245c768",
       "version_major": 2,
       "version_minor": 0
      },
      "text/plain": [
       "Analyzing comments:   0%|          | 0/28 [00:00<?, ?comment/s]"
      ]
     },
     "metadata": {},
     "output_type": "display_data"
    },
    {
     "data": {
      "application/vnd.jupyter.widget-view+json": {
       "model_id": "45573cbfe6254072913aa9da88e7dd8b",
       "version_major": 2,
       "version_minor": 0
      },
      "text/plain": [
       "Analyzing comments:   0%|          | 0/5 [00:00<?, ?comment/s]"
      ]
     },
     "metadata": {},
     "output_type": "display_data"
    },
    {
     "data": {
      "application/vnd.jupyter.widget-view+json": {
       "model_id": "e2355936473b41a4a10559da231f789c",
       "version_major": 2,
       "version_minor": 0
      },
      "text/plain": [
       "Analyzing comments: 0comment [00:00, ?comment/s]"
      ]
     },
     "metadata": {},
     "output_type": "display_data"
    },
    {
     "data": {
      "application/vnd.jupyter.widget-view+json": {
       "model_id": "2dcbb3a410c14e9191e983d9a2b9470e",
       "version_major": 2,
       "version_minor": 0
      },
      "text/plain": [
       "Analyzing comments:   0%|          | 0/35 [00:00<?, ?comment/s]"
      ]
     },
     "metadata": {},
     "output_type": "display_data"
    },
    {
     "data": {
      "application/vnd.jupyter.widget-view+json": {
       "model_id": "bad7dc90cfdd4fea98424914a37a58cd",
       "version_major": 2,
       "version_minor": 0
      },
      "text/plain": [
       "Analyzing comments:   0%|          | 0/29 [00:00<?, ?comment/s]"
      ]
     },
     "metadata": {},
     "output_type": "display_data"
    },
    {
     "data": {
      "application/vnd.jupyter.widget-view+json": {
       "model_id": "7af86e6d4e4645ae878c275dfe351c18",
       "version_major": 2,
       "version_minor": 0
      },
      "text/plain": [
       "Analyzing comments:   0%|          | 0/30 [00:00<?, ?comment/s]"
      ]
     },
     "metadata": {},
     "output_type": "display_data"
    },
    {
     "data": {
      "application/vnd.jupyter.widget-view+json": {
       "model_id": "bdb2e294e2b04ea4aa1719e681cc1ad4",
       "version_major": 2,
       "version_minor": 0
      },
      "text/plain": [
       "Analyzing comments:   0%|          | 0/34 [00:00<?, ?comment/s]"
      ]
     },
     "metadata": {},
     "output_type": "display_data"
    },
    {
     "data": {
      "application/vnd.jupyter.widget-view+json": {
       "model_id": "ef7b7ce4dae84121a9bae6250693aa6a",
       "version_major": 2,
       "version_minor": 0
      },
      "text/plain": [
       "Analyzing comments:   0%|          | 0/32 [00:00<?, ?comment/s]"
      ]
     },
     "metadata": {},
     "output_type": "display_data"
    },
    {
     "data": {
      "application/vnd.jupyter.widget-view+json": {
       "model_id": "f9994918ce294423abec7b39c1afb6cf",
       "version_major": 2,
       "version_minor": 0
      },
      "text/plain": [
       "Analyzing comments:   0%|          | 0/23 [00:00<?, ?comment/s]"
      ]
     },
     "metadata": {},
     "output_type": "display_data"
    },
    {
     "data": {
      "application/vnd.jupyter.widget-view+json": {
       "model_id": "57134d236893492a95836a808d44b964",
       "version_major": 2,
       "version_minor": 0
      },
      "text/plain": [
       "Analyzing comments: 0comment [00:00, ?comment/s]"
      ]
     },
     "metadata": {},
     "output_type": "display_data"
    },
    {
     "data": {
      "application/vnd.jupyter.widget-view+json": {
       "model_id": "d453852238ce448c85d6a102710675c1",
       "version_major": 2,
       "version_minor": 0
      },
      "text/plain": [
       "Analyzing comments:   0%|          | 0/34 [00:00<?, ?comment/s]"
      ]
     },
     "metadata": {},
     "output_type": "display_data"
    },
    {
     "data": {
      "application/vnd.jupyter.widget-view+json": {
       "model_id": "02e3e327e9df492ca1b4f845c5dc4c15",
       "version_major": 2,
       "version_minor": 0
      },
      "text/plain": [
       "Analyzing comments:   0%|          | 0/32 [00:00<?, ?comment/s]"
      ]
     },
     "metadata": {},
     "output_type": "display_data"
    },
    {
     "data": {
      "application/vnd.jupyter.widget-view+json": {
       "model_id": "f39273f14fa74f8c9bb6c56df1e7a578",
       "version_major": 2,
       "version_minor": 0
      },
      "text/plain": [
       "Analyzing comments:   0%|          | 0/57 [00:00<?, ?comment/s]"
      ]
     },
     "metadata": {},
     "output_type": "display_data"
    },
    {
     "data": {
      "application/vnd.jupyter.widget-view+json": {
       "model_id": "15485220c65d433fbcd4ec23dd090d80",
       "version_major": 2,
       "version_minor": 0
      },
      "text/plain": [
       "Analyzing comments:   0%|          | 0/4 [00:00<?, ?comment/s]"
      ]
     },
     "metadata": {},
     "output_type": "display_data"
    },
    {
     "data": {
      "application/vnd.jupyter.widget-view+json": {
       "model_id": "0767241b91da40e0807e5e79c925f3a8",
       "version_major": 2,
       "version_minor": 0
      },
      "text/plain": [
       "Analyzing comments:   0%|          | 0/3 [00:00<?, ?comment/s]"
      ]
     },
     "metadata": {},
     "output_type": "display_data"
    },
    {
     "data": {
      "application/vnd.jupyter.widget-view+json": {
       "model_id": "e6098f1c4c6745a3834cbda5f7fb9900",
       "version_major": 2,
       "version_minor": 0
      },
      "text/plain": [
       "Analyzing comments:   0%|          | 0/29 [00:00<?, ?comment/s]"
      ]
     },
     "metadata": {},
     "output_type": "display_data"
    },
    {
     "data": {
      "application/vnd.jupyter.widget-view+json": {
       "model_id": "817c8875812b41969ff64895eb7f31f1",
       "version_major": 2,
       "version_minor": 0
      },
      "text/plain": [
       "Analyzing comments:   0%|          | 0/19 [00:00<?, ?comment/s]"
      ]
     },
     "metadata": {},
     "output_type": "display_data"
    },
    {
     "data": {
      "application/vnd.jupyter.widget-view+json": {
       "model_id": "a3700822593649a7ab8b79d1cd3fb988",
       "version_major": 2,
       "version_minor": 0
      },
      "text/plain": [
       "Analyzing comments:   0%|          | 0/1 [00:00<?, ?comment/s]"
      ]
     },
     "metadata": {},
     "output_type": "display_data"
    },
    {
     "data": {
      "application/vnd.jupyter.widget-view+json": {
       "model_id": "6eab021ad5dd43a6bf86d62a1768811a",
       "version_major": 2,
       "version_minor": 0
      },
      "text/plain": [
       "Analyzing comments:   0%|          | 0/35 [00:00<?, ?comment/s]"
      ]
     },
     "metadata": {},
     "output_type": "display_data"
    },
    {
     "data": {
      "application/vnd.jupyter.widget-view+json": {
       "model_id": "2eecaf9aea604386a2ac327d1a963cec",
       "version_major": 2,
       "version_minor": 0
      },
      "text/plain": [
       "Analyzing comments:   0%|          | 0/19 [00:00<?, ?comment/s]"
      ]
     },
     "metadata": {},
     "output_type": "display_data"
    },
    {
     "data": {
      "application/vnd.jupyter.widget-view+json": {
       "model_id": "98770141296c49509b20baa0c4e056da",
       "version_major": 2,
       "version_minor": 0
      },
      "text/plain": [
       "Analyzing comments:   0%|          | 0/25 [00:00<?, ?comment/s]"
      ]
     },
     "metadata": {},
     "output_type": "display_data"
    },
    {
     "data": {
      "application/vnd.jupyter.widget-view+json": {
       "model_id": "5fec2062a8454d0d867cb77c295f9aa9",
       "version_major": 2,
       "version_minor": 0
      },
      "text/plain": [
       "Analyzing comments: 0comment [00:00, ?comment/s]"
      ]
     },
     "metadata": {},
     "output_type": "display_data"
    },
    {
     "data": {
      "application/vnd.jupyter.widget-view+json": {
       "model_id": "50ed37e438044485ad2a64a7b439fcae",
       "version_major": 2,
       "version_minor": 0
      },
      "text/plain": [
       "Analyzing comments:   0%|          | 0/14 [00:00<?, ?comment/s]"
      ]
     },
     "metadata": {},
     "output_type": "display_data"
    },
    {
     "data": {
      "application/vnd.jupyter.widget-view+json": {
       "model_id": "844d80cc6daa481ea1bde97c9eafb053",
       "version_major": 2,
       "version_minor": 0
      },
      "text/plain": [
       "Analyzing comments:   0%|          | 0/58 [00:00<?, ?comment/s]"
      ]
     },
     "metadata": {},
     "output_type": "display_data"
    },
    {
     "data": {
      "application/vnd.jupyter.widget-view+json": {
       "model_id": "2aeb29a252cf4c3d96945f337327a8d6",
       "version_major": 2,
       "version_minor": 0
      },
      "text/plain": [
       "Analyzing comments:   0%|          | 0/30 [00:00<?, ?comment/s]"
      ]
     },
     "metadata": {},
     "output_type": "display_data"
    },
    {
     "data": {
      "application/vnd.jupyter.widget-view+json": {
       "model_id": "eb666970213c463abd2b226429aad26c",
       "version_major": 2,
       "version_minor": 0
      },
      "text/plain": [
       "Analyzing comments:   0%|          | 0/12 [00:00<?, ?comment/s]"
      ]
     },
     "metadata": {},
     "output_type": "display_data"
    },
    {
     "data": {
      "application/vnd.jupyter.widget-view+json": {
       "model_id": "75c4fa42a114426ab2c34e7a38f1918e",
       "version_major": 2,
       "version_minor": 0
      },
      "text/plain": [
       "Analyzing comments:   0%|          | 0/1 [00:00<?, ?comment/s]"
      ]
     },
     "metadata": {},
     "output_type": "display_data"
    },
    {
     "data": {
      "application/vnd.jupyter.widget-view+json": {
       "model_id": "a901e69a1dd143648ae0b094db610d19",
       "version_major": 2,
       "version_minor": 0
      },
      "text/plain": [
       "Analyzing comments:   0%|          | 0/39 [00:00<?, ?comment/s]"
      ]
     },
     "metadata": {},
     "output_type": "display_data"
    },
    {
     "data": {
      "application/vnd.jupyter.widget-view+json": {
       "model_id": "a1145d21725b49b38149ed5a122d84ba",
       "version_major": 2,
       "version_minor": 0
      },
      "text/plain": [
       "Analyzing comments: 0comment [00:00, ?comment/s]"
      ]
     },
     "metadata": {},
     "output_type": "display_data"
    },
    {
     "data": {
      "application/vnd.jupyter.widget-view+json": {
       "model_id": "40f5107ef40e40b79ef7848f6feb1fda",
       "version_major": 2,
       "version_minor": 0
      },
      "text/plain": [
       "Analyzing comments:   0%|          | 0/35 [00:00<?, ?comment/s]"
      ]
     },
     "metadata": {},
     "output_type": "display_data"
    },
    {
     "data": {
      "application/vnd.jupyter.widget-view+json": {
       "model_id": "c2f39aa60110499098987c1e8acc8289",
       "version_major": 2,
       "version_minor": 0
      },
      "text/plain": [
       "Analyzing comments:   0%|          | 0/7 [00:00<?, ?comment/s]"
      ]
     },
     "metadata": {},
     "output_type": "display_data"
    },
    {
     "data": {
      "application/vnd.jupyter.widget-view+json": {
       "model_id": "3ab86af52e664228be3cf7a8cf609252",
       "version_major": 2,
       "version_minor": 0
      },
      "text/plain": [
       "Analyzing comments:   0%|          | 0/17 [00:00<?, ?comment/s]"
      ]
     },
     "metadata": {},
     "output_type": "display_data"
    },
    {
     "data": {
      "application/vnd.jupyter.widget-view+json": {
       "model_id": "788fea9046a6418d9ad72f05eaabff70",
       "version_major": 2,
       "version_minor": 0
      },
      "text/plain": [
       "Analyzing comments:   0%|          | 0/18 [00:00<?, ?comment/s]"
      ]
     },
     "metadata": {},
     "output_type": "display_data"
    },
    {
     "data": {
      "application/vnd.jupyter.widget-view+json": {
       "model_id": "ad275e4ef1b14126a16d1106aaa53db0",
       "version_major": 2,
       "version_minor": 0
      },
      "text/plain": [
       "Analyzing comments:   0%|          | 0/32 [00:00<?, ?comment/s]"
      ]
     },
     "metadata": {},
     "output_type": "display_data"
    },
    {
     "data": {
      "application/vnd.jupyter.widget-view+json": {
       "model_id": "3ad65a585fbd48fc80a4cec3b0be6077",
       "version_major": 2,
       "version_minor": 0
      },
      "text/plain": [
       "Analyzing comments:   0%|          | 0/30 [00:00<?, ?comment/s]"
      ]
     },
     "metadata": {},
     "output_type": "display_data"
    },
    {
     "data": {
      "application/vnd.jupyter.widget-view+json": {
       "model_id": "babb7c23b5f645cf81c0b6da5523a75f",
       "version_major": 2,
       "version_minor": 0
      },
      "text/plain": [
       "Analyzing comments:   0%|          | 0/7 [00:00<?, ?comment/s]"
      ]
     },
     "metadata": {},
     "output_type": "display_data"
    },
    {
     "data": {
      "application/vnd.jupyter.widget-view+json": {
       "model_id": "4d8f648c5e9a45c487c47e34cf90f5cf",
       "version_major": 2,
       "version_minor": 0
      },
      "text/plain": [
       "Analyzing comments:   0%|          | 0/32 [00:00<?, ?comment/s]"
      ]
     },
     "metadata": {},
     "output_type": "display_data"
    },
    {
     "data": {
      "application/vnd.jupyter.widget-view+json": {
       "model_id": "5afba9adc8b04ff48d621bbc59885261",
       "version_major": 2,
       "version_minor": 0
      },
      "text/plain": [
       "Analyzing comments:   0%|          | 0/37 [00:00<?, ?comment/s]"
      ]
     },
     "metadata": {},
     "output_type": "display_data"
    },
    {
     "data": {
      "application/vnd.jupyter.widget-view+json": {
       "model_id": "1fd6235abcda43fb9efa1d2aa16fbf4e",
       "version_major": 2,
       "version_minor": 0
      },
      "text/plain": [
       "Analyzing comments:   0%|          | 0/28 [00:00<?, ?comment/s]"
      ]
     },
     "metadata": {},
     "output_type": "display_data"
    },
    {
     "data": {
      "application/vnd.jupyter.widget-view+json": {
       "model_id": "5c5629f82c334b5bb8d16177072d1a5d",
       "version_major": 2,
       "version_minor": 0
      },
      "text/plain": [
       "Analyzing comments:   0%|          | 0/30 [00:00<?, ?comment/s]"
      ]
     },
     "metadata": {},
     "output_type": "display_data"
    },
    {
     "data": {
      "application/vnd.jupyter.widget-view+json": {
       "model_id": "c0fe850091484d17b521709be5924444",
       "version_major": 2,
       "version_minor": 0
      },
      "text/plain": [
       "Analyzing comments:   0%|          | 0/21 [00:00<?, ?comment/s]"
      ]
     },
     "metadata": {},
     "output_type": "display_data"
    },
    {
     "data": {
      "application/vnd.jupyter.widget-view+json": {
       "model_id": "72a9bdb57ac248fd9f32ec12b073082f",
       "version_major": 2,
       "version_minor": 0
      },
      "text/plain": [
       "Analyzing comments:   0%|          | 0/33 [00:00<?, ?comment/s]"
      ]
     },
     "metadata": {},
     "output_type": "display_data"
    },
    {
     "data": {
      "application/vnd.jupyter.widget-view+json": {
       "model_id": "09da6c78830643dbb4e0fa6a0e3c566a",
       "version_major": 2,
       "version_minor": 0
      },
      "text/plain": [
       "Analyzing comments:   0%|          | 0/53 [00:00<?, ?comment/s]"
      ]
     },
     "metadata": {},
     "output_type": "display_data"
    },
    {
     "data": {
      "application/vnd.jupyter.widget-view+json": {
       "model_id": "9faed58b8c464fb7ad0233cf218162e3",
       "version_major": 2,
       "version_minor": 0
      },
      "text/plain": [
       "Analyzing comments:   0%|          | 0/27 [00:00<?, ?comment/s]"
      ]
     },
     "metadata": {},
     "output_type": "display_data"
    },
    {
     "data": {
      "application/vnd.jupyter.widget-view+json": {
       "model_id": "d088cfb3c27045f9ade1ea6882a5be44",
       "version_major": 2,
       "version_minor": 0
      },
      "text/plain": [
       "Analyzing comments:   0%|          | 0/10 [00:00<?, ?comment/s]"
      ]
     },
     "metadata": {},
     "output_type": "display_data"
    },
    {
     "data": {
      "application/vnd.jupyter.widget-view+json": {
       "model_id": "826c8d0581b84784808f17363ee6c653",
       "version_major": 2,
       "version_minor": 0
      },
      "text/plain": [
       "Analyzing comments:   0%|          | 0/16 [00:00<?, ?comment/s]"
      ]
     },
     "metadata": {},
     "output_type": "display_data"
    },
    {
     "data": {
      "application/vnd.jupyter.widget-view+json": {
       "model_id": "465fc46d787948e7bd2668f6da8e644c",
       "version_major": 2,
       "version_minor": 0
      },
      "text/plain": [
       "Analyzing comments:   0%|          | 0/60 [00:00<?, ?comment/s]"
      ]
     },
     "metadata": {},
     "output_type": "display_data"
    },
    {
     "data": {
      "application/vnd.jupyter.widget-view+json": {
       "model_id": "3f072642c1554bee981151a7fe9bf92e",
       "version_major": 2,
       "version_minor": 0
      },
      "text/plain": [
       "Analyzing comments:   0%|          | 0/34 [00:00<?, ?comment/s]"
      ]
     },
     "metadata": {},
     "output_type": "display_data"
    },
    {
     "data": {
      "application/vnd.jupyter.widget-view+json": {
       "model_id": "571c0437a69743c788ab80048123b648",
       "version_major": 2,
       "version_minor": 0
      },
      "text/plain": [
       "Analyzing comments:   0%|          | 0/6 [00:00<?, ?comment/s]"
      ]
     },
     "metadata": {},
     "output_type": "display_data"
    },
    {
     "data": {
      "application/vnd.jupyter.widget-view+json": {
       "model_id": "5acba282ac2d4607b3162deac36d213a",
       "version_major": 2,
       "version_minor": 0
      },
      "text/plain": [
       "Analyzing comments:   0%|          | 0/35 [00:00<?, ?comment/s]"
      ]
     },
     "metadata": {},
     "output_type": "display_data"
    },
    {
     "data": {
      "application/vnd.jupyter.widget-view+json": {
       "model_id": "91a2d14d33164955a45001e98ae655e4",
       "version_major": 2,
       "version_minor": 0
      },
      "text/plain": [
       "Analyzing comments: 0comment [00:00, ?comment/s]"
      ]
     },
     "metadata": {},
     "output_type": "display_data"
    },
    {
     "data": {
      "application/vnd.jupyter.widget-view+json": {
       "model_id": "faeda53b176b40d69e2b2f917de47994",
       "version_major": 2,
       "version_minor": 0
      },
      "text/plain": [
       "Analyzing comments:   0%|          | 0/16 [00:00<?, ?comment/s]"
      ]
     },
     "metadata": {},
     "output_type": "display_data"
    },
    {
     "data": {
      "application/vnd.jupyter.widget-view+json": {
       "model_id": "2f9f741ea5d545aea915aaa348d68e00",
       "version_major": 2,
       "version_minor": 0
      },
      "text/plain": [
       "Analyzing comments:   0%|          | 0/18 [00:00<?, ?comment/s]"
      ]
     },
     "metadata": {},
     "output_type": "display_data"
    },
    {
     "data": {
      "application/vnd.jupyter.widget-view+json": {
       "model_id": "64d4964f42c74b2eac361e2aa935971a",
       "version_major": 2,
       "version_minor": 0
      },
      "text/plain": [
       "Analyzing comments:   0%|          | 0/35 [00:00<?, ?comment/s]"
      ]
     },
     "metadata": {},
     "output_type": "display_data"
    },
    {
     "data": {
      "application/vnd.jupyter.widget-view+json": {
       "model_id": "062ce179260341e79b6b78d18c31a65d",
       "version_major": 2,
       "version_minor": 0
      },
      "text/plain": [
       "Analyzing comments:   0%|          | 0/30 [00:00<?, ?comment/s]"
      ]
     },
     "metadata": {},
     "output_type": "display_data"
    },
    {
     "data": {
      "application/vnd.jupyter.widget-view+json": {
       "model_id": "241b9d2445544031bb5985c934e16f8c",
       "version_major": 2,
       "version_minor": 0
      },
      "text/plain": [
       "Analyzing comments:   0%|          | 0/15 [00:00<?, ?comment/s]"
      ]
     },
     "metadata": {},
     "output_type": "display_data"
    },
    {
     "data": {
      "application/vnd.jupyter.widget-view+json": {
       "model_id": "869aa5dbc60b4258a52b7340cff3ddd5",
       "version_major": 2,
       "version_minor": 0
      },
      "text/plain": [
       "Analyzing comments:   0%|          | 0/18 [00:00<?, ?comment/s]"
      ]
     },
     "metadata": {},
     "output_type": "display_data"
    },
    {
     "data": {
      "application/vnd.jupyter.widget-view+json": {
       "model_id": "bb32ba4ea3ae4b5db831e4fcb3867e07",
       "version_major": 2,
       "version_minor": 0
      },
      "text/plain": [
       "Analyzing comments: 0comment [00:00, ?comment/s]"
      ]
     },
     "metadata": {},
     "output_type": "display_data"
    },
    {
     "data": {
      "application/vnd.jupyter.widget-view+json": {
       "model_id": "ee4ae179b2d74d0a9e3671f795a89a37",
       "version_major": 2,
       "version_minor": 0
      },
      "text/plain": [
       "Analyzing comments:   0%|          | 0/36 [00:00<?, ?comment/s]"
      ]
     },
     "metadata": {},
     "output_type": "display_data"
    },
    {
     "data": {
      "application/vnd.jupyter.widget-view+json": {
       "model_id": "a1fcc59ccbf249e997bcfc9e95206cd4",
       "version_major": 2,
       "version_minor": 0
      },
      "text/plain": [
       "Analyzing comments:   0%|          | 0/12 [00:00<?, ?comment/s]"
      ]
     },
     "metadata": {},
     "output_type": "display_data"
    },
    {
     "data": {
      "application/vnd.jupyter.widget-view+json": {
       "model_id": "8287ae268cc34023a4bed1bc77d0e70e",
       "version_major": 2,
       "version_minor": 0
      },
      "text/plain": [
       "Analyzing comments:   0%|          | 0/19 [00:00<?, ?comment/s]"
      ]
     },
     "metadata": {},
     "output_type": "display_data"
    },
    {
     "data": {
      "application/vnd.jupyter.widget-view+json": {
       "model_id": "ff02a6879a5c490f83c3f261214c2009",
       "version_major": 2,
       "version_minor": 0
      },
      "text/plain": [
       "Analyzing comments:   0%|          | 0/40 [00:00<?, ?comment/s]"
      ]
     },
     "metadata": {},
     "output_type": "display_data"
    },
    {
     "data": {
      "application/vnd.jupyter.widget-view+json": {
       "model_id": "01da01335c624390be47d6c54d65ee0f",
       "version_major": 2,
       "version_minor": 0
      },
      "text/plain": [
       "Analyzing comments:   0%|          | 0/25 [00:00<?, ?comment/s]"
      ]
     },
     "metadata": {},
     "output_type": "display_data"
    },
    {
     "data": {
      "application/vnd.jupyter.widget-view+json": {
       "model_id": "06fe6f6b05b249f6a6dc4cc4c8deb2af",
       "version_major": 2,
       "version_minor": 0
      },
      "text/plain": [
       "Analyzing comments:   0%|          | 0/10 [00:00<?, ?comment/s]"
      ]
     },
     "metadata": {},
     "output_type": "display_data"
    },
    {
     "data": {
      "application/vnd.jupyter.widget-view+json": {
       "model_id": "8578d9c9624e49288a3e8110f63c48fe",
       "version_major": 2,
       "version_minor": 0
      },
      "text/plain": [
       "Analyzing comments:   0%|          | 0/38 [00:00<?, ?comment/s]"
      ]
     },
     "metadata": {},
     "output_type": "display_data"
    },
    {
     "data": {
      "application/vnd.jupyter.widget-view+json": {
       "model_id": "2b437089c61e4610850e9a0939fc3678",
       "version_major": 2,
       "version_minor": 0
      },
      "text/plain": [
       "Analyzing comments:   0%|          | 0/33 [00:00<?, ?comment/s]"
      ]
     },
     "metadata": {},
     "output_type": "display_data"
    },
    {
     "data": {
      "application/vnd.jupyter.widget-view+json": {
       "model_id": "7d7ebb26ad704b8ab468e0f920fd212b",
       "version_major": 2,
       "version_minor": 0
      },
      "text/plain": [
       "Analyzing comments:   0%|          | 0/4 [00:00<?, ?comment/s]"
      ]
     },
     "metadata": {},
     "output_type": "display_data"
    },
    {
     "data": {
      "application/vnd.jupyter.widget-view+json": {
       "model_id": "f020a31825c94f5b838bf6e9cd9a01de",
       "version_major": 2,
       "version_minor": 0
      },
      "text/plain": [
       "Analyzing comments:   0%|          | 0/2 [00:00<?, ?comment/s]"
      ]
     },
     "metadata": {},
     "output_type": "display_data"
    },
    {
     "data": {
      "application/vnd.jupyter.widget-view+json": {
       "model_id": "908e5211d0874510b43c2c103d7f0e18",
       "version_major": 2,
       "version_minor": 0
      },
      "text/plain": [
       "Analyzing comments:   0%|          | 0/14 [00:00<?, ?comment/s]"
      ]
     },
     "metadata": {},
     "output_type": "display_data"
    },
    {
     "data": {
      "application/vnd.jupyter.widget-view+json": {
       "model_id": "f1c7f6f1d702495795f159b9cca5ec38",
       "version_major": 2,
       "version_minor": 0
      },
      "text/plain": [
       "Analyzing comments:   0%|          | 0/19 [00:00<?, ?comment/s]"
      ]
     },
     "metadata": {},
     "output_type": "display_data"
    },
    {
     "data": {
      "application/vnd.jupyter.widget-view+json": {
       "model_id": "8c324746e0bd4756b0825f725bb79eff",
       "version_major": 2,
       "version_minor": 0
      },
      "text/plain": [
       "Analyzing comments:   0%|          | 0/36 [00:00<?, ?comment/s]"
      ]
     },
     "metadata": {},
     "output_type": "display_data"
    },
    {
     "data": {
      "application/vnd.jupyter.widget-view+json": {
       "model_id": "f1593616d1c345a5b6c8029d4f75c428",
       "version_major": 2,
       "version_minor": 0
      },
      "text/plain": [
       "Analyzing comments:   0%|          | 0/40 [00:00<?, ?comment/s]"
      ]
     },
     "metadata": {},
     "output_type": "display_data"
    },
    {
     "data": {
      "application/vnd.jupyter.widget-view+json": {
       "model_id": "4e38eebd3b3748af8aa1fba872abf5aa",
       "version_major": 2,
       "version_minor": 0
      },
      "text/plain": [
       "Analyzing comments:   0%|          | 0/24 [00:00<?, ?comment/s]"
      ]
     },
     "metadata": {},
     "output_type": "display_data"
    },
    {
     "data": {
      "application/vnd.jupyter.widget-view+json": {
       "model_id": "e3e5246a695240be8450f93d650f957e",
       "version_major": 2,
       "version_minor": 0
      },
      "text/plain": [
       "Analyzing comments:   0%|          | 0/36 [00:00<?, ?comment/s]"
      ]
     },
     "metadata": {},
     "output_type": "display_data"
    },
    {
     "data": {
      "application/vnd.jupyter.widget-view+json": {
       "model_id": "d071cfab74b54d648797a3ad42c07e8e",
       "version_major": 2,
       "version_minor": 0
      },
      "text/plain": [
       "Analyzing comments:   0%|          | 0/40 [00:00<?, ?comment/s]"
      ]
     },
     "metadata": {},
     "output_type": "display_data"
    },
    {
     "data": {
      "application/vnd.jupyter.widget-view+json": {
       "model_id": "1bcc54015e8a42779093342f15822c92",
       "version_major": 2,
       "version_minor": 0
      },
      "text/plain": [
       "Analyzing comments:   0%|          | 0/20 [00:00<?, ?comment/s]"
      ]
     },
     "metadata": {},
     "output_type": "display_data"
    },
    {
     "data": {
      "application/vnd.jupyter.widget-view+json": {
       "model_id": "d7471d3c4cd4479f8c400383427f0634",
       "version_major": 2,
       "version_minor": 0
      },
      "text/plain": [
       "Analyzing comments:   0%|          | 0/29 [00:00<?, ?comment/s]"
      ]
     },
     "metadata": {},
     "output_type": "display_data"
    },
    {
     "data": {
      "application/vnd.jupyter.widget-view+json": {
       "model_id": "9753dcd5b6624bc8a12942ec04757f45",
       "version_major": 2,
       "version_minor": 0
      },
      "text/plain": [
       "Analyzing comments:   0%|          | 0/37 [00:00<?, ?comment/s]"
      ]
     },
     "metadata": {},
     "output_type": "display_data"
    },
    {
     "data": {
      "application/vnd.jupyter.widget-view+json": {
       "model_id": "60310b161bab459990588d391ed7956d",
       "version_major": 2,
       "version_minor": 0
      },
      "text/plain": [
       "Analyzing comments:   0%|          | 0/19 [00:00<?, ?comment/s]"
      ]
     },
     "metadata": {},
     "output_type": "display_data"
    },
    {
     "data": {
      "application/vnd.jupyter.widget-view+json": {
       "model_id": "55aefa9f4bbd4bef8dc45f80ba406b87",
       "version_major": 2,
       "version_minor": 0
      },
      "text/plain": [
       "Analyzing comments:   0%|          | 0/24 [00:00<?, ?comment/s]"
      ]
     },
     "metadata": {},
     "output_type": "display_data"
    },
    {
     "data": {
      "application/vnd.jupyter.widget-view+json": {
       "model_id": "08ac490ee21244cdb7595a2374aa7bc6",
       "version_major": 2,
       "version_minor": 0
      },
      "text/plain": [
       "Analyzing comments:   0%|          | 0/39 [00:00<?, ?comment/s]"
      ]
     },
     "metadata": {},
     "output_type": "display_data"
    },
    {
     "data": {
      "application/vnd.jupyter.widget-view+json": {
       "model_id": "d245824fd57446de922d927cc3df4d7c",
       "version_major": 2,
       "version_minor": 0
      },
      "text/plain": [
       "Analyzing comments:   0%|          | 0/37 [00:00<?, ?comment/s]"
      ]
     },
     "metadata": {},
     "output_type": "display_data"
    },
    {
     "data": {
      "application/vnd.jupyter.widget-view+json": {
       "model_id": "bcb0e8ee56104237b5fcd64954239107",
       "version_major": 2,
       "version_minor": 0
      },
      "text/plain": [
       "Analyzing comments:   0%|          | 0/31 [00:00<?, ?comment/s]"
      ]
     },
     "metadata": {},
     "output_type": "display_data"
    },
    {
     "data": {
      "application/vnd.jupyter.widget-view+json": {
       "model_id": "7f7fd81e86cf46959c90272eba9a2382",
       "version_major": 2,
       "version_minor": 0
      },
      "text/plain": [
       "Analyzing comments:   0%|          | 0/35 [00:00<?, ?comment/s]"
      ]
     },
     "metadata": {},
     "output_type": "display_data"
    },
    {
     "data": {
      "application/vnd.jupyter.widget-view+json": {
       "model_id": "a3a9e09747e24bb69b3171d6748b4500",
       "version_major": 2,
       "version_minor": 0
      },
      "text/plain": [
       "Analyzing comments:   0%|          | 0/1 [00:00<?, ?comment/s]"
      ]
     },
     "metadata": {},
     "output_type": "display_data"
    },
    {
     "data": {
      "application/vnd.jupyter.widget-view+json": {
       "model_id": "8bd8adb46e9b487c96291e81ce4573c7",
       "version_major": 2,
       "version_minor": 0
      },
      "text/plain": [
       "Analyzing comments:   0%|          | 0/33 [00:00<?, ?comment/s]"
      ]
     },
     "metadata": {},
     "output_type": "display_data"
    },
    {
     "data": {
      "application/vnd.jupyter.widget-view+json": {
       "model_id": "be8d70d441fa4123bf0c9e95977324b2",
       "version_major": 2,
       "version_minor": 0
      },
      "text/plain": [
       "Analyzing comments:   0%|          | 0/5 [00:00<?, ?comment/s]"
      ]
     },
     "metadata": {},
     "output_type": "display_data"
    },
    {
     "data": {
      "application/vnd.jupyter.widget-view+json": {
       "model_id": "e05f0d9f1c604681ad8e85b6bee468fe",
       "version_major": 2,
       "version_minor": 0
      },
      "text/plain": [
       "Analyzing comments:   0%|          | 0/37 [00:00<?, ?comment/s]"
      ]
     },
     "metadata": {},
     "output_type": "display_data"
    },
    {
     "data": {
      "application/vnd.jupyter.widget-view+json": {
       "model_id": "4d9fdda6ac074723a40722fea6418e6f",
       "version_major": 2,
       "version_minor": 0
      },
      "text/plain": [
       "Analyzing comments:   0%|          | 0/13 [00:00<?, ?comment/s]"
      ]
     },
     "metadata": {},
     "output_type": "display_data"
    },
    {
     "data": {
      "application/vnd.jupyter.widget-view+json": {
       "model_id": "4e48194119874316909df8544c37bf85",
       "version_major": 2,
       "version_minor": 0
      },
      "text/plain": [
       "Analyzing comments:   0%|          | 0/40 [00:00<?, ?comment/s]"
      ]
     },
     "metadata": {},
     "output_type": "display_data"
    },
    {
     "data": {
      "application/vnd.jupyter.widget-view+json": {
       "model_id": "3821569fe6ff46b9b47310abc3ab9b4b",
       "version_major": 2,
       "version_minor": 0
      },
      "text/plain": [
       "Analyzing comments:   0%|          | 0/22 [00:00<?, ?comment/s]"
      ]
     },
     "metadata": {},
     "output_type": "display_data"
    },
    {
     "data": {
      "application/vnd.jupyter.widget-view+json": {
       "model_id": "5076880d4ecb4d569e33e9b530170731",
       "version_major": 2,
       "version_minor": 0
      },
      "text/plain": [
       "Analyzing comments:   0%|          | 0/7 [00:00<?, ?comment/s]"
      ]
     },
     "metadata": {},
     "output_type": "display_data"
    },
    {
     "data": {
      "application/vnd.jupyter.widget-view+json": {
       "model_id": "8b0bc77b572c4ae18ba33062c0588e7e",
       "version_major": 2,
       "version_minor": 0
      },
      "text/plain": [
       "Analyzing comments:   0%|          | 0/36 [00:00<?, ?comment/s]"
      ]
     },
     "metadata": {},
     "output_type": "display_data"
    },
    {
     "data": {
      "application/vnd.jupyter.widget-view+json": {
       "model_id": "c2f1fce1739f4fd1ba4c04d98b956fc2",
       "version_major": 2,
       "version_minor": 0
      },
      "text/plain": [
       "Analyzing comments:   0%|          | 0/21 [00:00<?, ?comment/s]"
      ]
     },
     "metadata": {},
     "output_type": "display_data"
    },
    {
     "data": {
      "application/vnd.jupyter.widget-view+json": {
       "model_id": "110b9320ef874e60907f378ff0418353",
       "version_major": 2,
       "version_minor": 0
      },
      "text/plain": [
       "Analyzing comments:   0%|          | 0/33 [00:00<?, ?comment/s]"
      ]
     },
     "metadata": {},
     "output_type": "display_data"
    },
    {
     "data": {
      "application/vnd.jupyter.widget-view+json": {
       "model_id": "1da54533951640a4b0fd0cc38b765945",
       "version_major": 2,
       "version_minor": 0
      },
      "text/plain": [
       "Analyzing comments:   0%|          | 0/1 [00:00<?, ?comment/s]"
      ]
     },
     "metadata": {},
     "output_type": "display_data"
    },
    {
     "data": {
      "application/vnd.jupyter.widget-view+json": {
       "model_id": "5cb4de977b9b4a3fae51c62fa1c4b2c1",
       "version_major": 2,
       "version_minor": 0
      },
      "text/plain": [
       "Analyzing comments:   0%|          | 0/40 [00:00<?, ?comment/s]"
      ]
     },
     "metadata": {},
     "output_type": "display_data"
    },
    {
     "data": {
      "application/vnd.jupyter.widget-view+json": {
       "model_id": "c675078265d4437287d70d6d5f2dd702",
       "version_major": 2,
       "version_minor": 0
      },
      "text/plain": [
       "Analyzing comments:   0%|          | 0/41 [00:00<?, ?comment/s]"
      ]
     },
     "metadata": {},
     "output_type": "display_data"
    },
    {
     "data": {
      "application/vnd.jupyter.widget-view+json": {
       "model_id": "89f055ddae7844a39c94b4b77002ff6b",
       "version_major": 2,
       "version_minor": 0
      },
      "text/plain": [
       "Analyzing comments:   0%|          | 0/2 [00:00<?, ?comment/s]"
      ]
     },
     "metadata": {},
     "output_type": "display_data"
    },
    {
     "data": {
      "application/vnd.jupyter.widget-view+json": {
       "model_id": "098dc6379a104163a759d62163107da4",
       "version_major": 2,
       "version_minor": 0
      },
      "text/plain": [
       "Analyzing comments:   0%|          | 0/39 [00:00<?, ?comment/s]"
      ]
     },
     "metadata": {},
     "output_type": "display_data"
    },
    {
     "data": {
      "application/vnd.jupyter.widget-view+json": {
       "model_id": "bc63a0a891a84d24a5add6ba808a7858",
       "version_major": 2,
       "version_minor": 0
      },
      "text/plain": [
       "Analyzing comments:   0%|          | 0/34 [00:00<?, ?comment/s]"
      ]
     },
     "metadata": {},
     "output_type": "display_data"
    },
    {
     "data": {
      "application/vnd.jupyter.widget-view+json": {
       "model_id": "b15dfeced47b46f8b1a64c736178e8bb",
       "version_major": 2,
       "version_minor": 0
      },
      "text/plain": [
       "Analyzing comments:   0%|          | 0/37 [00:00<?, ?comment/s]"
      ]
     },
     "metadata": {},
     "output_type": "display_data"
    },
    {
     "data": {
      "application/vnd.jupyter.widget-view+json": {
       "model_id": "e9f00103e7dd46daa97db6e880aa0ccb",
       "version_major": 2,
       "version_minor": 0
      },
      "text/plain": [
       "Analyzing comments:   0%|          | 0/5 [00:00<?, ?comment/s]"
      ]
     },
     "metadata": {},
     "output_type": "display_data"
    },
    {
     "data": {
      "application/vnd.jupyter.widget-view+json": {
       "model_id": "bc7d05fcf95f4f608d402cda7efeba1c",
       "version_major": 2,
       "version_minor": 0
      },
      "text/plain": [
       "Analyzing comments:   0%|          | 0/37 [00:00<?, ?comment/s]"
      ]
     },
     "metadata": {},
     "output_type": "display_data"
    },
    {
     "data": {
      "application/vnd.jupyter.widget-view+json": {
       "model_id": "50ea014bbcc44a5ca832baace3b687e2",
       "version_major": 2,
       "version_minor": 0
      },
      "text/plain": [
       "Analyzing comments:   0%|          | 0/4 [00:00<?, ?comment/s]"
      ]
     },
     "metadata": {},
     "output_type": "display_data"
    },
    {
     "data": {
      "application/vnd.jupyter.widget-view+json": {
       "model_id": "7f33c48001bd47879ebe7b4df7c88792",
       "version_major": 2,
       "version_minor": 0
      },
      "text/plain": [
       "Analyzing comments:   0%|          | 0/40 [00:00<?, ?comment/s]"
      ]
     },
     "metadata": {},
     "output_type": "display_data"
    },
    {
     "data": {
      "application/vnd.jupyter.widget-view+json": {
       "model_id": "8e13681933b247b6bc48d33fc9f90974",
       "version_major": 2,
       "version_minor": 0
      },
      "text/plain": [
       "Analyzing comments:   0%|          | 0/36 [00:00<?, ?comment/s]"
      ]
     },
     "metadata": {},
     "output_type": "display_data"
    },
    {
     "data": {
      "application/vnd.jupyter.widget-view+json": {
       "model_id": "3396eebf858c4eb68b907ea2cdac1253",
       "version_major": 2,
       "version_minor": 0
      },
      "text/plain": [
       "Analyzing comments:   0%|          | 0/18 [00:00<?, ?comment/s]"
      ]
     },
     "metadata": {},
     "output_type": "display_data"
    },
    {
     "data": {
      "application/vnd.jupyter.widget-view+json": {
       "model_id": "91a12811b5e541b0a073506e87342dfc",
       "version_major": 2,
       "version_minor": 0
      },
      "text/plain": [
       "Analyzing comments:   0%|          | 0/31 [00:00<?, ?comment/s]"
      ]
     },
     "metadata": {},
     "output_type": "display_data"
    },
    {
     "data": {
      "application/vnd.jupyter.widget-view+json": {
       "model_id": "fa348708b0164821813b23ec6afd3bc5",
       "version_major": 2,
       "version_minor": 0
      },
      "text/plain": [
       "Analyzing comments:   0%|          | 0/17 [00:00<?, ?comment/s]"
      ]
     },
     "metadata": {},
     "output_type": "display_data"
    },
    {
     "data": {
      "application/vnd.jupyter.widget-view+json": {
       "model_id": "dd0d4a9665304304bc77c7d25ae9fc93",
       "version_major": 2,
       "version_minor": 0
      },
      "text/plain": [
       "Analyzing comments:   0%|          | 0/10 [00:00<?, ?comment/s]"
      ]
     },
     "metadata": {},
     "output_type": "display_data"
    },
    {
     "data": {
      "application/vnd.jupyter.widget-view+json": {
       "model_id": "8df40b22a466478495837e741d119766",
       "version_major": 2,
       "version_minor": 0
      },
      "text/plain": [
       "Analyzing comments:   0%|          | 0/39 [00:00<?, ?comment/s]"
      ]
     },
     "metadata": {},
     "output_type": "display_data"
    },
    {
     "data": {
      "application/vnd.jupyter.widget-view+json": {
       "model_id": "99c83be851024a97b253fee0c8a49ac6",
       "version_major": 2,
       "version_minor": 0
      },
      "text/plain": [
       "Analyzing comments:   0%|          | 0/38 [00:00<?, ?comment/s]"
      ]
     },
     "metadata": {},
     "output_type": "display_data"
    },
    {
     "data": {
      "application/vnd.jupyter.widget-view+json": {
       "model_id": "1ce2c6e1b2204b27b8e55193a8a150c1",
       "version_major": 2,
       "version_minor": 0
      },
      "text/plain": [
       "Analyzing comments:   0%|          | 0/1 [00:00<?, ?comment/s]"
      ]
     },
     "metadata": {},
     "output_type": "display_data"
    },
    {
     "data": {
      "application/vnd.jupyter.widget-view+json": {
       "model_id": "36dcd6a525f149fc936bbda0331aefdb",
       "version_major": 2,
       "version_minor": 0
      },
      "text/plain": [
       "Analyzing comments:   0%|          | 0/16 [00:00<?, ?comment/s]"
      ]
     },
     "metadata": {},
     "output_type": "display_data"
    },
    {
     "data": {
      "application/vnd.jupyter.widget-view+json": {
       "model_id": "ac3864d111df45128ece23237daa08be",
       "version_major": 2,
       "version_minor": 0
      },
      "text/plain": [
       "Analyzing comments:   0%|          | 0/39 [00:00<?, ?comment/s]"
      ]
     },
     "metadata": {},
     "output_type": "display_data"
    },
    {
     "data": {
      "application/vnd.jupyter.widget-view+json": {
       "model_id": "fcb4d73208ed4ae4811261f3bc807833",
       "version_major": 2,
       "version_minor": 0
      },
      "text/plain": [
       "Analyzing comments:   0%|          | 0/40 [00:00<?, ?comment/s]"
      ]
     },
     "metadata": {},
     "output_type": "display_data"
    },
    {
     "data": {
      "application/vnd.jupyter.widget-view+json": {
       "model_id": "6f248e45e5d54db582dfe745ea6fd8bd",
       "version_major": 2,
       "version_minor": 0
      },
      "text/plain": [
       "Analyzing comments:   0%|          | 0/3 [00:00<?, ?comment/s]"
      ]
     },
     "metadata": {},
     "output_type": "display_data"
    },
    {
     "data": {
      "application/vnd.jupyter.widget-view+json": {
       "model_id": "c544fdfbfb4d487384d68bd7d95a0231",
       "version_major": 2,
       "version_minor": 0
      },
      "text/plain": [
       "Analyzing comments:   0%|          | 0/39 [00:00<?, ?comment/s]"
      ]
     },
     "metadata": {},
     "output_type": "display_data"
    },
    {
     "data": {
      "application/vnd.jupyter.widget-view+json": {
       "model_id": "b0fe3bcbb84646b9a8fd592a5452d73f",
       "version_major": 2,
       "version_minor": 0
      },
      "text/plain": [
       "Analyzing comments:   0%|          | 0/39 [00:00<?, ?comment/s]"
      ]
     },
     "metadata": {},
     "output_type": "display_data"
    },
    {
     "data": {
      "application/vnd.jupyter.widget-view+json": {
       "model_id": "90f2f9af53d9487aafc23d35a3852ad9",
       "version_major": 2,
       "version_minor": 0
      },
      "text/plain": [
       "Analyzing comments:   0%|          | 0/40 [00:00<?, ?comment/s]"
      ]
     },
     "metadata": {},
     "output_type": "display_data"
    },
    {
     "data": {
      "application/vnd.jupyter.widget-view+json": {
       "model_id": "517f5d57880942a29faf5b242f1268fb",
       "version_major": 2,
       "version_minor": 0
      },
      "text/plain": [
       "Analyzing comments:   0%|          | 0/1 [00:00<?, ?comment/s]"
      ]
     },
     "metadata": {},
     "output_type": "display_data"
    },
    {
     "data": {
      "application/vnd.jupyter.widget-view+json": {
       "model_id": "00a4f7a20bee430aa0e5d066fbb493c7",
       "version_major": 2,
       "version_minor": 0
      },
      "text/plain": [
       "Analyzing comments:   0%|          | 0/40 [00:00<?, ?comment/s]"
      ]
     },
     "metadata": {},
     "output_type": "display_data"
    },
    {
     "data": {
      "application/vnd.jupyter.widget-view+json": {
       "model_id": "1c59200aaf83433989d3f4a5c2bf73e5",
       "version_major": 2,
       "version_minor": 0
      },
      "text/plain": [
       "Analyzing comments:   0%|          | 0/38 [00:00<?, ?comment/s]"
      ]
     },
     "metadata": {},
     "output_type": "display_data"
    },
    {
     "data": {
      "application/vnd.jupyter.widget-view+json": {
       "model_id": "feba424292194dad91b2b380be69d1ac",
       "version_major": 2,
       "version_minor": 0
      },
      "text/plain": [
       "Analyzing comments:   0%|          | 0/20 [00:00<?, ?comment/s]"
      ]
     },
     "metadata": {},
     "output_type": "display_data"
    },
    {
     "data": {
      "application/vnd.jupyter.widget-view+json": {
       "model_id": "a237902e92244e148ee29a99015acefb",
       "version_major": 2,
       "version_minor": 0
      },
      "text/plain": [
       "Analyzing comments:   0%|          | 0/16 [00:00<?, ?comment/s]"
      ]
     },
     "metadata": {},
     "output_type": "display_data"
    },
    {
     "data": {
      "application/vnd.jupyter.widget-view+json": {
       "model_id": "bc0675acebdc4723bdc87cf24a666a50",
       "version_major": 2,
       "version_minor": 0
      },
      "text/plain": [
       "Analyzing comments:   0%|          | 0/45 [00:00<?, ?comment/s]"
      ]
     },
     "metadata": {},
     "output_type": "display_data"
    },
    {
     "data": {
      "application/vnd.jupyter.widget-view+json": {
       "model_id": "883f7e4cb7664b77baad9aaea5cbc8c6",
       "version_major": 2,
       "version_minor": 0
      },
      "text/plain": [
       "Analyzing comments:   0%|          | 0/28 [00:00<?, ?comment/s]"
      ]
     },
     "metadata": {},
     "output_type": "display_data"
    },
    {
     "data": {
      "application/vnd.jupyter.widget-view+json": {
       "model_id": "3799def959154c31b9c133c60618855a",
       "version_major": 2,
       "version_minor": 0
      },
      "text/plain": [
       "Analyzing comments:   0%|          | 0/30 [00:00<?, ?comment/s]"
      ]
     },
     "metadata": {},
     "output_type": "display_data"
    },
    {
     "data": {
      "application/vnd.jupyter.widget-view+json": {
       "model_id": "9a291dce834848f3b00fb7c137fa46cb",
       "version_major": 2,
       "version_minor": 0
      },
      "text/plain": [
       "Analyzing comments:   0%|          | 0/38 [00:00<?, ?comment/s]"
      ]
     },
     "metadata": {},
     "output_type": "display_data"
    },
    {
     "data": {
      "application/vnd.jupyter.widget-view+json": {
       "model_id": "fb6785bda69245319173c362e9dd8b83",
       "version_major": 2,
       "version_minor": 0
      },
      "text/plain": [
       "Analyzing comments:   0%|          | 0/35 [00:00<?, ?comment/s]"
      ]
     },
     "metadata": {},
     "output_type": "display_data"
    },
    {
     "data": {
      "application/vnd.jupyter.widget-view+json": {
       "model_id": "81be624b77ea4c269116c237065c6f77",
       "version_major": 2,
       "version_minor": 0
      },
      "text/plain": [
       "Analyzing comments:   0%|          | 0/32 [00:00<?, ?comment/s]"
      ]
     },
     "metadata": {},
     "output_type": "display_data"
    },
    {
     "data": {
      "application/vnd.jupyter.widget-view+json": {
       "model_id": "7c292575a75245feace08544f1a275cf",
       "version_major": 2,
       "version_minor": 0
      },
      "text/plain": [
       "Analyzing comments:   0%|          | 0/33 [00:00<?, ?comment/s]"
      ]
     },
     "metadata": {},
     "output_type": "display_data"
    },
    {
     "data": {
      "application/vnd.jupyter.widget-view+json": {
       "model_id": "e875992a2f9641bcb6720263f9429a64",
       "version_major": 2,
       "version_minor": 0
      },
      "text/plain": [
       "Analyzing comments:   0%|          | 0/26 [00:00<?, ?comment/s]"
      ]
     },
     "metadata": {},
     "output_type": "display_data"
    },
    {
     "data": {
      "application/vnd.jupyter.widget-view+json": {
       "model_id": "5025763060044759a3429e40420f55e7",
       "version_major": 2,
       "version_minor": 0
      },
      "text/plain": [
       "Analyzing comments:   0%|          | 0/47 [00:00<?, ?comment/s]"
      ]
     },
     "metadata": {},
     "output_type": "display_data"
    },
    {
     "data": {
      "application/vnd.jupyter.widget-view+json": {
       "model_id": "0923d87c092b4436a85eb3338bf8cf09",
       "version_major": 2,
       "version_minor": 0
      },
      "text/plain": [
       "Analyzing comments:   0%|          | 0/38 [00:00<?, ?comment/s]"
      ]
     },
     "metadata": {},
     "output_type": "display_data"
    },
    {
     "data": {
      "application/vnd.jupyter.widget-view+json": {
       "model_id": "848c03d2629848ae85937b4e032f56a6",
       "version_major": 2,
       "version_minor": 0
      },
      "text/plain": [
       "Analyzing comments:   0%|          | 0/40 [00:00<?, ?comment/s]"
      ]
     },
     "metadata": {},
     "output_type": "display_data"
    },
    {
     "data": {
      "application/vnd.jupyter.widget-view+json": {
       "model_id": "7d1c5ac7b223476ab78ebe620d7c72c2",
       "version_major": 2,
       "version_minor": 0
      },
      "text/plain": [
       "Analyzing comments:   0%|          | 0/29 [00:00<?, ?comment/s]"
      ]
     },
     "metadata": {},
     "output_type": "display_data"
    },
    {
     "data": {
      "application/vnd.jupyter.widget-view+json": {
       "model_id": "5d571c12ec904d879116867d41531039",
       "version_major": 2,
       "version_minor": 0
      },
      "text/plain": [
       "Analyzing comments:   0%|          | 0/4 [00:00<?, ?comment/s]"
      ]
     },
     "metadata": {},
     "output_type": "display_data"
    },
    {
     "data": {
      "application/vnd.jupyter.widget-view+json": {
       "model_id": "749b6a7738d64f819d91c0fa57c5f3e6",
       "version_major": 2,
       "version_minor": 0
      },
      "text/plain": [
       "Analyzing comments:   0%|          | 0/30 [00:00<?, ?comment/s]"
      ]
     },
     "metadata": {},
     "output_type": "display_data"
    },
    {
     "data": {
      "application/vnd.jupyter.widget-view+json": {
       "model_id": "52fec4b0290844468cae506f6087b439",
       "version_major": 2,
       "version_minor": 0
      },
      "text/plain": [
       "Analyzing comments:   0%|          | 0/19 [00:00<?, ?comment/s]"
      ]
     },
     "metadata": {},
     "output_type": "display_data"
    },
    {
     "data": {
      "application/vnd.jupyter.widget-view+json": {
       "model_id": "03163281979642da964c8d7eab25716b",
       "version_major": 2,
       "version_minor": 0
      },
      "text/plain": [
       "Analyzing comments: 0comment [00:00, ?comment/s]"
      ]
     },
     "metadata": {},
     "output_type": "display_data"
    },
    {
     "data": {
      "application/vnd.jupyter.widget-view+json": {
       "model_id": "e7f80a40d11c49c7a8209ca6ec00841b",
       "version_major": 2,
       "version_minor": 0
      },
      "text/plain": [
       "Analyzing comments:   0%|          | 0/2 [00:00<?, ?comment/s]"
      ]
     },
     "metadata": {},
     "output_type": "display_data"
    },
    {
     "data": {
      "application/vnd.jupyter.widget-view+json": {
       "model_id": "b7cb54340aff419b9c418e844d3ef497",
       "version_major": 2,
       "version_minor": 0
      },
      "text/plain": [
       "Analyzing comments:   0%|          | 0/9 [00:00<?, ?comment/s]"
      ]
     },
     "metadata": {},
     "output_type": "display_data"
    },
    {
     "data": {
      "application/vnd.jupyter.widget-view+json": {
       "model_id": "91fad42de56d42d89ab3e91f9117b233",
       "version_major": 2,
       "version_minor": 0
      },
      "text/plain": [
       "Analyzing comments:   0%|          | 0/5 [00:00<?, ?comment/s]"
      ]
     },
     "metadata": {},
     "output_type": "display_data"
    },
    {
     "data": {
      "application/vnd.jupyter.widget-view+json": {
       "model_id": "cdfb7632420147aebd7c394535c647ef",
       "version_major": 2,
       "version_minor": 0
      },
      "text/plain": [
       "Analyzing comments:   0%|          | 0/36 [00:00<?, ?comment/s]"
      ]
     },
     "metadata": {},
     "output_type": "display_data"
    },
    {
     "data": {
      "application/vnd.jupyter.widget-view+json": {
       "model_id": "0f61e4213b1b4a11957c72ed097f9187",
       "version_major": 2,
       "version_minor": 0
      },
      "text/plain": [
       "Analyzing comments:   0%|          | 0/35 [00:00<?, ?comment/s]"
      ]
     },
     "metadata": {},
     "output_type": "display_data"
    },
    {
     "data": {
      "application/vnd.jupyter.widget-view+json": {
       "model_id": "6552bf67a46445efa8ad465bbbf3b0a0",
       "version_major": 2,
       "version_minor": 0
      },
      "text/plain": [
       "Analyzing comments:   0%|          | 0/39 [00:00<?, ?comment/s]"
      ]
     },
     "metadata": {},
     "output_type": "display_data"
    },
    {
     "data": {
      "application/vnd.jupyter.widget-view+json": {
       "model_id": "f10b03467b19458092d9d6898495e1db",
       "version_major": 2,
       "version_minor": 0
      },
      "text/plain": [
       "Analyzing comments:   0%|          | 0/39 [00:00<?, ?comment/s]"
      ]
     },
     "metadata": {},
     "output_type": "display_data"
    },
    {
     "data": {
      "application/vnd.jupyter.widget-view+json": {
       "model_id": "2ced549e17db4542b66f1be59981ccd4",
       "version_major": 2,
       "version_minor": 0
      },
      "text/plain": [
       "Analyzing comments:   0%|          | 0/1 [00:00<?, ?comment/s]"
      ]
     },
     "metadata": {},
     "output_type": "display_data"
    },
    {
     "data": {
      "application/vnd.jupyter.widget-view+json": {
       "model_id": "67fda8e606604d92a3946dbe061f9c1e",
       "version_major": 2,
       "version_minor": 0
      },
      "text/plain": [
       "Analyzing comments:   0%|          | 0/36 [00:00<?, ?comment/s]"
      ]
     },
     "metadata": {},
     "output_type": "display_data"
    },
    {
     "data": {
      "application/vnd.jupyter.widget-view+json": {
       "model_id": "68595355fe7f480bbeffd7196161886d",
       "version_major": 2,
       "version_minor": 0
      },
      "text/plain": [
       "Analyzing comments:   0%|          | 0/31 [00:00<?, ?comment/s]"
      ]
     },
     "metadata": {},
     "output_type": "display_data"
    },
    {
     "data": {
      "application/vnd.jupyter.widget-view+json": {
       "model_id": "414dc7a447db48e59b65fff705a82322",
       "version_major": 2,
       "version_minor": 0
      },
      "text/plain": [
       "Analyzing comments:   0%|          | 0/38 [00:00<?, ?comment/s]"
      ]
     },
     "metadata": {},
     "output_type": "display_data"
    },
    {
     "data": {
      "application/vnd.jupyter.widget-view+json": {
       "model_id": "be812d6836bd49b394893b6cee74fced",
       "version_major": 2,
       "version_minor": 0
      },
      "text/plain": [
       "Analyzing comments:   0%|          | 0/29 [00:00<?, ?comment/s]"
      ]
     },
     "metadata": {},
     "output_type": "display_data"
    },
    {
     "data": {
      "application/vnd.jupyter.widget-view+json": {
       "model_id": "528898a9d52f4b32b06939fc95fee278",
       "version_major": 2,
       "version_minor": 0
      },
      "text/plain": [
       "Analyzing comments:   0%|          | 0/1 [00:00<?, ?comment/s]"
      ]
     },
     "metadata": {},
     "output_type": "display_data"
    },
    {
     "data": {
      "application/vnd.jupyter.widget-view+json": {
       "model_id": "6af2db702f294696960113327c7dbb3a",
       "version_major": 2,
       "version_minor": 0
      },
      "text/plain": [
       "Analyzing comments:   0%|          | 0/37 [00:00<?, ?comment/s]"
      ]
     },
     "metadata": {},
     "output_type": "display_data"
    },
    {
     "data": {
      "application/vnd.jupyter.widget-view+json": {
       "model_id": "6b18583bd46f4b8f8dee10aebfe1df79",
       "version_major": 2,
       "version_minor": 0
      },
      "text/plain": [
       "Analyzing comments:   0%|          | 0/2 [00:00<?, ?comment/s]"
      ]
     },
     "metadata": {},
     "output_type": "display_data"
    },
    {
     "data": {
      "application/vnd.jupyter.widget-view+json": {
       "model_id": "1468d84cf9254d56a2912b81529fe11e",
       "version_major": 2,
       "version_minor": 0
      },
      "text/plain": [
       "Analyzing comments:   0%|          | 0/30 [00:00<?, ?comment/s]"
      ]
     },
     "metadata": {},
     "output_type": "display_data"
    },
    {
     "data": {
      "application/vnd.jupyter.widget-view+json": {
       "model_id": "bc00aaf6595742e6b4a7f5bc3852260d",
       "version_major": 2,
       "version_minor": 0
      },
      "text/plain": [
       "Analyzing comments:   0%|          | 0/1 [00:00<?, ?comment/s]"
      ]
     },
     "metadata": {},
     "output_type": "display_data"
    },
    {
     "data": {
      "application/vnd.jupyter.widget-view+json": {
       "model_id": "780f422c47ba487895f3f588ab845b9d",
       "version_major": 2,
       "version_minor": 0
      },
      "text/plain": [
       "Analyzing comments:   0%|          | 0/2 [00:00<?, ?comment/s]"
      ]
     },
     "metadata": {},
     "output_type": "display_data"
    },
    {
     "data": {
      "application/vnd.jupyter.widget-view+json": {
       "model_id": "c1930805bbed425aab478a1ec09c36e4",
       "version_major": 2,
       "version_minor": 0
      },
      "text/plain": [
       "Analyzing comments:   0%|          | 0/33 [00:00<?, ?comment/s]"
      ]
     },
     "metadata": {},
     "output_type": "display_data"
    },
    {
     "data": {
      "application/vnd.jupyter.widget-view+json": {
       "model_id": "34e2077276124e99bc9b955b4fd2d8ad",
       "version_major": 2,
       "version_minor": 0
      },
      "text/plain": [
       "Analyzing comments:   0%|          | 0/2 [00:00<?, ?comment/s]"
      ]
     },
     "metadata": {},
     "output_type": "display_data"
    },
    {
     "data": {
      "application/vnd.jupyter.widget-view+json": {
       "model_id": "8786a09923a34bb1ad27b8d9faf2e3af",
       "version_major": 2,
       "version_minor": 0
      },
      "text/plain": [
       "Analyzing comments:   0%|          | 0/7 [00:00<?, ?comment/s]"
      ]
     },
     "metadata": {},
     "output_type": "display_data"
    },
    {
     "data": {
      "application/vnd.jupyter.widget-view+json": {
       "model_id": "22b64aafdecf4c82adc5105c956e8997",
       "version_major": 2,
       "version_minor": 0
      },
      "text/plain": [
       "Analyzing comments:   0%|          | 0/39 [00:00<?, ?comment/s]"
      ]
     },
     "metadata": {},
     "output_type": "display_data"
    },
    {
     "data": {
      "application/vnd.jupyter.widget-view+json": {
       "model_id": "83a19809ba984f2daf5f2930556c9305",
       "version_major": 2,
       "version_minor": 0
      },
      "text/plain": [
       "Analyzing comments:   0%|          | 0/1 [00:00<?, ?comment/s]"
      ]
     },
     "metadata": {},
     "output_type": "display_data"
    },
    {
     "data": {
      "application/vnd.jupyter.widget-view+json": {
       "model_id": "4d9d33050c17440e897ca3812509fc30",
       "version_major": 2,
       "version_minor": 0
      },
      "text/plain": [
       "Analyzing comments:   0%|          | 0/35 [00:00<?, ?comment/s]"
      ]
     },
     "metadata": {},
     "output_type": "display_data"
    },
    {
     "data": {
      "application/vnd.jupyter.widget-view+json": {
       "model_id": "beaf351b22a04ea7bfb9f9832c68758e",
       "version_major": 2,
       "version_minor": 0
      },
      "text/plain": [
       "Analyzing comments:   0%|          | 0/34 [00:00<?, ?comment/s]"
      ]
     },
     "metadata": {},
     "output_type": "display_data"
    },
    {
     "data": {
      "application/vnd.jupyter.widget-view+json": {
       "model_id": "ebfa6228c33d4a8289d85e248fc05832",
       "version_major": 2,
       "version_minor": 0
      },
      "text/plain": [
       "Analyzing comments:   0%|          | 0/5 [00:00<?, ?comment/s]"
      ]
     },
     "metadata": {},
     "output_type": "display_data"
    },
    {
     "data": {
      "application/vnd.jupyter.widget-view+json": {
       "model_id": "25e0e0ecbd5147d191e1b4aa3500de00",
       "version_major": 2,
       "version_minor": 0
      },
      "text/plain": [
       "Analyzing comments:   0%|          | 0/22 [00:00<?, ?comment/s]"
      ]
     },
     "metadata": {},
     "output_type": "display_data"
    },
    {
     "data": {
      "application/vnd.jupyter.widget-view+json": {
       "model_id": "f86930d680934ba5b6ae2459a8d15bd2",
       "version_major": 2,
       "version_minor": 0
      },
      "text/plain": [
       "Analyzing comments:   0%|          | 0/22 [00:00<?, ?comment/s]"
      ]
     },
     "metadata": {},
     "output_type": "display_data"
    },
    {
     "data": {
      "application/vnd.jupyter.widget-view+json": {
       "model_id": "c50da3fedf97486f8cc0ceae7743e17b",
       "version_major": 2,
       "version_minor": 0
      },
      "text/plain": [
       "Analyzing comments:   0%|          | 0/3 [00:00<?, ?comment/s]"
      ]
     },
     "metadata": {},
     "output_type": "display_data"
    },
    {
     "data": {
      "application/vnd.jupyter.widget-view+json": {
       "model_id": "e58b14e6f35645f08c9c5073f79d830f",
       "version_major": 2,
       "version_minor": 0
      },
      "text/plain": [
       "Analyzing comments:   0%|          | 0/11 [00:00<?, ?comment/s]"
      ]
     },
     "metadata": {},
     "output_type": "display_data"
    },
    {
     "data": {
      "application/vnd.jupyter.widget-view+json": {
       "model_id": "548f952c22ff4a11982b7fa9d503cf33",
       "version_major": 2,
       "version_minor": 0
      },
      "text/plain": [
       "Analyzing comments:   0%|          | 0/39 [00:00<?, ?comment/s]"
      ]
     },
     "metadata": {},
     "output_type": "display_data"
    },
    {
     "data": {
      "application/vnd.jupyter.widget-view+json": {
       "model_id": "62868125c9cb4cbfb47e6754a61d6da7",
       "version_major": 2,
       "version_minor": 0
      },
      "text/plain": [
       "Analyzing comments:   0%|          | 0/14 [00:00<?, ?comment/s]"
      ]
     },
     "metadata": {},
     "output_type": "display_data"
    },
    {
     "data": {
      "application/vnd.jupyter.widget-view+json": {
       "model_id": "8f0f75fa260d4bbb89acdcefd34e4440",
       "version_major": 2,
       "version_minor": 0
      },
      "text/plain": [
       "Analyzing comments:   0%|          | 0/43 [00:00<?, ?comment/s]"
      ]
     },
     "metadata": {},
     "output_type": "display_data"
    },
    {
     "data": {
      "application/vnd.jupyter.widget-view+json": {
       "model_id": "fa650ed2a29b43ecb117e4974be10ac5",
       "version_major": 2,
       "version_minor": 0
      },
      "text/plain": [
       "Analyzing comments:   0%|          | 0/52 [00:00<?, ?comment/s]"
      ]
     },
     "metadata": {},
     "output_type": "display_data"
    },
    {
     "data": {
      "application/vnd.jupyter.widget-view+json": {
       "model_id": "0c473a2f69f5436e88140a71085794ba",
       "version_major": 2,
       "version_minor": 0
      },
      "text/plain": [
       "Analyzing comments:   0%|          | 0/36 [00:00<?, ?comment/s]"
      ]
     },
     "metadata": {},
     "output_type": "display_data"
    },
    {
     "data": {
      "application/vnd.jupyter.widget-view+json": {
       "model_id": "3f684253a1414951a0e69b311a168a9e",
       "version_major": 2,
       "version_minor": 0
      },
      "text/plain": [
       "Analyzing comments:   0%|          | 0/1 [00:00<?, ?comment/s]"
      ]
     },
     "metadata": {},
     "output_type": "display_data"
    },
    {
     "data": {
      "application/vnd.jupyter.widget-view+json": {
       "model_id": "17bebf1f617741a396a0bacda9afcf25",
       "version_major": 2,
       "version_minor": 0
      },
      "text/plain": [
       "Analyzing comments:   0%|          | 0/36 [00:00<?, ?comment/s]"
      ]
     },
     "metadata": {},
     "output_type": "display_data"
    },
    {
     "data": {
      "application/vnd.jupyter.widget-view+json": {
       "model_id": "2108ac16d1764f02b93da487d2f14396",
       "version_major": 2,
       "version_minor": 0
      },
      "text/plain": [
       "Analyzing comments:   0%|          | 0/15 [00:00<?, ?comment/s]"
      ]
     },
     "metadata": {},
     "output_type": "display_data"
    },
    {
     "data": {
      "application/vnd.jupyter.widget-view+json": {
       "model_id": "126cb1e2b32e49178fa95dcdabf11629",
       "version_major": 2,
       "version_minor": 0
      },
      "text/plain": [
       "Analyzing comments:   0%|          | 0/40 [00:00<?, ?comment/s]"
      ]
     },
     "metadata": {},
     "output_type": "display_data"
    },
    {
     "data": {
      "application/vnd.jupyter.widget-view+json": {
       "model_id": "a7148cd2dfb84edbbc273c3d71ef8b33",
       "version_major": 2,
       "version_minor": 0
      },
      "text/plain": [
       "Analyzing comments:   0%|          | 0/19 [00:00<?, ?comment/s]"
      ]
     },
     "metadata": {},
     "output_type": "display_data"
    },
    {
     "data": {
      "application/vnd.jupyter.widget-view+json": {
       "model_id": "01149219c92849eab6384fb290e840c5",
       "version_major": 2,
       "version_minor": 0
      },
      "text/plain": [
       "Analyzing comments:   0%|          | 0/40 [00:00<?, ?comment/s]"
      ]
     },
     "metadata": {},
     "output_type": "display_data"
    },
    {
     "data": {
      "application/vnd.jupyter.widget-view+json": {
       "model_id": "5a8530a09076474883413c252504884e",
       "version_major": 2,
       "version_minor": 0
      },
      "text/plain": [
       "Analyzing comments:   0%|          | 0/3 [00:00<?, ?comment/s]"
      ]
     },
     "metadata": {},
     "output_type": "display_data"
    },
    {
     "data": {
      "application/vnd.jupyter.widget-view+json": {
       "model_id": "8c6160062eef46428eb4065980362a4f",
       "version_major": 2,
       "version_minor": 0
      },
      "text/plain": [
       "Analyzing comments:   0%|          | 0/19 [00:00<?, ?comment/s]"
      ]
     },
     "metadata": {},
     "output_type": "display_data"
    },
    {
     "data": {
      "application/vnd.jupyter.widget-view+json": {
       "model_id": "fd782210c6e94361aa6a07abc6eb59a8",
       "version_major": 2,
       "version_minor": 0
      },
      "text/plain": [
       "Analyzing comments:   0%|          | 0/25 [00:00<?, ?comment/s]"
      ]
     },
     "metadata": {},
     "output_type": "display_data"
    },
    {
     "data": {
      "application/vnd.jupyter.widget-view+json": {
       "model_id": "311728d93f0843d4b5c8bbc764bcb4a1",
       "version_major": 2,
       "version_minor": 0
      },
      "text/plain": [
       "Analyzing comments:   0%|          | 0/11 [00:00<?, ?comment/s]"
      ]
     },
     "metadata": {},
     "output_type": "display_data"
    },
    {
     "data": {
      "application/vnd.jupyter.widget-view+json": {
       "model_id": "7cb3ac1e1a13493284aea16d6a60f1bc",
       "version_major": 2,
       "version_minor": 0
      },
      "text/plain": [
       "Analyzing comments:   0%|          | 0/4 [00:00<?, ?comment/s]"
      ]
     },
     "metadata": {},
     "output_type": "display_data"
    },
    {
     "data": {
      "application/vnd.jupyter.widget-view+json": {
       "model_id": "4a2b06a989914f4c88c1e1e4ca8f00fa",
       "version_major": 2,
       "version_minor": 0
      },
      "text/plain": [
       "Analyzing comments:   0%|          | 0/39 [00:00<?, ?comment/s]"
      ]
     },
     "metadata": {},
     "output_type": "display_data"
    },
    {
     "data": {
      "application/vnd.jupyter.widget-view+json": {
       "model_id": "63c73b79b6f345adade9cabc35cc7105",
       "version_major": 2,
       "version_minor": 0
      },
      "text/plain": [
       "Analyzing comments:   0%|          | 0/25 [00:00<?, ?comment/s]"
      ]
     },
     "metadata": {},
     "output_type": "display_data"
    },
    {
     "data": {
      "application/vnd.jupyter.widget-view+json": {
       "model_id": "8e10b41ef3bc4591b488a253a78e343e",
       "version_major": 2,
       "version_minor": 0
      },
      "text/plain": [
       "Analyzing comments:   0%|          | 0/40 [00:00<?, ?comment/s]"
      ]
     },
     "metadata": {},
     "output_type": "display_data"
    },
    {
     "data": {
      "application/vnd.jupyter.widget-view+json": {
       "model_id": "294cd0bbc5424c3a9b31605a08885256",
       "version_major": 2,
       "version_minor": 0
      },
      "text/plain": [
       "Analyzing comments:   0%|          | 0/32 [00:00<?, ?comment/s]"
      ]
     },
     "metadata": {},
     "output_type": "display_data"
    },
    {
     "data": {
      "application/vnd.jupyter.widget-view+json": {
       "model_id": "73f2aad7d4cb4d008e7bb28a48f311c5",
       "version_major": 2,
       "version_minor": 0
      },
      "text/plain": [
       "Analyzing comments:   0%|          | 0/42 [00:00<?, ?comment/s]"
      ]
     },
     "metadata": {},
     "output_type": "display_data"
    },
    {
     "data": {
      "application/vnd.jupyter.widget-view+json": {
       "model_id": "5cb36d960aff4bc19b69dd79316be020",
       "version_major": 2,
       "version_minor": 0
      },
      "text/plain": [
       "Analyzing comments: 0comment [00:00, ?comment/s]"
      ]
     },
     "metadata": {},
     "output_type": "display_data"
    },
    {
     "data": {
      "application/vnd.jupyter.widget-view+json": {
       "model_id": "a8c5f0cd958a409392b8fb91252a0afd",
       "version_major": 2,
       "version_minor": 0
      },
      "text/plain": [
       "Analyzing comments:   0%|          | 0/29 [00:00<?, ?comment/s]"
      ]
     },
     "metadata": {},
     "output_type": "display_data"
    },
    {
     "data": {
      "application/vnd.jupyter.widget-view+json": {
       "model_id": "513ce55b43e2449d9c4a2fb5abc84a5b",
       "version_major": 2,
       "version_minor": 0
      },
      "text/plain": [
       "Analyzing comments:   0%|          | 0/3 [00:00<?, ?comment/s]"
      ]
     },
     "metadata": {},
     "output_type": "display_data"
    },
    {
     "data": {
      "application/vnd.jupyter.widget-view+json": {
       "model_id": "4b9fc934f6984228a0df2ea77f093194",
       "version_major": 2,
       "version_minor": 0
      },
      "text/plain": [
       "Analyzing comments:   0%|          | 0/20 [00:00<?, ?comment/s]"
      ]
     },
     "metadata": {},
     "output_type": "display_data"
    },
    {
     "data": {
      "application/vnd.jupyter.widget-view+json": {
       "model_id": "c38c76133b404a5895f072141f1463f9",
       "version_major": 2,
       "version_minor": 0
      },
      "text/plain": [
       "Analyzing comments:   0%|          | 0/32 [00:00<?, ?comment/s]"
      ]
     },
     "metadata": {},
     "output_type": "display_data"
    },
    {
     "data": {
      "application/vnd.jupyter.widget-view+json": {
       "model_id": "18dda3c0431b4bdb860eea4e718ddb8e",
       "version_major": 2,
       "version_minor": 0
      },
      "text/plain": [
       "Analyzing comments:   0%|          | 0/30 [00:00<?, ?comment/s]"
      ]
     },
     "metadata": {},
     "output_type": "display_data"
    },
    {
     "data": {
      "application/vnd.jupyter.widget-view+json": {
       "model_id": "d20b8baef71f4468b97548aa55e52442",
       "version_major": 2,
       "version_minor": 0
      },
      "text/plain": [
       "Analyzing comments:   0%|          | 0/35 [00:00<?, ?comment/s]"
      ]
     },
     "metadata": {},
     "output_type": "display_data"
    },
    {
     "data": {
      "application/vnd.jupyter.widget-view+json": {
       "model_id": "09486ea94598453b94efccdf129d1c1f",
       "version_major": 2,
       "version_minor": 0
      },
      "text/plain": [
       "Analyzing comments:   0%|          | 0/40 [00:00<?, ?comment/s]"
      ]
     },
     "metadata": {},
     "output_type": "display_data"
    },
    {
     "data": {
      "application/vnd.jupyter.widget-view+json": {
       "model_id": "56ca771468de4cce9c3f7f09c96f006d",
       "version_major": 2,
       "version_minor": 0
      },
      "text/plain": [
       "Analyzing comments:   0%|          | 0/46 [00:00<?, ?comment/s]"
      ]
     },
     "metadata": {},
     "output_type": "display_data"
    },
    {
     "data": {
      "application/vnd.jupyter.widget-view+json": {
       "model_id": "8421081dd44b4e9d9c89de162b95db6f",
       "version_major": 2,
       "version_minor": 0
      },
      "text/plain": [
       "Analyzing comments:   0%|          | 0/41 [00:00<?, ?comment/s]"
      ]
     },
     "metadata": {},
     "output_type": "display_data"
    },
    {
     "data": {
      "application/vnd.jupyter.widget-view+json": {
       "model_id": "f0dad1be1d4e49f59ce310eb650a70a8",
       "version_major": 2,
       "version_minor": 0
      },
      "text/plain": [
       "Analyzing comments:   0%|          | 0/38 [00:00<?, ?comment/s]"
      ]
     },
     "metadata": {},
     "output_type": "display_data"
    },
    {
     "data": {
      "application/vnd.jupyter.widget-view+json": {
       "model_id": "3cf58546a39c4be9b2b328ca81078f3e",
       "version_major": 2,
       "version_minor": 0
      },
      "text/plain": [
       "Analyzing comments:   0%|          | 0/10 [00:00<?, ?comment/s]"
      ]
     },
     "metadata": {},
     "output_type": "display_data"
    },
    {
     "data": {
      "application/vnd.jupyter.widget-view+json": {
       "model_id": "dd57de88b19a491bae0c58c71391f3bb",
       "version_major": 2,
       "version_minor": 0
      },
      "text/plain": [
       "Analyzing comments:   0%|          | 0/34 [00:00<?, ?comment/s]"
      ]
     },
     "metadata": {},
     "output_type": "display_data"
    },
    {
     "data": {
      "application/vnd.jupyter.widget-view+json": {
       "model_id": "9c23aed9ebc54587a431a05ff7d9430d",
       "version_major": 2,
       "version_minor": 0
      },
      "text/plain": [
       "Analyzing comments:   0%|          | 0/9 [00:00<?, ?comment/s]"
      ]
     },
     "metadata": {},
     "output_type": "display_data"
    },
    {
     "data": {
      "application/vnd.jupyter.widget-view+json": {
       "model_id": "d2fb53c652204c34887a2d7e80812516",
       "version_major": 2,
       "version_minor": 0
      },
      "text/plain": [
       "Analyzing comments:   0%|          | 0/39 [00:00<?, ?comment/s]"
      ]
     },
     "metadata": {},
     "output_type": "display_data"
    },
    {
     "data": {
      "application/vnd.jupyter.widget-view+json": {
       "model_id": "85e61d81b4554e31b3a06efadfcdb727",
       "version_major": 2,
       "version_minor": 0
      },
      "text/plain": [
       "Analyzing comments:   0%|          | 0/36 [00:00<?, ?comment/s]"
      ]
     },
     "metadata": {},
     "output_type": "display_data"
    },
    {
     "data": {
      "application/vnd.jupyter.widget-view+json": {
       "model_id": "9204416c17ff42128e0261b4004b9f17",
       "version_major": 2,
       "version_minor": 0
      },
      "text/plain": [
       "Analyzing comments:   0%|          | 0/17 [00:00<?, ?comment/s]"
      ]
     },
     "metadata": {},
     "output_type": "display_data"
    },
    {
     "data": {
      "application/vnd.jupyter.widget-view+json": {
       "model_id": "c566dc078cfd4944ba7e7ee7767fbb9f",
       "version_major": 2,
       "version_minor": 0
      },
      "text/plain": [
       "Analyzing comments:   0%|          | 0/22 [00:00<?, ?comment/s]"
      ]
     },
     "metadata": {},
     "output_type": "display_data"
    },
    {
     "data": {
      "application/vnd.jupyter.widget-view+json": {
       "model_id": "1b483ec53d8c4e67afad39cc87bf7e07",
       "version_major": 2,
       "version_minor": 0
      },
      "text/plain": [
       "Analyzing comments:   0%|          | 0/21 [00:00<?, ?comment/s]"
      ]
     },
     "metadata": {},
     "output_type": "display_data"
    },
    {
     "data": {
      "application/vnd.jupyter.widget-view+json": {
       "model_id": "8a167fa70940406d8a484e5fbb92c782",
       "version_major": 2,
       "version_minor": 0
      },
      "text/plain": [
       "Analyzing comments:   0%|          | 0/36 [00:00<?, ?comment/s]"
      ]
     },
     "metadata": {},
     "output_type": "display_data"
    },
    {
     "data": {
      "application/vnd.jupyter.widget-view+json": {
       "model_id": "5a9b47d469ac4f0c9df5550c4582bb9f",
       "version_major": 2,
       "version_minor": 0
      },
      "text/plain": [
       "Analyzing comments:   0%|          | 0/34 [00:00<?, ?comment/s]"
      ]
     },
     "metadata": {},
     "output_type": "display_data"
    },
    {
     "data": {
      "application/vnd.jupyter.widget-view+json": {
       "model_id": "b69f72b126c04a748314733862c8ba33",
       "version_major": 2,
       "version_minor": 0
      },
      "text/plain": [
       "Analyzing comments:   0%|          | 0/3 [00:00<?, ?comment/s]"
      ]
     },
     "metadata": {},
     "output_type": "display_data"
    },
    {
     "data": {
      "application/vnd.jupyter.widget-view+json": {
       "model_id": "461e3bc2c3f84be2bae784d28887e16b",
       "version_major": 2,
       "version_minor": 0
      },
      "text/plain": [
       "Analyzing comments:   0%|          | 0/5 [00:00<?, ?comment/s]"
      ]
     },
     "metadata": {},
     "output_type": "display_data"
    },
    {
     "data": {
      "application/vnd.jupyter.widget-view+json": {
       "model_id": "64bbdaf0e1aa433e87244378c9cb13bf",
       "version_major": 2,
       "version_minor": 0
      },
      "text/plain": [
       "Analyzing comments: 0comment [00:00, ?comment/s]"
      ]
     },
     "metadata": {},
     "output_type": "display_data"
    },
    {
     "data": {
      "application/vnd.jupyter.widget-view+json": {
       "model_id": "a8a270f6ec3e4c578c642105b789179e",
       "version_major": 2,
       "version_minor": 0
      },
      "text/plain": [
       "Analyzing comments:   0%|          | 0/5 [00:00<?, ?comment/s]"
      ]
     },
     "metadata": {},
     "output_type": "display_data"
    },
    {
     "data": {
      "application/vnd.jupyter.widget-view+json": {
       "model_id": "b6e0698ec8e24f49b576b94f2a907ca5",
       "version_major": 2,
       "version_minor": 0
      },
      "text/plain": [
       "Analyzing comments:   0%|          | 0/2 [00:00<?, ?comment/s]"
      ]
     },
     "metadata": {},
     "output_type": "display_data"
    },
    {
     "data": {
      "application/vnd.jupyter.widget-view+json": {
       "model_id": "dce70eb9691a4c2b82d8f4cc8e7e88b5",
       "version_major": 2,
       "version_minor": 0
      },
      "text/plain": [
       "Analyzing comments:   0%|          | 0/1 [00:00<?, ?comment/s]"
      ]
     },
     "metadata": {},
     "output_type": "display_data"
    },
    {
     "data": {
      "application/vnd.jupyter.widget-view+json": {
       "model_id": "2ba79d5456b24053815beee756be42c9",
       "version_major": 2,
       "version_minor": 0
      },
      "text/plain": [
       "Analyzing comments:   0%|          | 0/46 [00:00<?, ?comment/s]"
      ]
     },
     "metadata": {},
     "output_type": "display_data"
    },
    {
     "data": {
      "application/vnd.jupyter.widget-view+json": {
       "model_id": "5716b6954167407e86a21744d0ede5c2",
       "version_major": 2,
       "version_minor": 0
      },
      "text/plain": [
       "Analyzing comments:   0%|          | 0/1 [00:00<?, ?comment/s]"
      ]
     },
     "metadata": {},
     "output_type": "display_data"
    },
    {
     "data": {
      "application/vnd.jupyter.widget-view+json": {
       "model_id": "ca3ab868052b4bf28513ef38cbb9ae9b",
       "version_major": 2,
       "version_minor": 0
      },
      "text/plain": [
       "Analyzing comments: 0comment [00:00, ?comment/s]"
      ]
     },
     "metadata": {},
     "output_type": "display_data"
    },
    {
     "data": {
      "application/vnd.jupyter.widget-view+json": {
       "model_id": "8f16af6dc7954a7b991a3072feb583dd",
       "version_major": 2,
       "version_minor": 0
      },
      "text/plain": [
       "Analyzing comments:   0%|          | 0/17 [00:00<?, ?comment/s]"
      ]
     },
     "metadata": {},
     "output_type": "display_data"
    },
    {
     "data": {
      "application/vnd.jupyter.widget-view+json": {
       "model_id": "d7b4245d61c74aa194d9e7a914a8dfb8",
       "version_major": 2,
       "version_minor": 0
      },
      "text/plain": [
       "Analyzing comments:   0%|          | 0/24 [00:00<?, ?comment/s]"
      ]
     },
     "metadata": {},
     "output_type": "display_data"
    },
    {
     "data": {
      "application/vnd.jupyter.widget-view+json": {
       "model_id": "e261d37046ed484c9b60ae8b90bde433",
       "version_major": 2,
       "version_minor": 0
      },
      "text/plain": [
       "Analyzing comments:   0%|          | 0/12 [00:00<?, ?comment/s]"
      ]
     },
     "metadata": {},
     "output_type": "display_data"
    },
    {
     "data": {
      "application/vnd.jupyter.widget-view+json": {
       "model_id": "6560d6f182e74c12aa38bc48bc5f54ed",
       "version_major": 2,
       "version_minor": 0
      },
      "text/plain": [
       "Analyzing comments:   0%|          | 0/37 [00:00<?, ?comment/s]"
      ]
     },
     "metadata": {},
     "output_type": "display_data"
    },
    {
     "data": {
      "application/vnd.jupyter.widget-view+json": {
       "model_id": "67948da05e66444c995f084856b6c042",
       "version_major": 2,
       "version_minor": 0
      },
      "text/plain": [
       "Analyzing comments:   0%|          | 0/3 [00:00<?, ?comment/s]"
      ]
     },
     "metadata": {},
     "output_type": "display_data"
    },
    {
     "data": {
      "application/vnd.jupyter.widget-view+json": {
       "model_id": "fb50459ea76a4e85894c4ba64c55fe92",
       "version_major": 2,
       "version_minor": 0
      },
      "text/plain": [
       "Analyzing comments:   0%|          | 0/16 [00:00<?, ?comment/s]"
      ]
     },
     "metadata": {},
     "output_type": "display_data"
    },
    {
     "data": {
      "application/vnd.jupyter.widget-view+json": {
       "model_id": "9d18a840f7f0415e9e10b44108d71faa",
       "version_major": 2,
       "version_minor": 0
      },
      "text/plain": [
       "Analyzing comments:   0%|          | 0/18 [00:00<?, ?comment/s]"
      ]
     },
     "metadata": {},
     "output_type": "display_data"
    },
    {
     "data": {
      "application/vnd.jupyter.widget-view+json": {
       "model_id": "bf9401f68bc6479391c6fe98ee52cf0b",
       "version_major": 2,
       "version_minor": 0
      },
      "text/plain": [
       "Analyzing comments:   0%|          | 0/1 [00:00<?, ?comment/s]"
      ]
     },
     "metadata": {},
     "output_type": "display_data"
    },
    {
     "data": {
      "application/vnd.jupyter.widget-view+json": {
       "model_id": "c1d739e71223409ba65f0530b84b8afe",
       "version_major": 2,
       "version_minor": 0
      },
      "text/plain": [
       "Analyzing comments:   0%|          | 0/26 [00:00<?, ?comment/s]"
      ]
     },
     "metadata": {},
     "output_type": "display_data"
    },
    {
     "data": {
      "application/vnd.jupyter.widget-view+json": {
       "model_id": "2d6a056263664474a271daa2711c6ddd",
       "version_major": 2,
       "version_minor": 0
      },
      "text/plain": [
       "Analyzing comments:   0%|          | 0/9 [00:00<?, ?comment/s]"
      ]
     },
     "metadata": {},
     "output_type": "display_data"
    },
    {
     "data": {
      "application/vnd.jupyter.widget-view+json": {
       "model_id": "91c392d39f4449f5afffcda26ba58fbb",
       "version_major": 2,
       "version_minor": 0
      },
      "text/plain": [
       "Analyzing comments:   0%|          | 0/2 [00:00<?, ?comment/s]"
      ]
     },
     "metadata": {},
     "output_type": "display_data"
    },
    {
     "data": {
      "application/vnd.jupyter.widget-view+json": {
       "model_id": "4b00d74d4f334264881b48e40bae8d2c",
       "version_major": 2,
       "version_minor": 0
      },
      "text/plain": [
       "Analyzing comments:   0%|          | 0/18 [00:00<?, ?comment/s]"
      ]
     },
     "metadata": {},
     "output_type": "display_data"
    },
    {
     "data": {
      "application/vnd.jupyter.widget-view+json": {
       "model_id": "eb9990a3e9a64e9da81491e8f61c403d",
       "version_major": 2,
       "version_minor": 0
      },
      "text/plain": [
       "Analyzing comments:   0%|          | 0/36 [00:00<?, ?comment/s]"
      ]
     },
     "metadata": {},
     "output_type": "display_data"
    },
    {
     "data": {
      "application/vnd.jupyter.widget-view+json": {
       "model_id": "1e3457fb365340a2b46367960971a547",
       "version_major": 2,
       "version_minor": 0
      },
      "text/plain": [
       "Analyzing comments:   0%|          | 0/27 [00:00<?, ?comment/s]"
      ]
     },
     "metadata": {},
     "output_type": "display_data"
    },
    {
     "data": {
      "application/vnd.jupyter.widget-view+json": {
       "model_id": "aba0769cc3a64bb08abec925ea40cbd5",
       "version_major": 2,
       "version_minor": 0
      },
      "text/plain": [
       "Analyzing comments:   0%|          | 0/38 [00:00<?, ?comment/s]"
      ]
     },
     "metadata": {},
     "output_type": "display_data"
    },
    {
     "data": {
      "application/vnd.jupyter.widget-view+json": {
       "model_id": "ab3f4ab0566b4ed2b2d5ef649e7a6790",
       "version_major": 2,
       "version_minor": 0
      },
      "text/plain": [
       "Analyzing comments:   0%|          | 0/30 [00:00<?, ?comment/s]"
      ]
     },
     "metadata": {},
     "output_type": "display_data"
    },
    {
     "data": {
      "application/vnd.jupyter.widget-view+json": {
       "model_id": "137c138a28b145f484f83e8200ba762d",
       "version_major": 2,
       "version_minor": 0
      },
      "text/plain": [
       "Analyzing comments:   0%|          | 0/18 [00:00<?, ?comment/s]"
      ]
     },
     "metadata": {},
     "output_type": "display_data"
    },
    {
     "data": {
      "application/vnd.jupyter.widget-view+json": {
       "model_id": "36dc92d634c34405bf62b976cc90a522",
       "version_major": 2,
       "version_minor": 0
      },
      "text/plain": [
       "Analyzing comments:   0%|          | 0/9 [00:00<?, ?comment/s]"
      ]
     },
     "metadata": {},
     "output_type": "display_data"
    },
    {
     "data": {
      "application/vnd.jupyter.widget-view+json": {
       "model_id": "00824b3d91cf41da81d6a0b79c0df32a",
       "version_major": 2,
       "version_minor": 0
      },
      "text/plain": [
       "Analyzing comments:   0%|          | 0/36 [00:00<?, ?comment/s]"
      ]
     },
     "metadata": {},
     "output_type": "display_data"
    },
    {
     "data": {
      "application/vnd.jupyter.widget-view+json": {
       "model_id": "92410d2a6d0744238a9111faf88ddc9e",
       "version_major": 2,
       "version_minor": 0
      },
      "text/plain": [
       "Analyzing comments:   0%|          | 0/2 [00:00<?, ?comment/s]"
      ]
     },
     "metadata": {},
     "output_type": "display_data"
    },
    {
     "data": {
      "application/vnd.jupyter.widget-view+json": {
       "model_id": "7ee331c829d94d4aa4147066c193cff0",
       "version_major": 2,
       "version_minor": 0
      },
      "text/plain": [
       "Analyzing comments:   0%|          | 0/30 [00:00<?, ?comment/s]"
      ]
     },
     "metadata": {},
     "output_type": "display_data"
    },
    {
     "data": {
      "application/vnd.jupyter.widget-view+json": {
       "model_id": "ac72cdae928e4267bb9dab8dc3fe31b1",
       "version_major": 2,
       "version_minor": 0
      },
      "text/plain": [
       "Analyzing comments:   0%|          | 0/41 [00:00<?, ?comment/s]"
      ]
     },
     "metadata": {},
     "output_type": "display_data"
    },
    {
     "data": {
      "application/vnd.jupyter.widget-view+json": {
       "model_id": "84fe0498e1f54c80b80d9eb6e7f32ac4",
       "version_major": 2,
       "version_minor": 0
      },
      "text/plain": [
       "Analyzing comments:   0%|          | 0/38 [00:00<?, ?comment/s]"
      ]
     },
     "metadata": {},
     "output_type": "display_data"
    },
    {
     "data": {
      "application/vnd.jupyter.widget-view+json": {
       "model_id": "b41c0a3fde9e46dfa2635c537d70615f",
       "version_major": 2,
       "version_minor": 0
      },
      "text/plain": [
       "Analyzing comments: 0comment [00:00, ?comment/s]"
      ]
     },
     "metadata": {},
     "output_type": "display_data"
    },
    {
     "data": {
      "application/vnd.jupyter.widget-view+json": {
       "model_id": "45504dfa282e49e185225bd07576f819",
       "version_major": 2,
       "version_minor": 0
      },
      "text/plain": [
       "Analyzing comments:   0%|          | 0/39 [00:00<?, ?comment/s]"
      ]
     },
     "metadata": {},
     "output_type": "display_data"
    },
    {
     "data": {
      "application/vnd.jupyter.widget-view+json": {
       "model_id": "88ca7d7da5bb4520a3c8f5f6f626c7ae",
       "version_major": 2,
       "version_minor": 0
      },
      "text/plain": [
       "Analyzing comments:   0%|          | 0/3 [00:00<?, ?comment/s]"
      ]
     },
     "metadata": {},
     "output_type": "display_data"
    },
    {
     "data": {
      "application/vnd.jupyter.widget-view+json": {
       "model_id": "459ff1f696b84aef898c46a44bda69b6",
       "version_major": 2,
       "version_minor": 0
      },
      "text/plain": [
       "Analyzing comments:   0%|          | 0/1 [00:00<?, ?comment/s]"
      ]
     },
     "metadata": {},
     "output_type": "display_data"
    },
    {
     "data": {
      "application/vnd.jupyter.widget-view+json": {
       "model_id": "a40b683ff5bb4f8d81e5051c998beb96",
       "version_major": 2,
       "version_minor": 0
      },
      "text/plain": [
       "Analyzing comments:   0%|          | 0/21 [00:00<?, ?comment/s]"
      ]
     },
     "metadata": {},
     "output_type": "display_data"
    },
    {
     "data": {
      "application/vnd.jupyter.widget-view+json": {
       "model_id": "79eab9fdd9b0483b937820f4302cbee6",
       "version_major": 2,
       "version_minor": 0
      },
      "text/plain": [
       "Analyzing comments:   0%|          | 0/2 [00:00<?, ?comment/s]"
      ]
     },
     "metadata": {},
     "output_type": "display_data"
    },
    {
     "data": {
      "application/vnd.jupyter.widget-view+json": {
       "model_id": "1b9a1bbc5fe143e69de66de6827e38ae",
       "version_major": 2,
       "version_minor": 0
      },
      "text/plain": [
       "Analyzing comments:   0%|          | 0/15 [00:00<?, ?comment/s]"
      ]
     },
     "metadata": {},
     "output_type": "display_data"
    },
    {
     "data": {
      "application/vnd.jupyter.widget-view+json": {
       "model_id": "38557e1e82e442808a94efef3556bf01",
       "version_major": 2,
       "version_minor": 0
      },
      "text/plain": [
       "Analyzing comments:   0%|          | 0/29 [00:00<?, ?comment/s]"
      ]
     },
     "metadata": {},
     "output_type": "display_data"
    },
    {
     "data": {
      "application/vnd.jupyter.widget-view+json": {
       "model_id": "3b3604db62064ff796e4cbd26c3f84b6",
       "version_major": 2,
       "version_minor": 0
      },
      "text/plain": [
       "Analyzing comments:   0%|          | 0/40 [00:00<?, ?comment/s]"
      ]
     },
     "metadata": {},
     "output_type": "display_data"
    },
    {
     "data": {
      "application/vnd.jupyter.widget-view+json": {
       "model_id": "1922cda7eb804243a5be573375771bdc",
       "version_major": 2,
       "version_minor": 0
      },
      "text/plain": [
       "Analyzing comments:   0%|          | 0/38 [00:00<?, ?comment/s]"
      ]
     },
     "metadata": {},
     "output_type": "display_data"
    },
    {
     "data": {
      "application/vnd.jupyter.widget-view+json": {
       "model_id": "5a3280802d384180b213795be3a79f49",
       "version_major": 2,
       "version_minor": 0
      },
      "text/plain": [
       "Analyzing comments:   0%|          | 0/16 [00:00<?, ?comment/s]"
      ]
     },
     "metadata": {},
     "output_type": "display_data"
    },
    {
     "data": {
      "application/vnd.jupyter.widget-view+json": {
       "model_id": "ef4a9695efbf458c9d6e7a74937e253d",
       "version_major": 2,
       "version_minor": 0
      },
      "text/plain": [
       "Analyzing comments:   0%|          | 0/35 [00:00<?, ?comment/s]"
      ]
     },
     "metadata": {},
     "output_type": "display_data"
    },
    {
     "data": {
      "application/vnd.jupyter.widget-view+json": {
       "model_id": "6bc0aa367f7649289d9df6b700a70778",
       "version_major": 2,
       "version_minor": 0
      },
      "text/plain": [
       "Analyzing comments:   0%|          | 0/18 [00:00<?, ?comment/s]"
      ]
     },
     "metadata": {},
     "output_type": "display_data"
    },
    {
     "data": {
      "application/vnd.jupyter.widget-view+json": {
       "model_id": "2ca452c9328e4db4a4e4c2db0c9b3c41",
       "version_major": 2,
       "version_minor": 0
      },
      "text/plain": [
       "Analyzing comments:   0%|          | 0/6 [00:00<?, ?comment/s]"
      ]
     },
     "metadata": {},
     "output_type": "display_data"
    },
    {
     "data": {
      "application/vnd.jupyter.widget-view+json": {
       "model_id": "e4672768aa474db0aa4ec7c597a940f0",
       "version_major": 2,
       "version_minor": 0
      },
      "text/plain": [
       "Analyzing comments:   0%|          | 0/40 [00:00<?, ?comment/s]"
      ]
     },
     "metadata": {},
     "output_type": "display_data"
    },
    {
     "data": {
      "application/vnd.jupyter.widget-view+json": {
       "model_id": "7e1de1c0f13d4f7f9973d74edbfd05ce",
       "version_major": 2,
       "version_minor": 0
      },
      "text/plain": [
       "Analyzing comments:   0%|          | 0/21 [00:00<?, ?comment/s]"
      ]
     },
     "metadata": {},
     "output_type": "display_data"
    },
    {
     "data": {
      "application/vnd.jupyter.widget-view+json": {
       "model_id": "bd44c306185344dda42c4ee0f6f9da4c",
       "version_major": 2,
       "version_minor": 0
      },
      "text/plain": [
       "Analyzing comments: 0comment [00:00, ?comment/s]"
      ]
     },
     "metadata": {},
     "output_type": "display_data"
    },
    {
     "data": {
      "application/vnd.jupyter.widget-view+json": {
       "model_id": "a0837cdebbaf4a8094c6dc7e5bc270b0",
       "version_major": 2,
       "version_minor": 0
      },
      "text/plain": [
       "Analyzing comments:   0%|          | 0/37 [00:00<?, ?comment/s]"
      ]
     },
     "metadata": {},
     "output_type": "display_data"
    },
    {
     "data": {
      "application/vnd.jupyter.widget-view+json": {
       "model_id": "0077d9ebf8be4b6eb04cc8d54d06617f",
       "version_major": 2,
       "version_minor": 0
      },
      "text/plain": [
       "Analyzing comments:   0%|          | 0/37 [00:00<?, ?comment/s]"
      ]
     },
     "metadata": {},
     "output_type": "display_data"
    },
    {
     "data": {
      "application/vnd.jupyter.widget-view+json": {
       "model_id": "889ddb663e6f4f82b25cfe5e275cc1cc",
       "version_major": 2,
       "version_minor": 0
      },
      "text/plain": [
       "Analyzing comments:   0%|          | 0/37 [00:00<?, ?comment/s]"
      ]
     },
     "metadata": {},
     "output_type": "display_data"
    },
    {
     "data": {
      "application/vnd.jupyter.widget-view+json": {
       "model_id": "7ad67ba35f32424694170cc3b477b9de",
       "version_major": 2,
       "version_minor": 0
      },
      "text/plain": [
       "Analyzing comments:   0%|          | 0/12 [00:00<?, ?comment/s]"
      ]
     },
     "metadata": {},
     "output_type": "display_data"
    },
    {
     "data": {
      "application/vnd.jupyter.widget-view+json": {
       "model_id": "765812de12564e40a75be165a50b2050",
       "version_major": 2,
       "version_minor": 0
      },
      "text/plain": [
       "Analyzing comments:   0%|          | 0/24 [00:00<?, ?comment/s]"
      ]
     },
     "metadata": {},
     "output_type": "display_data"
    },
    {
     "data": {
      "application/vnd.jupyter.widget-view+json": {
       "model_id": "ee3954ad942a4c7680a8c760a18197ab",
       "version_major": 2,
       "version_minor": 0
      },
      "text/plain": [
       "Analyzing comments:   0%|          | 0/4 [00:00<?, ?comment/s]"
      ]
     },
     "metadata": {},
     "output_type": "display_data"
    },
    {
     "data": {
      "application/vnd.jupyter.widget-view+json": {
       "model_id": "8dc03a6b35674f32b446d5ae3e7b3d22",
       "version_major": 2,
       "version_minor": 0
      },
      "text/plain": [
       "Analyzing comments:   0%|          | 0/9 [00:00<?, ?comment/s]"
      ]
     },
     "metadata": {},
     "output_type": "display_data"
    },
    {
     "data": {
      "application/vnd.jupyter.widget-view+json": {
       "model_id": "fe08725f416944dd8fc70c2256598f3e",
       "version_major": 2,
       "version_minor": 0
      },
      "text/plain": [
       "Analyzing comments:   0%|          | 0/27 [00:00<?, ?comment/s]"
      ]
     },
     "metadata": {},
     "output_type": "display_data"
    },
    {
     "data": {
      "application/vnd.jupyter.widget-view+json": {
       "model_id": "c3512c503db943aa87a86ddc23a6e3b1",
       "version_major": 2,
       "version_minor": 0
      },
      "text/plain": [
       "Analyzing comments:   0%|          | 0/38 [00:00<?, ?comment/s]"
      ]
     },
     "metadata": {},
     "output_type": "display_data"
    },
    {
     "data": {
      "application/vnd.jupyter.widget-view+json": {
       "model_id": "71310a17fbd24cb18627eb7cf88727ab",
       "version_major": 2,
       "version_minor": 0
      },
      "text/plain": [
       "Analyzing comments:   0%|          | 0/10 [00:00<?, ?comment/s]"
      ]
     },
     "metadata": {},
     "output_type": "display_data"
    },
    {
     "data": {
      "application/vnd.jupyter.widget-view+json": {
       "model_id": "2b209e4c96e642f2ada9fabbb038dbed",
       "version_major": 2,
       "version_minor": 0
      },
      "text/plain": [
       "Analyzing comments:   0%|          | 0/3 [00:00<?, ?comment/s]"
      ]
     },
     "metadata": {},
     "output_type": "display_data"
    },
    {
     "data": {
      "application/vnd.jupyter.widget-view+json": {
       "model_id": "ae915b51e4e1435ea55f9eaeefafdb23",
       "version_major": 2,
       "version_minor": 0
      },
      "text/plain": [
       "Analyzing comments:   0%|          | 0/36 [00:00<?, ?comment/s]"
      ]
     },
     "metadata": {},
     "output_type": "display_data"
    },
    {
     "data": {
      "application/vnd.jupyter.widget-view+json": {
       "model_id": "bea9093b0f61444da585fe4af2357492",
       "version_major": 2,
       "version_minor": 0
      },
      "text/plain": [
       "Analyzing comments:   0%|          | 0/19 [00:00<?, ?comment/s]"
      ]
     },
     "metadata": {},
     "output_type": "display_data"
    },
    {
     "data": {
      "application/vnd.jupyter.widget-view+json": {
       "model_id": "3c9d03a0de22444c90f4e849c0da6448",
       "version_major": 2,
       "version_minor": 0
      },
      "text/plain": [
       "Analyzing comments:   0%|          | 0/40 [00:00<?, ?comment/s]"
      ]
     },
     "metadata": {},
     "output_type": "display_data"
    },
    {
     "data": {
      "application/vnd.jupyter.widget-view+json": {
       "model_id": "7b0dda47c6c64ac49d1456f4ae529bea",
       "version_major": 2,
       "version_minor": 0
      },
      "text/plain": [
       "Analyzing comments:   0%|          | 0/44 [00:00<?, ?comment/s]"
      ]
     },
     "metadata": {},
     "output_type": "display_data"
    },
    {
     "data": {
      "application/vnd.jupyter.widget-view+json": {
       "model_id": "88109d6f1cff4c159bd08dfb6c347afb",
       "version_major": 2,
       "version_minor": 0
      },
      "text/plain": [
       "Analyzing comments:   0%|          | 0/42 [00:00<?, ?comment/s]"
      ]
     },
     "metadata": {},
     "output_type": "display_data"
    },
    {
     "data": {
      "application/vnd.jupyter.widget-view+json": {
       "model_id": "ffe74e37aa6b41d591dc2f8c631cacbe",
       "version_major": 2,
       "version_minor": 0
      },
      "text/plain": [
       "Analyzing comments:   0%|          | 0/41 [00:00<?, ?comment/s]"
      ]
     },
     "metadata": {},
     "output_type": "display_data"
    },
    {
     "data": {
      "application/vnd.jupyter.widget-view+json": {
       "model_id": "d32f858b0ac64586aeaa65a64e61acaf",
       "version_major": 2,
       "version_minor": 0
      },
      "text/plain": [
       "Analyzing comments:   0%|          | 0/40 [00:00<?, ?comment/s]"
      ]
     },
     "metadata": {},
     "output_type": "display_data"
    },
    {
     "data": {
      "application/vnd.jupyter.widget-view+json": {
       "model_id": "4166eb3aca9a42918e6f04d5b1590dcd",
       "version_major": 2,
       "version_minor": 0
      },
      "text/plain": [
       "Analyzing comments:   0%|          | 0/37 [00:00<?, ?comment/s]"
      ]
     },
     "metadata": {},
     "output_type": "display_data"
    },
    {
     "data": {
      "application/vnd.jupyter.widget-view+json": {
       "model_id": "b8664d3ed88c4356a250374d6c5aa76e",
       "version_major": 2,
       "version_minor": 0
      },
      "text/plain": [
       "Analyzing comments:   0%|          | 0/2 [00:00<?, ?comment/s]"
      ]
     },
     "metadata": {},
     "output_type": "display_data"
    },
    {
     "data": {
      "application/vnd.jupyter.widget-view+json": {
       "model_id": "fe176a2124f74793bdb083dcef2aa2b3",
       "version_major": 2,
       "version_minor": 0
      },
      "text/plain": [
       "Analyzing comments:   0%|          | 0/80 [00:00<?, ?comment/s]"
      ]
     },
     "metadata": {},
     "output_type": "display_data"
    },
    {
     "data": {
      "application/vnd.jupyter.widget-view+json": {
       "model_id": "69138f5f266142b5915830f5fa7039cc",
       "version_major": 2,
       "version_minor": 0
      },
      "text/plain": [
       "Analyzing comments:   0%|          | 0/60 [00:00<?, ?comment/s]"
      ]
     },
     "metadata": {},
     "output_type": "display_data"
    },
    {
     "data": {
      "application/vnd.jupyter.widget-view+json": {
       "model_id": "7565f41a02f344e9ab66c6de8ec42535",
       "version_major": 2,
       "version_minor": 0
      },
      "text/plain": [
       "Analyzing comments:   0%|          | 0/6 [00:00<?, ?comment/s]"
      ]
     },
     "metadata": {},
     "output_type": "display_data"
    },
    {
     "data": {
      "application/vnd.jupyter.widget-view+json": {
       "model_id": "b87a2e6a5dc548cabceffdacf8324b7f",
       "version_major": 2,
       "version_minor": 0
      },
      "text/plain": [
       "Analyzing comments:   0%|          | 0/1 [00:00<?, ?comment/s]"
      ]
     },
     "metadata": {},
     "output_type": "display_data"
    },
    {
     "data": {
      "application/vnd.jupyter.widget-view+json": {
       "model_id": "1c9de128299e464db720c137a4dceff5",
       "version_major": 2,
       "version_minor": 0
      },
      "text/plain": [
       "Analyzing comments:   0%|          | 0/40 [00:00<?, ?comment/s]"
      ]
     },
     "metadata": {},
     "output_type": "display_data"
    },
    {
     "data": {
      "application/vnd.jupyter.widget-view+json": {
       "model_id": "71ec0630ee8c4656af4dc902da2aefe9",
       "version_major": 2,
       "version_minor": 0
      },
      "text/plain": [
       "Analyzing comments:   0%|          | 0/106 [00:00<?, ?comment/s]"
      ]
     },
     "metadata": {},
     "output_type": "display_data"
    },
    {
     "data": {
      "application/vnd.jupyter.widget-view+json": {
       "model_id": "3a7c0b1717fc44cca737c2cea9f38a04",
       "version_major": 2,
       "version_minor": 0
      },
      "text/plain": [
       "Analyzing comments:   0%|          | 0/15 [00:00<?, ?comment/s]"
      ]
     },
     "metadata": {},
     "output_type": "display_data"
    },
    {
     "data": {
      "application/vnd.jupyter.widget-view+json": {
       "model_id": "ee7365263d9c4fdc89d4e1ff8f87d1b8",
       "version_major": 2,
       "version_minor": 0
      },
      "text/plain": [
       "Analyzing comments:   0%|          | 0/48 [00:00<?, ?comment/s]"
      ]
     },
     "metadata": {},
     "output_type": "display_data"
    },
    {
     "data": {
      "application/vnd.jupyter.widget-view+json": {
       "model_id": "535dc819e6d9415a9b03f80c337341a7",
       "version_major": 2,
       "version_minor": 0
      },
      "text/plain": [
       "Analyzing comments:   0%|          | 0/3 [00:00<?, ?comment/s]"
      ]
     },
     "metadata": {},
     "output_type": "display_data"
    },
    {
     "data": {
      "application/vnd.jupyter.widget-view+json": {
       "model_id": "ac6fd517dac349fca3cb8a3e1df6ceeb",
       "version_major": 2,
       "version_minor": 0
      },
      "text/plain": [
       "Analyzing comments:   0%|          | 0/31 [00:00<?, ?comment/s]"
      ]
     },
     "metadata": {},
     "output_type": "display_data"
    },
    {
     "data": {
      "application/vnd.jupyter.widget-view+json": {
       "model_id": "ce206fa11ba4488abfc56255425e0ac7",
       "version_major": 2,
       "version_minor": 0
      },
      "text/plain": [
       "Analyzing comments:   0%|          | 0/54 [00:00<?, ?comment/s]"
      ]
     },
     "metadata": {},
     "output_type": "display_data"
    },
    {
     "data": {
      "application/vnd.jupyter.widget-view+json": {
       "model_id": "11e99a5b76164f02a789fc82ead0484a",
       "version_major": 2,
       "version_minor": 0
      },
      "text/plain": [
       "Analyzing comments:   0%|          | 0/22 [00:00<?, ?comment/s]"
      ]
     },
     "metadata": {},
     "output_type": "display_data"
    },
    {
     "data": {
      "application/vnd.jupyter.widget-view+json": {
       "model_id": "4f5ee87d510d4a02bb800d49186c7b71",
       "version_major": 2,
       "version_minor": 0
      },
      "text/plain": [
       "Analyzing comments:   0%|          | 0/36 [00:00<?, ?comment/s]"
      ]
     },
     "metadata": {},
     "output_type": "display_data"
    },
    {
     "data": {
      "application/vnd.jupyter.widget-view+json": {
       "model_id": "4be04edd21bb4f5290e1dae72596c27a",
       "version_major": 2,
       "version_minor": 0
      },
      "text/plain": [
       "Analyzing comments:   0%|          | 0/33 [00:00<?, ?comment/s]"
      ]
     },
     "metadata": {},
     "output_type": "display_data"
    },
    {
     "data": {
      "application/vnd.jupyter.widget-view+json": {
       "model_id": "a3fc40688e894deaa2453c6749e7411c",
       "version_major": 2,
       "version_minor": 0
      },
      "text/plain": [
       "Analyzing comments:   0%|          | 0/33 [00:00<?, ?comment/s]"
      ]
     },
     "metadata": {},
     "output_type": "display_data"
    },
    {
     "data": {
      "application/vnd.jupyter.widget-view+json": {
       "model_id": "118fe26d899d48c5ac84c1a81a541b1b",
       "version_major": 2,
       "version_minor": 0
      },
      "text/plain": [
       "Analyzing comments:   0%|          | 0/33 [00:00<?, ?comment/s]"
      ]
     },
     "metadata": {},
     "output_type": "display_data"
    },
    {
     "data": {
      "application/vnd.jupyter.widget-view+json": {
       "model_id": "142dc11890a947aeb34470bc0e1e1e70",
       "version_major": 2,
       "version_minor": 0
      },
      "text/plain": [
       "Analyzing comments:   0%|          | 0/2 [00:00<?, ?comment/s]"
      ]
     },
     "metadata": {},
     "output_type": "display_data"
    },
    {
     "data": {
      "application/vnd.jupyter.widget-view+json": {
       "model_id": "6767ae1fce1a484a93c8170d6949e510",
       "version_major": 2,
       "version_minor": 0
      },
      "text/plain": [
       "Analyzing comments:   0%|          | 0/36 [00:00<?, ?comment/s]"
      ]
     },
     "metadata": {},
     "output_type": "display_data"
    },
    {
     "data": {
      "application/vnd.jupyter.widget-view+json": {
       "model_id": "11ad74667ea442f3b4e9e4db07a7e8d0",
       "version_major": 2,
       "version_minor": 0
      },
      "text/plain": [
       "Analyzing comments:   0%|          | 0/34 [00:00<?, ?comment/s]"
      ]
     },
     "metadata": {},
     "output_type": "display_data"
    },
    {
     "data": {
      "application/vnd.jupyter.widget-view+json": {
       "model_id": "9e89c1f4421c479fa3ef6a78e40f0149",
       "version_major": 2,
       "version_minor": 0
      },
      "text/plain": [
       "Analyzing comments:   0%|          | 0/30 [00:00<?, ?comment/s]"
      ]
     },
     "metadata": {},
     "output_type": "display_data"
    },
    {
     "data": {
      "application/vnd.jupyter.widget-view+json": {
       "model_id": "6ae6fcb8db4a4ddcb4dfe38044f3af10",
       "version_major": 2,
       "version_minor": 0
      },
      "text/plain": [
       "Analyzing comments:   0%|          | 0/35 [00:00<?, ?comment/s]"
      ]
     },
     "metadata": {},
     "output_type": "display_data"
    },
    {
     "data": {
      "application/vnd.jupyter.widget-view+json": {
       "model_id": "da23619da1224ba0b4c301a13f6d3a06",
       "version_major": 2,
       "version_minor": 0
      },
      "text/plain": [
       "Analyzing comments: 0comment [00:00, ?comment/s]"
      ]
     },
     "metadata": {},
     "output_type": "display_data"
    },
    {
     "data": {
      "application/vnd.jupyter.widget-view+json": {
       "model_id": "b323cf28da044419846fa594b738a5ca",
       "version_major": 2,
       "version_minor": 0
      },
      "text/plain": [
       "Analyzing comments:   0%|          | 0/34 [00:00<?, ?comment/s]"
      ]
     },
     "metadata": {},
     "output_type": "display_data"
    },
    {
     "data": {
      "application/vnd.jupyter.widget-view+json": {
       "model_id": "ec63b67e20c049f786ff85cc79a0ee63",
       "version_major": 2,
       "version_minor": 0
      },
      "text/plain": [
       "Analyzing comments: 0comment [00:00, ?comment/s]"
      ]
     },
     "metadata": {},
     "output_type": "display_data"
    },
    {
     "data": {
      "application/vnd.jupyter.widget-view+json": {
       "model_id": "35bb7aa2b8c94dc2a8d4f14b0bfd4732",
       "version_major": 2,
       "version_minor": 0
      },
      "text/plain": [
       "Analyzing comments:   0%|          | 0/33 [00:00<?, ?comment/s]"
      ]
     },
     "metadata": {},
     "output_type": "display_data"
    },
    {
     "data": {
      "application/vnd.jupyter.widget-view+json": {
       "model_id": "d1b2576a41274bb8b1f96408743bf052",
       "version_major": 2,
       "version_minor": 0
      },
      "text/plain": [
       "Analyzing comments:   0%|          | 0/33 [00:00<?, ?comment/s]"
      ]
     },
     "metadata": {},
     "output_type": "display_data"
    },
    {
     "data": {
      "application/vnd.jupyter.widget-view+json": {
       "model_id": "c1a5e4d405784f369d62bc023ea2a6f4",
       "version_major": 2,
       "version_minor": 0
      },
      "text/plain": [
       "Analyzing comments:   0%|          | 0/35 [00:00<?, ?comment/s]"
      ]
     },
     "metadata": {},
     "output_type": "display_data"
    },
    {
     "data": {
      "application/vnd.jupyter.widget-view+json": {
       "model_id": "55b7c2a1412d460a9665a2fcede97162",
       "version_major": 2,
       "version_minor": 0
      },
      "text/plain": [
       "Analyzing comments:   0%|          | 0/39 [00:00<?, ?comment/s]"
      ]
     },
     "metadata": {},
     "output_type": "display_data"
    },
    {
     "data": {
      "application/vnd.jupyter.widget-view+json": {
       "model_id": "cee0c23b6d0a40e9afd080d1fa583ec8",
       "version_major": 2,
       "version_minor": 0
      },
      "text/plain": [
       "Analyzing comments:   0%|          | 0/35 [00:00<?, ?comment/s]"
      ]
     },
     "metadata": {},
     "output_type": "display_data"
    },
    {
     "data": {
      "application/vnd.jupyter.widget-view+json": {
       "model_id": "960f6d55c626480e8baae932b2177ec0",
       "version_major": 2,
       "version_minor": 0
      },
      "text/plain": [
       "Analyzing comments:   0%|          | 0/58 [00:00<?, ?comment/s]"
      ]
     },
     "metadata": {},
     "output_type": "display_data"
    },
    {
     "data": {
      "application/vnd.jupyter.widget-view+json": {
       "model_id": "e40a935c29134bf6b9b17d0290bfa4ba",
       "version_major": 2,
       "version_minor": 0
      },
      "text/plain": [
       "Analyzing comments:   0%|          | 0/35 [00:00<?, ?comment/s]"
      ]
     },
     "metadata": {},
     "output_type": "display_data"
    },
    {
     "data": {
      "application/vnd.jupyter.widget-view+json": {
       "model_id": "b56adb0ead0f421d9921215be97ee153",
       "version_major": 2,
       "version_minor": 0
      },
      "text/plain": [
       "Analyzing comments:   0%|          | 0/31 [00:00<?, ?comment/s]"
      ]
     },
     "metadata": {},
     "output_type": "display_data"
    },
    {
     "data": {
      "application/vnd.jupyter.widget-view+json": {
       "model_id": "4ae4c50d2ce74fbabf87ef7d390aefe5",
       "version_major": 2,
       "version_minor": 0
      },
      "text/plain": [
       "Analyzing comments:   0%|          | 0/1 [00:00<?, ?comment/s]"
      ]
     },
     "metadata": {},
     "output_type": "display_data"
    },
    {
     "data": {
      "application/vnd.jupyter.widget-view+json": {
       "model_id": "72ba2739866a49b3b46db23909061754",
       "version_major": 2,
       "version_minor": 0
      },
      "text/plain": [
       "Analyzing comments:   0%|          | 0/34 [00:00<?, ?comment/s]"
      ]
     },
     "metadata": {},
     "output_type": "display_data"
    },
    {
     "data": {
      "application/vnd.jupyter.widget-view+json": {
       "model_id": "053a0186ee9044b2bf6152db68bf14be",
       "version_major": 2,
       "version_minor": 0
      },
      "text/plain": [
       "Analyzing comments:   0%|          | 0/39 [00:00<?, ?comment/s]"
      ]
     },
     "metadata": {},
     "output_type": "display_data"
    },
    {
     "data": {
      "application/vnd.jupyter.widget-view+json": {
       "model_id": "6c2b2650fb6748e2ada5f7af1fba763d",
       "version_major": 2,
       "version_minor": 0
      },
      "text/plain": [
       "Analyzing comments:   0%|          | 0/14 [00:00<?, ?comment/s]"
      ]
     },
     "metadata": {},
     "output_type": "display_data"
    },
    {
     "data": {
      "application/vnd.jupyter.widget-view+json": {
       "model_id": "c43220e7a4504618864721f470a31f78",
       "version_major": 2,
       "version_minor": 0
      },
      "text/plain": [
       "Analyzing comments:   0%|          | 0/32 [00:00<?, ?comment/s]"
      ]
     },
     "metadata": {},
     "output_type": "display_data"
    },
    {
     "data": {
      "application/vnd.jupyter.widget-view+json": {
       "model_id": "b497023070c34b75bc954aa57ffc7403",
       "version_major": 2,
       "version_minor": 0
      },
      "text/plain": [
       "Analyzing comments:   0%|          | 0/18 [00:00<?, ?comment/s]"
      ]
     },
     "metadata": {},
     "output_type": "display_data"
    },
    {
     "data": {
      "application/vnd.jupyter.widget-view+json": {
       "model_id": "3e619412ac0d4ed59f7680641a788988",
       "version_major": 2,
       "version_minor": 0
      },
      "text/plain": [
       "Analyzing comments:   0%|          | 0/2 [00:00<?, ?comment/s]"
      ]
     },
     "metadata": {},
     "output_type": "display_data"
    },
    {
     "data": {
      "application/vnd.jupyter.widget-view+json": {
       "model_id": "801e9a6e8f684429904e01fa841d5bd8",
       "version_major": 2,
       "version_minor": 0
      },
      "text/plain": [
       "Analyzing comments:   0%|          | 0/34 [00:00<?, ?comment/s]"
      ]
     },
     "metadata": {},
     "output_type": "display_data"
    },
    {
     "data": {
      "application/vnd.jupyter.widget-view+json": {
       "model_id": "a4c8ddf5fbe84a0b9eba1607301658fb",
       "version_major": 2,
       "version_minor": 0
      },
      "text/plain": [
       "Analyzing comments:   0%|          | 0/50 [00:00<?, ?comment/s]"
      ]
     },
     "metadata": {},
     "output_type": "display_data"
    },
    {
     "data": {
      "application/vnd.jupyter.widget-view+json": {
       "model_id": "b50b3443210241a9a922989fc860355e",
       "version_major": 2,
       "version_minor": 0
      },
      "text/plain": [
       "Analyzing comments:   0%|          | 0/34 [00:00<?, ?comment/s]"
      ]
     },
     "metadata": {},
     "output_type": "display_data"
    },
    {
     "data": {
      "application/vnd.jupyter.widget-view+json": {
       "model_id": "45a5e14c69c64eb690b1a0314ebaa3ce",
       "version_major": 2,
       "version_minor": 0
      },
      "text/plain": [
       "Analyzing comments:   0%|          | 0/37 [00:00<?, ?comment/s]"
      ]
     },
     "metadata": {},
     "output_type": "display_data"
    },
    {
     "data": {
      "application/vnd.jupyter.widget-view+json": {
       "model_id": "b217ae2629b543ccbd62dab52aa71d78",
       "version_major": 2,
       "version_minor": 0
      },
      "text/plain": [
       "Analyzing comments:   0%|          | 0/35 [00:00<?, ?comment/s]"
      ]
     },
     "metadata": {},
     "output_type": "display_data"
    },
    {
     "data": {
      "application/vnd.jupyter.widget-view+json": {
       "model_id": "10d754bb94ce4720af9663c9405457ab",
       "version_major": 2,
       "version_minor": 0
      },
      "text/plain": [
       "Analyzing comments:   0%|          | 0/1 [00:00<?, ?comment/s]"
      ]
     },
     "metadata": {},
     "output_type": "display_data"
    },
    {
     "data": {
      "application/vnd.jupyter.widget-view+json": {
       "model_id": "55e118dc98384a009f4a979ca750e64f",
       "version_major": 2,
       "version_minor": 0
      },
      "text/plain": [
       "Analyzing comments:   0%|          | 0/5 [00:00<?, ?comment/s]"
      ]
     },
     "metadata": {},
     "output_type": "display_data"
    },
    {
     "data": {
      "application/vnd.jupyter.widget-view+json": {
       "model_id": "ca5580fcc22d46ddb16745f7b952769b",
       "version_major": 2,
       "version_minor": 0
      },
      "text/plain": [
       "Analyzing comments:   0%|          | 0/7 [00:00<?, ?comment/s]"
      ]
     },
     "metadata": {},
     "output_type": "display_data"
    },
    {
     "data": {
      "application/vnd.jupyter.widget-view+json": {
       "model_id": "e67e056ef01b475fa1ad3e754c1741d7",
       "version_major": 2,
       "version_minor": 0
      },
      "text/plain": [
       "Analyzing comments:   0%|          | 0/37 [00:00<?, ?comment/s]"
      ]
     },
     "metadata": {},
     "output_type": "display_data"
    },
    {
     "data": {
      "application/vnd.jupyter.widget-view+json": {
       "model_id": "c2ff08d1f81a448bb65832325eeb100e",
       "version_major": 2,
       "version_minor": 0
      },
      "text/plain": [
       "Analyzing comments:   0%|          | 0/38 [00:00<?, ?comment/s]"
      ]
     },
     "metadata": {},
     "output_type": "display_data"
    },
    {
     "data": {
      "application/vnd.jupyter.widget-view+json": {
       "model_id": "d58a5dc7ac7c4066991ff3c3db27407f",
       "version_major": 2,
       "version_minor": 0
      },
      "text/plain": [
       "Analyzing comments:   0%|          | 0/44 [00:00<?, ?comment/s]"
      ]
     },
     "metadata": {},
     "output_type": "display_data"
    },
    {
     "data": {
      "application/vnd.jupyter.widget-view+json": {
       "model_id": "b12fabc072f841a5982849cd65e100dd",
       "version_major": 2,
       "version_minor": 0
      },
      "text/plain": [
       "Analyzing comments:   0%|          | 0/38 [00:00<?, ?comment/s]"
      ]
     },
     "metadata": {},
     "output_type": "display_data"
    },
    {
     "data": {
      "application/vnd.jupyter.widget-view+json": {
       "model_id": "4efd54a4ee1c4dc0b623e0a86d57f52b",
       "version_major": 2,
       "version_minor": 0
      },
      "text/plain": [
       "Analyzing comments:   0%|          | 0/4 [00:00<?, ?comment/s]"
      ]
     },
     "metadata": {},
     "output_type": "display_data"
    },
    {
     "data": {
      "application/vnd.jupyter.widget-view+json": {
       "model_id": "989bb08c20734bff92b3a3116d6beaff",
       "version_major": 2,
       "version_minor": 0
      },
      "text/plain": [
       "Analyzing comments:   0%|          | 0/4 [00:00<?, ?comment/s]"
      ]
     },
     "metadata": {},
     "output_type": "display_data"
    },
    {
     "data": {
      "application/vnd.jupyter.widget-view+json": {
       "model_id": "8f3d155508ac4ecaaa454da756dff3dc",
       "version_major": 2,
       "version_minor": 0
      },
      "text/plain": [
       "Analyzing comments:   0%|          | 0/2 [00:00<?, ?comment/s]"
      ]
     },
     "metadata": {},
     "output_type": "display_data"
    },
    {
     "data": {
      "application/vnd.jupyter.widget-view+json": {
       "model_id": "8381f0418a98480f9fa5d97e7096c623",
       "version_major": 2,
       "version_minor": 0
      },
      "text/plain": [
       "Analyzing comments:   0%|          | 0/96 [00:00<?, ?comment/s]"
      ]
     },
     "metadata": {},
     "output_type": "display_data"
    },
    {
     "data": {
      "application/vnd.jupyter.widget-view+json": {
       "model_id": "d39a84cf094b4d39b4b9524db0bfcd8f",
       "version_major": 2,
       "version_minor": 0
      },
      "text/plain": [
       "Analyzing comments:   0%|          | 0/73 [00:00<?, ?comment/s]"
      ]
     },
     "metadata": {},
     "output_type": "display_data"
    },
    {
     "data": {
      "application/vnd.jupyter.widget-view+json": {
       "model_id": "dd7691f8eb044a9e82dbc2dbd3dd49ac",
       "version_major": 2,
       "version_minor": 0
      },
      "text/plain": [
       "Analyzing comments:   0%|          | 0/31 [00:00<?, ?comment/s]"
      ]
     },
     "metadata": {},
     "output_type": "display_data"
    },
    {
     "data": {
      "application/vnd.jupyter.widget-view+json": {
       "model_id": "7a39b6102ed84f98a4c336b7f81a978f",
       "version_major": 2,
       "version_minor": 0
      },
      "text/plain": [
       "Analyzing comments:   0%|          | 0/120 [00:00<?, ?comment/s]"
      ]
     },
     "metadata": {},
     "output_type": "display_data"
    },
    {
     "data": {
      "application/vnd.jupyter.widget-view+json": {
       "model_id": "ab3471b78451418fbf7e40c3a620158b",
       "version_major": 2,
       "version_minor": 0
      },
      "text/plain": [
       "Analyzing comments:   0%|          | 0/5 [00:00<?, ?comment/s]"
      ]
     },
     "metadata": {},
     "output_type": "display_data"
    },
    {
     "data": {
      "application/vnd.jupyter.widget-view+json": {
       "model_id": "09f6a3f21837413d86318d5cce833353",
       "version_major": 2,
       "version_minor": 0
      },
      "text/plain": [
       "Analyzing comments: 0comment [00:00, ?comment/s]"
      ]
     },
     "metadata": {},
     "output_type": "display_data"
    },
    {
     "data": {
      "application/vnd.jupyter.widget-view+json": {
       "model_id": "bf0b39c9c6bc4ff0badd6b00a0776280",
       "version_major": 2,
       "version_minor": 0
      },
      "text/plain": [
       "Analyzing comments:   0%|          | 0/40 [00:00<?, ?comment/s]"
      ]
     },
     "metadata": {},
     "output_type": "display_data"
    },
    {
     "data": {
      "application/vnd.jupyter.widget-view+json": {
       "model_id": "079affb3577d4c2f8df0858334eb8f8e",
       "version_major": 2,
       "version_minor": 0
      },
      "text/plain": [
       "Analyzing comments:   0%|          | 0/40 [00:00<?, ?comment/s]"
      ]
     },
     "metadata": {},
     "output_type": "display_data"
    },
    {
     "data": {
      "application/vnd.jupyter.widget-view+json": {
       "model_id": "c064b13028144bfa90580fefd59eba37",
       "version_major": 2,
       "version_minor": 0
      },
      "text/plain": [
       "Analyzing comments:   0%|          | 0/19 [00:00<?, ?comment/s]"
      ]
     },
     "metadata": {},
     "output_type": "display_data"
    },
    {
     "data": {
      "application/vnd.jupyter.widget-view+json": {
       "model_id": "2ac7af503d254b30b3a5528df5910f16",
       "version_major": 2,
       "version_minor": 0
      },
      "text/plain": [
       "Analyzing comments:   0%|          | 0/41 [00:00<?, ?comment/s]"
      ]
     },
     "metadata": {},
     "output_type": "display_data"
    },
    {
     "data": {
      "application/vnd.jupyter.widget-view+json": {
       "model_id": "49ce11487a694562babcd0edb3e77062",
       "version_major": 2,
       "version_minor": 0
      },
      "text/plain": [
       "Analyzing comments:   0%|          | 0/38 [00:00<?, ?comment/s]"
      ]
     },
     "metadata": {},
     "output_type": "display_data"
    },
    {
     "data": {
      "application/vnd.jupyter.widget-view+json": {
       "model_id": "ff177b412f0443c3b4eb2fccaf57c390",
       "version_major": 2,
       "version_minor": 0
      },
      "text/plain": [
       "Analyzing comments:   0%|          | 0/39 [00:00<?, ?comment/s]"
      ]
     },
     "metadata": {},
     "output_type": "display_data"
    },
    {
     "data": {
      "application/vnd.jupyter.widget-view+json": {
       "model_id": "de190a9e10ce40b5ad66ea384171a7cb",
       "version_major": 2,
       "version_minor": 0
      },
      "text/plain": [
       "Analyzing comments:   0%|          | 0/3 [00:00<?, ?comment/s]"
      ]
     },
     "metadata": {},
     "output_type": "display_data"
    },
    {
     "data": {
      "application/vnd.jupyter.widget-view+json": {
       "model_id": "522c6b7558d04449bc45cc0783672a39",
       "version_major": 2,
       "version_minor": 0
      },
      "text/plain": [
       "Analyzing comments:   0%|          | 0/40 [00:00<?, ?comment/s]"
      ]
     },
     "metadata": {},
     "output_type": "display_data"
    },
    {
     "data": {
      "application/vnd.jupyter.widget-view+json": {
       "model_id": "d7d231d273ad408ea3b95b8a7d356dd1",
       "version_major": 2,
       "version_minor": 0
      },
      "text/plain": [
       "Analyzing comments:   0%|          | 0/40 [00:00<?, ?comment/s]"
      ]
     },
     "metadata": {},
     "output_type": "display_data"
    },
    {
     "data": {
      "application/vnd.jupyter.widget-view+json": {
       "model_id": "7cddaddfe42b45369fa9d5c2c08e0a35",
       "version_major": 2,
       "version_minor": 0
      },
      "text/plain": [
       "Analyzing comments:   0%|          | 0/8 [00:00<?, ?comment/s]"
      ]
     },
     "metadata": {},
     "output_type": "display_data"
    },
    {
     "data": {
      "application/vnd.jupyter.widget-view+json": {
       "model_id": "71abc8e987344127be7900724141d25b",
       "version_major": 2,
       "version_minor": 0
      },
      "text/plain": [
       "Analyzing comments:   0%|          | 0/20 [00:00<?, ?comment/s]"
      ]
     },
     "metadata": {},
     "output_type": "display_data"
    },
    {
     "data": {
      "application/vnd.jupyter.widget-view+json": {
       "model_id": "eefac49d02df432c8b325a0f4cddcad4",
       "version_major": 2,
       "version_minor": 0
      },
      "text/plain": [
       "Analyzing comments:   0%|          | 0/2 [00:00<?, ?comment/s]"
      ]
     },
     "metadata": {},
     "output_type": "display_data"
    },
    {
     "data": {
      "application/vnd.jupyter.widget-view+json": {
       "model_id": "7f96f4e693984b78b0f533c4a7534eff",
       "version_major": 2,
       "version_minor": 0
      },
      "text/plain": [
       "Analyzing comments:   0%|          | 0/15 [00:00<?, ?comment/s]"
      ]
     },
     "metadata": {},
     "output_type": "display_data"
    },
    {
     "data": {
      "application/vnd.jupyter.widget-view+json": {
       "model_id": "fe35404987f64266aece838b30cc9b83",
       "version_major": 2,
       "version_minor": 0
      },
      "text/plain": [
       "Analyzing comments:   0%|          | 0/16 [00:00<?, ?comment/s]"
      ]
     },
     "metadata": {},
     "output_type": "display_data"
    },
    {
     "data": {
      "application/vnd.jupyter.widget-view+json": {
       "model_id": "e016a27302934dfb8b1d2efd13801ceb",
       "version_major": 2,
       "version_minor": 0
      },
      "text/plain": [
       "Analyzing comments:   0%|          | 0/44 [00:00<?, ?comment/s]"
      ]
     },
     "metadata": {},
     "output_type": "display_data"
    },
    {
     "data": {
      "application/vnd.jupyter.widget-view+json": {
       "model_id": "74e04e17bcb94e898d944336e3e76b10",
       "version_major": 2,
       "version_minor": 0
      },
      "text/plain": [
       "Analyzing comments:   0%|          | 0/21 [00:00<?, ?comment/s]"
      ]
     },
     "metadata": {},
     "output_type": "display_data"
    },
    {
     "data": {
      "application/vnd.jupyter.widget-view+json": {
       "model_id": "c54621e130754a9ba5601014b63c3c8e",
       "version_major": 2,
       "version_minor": 0
      },
      "text/plain": [
       "Analyzing comments:   0%|          | 0/11 [00:00<?, ?comment/s]"
      ]
     },
     "metadata": {},
     "output_type": "display_data"
    },
    {
     "data": {
      "application/vnd.jupyter.widget-view+json": {
       "model_id": "627ba62108c4488498fa1017a56227c8",
       "version_major": 2,
       "version_minor": 0
      },
      "text/plain": [
       "Analyzing comments:   0%|          | 0/34 [00:00<?, ?comment/s]"
      ]
     },
     "metadata": {},
     "output_type": "display_data"
    },
    {
     "data": {
      "application/vnd.jupyter.widget-view+json": {
       "model_id": "43c1ae88460f4d54939f4ff457448915",
       "version_major": 2,
       "version_minor": 0
      },
      "text/plain": [
       "Analyzing comments:   0%|          | 0/14 [00:00<?, ?comment/s]"
      ]
     },
     "metadata": {},
     "output_type": "display_data"
    },
    {
     "data": {
      "application/vnd.jupyter.widget-view+json": {
       "model_id": "d61c96939a7345f29ed6486e4e3fbcb1",
       "version_major": 2,
       "version_minor": 0
      },
      "text/plain": [
       "Analyzing comments:   0%|          | 0/41 [00:00<?, ?comment/s]"
      ]
     },
     "metadata": {},
     "output_type": "display_data"
    },
    {
     "data": {
      "application/vnd.jupyter.widget-view+json": {
       "model_id": "91b53d37be0441ea83f6824a00bdfc08",
       "version_major": 2,
       "version_minor": 0
      },
      "text/plain": [
       "Analyzing comments:   0%|          | 0/40 [00:00<?, ?comment/s]"
      ]
     },
     "metadata": {},
     "output_type": "display_data"
    },
    {
     "data": {
      "application/vnd.jupyter.widget-view+json": {
       "model_id": "37e4784e9a5b40ac95fe16ee4608be4c",
       "version_major": 2,
       "version_minor": 0
      },
      "text/plain": [
       "Analyzing comments:   0%|          | 0/21 [00:00<?, ?comment/s]"
      ]
     },
     "metadata": {},
     "output_type": "display_data"
    },
    {
     "data": {
      "application/vnd.jupyter.widget-view+json": {
       "model_id": "840a1973ea1249a88c79b23bbe20cfc5",
       "version_major": 2,
       "version_minor": 0
      },
      "text/plain": [
       "Analyzing comments:   0%|          | 0/1 [00:00<?, ?comment/s]"
      ]
     },
     "metadata": {},
     "output_type": "display_data"
    },
    {
     "data": {
      "application/vnd.jupyter.widget-view+json": {
       "model_id": "dbaddbe2e95d4098b186ae176ae11f84",
       "version_major": 2,
       "version_minor": 0
      },
      "text/plain": [
       "Analyzing comments:   0%|          | 0/11 [00:00<?, ?comment/s]"
      ]
     },
     "metadata": {},
     "output_type": "display_data"
    },
    {
     "data": {
      "application/vnd.jupyter.widget-view+json": {
       "model_id": "b42b68014162423298eb8682fc763338",
       "version_major": 2,
       "version_minor": 0
      },
      "text/plain": [
       "Analyzing comments:   0%|          | 0/7 [00:00<?, ?comment/s]"
      ]
     },
     "metadata": {},
     "output_type": "display_data"
    },
    {
     "data": {
      "application/vnd.jupyter.widget-view+json": {
       "model_id": "aa516781c917430995a1bd6d05c1aaff",
       "version_major": 2,
       "version_minor": 0
      },
      "text/plain": [
       "Analyzing comments:   0%|          | 0/20 [00:00<?, ?comment/s]"
      ]
     },
     "metadata": {},
     "output_type": "display_data"
    },
    {
     "data": {
      "application/vnd.jupyter.widget-view+json": {
       "model_id": "b44ce45d55c14e259ce2efc45387087a",
       "version_major": 2,
       "version_minor": 0
      },
      "text/plain": [
       "Analyzing comments:   0%|          | 0/20 [00:00<?, ?comment/s]"
      ]
     },
     "metadata": {},
     "output_type": "display_data"
    },
    {
     "data": {
      "application/vnd.jupyter.widget-view+json": {
       "model_id": "2086aade6a0f4091bd4d966e3a5d5039",
       "version_major": 2,
       "version_minor": 0
      },
      "text/plain": [
       "Analyzing comments:   0%|          | 0/14 [00:00<?, ?comment/s]"
      ]
     },
     "metadata": {},
     "output_type": "display_data"
    },
    {
     "data": {
      "application/vnd.jupyter.widget-view+json": {
       "model_id": "b47c708d4afd49c0b1ffa52a3d20e679",
       "version_major": 2,
       "version_minor": 0
      },
      "text/plain": [
       "Analyzing comments:   0%|          | 0/14 [00:00<?, ?comment/s]"
      ]
     },
     "metadata": {},
     "output_type": "display_data"
    },
    {
     "data": {
      "application/vnd.jupyter.widget-view+json": {
       "model_id": "666aafe6118d4159add59486f3732040",
       "version_major": 2,
       "version_minor": 0
      },
      "text/plain": [
       "Analyzing comments:   0%|          | 0/41 [00:00<?, ?comment/s]"
      ]
     },
     "metadata": {},
     "output_type": "display_data"
    },
    {
     "data": {
      "application/vnd.jupyter.widget-view+json": {
       "model_id": "ff7497bfe07247dc918a15fb39371c7b",
       "version_major": 2,
       "version_minor": 0
      },
      "text/plain": [
       "Analyzing comments:   0%|          | 0/2 [00:00<?, ?comment/s]"
      ]
     },
     "metadata": {},
     "output_type": "display_data"
    },
    {
     "data": {
      "application/vnd.jupyter.widget-view+json": {
       "model_id": "cdbbfde4d2d0419896bd885d3b50e81f",
       "version_major": 2,
       "version_minor": 0
      },
      "text/plain": [
       "Analyzing comments:   0%|          | 0/25 [00:00<?, ?comment/s]"
      ]
     },
     "metadata": {},
     "output_type": "display_data"
    },
    {
     "data": {
      "application/vnd.jupyter.widget-view+json": {
       "model_id": "0184f7dd1459443f92fe7f79d7cace9d",
       "version_major": 2,
       "version_minor": 0
      },
      "text/plain": [
       "Analyzing comments:   0%|          | 0/20 [00:00<?, ?comment/s]"
      ]
     },
     "metadata": {},
     "output_type": "display_data"
    },
    {
     "data": {
      "application/vnd.jupyter.widget-view+json": {
       "model_id": "10bc258bd65b44b9ad89ec45420dd8e8",
       "version_major": 2,
       "version_minor": 0
      },
      "text/plain": [
       "Analyzing comments:   0%|          | 0/5 [00:00<?, ?comment/s]"
      ]
     },
     "metadata": {},
     "output_type": "display_data"
    },
    {
     "data": {
      "application/vnd.jupyter.widget-view+json": {
       "model_id": "84090e823ca34858acbaab424f4fcc52",
       "version_major": 2,
       "version_minor": 0
      },
      "text/plain": [
       "Analyzing comments:   0%|          | 0/37 [00:00<?, ?comment/s]"
      ]
     },
     "metadata": {},
     "output_type": "display_data"
    },
    {
     "data": {
      "application/vnd.jupyter.widget-view+json": {
       "model_id": "67f63bb0d5d84faba453e96c7fbf2a65",
       "version_major": 2,
       "version_minor": 0
      },
      "text/plain": [
       "Analyzing comments:   0%|          | 0/39 [00:00<?, ?comment/s]"
      ]
     },
     "metadata": {},
     "output_type": "display_data"
    },
    {
     "data": {
      "application/vnd.jupyter.widget-view+json": {
       "model_id": "0a48d7f26adb4d2aa4679ee36da64e58",
       "version_major": 2,
       "version_minor": 0
      },
      "text/plain": [
       "Analyzing comments:   0%|          | 0/40 [00:00<?, ?comment/s]"
      ]
     },
     "metadata": {},
     "output_type": "display_data"
    },
    {
     "data": {
      "application/vnd.jupyter.widget-view+json": {
       "model_id": "4af0d1526ebb4cca9fda0af3723caab3",
       "version_major": 2,
       "version_minor": 0
      },
      "text/plain": [
       "Analyzing comments:   0%|          | 0/39 [00:00<?, ?comment/s]"
      ]
     },
     "metadata": {},
     "output_type": "display_data"
    },
    {
     "data": {
      "application/vnd.jupyter.widget-view+json": {
       "model_id": "6cad8e9a5c374a9fbc192f4221e9d198",
       "version_major": 2,
       "version_minor": 0
      },
      "text/plain": [
       "Analyzing comments:   0%|          | 0/7 [00:00<?, ?comment/s]"
      ]
     },
     "metadata": {},
     "output_type": "display_data"
    },
    {
     "data": {
      "application/vnd.jupyter.widget-view+json": {
       "model_id": "31c31ea5647e45d39728558c0b1c1d19",
       "version_major": 2,
       "version_minor": 0
      },
      "text/plain": [
       "Analyzing comments:   0%|          | 0/37 [00:00<?, ?comment/s]"
      ]
     },
     "metadata": {},
     "output_type": "display_data"
    },
    {
     "data": {
      "application/vnd.jupyter.widget-view+json": {
       "model_id": "0616ce53c7f548cf8d6e3ccb9f9166b4",
       "version_major": 2,
       "version_minor": 0
      },
      "text/plain": [
       "Analyzing comments:   0%|          | 0/40 [00:00<?, ?comment/s]"
      ]
     },
     "metadata": {},
     "output_type": "display_data"
    },
    {
     "data": {
      "application/vnd.jupyter.widget-view+json": {
       "model_id": "33406ea05d3443f1826b4cff31b83a80",
       "version_major": 2,
       "version_minor": 0
      },
      "text/plain": [
       "Analyzing comments:   0%|          | 0/2 [00:00<?, ?comment/s]"
      ]
     },
     "metadata": {},
     "output_type": "display_data"
    },
    {
     "data": {
      "application/vnd.jupyter.widget-view+json": {
       "model_id": "3f5affb67f134688aba80818fa3c8a29",
       "version_major": 2,
       "version_minor": 0
      },
      "text/plain": [
       "Analyzing comments:   0%|          | 0/43 [00:00<?, ?comment/s]"
      ]
     },
     "metadata": {},
     "output_type": "display_data"
    },
    {
     "data": {
      "application/vnd.jupyter.widget-view+json": {
       "model_id": "70187cdd527d481fb61b1eb1f350f562",
       "version_major": 2,
       "version_minor": 0
      },
      "text/plain": [
       "Analyzing comments:   0%|          | 0/46 [00:00<?, ?comment/s]"
      ]
     },
     "metadata": {},
     "output_type": "display_data"
    },
    {
     "data": {
      "application/vnd.jupyter.widget-view+json": {
       "model_id": "fd53c899233740cd83ded40e33f53c66",
       "version_major": 2,
       "version_minor": 0
      },
      "text/plain": [
       "Analyzing comments:   0%|          | 0/40 [00:00<?, ?comment/s]"
      ]
     },
     "metadata": {},
     "output_type": "display_data"
    },
    {
     "data": {
      "application/vnd.jupyter.widget-view+json": {
       "model_id": "f9c069332e3347aebd90f7f6daa09976",
       "version_major": 2,
       "version_minor": 0
      },
      "text/plain": [
       "Analyzing comments:   0%|          | 0/31 [00:00<?, ?comment/s]"
      ]
     },
     "metadata": {},
     "output_type": "display_data"
    },
    {
     "data": {
      "application/vnd.jupyter.widget-view+json": {
       "model_id": "83fabc47723c46d2af9acc8fb41b65df",
       "version_major": 2,
       "version_minor": 0
      },
      "text/plain": [
       "Analyzing comments:   0%|          | 0/15 [00:00<?, ?comment/s]"
      ]
     },
     "metadata": {},
     "output_type": "display_data"
    },
    {
     "data": {
      "application/vnd.jupyter.widget-view+json": {
       "model_id": "b4696047cf9b41b595c8ba207689ceba",
       "version_major": 2,
       "version_minor": 0
      },
      "text/plain": [
       "Analyzing comments:   0%|          | 0/12 [00:00<?, ?comment/s]"
      ]
     },
     "metadata": {},
     "output_type": "display_data"
    },
    {
     "data": {
      "application/vnd.jupyter.widget-view+json": {
       "model_id": "46f89e85bcc943258e4b7ff7fc2c2ec5",
       "version_major": 2,
       "version_minor": 0
      },
      "text/plain": [
       "Analyzing comments:   0%|          | 0/40 [00:00<?, ?comment/s]"
      ]
     },
     "metadata": {},
     "output_type": "display_data"
    },
    {
     "data": {
      "application/vnd.jupyter.widget-view+json": {
       "model_id": "e49ef4058bf24d6f9d1dac0bda60a33f",
       "version_major": 2,
       "version_minor": 0
      },
      "text/plain": [
       "Analyzing comments:   0%|          | 0/51 [00:00<?, ?comment/s]"
      ]
     },
     "metadata": {},
     "output_type": "display_data"
    },
    {
     "data": {
      "application/vnd.jupyter.widget-view+json": {
       "model_id": "1bbdbded7cbf4474834d6374bbfb804a",
       "version_major": 2,
       "version_minor": 0
      },
      "text/plain": [
       "Analyzing comments:   0%|          | 0/38 [00:00<?, ?comment/s]"
      ]
     },
     "metadata": {},
     "output_type": "display_data"
    },
    {
     "data": {
      "application/vnd.jupyter.widget-view+json": {
       "model_id": "9fb63a2549934d47aae621330999b704",
       "version_major": 2,
       "version_minor": 0
      },
      "text/plain": [
       "Analyzing comments:   0%|          | 0/1 [00:00<?, ?comment/s]"
      ]
     },
     "metadata": {},
     "output_type": "display_data"
    },
    {
     "data": {
      "application/vnd.jupyter.widget-view+json": {
       "model_id": "9bc6c2b1196d463fbf01fe672a6c6c0f",
       "version_major": 2,
       "version_minor": 0
      },
      "text/plain": [
       "Analyzing comments:   0%|          | 0/12 [00:00<?, ?comment/s]"
      ]
     },
     "metadata": {},
     "output_type": "display_data"
    },
    {
     "data": {
      "application/vnd.jupyter.widget-view+json": {
       "model_id": "547b069fc04e4ceca6c804cdf88e6bf9",
       "version_major": 2,
       "version_minor": 0
      },
      "text/plain": [
       "Analyzing comments:   0%|          | 0/1 [00:00<?, ?comment/s]"
      ]
     },
     "metadata": {},
     "output_type": "display_data"
    },
    {
     "data": {
      "application/vnd.jupyter.widget-view+json": {
       "model_id": "f2ac174fac3d4fe3bad6f22f7bd62aa4",
       "version_major": 2,
       "version_minor": 0
      },
      "text/plain": [
       "Analyzing comments:   0%|          | 0/5 [00:00<?, ?comment/s]"
      ]
     },
     "metadata": {},
     "output_type": "display_data"
    },
    {
     "data": {
      "application/vnd.jupyter.widget-view+json": {
       "model_id": "8625a85ba9714c83a47d74c8562f0475",
       "version_major": 2,
       "version_minor": 0
      },
      "text/plain": [
       "Analyzing comments:   0%|          | 0/7 [00:00<?, ?comment/s]"
      ]
     },
     "metadata": {},
     "output_type": "display_data"
    },
    {
     "data": {
      "application/vnd.jupyter.widget-view+json": {
       "model_id": "b12e7fabca3341eaad629342298ba7b7",
       "version_major": 2,
       "version_minor": 0
      },
      "text/plain": [
       "Analyzing comments:   0%|          | 0/38 [00:00<?, ?comment/s]"
      ]
     },
     "metadata": {},
     "output_type": "display_data"
    },
    {
     "data": {
      "application/vnd.jupyter.widget-view+json": {
       "model_id": "38edb87fcd1743fba809b7a234430773",
       "version_major": 2,
       "version_minor": 0
      },
      "text/plain": [
       "Analyzing comments: 0comment [00:00, ?comment/s]"
      ]
     },
     "metadata": {},
     "output_type": "display_data"
    },
    {
     "data": {
      "application/vnd.jupyter.widget-view+json": {
       "model_id": "ffbcc0d177e34f208060f5d353d96b87",
       "version_major": 2,
       "version_minor": 0
      },
      "text/plain": [
       "Analyzing comments:   0%|          | 0/38 [00:00<?, ?comment/s]"
      ]
     },
     "metadata": {},
     "output_type": "display_data"
    },
    {
     "data": {
      "application/vnd.jupyter.widget-view+json": {
       "model_id": "8525e8d4795b4be78815c9b62ce8d291",
       "version_major": 2,
       "version_minor": 0
      },
      "text/plain": [
       "Analyzing comments:   0%|          | 0/38 [00:00<?, ?comment/s]"
      ]
     },
     "metadata": {},
     "output_type": "display_data"
    },
    {
     "data": {
      "application/vnd.jupyter.widget-view+json": {
       "model_id": "25ed19fc1c9c4473b94da55f57f68118",
       "version_major": 2,
       "version_minor": 0
      },
      "text/plain": [
       "Analyzing comments:   0%|          | 0/3 [00:00<?, ?comment/s]"
      ]
     },
     "metadata": {},
     "output_type": "display_data"
    },
    {
     "data": {
      "application/vnd.jupyter.widget-view+json": {
       "model_id": "08e66bc9b8834cd4b5dad11ed5cb0a0e",
       "version_major": 2,
       "version_minor": 0
      },
      "text/plain": [
       "Analyzing comments:   0%|          | 0/13 [00:00<?, ?comment/s]"
      ]
     },
     "metadata": {},
     "output_type": "display_data"
    },
    {
     "data": {
      "application/vnd.jupyter.widget-view+json": {
       "model_id": "611e2fada22a4a8f8f22abafdbca8aa9",
       "version_major": 2,
       "version_minor": 0
      },
      "text/plain": [
       "Analyzing comments:   0%|          | 0/37 [00:00<?, ?comment/s]"
      ]
     },
     "metadata": {},
     "output_type": "display_data"
    },
    {
     "data": {
      "application/vnd.jupyter.widget-view+json": {
       "model_id": "312eb98999c549159f5093f8a63923a8",
       "version_major": 2,
       "version_minor": 0
      },
      "text/plain": [
       "Analyzing comments:   0%|          | 0/3 [00:00<?, ?comment/s]"
      ]
     },
     "metadata": {},
     "output_type": "display_data"
    },
    {
     "data": {
      "application/vnd.jupyter.widget-view+json": {
       "model_id": "521dc0b96ba348ae8a9921725a94f44e",
       "version_major": 2,
       "version_minor": 0
      },
      "text/plain": [
       "Analyzing comments:   0%|          | 0/40 [00:00<?, ?comment/s]"
      ]
     },
     "metadata": {},
     "output_type": "display_data"
    },
    {
     "data": {
      "application/vnd.jupyter.widget-view+json": {
       "model_id": "da6d39d2e32a45ea92f23461a9f3a689",
       "version_major": 2,
       "version_minor": 0
      },
      "text/plain": [
       "Analyzing comments:   0%|          | 0/7 [00:00<?, ?comment/s]"
      ]
     },
     "metadata": {},
     "output_type": "display_data"
    },
    {
     "data": {
      "application/vnd.jupyter.widget-view+json": {
       "model_id": "0b348d2d18664b5ebe14c988f0f72713",
       "version_major": 2,
       "version_minor": 0
      },
      "text/plain": [
       "Analyzing comments:   0%|          | 0/35 [00:00<?, ?comment/s]"
      ]
     },
     "metadata": {},
     "output_type": "display_data"
    },
    {
     "data": {
      "application/vnd.jupyter.widget-view+json": {
       "model_id": "5cec98a0ba584d26b36ad7bfcd5cc544",
       "version_major": 2,
       "version_minor": 0
      },
      "text/plain": [
       "Analyzing comments:   0%|          | 0/31 [00:00<?, ?comment/s]"
      ]
     },
     "metadata": {},
     "output_type": "display_data"
    },
    {
     "data": {
      "application/vnd.jupyter.widget-view+json": {
       "model_id": "d2aa9e8bf89540a8a841284a1577f3ef",
       "version_major": 2,
       "version_minor": 0
      },
      "text/plain": [
       "Analyzing comments:   0%|          | 0/16 [00:00<?, ?comment/s]"
      ]
     },
     "metadata": {},
     "output_type": "display_data"
    },
    {
     "data": {
      "application/vnd.jupyter.widget-view+json": {
       "model_id": "b1faf6f4a35a406c88fe28fad904a70a",
       "version_major": 2,
       "version_minor": 0
      },
      "text/plain": [
       "Analyzing comments:   0%|          | 0/2 [00:00<?, ?comment/s]"
      ]
     },
     "metadata": {},
     "output_type": "display_data"
    },
    {
     "data": {
      "application/vnd.jupyter.widget-view+json": {
       "model_id": "08f10bd4815d402291da216371b02557",
       "version_major": 2,
       "version_minor": 0
      },
      "text/plain": [
       "Analyzing comments:   0%|          | 0/17 [00:00<?, ?comment/s]"
      ]
     },
     "metadata": {},
     "output_type": "display_data"
    },
    {
     "data": {
      "application/vnd.jupyter.widget-view+json": {
       "model_id": "d85cba940eca40c885ace28e80f8e5c2",
       "version_major": 2,
       "version_minor": 0
      },
      "text/plain": [
       "Analyzing comments:   0%|          | 0/26 [00:00<?, ?comment/s]"
      ]
     },
     "metadata": {},
     "output_type": "display_data"
    },
    {
     "data": {
      "application/vnd.jupyter.widget-view+json": {
       "model_id": "05cd81ae49ae49ba97fe0619cffd68dc",
       "version_major": 2,
       "version_minor": 0
      },
      "text/plain": [
       "Analyzing comments:   0%|          | 0/12 [00:00<?, ?comment/s]"
      ]
     },
     "metadata": {},
     "output_type": "display_data"
    },
    {
     "data": {
      "application/vnd.jupyter.widget-view+json": {
       "model_id": "b8f4ad7dc55f454d8b7a637849b81853",
       "version_major": 2,
       "version_minor": 0
      },
      "text/plain": [
       "Analyzing comments:   0%|          | 0/36 [00:00<?, ?comment/s]"
      ]
     },
     "metadata": {},
     "output_type": "display_data"
    },
    {
     "data": {
      "application/vnd.jupyter.widget-view+json": {
       "model_id": "14a48511278e4db2b6b503812b2b969b",
       "version_major": 2,
       "version_minor": 0
      },
      "text/plain": [
       "Analyzing comments:   0%|          | 0/34 [00:00<?, ?comment/s]"
      ]
     },
     "metadata": {},
     "output_type": "display_data"
    },
    {
     "data": {
      "application/vnd.jupyter.widget-view+json": {
       "model_id": "2321e45e24374705b40d5c56f191152a",
       "version_major": 2,
       "version_minor": 0
      },
      "text/plain": [
       "Analyzing comments:   0%|          | 0/8 [00:00<?, ?comment/s]"
      ]
     },
     "metadata": {},
     "output_type": "display_data"
    },
    {
     "data": {
      "application/vnd.jupyter.widget-view+json": {
       "model_id": "2d8abab9c0004122b971c20da53e9b06",
       "version_major": 2,
       "version_minor": 0
      },
      "text/plain": [
       "Analyzing comments:   0%|          | 0/8 [00:00<?, ?comment/s]"
      ]
     },
     "metadata": {},
     "output_type": "display_data"
    },
    {
     "data": {
      "application/vnd.jupyter.widget-view+json": {
       "model_id": "b51b38e2becd4a7183a4a06bb87553ce",
       "version_major": 2,
       "version_minor": 0
      },
      "text/plain": [
       "Analyzing comments:   0%|          | 0/34 [00:00<?, ?comment/s]"
      ]
     },
     "metadata": {},
     "output_type": "display_data"
    },
    {
     "data": {
      "application/vnd.jupyter.widget-view+json": {
       "model_id": "9cd1b26207b44cef8d84c1beb854fc7c",
       "version_major": 2,
       "version_minor": 0
      },
      "text/plain": [
       "Analyzing comments:   0%|          | 0/4 [00:00<?, ?comment/s]"
      ]
     },
     "metadata": {},
     "output_type": "display_data"
    },
    {
     "data": {
      "application/vnd.jupyter.widget-view+json": {
       "model_id": "efc5efbe4b3e43f5bd770fb2ba0f68fb",
       "version_major": 2,
       "version_minor": 0
      },
      "text/plain": [
       "Analyzing comments:   0%|          | 0/3 [00:00<?, ?comment/s]"
      ]
     },
     "metadata": {},
     "output_type": "display_data"
    },
    {
     "data": {
      "application/vnd.jupyter.widget-view+json": {
       "model_id": "64ac76e296584960babd694bc8dcac19",
       "version_major": 2,
       "version_minor": 0
      },
      "text/plain": [
       "Analyzing comments:   0%|          | 0/13 [00:00<?, ?comment/s]"
      ]
     },
     "metadata": {},
     "output_type": "display_data"
    },
    {
     "data": {
      "application/vnd.jupyter.widget-view+json": {
       "model_id": "4265fbdec6274af78fdb200b72faa7fa",
       "version_major": 2,
       "version_minor": 0
      },
      "text/plain": [
       "Analyzing comments:   0%|          | 0/1 [00:00<?, ?comment/s]"
      ]
     },
     "metadata": {},
     "output_type": "display_data"
    },
    {
     "data": {
      "application/vnd.jupyter.widget-view+json": {
       "model_id": "33ebe1f907a042769df70c309b7ce87d",
       "version_major": 2,
       "version_minor": 0
      },
      "text/plain": [
       "Analyzing comments:   0%|          | 0/37 [00:00<?, ?comment/s]"
      ]
     },
     "metadata": {},
     "output_type": "display_data"
    },
    {
     "data": {
      "application/vnd.jupyter.widget-view+json": {
       "model_id": "795112cc41ed4a7e87b78157fb09f17e",
       "version_major": 2,
       "version_minor": 0
      },
      "text/plain": [
       "Analyzing comments:   0%|          | 0/19 [00:00<?, ?comment/s]"
      ]
     },
     "metadata": {},
     "output_type": "display_data"
    },
    {
     "data": {
      "application/vnd.jupyter.widget-view+json": {
       "model_id": "0716292037fa454aa645f2127f45787d",
       "version_major": 2,
       "version_minor": 0
      },
      "text/plain": [
       "Analyzing comments:   0%|          | 0/50 [00:00<?, ?comment/s]"
      ]
     },
     "metadata": {},
     "output_type": "display_data"
    },
    {
     "data": {
      "application/vnd.jupyter.widget-view+json": {
       "model_id": "9a7bd85e66194b3297b2466de7172264",
       "version_major": 2,
       "version_minor": 0
      },
      "text/plain": [
       "Analyzing comments:   0%|          | 0/11 [00:00<?, ?comment/s]"
      ]
     },
     "metadata": {},
     "output_type": "display_data"
    },
    {
     "data": {
      "application/vnd.jupyter.widget-view+json": {
       "model_id": "ce9db1e5a6594aa5a918302b22f21ef3",
       "version_major": 2,
       "version_minor": 0
      },
      "text/plain": [
       "Analyzing comments:   0%|          | 0/4 [00:00<?, ?comment/s]"
      ]
     },
     "metadata": {},
     "output_type": "display_data"
    },
    {
     "data": {
      "application/vnd.jupyter.widget-view+json": {
       "model_id": "8f2e90d920b24e268dc148f7d8fe91f0",
       "version_major": 2,
       "version_minor": 0
      },
      "text/plain": [
       "Analyzing comments: 0comment [00:00, ?comment/s]"
      ]
     },
     "metadata": {},
     "output_type": "display_data"
    },
    {
     "data": {
      "application/vnd.jupyter.widget-view+json": {
       "model_id": "df280aba907f44a89630a4025be1c6eb",
       "version_major": 2,
       "version_minor": 0
      },
      "text/plain": [
       "Analyzing comments:   0%|          | 0/41 [00:00<?, ?comment/s]"
      ]
     },
     "metadata": {},
     "output_type": "display_data"
    },
    {
     "data": {
      "application/vnd.jupyter.widget-view+json": {
       "model_id": "347c6713a0a64e32b914d033ffa5fcfc",
       "version_major": 2,
       "version_minor": 0
      },
      "text/plain": [
       "Analyzing comments:   0%|          | 0/1 [00:00<?, ?comment/s]"
      ]
     },
     "metadata": {},
     "output_type": "display_data"
    },
    {
     "data": {
      "application/vnd.jupyter.widget-view+json": {
       "model_id": "8e685b6b2cb8442797b5d518bd260b7c",
       "version_major": 2,
       "version_minor": 0
      },
      "text/plain": [
       "Analyzing comments:   0%|          | 0/5 [00:00<?, ?comment/s]"
      ]
     },
     "metadata": {},
     "output_type": "display_data"
    },
    {
     "data": {
      "application/vnd.jupyter.widget-view+json": {
       "model_id": "6701117ceaa844b2ac46f7f7acf36bd1",
       "version_major": 2,
       "version_minor": 0
      },
      "text/plain": [
       "Analyzing comments:   0%|          | 0/34 [00:00<?, ?comment/s]"
      ]
     },
     "metadata": {},
     "output_type": "display_data"
    },
    {
     "data": {
      "application/vnd.jupyter.widget-view+json": {
       "model_id": "1bb836f74a004da5806e598b0c29b107",
       "version_major": 2,
       "version_minor": 0
      },
      "text/plain": [
       "Analyzing comments:   0%|          | 0/8 [00:00<?, ?comment/s]"
      ]
     },
     "metadata": {},
     "output_type": "display_data"
    },
    {
     "data": {
      "application/vnd.jupyter.widget-view+json": {
       "model_id": "5542d27ae9d340eb9d53e215d19a5bde",
       "version_major": 2,
       "version_minor": 0
      },
      "text/plain": [
       "Analyzing comments:   0%|          | 0/14 [00:00<?, ?comment/s]"
      ]
     },
     "metadata": {},
     "output_type": "display_data"
    },
    {
     "data": {
      "application/vnd.jupyter.widget-view+json": {
       "model_id": "0b42228380bd485388cb8201069ba201",
       "version_major": 2,
       "version_minor": 0
      },
      "text/plain": [
       "Analyzing comments:   0%|          | 0/37 [00:00<?, ?comment/s]"
      ]
     },
     "metadata": {},
     "output_type": "display_data"
    },
    {
     "data": {
      "application/vnd.jupyter.widget-view+json": {
       "model_id": "eae151db0dd3490393a0f44dc8579c3e",
       "version_major": 2,
       "version_minor": 0
      },
      "text/plain": [
       "Analyzing comments:   0%|          | 0/22 [00:00<?, ?comment/s]"
      ]
     },
     "metadata": {},
     "output_type": "display_data"
    },
    {
     "data": {
      "application/vnd.jupyter.widget-view+json": {
       "model_id": "840230010ea74dbfb7b5ed7d796bdc40",
       "version_major": 2,
       "version_minor": 0
      },
      "text/plain": [
       "Analyzing comments:   0%|          | 0/7 [00:00<?, ?comment/s]"
      ]
     },
     "metadata": {},
     "output_type": "display_data"
    },
    {
     "data": {
      "application/vnd.jupyter.widget-view+json": {
       "model_id": "3ddd8fc6d69c40a9953ecd29940d7253",
       "version_major": 2,
       "version_minor": 0
      },
      "text/plain": [
       "Analyzing comments:   0%|          | 0/15 [00:00<?, ?comment/s]"
      ]
     },
     "metadata": {},
     "output_type": "display_data"
    },
    {
     "data": {
      "application/vnd.jupyter.widget-view+json": {
       "model_id": "80e17013cc094bdd9552c38cca11a603",
       "version_major": 2,
       "version_minor": 0
      },
      "text/plain": [
       "Analyzing comments:   0%|          | 0/36 [00:00<?, ?comment/s]"
      ]
     },
     "metadata": {},
     "output_type": "display_data"
    },
    {
     "data": {
      "application/vnd.jupyter.widget-view+json": {
       "model_id": "e3202507b72349b3a27651b367f9a48d",
       "version_major": 2,
       "version_minor": 0
      },
      "text/plain": [
       "Analyzing comments:   0%|          | 0/37 [00:00<?, ?comment/s]"
      ]
     },
     "metadata": {},
     "output_type": "display_data"
    },
    {
     "data": {
      "application/vnd.jupyter.widget-view+json": {
       "model_id": "7b6eabb7cf0048b99332d3c7475c141b",
       "version_major": 2,
       "version_minor": 0
      },
      "text/plain": [
       "Analyzing comments:   0%|          | 0/3 [00:00<?, ?comment/s]"
      ]
     },
     "metadata": {},
     "output_type": "display_data"
    },
    {
     "data": {
      "application/vnd.jupyter.widget-view+json": {
       "model_id": "d759e7333c5e4a6e8522a2c8328b81f6",
       "version_major": 2,
       "version_minor": 0
      },
      "text/plain": [
       "Analyzing comments:   0%|          | 0/1 [00:00<?, ?comment/s]"
      ]
     },
     "metadata": {},
     "output_type": "display_data"
    },
    {
     "data": {
      "application/vnd.jupyter.widget-view+json": {
       "model_id": "b24b8100b8f942cbb65dca26d32b930b",
       "version_major": 2,
       "version_minor": 0
      },
      "text/plain": [
       "Analyzing comments:   0%|          | 0/1 [00:00<?, ?comment/s]"
      ]
     },
     "metadata": {},
     "output_type": "display_data"
    },
    {
     "data": {
      "application/vnd.jupyter.widget-view+json": {
       "model_id": "0714a08b0c904cd485790d23873adb49",
       "version_major": 2,
       "version_minor": 0
      },
      "text/plain": [
       "Analyzing comments:   0%|          | 0/35 [00:00<?, ?comment/s]"
      ]
     },
     "metadata": {},
     "output_type": "display_data"
    },
    {
     "data": {
      "application/vnd.jupyter.widget-view+json": {
       "model_id": "679526f3e2264bdbacd90337e99e2ced",
       "version_major": 2,
       "version_minor": 0
      },
      "text/plain": [
       "Analyzing comments:   0%|          | 0/2 [00:00<?, ?comment/s]"
      ]
     },
     "metadata": {},
     "output_type": "display_data"
    },
    {
     "data": {
      "application/vnd.jupyter.widget-view+json": {
       "model_id": "2787042d75ce4a9284cbd3b6f6e8ac78",
       "version_major": 2,
       "version_minor": 0
      },
      "text/plain": [
       "Analyzing comments:   0%|          | 0/23 [00:00<?, ?comment/s]"
      ]
     },
     "metadata": {},
     "output_type": "display_data"
    },
    {
     "data": {
      "application/vnd.jupyter.widget-view+json": {
       "model_id": "7b34817e88fa4d238527fde444b2960b",
       "version_major": 2,
       "version_minor": 0
      },
      "text/plain": [
       "Analyzing comments:   0%|          | 0/2 [00:00<?, ?comment/s]"
      ]
     },
     "metadata": {},
     "output_type": "display_data"
    },
    {
     "data": {
      "application/vnd.jupyter.widget-view+json": {
       "model_id": "be4460e15d0e4637be1ceef40baa5860",
       "version_major": 2,
       "version_minor": 0
      },
      "text/plain": [
       "Analyzing comments:   0%|          | 0/18 [00:00<?, ?comment/s]"
      ]
     },
     "metadata": {},
     "output_type": "display_data"
    },
    {
     "data": {
      "application/vnd.jupyter.widget-view+json": {
       "model_id": "3e0d8152a3f146428df82d2dae4f201b",
       "version_major": 2,
       "version_minor": 0
      },
      "text/plain": [
       "Analyzing comments:   0%|          | 0/18 [00:00<?, ?comment/s]"
      ]
     },
     "metadata": {},
     "output_type": "display_data"
    },
    {
     "data": {
      "application/vnd.jupyter.widget-view+json": {
       "model_id": "6b4fb318e1d74c24826fc85a015ca6dc",
       "version_major": 2,
       "version_minor": 0
      },
      "text/plain": [
       "Analyzing comments:   0%|          | 0/35 [00:00<?, ?comment/s]"
      ]
     },
     "metadata": {},
     "output_type": "display_data"
    },
    {
     "data": {
      "application/vnd.jupyter.widget-view+json": {
       "model_id": "611d909505a5455a94be529d06be73fc",
       "version_major": 2,
       "version_minor": 0
      },
      "text/plain": [
       "Analyzing comments:   0%|          | 0/3 [00:00<?, ?comment/s]"
      ]
     },
     "metadata": {},
     "output_type": "display_data"
    },
    {
     "data": {
      "application/vnd.jupyter.widget-view+json": {
       "model_id": "cd43d6ed50e245f69748fd294250d510",
       "version_major": 2,
       "version_minor": 0
      },
      "text/plain": [
       "Analyzing comments:   0%|          | 0/14 [00:00<?, ?comment/s]"
      ]
     },
     "metadata": {},
     "output_type": "display_data"
    },
    {
     "data": {
      "application/vnd.jupyter.widget-view+json": {
       "model_id": "01d614966f2c4492bd7bcd5b292fff09",
       "version_major": 2,
       "version_minor": 0
      },
      "text/plain": [
       "Analyzing comments:   0%|          | 0/29 [00:00<?, ?comment/s]"
      ]
     },
     "metadata": {},
     "output_type": "display_data"
    },
    {
     "data": {
      "application/vnd.jupyter.widget-view+json": {
       "model_id": "67a1575cd4cc4d508eaeefdf7e1d3e4b",
       "version_major": 2,
       "version_minor": 0
      },
      "text/plain": [
       "Analyzing comments:   0%|          | 0/29 [00:00<?, ?comment/s]"
      ]
     },
     "metadata": {},
     "output_type": "display_data"
    },
    {
     "data": {
      "application/vnd.jupyter.widget-view+json": {
       "model_id": "17781d575ac44ab0b81a8ac2aa103c6e",
       "version_major": 2,
       "version_minor": 0
      },
      "text/plain": [
       "Analyzing comments:   0%|          | 0/2 [00:00<?, ?comment/s]"
      ]
     },
     "metadata": {},
     "output_type": "display_data"
    },
    {
     "data": {
      "application/vnd.jupyter.widget-view+json": {
       "model_id": "4b7d58837b7c4190855486fb829fb72f",
       "version_major": 2,
       "version_minor": 0
      },
      "text/plain": [
       "Analyzing comments:   0%|          | 0/39 [00:00<?, ?comment/s]"
      ]
     },
     "metadata": {},
     "output_type": "display_data"
    },
    {
     "data": {
      "application/vnd.jupyter.widget-view+json": {
       "model_id": "819f22a4e1cc4da898fe439c205cbdce",
       "version_major": 2,
       "version_minor": 0
      },
      "text/plain": [
       "Analyzing comments:   0%|          | 0/5 [00:00<?, ?comment/s]"
      ]
     },
     "metadata": {},
     "output_type": "display_data"
    },
    {
     "data": {
      "application/vnd.jupyter.widget-view+json": {
       "model_id": "0a310cc8c6b4417c9f574763c604beaf",
       "version_major": 2,
       "version_minor": 0
      },
      "text/plain": [
       "Analyzing comments:   0%|          | 0/4 [00:00<?, ?comment/s]"
      ]
     },
     "metadata": {},
     "output_type": "display_data"
    },
    {
     "data": {
      "application/vnd.jupyter.widget-view+json": {
       "model_id": "ced0db018b4949978dfabacaa00d9880",
       "version_major": 2,
       "version_minor": 0
      },
      "text/plain": [
       "Analyzing comments:   0%|          | 0/9 [00:00<?, ?comment/s]"
      ]
     },
     "metadata": {},
     "output_type": "display_data"
    },
    {
     "data": {
      "application/vnd.jupyter.widget-view+json": {
       "model_id": "e33606d635b4451caf3a1dcdd6ad75f4",
       "version_major": 2,
       "version_minor": 0
      },
      "text/plain": [
       "Analyzing comments:   0%|          | 0/38 [00:00<?, ?comment/s]"
      ]
     },
     "metadata": {},
     "output_type": "display_data"
    },
    {
     "data": {
      "application/vnd.jupyter.widget-view+json": {
       "model_id": "7b545c00b1304022867be25ab12c14f1",
       "version_major": 2,
       "version_minor": 0
      },
      "text/plain": [
       "Analyzing comments:   0%|          | 0/4 [00:00<?, ?comment/s]"
      ]
     },
     "metadata": {},
     "output_type": "display_data"
    },
    {
     "data": {
      "application/vnd.jupyter.widget-view+json": {
       "model_id": "38eaa29bb61748018c267def43d696d7",
       "version_major": 2,
       "version_minor": 0
      },
      "text/plain": [
       "Analyzing comments:   0%|          | 0/30 [00:00<?, ?comment/s]"
      ]
     },
     "metadata": {},
     "output_type": "display_data"
    },
    {
     "data": {
      "application/vnd.jupyter.widget-view+json": {
       "model_id": "50dc83aa18bd4d91912f430867ca9ab0",
       "version_major": 2,
       "version_minor": 0
      },
      "text/plain": [
       "Analyzing comments:   0%|          | 0/38 [00:00<?, ?comment/s]"
      ]
     },
     "metadata": {},
     "output_type": "display_data"
    },
    {
     "data": {
      "application/vnd.jupyter.widget-view+json": {
       "model_id": "f2377803eb1a49b78e386833642d0f0f",
       "version_major": 2,
       "version_minor": 0
      },
      "text/plain": [
       "Analyzing comments:   0%|          | 0/27 [00:00<?, ?comment/s]"
      ]
     },
     "metadata": {},
     "output_type": "display_data"
    },
    {
     "data": {
      "application/vnd.jupyter.widget-view+json": {
       "model_id": "194f436c66d54752a5ce6b2e6049bb08",
       "version_major": 2,
       "version_minor": 0
      },
      "text/plain": [
       "Analyzing comments:   0%|          | 0/36 [00:00<?, ?comment/s]"
      ]
     },
     "metadata": {},
     "output_type": "display_data"
    },
    {
     "data": {
      "application/vnd.jupyter.widget-view+json": {
       "model_id": "62506c3df1294a30b76b7fc304e6dc4b",
       "version_major": 2,
       "version_minor": 0
      },
      "text/plain": [
       "Analyzing comments:   0%|          | 0/28 [00:00<?, ?comment/s]"
      ]
     },
     "metadata": {},
     "output_type": "display_data"
    },
    {
     "data": {
      "application/vnd.jupyter.widget-view+json": {
       "model_id": "0696533e04dd44ad88b317de23043632",
       "version_major": 2,
       "version_minor": 0
      },
      "text/plain": [
       "Analyzing comments:   0%|          | 0/4 [00:00<?, ?comment/s]"
      ]
     },
     "metadata": {},
     "output_type": "display_data"
    },
    {
     "data": {
      "application/vnd.jupyter.widget-view+json": {
       "model_id": "5269f5354bd04e8486308e318f9438c4",
       "version_major": 2,
       "version_minor": 0
      },
      "text/plain": [
       "Analyzing comments:   0%|          | 0/18 [00:00<?, ?comment/s]"
      ]
     },
     "metadata": {},
     "output_type": "display_data"
    },
    {
     "data": {
      "application/vnd.jupyter.widget-view+json": {
       "model_id": "63484d6d80194d30a41d5d0a7da394ce",
       "version_major": 2,
       "version_minor": 0
      },
      "text/plain": [
       "Analyzing comments:   0%|          | 0/39 [00:00<?, ?comment/s]"
      ]
     },
     "metadata": {},
     "output_type": "display_data"
    },
    {
     "data": {
      "application/vnd.jupyter.widget-view+json": {
       "model_id": "28dd419227f746cbbc2d822334767f4f",
       "version_major": 2,
       "version_minor": 0
      },
      "text/plain": [
       "Analyzing comments:   0%|          | 0/27 [00:00<?, ?comment/s]"
      ]
     },
     "metadata": {},
     "output_type": "display_data"
    },
    {
     "data": {
      "application/vnd.jupyter.widget-view+json": {
       "model_id": "3d3ba6ff8ec84af8995f08c4f25ee72e",
       "version_major": 2,
       "version_minor": 0
      },
      "text/plain": [
       "Analyzing comments:   0%|          | 0/52 [00:00<?, ?comment/s]"
      ]
     },
     "metadata": {},
     "output_type": "display_data"
    },
    {
     "data": {
      "application/vnd.jupyter.widget-view+json": {
       "model_id": "137df081e5234698b6856e309660f71f",
       "version_major": 2,
       "version_minor": 0
      },
      "text/plain": [
       "Analyzing comments:   0%|          | 0/2 [00:00<?, ?comment/s]"
      ]
     },
     "metadata": {},
     "output_type": "display_data"
    },
    {
     "data": {
      "application/vnd.jupyter.widget-view+json": {
       "model_id": "a867a50af3ac48beba31e63fe4bf2897",
       "version_major": 2,
       "version_minor": 0
      },
      "text/plain": [
       "Analyzing comments:   0%|          | 0/2 [00:00<?, ?comment/s]"
      ]
     },
     "metadata": {},
     "output_type": "display_data"
    },
    {
     "data": {
      "application/vnd.jupyter.widget-view+json": {
       "model_id": "f60608b7561b4d5a9af6c982757918ae",
       "version_major": 2,
       "version_minor": 0
      },
      "text/plain": [
       "Analyzing comments:   0%|          | 0/38 [00:00<?, ?comment/s]"
      ]
     },
     "metadata": {},
     "output_type": "display_data"
    },
    {
     "data": {
      "application/vnd.jupyter.widget-view+json": {
       "model_id": "33557ac027d042fb8f51d46f4d8e2b39",
       "version_major": 2,
       "version_minor": 0
      },
      "text/plain": [
       "Analyzing comments:   0%|          | 0/2 [00:00<?, ?comment/s]"
      ]
     },
     "metadata": {},
     "output_type": "display_data"
    },
    {
     "data": {
      "application/vnd.jupyter.widget-view+json": {
       "model_id": "3019324417c543b28269114f4532d149",
       "version_major": 2,
       "version_minor": 0
      },
      "text/plain": [
       "Analyzing comments:   0%|          | 0/59 [00:00<?, ?comment/s]"
      ]
     },
     "metadata": {},
     "output_type": "display_data"
    },
    {
     "data": {
      "application/vnd.jupyter.widget-view+json": {
       "model_id": "5cdc54ffc7544f56a3e07e559d5c3155",
       "version_major": 2,
       "version_minor": 0
      },
      "text/plain": [
       "Analyzing comments:   0%|          | 0/28 [00:00<?, ?comment/s]"
      ]
     },
     "metadata": {},
     "output_type": "display_data"
    },
    {
     "data": {
      "application/vnd.jupyter.widget-view+json": {
       "model_id": "82940e89c8e34dcc9c67adbda43ce294",
       "version_major": 2,
       "version_minor": 0
      },
      "text/plain": [
       "Analyzing comments: 0comment [00:00, ?comment/s]"
      ]
     },
     "metadata": {},
     "output_type": "display_data"
    },
    {
     "data": {
      "application/vnd.jupyter.widget-view+json": {
       "model_id": "87da68bb62034bd088f6f398c9ec44f4",
       "version_major": 2,
       "version_minor": 0
      },
      "text/plain": [
       "Analyzing comments:   0%|          | 0/3 [00:00<?, ?comment/s]"
      ]
     },
     "metadata": {},
     "output_type": "display_data"
    },
    {
     "data": {
      "application/vnd.jupyter.widget-view+json": {
       "model_id": "8573032289594a44b67a72daf2b14037",
       "version_major": 2,
       "version_minor": 0
      },
      "text/plain": [
       "Analyzing comments:   0%|          | 0/4 [00:00<?, ?comment/s]"
      ]
     },
     "metadata": {},
     "output_type": "display_data"
    },
    {
     "data": {
      "application/vnd.jupyter.widget-view+json": {
       "model_id": "6cff0d57eeb9468ea338bee295be1534",
       "version_major": 2,
       "version_minor": 0
      },
      "text/plain": [
       "Analyzing comments:   0%|          | 0/5 [00:00<?, ?comment/s]"
      ]
     },
     "metadata": {},
     "output_type": "display_data"
    },
    {
     "data": {
      "application/vnd.jupyter.widget-view+json": {
       "model_id": "dcf757c950bf4eb2bc77a21cc332a2e2",
       "version_major": 2,
       "version_minor": 0
      },
      "text/plain": [
       "Analyzing comments:   0%|          | 0/35 [00:00<?, ?comment/s]"
      ]
     },
     "metadata": {},
     "output_type": "display_data"
    },
    {
     "data": {
      "application/vnd.jupyter.widget-view+json": {
       "model_id": "7ec6f7f972764ea0b548fb7e17979371",
       "version_major": 2,
       "version_minor": 0
      },
      "text/plain": [
       "Analyzing comments:   0%|          | 0/2 [00:00<?, ?comment/s]"
      ]
     },
     "metadata": {},
     "output_type": "display_data"
    },
    {
     "data": {
      "application/vnd.jupyter.widget-view+json": {
       "model_id": "ffdfe9c6d8154a7fba0d3cfbce4032fb",
       "version_major": 2,
       "version_minor": 0
      },
      "text/plain": [
       "Analyzing comments:   0%|          | 0/27 [00:00<?, ?comment/s]"
      ]
     },
     "metadata": {},
     "output_type": "display_data"
    },
    {
     "data": {
      "application/vnd.jupyter.widget-view+json": {
       "model_id": "b3f2ad873c384282ac0577abf68c7f53",
       "version_major": 2,
       "version_minor": 0
      },
      "text/plain": [
       "Analyzing comments:   0%|          | 0/23 [00:00<?, ?comment/s]"
      ]
     },
     "metadata": {},
     "output_type": "display_data"
    },
    {
     "data": {
      "application/vnd.jupyter.widget-view+json": {
       "model_id": "6ca12ca0dd7f4fae80b90e62e54b58e8",
       "version_major": 2,
       "version_minor": 0
      },
      "text/plain": [
       "Analyzing comments:   0%|          | 0/39 [00:00<?, ?comment/s]"
      ]
     },
     "metadata": {},
     "output_type": "display_data"
    },
    {
     "data": {
      "application/vnd.jupyter.widget-view+json": {
       "model_id": "1617d76293b049489ac9b999697dfb42",
       "version_major": 2,
       "version_minor": 0
      },
      "text/plain": [
       "Analyzing comments:   0%|          | 0/24 [00:00<?, ?comment/s]"
      ]
     },
     "metadata": {},
     "output_type": "display_data"
    },
    {
     "data": {
      "application/vnd.jupyter.widget-view+json": {
       "model_id": "a9a4aa0d684946fead7abbd288581be6",
       "version_major": 2,
       "version_minor": 0
      },
      "text/plain": [
       "Analyzing comments:   0%|          | 0/2 [00:00<?, ?comment/s]"
      ]
     },
     "metadata": {},
     "output_type": "display_data"
    },
    {
     "data": {
      "application/vnd.jupyter.widget-view+json": {
       "model_id": "f3a07f5cc20242dd84582ecbade12ad7",
       "version_major": 2,
       "version_minor": 0
      },
      "text/plain": [
       "Analyzing comments:   0%|          | 0/3 [00:00<?, ?comment/s]"
      ]
     },
     "metadata": {},
     "output_type": "display_data"
    },
    {
     "data": {
      "application/vnd.jupyter.widget-view+json": {
       "model_id": "e440dbddcafd44fdb88bb5548fb734a2",
       "version_major": 2,
       "version_minor": 0
      },
      "text/plain": [
       "Analyzing comments:   0%|          | 0/40 [00:00<?, ?comment/s]"
      ]
     },
     "metadata": {},
     "output_type": "display_data"
    },
    {
     "data": {
      "application/vnd.jupyter.widget-view+json": {
       "model_id": "8dcf95bb306941499f8f803c5251aab7",
       "version_major": 2,
       "version_minor": 0
      },
      "text/plain": [
       "Analyzing comments:   0%|          | 0/43 [00:00<?, ?comment/s]"
      ]
     },
     "metadata": {},
     "output_type": "display_data"
    },
    {
     "data": {
      "application/vnd.jupyter.widget-view+json": {
       "model_id": "fc6de7af8fa84bc9b2a43dab23db8b18",
       "version_major": 2,
       "version_minor": 0
      },
      "text/plain": [
       "Analyzing comments:   0%|          | 0/22 [00:00<?, ?comment/s]"
      ]
     },
     "metadata": {},
     "output_type": "display_data"
    },
    {
     "data": {
      "application/vnd.jupyter.widget-view+json": {
       "model_id": "6e066f882f9d4eb2924e25d2be164c44",
       "version_major": 2,
       "version_minor": 0
      },
      "text/plain": [
       "Analyzing comments:   0%|          | 0/50 [00:00<?, ?comment/s]"
      ]
     },
     "metadata": {},
     "output_type": "display_data"
    },
    {
     "data": {
      "application/vnd.jupyter.widget-view+json": {
       "model_id": "426cbaee901f4fbfa248d6f21e0918ad",
       "version_major": 2,
       "version_minor": 0
      },
      "text/plain": [
       "Analyzing comments:   0%|          | 0/20 [00:00<?, ?comment/s]"
      ]
     },
     "metadata": {},
     "output_type": "display_data"
    },
    {
     "data": {
      "application/vnd.jupyter.widget-view+json": {
       "model_id": "5297066a65fc40c88d7a1573f4092650",
       "version_major": 2,
       "version_minor": 0
      },
      "text/plain": [
       "Analyzing comments:   0%|          | 0/17 [00:00<?, ?comment/s]"
      ]
     },
     "metadata": {},
     "output_type": "display_data"
    },
    {
     "data": {
      "application/vnd.jupyter.widget-view+json": {
       "model_id": "41faeeae154d49cc9096265b5dd69943",
       "version_major": 2,
       "version_minor": 0
      },
      "text/plain": [
       "Analyzing comments:   0%|          | 0/1 [00:00<?, ?comment/s]"
      ]
     },
     "metadata": {},
     "output_type": "display_data"
    },
    {
     "data": {
      "application/vnd.jupyter.widget-view+json": {
       "model_id": "9229a9628d784cdb8cbb8865cbf8587a",
       "version_major": 2,
       "version_minor": 0
      },
      "text/plain": [
       "Analyzing comments:   0%|          | 0/9 [00:00<?, ?comment/s]"
      ]
     },
     "metadata": {},
     "output_type": "display_data"
    },
    {
     "data": {
      "application/vnd.jupyter.widget-view+json": {
       "model_id": "228b63b76a1c43228e07902c5f03a63a",
       "version_major": 2,
       "version_minor": 0
      },
      "text/plain": [
       "Analyzing comments:   0%|          | 0/1 [00:00<?, ?comment/s]"
      ]
     },
     "metadata": {},
     "output_type": "display_data"
    },
    {
     "data": {
      "application/vnd.jupyter.widget-view+json": {
       "model_id": "f74e466a649349268a901305278177bf",
       "version_major": 2,
       "version_minor": 0
      },
      "text/plain": [
       "Analyzing comments:   0%|          | 0/39 [00:00<?, ?comment/s]"
      ]
     },
     "metadata": {},
     "output_type": "display_data"
    },
    {
     "data": {
      "application/vnd.jupyter.widget-view+json": {
       "model_id": "4b1a9356b7ec44adba8f97900e3de80e",
       "version_major": 2,
       "version_minor": 0
      },
      "text/plain": [
       "Analyzing comments:   0%|          | 0/23 [00:00<?, ?comment/s]"
      ]
     },
     "metadata": {},
     "output_type": "display_data"
    },
    {
     "data": {
      "application/vnd.jupyter.widget-view+json": {
       "model_id": "2dcde08811fb451c99870f1ed24a8674",
       "version_major": 2,
       "version_minor": 0
      },
      "text/plain": [
       "Analyzing comments:   0%|          | 0/40 [00:00<?, ?comment/s]"
      ]
     },
     "metadata": {},
     "output_type": "display_data"
    },
    {
     "data": {
      "application/vnd.jupyter.widget-view+json": {
       "model_id": "f66846d6e1ee4dcfadacd1f6a6f3777d",
       "version_major": 2,
       "version_minor": 0
      },
      "text/plain": [
       "Analyzing comments:   0%|          | 0/8 [00:00<?, ?comment/s]"
      ]
     },
     "metadata": {},
     "output_type": "display_data"
    },
    {
     "data": {
      "application/vnd.jupyter.widget-view+json": {
       "model_id": "011804f279474ba5aa662a58cf2378db",
       "version_major": 2,
       "version_minor": 0
      },
      "text/plain": [
       "Analyzing comments:   0%|          | 0/39 [00:00<?, ?comment/s]"
      ]
     },
     "metadata": {},
     "output_type": "display_data"
    },
    {
     "data": {
      "application/vnd.jupyter.widget-view+json": {
       "model_id": "d86c794f57ab4c48b65415dbb8d33987",
       "version_major": 2,
       "version_minor": 0
      },
      "text/plain": [
       "Analyzing comments:   0%|          | 0/29 [00:00<?, ?comment/s]"
      ]
     },
     "metadata": {},
     "output_type": "display_data"
    },
    {
     "data": {
      "application/vnd.jupyter.widget-view+json": {
       "model_id": "2b35165c859b48ca9943002d557a21ce",
       "version_major": 2,
       "version_minor": 0
      },
      "text/plain": [
       "Analyzing comments:   0%|          | 0/1 [00:00<?, ?comment/s]"
      ]
     },
     "metadata": {},
     "output_type": "display_data"
    },
    {
     "data": {
      "application/vnd.jupyter.widget-view+json": {
       "model_id": "af8764ee5cff49a8a08b5d6395e96fee",
       "version_major": 2,
       "version_minor": 0
      },
      "text/plain": [
       "Analyzing comments:   0%|          | 0/1 [00:00<?, ?comment/s]"
      ]
     },
     "metadata": {},
     "output_type": "display_data"
    },
    {
     "data": {
      "application/vnd.jupyter.widget-view+json": {
       "model_id": "a511a1cab54f40df8a7ca40b9ab416ab",
       "version_major": 2,
       "version_minor": 0
      },
      "text/plain": [
       "Analyzing comments:   0%|          | 0/41 [00:00<?, ?comment/s]"
      ]
     },
     "metadata": {},
     "output_type": "display_data"
    },
    {
     "data": {
      "application/vnd.jupyter.widget-view+json": {
       "model_id": "078a4b9b4c8041cd91f08f2ccf69db91",
       "version_major": 2,
       "version_minor": 0
      },
      "text/plain": [
       "Analyzing comments:   0%|          | 0/4 [00:00<?, ?comment/s]"
      ]
     },
     "metadata": {},
     "output_type": "display_data"
    },
    {
     "data": {
      "application/vnd.jupyter.widget-view+json": {
       "model_id": "16a46fcdd704444c9d983955f43674df",
       "version_major": 2,
       "version_minor": 0
      },
      "text/plain": [
       "Analyzing comments:   0%|          | 0/20 [00:00<?, ?comment/s]"
      ]
     },
     "metadata": {},
     "output_type": "display_data"
    },
    {
     "data": {
      "application/vnd.jupyter.widget-view+json": {
       "model_id": "be2dbf0c19804c77b3749b1705b36be1",
       "version_major": 2,
       "version_minor": 0
      },
      "text/plain": [
       "Analyzing comments:   0%|          | 0/43 [00:00<?, ?comment/s]"
      ]
     },
     "metadata": {},
     "output_type": "display_data"
    },
    {
     "data": {
      "application/vnd.jupyter.widget-view+json": {
       "model_id": "df3ae6d77c2345c39e078e6c4cb69bcd",
       "version_major": 2,
       "version_minor": 0
      },
      "text/plain": [
       "Analyzing comments:   0%|          | 0/48 [00:00<?, ?comment/s]"
      ]
     },
     "metadata": {},
     "output_type": "display_data"
    },
    {
     "data": {
      "application/vnd.jupyter.widget-view+json": {
       "model_id": "b169451237884e03a8b639507175202f",
       "version_major": 2,
       "version_minor": 0
      },
      "text/plain": [
       "Analyzing comments:   0%|          | 0/1 [00:00<?, ?comment/s]"
      ]
     },
     "metadata": {},
     "output_type": "display_data"
    },
    {
     "data": {
      "application/vnd.jupyter.widget-view+json": {
       "model_id": "94a6c64baedd4a2484fc23150579a4b4",
       "version_major": 2,
       "version_minor": 0
      },
      "text/plain": [
       "Analyzing comments:   0%|          | 0/6 [00:00<?, ?comment/s]"
      ]
     },
     "metadata": {},
     "output_type": "display_data"
    },
    {
     "data": {
      "application/vnd.jupyter.widget-view+json": {
       "model_id": "d63c8b0d2eb1495f86e9870103052f4d",
       "version_major": 2,
       "version_minor": 0
      },
      "text/plain": [
       "Analyzing comments:   0%|          | 0/26 [00:00<?, ?comment/s]"
      ]
     },
     "metadata": {},
     "output_type": "display_data"
    },
    {
     "data": {
      "application/vnd.jupyter.widget-view+json": {
       "model_id": "cfb051f48ea049e88931ae995c6baab2",
       "version_major": 2,
       "version_minor": 0
      },
      "text/plain": [
       "Analyzing comments:   0%|          | 0/6 [00:00<?, ?comment/s]"
      ]
     },
     "metadata": {},
     "output_type": "display_data"
    },
    {
     "data": {
      "application/vnd.jupyter.widget-view+json": {
       "model_id": "93feaf0c12824dc0812bc4018a8a8b41",
       "version_major": 2,
       "version_minor": 0
      },
      "text/plain": [
       "Analyzing comments:   0%|          | 0/42 [00:00<?, ?comment/s]"
      ]
     },
     "metadata": {},
     "output_type": "display_data"
    },
    {
     "data": {
      "application/vnd.jupyter.widget-view+json": {
       "model_id": "39083d13b9a243d08236143293c8e257",
       "version_major": 2,
       "version_minor": 0
      },
      "text/plain": [
       "Analyzing comments:   0%|          | 0/2 [00:00<?, ?comment/s]"
      ]
     },
     "metadata": {},
     "output_type": "display_data"
    },
    {
     "data": {
      "application/vnd.jupyter.widget-view+json": {
       "model_id": "b25cbb7ca7514fdda99a4536060ba451",
       "version_major": 2,
       "version_minor": 0
      },
      "text/plain": [
       "Analyzing comments:   0%|          | 0/40 [00:00<?, ?comment/s]"
      ]
     },
     "metadata": {},
     "output_type": "display_data"
    },
    {
     "data": {
      "application/vnd.jupyter.widget-view+json": {
       "model_id": "270a55ff4181464bbecb2479942e1eee",
       "version_major": 2,
       "version_minor": 0
      },
      "text/plain": [
       "Analyzing comments:   0%|          | 0/9 [00:00<?, ?comment/s]"
      ]
     },
     "metadata": {},
     "output_type": "display_data"
    },
    {
     "data": {
      "application/vnd.jupyter.widget-view+json": {
       "model_id": "34b1f6c27c104a5596716a3b5fb3402d",
       "version_major": 2,
       "version_minor": 0
      },
      "text/plain": [
       "Analyzing comments:   0%|          | 0/30 [00:00<?, ?comment/s]"
      ]
     },
     "metadata": {},
     "output_type": "display_data"
    },
    {
     "data": {
      "application/vnd.jupyter.widget-view+json": {
       "model_id": "52459807ceeb4d3db8167179dc6d28aa",
       "version_major": 2,
       "version_minor": 0
      },
      "text/plain": [
       "Analyzing comments:   0%|          | 0/24 [00:00<?, ?comment/s]"
      ]
     },
     "metadata": {},
     "output_type": "display_data"
    },
    {
     "data": {
      "application/vnd.jupyter.widget-view+json": {
       "model_id": "f5c0f72ca0fe457cb61f1206da6d88d2",
       "version_major": 2,
       "version_minor": 0
      },
      "text/plain": [
       "Analyzing comments:   0%|          | 0/41 [00:00<?, ?comment/s]"
      ]
     },
     "metadata": {},
     "output_type": "display_data"
    },
    {
     "data": {
      "application/vnd.jupyter.widget-view+json": {
       "model_id": "206999a147d444e284b7bfad7d8a9ba3",
       "version_major": 2,
       "version_minor": 0
      },
      "text/plain": [
       "Analyzing comments:   0%|          | 0/27 [00:00<?, ?comment/s]"
      ]
     },
     "metadata": {},
     "output_type": "display_data"
    },
    {
     "data": {
      "application/vnd.jupyter.widget-view+json": {
       "model_id": "4e75378355ce430da32724ef30422f17",
       "version_major": 2,
       "version_minor": 0
      },
      "text/plain": [
       "Analyzing comments:   0%|          | 0/17 [00:00<?, ?comment/s]"
      ]
     },
     "metadata": {},
     "output_type": "display_data"
    },
    {
     "data": {
      "application/vnd.jupyter.widget-view+json": {
       "model_id": "52a3771898644918bb314fa53fd31e67",
       "version_major": 2,
       "version_minor": 0
      },
      "text/plain": [
       "Analyzing comments:   0%|          | 0/13 [00:00<?, ?comment/s]"
      ]
     },
     "metadata": {},
     "output_type": "display_data"
    },
    {
     "data": {
      "application/vnd.jupyter.widget-view+json": {
       "model_id": "86d122e7ed4d4dcca896f6f94c0022c8",
       "version_major": 2,
       "version_minor": 0
      },
      "text/plain": [
       "Analyzing comments:   0%|          | 0/38 [00:00<?, ?comment/s]"
      ]
     },
     "metadata": {},
     "output_type": "display_data"
    },
    {
     "data": {
      "application/vnd.jupyter.widget-view+json": {
       "model_id": "aa18b3d52b564b1684d6fc65c88a9c61",
       "version_major": 2,
       "version_minor": 0
      },
      "text/plain": [
       "Analyzing comments:   0%|          | 0/21 [00:00<?, ?comment/s]"
      ]
     },
     "metadata": {},
     "output_type": "display_data"
    },
    {
     "data": {
      "application/vnd.jupyter.widget-view+json": {
       "model_id": "2e38aa320da341bbab4493a3e834dd0f",
       "version_major": 2,
       "version_minor": 0
      },
      "text/plain": [
       "Analyzing comments:   0%|          | 0/8 [00:00<?, ?comment/s]"
      ]
     },
     "metadata": {},
     "output_type": "display_data"
    },
    {
     "data": {
      "application/vnd.jupyter.widget-view+json": {
       "model_id": "cf0d597caa5243269489d87b900d8da6",
       "version_major": 2,
       "version_minor": 0
      },
      "text/plain": [
       "Analyzing comments:   0%|          | 0/15 [00:00<?, ?comment/s]"
      ]
     },
     "metadata": {},
     "output_type": "display_data"
    },
    {
     "data": {
      "application/vnd.jupyter.widget-view+json": {
       "model_id": "8493533e3bb14c34bb2c5afd316a0f72",
       "version_major": 2,
       "version_minor": 0
      },
      "text/plain": [
       "Analyzing comments:   0%|          | 0/36 [00:00<?, ?comment/s]"
      ]
     },
     "metadata": {},
     "output_type": "display_data"
    },
    {
     "data": {
      "application/vnd.jupyter.widget-view+json": {
       "model_id": "2a325354319b4205bddfdc3d5ae546eb",
       "version_major": 2,
       "version_minor": 0
      },
      "text/plain": [
       "Analyzing comments:   0%|          | 0/9 [00:00<?, ?comment/s]"
      ]
     },
     "metadata": {},
     "output_type": "display_data"
    },
    {
     "data": {
      "application/vnd.jupyter.widget-view+json": {
       "model_id": "ae07450695b6414697693e4b3695df37",
       "version_major": 2,
       "version_minor": 0
      },
      "text/plain": [
       "Analyzing comments:   0%|          | 0/21 [00:00<?, ?comment/s]"
      ]
     },
     "metadata": {},
     "output_type": "display_data"
    },
    {
     "data": {
      "application/vnd.jupyter.widget-view+json": {
       "model_id": "6eb42c7f75804b2aa04d433a3d89a578",
       "version_major": 2,
       "version_minor": 0
      },
      "text/plain": [
       "Analyzing comments:   0%|          | 0/40 [00:00<?, ?comment/s]"
      ]
     },
     "metadata": {},
     "output_type": "display_data"
    },
    {
     "data": {
      "application/vnd.jupyter.widget-view+json": {
       "model_id": "0fc28ab66d3148feb2ea3d48d8dcfb0e",
       "version_major": 2,
       "version_minor": 0
      },
      "text/plain": [
       "Analyzing comments:   0%|          | 0/23 [00:00<?, ?comment/s]"
      ]
     },
     "metadata": {},
     "output_type": "display_data"
    },
    {
     "data": {
      "application/vnd.jupyter.widget-view+json": {
       "model_id": "d1e377efbb344a62b40332e5471ce2ce",
       "version_major": 2,
       "version_minor": 0
      },
      "text/plain": [
       "Analyzing comments:   0%|          | 0/38 [00:00<?, ?comment/s]"
      ]
     },
     "metadata": {},
     "output_type": "display_data"
    },
    {
     "data": {
      "application/vnd.jupyter.widget-view+json": {
       "model_id": "1d3093de5b6e47b7b3b79561d26ee140",
       "version_major": 2,
       "version_minor": 0
      },
      "text/plain": [
       "Analyzing comments:   0%|          | 0/60 [00:00<?, ?comment/s]"
      ]
     },
     "metadata": {},
     "output_type": "display_data"
    },
    {
     "data": {
      "application/vnd.jupyter.widget-view+json": {
       "model_id": "c7d2b2189a854823912d9d3a137882e0",
       "version_major": 2,
       "version_minor": 0
      },
      "text/plain": [
       "Analyzing comments:   0%|          | 0/28 [00:00<?, ?comment/s]"
      ]
     },
     "metadata": {},
     "output_type": "display_data"
    },
    {
     "data": {
      "application/vnd.jupyter.widget-view+json": {
       "model_id": "17fa9bef73364a6bb7b7ff49f46f4ab9",
       "version_major": 2,
       "version_minor": 0
      },
      "text/plain": [
       "Analyzing comments:   0%|          | 0/20 [00:00<?, ?comment/s]"
      ]
     },
     "metadata": {},
     "output_type": "display_data"
    },
    {
     "data": {
      "application/vnd.jupyter.widget-view+json": {
       "model_id": "7f1b4716bf874efda40bac9759bffa3e",
       "version_major": 2,
       "version_minor": 0
      },
      "text/plain": [
       "Analyzing comments:   0%|          | 0/15 [00:00<?, ?comment/s]"
      ]
     },
     "metadata": {},
     "output_type": "display_data"
    },
    {
     "data": {
      "application/vnd.jupyter.widget-view+json": {
       "model_id": "3ad2c8093c3d471b80b2012659285a17",
       "version_major": 2,
       "version_minor": 0
      },
      "text/plain": [
       "Analyzing comments:   0%|          | 0/39 [00:00<?, ?comment/s]"
      ]
     },
     "metadata": {},
     "output_type": "display_data"
    },
    {
     "data": {
      "application/vnd.jupyter.widget-view+json": {
       "model_id": "9aa11f6bbbf347e9a6a399ef702de4eb",
       "version_major": 2,
       "version_minor": 0
      },
      "text/plain": [
       "Analyzing comments:   0%|          | 0/9 [00:00<?, ?comment/s]"
      ]
     },
     "metadata": {},
     "output_type": "display_data"
    },
    {
     "data": {
      "application/vnd.jupyter.widget-view+json": {
       "model_id": "5b2c4adb68894929bcce7c0daac17073",
       "version_major": 2,
       "version_minor": 0
      },
      "text/plain": [
       "Analyzing comments:   0%|          | 0/18 [00:00<?, ?comment/s]"
      ]
     },
     "metadata": {},
     "output_type": "display_data"
    },
    {
     "data": {
      "application/vnd.jupyter.widget-view+json": {
       "model_id": "ab4c71628bdd4522b747a83fa3eb6416",
       "version_major": 2,
       "version_minor": 0
      },
      "text/plain": [
       "Analyzing comments:   0%|          | 0/34 [00:00<?, ?comment/s]"
      ]
     },
     "metadata": {},
     "output_type": "display_data"
    },
    {
     "data": {
      "application/vnd.jupyter.widget-view+json": {
       "model_id": "aac95a752caf49f6a8ae9588af5a3cfc",
       "version_major": 2,
       "version_minor": 0
      },
      "text/plain": [
       "Analyzing comments:   0%|          | 0/21 [00:00<?, ?comment/s]"
      ]
     },
     "metadata": {},
     "output_type": "display_data"
    },
    {
     "data": {
      "application/vnd.jupyter.widget-view+json": {
       "model_id": "3e77babf41dc45e695ef0d0dd32e5673",
       "version_major": 2,
       "version_minor": 0
      },
      "text/plain": [
       "Analyzing comments:   0%|          | 0/13 [00:00<?, ?comment/s]"
      ]
     },
     "metadata": {},
     "output_type": "display_data"
    },
    {
     "data": {
      "application/vnd.jupyter.widget-view+json": {
       "model_id": "d7f6a087c3794bef9209f9293332ec71",
       "version_major": 2,
       "version_minor": 0
      },
      "text/plain": [
       "Analyzing comments:   0%|          | 0/9 [00:00<?, ?comment/s]"
      ]
     },
     "metadata": {},
     "output_type": "display_data"
    },
    {
     "data": {
      "application/vnd.jupyter.widget-view+json": {
       "model_id": "7396fbfbce174dfa9b78106c677a2e8a",
       "version_major": 2,
       "version_minor": 0
      },
      "text/plain": [
       "Analyzing comments:   0%|          | 0/2 [00:00<?, ?comment/s]"
      ]
     },
     "metadata": {},
     "output_type": "display_data"
    },
    {
     "data": {
      "application/vnd.jupyter.widget-view+json": {
       "model_id": "b741d5d957454113b72e8e19f43b68a4",
       "version_major": 2,
       "version_minor": 0
      },
      "text/plain": [
       "Analyzing comments:   0%|          | 0/20 [00:00<?, ?comment/s]"
      ]
     },
     "metadata": {},
     "output_type": "display_data"
    },
    {
     "data": {
      "application/vnd.jupyter.widget-view+json": {
       "model_id": "4c1d05a805c94d6da7e2d9e9d6d0342a",
       "version_major": 2,
       "version_minor": 0
      },
      "text/plain": [
       "Analyzing comments:   0%|          | 0/21 [00:00<?, ?comment/s]"
      ]
     },
     "metadata": {},
     "output_type": "display_data"
    },
    {
     "data": {
      "application/vnd.jupyter.widget-view+json": {
       "model_id": "d59c327f747c4949859a23821764d577",
       "version_major": 2,
       "version_minor": 0
      },
      "text/plain": [
       "Analyzing comments:   0%|          | 0/14 [00:00<?, ?comment/s]"
      ]
     },
     "metadata": {},
     "output_type": "display_data"
    },
    {
     "data": {
      "application/vnd.jupyter.widget-view+json": {
       "model_id": "f2252be6e9ce46229e2cf7c1a647143e",
       "version_major": 2,
       "version_minor": 0
      },
      "text/plain": [
       "Analyzing comments:   0%|          | 0/19 [00:00<?, ?comment/s]"
      ]
     },
     "metadata": {},
     "output_type": "display_data"
    },
    {
     "data": {
      "application/vnd.jupyter.widget-view+json": {
       "model_id": "2f4a396e8d8e42bf83b7ab1f824653d3",
       "version_major": 2,
       "version_minor": 0
      },
      "text/plain": [
       "Analyzing comments:   0%|          | 0/13 [00:00<?, ?comment/s]"
      ]
     },
     "metadata": {},
     "output_type": "display_data"
    },
    {
     "data": {
      "application/vnd.jupyter.widget-view+json": {
       "model_id": "46ef0a59e082470d815e05cf5e340f16",
       "version_major": 2,
       "version_minor": 0
      },
      "text/plain": [
       "Analyzing comments:   0%|          | 0/20 [00:00<?, ?comment/s]"
      ]
     },
     "metadata": {},
     "output_type": "display_data"
    },
    {
     "data": {
      "application/vnd.jupyter.widget-view+json": {
       "model_id": "d5f9efd1af854cda82573695f3e825e9",
       "version_major": 2,
       "version_minor": 0
      },
      "text/plain": [
       "Analyzing comments:   0%|          | 0/10 [00:00<?, ?comment/s]"
      ]
     },
     "metadata": {},
     "output_type": "display_data"
    },
    {
     "data": {
      "application/vnd.jupyter.widget-view+json": {
       "model_id": "3677d8fcf3a0467aae5bab2c618182a7",
       "version_major": 2,
       "version_minor": 0
      },
      "text/plain": [
       "Analyzing comments:   0%|          | 0/21 [00:00<?, ?comment/s]"
      ]
     },
     "metadata": {},
     "output_type": "display_data"
    },
    {
     "data": {
      "application/vnd.jupyter.widget-view+json": {
       "model_id": "62cd7e847e7a4f41ada8f84d58ba3b8c",
       "version_major": 2,
       "version_minor": 0
      },
      "text/plain": [
       "Analyzing comments:   0%|          | 0/21 [00:00<?, ?comment/s]"
      ]
     },
     "metadata": {},
     "output_type": "display_data"
    },
    {
     "data": {
      "application/vnd.jupyter.widget-view+json": {
       "model_id": "24c4a3c7a2f84e81a89039fad1ec99e1",
       "version_major": 2,
       "version_minor": 0
      },
      "text/plain": [
       "Analyzing comments:   0%|          | 0/9 [00:00<?, ?comment/s]"
      ]
     },
     "metadata": {},
     "output_type": "display_data"
    },
    {
     "data": {
      "application/vnd.jupyter.widget-view+json": {
       "model_id": "8073a1cbfc874ab3bc1a499b6632c595",
       "version_major": 2,
       "version_minor": 0
      },
      "text/plain": [
       "Analyzing comments:   0%|          | 0/20 [00:00<?, ?comment/s]"
      ]
     },
     "metadata": {},
     "output_type": "display_data"
    },
    {
     "data": {
      "application/vnd.jupyter.widget-view+json": {
       "model_id": "a7fe1531f04247d696da3cc8b47155f2",
       "version_major": 2,
       "version_minor": 0
      },
      "text/plain": [
       "Analyzing comments:   0%|          | 0/8 [00:00<?, ?comment/s]"
      ]
     },
     "metadata": {},
     "output_type": "display_data"
    },
    {
     "data": {
      "application/vnd.jupyter.widget-view+json": {
       "model_id": "74caaddf1cb246b6a35a0bb27552fea3",
       "version_major": 2,
       "version_minor": 0
      },
      "text/plain": [
       "Analyzing comments:   0%|          | 0/22 [00:00<?, ?comment/s]"
      ]
     },
     "metadata": {},
     "output_type": "display_data"
    },
    {
     "data": {
      "application/vnd.jupyter.widget-view+json": {
       "model_id": "49119f2f765b4d3e8888a90eed4a51c5",
       "version_major": 2,
       "version_minor": 0
      },
      "text/plain": [
       "Analyzing comments:   0%|          | 0/18 [00:00<?, ?comment/s]"
      ]
     },
     "metadata": {},
     "output_type": "display_data"
    },
    {
     "data": {
      "application/vnd.jupyter.widget-view+json": {
       "model_id": "deb851c911d34cf8ad5071382ddcad1f",
       "version_major": 2,
       "version_minor": 0
      },
      "text/plain": [
       "Analyzing comments:   0%|          | 0/6 [00:00<?, ?comment/s]"
      ]
     },
     "metadata": {},
     "output_type": "display_data"
    },
    {
     "data": {
      "application/vnd.jupyter.widget-view+json": {
       "model_id": "b6c806c00536453f839a02debdde1ff0",
       "version_major": 2,
       "version_minor": 0
      },
      "text/plain": [
       "Analyzing comments:   0%|          | 0/1 [00:00<?, ?comment/s]"
      ]
     },
     "metadata": {},
     "output_type": "display_data"
    },
    {
     "data": {
      "application/vnd.jupyter.widget-view+json": {
       "model_id": "41d29cab7c1b462c921930debaea5703",
       "version_major": 2,
       "version_minor": 0
      },
      "text/plain": [
       "Analyzing comments:   0%|          | 0/1 [00:00<?, ?comment/s]"
      ]
     },
     "metadata": {},
     "output_type": "display_data"
    },
    {
     "data": {
      "application/vnd.jupyter.widget-view+json": {
       "model_id": "d2a7567ca60a4b458413295e04e8d86e",
       "version_major": 2,
       "version_minor": 0
      },
      "text/plain": [
       "Analyzing comments:   0%|          | 0/1 [00:00<?, ?comment/s]"
      ]
     },
     "metadata": {},
     "output_type": "display_data"
    },
    {
     "data": {
      "application/vnd.jupyter.widget-view+json": {
       "model_id": "b8f976977105485ab5b825be097dd748",
       "version_major": 2,
       "version_minor": 0
      },
      "text/plain": [
       "Analyzing comments:   0%|          | 0/40 [00:00<?, ?comment/s]"
      ]
     },
     "metadata": {},
     "output_type": "display_data"
    },
    {
     "data": {
      "application/vnd.jupyter.widget-view+json": {
       "model_id": "296fa2cdf4684c68adfbc82af43f0940",
       "version_major": 2,
       "version_minor": 0
      },
      "text/plain": [
       "Analyzing comments:   0%|          | 0/28 [00:00<?, ?comment/s]"
      ]
     },
     "metadata": {},
     "output_type": "display_data"
    },
    {
     "data": {
      "application/vnd.jupyter.widget-view+json": {
       "model_id": "27d69ec6050545f58b2f70788a4cf58d",
       "version_major": 2,
       "version_minor": 0
      },
      "text/plain": [
       "Analyzing comments: 0comment [00:00, ?comment/s]"
      ]
     },
     "metadata": {},
     "output_type": "display_data"
    },
    {
     "data": {
      "application/vnd.jupyter.widget-view+json": {
       "model_id": "ddc4973b8bbe4dd2ab36ea3a9f1cc304",
       "version_major": 2,
       "version_minor": 0
      },
      "text/plain": [
       "Analyzing comments:   0%|          | 0/58 [00:00<?, ?comment/s]"
      ]
     },
     "metadata": {},
     "output_type": "display_data"
    },
    {
     "data": {
      "application/vnd.jupyter.widget-view+json": {
       "model_id": "dd8424d4609a46819e2906577629dba1",
       "version_major": 2,
       "version_minor": 0
      },
      "text/plain": [
       "Analyzing comments:   0%|          | 0/24 [00:00<?, ?comment/s]"
      ]
     },
     "metadata": {},
     "output_type": "display_data"
    },
    {
     "data": {
      "application/vnd.jupyter.widget-view+json": {
       "model_id": "bba7c94a76e54afeb354018c5e4d18df",
       "version_major": 2,
       "version_minor": 0
      },
      "text/plain": [
       "Analyzing comments:   0%|          | 0/3 [00:00<?, ?comment/s]"
      ]
     },
     "metadata": {},
     "output_type": "display_data"
    },
    {
     "data": {
      "application/vnd.jupyter.widget-view+json": {
       "model_id": "90ebe0d53bbd46219c7b24db64775bec",
       "version_major": 2,
       "version_minor": 0
      },
      "text/plain": [
       "Analyzing comments:   0%|          | 0/71 [00:00<?, ?comment/s]"
      ]
     },
     "metadata": {},
     "output_type": "display_data"
    },
    {
     "data": {
      "application/vnd.jupyter.widget-view+json": {
       "model_id": "d7e1d4e71a9e45e28b1adef3f1a2a02f",
       "version_major": 2,
       "version_minor": 0
      },
      "text/plain": [
       "Analyzing comments:   0%|          | 0/26 [00:00<?, ?comment/s]"
      ]
     },
     "metadata": {},
     "output_type": "display_data"
    },
    {
     "data": {
      "application/vnd.jupyter.widget-view+json": {
       "model_id": "b0dc26808ca04406bacc232f648aab71",
       "version_major": 2,
       "version_minor": 0
      },
      "text/plain": [
       "Analyzing comments:   0%|          | 0/8 [00:00<?, ?comment/s]"
      ]
     },
     "metadata": {},
     "output_type": "display_data"
    },
    {
     "data": {
      "application/vnd.jupyter.widget-view+json": {
       "model_id": "a5969c4267964664b91ae6a6d97622bb",
       "version_major": 2,
       "version_minor": 0
      },
      "text/plain": [
       "Analyzing comments:   0%|          | 0/17 [00:00<?, ?comment/s]"
      ]
     },
     "metadata": {},
     "output_type": "display_data"
    },
    {
     "data": {
      "application/vnd.jupyter.widget-view+json": {
       "model_id": "0f8d5d3999cd4418ab0db8641d43711e",
       "version_major": 2,
       "version_minor": 0
      },
      "text/plain": [
       "Analyzing comments:   0%|          | 0/4 [00:00<?, ?comment/s]"
      ]
     },
     "metadata": {},
     "output_type": "display_data"
    },
    {
     "data": {
      "application/vnd.jupyter.widget-view+json": {
       "model_id": "a2ac4b7e90854162bd1c7c5966c49403",
       "version_major": 2,
       "version_minor": 0
      },
      "text/plain": [
       "Analyzing comments:   0%|          | 0/9 [00:00<?, ?comment/s]"
      ]
     },
     "metadata": {},
     "output_type": "display_data"
    },
    {
     "data": {
      "application/vnd.jupyter.widget-view+json": {
       "model_id": "91f1df611ae144648a0717f1f89fc404",
       "version_major": 2,
       "version_minor": 0
      },
      "text/plain": [
       "Analyzing comments:   0%|          | 0/38 [00:00<?, ?comment/s]"
      ]
     },
     "metadata": {},
     "output_type": "display_data"
    },
    {
     "data": {
      "application/vnd.jupyter.widget-view+json": {
       "model_id": "0cceb0ff16b74030977c122f445fee12",
       "version_major": 2,
       "version_minor": 0
      },
      "text/plain": [
       "Analyzing comments:   0%|          | 0/2 [00:00<?, ?comment/s]"
      ]
     },
     "metadata": {},
     "output_type": "display_data"
    },
    {
     "data": {
      "application/vnd.jupyter.widget-view+json": {
       "model_id": "4609ea7ca3ca40cab6895a359ea8742e",
       "version_major": 2,
       "version_minor": 0
      },
      "text/plain": [
       "Analyzing comments:   0%|          | 0/16 [00:00<?, ?comment/s]"
      ]
     },
     "metadata": {},
     "output_type": "display_data"
    },
    {
     "data": {
      "application/vnd.jupyter.widget-view+json": {
       "model_id": "b4963ea523ca4685b755bff245ecdbf7",
       "version_major": 2,
       "version_minor": 0
      },
      "text/plain": [
       "Analyzing comments:   0%|          | 0/24 [00:00<?, ?comment/s]"
      ]
     },
     "metadata": {},
     "output_type": "display_data"
    },
    {
     "data": {
      "application/vnd.jupyter.widget-view+json": {
       "model_id": "1387331f99ec473db63a6f84b55f53ed",
       "version_major": 2,
       "version_minor": 0
      },
      "text/plain": [
       "Analyzing comments:   0%|          | 0/9 [00:00<?, ?comment/s]"
      ]
     },
     "metadata": {},
     "output_type": "display_data"
    },
    {
     "data": {
      "application/vnd.jupyter.widget-view+json": {
       "model_id": "6a5f1160970144a4b78d18fdb8e711b2",
       "version_major": 2,
       "version_minor": 0
      },
      "text/plain": [
       "Analyzing comments:   0%|          | 0/39 [00:00<?, ?comment/s]"
      ]
     },
     "metadata": {},
     "output_type": "display_data"
    },
    {
     "data": {
      "application/vnd.jupyter.widget-view+json": {
       "model_id": "789e0869e3c34127a4e8976a0b61a022",
       "version_major": 2,
       "version_minor": 0
      },
      "text/plain": [
       "Analyzing comments:   0%|          | 0/2 [00:00<?, ?comment/s]"
      ]
     },
     "metadata": {},
     "output_type": "display_data"
    },
    {
     "data": {
      "application/vnd.jupyter.widget-view+json": {
       "model_id": "85619964d1a4468b8ab613c545e790b6",
       "version_major": 2,
       "version_minor": 0
      },
      "text/plain": [
       "Analyzing comments:   0%|          | 0/1 [00:00<?, ?comment/s]"
      ]
     },
     "metadata": {},
     "output_type": "display_data"
    },
    {
     "data": {
      "application/vnd.jupyter.widget-view+json": {
       "model_id": "aff434e0e85342358a1530200034329b",
       "version_major": 2,
       "version_minor": 0
      },
      "text/plain": [
       "Analyzing comments:   0%|          | 0/2 [00:00<?, ?comment/s]"
      ]
     },
     "metadata": {},
     "output_type": "display_data"
    },
    {
     "data": {
      "application/vnd.jupyter.widget-view+json": {
       "model_id": "05b414824538498f898ceebd6d3c65fb",
       "version_major": 2,
       "version_minor": 0
      },
      "text/plain": [
       "Analyzing comments:   0%|          | 0/1 [00:00<?, ?comment/s]"
      ]
     },
     "metadata": {},
     "output_type": "display_data"
    },
    {
     "data": {
      "application/vnd.jupyter.widget-view+json": {
       "model_id": "4014e0a040fb4d209b7afb1d5d0b2209",
       "version_major": 2,
       "version_minor": 0
      },
      "text/plain": [
       "Analyzing comments:   0%|          | 0/3 [00:00<?, ?comment/s]"
      ]
     },
     "metadata": {},
     "output_type": "display_data"
    },
    {
     "data": {
      "application/vnd.jupyter.widget-view+json": {
       "model_id": "dd97129379df441f82c628df22bd9920",
       "version_major": 2,
       "version_minor": 0
      },
      "text/plain": [
       "Analyzing comments:   0%|          | 0/6 [00:00<?, ?comment/s]"
      ]
     },
     "metadata": {},
     "output_type": "display_data"
    },
    {
     "data": {
      "application/vnd.jupyter.widget-view+json": {
       "model_id": "73bc4d5cbfbb4f2da22e5bf242bbae79",
       "version_major": 2,
       "version_minor": 0
      },
      "text/plain": [
       "Analyzing comments:   0%|          | 0/1 [00:00<?, ?comment/s]"
      ]
     },
     "metadata": {},
     "output_type": "display_data"
    },
    {
     "data": {
      "application/vnd.jupyter.widget-view+json": {
       "model_id": "c9c450cb172b4e7286f1d0aba3951331",
       "version_major": 2,
       "version_minor": 0
      },
      "text/plain": [
       "Analyzing comments: 0comment [00:00, ?comment/s]"
      ]
     },
     "metadata": {},
     "output_type": "display_data"
    },
    {
     "data": {
      "application/vnd.jupyter.widget-view+json": {
       "model_id": "e8c94b9b7331442980082af397403e37",
       "version_major": 2,
       "version_minor": 0
      },
      "text/plain": [
       "Analyzing comments:   0%|          | 0/3 [00:00<?, ?comment/s]"
      ]
     },
     "metadata": {},
     "output_type": "display_data"
    },
    {
     "data": {
      "application/vnd.jupyter.widget-view+json": {
       "model_id": "2ebea43cf5c04f818c59a76e98b36483",
       "version_major": 2,
       "version_minor": 0
      },
      "text/plain": [
       "Analyzing comments:   0%|          | 0/17 [00:00<?, ?comment/s]"
      ]
     },
     "metadata": {},
     "output_type": "display_data"
    },
    {
     "data": {
      "application/vnd.jupyter.widget-view+json": {
       "model_id": "cb3ce2d203c6465b9ec1af915af33e11",
       "version_major": 2,
       "version_minor": 0
      },
      "text/plain": [
       "Analyzing comments:   0%|          | 0/1 [00:00<?, ?comment/s]"
      ]
     },
     "metadata": {},
     "output_type": "display_data"
    },
    {
     "data": {
      "application/vnd.jupyter.widget-view+json": {
       "model_id": "0d924ebf4e80400daf19f020c98bece3",
       "version_major": 2,
       "version_minor": 0
      },
      "text/plain": [
       "Analyzing comments:   0%|          | 0/33 [00:00<?, ?comment/s]"
      ]
     },
     "metadata": {},
     "output_type": "display_data"
    },
    {
     "data": {
      "application/vnd.jupyter.widget-view+json": {
       "model_id": "0a388143f43246d3b1528452c0362c8b",
       "version_major": 2,
       "version_minor": 0
      },
      "text/plain": [
       "Analyzing comments:   0%|          | 0/41 [00:00<?, ?comment/s]"
      ]
     },
     "metadata": {},
     "output_type": "display_data"
    },
    {
     "data": {
      "application/vnd.jupyter.widget-view+json": {
       "model_id": "e221a0df77e749cf94002ceab11d568e",
       "version_major": 2,
       "version_minor": 0
      },
      "text/plain": [
       "Analyzing comments:   0%|          | 0/5 [00:00<?, ?comment/s]"
      ]
     },
     "metadata": {},
     "output_type": "display_data"
    },
    {
     "data": {
      "application/vnd.jupyter.widget-view+json": {
       "model_id": "3d1c439d3a8a4491925f745a383f43be",
       "version_major": 2,
       "version_minor": 0
      },
      "text/plain": [
       "Analyzing comments:   0%|          | 0/36 [00:00<?, ?comment/s]"
      ]
     },
     "metadata": {},
     "output_type": "display_data"
    },
    {
     "data": {
      "application/vnd.jupyter.widget-view+json": {
       "model_id": "cdf7a3f1154f4d159a7a6b6205c66a1c",
       "version_major": 2,
       "version_minor": 0
      },
      "text/plain": [
       "Analyzing comments:   0%|          | 0/32 [00:00<?, ?comment/s]"
      ]
     },
     "metadata": {},
     "output_type": "display_data"
    },
    {
     "data": {
      "application/vnd.jupyter.widget-view+json": {
       "model_id": "0482557093a14eb0a29b9faa58bc6338",
       "version_major": 2,
       "version_minor": 0
      },
      "text/plain": [
       "Analyzing comments:   0%|          | 0/53 [00:00<?, ?comment/s]"
      ]
     },
     "metadata": {},
     "output_type": "display_data"
    },
    {
     "data": {
      "application/vnd.jupyter.widget-view+json": {
       "model_id": "d252908def6545db9887604643ec9942",
       "version_major": 2,
       "version_minor": 0
      },
      "text/plain": [
       "Analyzing comments:   0%|          | 0/21 [00:00<?, ?comment/s]"
      ]
     },
     "metadata": {},
     "output_type": "display_data"
    },
    {
     "data": {
      "application/vnd.jupyter.widget-view+json": {
       "model_id": "3fe5be1389594c3eb41280d2553b137a",
       "version_major": 2,
       "version_minor": 0
      },
      "text/plain": [
       "Analyzing comments:   0%|          | 0/9 [00:00<?, ?comment/s]"
      ]
     },
     "metadata": {},
     "output_type": "display_data"
    },
    {
     "data": {
      "application/vnd.jupyter.widget-view+json": {
       "model_id": "9d22d9f2705d4d87b524d16d34e44f01",
       "version_major": 2,
       "version_minor": 0
      },
      "text/plain": [
       "Analyzing comments:   0%|          | 0/17 [00:00<?, ?comment/s]"
      ]
     },
     "metadata": {},
     "output_type": "display_data"
    },
    {
     "data": {
      "application/vnd.jupyter.widget-view+json": {
       "model_id": "f30f99341d6344a6908652ce68d579af",
       "version_major": 2,
       "version_minor": 0
      },
      "text/plain": [
       "Analyzing comments:   0%|          | 0/1 [00:00<?, ?comment/s]"
      ]
     },
     "metadata": {},
     "output_type": "display_data"
    },
    {
     "data": {
      "application/vnd.jupyter.widget-view+json": {
       "model_id": "1fdd5ece8a1b49c5bf196338668c66a8",
       "version_major": 2,
       "version_minor": 0
      },
      "text/plain": [
       "Analyzing comments:   0%|          | 0/2 [00:00<?, ?comment/s]"
      ]
     },
     "metadata": {},
     "output_type": "display_data"
    },
    {
     "data": {
      "application/vnd.jupyter.widget-view+json": {
       "model_id": "91b105dd138746f2a6229ab293cce45d",
       "version_major": 2,
       "version_minor": 0
      },
      "text/plain": [
       "Analyzing comments:   0%|          | 0/41 [00:00<?, ?comment/s]"
      ]
     },
     "metadata": {},
     "output_type": "display_data"
    },
    {
     "data": {
      "application/vnd.jupyter.widget-view+json": {
       "model_id": "566ce41fd48f46f89b267b8b06af188d",
       "version_major": 2,
       "version_minor": 0
      },
      "text/plain": [
       "Analyzing comments:   0%|          | 0/37 [00:00<?, ?comment/s]"
      ]
     },
     "metadata": {},
     "output_type": "display_data"
    },
    {
     "data": {
      "application/vnd.jupyter.widget-view+json": {
       "model_id": "127ec8bb44c8461e8caae91c737fd440",
       "version_major": 2,
       "version_minor": 0
      },
      "text/plain": [
       "Analyzing comments:   0%|          | 0/5 [00:00<?, ?comment/s]"
      ]
     },
     "metadata": {},
     "output_type": "display_data"
    },
    {
     "data": {
      "application/vnd.jupyter.widget-view+json": {
       "model_id": "e88f969d46ed4ffb98e08e8875de22dc",
       "version_major": 2,
       "version_minor": 0
      },
      "text/plain": [
       "Analyzing comments:   0%|          | 0/41 [00:00<?, ?comment/s]"
      ]
     },
     "metadata": {},
     "output_type": "display_data"
    },
    {
     "data": {
      "application/vnd.jupyter.widget-view+json": {
       "model_id": "6cde5097d34b46d4824ed8a32e4cda39",
       "version_major": 2,
       "version_minor": 0
      },
      "text/plain": [
       "Analyzing comments:   0%|          | 0/12 [00:00<?, ?comment/s]"
      ]
     },
     "metadata": {},
     "output_type": "display_data"
    },
    {
     "data": {
      "application/vnd.jupyter.widget-view+json": {
       "model_id": "1d0f0d128acc4f57b234aeea323fa59b",
       "version_major": 2,
       "version_minor": 0
      },
      "text/plain": [
       "Analyzing comments:   0%|          | 0/1 [00:00<?, ?comment/s]"
      ]
     },
     "metadata": {},
     "output_type": "display_data"
    },
    {
     "data": {
      "application/vnd.jupyter.widget-view+json": {
       "model_id": "74b3fb8a1d2a47a1909904274ce69fcf",
       "version_major": 2,
       "version_minor": 0
      },
      "text/plain": [
       "Analyzing comments:   0%|          | 0/34 [00:00<?, ?comment/s]"
      ]
     },
     "metadata": {},
     "output_type": "display_data"
    },
    {
     "data": {
      "application/vnd.jupyter.widget-view+json": {
       "model_id": "4f002b50ad8b46ebb21197cbe69978bf",
       "version_major": 2,
       "version_minor": 0
      },
      "text/plain": [
       "Analyzing comments:   0%|          | 0/18 [00:00<?, ?comment/s]"
      ]
     },
     "metadata": {},
     "output_type": "display_data"
    },
    {
     "data": {
      "application/vnd.jupyter.widget-view+json": {
       "model_id": "8cac4c2c20014800a634a1d10ada574b",
       "version_major": 2,
       "version_minor": 0
      },
      "text/plain": [
       "Analyzing comments:   0%|          | 0/2 [00:00<?, ?comment/s]"
      ]
     },
     "metadata": {},
     "output_type": "display_data"
    },
    {
     "data": {
      "application/vnd.jupyter.widget-view+json": {
       "model_id": "d5201344436a4e5e83e5118fcd9258d9",
       "version_major": 2,
       "version_minor": 0
      },
      "text/plain": [
       "Analyzing comments:   0%|          | 0/43 [00:00<?, ?comment/s]"
      ]
     },
     "metadata": {},
     "output_type": "display_data"
    },
    {
     "data": {
      "application/vnd.jupyter.widget-view+json": {
       "model_id": "3a6054d4ebdc4479bd0999dfaba9ba68",
       "version_major": 2,
       "version_minor": 0
      },
      "text/plain": [
       "Analyzing comments:   0%|          | 0/36 [00:00<?, ?comment/s]"
      ]
     },
     "metadata": {},
     "output_type": "display_data"
    },
    {
     "data": {
      "application/vnd.jupyter.widget-view+json": {
       "model_id": "823e669648954bf2875fe729add257d1",
       "version_major": 2,
       "version_minor": 0
      },
      "text/plain": [
       "Analyzing comments:   0%|          | 0/37 [00:00<?, ?comment/s]"
      ]
     },
     "metadata": {},
     "output_type": "display_data"
    },
    {
     "data": {
      "application/vnd.jupyter.widget-view+json": {
       "model_id": "bb52cfaa37ea486ea5e22e969ab8f06e",
       "version_major": 2,
       "version_minor": 0
      },
      "text/plain": [
       "Analyzing comments:   0%|          | 0/41 [00:00<?, ?comment/s]"
      ]
     },
     "metadata": {},
     "output_type": "display_data"
    },
    {
     "data": {
      "application/vnd.jupyter.widget-view+json": {
       "model_id": "b98e58ec05f545749f4176ab442aa9df",
       "version_major": 2,
       "version_minor": 0
      },
      "text/plain": [
       "Analyzing comments:   0%|          | 0/1 [00:00<?, ?comment/s]"
      ]
     },
     "metadata": {},
     "output_type": "display_data"
    },
    {
     "data": {
      "application/vnd.jupyter.widget-view+json": {
       "model_id": "09c1431597db4968bfacfeaf695022e3",
       "version_major": 2,
       "version_minor": 0
      },
      "text/plain": [
       "Analyzing comments:   0%|          | 0/36 [00:00<?, ?comment/s]"
      ]
     },
     "metadata": {},
     "output_type": "display_data"
    },
    {
     "data": {
      "application/vnd.jupyter.widget-view+json": {
       "model_id": "27b9e792525947a49b7ed5399e45cc0f",
       "version_major": 2,
       "version_minor": 0
      },
      "text/plain": [
       "Analyzing comments:   0%|          | 0/39 [00:00<?, ?comment/s]"
      ]
     },
     "metadata": {},
     "output_type": "display_data"
    },
    {
     "data": {
      "application/vnd.jupyter.widget-view+json": {
       "model_id": "e962bf59ae3b4d949e34f7758c8095f3",
       "version_major": 2,
       "version_minor": 0
      },
      "text/plain": [
       "Analyzing comments:   0%|          | 0/36 [00:00<?, ?comment/s]"
      ]
     },
     "metadata": {},
     "output_type": "display_data"
    },
    {
     "data": {
      "application/vnd.jupyter.widget-view+json": {
       "model_id": "b266125e29c442cfb033af55317ba35b",
       "version_major": 2,
       "version_minor": 0
      },
      "text/plain": [
       "Analyzing comments:   0%|          | 0/60 [00:00<?, ?comment/s]"
      ]
     },
     "metadata": {},
     "output_type": "display_data"
    },
    {
     "data": {
      "application/vnd.jupyter.widget-view+json": {
       "model_id": "bd544731dd144200a0362f7dc827a920",
       "version_major": 2,
       "version_minor": 0
      },
      "text/plain": [
       "Analyzing comments:   0%|          | 0/7 [00:00<?, ?comment/s]"
      ]
     },
     "metadata": {},
     "output_type": "display_data"
    },
    {
     "data": {
      "application/vnd.jupyter.widget-view+json": {
       "model_id": "3ba15f00a3124263bf4809969d2f59bd",
       "version_major": 2,
       "version_minor": 0
      },
      "text/plain": [
       "Analyzing comments:   0%|          | 0/9 [00:00<?, ?comment/s]"
      ]
     },
     "metadata": {},
     "output_type": "display_data"
    },
    {
     "data": {
      "application/vnd.jupyter.widget-view+json": {
       "model_id": "008b2f9e1bb041d8b0cdf293489e9043",
       "version_major": 2,
       "version_minor": 0
      },
      "text/plain": [
       "Analyzing comments:   0%|          | 0/2 [00:00<?, ?comment/s]"
      ]
     },
     "metadata": {},
     "output_type": "display_data"
    },
    {
     "data": {
      "application/vnd.jupyter.widget-view+json": {
       "model_id": "5ac7c0cabd8641fc8aee40b477806920",
       "version_major": 2,
       "version_minor": 0
      },
      "text/plain": [
       "Analyzing comments:   0%|          | 0/8 [00:00<?, ?comment/s]"
      ]
     },
     "metadata": {},
     "output_type": "display_data"
    },
    {
     "data": {
      "application/vnd.jupyter.widget-view+json": {
       "model_id": "f4aeeec98fa445f89984693238178b0d",
       "version_major": 2,
       "version_minor": 0
      },
      "text/plain": [
       "Analyzing comments:   0%|          | 0/43 [00:00<?, ?comment/s]"
      ]
     },
     "metadata": {},
     "output_type": "display_data"
    },
    {
     "data": {
      "application/vnd.jupyter.widget-view+json": {
       "model_id": "b4d3329fb0e647bd92a084835ff1ec28",
       "version_major": 2,
       "version_minor": 0
      },
      "text/plain": [
       "Analyzing comments:   0%|          | 0/48 [00:00<?, ?comment/s]"
      ]
     },
     "metadata": {},
     "output_type": "display_data"
    },
    {
     "data": {
      "application/vnd.jupyter.widget-view+json": {
       "model_id": "312d56db82d1457f92a176770bbf58d2",
       "version_major": 2,
       "version_minor": 0
      },
      "text/plain": [
       "Analyzing comments:   0%|          | 0/24 [00:00<?, ?comment/s]"
      ]
     },
     "metadata": {},
     "output_type": "display_data"
    },
    {
     "data": {
      "application/vnd.jupyter.widget-view+json": {
       "model_id": "b49edc1221804688a07bce1ccd7c22a3",
       "version_major": 2,
       "version_minor": 0
      },
      "text/plain": [
       "Analyzing comments:   0%|          | 0/33 [00:00<?, ?comment/s]"
      ]
     },
     "metadata": {},
     "output_type": "display_data"
    },
    {
     "data": {
      "application/vnd.jupyter.widget-view+json": {
       "model_id": "92ab73e781c6425f983565a062feb869",
       "version_major": 2,
       "version_minor": 0
      },
      "text/plain": [
       "Analyzing comments:   0%|          | 0/37 [00:00<?, ?comment/s]"
      ]
     },
     "metadata": {},
     "output_type": "display_data"
    },
    {
     "data": {
      "application/vnd.jupyter.widget-view+json": {
       "model_id": "2046e452af554c679da026c009bb0eea",
       "version_major": 2,
       "version_minor": 0
      },
      "text/plain": [
       "Analyzing comments:   0%|          | 0/16 [00:00<?, ?comment/s]"
      ]
     },
     "metadata": {},
     "output_type": "display_data"
    },
    {
     "data": {
      "application/vnd.jupyter.widget-view+json": {
       "model_id": "b422a1cd8e5b44ba9d94308cbd21452e",
       "version_major": 2,
       "version_minor": 0
      },
      "text/plain": [
       "Analyzing comments:   0%|          | 0/38 [00:00<?, ?comment/s]"
      ]
     },
     "metadata": {},
     "output_type": "display_data"
    },
    {
     "data": {
      "application/vnd.jupyter.widget-view+json": {
       "model_id": "629fc3cbfa3149319ae839cad80b2fcc",
       "version_major": 2,
       "version_minor": 0
      },
      "text/plain": [
       "Analyzing comments:   0%|          | 0/11 [00:00<?, ?comment/s]"
      ]
     },
     "metadata": {},
     "output_type": "display_data"
    },
    {
     "data": {
      "application/vnd.jupyter.widget-view+json": {
       "model_id": "f8337b9e42634ee08d60658867a86ba4",
       "version_major": 2,
       "version_minor": 0
      },
      "text/plain": [
       "Analyzing comments:   0%|          | 0/41 [00:00<?, ?comment/s]"
      ]
     },
     "metadata": {},
     "output_type": "display_data"
    },
    {
     "data": {
      "application/vnd.jupyter.widget-view+json": {
       "model_id": "db20edbe05ac41b28d2ace2d69741b70",
       "version_major": 2,
       "version_minor": 0
      },
      "text/plain": [
       "Analyzing comments:   0%|          | 0/26 [00:00<?, ?comment/s]"
      ]
     },
     "metadata": {},
     "output_type": "display_data"
    },
    {
     "data": {
      "application/vnd.jupyter.widget-view+json": {
       "model_id": "277780f0ed7541929ee828f8cb942020",
       "version_major": 2,
       "version_minor": 0
      },
      "text/plain": [
       "Analyzing comments:   0%|          | 0/4 [00:00<?, ?comment/s]"
      ]
     },
     "metadata": {},
     "output_type": "display_data"
    },
    {
     "data": {
      "application/vnd.jupyter.widget-view+json": {
       "model_id": "2416f7e6d2854de18ab92bca0ef5fb00",
       "version_major": 2,
       "version_minor": 0
      },
      "text/plain": [
       "Analyzing comments:   0%|          | 0/9 [00:00<?, ?comment/s]"
      ]
     },
     "metadata": {},
     "output_type": "display_data"
    },
    {
     "data": {
      "application/vnd.jupyter.widget-view+json": {
       "model_id": "fd390fe62b104a3e9294b671d4266750",
       "version_major": 2,
       "version_minor": 0
      },
      "text/plain": [
       "Analyzing comments:   0%|          | 0/15 [00:00<?, ?comment/s]"
      ]
     },
     "metadata": {},
     "output_type": "display_data"
    },
    {
     "data": {
      "application/vnd.jupyter.widget-view+json": {
       "model_id": "0439239d942b43bdb67e4843329c37b9",
       "version_major": 2,
       "version_minor": 0
      },
      "text/plain": [
       "Analyzing comments:   0%|          | 0/11 [00:00<?, ?comment/s]"
      ]
     },
     "metadata": {},
     "output_type": "display_data"
    },
    {
     "data": {
      "application/vnd.jupyter.widget-view+json": {
       "model_id": "628d2d7ce18f46dda2b7081396ee927e",
       "version_major": 2,
       "version_minor": 0
      },
      "text/plain": [
       "Analyzing comments:   0%|          | 0/3 [00:00<?, ?comment/s]"
      ]
     },
     "metadata": {},
     "output_type": "display_data"
    },
    {
     "data": {
      "application/vnd.jupyter.widget-view+json": {
       "model_id": "648be11af6cb49b580df574b28edb77e",
       "version_major": 2,
       "version_minor": 0
      },
      "text/plain": [
       "Analyzing comments:   0%|          | 0/12 [00:00<?, ?comment/s]"
      ]
     },
     "metadata": {},
     "output_type": "display_data"
    },
    {
     "data": {
      "application/vnd.jupyter.widget-view+json": {
       "model_id": "9970ba64820947288216fe7d37304dec",
       "version_major": 2,
       "version_minor": 0
      },
      "text/plain": [
       "Analyzing comments:   0%|          | 0/2 [00:00<?, ?comment/s]"
      ]
     },
     "metadata": {},
     "output_type": "display_data"
    },
    {
     "data": {
      "application/vnd.jupyter.widget-view+json": {
       "model_id": "30cd9590bda448a294d03646d6e89a33",
       "version_major": 2,
       "version_minor": 0
      },
      "text/plain": [
       "Analyzing comments:   0%|          | 0/1 [00:00<?, ?comment/s]"
      ]
     },
     "metadata": {},
     "output_type": "display_data"
    },
    {
     "data": {
      "application/vnd.jupyter.widget-view+json": {
       "model_id": "6f1fba613fd044e48afbcbfad08939ff",
       "version_major": 2,
       "version_minor": 0
      },
      "text/plain": [
       "Analyzing comments:   0%|          | 0/25 [00:00<?, ?comment/s]"
      ]
     },
     "metadata": {},
     "output_type": "display_data"
    },
    {
     "data": {
      "application/vnd.jupyter.widget-view+json": {
       "model_id": "91607f9a53f34a2a9861518d349dea26",
       "version_major": 2,
       "version_minor": 0
      },
      "text/plain": [
       "Analyzing comments:   0%|          | 0/37 [00:00<?, ?comment/s]"
      ]
     },
     "metadata": {},
     "output_type": "display_data"
    },
    {
     "data": {
      "application/vnd.jupyter.widget-view+json": {
       "model_id": "4437d344e1f54f198cf2769492593dc1",
       "version_major": 2,
       "version_minor": 0
      },
      "text/plain": [
       "Analyzing comments:   0%|          | 0/32 [00:00<?, ?comment/s]"
      ]
     },
     "metadata": {},
     "output_type": "display_data"
    },
    {
     "data": {
      "application/vnd.jupyter.widget-view+json": {
       "model_id": "1debab5ac448461b81f41240990f666f",
       "version_major": 2,
       "version_minor": 0
      },
      "text/plain": [
       "Analyzing comments:   0%|          | 0/22 [00:00<?, ?comment/s]"
      ]
     },
     "metadata": {},
     "output_type": "display_data"
    },
    {
     "data": {
      "application/vnd.jupyter.widget-view+json": {
       "model_id": "531bdf1df4d040169580a17f532aa99a",
       "version_major": 2,
       "version_minor": 0
      },
      "text/plain": [
       "Analyzing comments:   0%|          | 0/11 [00:00<?, ?comment/s]"
      ]
     },
     "metadata": {},
     "output_type": "display_data"
    },
    {
     "data": {
      "application/vnd.jupyter.widget-view+json": {
       "model_id": "e3a39394fcb64ebc9888860ed171a035",
       "version_major": 2,
       "version_minor": 0
      },
      "text/plain": [
       "Analyzing comments:   0%|          | 0/59 [00:00<?, ?comment/s]"
      ]
     },
     "metadata": {},
     "output_type": "display_data"
    },
    {
     "data": {
      "application/vnd.jupyter.widget-view+json": {
       "model_id": "d71f57c2443e4484a2cbfefcc9e35f5a",
       "version_major": 2,
       "version_minor": 0
      },
      "text/plain": [
       "Analyzing comments:   0%|          | 0/35 [00:00<?, ?comment/s]"
      ]
     },
     "metadata": {},
     "output_type": "display_data"
    },
    {
     "data": {
      "application/vnd.jupyter.widget-view+json": {
       "model_id": "a86776a480ba4ca5875c50c57f799ecb",
       "version_major": 2,
       "version_minor": 0
      },
      "text/plain": [
       "Analyzing comments:   0%|          | 0/29 [00:00<?, ?comment/s]"
      ]
     },
     "metadata": {},
     "output_type": "display_data"
    },
    {
     "data": {
      "application/vnd.jupyter.widget-view+json": {
       "model_id": "f2913ec2dd344cf0a4d841fe834c606e",
       "version_major": 2,
       "version_minor": 0
      },
      "text/plain": [
       "Analyzing comments:   0%|          | 0/8 [00:00<?, ?comment/s]"
      ]
     },
     "metadata": {},
     "output_type": "display_data"
    },
    {
     "data": {
      "application/vnd.jupyter.widget-view+json": {
       "model_id": "f46a2beee33c487ab2b5e8301303d01f",
       "version_major": 2,
       "version_minor": 0
      },
      "text/plain": [
       "Analyzing comments:   0%|          | 0/4 [00:00<?, ?comment/s]"
      ]
     },
     "metadata": {},
     "output_type": "display_data"
    },
    {
     "data": {
      "application/vnd.jupyter.widget-view+json": {
       "model_id": "91f87b2e53f245dbbba1670971660f5a",
       "version_major": 2,
       "version_minor": 0
      },
      "text/plain": [
       "Analyzing comments:   0%|          | 0/5 [00:00<?, ?comment/s]"
      ]
     },
     "metadata": {},
     "output_type": "display_data"
    },
    {
     "data": {
      "application/vnd.jupyter.widget-view+json": {
       "model_id": "ba00b93254384e98824368fde4605cc8",
       "version_major": 2,
       "version_minor": 0
      },
      "text/plain": [
       "Analyzing comments:   0%|          | 0/2 [00:00<?, ?comment/s]"
      ]
     },
     "metadata": {},
     "output_type": "display_data"
    },
    {
     "data": {
      "application/vnd.jupyter.widget-view+json": {
       "model_id": "90af8791eba742fbbf1cf6944d25f85f",
       "version_major": 2,
       "version_minor": 0
      },
      "text/plain": [
       "Analyzing comments:   0%|          | 0/21 [00:00<?, ?comment/s]"
      ]
     },
     "metadata": {},
     "output_type": "display_data"
    },
    {
     "data": {
      "application/vnd.jupyter.widget-view+json": {
       "model_id": "fcdbbd6d1c4d46d8a9a40312b33b9e5a",
       "version_major": 2,
       "version_minor": 0
      },
      "text/plain": [
       "Analyzing comments:   0%|          | 0/29 [00:00<?, ?comment/s]"
      ]
     },
     "metadata": {},
     "output_type": "display_data"
    },
    {
     "data": {
      "application/vnd.jupyter.widget-view+json": {
       "model_id": "d6fd492f1d01434bb3eced85e422b7e4",
       "version_major": 2,
       "version_minor": 0
      },
      "text/plain": [
       "Analyzing comments:   0%|          | 0/1 [00:00<?, ?comment/s]"
      ]
     },
     "metadata": {},
     "output_type": "display_data"
    },
    {
     "data": {
      "application/vnd.jupyter.widget-view+json": {
       "model_id": "0c74e154e0b842f2a454c04a3f16fc20",
       "version_major": 2,
       "version_minor": 0
      },
      "text/plain": [
       "Analyzing comments:   0%|          | 0/3 [00:00<?, ?comment/s]"
      ]
     },
     "metadata": {},
     "output_type": "display_data"
    },
    {
     "data": {
      "application/vnd.jupyter.widget-view+json": {
       "model_id": "5d2cd48314de4afd83e222785e30f772",
       "version_major": 2,
       "version_minor": 0
      },
      "text/plain": [
       "Analyzing comments:   0%|          | 0/6 [00:00<?, ?comment/s]"
      ]
     },
     "metadata": {},
     "output_type": "display_data"
    },
    {
     "data": {
      "application/vnd.jupyter.widget-view+json": {
       "model_id": "aa0b907e06a14cf9a0868ce4a26643b3",
       "version_major": 2,
       "version_minor": 0
      },
      "text/plain": [
       "Analyzing comments:   0%|          | 0/2 [00:00<?, ?comment/s]"
      ]
     },
     "metadata": {},
     "output_type": "display_data"
    },
    {
     "data": {
      "application/vnd.jupyter.widget-view+json": {
       "model_id": "7b6443cbc9b24e0fa3f6ddf14bf36c08",
       "version_major": 2,
       "version_minor": 0
      },
      "text/plain": [
       "Analyzing comments:   0%|          | 0/38 [00:00<?, ?comment/s]"
      ]
     },
     "metadata": {},
     "output_type": "display_data"
    },
    {
     "data": {
      "application/vnd.jupyter.widget-view+json": {
       "model_id": "7c89ac854a3c4eec8f9d255002d9d49a",
       "version_major": 2,
       "version_minor": 0
      },
      "text/plain": [
       "Analyzing comments:   0%|          | 0/6 [00:00<?, ?comment/s]"
      ]
     },
     "metadata": {},
     "output_type": "display_data"
    },
    {
     "data": {
      "application/vnd.jupyter.widget-view+json": {
       "model_id": "355c844c70db432d9d03dfe86142db53",
       "version_major": 2,
       "version_minor": 0
      },
      "text/plain": [
       "Analyzing comments:   0%|          | 0/21 [00:00<?, ?comment/s]"
      ]
     },
     "metadata": {},
     "output_type": "display_data"
    },
    {
     "data": {
      "application/vnd.jupyter.widget-view+json": {
       "model_id": "a5fecf1045ee46f48a1203b3e14c45d9",
       "version_major": 2,
       "version_minor": 0
      },
      "text/plain": [
       "Analyzing comments:   0%|          | 0/2 [00:00<?, ?comment/s]"
      ]
     },
     "metadata": {},
     "output_type": "display_data"
    },
    {
     "data": {
      "application/vnd.jupyter.widget-view+json": {
       "model_id": "1c6f849e7888444baac4b2f19e4225f8",
       "version_major": 2,
       "version_minor": 0
      },
      "text/plain": [
       "Analyzing comments:   0%|          | 0/4 [00:00<?, ?comment/s]"
      ]
     },
     "metadata": {},
     "output_type": "display_data"
    },
    {
     "data": {
      "application/vnd.jupyter.widget-view+json": {
       "model_id": "d94d2947de0d40eaa9a99fba010ea4ab",
       "version_major": 2,
       "version_minor": 0
      },
      "text/plain": [
       "Analyzing comments:   0%|          | 0/31 [00:00<?, ?comment/s]"
      ]
     },
     "metadata": {},
     "output_type": "display_data"
    },
    {
     "data": {
      "application/vnd.jupyter.widget-view+json": {
       "model_id": "281b8c07e94f4d1ba63021d6adaffe54",
       "version_major": 2,
       "version_minor": 0
      },
      "text/plain": [
       "Analyzing comments:   0%|          | 0/37 [00:00<?, ?comment/s]"
      ]
     },
     "metadata": {},
     "output_type": "display_data"
    },
    {
     "data": {
      "application/vnd.jupyter.widget-view+json": {
       "model_id": "6dc807a56421446488573854a2fbbd27",
       "version_major": 2,
       "version_minor": 0
      },
      "text/plain": [
       "Analyzing comments:   0%|          | 0/15 [00:00<?, ?comment/s]"
      ]
     },
     "metadata": {},
     "output_type": "display_data"
    },
    {
     "data": {
      "application/vnd.jupyter.widget-view+json": {
       "model_id": "34b987ea3bd94cf3862431928b036053",
       "version_major": 2,
       "version_minor": 0
      },
      "text/plain": [
       "Analyzing comments:   0%|          | 0/7 [00:00<?, ?comment/s]"
      ]
     },
     "metadata": {},
     "output_type": "display_data"
    },
    {
     "data": {
      "application/vnd.jupyter.widget-view+json": {
       "model_id": "cd81d94ce03e4cda813d327f3263b3c4",
       "version_major": 2,
       "version_minor": 0
      },
      "text/plain": [
       "Analyzing comments:   0%|          | 0/2 [00:00<?, ?comment/s]"
      ]
     },
     "metadata": {},
     "output_type": "display_data"
    },
    {
     "data": {
      "application/vnd.jupyter.widget-view+json": {
       "model_id": "fd8e26bf40254bce8fa025678604e04a",
       "version_major": 2,
       "version_minor": 0
      },
      "text/plain": [
       "Analyzing comments:   0%|          | 0/8 [00:00<?, ?comment/s]"
      ]
     },
     "metadata": {},
     "output_type": "display_data"
    },
    {
     "data": {
      "application/vnd.jupyter.widget-view+json": {
       "model_id": "ff10da6ccbed40dfa79650ebfb65e79c",
       "version_major": 2,
       "version_minor": 0
      },
      "text/plain": [
       "Analyzing comments:   0%|          | 0/31 [00:00<?, ?comment/s]"
      ]
     },
     "metadata": {},
     "output_type": "display_data"
    },
    {
     "data": {
      "application/vnd.jupyter.widget-view+json": {
       "model_id": "0e8185fe112c4995910a0a495d5949f0",
       "version_major": 2,
       "version_minor": 0
      },
      "text/plain": [
       "Analyzing comments:   0%|          | 0/11 [00:00<?, ?comment/s]"
      ]
     },
     "metadata": {},
     "output_type": "display_data"
    },
    {
     "data": {
      "application/vnd.jupyter.widget-view+json": {
       "model_id": "344fc71063d142a785a74d498e23f78c",
       "version_major": 2,
       "version_minor": 0
      },
      "text/plain": [
       "Analyzing comments:   0%|          | 0/19 [00:00<?, ?comment/s]"
      ]
     },
     "metadata": {},
     "output_type": "display_data"
    },
    {
     "data": {
      "application/vnd.jupyter.widget-view+json": {
       "model_id": "88ce3b470894408ea1f0a31522706723",
       "version_major": 2,
       "version_minor": 0
      },
      "text/plain": [
       "Analyzing comments:   0%|          | 0/37 [00:00<?, ?comment/s]"
      ]
     },
     "metadata": {},
     "output_type": "display_data"
    },
    {
     "data": {
      "application/vnd.jupyter.widget-view+json": {
       "model_id": "5f37699011c345cfaf83468f04bdc70b",
       "version_major": 2,
       "version_minor": 0
      },
      "text/plain": [
       "Analyzing comments:   0%|          | 0/38 [00:00<?, ?comment/s]"
      ]
     },
     "metadata": {},
     "output_type": "display_data"
    },
    {
     "data": {
      "application/vnd.jupyter.widget-view+json": {
       "model_id": "3e9c2af1df0a483697c550379dbdd762",
       "version_major": 2,
       "version_minor": 0
      },
      "text/plain": [
       "Analyzing comments:   0%|          | 0/9 [00:00<?, ?comment/s]"
      ]
     },
     "metadata": {},
     "output_type": "display_data"
    },
    {
     "data": {
      "application/vnd.jupyter.widget-view+json": {
       "model_id": "6c78fb8f779740a7b2b7444dd33734be",
       "version_major": 2,
       "version_minor": 0
      },
      "text/plain": [
       "Analyzing comments:   0%|          | 0/30 [00:00<?, ?comment/s]"
      ]
     },
     "metadata": {},
     "output_type": "display_data"
    },
    {
     "data": {
      "application/vnd.jupyter.widget-view+json": {
       "model_id": "725843d722454a48aeff0bd7e4fcf47b",
       "version_major": 2,
       "version_minor": 0
      },
      "text/plain": [
       "Analyzing comments:   0%|          | 0/39 [00:00<?, ?comment/s]"
      ]
     },
     "metadata": {},
     "output_type": "display_data"
    },
    {
     "data": {
      "application/vnd.jupyter.widget-view+json": {
       "model_id": "86d4a05c0f2c418fade5d2c5bd406973",
       "version_major": 2,
       "version_minor": 0
      },
      "text/plain": [
       "Analyzing comments:   0%|          | 0/6 [00:00<?, ?comment/s]"
      ]
     },
     "metadata": {},
     "output_type": "display_data"
    },
    {
     "data": {
      "application/vnd.jupyter.widget-view+json": {
       "model_id": "28ec491aa54844d687b0c0ec9fda237d",
       "version_major": 2,
       "version_minor": 0
      },
      "text/plain": [
       "Analyzing comments:   0%|          | 0/38 [00:00<?, ?comment/s]"
      ]
     },
     "metadata": {},
     "output_type": "display_data"
    },
    {
     "data": {
      "application/vnd.jupyter.widget-view+json": {
       "model_id": "ace4cd5af0e049aa82a2b68bc21038d0",
       "version_major": 2,
       "version_minor": 0
      },
      "text/plain": [
       "Analyzing comments:   0%|          | 0/37 [00:00<?, ?comment/s]"
      ]
     },
     "metadata": {},
     "output_type": "display_data"
    },
    {
     "data": {
      "application/vnd.jupyter.widget-view+json": {
       "model_id": "1afef54becb24d73948fc912f37902e9",
       "version_major": 2,
       "version_minor": 0
      },
      "text/plain": [
       "Analyzing comments:   0%|          | 0/28 [00:00<?, ?comment/s]"
      ]
     },
     "metadata": {},
     "output_type": "display_data"
    },
    {
     "data": {
      "application/vnd.jupyter.widget-view+json": {
       "model_id": "7648195353b3435081340c7f60cbc429",
       "version_major": 2,
       "version_minor": 0
      },
      "text/plain": [
       "Analyzing comments:   0%|          | 0/5 [00:00<?, ?comment/s]"
      ]
     },
     "metadata": {},
     "output_type": "display_data"
    },
    {
     "data": {
      "application/vnd.jupyter.widget-view+json": {
       "model_id": "ad0b5fef93ae4e049f641c4503bd383c",
       "version_major": 2,
       "version_minor": 0
      },
      "text/plain": [
       "Analyzing comments:   0%|          | 0/21 [00:00<?, ?comment/s]"
      ]
     },
     "metadata": {},
     "output_type": "display_data"
    },
    {
     "data": {
      "application/vnd.jupyter.widget-view+json": {
       "model_id": "62f2fff2bf1843d48e9b4ae6ded924fd",
       "version_major": 2,
       "version_minor": 0
      },
      "text/plain": [
       "Analyzing comments:   0%|          | 0/9 [00:00<?, ?comment/s]"
      ]
     },
     "metadata": {},
     "output_type": "display_data"
    },
    {
     "data": {
      "application/vnd.jupyter.widget-view+json": {
       "model_id": "3a9168e3c81744c7b348f0d82622826e",
       "version_major": 2,
       "version_minor": 0
      },
      "text/plain": [
       "Analyzing comments:   0%|          | 0/13 [00:00<?, ?comment/s]"
      ]
     },
     "metadata": {},
     "output_type": "display_data"
    },
    {
     "data": {
      "application/vnd.jupyter.widget-view+json": {
       "model_id": "6a3e0fc498cd42729c0c580b4893a458",
       "version_major": 2,
       "version_minor": 0
      },
      "text/plain": [
       "Analyzing comments:   0%|          | 0/41 [00:00<?, ?comment/s]"
      ]
     },
     "metadata": {},
     "output_type": "display_data"
    },
    {
     "data": {
      "application/vnd.jupyter.widget-view+json": {
       "model_id": "2a90be30dc5840eebef09f6a1e12199b",
       "version_major": 2,
       "version_minor": 0
      },
      "text/plain": [
       "Analyzing comments:   0%|          | 0/33 [00:00<?, ?comment/s]"
      ]
     },
     "metadata": {},
     "output_type": "display_data"
    },
    {
     "data": {
      "application/vnd.jupyter.widget-view+json": {
       "model_id": "3061e10f036e4b0da11727fc38f9b120",
       "version_major": 2,
       "version_minor": 0
      },
      "text/plain": [
       "Analyzing comments:   0%|          | 0/35 [00:00<?, ?comment/s]"
      ]
     },
     "metadata": {},
     "output_type": "display_data"
    },
    {
     "data": {
      "application/vnd.jupyter.widget-view+json": {
       "model_id": "281eed415cc143af939aa697f9772142",
       "version_major": 2,
       "version_minor": 0
      },
      "text/plain": [
       "Analyzing comments:   0%|          | 0/1 [00:00<?, ?comment/s]"
      ]
     },
     "metadata": {},
     "output_type": "display_data"
    },
    {
     "data": {
      "application/vnd.jupyter.widget-view+json": {
       "model_id": "0cfeded02bf54aaca5072731973c7724",
       "version_major": 2,
       "version_minor": 0
      },
      "text/plain": [
       "Analyzing comments:   0%|          | 0/73 [00:00<?, ?comment/s]"
      ]
     },
     "metadata": {},
     "output_type": "display_data"
    },
    {
     "data": {
      "application/vnd.jupyter.widget-view+json": {
       "model_id": "7282e5559b6946e7ac6bfa7d1c8edd62",
       "version_major": 2,
       "version_minor": 0
      },
      "text/plain": [
       "Analyzing comments:   0%|          | 0/27 [00:00<?, ?comment/s]"
      ]
     },
     "metadata": {},
     "output_type": "display_data"
    },
    {
     "data": {
      "application/vnd.jupyter.widget-view+json": {
       "model_id": "8fdce656a5fd4067b7e9e4c7e18f3151",
       "version_major": 2,
       "version_minor": 0
      },
      "text/plain": [
       "Analyzing comments:   0%|          | 0/3 [00:00<?, ?comment/s]"
      ]
     },
     "metadata": {},
     "output_type": "display_data"
    },
    {
     "data": {
      "application/vnd.jupyter.widget-view+json": {
       "model_id": "0b8f4f3bb88b4341a3fcbfd5f00da6d9",
       "version_major": 2,
       "version_minor": 0
      },
      "text/plain": [
       "Analyzing comments:   0%|          | 0/39 [00:00<?, ?comment/s]"
      ]
     },
     "metadata": {},
     "output_type": "display_data"
    },
    {
     "data": {
      "application/vnd.jupyter.widget-view+json": {
       "model_id": "c7f428b700384126b760bf62e43062f8",
       "version_major": 2,
       "version_minor": 0
      },
      "text/plain": [
       "Analyzing comments:   0%|          | 0/27 [00:00<?, ?comment/s]"
      ]
     },
     "metadata": {},
     "output_type": "display_data"
    },
    {
     "data": {
      "application/vnd.jupyter.widget-view+json": {
       "model_id": "4b4aceb87cb04e319b32a3a11e564d4e",
       "version_major": 2,
       "version_minor": 0
      },
      "text/plain": [
       "Analyzing comments:   0%|          | 0/41 [00:00<?, ?comment/s]"
      ]
     },
     "metadata": {},
     "output_type": "display_data"
    },
    {
     "data": {
      "application/vnd.jupyter.widget-view+json": {
       "model_id": "88c1bb6192b64110946df1e555d5ee13",
       "version_major": 2,
       "version_minor": 0
      },
      "text/plain": [
       "Analyzing comments:   0%|          | 0/49 [00:00<?, ?comment/s]"
      ]
     },
     "metadata": {},
     "output_type": "display_data"
    },
    {
     "data": {
      "application/vnd.jupyter.widget-view+json": {
       "model_id": "3ecb7535169748f382c876e26d1dd422",
       "version_major": 2,
       "version_minor": 0
      },
      "text/plain": [
       "Analyzing comments:   0%|          | 0/34 [00:00<?, ?comment/s]"
      ]
     },
     "metadata": {},
     "output_type": "display_data"
    },
    {
     "data": {
      "application/vnd.jupyter.widget-view+json": {
       "model_id": "5e202296d16d447fb33e92b47cf04af3",
       "version_major": 2,
       "version_minor": 0
      },
      "text/plain": [
       "Analyzing comments:   0%|          | 0/41 [00:00<?, ?comment/s]"
      ]
     },
     "metadata": {},
     "output_type": "display_data"
    },
    {
     "data": {
      "application/vnd.jupyter.widget-view+json": {
       "model_id": "163249e5bfea4560893ec66b415f4ab9",
       "version_major": 2,
       "version_minor": 0
      },
      "text/plain": [
       "Analyzing comments:   0%|          | 0/14 [00:00<?, ?comment/s]"
      ]
     },
     "metadata": {},
     "output_type": "display_data"
    },
    {
     "data": {
      "application/vnd.jupyter.widget-view+json": {
       "model_id": "a85f5a907b344c00928db48cfac8eda7",
       "version_major": 2,
       "version_minor": 0
      },
      "text/plain": [
       "Analyzing comments:   0%|          | 0/40 [00:00<?, ?comment/s]"
      ]
     },
     "metadata": {},
     "output_type": "display_data"
    },
    {
     "data": {
      "application/vnd.jupyter.widget-view+json": {
       "model_id": "3af27d204ae3423294a03591f9dde7c2",
       "version_major": 2,
       "version_minor": 0
      },
      "text/plain": [
       "Analyzing comments:   0%|          | 0/12 [00:00<?, ?comment/s]"
      ]
     },
     "metadata": {},
     "output_type": "display_data"
    },
    {
     "data": {
      "application/vnd.jupyter.widget-view+json": {
       "model_id": "7304a3aeb4b34831b0ba5db495d3aee0",
       "version_major": 2,
       "version_minor": 0
      },
      "text/plain": [
       "Analyzing comments:   0%|          | 0/3 [00:00<?, ?comment/s]"
      ]
     },
     "metadata": {},
     "output_type": "display_data"
    },
    {
     "data": {
      "application/vnd.jupyter.widget-view+json": {
       "model_id": "efb747749d9e4937a945ec2639d04d96",
       "version_major": 2,
       "version_minor": 0
      },
      "text/plain": [
       "Analyzing comments:   0%|          | 0/4 [00:00<?, ?comment/s]"
      ]
     },
     "metadata": {},
     "output_type": "display_data"
    },
    {
     "data": {
      "application/vnd.jupyter.widget-view+json": {
       "model_id": "018bad9a3bf847ba9ec0ca46677dae61",
       "version_major": 2,
       "version_minor": 0
      },
      "text/plain": [
       "Analyzing comments:   0%|          | 0/15 [00:00<?, ?comment/s]"
      ]
     },
     "metadata": {},
     "output_type": "display_data"
    },
    {
     "data": {
      "application/vnd.jupyter.widget-view+json": {
       "model_id": "297e3a0b21ec41f8b111d377e6709617",
       "version_major": 2,
       "version_minor": 0
      },
      "text/plain": [
       "Analyzing comments:   0%|          | 0/19 [00:00<?, ?comment/s]"
      ]
     },
     "metadata": {},
     "output_type": "display_data"
    },
    {
     "data": {
      "application/vnd.jupyter.widget-view+json": {
       "model_id": "c87d052dd6ec4a6db7323cc2c045f057",
       "version_major": 2,
       "version_minor": 0
      },
      "text/plain": [
       "Analyzing comments:   0%|          | 0/40 [00:00<?, ?comment/s]"
      ]
     },
     "metadata": {},
     "output_type": "display_data"
    },
    {
     "data": {
      "application/vnd.jupyter.widget-view+json": {
       "model_id": "62e134ffd24d4c70806fffcc9dba9772",
       "version_major": 2,
       "version_minor": 0
      },
      "text/plain": [
       "Analyzing comments:   0%|          | 0/56 [00:00<?, ?comment/s]"
      ]
     },
     "metadata": {},
     "output_type": "display_data"
    },
    {
     "data": {
      "application/vnd.jupyter.widget-view+json": {
       "model_id": "61aad602b429482996f34a199e12bde0",
       "version_major": 2,
       "version_minor": 0
      },
      "text/plain": [
       "Analyzing comments:   0%|          | 0/2 [00:00<?, ?comment/s]"
      ]
     },
     "metadata": {},
     "output_type": "display_data"
    },
    {
     "data": {
      "application/vnd.jupyter.widget-view+json": {
       "model_id": "b9bb16dbe80849d396278deb50e5532d",
       "version_major": 2,
       "version_minor": 0
      },
      "text/plain": [
       "Analyzing comments:   0%|          | 0/73 [00:00<?, ?comment/s]"
      ]
     },
     "metadata": {},
     "output_type": "display_data"
    },
    {
     "data": {
      "application/vnd.jupyter.widget-view+json": {
       "model_id": "2ef97c65c6ca4aa18db0a526f75439bb",
       "version_major": 2,
       "version_minor": 0
      },
      "text/plain": [
       "Analyzing comments:   0%|          | 0/15 [00:00<?, ?comment/s]"
      ]
     },
     "metadata": {},
     "output_type": "display_data"
    },
    {
     "data": {
      "application/vnd.jupyter.widget-view+json": {
       "model_id": "d9da6d99648247928cd6864509751d36",
       "version_major": 2,
       "version_minor": 0
      },
      "text/plain": [
       "Analyzing comments:   0%|          | 0/42 [00:00<?, ?comment/s]"
      ]
     },
     "metadata": {},
     "output_type": "display_data"
    },
    {
     "data": {
      "application/vnd.jupyter.widget-view+json": {
       "model_id": "455c045a4ebe4bee972dac9dfa284469",
       "version_major": 2,
       "version_minor": 0
      },
      "text/plain": [
       "Analyzing comments:   0%|          | 0/4 [00:00<?, ?comment/s]"
      ]
     },
     "metadata": {},
     "output_type": "display_data"
    },
    {
     "data": {
      "application/vnd.jupyter.widget-view+json": {
       "model_id": "ba28f127026f4c1db82ac3cc185e95d3",
       "version_major": 2,
       "version_minor": 0
      },
      "text/plain": [
       "Analyzing comments:   0%|          | 0/34 [00:00<?, ?comment/s]"
      ]
     },
     "metadata": {},
     "output_type": "display_data"
    },
    {
     "data": {
      "application/vnd.jupyter.widget-view+json": {
       "model_id": "26e004d9f054461ebcf3c6ab6a887ee0",
       "version_major": 2,
       "version_minor": 0
      },
      "text/plain": [
       "Analyzing comments:   0%|          | 0/12 [00:00<?, ?comment/s]"
      ]
     },
     "metadata": {},
     "output_type": "display_data"
    },
    {
     "data": {
      "application/vnd.jupyter.widget-view+json": {
       "model_id": "bfaf24c180634a3cb8fde05694f0ff54",
       "version_major": 2,
       "version_minor": 0
      },
      "text/plain": [
       "Analyzing comments:   0%|          | 0/31 [00:00<?, ?comment/s]"
      ]
     },
     "metadata": {},
     "output_type": "display_data"
    },
    {
     "data": {
      "application/vnd.jupyter.widget-view+json": {
       "model_id": "746131f297de4acabf9d54951f6759c7",
       "version_major": 2,
       "version_minor": 0
      },
      "text/plain": [
       "Analyzing comments:   0%|          | 0/38 [00:00<?, ?comment/s]"
      ]
     },
     "metadata": {},
     "output_type": "display_data"
    },
    {
     "data": {
      "application/vnd.jupyter.widget-view+json": {
       "model_id": "3c0ee04867074948a427c694f4dd3f8e",
       "version_major": 2,
       "version_minor": 0
      },
      "text/plain": [
       "Analyzing comments:   0%|          | 0/46 [00:00<?, ?comment/s]"
      ]
     },
     "metadata": {},
     "output_type": "display_data"
    },
    {
     "data": {
      "application/vnd.jupyter.widget-view+json": {
       "model_id": "ad1cdcd429c84d6d8ca7a222980a12a4",
       "version_major": 2,
       "version_minor": 0
      },
      "text/plain": [
       "Analyzing comments:   0%|          | 0/39 [00:00<?, ?comment/s]"
      ]
     },
     "metadata": {},
     "output_type": "display_data"
    },
    {
     "data": {
      "application/vnd.jupyter.widget-view+json": {
       "model_id": "a77355549f5b47458660337a607236c0",
       "version_major": 2,
       "version_minor": 0
      },
      "text/plain": [
       "Analyzing comments:   0%|          | 0/60 [00:00<?, ?comment/s]"
      ]
     },
     "metadata": {},
     "output_type": "display_data"
    },
    {
     "data": {
      "application/vnd.jupyter.widget-view+json": {
       "model_id": "9bd94c17a0284de8a45b9824aac480f4",
       "version_major": 2,
       "version_minor": 0
      },
      "text/plain": [
       "Analyzing comments:   0%|          | 0/40 [00:00<?, ?comment/s]"
      ]
     },
     "metadata": {},
     "output_type": "display_data"
    },
    {
     "data": {
      "application/vnd.jupyter.widget-view+json": {
       "model_id": "d889d73c87e14c999f626b1bc699fbc9",
       "version_major": 2,
       "version_minor": 0
      },
      "text/plain": [
       "Analyzing comments:   0%|          | 0/39 [00:00<?, ?comment/s]"
      ]
     },
     "metadata": {},
     "output_type": "display_data"
    },
    {
     "data": {
      "application/vnd.jupyter.widget-view+json": {
       "model_id": "7c9b6dc6e8a84082a48b735308a562f4",
       "version_major": 2,
       "version_minor": 0
      },
      "text/plain": [
       "Analyzing comments:   0%|          | 0/15 [00:00<?, ?comment/s]"
      ]
     },
     "metadata": {},
     "output_type": "display_data"
    },
    {
     "data": {
      "application/vnd.jupyter.widget-view+json": {
       "model_id": "73d07409d1d0423e9384bd9a623cebfb",
       "version_major": 2,
       "version_minor": 0
      },
      "text/plain": [
       "Analyzing comments:   0%|          | 0/34 [00:00<?, ?comment/s]"
      ]
     },
     "metadata": {},
     "output_type": "display_data"
    },
    {
     "data": {
      "application/vnd.jupyter.widget-view+json": {
       "model_id": "f5d3b067217a470ab5ab6a8d43828085",
       "version_major": 2,
       "version_minor": 0
      },
      "text/plain": [
       "Analyzing comments:   0%|          | 0/37 [00:00<?, ?comment/s]"
      ]
     },
     "metadata": {},
     "output_type": "display_data"
    },
    {
     "data": {
      "application/vnd.jupyter.widget-view+json": {
       "model_id": "09fbe54ecbbd4565be70aa4cc9033d8f",
       "version_major": 2,
       "version_minor": 0
      },
      "text/plain": [
       "Analyzing comments:   0%|          | 0/5 [00:00<?, ?comment/s]"
      ]
     },
     "metadata": {},
     "output_type": "display_data"
    },
    {
     "data": {
      "application/vnd.jupyter.widget-view+json": {
       "model_id": "9aaf662de4f148fb8db4787b64befe82",
       "version_major": 2,
       "version_minor": 0
      },
      "text/plain": [
       "Analyzing comments:   0%|          | 0/3 [00:00<?, ?comment/s]"
      ]
     },
     "metadata": {},
     "output_type": "display_data"
    },
    {
     "data": {
      "application/vnd.jupyter.widget-view+json": {
       "model_id": "069f7095d3f341ae9e9053b582fa3f7c",
       "version_major": 2,
       "version_minor": 0
      },
      "text/plain": [
       "Analyzing comments:   0%|          | 0/4 [00:00<?, ?comment/s]"
      ]
     },
     "metadata": {},
     "output_type": "display_data"
    },
    {
     "data": {
      "application/vnd.jupyter.widget-view+json": {
       "model_id": "548ef6fd731642268c2cb2bb2c94aa49",
       "version_major": 2,
       "version_minor": 0
      },
      "text/plain": [
       "Analyzing comments:   0%|          | 0/16 [00:00<?, ?comment/s]"
      ]
     },
     "metadata": {},
     "output_type": "display_data"
    },
    {
     "data": {
      "application/vnd.jupyter.widget-view+json": {
       "model_id": "c1ac544195dc466196869d2e688b9aad",
       "version_major": 2,
       "version_minor": 0
      },
      "text/plain": [
       "Analyzing comments:   0%|          | 0/31 [00:00<?, ?comment/s]"
      ]
     },
     "metadata": {},
     "output_type": "display_data"
    },
    {
     "data": {
      "application/vnd.jupyter.widget-view+json": {
       "model_id": "514f263c7fbc4853a73aa95dafaac2f7",
       "version_major": 2,
       "version_minor": 0
      },
      "text/plain": [
       "Analyzing comments:   0%|          | 0/12 [00:00<?, ?comment/s]"
      ]
     },
     "metadata": {},
     "output_type": "display_data"
    },
    {
     "data": {
      "application/vnd.jupyter.widget-view+json": {
       "model_id": "0e964eb5bf984d37865f0116a40c6438",
       "version_major": 2,
       "version_minor": 0
      },
      "text/plain": [
       "Analyzing comments:   0%|          | 0/3 [00:00<?, ?comment/s]"
      ]
     },
     "metadata": {},
     "output_type": "display_data"
    },
    {
     "data": {
      "application/vnd.jupyter.widget-view+json": {
       "model_id": "0f73538938f84d7db8c1405c72674da9",
       "version_major": 2,
       "version_minor": 0
      },
      "text/plain": [
       "Analyzing comments:   0%|          | 0/1 [00:00<?, ?comment/s]"
      ]
     },
     "metadata": {},
     "output_type": "display_data"
    },
    {
     "data": {
      "application/vnd.jupyter.widget-view+json": {
       "model_id": "8af34976b780460c8046be180d7a9b38",
       "version_major": 2,
       "version_minor": 0
      },
      "text/plain": [
       "Analyzing comments:   0%|          | 0/26 [00:00<?, ?comment/s]"
      ]
     },
     "metadata": {},
     "output_type": "display_data"
    },
    {
     "data": {
      "application/vnd.jupyter.widget-view+json": {
       "model_id": "b8df1d13000246f5acf1320fe8c262d6",
       "version_major": 2,
       "version_minor": 0
      },
      "text/plain": [
       "Analyzing comments:   0%|          | 0/28 [00:00<?, ?comment/s]"
      ]
     },
     "metadata": {},
     "output_type": "display_data"
    },
    {
     "data": {
      "application/vnd.jupyter.widget-view+json": {
       "model_id": "24e24fec07dd4d348a6e15d959a5d7e5",
       "version_major": 2,
       "version_minor": 0
      },
      "text/plain": [
       "Analyzing comments:   0%|          | 0/28 [00:00<?, ?comment/s]"
      ]
     },
     "metadata": {},
     "output_type": "display_data"
    },
    {
     "data": {
      "application/vnd.jupyter.widget-view+json": {
       "model_id": "2cab54bdfaed44eaa2c89e6c86b2f5c5",
       "version_major": 2,
       "version_minor": 0
      },
      "text/plain": [
       "Analyzing comments:   0%|          | 0/7 [00:00<?, ?comment/s]"
      ]
     },
     "metadata": {},
     "output_type": "display_data"
    },
    {
     "data": {
      "application/vnd.jupyter.widget-view+json": {
       "model_id": "70adadf68a66480494be9ecb3367ef12",
       "version_major": 2,
       "version_minor": 0
      },
      "text/plain": [
       "Analyzing comments:   0%|          | 0/37 [00:00<?, ?comment/s]"
      ]
     },
     "metadata": {},
     "output_type": "display_data"
    },
    {
     "data": {
      "application/vnd.jupyter.widget-view+json": {
       "model_id": "0f11e81395444af5ac21b5d5e8c12b18",
       "version_major": 2,
       "version_minor": 0
      },
      "text/plain": [
       "Analyzing comments:   0%|          | 0/1 [00:00<?, ?comment/s]"
      ]
     },
     "metadata": {},
     "output_type": "display_data"
    },
    {
     "data": {
      "application/vnd.jupyter.widget-view+json": {
       "model_id": "eb35b7a3e21a49faa62975f1a8087be9",
       "version_major": 2,
       "version_minor": 0
      },
      "text/plain": [
       "Analyzing comments:   0%|          | 0/40 [00:00<?, ?comment/s]"
      ]
     },
     "metadata": {},
     "output_type": "display_data"
    },
    {
     "data": {
      "application/vnd.jupyter.widget-view+json": {
       "model_id": "6ba87779d1f24aec82ef16f033490df6",
       "version_major": 2,
       "version_minor": 0
      },
      "text/plain": [
       "Analyzing comments:   0%|          | 0/12 [00:00<?, ?comment/s]"
      ]
     },
     "metadata": {},
     "output_type": "display_data"
    },
    {
     "data": {
      "application/vnd.jupyter.widget-view+json": {
       "model_id": "bb8fb575b99747f5a9575bda5b9ebc79",
       "version_major": 2,
       "version_minor": 0
      },
      "text/plain": [
       "Analyzing comments:   0%|          | 0/40 [00:00<?, ?comment/s]"
      ]
     },
     "metadata": {},
     "output_type": "display_data"
    },
    {
     "data": {
      "application/vnd.jupyter.widget-view+json": {
       "model_id": "c814d45324524b68804464a3563cac69",
       "version_major": 2,
       "version_minor": 0
      },
      "text/plain": [
       "Analyzing comments:   0%|          | 0/35 [00:00<?, ?comment/s]"
      ]
     },
     "metadata": {},
     "output_type": "display_data"
    },
    {
     "data": {
      "application/vnd.jupyter.widget-view+json": {
       "model_id": "5ab817ff889e41d98a2601856dd1d0f1",
       "version_major": 2,
       "version_minor": 0
      },
      "text/plain": [
       "Analyzing comments:   0%|          | 0/33 [00:00<?, ?comment/s]"
      ]
     },
     "metadata": {},
     "output_type": "display_data"
    },
    {
     "data": {
      "application/vnd.jupyter.widget-view+json": {
       "model_id": "db5e0aa09df94ba9a6e56ad7d6ccf818",
       "version_major": 2,
       "version_minor": 0
      },
      "text/plain": [
       "Analyzing comments:   0%|          | 0/35 [00:00<?, ?comment/s]"
      ]
     },
     "metadata": {},
     "output_type": "display_data"
    },
    {
     "data": {
      "application/vnd.jupyter.widget-view+json": {
       "model_id": "a73f999359334a6890bf296dfd2f48c5",
       "version_major": 2,
       "version_minor": 0
      },
      "text/plain": [
       "Analyzing comments:   0%|          | 0/33 [00:00<?, ?comment/s]"
      ]
     },
     "metadata": {},
     "output_type": "display_data"
    },
    {
     "data": {
      "application/vnd.jupyter.widget-view+json": {
       "model_id": "80e8f23925284f78bef700486bd7bd60",
       "version_major": 2,
       "version_minor": 0
      },
      "text/plain": [
       "Analyzing comments:   0%|          | 0/36 [00:00<?, ?comment/s]"
      ]
     },
     "metadata": {},
     "output_type": "display_data"
    },
    {
     "data": {
      "application/vnd.jupyter.widget-view+json": {
       "model_id": "99b401b70bd84302b42e721b58fdbcd0",
       "version_major": 2,
       "version_minor": 0
      },
      "text/plain": [
       "Analyzing comments:   0%|          | 0/16 [00:00<?, ?comment/s]"
      ]
     },
     "metadata": {},
     "output_type": "display_data"
    },
    {
     "data": {
      "application/vnd.jupyter.widget-view+json": {
       "model_id": "1d2c6705a07845a69b993b7143fc5d42",
       "version_major": 2,
       "version_minor": 0
      },
      "text/plain": [
       "Analyzing comments:   0%|          | 0/37 [00:00<?, ?comment/s]"
      ]
     },
     "metadata": {},
     "output_type": "display_data"
    },
    {
     "data": {
      "application/vnd.jupyter.widget-view+json": {
       "model_id": "15963dfae0474b80a1f0f37259b33eff",
       "version_major": 2,
       "version_minor": 0
      },
      "text/plain": [
       "Analyzing comments:   0%|          | 0/4 [00:00<?, ?comment/s]"
      ]
     },
     "metadata": {},
     "output_type": "display_data"
    },
    {
     "data": {
      "application/vnd.jupyter.widget-view+json": {
       "model_id": "ed07055d7f1f482c951871cd63f1de68",
       "version_major": 2,
       "version_minor": 0
      },
      "text/plain": [
       "Analyzing comments:   0%|          | 0/29 [00:00<?, ?comment/s]"
      ]
     },
     "metadata": {},
     "output_type": "display_data"
    },
    {
     "data": {
      "application/vnd.jupyter.widget-view+json": {
       "model_id": "e11c43684f344873bf7b95c052f9986f",
       "version_major": 2,
       "version_minor": 0
      },
      "text/plain": [
       "Analyzing comments:   0%|          | 0/11 [00:00<?, ?comment/s]"
      ]
     },
     "metadata": {},
     "output_type": "display_data"
    },
    {
     "data": {
      "application/vnd.jupyter.widget-view+json": {
       "model_id": "efab741ece3942afb84fa786491e50e1",
       "version_major": 2,
       "version_minor": 0
      },
      "text/plain": [
       "Analyzing comments:   0%|          | 0/2 [00:00<?, ?comment/s]"
      ]
     },
     "metadata": {},
     "output_type": "display_data"
    },
    {
     "data": {
      "application/vnd.jupyter.widget-view+json": {
       "model_id": "714d87befa3b44d6a8a78409dba0853d",
       "version_major": 2,
       "version_minor": 0
      },
      "text/plain": [
       "Analyzing comments:   0%|          | 0/60 [00:00<?, ?comment/s]"
      ]
     },
     "metadata": {},
     "output_type": "display_data"
    },
    {
     "data": {
      "application/vnd.jupyter.widget-view+json": {
       "model_id": "dcff7aafd9ff457d888d4a5b0fbc8b9b",
       "version_major": 2,
       "version_minor": 0
      },
      "text/plain": [
       "Analyzing comments:   0%|          | 0/20 [00:00<?, ?comment/s]"
      ]
     },
     "metadata": {},
     "output_type": "display_data"
    },
    {
     "data": {
      "application/vnd.jupyter.widget-view+json": {
       "model_id": "7f727417d57c46be906d6845ce83579e",
       "version_major": 2,
       "version_minor": 0
      },
      "text/plain": [
       "Analyzing comments:   0%|          | 0/10 [00:00<?, ?comment/s]"
      ]
     },
     "metadata": {},
     "output_type": "display_data"
    },
    {
     "data": {
      "application/vnd.jupyter.widget-view+json": {
       "model_id": "827e87e48eb74a50b36095e6ea17b4d1",
       "version_major": 2,
       "version_minor": 0
      },
      "text/plain": [
       "Analyzing comments:   0%|          | 0/59 [00:00<?, ?comment/s]"
      ]
     },
     "metadata": {},
     "output_type": "display_data"
    },
    {
     "data": {
      "application/vnd.jupyter.widget-view+json": {
       "model_id": "50fe0175305f47009f3e63f86ddb4357",
       "version_major": 2,
       "version_minor": 0
      },
      "text/plain": [
       "Analyzing comments:   0%|          | 0/40 [00:00<?, ?comment/s]"
      ]
     },
     "metadata": {},
     "output_type": "display_data"
    },
    {
     "data": {
      "application/vnd.jupyter.widget-view+json": {
       "model_id": "c0126e8d9f72481c9a79e61d6d32b01d",
       "version_major": 2,
       "version_minor": 0
      },
      "text/plain": [
       "Analyzing comments:   0%|          | 0/2 [00:00<?, ?comment/s]"
      ]
     },
     "metadata": {},
     "output_type": "display_data"
    },
    {
     "data": {
      "application/vnd.jupyter.widget-view+json": {
       "model_id": "6a959bcc76e34f2c87a4b81d04d05b91",
       "version_major": 2,
       "version_minor": 0
      },
      "text/plain": [
       "Analyzing comments:   0%|          | 0/37 [00:00<?, ?comment/s]"
      ]
     },
     "metadata": {},
     "output_type": "display_data"
    },
    {
     "data": {
      "application/vnd.jupyter.widget-view+json": {
       "model_id": "42736fc094b84fb3a657f8a949316b72",
       "version_major": 2,
       "version_minor": 0
      },
      "text/plain": [
       "Analyzing comments:   0%|          | 0/77 [00:00<?, ?comment/s]"
      ]
     },
     "metadata": {},
     "output_type": "display_data"
    },
    {
     "data": {
      "application/vnd.jupyter.widget-view+json": {
       "model_id": "10f8f3476a834d7a842b969968c2496c",
       "version_major": 2,
       "version_minor": 0
      },
      "text/plain": [
       "Analyzing comments:   0%|          | 0/4 [00:00<?, ?comment/s]"
      ]
     },
     "metadata": {},
     "output_type": "display_data"
    },
    {
     "data": {
      "application/vnd.jupyter.widget-view+json": {
       "model_id": "eabe1616b66f439b9d4e6b4249bebac3",
       "version_major": 2,
       "version_minor": 0
      },
      "text/plain": [
       "Analyzing comments:   0%|          | 0/39 [00:00<?, ?comment/s]"
      ]
     },
     "metadata": {},
     "output_type": "display_data"
    },
    {
     "data": {
      "application/vnd.jupyter.widget-view+json": {
       "model_id": "b51ce9cf9eeb42d7bf4a315d29b1ed76",
       "version_major": 2,
       "version_minor": 0
      },
      "text/plain": [
       "Analyzing comments:   0%|          | 0/42 [00:00<?, ?comment/s]"
      ]
     },
     "metadata": {},
     "output_type": "display_data"
    },
    {
     "data": {
      "application/vnd.jupyter.widget-view+json": {
       "model_id": "6d4fea5432ff415e92a918bf1780f1a8",
       "version_major": 2,
       "version_minor": 0
      },
      "text/plain": [
       "Analyzing comments:   0%|          | 0/38 [00:00<?, ?comment/s]"
      ]
     },
     "metadata": {},
     "output_type": "display_data"
    },
    {
     "data": {
      "application/vnd.jupyter.widget-view+json": {
       "model_id": "13dba5f747be42fca4f5cedf326a583a",
       "version_major": 2,
       "version_minor": 0
      },
      "text/plain": [
       "Analyzing comments:   0%|          | 0/7 [00:00<?, ?comment/s]"
      ]
     },
     "metadata": {},
     "output_type": "display_data"
    },
    {
     "data": {
      "application/vnd.jupyter.widget-view+json": {
       "model_id": "a01b22fa4ee14750a0ce0affb9dd888a",
       "version_major": 2,
       "version_minor": 0
      },
      "text/plain": [
       "Analyzing comments:   0%|          | 0/10 [00:00<?, ?comment/s]"
      ]
     },
     "metadata": {},
     "output_type": "display_data"
    },
    {
     "data": {
      "application/vnd.jupyter.widget-view+json": {
       "model_id": "d55eba242c8941beaee54ee0b7bf3e81",
       "version_major": 2,
       "version_minor": 0
      },
      "text/plain": [
       "Analyzing comments:   0%|          | 0/36 [00:00<?, ?comment/s]"
      ]
     },
     "metadata": {},
     "output_type": "display_data"
    },
    {
     "data": {
      "application/vnd.jupyter.widget-view+json": {
       "model_id": "9a3f711d066a40b2be8d0b42e065d6d7",
       "version_major": 2,
       "version_minor": 0
      },
      "text/plain": [
       "Analyzing comments:   0%|          | 0/16 [00:00<?, ?comment/s]"
      ]
     },
     "metadata": {},
     "output_type": "display_data"
    },
    {
     "data": {
      "application/vnd.jupyter.widget-view+json": {
       "model_id": "5e4f919a47534be9900a74c362360567",
       "version_major": 2,
       "version_minor": 0
      },
      "text/plain": [
       "Analyzing comments:   0%|          | 0/2 [00:00<?, ?comment/s]"
      ]
     },
     "metadata": {},
     "output_type": "display_data"
    },
    {
     "data": {
      "application/vnd.jupyter.widget-view+json": {
       "model_id": "7617b7810ff44589970e79a42e665cee",
       "version_major": 2,
       "version_minor": 0
      },
      "text/plain": [
       "Analyzing comments:   0%|          | 0/63 [00:00<?, ?comment/s]"
      ]
     },
     "metadata": {},
     "output_type": "display_data"
    },
    {
     "data": {
      "application/vnd.jupyter.widget-view+json": {
       "model_id": "9b41ac0807a34318a42a0d638ed02bfc",
       "version_major": 2,
       "version_minor": 0
      },
      "text/plain": [
       "Analyzing comments:   0%|          | 0/33 [00:00<?, ?comment/s]"
      ]
     },
     "metadata": {},
     "output_type": "display_data"
    },
    {
     "data": {
      "application/vnd.jupyter.widget-view+json": {
       "model_id": "f51a5278570d491aa283eed04a8dd30d",
       "version_major": 2,
       "version_minor": 0
      },
      "text/plain": [
       "Analyzing comments:   0%|          | 0/7 [00:00<?, ?comment/s]"
      ]
     },
     "metadata": {},
     "output_type": "display_data"
    },
    {
     "data": {
      "application/vnd.jupyter.widget-view+json": {
       "model_id": "1db2e8fcc7f54af5bcf4f86d64c75039",
       "version_major": 2,
       "version_minor": 0
      },
      "text/plain": [
       "Analyzing comments:   0%|          | 0/35 [00:00<?, ?comment/s]"
      ]
     },
     "metadata": {},
     "output_type": "display_data"
    },
    {
     "data": {
      "application/vnd.jupyter.widget-view+json": {
       "model_id": "1a0e78c043024c9c9842c841d0239437",
       "version_major": 2,
       "version_minor": 0
      },
      "text/plain": [
       "Analyzing comments:   0%|          | 0/40 [00:00<?, ?comment/s]"
      ]
     },
     "metadata": {},
     "output_type": "display_data"
    },
    {
     "data": {
      "application/vnd.jupyter.widget-view+json": {
       "model_id": "40186f0e4b4d498080c4d14166c57fd1",
       "version_major": 2,
       "version_minor": 0
      },
      "text/plain": [
       "Analyzing comments:   0%|          | 0/35 [00:00<?, ?comment/s]"
      ]
     },
     "metadata": {},
     "output_type": "display_data"
    },
    {
     "data": {
      "application/vnd.jupyter.widget-view+json": {
       "model_id": "04721a68ac524035a77280c48000de39",
       "version_major": 2,
       "version_minor": 0
      },
      "text/plain": [
       "Analyzing comments:   0%|          | 0/4 [00:00<?, ?comment/s]"
      ]
     },
     "metadata": {},
     "output_type": "display_data"
    },
    {
     "data": {
      "application/vnd.jupyter.widget-view+json": {
       "model_id": "a80774dea8d54c458d8e9c40fbe49d77",
       "version_major": 2,
       "version_minor": 0
      },
      "text/plain": [
       "Analyzing comments:   0%|          | 0/39 [00:00<?, ?comment/s]"
      ]
     },
     "metadata": {},
     "output_type": "display_data"
    },
    {
     "data": {
      "application/vnd.jupyter.widget-view+json": {
       "model_id": "017a781bdcf745508264e4289f2d2f0f",
       "version_major": 2,
       "version_minor": 0
      },
      "text/plain": [
       "Analyzing comments:   0%|          | 0/49 [00:00<?, ?comment/s]"
      ]
     },
     "metadata": {},
     "output_type": "display_data"
    },
    {
     "data": {
      "application/vnd.jupyter.widget-view+json": {
       "model_id": "d1aae7fe9e7a4ac08ae5961d71925b0c",
       "version_major": 2,
       "version_minor": 0
      },
      "text/plain": [
       "Analyzing comments:   0%|          | 0/1 [00:00<?, ?comment/s]"
      ]
     },
     "metadata": {},
     "output_type": "display_data"
    },
    {
     "data": {
      "application/vnd.jupyter.widget-view+json": {
       "model_id": "906e555dc34b47efae2c0210e3c89640",
       "version_major": 2,
       "version_minor": 0
      },
      "text/plain": [
       "Analyzing comments:   0%|          | 0/40 [00:00<?, ?comment/s]"
      ]
     },
     "metadata": {},
     "output_type": "display_data"
    },
    {
     "data": {
      "application/vnd.jupyter.widget-view+json": {
       "model_id": "82af3b54d33c49e3a8839e26ca3116af",
       "version_major": 2,
       "version_minor": 0
      },
      "text/plain": [
       "Analyzing comments:   0%|          | 0/27 [00:00<?, ?comment/s]"
      ]
     },
     "metadata": {},
     "output_type": "display_data"
    },
    {
     "data": {
      "application/vnd.jupyter.widget-view+json": {
       "model_id": "5f58352b09864081b594d86a72008939",
       "version_major": 2,
       "version_minor": 0
      },
      "text/plain": [
       "Analyzing comments:   0%|          | 0/5 [00:00<?, ?comment/s]"
      ]
     },
     "metadata": {},
     "output_type": "display_data"
    },
    {
     "data": {
      "application/vnd.jupyter.widget-view+json": {
       "model_id": "4dec4d3d32f340e48ce442d27f04cf94",
       "version_major": 2,
       "version_minor": 0
      },
      "text/plain": [
       "Analyzing comments:   0%|          | 0/4 [00:00<?, ?comment/s]"
      ]
     },
     "metadata": {},
     "output_type": "display_data"
    },
    {
     "data": {
      "application/vnd.jupyter.widget-view+json": {
       "model_id": "c59c2d6660554f9b9832ffb6e761904e",
       "version_major": 2,
       "version_minor": 0
      },
      "text/plain": [
       "Analyzing comments:   0%|          | 0/37 [00:00<?, ?comment/s]"
      ]
     },
     "metadata": {},
     "output_type": "display_data"
    },
    {
     "data": {
      "application/vnd.jupyter.widget-view+json": {
       "model_id": "ac8306be93a34185b14de8754444dbde",
       "version_major": 2,
       "version_minor": 0
      },
      "text/plain": [
       "Analyzing comments:   0%|          | 0/39 [00:00<?, ?comment/s]"
      ]
     },
     "metadata": {},
     "output_type": "display_data"
    },
    {
     "data": {
      "application/vnd.jupyter.widget-view+json": {
       "model_id": "b02c26c5f4b4439f8d42ad4e137bb19f",
       "version_major": 2,
       "version_minor": 0
      },
      "text/plain": [
       "Analyzing comments:   0%|          | 0/36 [00:00<?, ?comment/s]"
      ]
     },
     "metadata": {},
     "output_type": "display_data"
    },
    {
     "data": {
      "application/vnd.jupyter.widget-view+json": {
       "model_id": "6c550da34c6f4266902d6943eb5d685f",
       "version_major": 2,
       "version_minor": 0
      },
      "text/plain": [
       "Analyzing comments:   0%|          | 0/3 [00:00<?, ?comment/s]"
      ]
     },
     "metadata": {},
     "output_type": "display_data"
    },
    {
     "data": {
      "application/vnd.jupyter.widget-view+json": {
       "model_id": "d94ff88b9bd34c49a51d5177e47da24e",
       "version_major": 2,
       "version_minor": 0
      },
      "text/plain": [
       "Analyzing comments:   0%|          | 0/2 [00:00<?, ?comment/s]"
      ]
     },
     "metadata": {},
     "output_type": "display_data"
    },
    {
     "data": {
      "application/vnd.jupyter.widget-view+json": {
       "model_id": "96b4492cd6144207b40d23b8bb8a57db",
       "version_major": 2,
       "version_minor": 0
      },
      "text/plain": [
       "Analyzing comments:   0%|          | 0/36 [00:00<?, ?comment/s]"
      ]
     },
     "metadata": {},
     "output_type": "display_data"
    },
    {
     "data": {
      "application/vnd.jupyter.widget-view+json": {
       "model_id": "a89002cffe7f493a8facb644a04c18c7",
       "version_major": 2,
       "version_minor": 0
      },
      "text/plain": [
       "Analyzing comments:   0%|          | 0/1 [00:00<?, ?comment/s]"
      ]
     },
     "metadata": {},
     "output_type": "display_data"
    },
    {
     "data": {
      "application/vnd.jupyter.widget-view+json": {
       "model_id": "5aeb79ba3f534c76a11398459f006f67",
       "version_major": 2,
       "version_minor": 0
      },
      "text/plain": [
       "Analyzing comments:   0%|          | 0/63 [00:00<?, ?comment/s]"
      ]
     },
     "metadata": {},
     "output_type": "display_data"
    },
    {
     "data": {
      "application/vnd.jupyter.widget-view+json": {
       "model_id": "950ab495c0884b09841d48b6100f8d46",
       "version_major": 2,
       "version_minor": 0
      },
      "text/plain": [
       "Analyzing comments:   0%|          | 0/37 [00:00<?, ?comment/s]"
      ]
     },
     "metadata": {},
     "output_type": "display_data"
    },
    {
     "data": {
      "application/vnd.jupyter.widget-view+json": {
       "model_id": "00c623cc1b2d4a6caa3bf87c2f3649ce",
       "version_major": 2,
       "version_minor": 0
      },
      "text/plain": [
       "Analyzing comments:   0%|          | 0/34 [00:00<?, ?comment/s]"
      ]
     },
     "metadata": {},
     "output_type": "display_data"
    },
    {
     "data": {
      "application/vnd.jupyter.widget-view+json": {
       "model_id": "0722cdb954704116bbd4996f73b562f9",
       "version_major": 2,
       "version_minor": 0
      },
      "text/plain": [
       "Analyzing comments:   0%|          | 0/17 [00:00<?, ?comment/s]"
      ]
     },
     "metadata": {},
     "output_type": "display_data"
    },
    {
     "data": {
      "application/vnd.jupyter.widget-view+json": {
       "model_id": "ce8cea1b283a47c9b6f398c70722cf57",
       "version_major": 2,
       "version_minor": 0
      },
      "text/plain": [
       "Analyzing comments:   0%|          | 0/39 [00:00<?, ?comment/s]"
      ]
     },
     "metadata": {},
     "output_type": "display_data"
    },
    {
     "data": {
      "application/vnd.jupyter.widget-view+json": {
       "model_id": "f60c7707e50d44a18161c97380816773",
       "version_major": 2,
       "version_minor": 0
      },
      "text/plain": [
       "Analyzing comments:   0%|          | 0/36 [00:00<?, ?comment/s]"
      ]
     },
     "metadata": {},
     "output_type": "display_data"
    },
    {
     "data": {
      "application/vnd.jupyter.widget-view+json": {
       "model_id": "fc0a58d09eae489e9926a1b49498ea18",
       "version_major": 2,
       "version_minor": 0
      },
      "text/plain": [
       "Analyzing comments:   0%|          | 0/45 [00:00<?, ?comment/s]"
      ]
     },
     "metadata": {},
     "output_type": "display_data"
    },
    {
     "data": {
      "application/vnd.jupyter.widget-view+json": {
       "model_id": "7ee5c31fc57149a7bffe84da30fda602",
       "version_major": 2,
       "version_minor": 0
      },
      "text/plain": [
       "Analyzing comments:   0%|          | 0/5 [00:00<?, ?comment/s]"
      ]
     },
     "metadata": {},
     "output_type": "display_data"
    },
    {
     "data": {
      "application/vnd.jupyter.widget-view+json": {
       "model_id": "e9bf5ff080064f6491a8d6f0fe7704dd",
       "version_major": 2,
       "version_minor": 0
      },
      "text/plain": [
       "Analyzing comments:   0%|          | 0/4 [00:00<?, ?comment/s]"
      ]
     },
     "metadata": {},
     "output_type": "display_data"
    },
    {
     "data": {
      "application/vnd.jupyter.widget-view+json": {
       "model_id": "73fc0c11eeba4adc86a9173d76dbf11f",
       "version_major": 2,
       "version_minor": 0
      },
      "text/plain": [
       "Analyzing comments:   0%|          | 0/10 [00:00<?, ?comment/s]"
      ]
     },
     "metadata": {},
     "output_type": "display_data"
    },
    {
     "data": {
      "application/vnd.jupyter.widget-view+json": {
       "model_id": "d19d79a093be4ecea7da992303505657",
       "version_major": 2,
       "version_minor": 0
      },
      "text/plain": [
       "Analyzing comments:   0%|          | 0/23 [00:00<?, ?comment/s]"
      ]
     },
     "metadata": {},
     "output_type": "display_data"
    },
    {
     "data": {
      "application/vnd.jupyter.widget-view+json": {
       "model_id": "ca7f5e9d300e457486b22a16f721301e",
       "version_major": 2,
       "version_minor": 0
      },
      "text/plain": [
       "Analyzing comments:   0%|          | 0/18 [00:00<?, ?comment/s]"
      ]
     },
     "metadata": {},
     "output_type": "display_data"
    },
    {
     "data": {
      "application/vnd.jupyter.widget-view+json": {
       "model_id": "4ef82706a1aa44f3bdbbd594dca28e94",
       "version_major": 2,
       "version_minor": 0
      },
      "text/plain": [
       "Analyzing comments:   0%|          | 0/3 [00:00<?, ?comment/s]"
      ]
     },
     "metadata": {},
     "output_type": "display_data"
    },
    {
     "data": {
      "application/vnd.jupyter.widget-view+json": {
       "model_id": "6d77562290d24ae3a8aa5cec8d5a8e12",
       "version_major": 2,
       "version_minor": 0
      },
      "text/plain": [
       "Analyzing comments:   0%|          | 0/34 [00:00<?, ?comment/s]"
      ]
     },
     "metadata": {},
     "output_type": "display_data"
    },
    {
     "data": {
      "application/vnd.jupyter.widget-view+json": {
       "model_id": "c8d7b69cc82d40e793260a9613333b0d",
       "version_major": 2,
       "version_minor": 0
      },
      "text/plain": [
       "Analyzing comments:   0%|          | 0/36 [00:00<?, ?comment/s]"
      ]
     },
     "metadata": {},
     "output_type": "display_data"
    },
    {
     "data": {
      "application/vnd.jupyter.widget-view+json": {
       "model_id": "f2cc74cfbf464365b28d67e243a823f2",
       "version_major": 2,
       "version_minor": 0
      },
      "text/plain": [
       "Analyzing comments:   0%|          | 0/35 [00:00<?, ?comment/s]"
      ]
     },
     "metadata": {},
     "output_type": "display_data"
    },
    {
     "data": {
      "application/vnd.jupyter.widget-view+json": {
       "model_id": "e9c32609ed564cf1a42c6d1eacdb9374",
       "version_major": 2,
       "version_minor": 0
      },
      "text/plain": [
       "Analyzing comments:   0%|          | 0/31 [00:00<?, ?comment/s]"
      ]
     },
     "metadata": {},
     "output_type": "display_data"
    },
    {
     "data": {
      "application/vnd.jupyter.widget-view+json": {
       "model_id": "ed70f2fdb8034dd08462295603c939f5",
       "version_major": 2,
       "version_minor": 0
      },
      "text/plain": [
       "Analyzing comments: 0comment [00:00, ?comment/s]"
      ]
     },
     "metadata": {},
     "output_type": "display_data"
    },
    {
     "data": {
      "application/vnd.jupyter.widget-view+json": {
       "model_id": "a0c65d6565574e88829479c50106a894",
       "version_major": 2,
       "version_minor": 0
      },
      "text/plain": [
       "Analyzing comments:   0%|          | 0/4 [00:00<?, ?comment/s]"
      ]
     },
     "metadata": {},
     "output_type": "display_data"
    },
    {
     "data": {
      "application/vnd.jupyter.widget-view+json": {
       "model_id": "0244401af14843ccb7434936126a0240",
       "version_major": 2,
       "version_minor": 0
      },
      "text/plain": [
       "Analyzing comments:   0%|          | 0/16 [00:00<?, ?comment/s]"
      ]
     },
     "metadata": {},
     "output_type": "display_data"
    },
    {
     "data": {
      "application/vnd.jupyter.widget-view+json": {
       "model_id": "aea77a9308ab4eb7b947f84ed069a20d",
       "version_major": 2,
       "version_minor": 0
      },
      "text/plain": [
       "Analyzing comments:   0%|          | 0/39 [00:00<?, ?comment/s]"
      ]
     },
     "metadata": {},
     "output_type": "display_data"
    },
    {
     "data": {
      "application/vnd.jupyter.widget-view+json": {
       "model_id": "ce014757a1724517801fec1bb6035a27",
       "version_major": 2,
       "version_minor": 0
      },
      "text/plain": [
       "Analyzing comments:   0%|          | 0/1 [00:00<?, ?comment/s]"
      ]
     },
     "metadata": {},
     "output_type": "display_data"
    },
    {
     "data": {
      "application/vnd.jupyter.widget-view+json": {
       "model_id": "9ca01eb4518b44f9bbd1e18324aef3b4",
       "version_major": 2,
       "version_minor": 0
      },
      "text/plain": [
       "Analyzing comments:   0%|          | 0/32 [00:00<?, ?comment/s]"
      ]
     },
     "metadata": {},
     "output_type": "display_data"
    },
    {
     "data": {
      "application/vnd.jupyter.widget-view+json": {
       "model_id": "6a42fef383574f388decf2b3440f36b2",
       "version_major": 2,
       "version_minor": 0
      },
      "text/plain": [
       "Analyzing comments:   0%|          | 0/36 [00:00<?, ?comment/s]"
      ]
     },
     "metadata": {},
     "output_type": "display_data"
    },
    {
     "data": {
      "application/vnd.jupyter.widget-view+json": {
       "model_id": "179fcd98d73f4b5da6ab12b3f0fc7e1f",
       "version_major": 2,
       "version_minor": 0
      },
      "text/plain": [
       "Analyzing comments:   0%|          | 0/3 [00:00<?, ?comment/s]"
      ]
     },
     "metadata": {},
     "output_type": "display_data"
    },
    {
     "data": {
      "application/vnd.jupyter.widget-view+json": {
       "model_id": "4ec9bb83bc084978b3dcd432cc3a0552",
       "version_major": 2,
       "version_minor": 0
      },
      "text/plain": [
       "Analyzing comments:   0%|          | 0/35 [00:00<?, ?comment/s]"
      ]
     },
     "metadata": {},
     "output_type": "display_data"
    },
    {
     "data": {
      "application/vnd.jupyter.widget-view+json": {
       "model_id": "3662acd9d16c4b47b4c7e115891acf20",
       "version_major": 2,
       "version_minor": 0
      },
      "text/plain": [
       "Analyzing comments:   0%|          | 0/39 [00:00<?, ?comment/s]"
      ]
     },
     "metadata": {},
     "output_type": "display_data"
    },
    {
     "data": {
      "application/vnd.jupyter.widget-view+json": {
       "model_id": "1cb1ec4c2fdf4c16aa641fc4e21bc2b3",
       "version_major": 2,
       "version_minor": 0
      },
      "text/plain": [
       "Analyzing comments:   0%|          | 0/8 [00:00<?, ?comment/s]"
      ]
     },
     "metadata": {},
     "output_type": "display_data"
    },
    {
     "data": {
      "application/vnd.jupyter.widget-view+json": {
       "model_id": "db298217f5d24bf991610c84b489b8f4",
       "version_major": 2,
       "version_minor": 0
      },
      "text/plain": [
       "Analyzing comments:   0%|          | 0/37 [00:00<?, ?comment/s]"
      ]
     },
     "metadata": {},
     "output_type": "display_data"
    },
    {
     "data": {
      "application/vnd.jupyter.widget-view+json": {
       "model_id": "240c83408ec1444181d1516846488716",
       "version_major": 2,
       "version_minor": 0
      },
      "text/plain": [
       "Analyzing comments:   0%|          | 0/39 [00:00<?, ?comment/s]"
      ]
     },
     "metadata": {},
     "output_type": "display_data"
    },
    {
     "data": {
      "application/vnd.jupyter.widget-view+json": {
       "model_id": "de24d0ea58cb4b6b80addafde38f21c7",
       "version_major": 2,
       "version_minor": 0
      },
      "text/plain": [
       "Analyzing comments:   0%|          | 0/4 [00:00<?, ?comment/s]"
      ]
     },
     "metadata": {},
     "output_type": "display_data"
    },
    {
     "data": {
      "application/vnd.jupyter.widget-view+json": {
       "model_id": "9660cbcc9d214f1ba23233bd526e7ff0",
       "version_major": 2,
       "version_minor": 0
      },
      "text/plain": [
       "Analyzing comments:   0%|          | 0/11 [00:00<?, ?comment/s]"
      ]
     },
     "metadata": {},
     "output_type": "display_data"
    },
    {
     "data": {
      "application/vnd.jupyter.widget-view+json": {
       "model_id": "be54ddd89eba447c85e245446d312b22",
       "version_major": 2,
       "version_minor": 0
      },
      "text/plain": [
       "Analyzing comments:   0%|          | 0/33 [00:00<?, ?comment/s]"
      ]
     },
     "metadata": {},
     "output_type": "display_data"
    },
    {
     "data": {
      "application/vnd.jupyter.widget-view+json": {
       "model_id": "47a28399c0694a738418425b8e07d107",
       "version_major": 2,
       "version_minor": 0
      },
      "text/plain": [
       "Analyzing comments:   0%|          | 0/2 [00:00<?, ?comment/s]"
      ]
     },
     "metadata": {},
     "output_type": "display_data"
    },
    {
     "data": {
      "application/vnd.jupyter.widget-view+json": {
       "model_id": "6e8aa5b7d0184fb0a6bb4d0652e8a5eb",
       "version_major": 2,
       "version_minor": 0
      },
      "text/plain": [
       "Analyzing comments:   0%|          | 0/49 [00:00<?, ?comment/s]"
      ]
     },
     "metadata": {},
     "output_type": "display_data"
    },
    {
     "data": {
      "application/vnd.jupyter.widget-view+json": {
       "model_id": "2f85ee1632c2484796ed6ac0d5dc39f1",
       "version_major": 2,
       "version_minor": 0
      },
      "text/plain": [
       "Analyzing comments:   0%|          | 0/65 [00:00<?, ?comment/s]"
      ]
     },
     "metadata": {},
     "output_type": "display_data"
    },
    {
     "data": {
      "application/vnd.jupyter.widget-view+json": {
       "model_id": "dfbd1dd6dcad43bfabf13570ef5a1db3",
       "version_major": 2,
       "version_minor": 0
      },
      "text/plain": [
       "Analyzing comments:   0%|          | 0/12 [00:00<?, ?comment/s]"
      ]
     },
     "metadata": {},
     "output_type": "display_data"
    },
    {
     "data": {
      "application/vnd.jupyter.widget-view+json": {
       "model_id": "775e5b91da1b4dac8aa7485e42408370",
       "version_major": 2,
       "version_minor": 0
      },
      "text/plain": [
       "Analyzing comments:   0%|          | 0/8 [00:00<?, ?comment/s]"
      ]
     },
     "metadata": {},
     "output_type": "display_data"
    },
    {
     "data": {
      "application/vnd.jupyter.widget-view+json": {
       "model_id": "f02e0f4ac6a34a25874f8ef7838ad6d2",
       "version_major": 2,
       "version_minor": 0
      },
      "text/plain": [
       "Analyzing comments:   0%|          | 0/35 [00:00<?, ?comment/s]"
      ]
     },
     "metadata": {},
     "output_type": "display_data"
    },
    {
     "data": {
      "application/vnd.jupyter.widget-view+json": {
       "model_id": "fce8b9c12c8e4a91b553d6bd62ab1f41",
       "version_major": 2,
       "version_minor": 0
      },
      "text/plain": [
       "Analyzing comments:   0%|          | 0/27 [00:00<?, ?comment/s]"
      ]
     },
     "metadata": {},
     "output_type": "display_data"
    },
    {
     "data": {
      "application/vnd.jupyter.widget-view+json": {
       "model_id": "b5df297924464d7aae96cf57b3c4de7c",
       "version_major": 2,
       "version_minor": 0
      },
      "text/plain": [
       "Analyzing comments:   0%|          | 0/38 [00:00<?, ?comment/s]"
      ]
     },
     "metadata": {},
     "output_type": "display_data"
    },
    {
     "data": {
      "application/vnd.jupyter.widget-view+json": {
       "model_id": "8d7b044ac5a94f39ab43a666be40a2dc",
       "version_major": 2,
       "version_minor": 0
      },
      "text/plain": [
       "Analyzing comments:   0%|          | 0/2 [00:00<?, ?comment/s]"
      ]
     },
     "metadata": {},
     "output_type": "display_data"
    },
    {
     "data": {
      "application/vnd.jupyter.widget-view+json": {
       "model_id": "9332cb64cebf462fab8898d44516ef83",
       "version_major": 2,
       "version_minor": 0
      },
      "text/plain": [
       "Analyzing comments:   0%|          | 0/33 [00:00<?, ?comment/s]"
      ]
     },
     "metadata": {},
     "output_type": "display_data"
    },
    {
     "data": {
      "application/vnd.jupyter.widget-view+json": {
       "model_id": "5a78cda7d2e44eaead7ea422955c7259",
       "version_major": 2,
       "version_minor": 0
      },
      "text/plain": [
       "Analyzing comments:   0%|          | 0/2 [00:00<?, ?comment/s]"
      ]
     },
     "metadata": {},
     "output_type": "display_data"
    },
    {
     "data": {
      "application/vnd.jupyter.widget-view+json": {
       "model_id": "46cbf7327a814a0892d142f1528d0195",
       "version_major": 2,
       "version_minor": 0
      },
      "text/plain": [
       "Analyzing comments:   0%|          | 0/40 [00:00<?, ?comment/s]"
      ]
     },
     "metadata": {},
     "output_type": "display_data"
    },
    {
     "data": {
      "application/vnd.jupyter.widget-view+json": {
       "model_id": "23378f2056184433a117cc4346d8561a",
       "version_major": 2,
       "version_minor": 0
      },
      "text/plain": [
       "Analyzing comments:   0%|          | 0/12 [00:00<?, ?comment/s]"
      ]
     },
     "metadata": {},
     "output_type": "display_data"
    },
    {
     "data": {
      "application/vnd.jupyter.widget-view+json": {
       "model_id": "4edf5cb40bea4758a38a20392e175618",
       "version_major": 2,
       "version_minor": 0
      },
      "text/plain": [
       "Analyzing comments:   0%|          | 0/19 [00:00<?, ?comment/s]"
      ]
     },
     "metadata": {},
     "output_type": "display_data"
    },
    {
     "data": {
      "application/vnd.jupyter.widget-view+json": {
       "model_id": "4a519d7c37c843728fdaf89c3b27e74d",
       "version_major": 2,
       "version_minor": 0
      },
      "text/plain": [
       "Analyzing comments:   0%|          | 0/11 [00:00<?, ?comment/s]"
      ]
     },
     "metadata": {},
     "output_type": "display_data"
    },
    {
     "data": {
      "application/vnd.jupyter.widget-view+json": {
       "model_id": "62f48275e8c7421081e960bbf72391e4",
       "version_major": 2,
       "version_minor": 0
      },
      "text/plain": [
       "Analyzing comments:   0%|          | 0/38 [00:00<?, ?comment/s]"
      ]
     },
     "metadata": {},
     "output_type": "display_data"
    },
    {
     "data": {
      "application/vnd.jupyter.widget-view+json": {
       "model_id": "f214740d69a64125be1b3c5fb847aab8",
       "version_major": 2,
       "version_minor": 0
      },
      "text/plain": [
       "Analyzing comments:   0%|          | 0/32 [00:00<?, ?comment/s]"
      ]
     },
     "metadata": {},
     "output_type": "display_data"
    },
    {
     "data": {
      "application/vnd.jupyter.widget-view+json": {
       "model_id": "ea55ea4e7fe4455fb759611e86bcf757",
       "version_major": 2,
       "version_minor": 0
      },
      "text/plain": [
       "Analyzing comments:   0%|          | 0/6 [00:00<?, ?comment/s]"
      ]
     },
     "metadata": {},
     "output_type": "display_data"
    },
    {
     "data": {
      "application/vnd.jupyter.widget-view+json": {
       "model_id": "8fab23a9300c4e468b22d07cf8a1f486",
       "version_major": 2,
       "version_minor": 0
      },
      "text/plain": [
       "Analyzing comments:   0%|          | 0/1 [00:00<?, ?comment/s]"
      ]
     },
     "metadata": {},
     "output_type": "display_data"
    },
    {
     "data": {
      "application/vnd.jupyter.widget-view+json": {
       "model_id": "c8e9b8218e5148f98418bbca471edc2c",
       "version_major": 2,
       "version_minor": 0
      },
      "text/plain": [
       "Analyzing comments: 0comment [00:00, ?comment/s]"
      ]
     },
     "metadata": {},
     "output_type": "display_data"
    },
    {
     "data": {
      "application/vnd.jupyter.widget-view+json": {
       "model_id": "a5f84cba96494bdd9631cf54e86296c3",
       "version_major": 2,
       "version_minor": 0
      },
      "text/plain": [
       "Analyzing comments:   0%|          | 0/37 [00:00<?, ?comment/s]"
      ]
     },
     "metadata": {},
     "output_type": "display_data"
    },
    {
     "data": {
      "application/vnd.jupyter.widget-view+json": {
       "model_id": "f8f3124da7094860971290cf44714dcd",
       "version_major": 2,
       "version_minor": 0
      },
      "text/plain": [
       "Analyzing comments:   0%|          | 0/6 [00:00<?, ?comment/s]"
      ]
     },
     "metadata": {},
     "output_type": "display_data"
    },
    {
     "data": {
      "application/vnd.jupyter.widget-view+json": {
       "model_id": "c0284a0dd1154a3ebfdca68e5edf5746",
       "version_major": 2,
       "version_minor": 0
      },
      "text/plain": [
       "Analyzing comments:   0%|          | 0/3 [00:00<?, ?comment/s]"
      ]
     },
     "metadata": {},
     "output_type": "display_data"
    },
    {
     "data": {
      "application/vnd.jupyter.widget-view+json": {
       "model_id": "04a81cf6e88c4f128278f20f10ae9ad8",
       "version_major": 2,
       "version_minor": 0
      },
      "text/plain": [
       "Analyzing comments:   0%|          | 0/3 [00:00<?, ?comment/s]"
      ]
     },
     "metadata": {},
     "output_type": "display_data"
    },
    {
     "data": {
      "application/vnd.jupyter.widget-view+json": {
       "model_id": "f17ca319f958473aae5e64f6f308c45d",
       "version_major": 2,
       "version_minor": 0
      },
      "text/plain": [
       "Analyzing comments:   0%|          | 0/43 [00:00<?, ?comment/s]"
      ]
     },
     "metadata": {},
     "output_type": "display_data"
    },
    {
     "data": {
      "application/vnd.jupyter.widget-view+json": {
       "model_id": "8747456ff781416282f128e431535d6d",
       "version_major": 2,
       "version_minor": 0
      },
      "text/plain": [
       "Analyzing comments:   0%|          | 0/9 [00:00<?, ?comment/s]"
      ]
     },
     "metadata": {},
     "output_type": "display_data"
    },
    {
     "data": {
      "application/vnd.jupyter.widget-view+json": {
       "model_id": "5517346e69854c8cb7a7a7c4dca32ef8",
       "version_major": 2,
       "version_minor": 0
      },
      "text/plain": [
       "Analyzing comments:   0%|          | 0/8 [00:00<?, ?comment/s]"
      ]
     },
     "metadata": {},
     "output_type": "display_data"
    },
    {
     "data": {
      "application/vnd.jupyter.widget-view+json": {
       "model_id": "9f886a6399a0474aad45fc89179f21fd",
       "version_major": 2,
       "version_minor": 0
      },
      "text/plain": [
       "Analyzing comments:   0%|          | 0/13 [00:00<?, ?comment/s]"
      ]
     },
     "metadata": {},
     "output_type": "display_data"
    },
    {
     "data": {
      "application/vnd.jupyter.widget-view+json": {
       "model_id": "df1d941b9e854bf69cf94ceba5d5c5c6",
       "version_major": 2,
       "version_minor": 0
      },
      "text/plain": [
       "Analyzing comments:   0%|          | 0/1 [00:00<?, ?comment/s]"
      ]
     },
     "metadata": {},
     "output_type": "display_data"
    },
    {
     "data": {
      "application/vnd.jupyter.widget-view+json": {
       "model_id": "8dcab11a9c8648a9964c6c770164f49d",
       "version_major": 2,
       "version_minor": 0
      },
      "text/plain": [
       "Analyzing comments:   0%|          | 0/1 [00:00<?, ?comment/s]"
      ]
     },
     "metadata": {},
     "output_type": "display_data"
    },
    {
     "data": {
      "application/vnd.jupyter.widget-view+json": {
       "model_id": "62aed09cf28248dc8e7c4b0a98acb3bb",
       "version_major": 2,
       "version_minor": 0
      },
      "text/plain": [
       "Analyzing comments:   0%|          | 0/43 [00:00<?, ?comment/s]"
      ]
     },
     "metadata": {},
     "output_type": "display_data"
    },
    {
     "data": {
      "application/vnd.jupyter.widget-view+json": {
       "model_id": "45bfa6995528431ebdada5c251654e57",
       "version_major": 2,
       "version_minor": 0
      },
      "text/plain": [
       "Analyzing comments:   0%|          | 0/25 [00:00<?, ?comment/s]"
      ]
     },
     "metadata": {},
     "output_type": "display_data"
    },
    {
     "data": {
      "application/vnd.jupyter.widget-view+json": {
       "model_id": "ec03b52ab224474db0b18555e9269f82",
       "version_major": 2,
       "version_minor": 0
      },
      "text/plain": [
       "Analyzing comments:   0%|          | 0/33 [00:00<?, ?comment/s]"
      ]
     },
     "metadata": {},
     "output_type": "display_data"
    },
    {
     "data": {
      "application/vnd.jupyter.widget-view+json": {
       "model_id": "0cd7329036554f98a3d95311ade00d91",
       "version_major": 2,
       "version_minor": 0
      },
      "text/plain": [
       "Analyzing comments:   0%|          | 0/38 [00:00<?, ?comment/s]"
      ]
     },
     "metadata": {},
     "output_type": "display_data"
    },
    {
     "data": {
      "application/vnd.jupyter.widget-view+json": {
       "model_id": "0ad576073a424d138a4b0447f22c1a64",
       "version_major": 2,
       "version_minor": 0
      },
      "text/plain": [
       "Analyzing comments:   0%|          | 0/1 [00:00<?, ?comment/s]"
      ]
     },
     "metadata": {},
     "output_type": "display_data"
    },
    {
     "data": {
      "application/vnd.jupyter.widget-view+json": {
       "model_id": "cb700077d1cd42e0bd0b2ed19d19d2f5",
       "version_major": 2,
       "version_minor": 0
      },
      "text/plain": [
       "Analyzing comments:   0%|          | 0/15 [00:00<?, ?comment/s]"
      ]
     },
     "metadata": {},
     "output_type": "display_data"
    },
    {
     "data": {
      "application/vnd.jupyter.widget-view+json": {
       "model_id": "348a50d3cfa94da288b8f22c49251550",
       "version_major": 2,
       "version_minor": 0
      },
      "text/plain": [
       "Analyzing comments:   0%|          | 0/18 [00:00<?, ?comment/s]"
      ]
     },
     "metadata": {},
     "output_type": "display_data"
    },
    {
     "data": {
      "application/vnd.jupyter.widget-view+json": {
       "model_id": "aaf5c50746ce49e58dca883c54f25198",
       "version_major": 2,
       "version_minor": 0
      },
      "text/plain": [
       "Analyzing comments:   0%|          | 0/29 [00:00<?, ?comment/s]"
      ]
     },
     "metadata": {},
     "output_type": "display_data"
    },
    {
     "data": {
      "application/vnd.jupyter.widget-view+json": {
       "model_id": "312cc454fc1848d3914e8e193ba76d54",
       "version_major": 2,
       "version_minor": 0
      },
      "text/plain": [
       "Analyzing comments:   0%|          | 0/12 [00:00<?, ?comment/s]"
      ]
     },
     "metadata": {},
     "output_type": "display_data"
    },
    {
     "data": {
      "application/vnd.jupyter.widget-view+json": {
       "model_id": "dde06ba20c1042caab0b86f852395760",
       "version_major": 2,
       "version_minor": 0
      },
      "text/plain": [
       "Analyzing comments:   0%|          | 0/20 [00:00<?, ?comment/s]"
      ]
     },
     "metadata": {},
     "output_type": "display_data"
    },
    {
     "data": {
      "application/vnd.jupyter.widget-view+json": {
       "model_id": "565aabf6b3c7454dab36e9174c63a1b3",
       "version_major": 2,
       "version_minor": 0
      },
      "text/plain": [
       "Analyzing comments:   0%|          | 0/2 [00:00<?, ?comment/s]"
      ]
     },
     "metadata": {},
     "output_type": "display_data"
    },
    {
     "data": {
      "application/vnd.jupyter.widget-view+json": {
       "model_id": "bc0ac73f08ab4f19ba51ce7fc640fed6",
       "version_major": 2,
       "version_minor": 0
      },
      "text/plain": [
       "Analyzing comments:   0%|          | 0/18 [00:00<?, ?comment/s]"
      ]
     },
     "metadata": {},
     "output_type": "display_data"
    },
    {
     "data": {
      "application/vnd.jupyter.widget-view+json": {
       "model_id": "d8fb826eaf3d4cc9a7ce70b524bdac95",
       "version_major": 2,
       "version_minor": 0
      },
      "text/plain": [
       "Analyzing comments:   0%|          | 0/36 [00:00<?, ?comment/s]"
      ]
     },
     "metadata": {},
     "output_type": "display_data"
    },
    {
     "data": {
      "application/vnd.jupyter.widget-view+json": {
       "model_id": "f2599164301b44c78f24aa4b32f2ec23",
       "version_major": 2,
       "version_minor": 0
      },
      "text/plain": [
       "Analyzing comments:   0%|          | 0/14 [00:00<?, ?comment/s]"
      ]
     },
     "metadata": {},
     "output_type": "display_data"
    },
    {
     "data": {
      "application/vnd.jupyter.widget-view+json": {
       "model_id": "ffdc5a6eaec4454aa67326668fddc72f",
       "version_major": 2,
       "version_minor": 0
      },
      "text/plain": [
       "Analyzing comments:   0%|          | 0/2 [00:00<?, ?comment/s]"
      ]
     },
     "metadata": {},
     "output_type": "display_data"
    },
    {
     "data": {
      "application/vnd.jupyter.widget-view+json": {
       "model_id": "88f3fa48e7244e46a28a91ce3878036b",
       "version_major": 2,
       "version_minor": 0
      },
      "text/plain": [
       "Analyzing comments:   0%|          | 0/10 [00:00<?, ?comment/s]"
      ]
     },
     "metadata": {},
     "output_type": "display_data"
    },
    {
     "data": {
      "application/vnd.jupyter.widget-view+json": {
       "model_id": "00cdaec265af467580de0c248d679826",
       "version_major": 2,
       "version_minor": 0
      },
      "text/plain": [
       "Analyzing comments:   0%|          | 0/6 [00:00<?, ?comment/s]"
      ]
     },
     "metadata": {},
     "output_type": "display_data"
    },
    {
     "data": {
      "application/vnd.jupyter.widget-view+json": {
       "model_id": "2ad7380d1a4c4b7aae5e05a25b37d062",
       "version_major": 2,
       "version_minor": 0
      },
      "text/plain": [
       "Analyzing comments:   0%|          | 0/39 [00:00<?, ?comment/s]"
      ]
     },
     "metadata": {},
     "output_type": "display_data"
    },
    {
     "data": {
      "application/vnd.jupyter.widget-view+json": {
       "model_id": "8ba75d22b7a14cccbf22f8ce2caef634",
       "version_major": 2,
       "version_minor": 0
      },
      "text/plain": [
       "Analyzing comments:   0%|          | 0/8 [00:00<?, ?comment/s]"
      ]
     },
     "metadata": {},
     "output_type": "display_data"
    },
    {
     "data": {
      "application/vnd.jupyter.widget-view+json": {
       "model_id": "085b78167dee48fb835c5106d718b367",
       "version_major": 2,
       "version_minor": 0
      },
      "text/plain": [
       "Analyzing comments:   0%|          | 0/38 [00:00<?, ?comment/s]"
      ]
     },
     "metadata": {},
     "output_type": "display_data"
    },
    {
     "data": {
      "application/vnd.jupyter.widget-view+json": {
       "model_id": "7ad20b7b1e1946c6a80398e69656bbe2",
       "version_major": 2,
       "version_minor": 0
      },
      "text/plain": [
       "Analyzing comments:   0%|          | 0/3 [00:00<?, ?comment/s]"
      ]
     },
     "metadata": {},
     "output_type": "display_data"
    },
    {
     "data": {
      "application/vnd.jupyter.widget-view+json": {
       "model_id": "1a3d27386c20429cae6a1de45e45a938",
       "version_major": 2,
       "version_minor": 0
      },
      "text/plain": [
       "Analyzing comments:   0%|          | 0/38 [00:00<?, ?comment/s]"
      ]
     },
     "metadata": {},
     "output_type": "display_data"
    },
    {
     "data": {
      "application/vnd.jupyter.widget-view+json": {
       "model_id": "641434872117446bb8da6aeddb26d31b",
       "version_major": 2,
       "version_minor": 0
      },
      "text/plain": [
       "Analyzing comments:   0%|          | 0/36 [00:00<?, ?comment/s]"
      ]
     },
     "metadata": {},
     "output_type": "display_data"
    },
    {
     "data": {
      "application/vnd.jupyter.widget-view+json": {
       "model_id": "52b7aaff92f1440380c77f185fede19f",
       "version_major": 2,
       "version_minor": 0
      },
      "text/plain": [
       "Analyzing comments:   0%|          | 0/6 [00:00<?, ?comment/s]"
      ]
     },
     "metadata": {},
     "output_type": "display_data"
    },
    {
     "data": {
      "application/vnd.jupyter.widget-view+json": {
       "model_id": "af12d514fa7f4b5ab5a7ab9bf3911448",
       "version_major": 2,
       "version_minor": 0
      },
      "text/plain": [
       "Analyzing comments:   0%|          | 0/33 [00:00<?, ?comment/s]"
      ]
     },
     "metadata": {},
     "output_type": "display_data"
    },
    {
     "data": {
      "application/vnd.jupyter.widget-view+json": {
       "model_id": "029ab28a86ed42a089c83cdf93ac9aa8",
       "version_major": 2,
       "version_minor": 0
      },
      "text/plain": [
       "Analyzing comments:   0%|          | 0/12 [00:00<?, ?comment/s]"
      ]
     },
     "metadata": {},
     "output_type": "display_data"
    },
    {
     "data": {
      "application/vnd.jupyter.widget-view+json": {
       "model_id": "4e470cbab5ff4129971c52a486f72316",
       "version_major": 2,
       "version_minor": 0
      },
      "text/plain": [
       "Analyzing comments:   0%|          | 0/5 [00:00<?, ?comment/s]"
      ]
     },
     "metadata": {},
     "output_type": "display_data"
    },
    {
     "data": {
      "application/vnd.jupyter.widget-view+json": {
       "model_id": "ab88e50277194d9ca243bb9ce2847064",
       "version_major": 2,
       "version_minor": 0
      },
      "text/plain": [
       "Analyzing comments:   0%|          | 0/35 [00:00<?, ?comment/s]"
      ]
     },
     "metadata": {},
     "output_type": "display_data"
    },
    {
     "data": {
      "application/vnd.jupyter.widget-view+json": {
       "model_id": "1c7b4e1c8d984027b4bda374d69ced64",
       "version_major": 2,
       "version_minor": 0
      },
      "text/plain": [
       "Analyzing comments:   0%|          | 0/41 [00:00<?, ?comment/s]"
      ]
     },
     "metadata": {},
     "output_type": "display_data"
    },
    {
     "data": {
      "application/vnd.jupyter.widget-view+json": {
       "model_id": "418f560ff41149ffbca4870a2dd81932",
       "version_major": 2,
       "version_minor": 0
      },
      "text/plain": [
       "Analyzing comments:   0%|          | 0/3 [00:00<?, ?comment/s]"
      ]
     },
     "metadata": {},
     "output_type": "display_data"
    },
    {
     "data": {
      "application/vnd.jupyter.widget-view+json": {
       "model_id": "927f218144c146b78b9954fece43fa11",
       "version_major": 2,
       "version_minor": 0
      },
      "text/plain": [
       "Analyzing comments:   0%|          | 0/16 [00:00<?, ?comment/s]"
      ]
     },
     "metadata": {},
     "output_type": "display_data"
    },
    {
     "data": {
      "application/vnd.jupyter.widget-view+json": {
       "model_id": "5c25c6305ca74d0895ff1579d78a93d1",
       "version_major": 2,
       "version_minor": 0
      },
      "text/plain": [
       "Analyzing comments:   0%|          | 0/37 [00:00<?, ?comment/s]"
      ]
     },
     "metadata": {},
     "output_type": "display_data"
    },
    {
     "data": {
      "application/vnd.jupyter.widget-view+json": {
       "model_id": "ef7cd6485f7146a6a4d1cb08b58da634",
       "version_major": 2,
       "version_minor": 0
      },
      "text/plain": [
       "Analyzing comments:   0%|          | 0/6 [00:00<?, ?comment/s]"
      ]
     },
     "metadata": {},
     "output_type": "display_data"
    },
    {
     "data": {
      "application/vnd.jupyter.widget-view+json": {
       "model_id": "e2e8de4a7df34c92bdc941f3a46813d6",
       "version_major": 2,
       "version_minor": 0
      },
      "text/plain": [
       "Analyzing comments:   0%|          | 0/39 [00:00<?, ?comment/s]"
      ]
     },
     "metadata": {},
     "output_type": "display_data"
    },
    {
     "data": {
      "application/vnd.jupyter.widget-view+json": {
       "model_id": "fcaf5a6cf81644829334cf68cd483ca3",
       "version_major": 2,
       "version_minor": 0
      },
      "text/plain": [
       "Analyzing comments:   0%|          | 0/2 [00:00<?, ?comment/s]"
      ]
     },
     "metadata": {},
     "output_type": "display_data"
    },
    {
     "data": {
      "application/vnd.jupyter.widget-view+json": {
       "model_id": "4e1a93a594e54584b511db7e47998e2c",
       "version_major": 2,
       "version_minor": 0
      },
      "text/plain": [
       "Analyzing comments: 0comment [00:00, ?comment/s]"
      ]
     },
     "metadata": {},
     "output_type": "display_data"
    },
    {
     "data": {
      "application/vnd.jupyter.widget-view+json": {
       "model_id": "b53303b8e42a4d949e1dd5ad2f22035d",
       "version_major": 2,
       "version_minor": 0
      },
      "text/plain": [
       "Analyzing comments:   0%|          | 0/1 [00:00<?, ?comment/s]"
      ]
     },
     "metadata": {},
     "output_type": "display_data"
    },
    {
     "data": {
      "application/vnd.jupyter.widget-view+json": {
       "model_id": "135e6a6e204f430c920bc128d988ce41",
       "version_major": 2,
       "version_minor": 0
      },
      "text/plain": [
       "Analyzing comments:   0%|          | 0/42 [00:00<?, ?comment/s]"
      ]
     },
     "metadata": {},
     "output_type": "display_data"
    },
    {
     "data": {
      "application/vnd.jupyter.widget-view+json": {
       "model_id": "203fb80405b643678ec7ceeeb438a450",
       "version_major": 2,
       "version_minor": 0
      },
      "text/plain": [
       "Analyzing comments:   0%|          | 0/39 [00:00<?, ?comment/s]"
      ]
     },
     "metadata": {},
     "output_type": "display_data"
    },
    {
     "data": {
      "application/vnd.jupyter.widget-view+json": {
       "model_id": "bc0d64f266404c77befc0d05467d756e",
       "version_major": 2,
       "version_minor": 0
      },
      "text/plain": [
       "Analyzing comments: 0comment [00:00, ?comment/s]"
      ]
     },
     "metadata": {},
     "output_type": "display_data"
    },
    {
     "data": {
      "application/vnd.jupyter.widget-view+json": {
       "model_id": "d22e23fd3c334c899ecdb23af312090f",
       "version_major": 2,
       "version_minor": 0
      },
      "text/plain": [
       "Analyzing comments:   0%|          | 0/27 [00:00<?, ?comment/s]"
      ]
     },
     "metadata": {},
     "output_type": "display_data"
    },
    {
     "data": {
      "application/vnd.jupyter.widget-view+json": {
       "model_id": "3e9db3376b1441dfbb124c97f073127f",
       "version_major": 2,
       "version_minor": 0
      },
      "text/plain": [
       "Analyzing comments:   0%|          | 0/4 [00:00<?, ?comment/s]"
      ]
     },
     "metadata": {},
     "output_type": "display_data"
    },
    {
     "data": {
      "application/vnd.jupyter.widget-view+json": {
       "model_id": "84c08e75aeb4488c8198499db8455a37",
       "version_major": 2,
       "version_minor": 0
      },
      "text/plain": [
       "Analyzing comments:   0%|          | 0/17 [00:00<?, ?comment/s]"
      ]
     },
     "metadata": {},
     "output_type": "display_data"
    },
    {
     "data": {
      "application/vnd.jupyter.widget-view+json": {
       "model_id": "f5662c7b874843d49d105b1eb1545708",
       "version_major": 2,
       "version_minor": 0
      },
      "text/plain": [
       "Analyzing comments:   0%|          | 0/6 [00:00<?, ?comment/s]"
      ]
     },
     "metadata": {},
     "output_type": "display_data"
    },
    {
     "data": {
      "application/vnd.jupyter.widget-view+json": {
       "model_id": "755595d45a6441af9e75f1adb275746a",
       "version_major": 2,
       "version_minor": 0
      },
      "text/plain": [
       "Analyzing comments:   0%|          | 0/3 [00:00<?, ?comment/s]"
      ]
     },
     "metadata": {},
     "output_type": "display_data"
    },
    {
     "data": {
      "application/vnd.jupyter.widget-view+json": {
       "model_id": "b06d4cab9c1b42289ab91b9d0df39361",
       "version_major": 2,
       "version_minor": 0
      },
      "text/plain": [
       "Analyzing comments:   0%|          | 0/5 [00:00<?, ?comment/s]"
      ]
     },
     "metadata": {},
     "output_type": "display_data"
    },
    {
     "data": {
      "application/vnd.jupyter.widget-view+json": {
       "model_id": "06d8374a53ed4d9c97f86b7dedec8b33",
       "version_major": 2,
       "version_minor": 0
      },
      "text/plain": [
       "Analyzing comments:   0%|          | 0/27 [00:00<?, ?comment/s]"
      ]
     },
     "metadata": {},
     "output_type": "display_data"
    },
    {
     "data": {
      "application/vnd.jupyter.widget-view+json": {
       "model_id": "6bce4860eca64c99885984ab1a11435c",
       "version_major": 2,
       "version_minor": 0
      },
      "text/plain": [
       "Analyzing comments:   0%|          | 0/24 [00:00<?, ?comment/s]"
      ]
     },
     "metadata": {},
     "output_type": "display_data"
    },
    {
     "data": {
      "application/vnd.jupyter.widget-view+json": {
       "model_id": "6387d11ed6724f1f994bbcd27ad689dc",
       "version_major": 2,
       "version_minor": 0
      },
      "text/plain": [
       "Analyzing comments:   0%|          | 0/39 [00:00<?, ?comment/s]"
      ]
     },
     "metadata": {},
     "output_type": "display_data"
    },
    {
     "data": {
      "application/vnd.jupyter.widget-view+json": {
       "model_id": "4ea4e94bedbc40259952078f7e2d8ca1",
       "version_major": 2,
       "version_minor": 0
      },
      "text/plain": [
       "Analyzing comments:   0%|          | 0/6 [00:00<?, ?comment/s]"
      ]
     },
     "metadata": {},
     "output_type": "display_data"
    },
    {
     "data": {
      "application/vnd.jupyter.widget-view+json": {
       "model_id": "fe86f905cfc041aaaf2af971ad309a3c",
       "version_major": 2,
       "version_minor": 0
      },
      "text/plain": [
       "Analyzing comments:   0%|          | 0/28 [00:00<?, ?comment/s]"
      ]
     },
     "metadata": {},
     "output_type": "display_data"
    },
    {
     "data": {
      "application/vnd.jupyter.widget-view+json": {
       "model_id": "d1af60e79d90418f804009d352271892",
       "version_major": 2,
       "version_minor": 0
      },
      "text/plain": [
       "Analyzing comments:   0%|          | 0/30 [00:00<?, ?comment/s]"
      ]
     },
     "metadata": {},
     "output_type": "display_data"
    },
    {
     "data": {
      "application/vnd.jupyter.widget-view+json": {
       "model_id": "96bdf4302b8f4bdf801a4dd53e95196a",
       "version_major": 2,
       "version_minor": 0
      },
      "text/plain": [
       "Analyzing comments:   0%|          | 0/6 [00:00<?, ?comment/s]"
      ]
     },
     "metadata": {},
     "output_type": "display_data"
    },
    {
     "data": {
      "application/vnd.jupyter.widget-view+json": {
       "model_id": "22857020c526467ea1b45b854e26d0ac",
       "version_major": 2,
       "version_minor": 0
      },
      "text/plain": [
       "Analyzing comments:   0%|          | 0/2 [00:00<?, ?comment/s]"
      ]
     },
     "metadata": {},
     "output_type": "display_data"
    },
    {
     "data": {
      "application/vnd.jupyter.widget-view+json": {
       "model_id": "44e07a1513c04864bf07f3fc20144e49",
       "version_major": 2,
       "version_minor": 0
      },
      "text/plain": [
       "Analyzing comments:   0%|          | 0/19 [00:00<?, ?comment/s]"
      ]
     },
     "metadata": {},
     "output_type": "display_data"
    },
    {
     "data": {
      "application/vnd.jupyter.widget-view+json": {
       "model_id": "77e65273076346168b8ff1325df56918",
       "version_major": 2,
       "version_minor": 0
      },
      "text/plain": [
       "Analyzing comments:   0%|          | 0/21 [00:00<?, ?comment/s]"
      ]
     },
     "metadata": {},
     "output_type": "display_data"
    },
    {
     "data": {
      "application/vnd.jupyter.widget-view+json": {
       "model_id": "a34e5fe2a3af47a2ba42f6b6ea46dbfa",
       "version_major": 2,
       "version_minor": 0
      },
      "text/plain": [
       "Analyzing comments:   0%|          | 0/36 [00:00<?, ?comment/s]"
      ]
     },
     "metadata": {},
     "output_type": "display_data"
    },
    {
     "data": {
      "application/vnd.jupyter.widget-view+json": {
       "model_id": "541b524fba4e4bb4add1119fb3df0eba",
       "version_major": 2,
       "version_minor": 0
      },
      "text/plain": [
       "Analyzing comments:   0%|          | 0/9 [00:00<?, ?comment/s]"
      ]
     },
     "metadata": {},
     "output_type": "display_data"
    },
    {
     "data": {
      "application/vnd.jupyter.widget-view+json": {
       "model_id": "9e87a557f7354f80a3f699069c721820",
       "version_major": 2,
       "version_minor": 0
      },
      "text/plain": [
       "Analyzing comments:   0%|          | 0/24 [00:00<?, ?comment/s]"
      ]
     },
     "metadata": {},
     "output_type": "display_data"
    },
    {
     "data": {
      "application/vnd.jupyter.widget-view+json": {
       "model_id": "ce0f4df4e1134de782950e782532b646",
       "version_major": 2,
       "version_minor": 0
      },
      "text/plain": [
       "Analyzing comments:   0%|          | 0/4 [00:00<?, ?comment/s]"
      ]
     },
     "metadata": {},
     "output_type": "display_data"
    },
    {
     "data": {
      "application/vnd.jupyter.widget-view+json": {
       "model_id": "d081a491143948fc83be7203eb723949",
       "version_major": 2,
       "version_minor": 0
      },
      "text/plain": [
       "Analyzing comments:   0%|          | 0/8 [00:00<?, ?comment/s]"
      ]
     },
     "metadata": {},
     "output_type": "display_data"
    },
    {
     "data": {
      "application/vnd.jupyter.widget-view+json": {
       "model_id": "f5d94bdfc98240089b2e8d31d0b473b8",
       "version_major": 2,
       "version_minor": 0
      },
      "text/plain": [
       "Analyzing comments:   0%|          | 0/5 [00:00<?, ?comment/s]"
      ]
     },
     "metadata": {},
     "output_type": "display_data"
    },
    {
     "data": {
      "application/vnd.jupyter.widget-view+json": {
       "model_id": "0556d223cab844dc9aa465691cd30498",
       "version_major": 2,
       "version_minor": 0
      },
      "text/plain": [
       "Analyzing comments: 0comment [00:00, ?comment/s]"
      ]
     },
     "metadata": {},
     "output_type": "display_data"
    },
    {
     "data": {
      "application/vnd.jupyter.widget-view+json": {
       "model_id": "99847ab55a0d41f8b474a5b189b34ce2",
       "version_major": 2,
       "version_minor": 0
      },
      "text/plain": [
       "Analyzing comments:   0%|          | 0/20 [00:00<?, ?comment/s]"
      ]
     },
     "metadata": {},
     "output_type": "display_data"
    },
    {
     "data": {
      "application/vnd.jupyter.widget-view+json": {
       "model_id": "50fff9f045bd48269614e211611d0058",
       "version_major": 2,
       "version_minor": 0
      },
      "text/plain": [
       "Analyzing comments:   0%|          | 0/12 [00:00<?, ?comment/s]"
      ]
     },
     "metadata": {},
     "output_type": "display_data"
    },
    {
     "data": {
      "application/vnd.jupyter.widget-view+json": {
       "model_id": "5b77f2eb8e634ff58f8db463a533a2fa",
       "version_major": 2,
       "version_minor": 0
      },
      "text/plain": [
       "Analyzing comments:   0%|          | 0/20 [00:00<?, ?comment/s]"
      ]
     },
     "metadata": {},
     "output_type": "display_data"
    },
    {
     "data": {
      "application/vnd.jupyter.widget-view+json": {
       "model_id": "d407aebc2e73472aaab009d0fa3fc241",
       "version_major": 2,
       "version_minor": 0
      },
      "text/plain": [
       "Analyzing comments:   0%|          | 0/20 [00:00<?, ?comment/s]"
      ]
     },
     "metadata": {},
     "output_type": "display_data"
    },
    {
     "data": {
      "application/vnd.jupyter.widget-view+json": {
       "model_id": "f991cccd6aec45b1991bbaacb27c812d",
       "version_major": 2,
       "version_minor": 0
      },
      "text/plain": [
       "Analyzing comments:   0%|          | 0/16 [00:00<?, ?comment/s]"
      ]
     },
     "metadata": {},
     "output_type": "display_data"
    },
    {
     "data": {
      "application/vnd.jupyter.widget-view+json": {
       "model_id": "c718fdb9765940d3be03e42d7b33b78e",
       "version_major": 2,
       "version_minor": 0
      },
      "text/plain": [
       "Analyzing comments:   0%|          | 0/19 [00:00<?, ?comment/s]"
      ]
     },
     "metadata": {},
     "output_type": "display_data"
    },
    {
     "data": {
      "application/vnd.jupyter.widget-view+json": {
       "model_id": "7c341cbb40ed42e7ae8ff6e080cc2883",
       "version_major": 2,
       "version_minor": 0
      },
      "text/plain": [
       "Analyzing comments:   0%|          | 0/9 [00:00<?, ?comment/s]"
      ]
     },
     "metadata": {},
     "output_type": "display_data"
    },
    {
     "data": {
      "application/vnd.jupyter.widget-view+json": {
       "model_id": "49fe31ca9f5349219f5f0e6b49427d51",
       "version_major": 2,
       "version_minor": 0
      },
      "text/plain": [
       "Analyzing comments:   0%|          | 0/21 [00:00<?, ?comment/s]"
      ]
     },
     "metadata": {},
     "output_type": "display_data"
    },
    {
     "data": {
      "application/vnd.jupyter.widget-view+json": {
       "model_id": "99d39790053d49579a039cab203a7e50",
       "version_major": 2,
       "version_minor": 0
      },
      "text/plain": [
       "Analyzing comments:   0%|          | 0/12 [00:00<?, ?comment/s]"
      ]
     },
     "metadata": {},
     "output_type": "display_data"
    },
    {
     "data": {
      "application/vnd.jupyter.widget-view+json": {
       "model_id": "cd26b68c23c94dbc90944255cc4bbb0e",
       "version_major": 2,
       "version_minor": 0
      },
      "text/plain": [
       "Analyzing comments:   0%|          | 0/19 [00:00<?, ?comment/s]"
      ]
     },
     "metadata": {},
     "output_type": "display_data"
    },
    {
     "data": {
      "application/vnd.jupyter.widget-view+json": {
       "model_id": "9164104bb7f042b4a95dc5ab59e672c9",
       "version_major": 2,
       "version_minor": 0
      },
      "text/plain": [
       "Analyzing comments:   0%|          | 0/25 [00:00<?, ?comment/s]"
      ]
     },
     "metadata": {},
     "output_type": "display_data"
    },
    {
     "data": {
      "application/vnd.jupyter.widget-view+json": {
       "model_id": "c05136d99e8841b584e78c1f818c6909",
       "version_major": 2,
       "version_minor": 0
      },
      "text/plain": [
       "Analyzing comments:   0%|          | 0/3 [00:00<?, ?comment/s]"
      ]
     },
     "metadata": {},
     "output_type": "display_data"
    },
    {
     "data": {
      "application/vnd.jupyter.widget-view+json": {
       "model_id": "2be2d83ed55344778e8c4b6ac3c31efc",
       "version_major": 2,
       "version_minor": 0
      },
      "text/plain": [
       "Analyzing comments:   0%|          | 0/4 [00:00<?, ?comment/s]"
      ]
     },
     "metadata": {},
     "output_type": "display_data"
    },
    {
     "data": {
      "application/vnd.jupyter.widget-view+json": {
       "model_id": "8e501bda781f477ea5de912a79f728d5",
       "version_major": 2,
       "version_minor": 0
      },
      "text/plain": [
       "Analyzing comments: 0comment [00:00, ?comment/s]"
      ]
     },
     "metadata": {},
     "output_type": "display_data"
    },
    {
     "data": {
      "application/vnd.jupyter.widget-view+json": {
       "model_id": "bfe48ae0a6c544999a58f07e9c880f28",
       "version_major": 2,
       "version_minor": 0
      },
      "text/plain": [
       "Analyzing comments:   0%|          | 0/3 [00:00<?, ?comment/s]"
      ]
     },
     "metadata": {},
     "output_type": "display_data"
    },
    {
     "data": {
      "application/vnd.jupyter.widget-view+json": {
       "model_id": "b3621ba323c648b19fdd55f6bb27191f",
       "version_major": 2,
       "version_minor": 0
      },
      "text/plain": [
       "Analyzing comments:   0%|          | 0/21 [00:00<?, ?comment/s]"
      ]
     },
     "metadata": {},
     "output_type": "display_data"
    },
    {
     "data": {
      "application/vnd.jupyter.widget-view+json": {
       "model_id": "933dec29d51d487c84f04c77f43c33c3",
       "version_major": 2,
       "version_minor": 0
      },
      "text/plain": [
       "Analyzing comments:   0%|          | 0/11 [00:00<?, ?comment/s]"
      ]
     },
     "metadata": {},
     "output_type": "display_data"
    },
    {
     "data": {
      "application/vnd.jupyter.widget-view+json": {
       "model_id": "18487d8ef726422799c4149e8e67bf17",
       "version_major": 2,
       "version_minor": 0
      },
      "text/plain": [
       "Analyzing comments:   0%|          | 0/19 [00:00<?, ?comment/s]"
      ]
     },
     "metadata": {},
     "output_type": "display_data"
    },
    {
     "data": {
      "application/vnd.jupyter.widget-view+json": {
       "model_id": "2265fec288d345af9d220ee48bc904f6",
       "version_major": 2,
       "version_minor": 0
      },
      "text/plain": [
       "Analyzing comments:   0%|          | 0/23 [00:00<?, ?comment/s]"
      ]
     },
     "metadata": {},
     "output_type": "display_data"
    },
    {
     "data": {
      "application/vnd.jupyter.widget-view+json": {
       "model_id": "4f725d849dae4734bff3ca3015f3ba1c",
       "version_major": 2,
       "version_minor": 0
      },
      "text/plain": [
       "Analyzing comments:   0%|          | 0/18 [00:00<?, ?comment/s]"
      ]
     },
     "metadata": {},
     "output_type": "display_data"
    },
    {
     "data": {
      "application/vnd.jupyter.widget-view+json": {
       "model_id": "e1601b79f0634e7ea4f314bb380be5e3",
       "version_major": 2,
       "version_minor": 0
      },
      "text/plain": [
       "Analyzing comments:   0%|          | 0/29 [00:00<?, ?comment/s]"
      ]
     },
     "metadata": {},
     "output_type": "display_data"
    },
    {
     "data": {
      "application/vnd.jupyter.widget-view+json": {
       "model_id": "b6fbeb9c696c40a28d6e1f4049035547",
       "version_major": 2,
       "version_minor": 0
      },
      "text/plain": [
       "Analyzing comments:   0%|          | 0/2 [00:00<?, ?comment/s]"
      ]
     },
     "metadata": {},
     "output_type": "display_data"
    },
    {
     "data": {
      "application/vnd.jupyter.widget-view+json": {
       "model_id": "88ab2aefa29b4e2bbaf460673956451e",
       "version_major": 2,
       "version_minor": 0
      },
      "text/plain": [
       "Analyzing comments:   0%|          | 0/27 [00:00<?, ?comment/s]"
      ]
     },
     "metadata": {},
     "output_type": "display_data"
    },
    {
     "data": {
      "application/vnd.jupyter.widget-view+json": {
       "model_id": "d86628ef7c624acaa80c829227619b78",
       "version_major": 2,
       "version_minor": 0
      },
      "text/plain": [
       "Analyzing comments:   0%|          | 0/36 [00:00<?, ?comment/s]"
      ]
     },
     "metadata": {},
     "output_type": "display_data"
    },
    {
     "data": {
      "application/vnd.jupyter.widget-view+json": {
       "model_id": "c695ed0feeeb413c84f3f3e5d2daeb9f",
       "version_major": 2,
       "version_minor": 0
      },
      "text/plain": [
       "Analyzing comments:   0%|          | 0/40 [00:00<?, ?comment/s]"
      ]
     },
     "metadata": {},
     "output_type": "display_data"
    },
    {
     "data": {
      "application/vnd.jupyter.widget-view+json": {
       "model_id": "dc19079521c840ab8023a6cbee7c50f3",
       "version_major": 2,
       "version_minor": 0
      },
      "text/plain": [
       "Analyzing comments:   0%|          | 0/42 [00:00<?, ?comment/s]"
      ]
     },
     "metadata": {},
     "output_type": "display_data"
    },
    {
     "data": {
      "application/vnd.jupyter.widget-view+json": {
       "model_id": "f26094ac3e024034aa6c132e693d992d",
       "version_major": 2,
       "version_minor": 0
      },
      "text/plain": [
       "Analyzing comments:   0%|          | 0/13 [00:00<?, ?comment/s]"
      ]
     },
     "metadata": {},
     "output_type": "display_data"
    },
    {
     "data": {
      "application/vnd.jupyter.widget-view+json": {
       "model_id": "4d3af23524a34855a3090a00252d2c32",
       "version_major": 2,
       "version_minor": 0
      },
      "text/plain": [
       "Analyzing comments:   0%|          | 0/6 [00:00<?, ?comment/s]"
      ]
     },
     "metadata": {},
     "output_type": "display_data"
    },
    {
     "data": {
      "application/vnd.jupyter.widget-view+json": {
       "model_id": "ce4fed4680f44ce69f874db7e1a741a6",
       "version_major": 2,
       "version_minor": 0
      },
      "text/plain": [
       "Analyzing comments:   0%|          | 0/11 [00:00<?, ?comment/s]"
      ]
     },
     "metadata": {},
     "output_type": "display_data"
    },
    {
     "data": {
      "application/vnd.jupyter.widget-view+json": {
       "model_id": "659a214fa2494768ad936a14a4d91c2b",
       "version_major": 2,
       "version_minor": 0
      },
      "text/plain": [
       "Analyzing comments:   0%|          | 0/13 [00:00<?, ?comment/s]"
      ]
     },
     "metadata": {},
     "output_type": "display_data"
    },
    {
     "data": {
      "application/vnd.jupyter.widget-view+json": {
       "model_id": "6a954df42cc84d3c8d6a645e2e453b27",
       "version_major": 2,
       "version_minor": 0
      },
      "text/plain": [
       "Analyzing comments:   0%|          | 0/3 [00:00<?, ?comment/s]"
      ]
     },
     "metadata": {},
     "output_type": "display_data"
    },
    {
     "data": {
      "application/vnd.jupyter.widget-view+json": {
       "model_id": "7c8c116d13f54e6b8b05f980e8af36d4",
       "version_major": 2,
       "version_minor": 0
      },
      "text/plain": [
       "Analyzing comments:   0%|          | 0/34 [00:00<?, ?comment/s]"
      ]
     },
     "metadata": {},
     "output_type": "display_data"
    },
    {
     "data": {
      "application/vnd.jupyter.widget-view+json": {
       "model_id": "b400ccefc169433eae641b0a816d8dbe",
       "version_major": 2,
       "version_minor": 0
      },
      "text/plain": [
       "Analyzing comments:   0%|          | 0/31 [00:00<?, ?comment/s]"
      ]
     },
     "metadata": {},
     "output_type": "display_data"
    },
    {
     "data": {
      "application/vnd.jupyter.widget-view+json": {
       "model_id": "327e3125af23468aaa811d6098856d6b",
       "version_major": 2,
       "version_minor": 0
      },
      "text/plain": [
       "Analyzing comments:   0%|          | 0/34 [00:00<?, ?comment/s]"
      ]
     },
     "metadata": {},
     "output_type": "display_data"
    },
    {
     "data": {
      "application/vnd.jupyter.widget-view+json": {
       "model_id": "70b991593939468db9e8f46cd34dda71",
       "version_major": 2,
       "version_minor": 0
      },
      "text/plain": [
       "Analyzing comments:   0%|          | 0/24 [00:00<?, ?comment/s]"
      ]
     },
     "metadata": {},
     "output_type": "display_data"
    },
    {
     "data": {
      "application/vnd.jupyter.widget-view+json": {
       "model_id": "317144ec4ff44fe781d66f021f6e3eb8",
       "version_major": 2,
       "version_minor": 0
      },
      "text/plain": [
       "Analyzing comments:   0%|          | 0/5 [00:00<?, ?comment/s]"
      ]
     },
     "metadata": {},
     "output_type": "display_data"
    },
    {
     "data": {
      "application/vnd.jupyter.widget-view+json": {
       "model_id": "d197c5e623f9450297c825e711ef699d",
       "version_major": 2,
       "version_minor": 0
      },
      "text/plain": [
       "Analyzing comments:   0%|          | 0/38 [00:00<?, ?comment/s]"
      ]
     },
     "metadata": {},
     "output_type": "display_data"
    },
    {
     "data": {
      "application/vnd.jupyter.widget-view+json": {
       "model_id": "d69c5371b02846cd9b5321cbe8cb7648",
       "version_major": 2,
       "version_minor": 0
      },
      "text/plain": [
       "Analyzing comments:   0%|          | 0/39 [00:00<?, ?comment/s]"
      ]
     },
     "metadata": {},
     "output_type": "display_data"
    },
    {
     "data": {
      "application/vnd.jupyter.widget-view+json": {
       "model_id": "82a300955b0b4f529ec08f72bd70695a",
       "version_major": 2,
       "version_minor": 0
      },
      "text/plain": [
       "Analyzing comments:   0%|          | 0/39 [00:00<?, ?comment/s]"
      ]
     },
     "metadata": {},
     "output_type": "display_data"
    },
    {
     "data": {
      "application/vnd.jupyter.widget-view+json": {
       "model_id": "aff6c4a871ae40d99d6d39568af721ac",
       "version_major": 2,
       "version_minor": 0
      },
      "text/plain": [
       "Analyzing comments:   0%|          | 0/16 [00:00<?, ?comment/s]"
      ]
     },
     "metadata": {},
     "output_type": "display_data"
    },
    {
     "data": {
      "application/vnd.jupyter.widget-view+json": {
       "model_id": "87fe2d9b454144178254115975d0504e",
       "version_major": 2,
       "version_minor": 0
      },
      "text/plain": [
       "Analyzing comments:   0%|          | 0/1 [00:00<?, ?comment/s]"
      ]
     },
     "metadata": {},
     "output_type": "display_data"
    },
    {
     "data": {
      "application/vnd.jupyter.widget-view+json": {
       "model_id": "0f5f9482c11648068be8e4f8c50e9dd4",
       "version_major": 2,
       "version_minor": 0
      },
      "text/plain": [
       "Analyzing comments:   0%|          | 0/13 [00:00<?, ?comment/s]"
      ]
     },
     "metadata": {},
     "output_type": "display_data"
    },
    {
     "data": {
      "application/vnd.jupyter.widget-view+json": {
       "model_id": "bf04a413743b42d88d18a25c905f00b6",
       "version_major": 2,
       "version_minor": 0
      },
      "text/plain": [
       "Analyzing comments:   0%|          | 0/32 [00:00<?, ?comment/s]"
      ]
     },
     "metadata": {},
     "output_type": "display_data"
    },
    {
     "data": {
      "application/vnd.jupyter.widget-view+json": {
       "model_id": "1bfe0b82491441c7bbc4e69030a8b981",
       "version_major": 2,
       "version_minor": 0
      },
      "text/plain": [
       "Analyzing comments:   0%|          | 0/39 [00:00<?, ?comment/s]"
      ]
     },
     "metadata": {},
     "output_type": "display_data"
    },
    {
     "data": {
      "application/vnd.jupyter.widget-view+json": {
       "model_id": "0d9c3d5992b64037b9d95911342e9265",
       "version_major": 2,
       "version_minor": 0
      },
      "text/plain": [
       "Analyzing comments:   0%|          | 0/38 [00:00<?, ?comment/s]"
      ]
     },
     "metadata": {},
     "output_type": "display_data"
    },
    {
     "data": {
      "application/vnd.jupyter.widget-view+json": {
       "model_id": "82c39c71608d4367a583e7f178fed611",
       "version_major": 2,
       "version_minor": 0
      },
      "text/plain": [
       "Analyzing comments:   0%|          | 0/37 [00:00<?, ?comment/s]"
      ]
     },
     "metadata": {},
     "output_type": "display_data"
    },
    {
     "data": {
      "application/vnd.jupyter.widget-view+json": {
       "model_id": "b0ed08f69eec4835ac33ed62b86c04ac",
       "version_major": 2,
       "version_minor": 0
      },
      "text/plain": [
       "Analyzing comments:   0%|          | 0/10 [00:00<?, ?comment/s]"
      ]
     },
     "metadata": {},
     "output_type": "display_data"
    },
    {
     "data": {
      "application/vnd.jupyter.widget-view+json": {
       "model_id": "94c95456599a49b9b0c65b5f80a5b14f",
       "version_major": 2,
       "version_minor": 0
      },
      "text/plain": [
       "Analyzing comments:   0%|          | 0/39 [00:00<?, ?comment/s]"
      ]
     },
     "metadata": {},
     "output_type": "display_data"
    },
    {
     "data": {
      "application/vnd.jupyter.widget-view+json": {
       "model_id": "eef4c8b90ed5487c9d614f44a3a96ee0",
       "version_major": 2,
       "version_minor": 0
      },
      "text/plain": [
       "Analyzing comments:   0%|          | 0/34 [00:00<?, ?comment/s]"
      ]
     },
     "metadata": {},
     "output_type": "display_data"
    },
    {
     "data": {
      "application/vnd.jupyter.widget-view+json": {
       "model_id": "f7151b02f1d642deb4df0aae06eb909a",
       "version_major": 2,
       "version_minor": 0
      },
      "text/plain": [
       "Analyzing comments:   0%|          | 0/9 [00:00<?, ?comment/s]"
      ]
     },
     "metadata": {},
     "output_type": "display_data"
    },
    {
     "data": {
      "application/vnd.jupyter.widget-view+json": {
       "model_id": "cf3a3ed4dfec443c8fc462719ff59fec",
       "version_major": 2,
       "version_minor": 0
      },
      "text/plain": [
       "Analyzing comments:   0%|          | 0/5 [00:00<?, ?comment/s]"
      ]
     },
     "metadata": {},
     "output_type": "display_data"
    },
    {
     "data": {
      "application/vnd.jupyter.widget-view+json": {
       "model_id": "f943d58fb6d84b62ab01fe2152367cca",
       "version_major": 2,
       "version_minor": 0
      },
      "text/plain": [
       "Analyzing comments:   0%|          | 0/41 [00:00<?, ?comment/s]"
      ]
     },
     "metadata": {},
     "output_type": "display_data"
    },
    {
     "data": {
      "application/vnd.jupyter.widget-view+json": {
       "model_id": "776d8e6fd8794684b8c075255146e477",
       "version_major": 2,
       "version_minor": 0
      },
      "text/plain": [
       "Analyzing comments:   0%|          | 0/40 [00:00<?, ?comment/s]"
      ]
     },
     "metadata": {},
     "output_type": "display_data"
    },
    {
     "data": {
      "application/vnd.jupyter.widget-view+json": {
       "model_id": "8de0094531de4d7abcf76f4877c88236",
       "version_major": 2,
       "version_minor": 0
      },
      "text/plain": [
       "Analyzing comments:   0%|          | 0/1 [00:00<?, ?comment/s]"
      ]
     },
     "metadata": {},
     "output_type": "display_data"
    },
    {
     "data": {
      "application/vnd.jupyter.widget-view+json": {
       "model_id": "ec21c08137fd4b54bbeb8896db044612",
       "version_major": 2,
       "version_minor": 0
      },
      "text/plain": [
       "Analyzing comments:   0%|          | 0/36 [00:00<?, ?comment/s]"
      ]
     },
     "metadata": {},
     "output_type": "display_data"
    },
    {
     "data": {
      "application/vnd.jupyter.widget-view+json": {
       "model_id": "44739e62467b4ecaa0085a19e06d9ec1",
       "version_major": 2,
       "version_minor": 0
      },
      "text/plain": [
       "Analyzing comments:   0%|          | 0/5 [00:00<?, ?comment/s]"
      ]
     },
     "metadata": {},
     "output_type": "display_data"
    },
    {
     "data": {
      "application/vnd.jupyter.widget-view+json": {
       "model_id": "1b1331a60b2e4b0aa294e517348dd43d",
       "version_major": 2,
       "version_minor": 0
      },
      "text/plain": [
       "Analyzing comments:   0%|          | 0/37 [00:00<?, ?comment/s]"
      ]
     },
     "metadata": {},
     "output_type": "display_data"
    },
    {
     "data": {
      "application/vnd.jupyter.widget-view+json": {
       "model_id": "2c7e8efd8bbd40dabbc58c9b7c9614db",
       "version_major": 2,
       "version_minor": 0
      },
      "text/plain": [
       "Analyzing comments:   0%|          | 0/4 [00:00<?, ?comment/s]"
      ]
     },
     "metadata": {},
     "output_type": "display_data"
    },
    {
     "data": {
      "application/vnd.jupyter.widget-view+json": {
       "model_id": "f255c59dbc2444c4bfc5c6e6948d8a69",
       "version_major": 2,
       "version_minor": 0
      },
      "text/plain": [
       "Analyzing comments: 0comment [00:00, ?comment/s]"
      ]
     },
     "metadata": {},
     "output_type": "display_data"
    },
    {
     "data": {
      "application/vnd.jupyter.widget-view+json": {
       "model_id": "d46ae70d4ddc473dbbb52131e4548510",
       "version_major": 2,
       "version_minor": 0
      },
      "text/plain": [
       "Analyzing comments:   0%|          | 0/29 [00:00<?, ?comment/s]"
      ]
     },
     "metadata": {},
     "output_type": "display_data"
    },
    {
     "data": {
      "application/vnd.jupyter.widget-view+json": {
       "model_id": "ad9eb6ea5d0a42648b96efa2d93b2948",
       "version_major": 2,
       "version_minor": 0
      },
      "text/plain": [
       "Analyzing comments:   0%|          | 0/4 [00:00<?, ?comment/s]"
      ]
     },
     "metadata": {},
     "output_type": "display_data"
    },
    {
     "data": {
      "application/vnd.jupyter.widget-view+json": {
       "model_id": "c0d14a06c44745d2ba0c5b8e38819f5d",
       "version_major": 2,
       "version_minor": 0
      },
      "text/plain": [
       "Analyzing comments:   0%|          | 0/19 [00:00<?, ?comment/s]"
      ]
     },
     "metadata": {},
     "output_type": "display_data"
    },
    {
     "data": {
      "application/vnd.jupyter.widget-view+json": {
       "model_id": "3437f347d8b543628f2504fe0a4c3a58",
       "version_major": 2,
       "version_minor": 0
      },
      "text/plain": [
       "Analyzing comments:   0%|          | 0/18 [00:00<?, ?comment/s]"
      ]
     },
     "metadata": {},
     "output_type": "display_data"
    },
    {
     "data": {
      "application/vnd.jupyter.widget-view+json": {
       "model_id": "03baa4361b3b45809f8a21398e575eb2",
       "version_major": 2,
       "version_minor": 0
      },
      "text/plain": [
       "Analyzing comments:   0%|          | 0/20 [00:00<?, ?comment/s]"
      ]
     },
     "metadata": {},
     "output_type": "display_data"
    },
    {
     "data": {
      "application/vnd.jupyter.widget-view+json": {
       "model_id": "a709d6306c7b476fb90c0966b626c5f2",
       "version_major": 2,
       "version_minor": 0
      },
      "text/plain": [
       "Analyzing comments:   0%|          | 0/3 [00:00<?, ?comment/s]"
      ]
     },
     "metadata": {},
     "output_type": "display_data"
    },
    {
     "data": {
      "application/vnd.jupyter.widget-view+json": {
       "model_id": "2d1bf2ce9720407fa28cde4037f476a9",
       "version_major": 2,
       "version_minor": 0
      },
      "text/plain": [
       "Analyzing comments:   0%|          | 0/20 [00:00<?, ?comment/s]"
      ]
     },
     "metadata": {},
     "output_type": "display_data"
    },
    {
     "data": {
      "application/vnd.jupyter.widget-view+json": {
       "model_id": "7dfb075555cf491793cc1d420b298559",
       "version_major": 2,
       "version_minor": 0
      },
      "text/plain": [
       "Analyzing comments:   0%|          | 0/12 [00:00<?, ?comment/s]"
      ]
     },
     "metadata": {},
     "output_type": "display_data"
    },
    {
     "data": {
      "application/vnd.jupyter.widget-view+json": {
       "model_id": "f208f68b332e4566ab691d53468b2404",
       "version_major": 2,
       "version_minor": 0
      },
      "text/plain": [
       "Analyzing comments:   0%|          | 0/21 [00:00<?, ?comment/s]"
      ]
     },
     "metadata": {},
     "output_type": "display_data"
    },
    {
     "data": {
      "application/vnd.jupyter.widget-view+json": {
       "model_id": "70f55544999e45dbbdddba770961a0ca",
       "version_major": 2,
       "version_minor": 0
      },
      "text/plain": [
       "Analyzing comments:   0%|          | 0/18 [00:00<?, ?comment/s]"
      ]
     },
     "metadata": {},
     "output_type": "display_data"
    },
    {
     "data": {
      "application/vnd.jupyter.widget-view+json": {
       "model_id": "6208dee2a4694f26a3ed818e15a4aea2",
       "version_major": 2,
       "version_minor": 0
      },
      "text/plain": [
       "Analyzing comments:   0%|          | 0/2 [00:00<?, ?comment/s]"
      ]
     },
     "metadata": {},
     "output_type": "display_data"
    },
    {
     "data": {
      "application/vnd.jupyter.widget-view+json": {
       "model_id": "df57c6da945e488988c733206fcec47c",
       "version_major": 2,
       "version_minor": 0
      },
      "text/plain": [
       "Analyzing comments:   0%|          | 0/24 [00:00<?, ?comment/s]"
      ]
     },
     "metadata": {},
     "output_type": "display_data"
    },
    {
     "data": {
      "application/vnd.jupyter.widget-view+json": {
       "model_id": "025b6e7c48f544398112c46a2e90c488",
       "version_major": 2,
       "version_minor": 0
      },
      "text/plain": [
       "Analyzing comments:   0%|          | 0/22 [00:00<?, ?comment/s]"
      ]
     },
     "metadata": {},
     "output_type": "display_data"
    },
    {
     "data": {
      "application/vnd.jupyter.widget-view+json": {
       "model_id": "c2cc3884df8f4cba97100450f78189bf",
       "version_major": 2,
       "version_minor": 0
      },
      "text/plain": [
       "Analyzing comments:   0%|          | 0/23 [00:00<?, ?comment/s]"
      ]
     },
     "metadata": {},
     "output_type": "display_data"
    },
    {
     "data": {
      "application/vnd.jupyter.widget-view+json": {
       "model_id": "68a6bf7a340343f588cf0fe62d240ea2",
       "version_major": 2,
       "version_minor": 0
      },
      "text/plain": [
       "Analyzing comments:   0%|          | 0/20 [00:00<?, ?comment/s]"
      ]
     },
     "metadata": {},
     "output_type": "display_data"
    },
    {
     "data": {
      "application/vnd.jupyter.widget-view+json": {
       "model_id": "add0f98d08c143d4b52188df378d0104",
       "version_major": 2,
       "version_minor": 0
      },
      "text/plain": [
       "Analyzing comments:   0%|          | 0/1 [00:00<?, ?comment/s]"
      ]
     },
     "metadata": {},
     "output_type": "display_data"
    },
    {
     "data": {
      "application/vnd.jupyter.widget-view+json": {
       "model_id": "fd82124b7161432682377afe2e436eb5",
       "version_major": 2,
       "version_minor": 0
      },
      "text/plain": [
       "Analyzing comments:   0%|          | 0/18 [00:00<?, ?comment/s]"
      ]
     },
     "metadata": {},
     "output_type": "display_data"
    },
    {
     "data": {
      "application/vnd.jupyter.widget-view+json": {
       "model_id": "07425a736aac4300a3af018261b580f5",
       "version_major": 2,
       "version_minor": 0
      },
      "text/plain": [
       "Analyzing comments: 0comment [00:00, ?comment/s]"
      ]
     },
     "metadata": {},
     "output_type": "display_data"
    },
    {
     "data": {
      "application/vnd.jupyter.widget-view+json": {
       "model_id": "e5f268f387a34301b9138efd4383b7b6",
       "version_major": 2,
       "version_minor": 0
      },
      "text/plain": [
       "Analyzing comments:   0%|          | 0/7 [00:00<?, ?comment/s]"
      ]
     },
     "metadata": {},
     "output_type": "display_data"
    },
    {
     "data": {
      "application/vnd.jupyter.widget-view+json": {
       "model_id": "7d220c01ed2d4fb1ba2463e612ae8af1",
       "version_major": 2,
       "version_minor": 0
      },
      "text/plain": [
       "Analyzing comments:   0%|          | 0/20 [00:00<?, ?comment/s]"
      ]
     },
     "metadata": {},
     "output_type": "display_data"
    },
    {
     "data": {
      "application/vnd.jupyter.widget-view+json": {
       "model_id": "c1e2b21fe2a74c6c9c3cc27af04cf1ca",
       "version_major": 2,
       "version_minor": 0
      },
      "text/plain": [
       "Analyzing comments:   0%|          | 0/6 [00:00<?, ?comment/s]"
      ]
     },
     "metadata": {},
     "output_type": "display_data"
    },
    {
     "data": {
      "application/vnd.jupyter.widget-view+json": {
       "model_id": "1f2fb6762d334481be3a2e2e6c7ab735",
       "version_major": 2,
       "version_minor": 0
      },
      "text/plain": [
       "Analyzing comments:   0%|          | 0/18 [00:00<?, ?comment/s]"
      ]
     },
     "metadata": {},
     "output_type": "display_data"
    },
    {
     "data": {
      "application/vnd.jupyter.widget-view+json": {
       "model_id": "51d7fc4859e04e0b9845eb32152bc842",
       "version_major": 2,
       "version_minor": 0
      },
      "text/plain": [
       "Analyzing comments:   0%|          | 0/28 [00:00<?, ?comment/s]"
      ]
     },
     "metadata": {},
     "output_type": "display_data"
    },
    {
     "data": {
      "application/vnd.jupyter.widget-view+json": {
       "model_id": "10fc5b862d61468090278b08897cddd6",
       "version_major": 2,
       "version_minor": 0
      },
      "text/plain": [
       "Analyzing comments:   0%|          | 0/3 [00:00<?, ?comment/s]"
      ]
     },
     "metadata": {},
     "output_type": "display_data"
    },
    {
     "data": {
      "application/vnd.jupyter.widget-view+json": {
       "model_id": "7442949e1e7c40f7bed6d0c001b34e16",
       "version_major": 2,
       "version_minor": 0
      },
      "text/plain": [
       "Analyzing comments:   0%|          | 0/11 [00:00<?, ?comment/s]"
      ]
     },
     "metadata": {},
     "output_type": "display_data"
    },
    {
     "data": {
      "application/vnd.jupyter.widget-view+json": {
       "model_id": "f05263cf091e440ab156c69444085b6c",
       "version_major": 2,
       "version_minor": 0
      },
      "text/plain": [
       "Analyzing comments:   0%|          | 0/19 [00:00<?, ?comment/s]"
      ]
     },
     "metadata": {},
     "output_type": "display_data"
    },
    {
     "data": {
      "application/vnd.jupyter.widget-view+json": {
       "model_id": "eb78d4471ee44ff5b109ae88f881d3a1",
       "version_major": 2,
       "version_minor": 0
      },
      "text/plain": [
       "Analyzing comments:   0%|          | 0/11 [00:00<?, ?comment/s]"
      ]
     },
     "metadata": {},
     "output_type": "display_data"
    },
    {
     "data": {
      "application/vnd.jupyter.widget-view+json": {
       "model_id": "010d0015acc64bd7a855a0b6f24ca2b6",
       "version_major": 2,
       "version_minor": 0
      },
      "text/plain": [
       "Analyzing comments:   0%|          | 0/6 [00:00<?, ?comment/s]"
      ]
     },
     "metadata": {},
     "output_type": "display_data"
    },
    {
     "data": {
      "application/vnd.jupyter.widget-view+json": {
       "model_id": "0943e53a653845d08c66e639a8e81139",
       "version_major": 2,
       "version_minor": 0
      },
      "text/plain": [
       "Analyzing comments:   0%|          | 0/20 [00:00<?, ?comment/s]"
      ]
     },
     "metadata": {},
     "output_type": "display_data"
    },
    {
     "data": {
      "application/vnd.jupyter.widget-view+json": {
       "model_id": "5d1a2a2f216c4035af1c31482e50ef88",
       "version_major": 2,
       "version_minor": 0
      },
      "text/plain": [
       "Analyzing comments:   0%|          | 0/20 [00:00<?, ?comment/s]"
      ]
     },
     "metadata": {},
     "output_type": "display_data"
    },
    {
     "data": {
      "application/vnd.jupyter.widget-view+json": {
       "model_id": "cd5f8fa006a3472fa3842535536f62af",
       "version_major": 2,
       "version_minor": 0
      },
      "text/plain": [
       "Analyzing comments:   0%|          | 0/14 [00:00<?, ?comment/s]"
      ]
     },
     "metadata": {},
     "output_type": "display_data"
    },
    {
     "data": {
      "application/vnd.jupyter.widget-view+json": {
       "model_id": "5a10723a6c684d1fa452392e0908fe55",
       "version_major": 2,
       "version_minor": 0
      },
      "text/plain": [
       "Analyzing comments:   0%|          | 0/5 [00:00<?, ?comment/s]"
      ]
     },
     "metadata": {},
     "output_type": "display_data"
    },
    {
     "data": {
      "application/vnd.jupyter.widget-view+json": {
       "model_id": "8ec20b8a688648a6871ebe9f2201a09d",
       "version_major": 2,
       "version_minor": 0
      },
      "text/plain": [
       "Analyzing comments:   0%|          | 0/20 [00:00<?, ?comment/s]"
      ]
     },
     "metadata": {},
     "output_type": "display_data"
    },
    {
     "data": {
      "application/vnd.jupyter.widget-view+json": {
       "model_id": "fb22117ba42446b0b92d93d9013bdfa8",
       "version_major": 2,
       "version_minor": 0
      },
      "text/plain": [
       "Analyzing comments:   0%|          | 0/19 [00:00<?, ?comment/s]"
      ]
     },
     "metadata": {},
     "output_type": "display_data"
    },
    {
     "data": {
      "application/vnd.jupyter.widget-view+json": {
       "model_id": "c6441300392b49ab87c3df99ff71ab29",
       "version_major": 2,
       "version_minor": 0
      },
      "text/plain": [
       "Analyzing comments:   0%|          | 0/14 [00:00<?, ?comment/s]"
      ]
     },
     "metadata": {},
     "output_type": "display_data"
    },
    {
     "data": {
      "application/vnd.jupyter.widget-view+json": {
       "model_id": "2c99a74b346f48af8429febf0e159a4a",
       "version_major": 2,
       "version_minor": 0
      },
      "text/plain": [
       "Analyzing comments:   0%|          | 0/1 [00:00<?, ?comment/s]"
      ]
     },
     "metadata": {},
     "output_type": "display_data"
    }
   ],
   "source": [
    "analysis = df_tiktok.progress_apply(\n",
    "    lambda row: process_analysis_tiktok(row, model_analyzer), axis=1\n",
    ")\n",
    "\n",
    "df_tiktok[\"analysis\"] = analysis\n",
    "df_tiktok.to_excel(\"../data/append_tik_tok_analysis.xlsx\", index=False)"
   ]
  }
 ],
 "metadata": {
  "kernelspec": {
   "display_name": "torch",
   "language": "python",
   "name": "python3"
  },
  "language_info": {
   "codemirror_mode": {
    "name": "ipython",
    "version": 3
   },
   "file_extension": ".py",
   "mimetype": "text/x-python",
   "name": "python",
   "nbconvert_exporter": "python",
   "pygments_lexer": "ipython3",
   "version": "3.11.11"
  }
 },
 "nbformat": 4,
 "nbformat_minor": 2
}
